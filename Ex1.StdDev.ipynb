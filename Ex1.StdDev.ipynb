{
 "cells": [
  {
   "cell_type": "markdown",
   "id": "42142d60",
   "metadata": {},
   "source": [
    "<img src=\"https://www.th-koeln.de/img/logo.svg\" style=\"float:right;\" width=\"200\">"
   ]
  },
  {
   "cell_type": "markdown",
   "id": "756ba942",
   "metadata": {},
   "source": [
    "# 1st exercise: <font color=\"#C70039\">Work with standard deviations for anomaly detection</font>\n",
    "* Course: AML\n",
    "* Lecturer: <a href=\"https://www.gernotheisenberg.de/\">Gernot Heisenberg</a>\n",
    "* Author of notebook: <a href=\"https://www.gernotheisenberg.de/\">Gernot Heisenberg</a>\n",
    "* Date:   23.10.2023\n",
    "* Student: Max Hammer\n",
    "* Immatriculation ID: 11153562\n",
    "\n",
    "<img src=\"https://upload.wikimedia.org/wikipedia/commons/thumb/8/8c/Standard_deviation_diagram.svg/1200px-Standard_deviation_diagram.svg.png\" style=\"float: center;\" width=\"450\">\n",
    "\n",
    "---------------------------------\n",
    "**GENERAL NOTE 1**: \n",
    "Please make sure you are reading the entire notebook, since it contains a lot of information on your tasks (e.g. regarding the set of certain paramaters or a specific computational trick), and the written mark downs as well as comments contain a lot of information on how things work together as a whole. \n",
    "\n",
    "**GENERAL NOTE 2**: \n",
    "* Please, when commenting source code, just use English language only. \n",
    "* When describing an observation please use English language, too\n",
    "* This applies to all exercises throughout this course.  \n",
    "\n",
    "---------------------\n",
    "\n",
    "### <font color=\"ce33ff\">DESCRIPTION</font>:\n",
    "This notebook allows you for getting into standard deviations as a common technique to detect anomalies when the data is normally distributed. \n",
    "\n",
    "-------------------------------------------------------------------------------------------------------------\n",
    "\n",
    "### <font color=\"FFC300\">TASKS</font>:\n",
    "The tasks that you need to work on within this notebook are always indicated below as bullet points. \n",
    "If a task is more challenging and consists of several steps, this is indicated as well. \n",
    "Make sure you have worked down the task list and commented your doings. \n",
    "This should be done by using markdown.<br> \n",
    "<font color=red>Make sure you don't forget to specify your name and your matriculation number in the notebook.</font>\n",
    "\n",
    "**YOUR TASKS in this exercise are as follows**:\n",
    "1. import the notebook to Google Colab or use your local machine.\n",
    "2. make sure you specified you name and your matriculation number in the header below my name and date. \n",
    "    * set the date too and remove mine.\n",
    "3. read the entire notebook carefully \n",
    "    * add comments whereever you feel it necessary for better understanding\n",
    "    * run the notebook for the first time.\n",
    "    * understand the output\n",
    "4. go and find three different data sets on the web \n",
    "    * kaggle.com might be a good source (they also offer an API for data download)\n",
    "    * make sure two of the three data sets are normally distributed\n",
    "    * download one data set that is not normally distributed\n",
    "5. visualize the data\n",
    "6. compute the anomalies\n",
    "7. visualize the anomalies\n",
    "8. does the 0,3% rule apply?\n",
    "9. what are differences between the normally distributed and the non-normally distributed data sets with respect to the outlier detection? \n",
    "10. which statement can be made and which cannot? \n",
    "-----------------------------------------------------------------------------------"
   ]
  },
  {
   "cell_type": "code",
   "execution_count": 19,
   "id": "3c30b564",
   "metadata": {
    "tags": []
   },
   "outputs": [],
   "source": [
    "import pandas as pd\n",
    "import numpy as np\n",
    "import matplotlib.pyplot as plt\n",
    "from numpy.random import randn\n",
    "np.random.seed(1)"
   ]
  },
  {
   "cell_type": "code",
   "execution_count": 20,
   "id": "84567403",
   "metadata": {
    "tags": []
   },
   "outputs": [],
   "source": [
    "# Function to Detection Outlier on one-dimentional datasets.\n",
    "def find_anomalies(random_data):\n",
    "    #define a list to accumlate anomalies\n",
    "    anomalies = []\n",
    "    \n",
    "    # Set upper and lower limit to 3 standard deviation\n",
    "    random_data_std = np.std(random_data)\n",
    "    random_data_mean = np.mean(random_data)\n",
    "    anomaly_cut_off = random_data_std * 3\n",
    "    \n",
    "    lower_limit  = random_data_mean - anomaly_cut_off \n",
    "    upper_limit = random_data_mean + anomaly_cut_off\n",
    "    \n",
    "    print(\"lower limit=\", round(lower_limit,8))\n",
    "    print(\"upper limit=\", round(upper_limit,8))\n",
    "    \n",
    "    # Generate outliers list\n",
    "    for outlier in random_data:\n",
    "        if outlier > upper_limit or outlier < lower_limit:\n",
    "            anomalies.append(outlier)\n",
    "    \n",
    "    return anomalies"
   ]
  },
  {
   "cell_type": "code",
   "execution_count": 21,
   "id": "0ea28b74",
   "metadata": {
    "tags": []
   },
   "outputs": [],
   "source": [
    "# multiply and add by random numbers to get some real values\n",
    "# randn generates samples from the normal distribution (important - see below)\n",
    "data = np.random.randn(50000)  * 20 + 20"
   ]
  },
  {
   "cell_type": "code",
   "execution_count": 22,
   "id": "d5cbe6cc",
   "metadata": {
    "tags": []
   },
   "outputs": [
    {
     "name": "stdout",
     "output_type": "stream",
     "text": [
      "lower limit= -39.96482266\n",
      "upper limit= 80.11636225\n"
     ]
    }
   ],
   "source": [
    "anomalies = find_anomalies(data)"
   ]
  },
  {
   "cell_type": "markdown",
   "id": "f84c895a",
   "metadata": {},
   "source": [
    "## Result\n",
    "These anomalies are exceeding the lower and upper 3rd scatter range.\n",
    "Thus, statistically spoken, they do belong to a population size of less than 0,3% of the entire data set! \n",
    "For sure, the above conclusion is true if and only if the data is normally distributed!\n"
   ]
  },
  {
   "cell_type": "code",
   "execution_count": 23,
   "id": "17cf3b07",
   "metadata": {},
   "outputs": [
    {
     "name": "stdout",
     "output_type": "stream",
     "text": [
      "[80.61714224744061, 99.17205408075927, 86.4215751234073, -41.0752876085261, -43.06714900382097, -40.32063970418597, 88.65326863591119, -41.28282712210201, 94.80497807409178, 82.70094680175814, 84.76686393504752, -45.06068469953237, 82.64059456281011, 80.25509136474466, -43.81232693648161, -45.21230191553079, 88.08604551497943, 82.369591815651, 85.9708104656157, 82.97968050439259, -45.8971681339703, -41.11266480828613, 100.53698089094755, -44.38264211247683, 82.23783662033449, 92.26554014166295, 87.96231313004853, 91.21746641411097, -53.128801985095905, -45.641575926212354, 91.21225295344836, -43.46923274683489, 82.13498657145581, 82.90737927394908, -46.216851244091984, -41.9565310384887, -45.6065519410858, 80.5243698860871, -43.30420249353775, -42.25263324372853, 81.59215546151304, 103.36235355910189, 96.68762041821407, -40.586879558462776, -48.71851620008829, -45.18412137279293, 81.54158108441533, 84.5587224070789, -40.7688517191754, -44.08128900692253, -42.043297873881315, 87.71430311862296, 88.9391203157937, -40.52113314693459, -49.02805812510347, 86.72050502651298, -44.452278374625166, -58.55028132123577, 87.83885146048503, -41.810065776968784, -42.38237155225082, 91.19937116220078, 93.19531683513023, -41.0172829464469, 82.94710559091223, 86.8410257826826, -47.358945718270846, -47.27471768342224, -44.05283959700523, 81.39224116690686, -64.66329594864382, -41.91924535511986, 86.98293402121955, -42.78324538163221, -43.44070544512959, 83.14254869231635, 80.29722046012112, 80.97664481662183, -49.135306899574985, 90.95359817188209, 85.7504914101956, 90.63353726783707, -52.25624570621119, -48.427273980448774, 92.45148786479089, -40.60136533430394, 90.66197938200516, -40.652000332079666, 85.47272253055641, -40.59878231029168, -53.957837173283735, -40.80036485428288, 82.4740392321337, 82.69560613707037, -46.18148126636443, 86.9908487614501, 80.1457297060347, 82.24721888631221, -45.832275955612076, 84.176266941649, 84.4193809675114, -48.12080165824392, -47.66016305888587, 83.03299706691035, -46.34572895708007, -43.94127801481702, -44.888893484963376, 82.73490952329395, 83.57335544403156, 80.7727413101268, -52.50413207267792, -49.69745467233162, 80.22051938742219, -61.76977168084022, -41.57467213920625, -58.86284640187061, -51.197383857166216, -56.11928395638613, -48.85042290718998, -52.64159591899764, -40.858015925037485, 90.00512514161373, -44.150803760611865, 81.0757508416524, 88.42082610751223, -48.97515466922074, -41.87410601743178, 81.91272478059072, 84.69303765209298, -40.93984641793596, -52.615615036883995, -49.39834453038375, 84.48319182306491, 80.41393381216217, 89.04319371214211, 83.11545348720793, 86.3948526034166, -54.34260433053814, -53.884089553553295, -60.83360878272147, -45.502951473453436, -42.84117089742673]\n"
     ]
    }
   ],
   "source": [
    "print(anomalies)"
   ]
  },
  {
   "cell_type": "markdown",
   "id": "5c257683",
   "metadata": {},
   "source": [
    "# Exercise Solution\n",
    "Datasets that will be used are:\n",
    "* [Iris](https://www.kaggle.com/uciml/iris)\n",
    "* [Wine](https://www.kaggle.com/uciml/red-wine-quality-cortez-et-al-2009)\n",
    "* [Company profits](https://www.kaggle.com/datasets/tinasoni/normal-distribution-data)"
   ]
  },
  {
   "cell_type": "code",
   "execution_count": 24,
   "id": "ba0a9bff",
   "metadata": {},
   "outputs": [],
   "source": [
    "# Load data\n",
    "wine_data = pd.read_csv(\"./data/wine/winequality-red.csv\", sep=\",\") # normally-distributed \n",
    "iris_data = pd.read_csv(\"./data/iris/Iris.csv\", sep=\",\") # non-normally distributed\n",
    "profit_data = pd.read_csv(\"./data/company_profits/CompanyABCProfit.csv\", sep=\",\") # normally-distributed\n",
    "\n",
    "def plot_anomalies(data, title):\n",
    "    # Find anomalies\n",
    "    anomalies = find_anomalies(data)\n",
    "\n",
    "    # Set upper and lower limit to 3 standard deviation\n",
    "    random_data_std = np.std(data)\n",
    "    random_data_mean = np.mean(data)\n",
    "    anomaly_cut_off = random_data_std * 3\n",
    "    \n",
    "    lower_limit  = random_data_mean - anomaly_cut_off \n",
    "    upper_limit = random_data_mean + anomaly_cut_off\n",
    "    \n",
    "    print(\"lower limit=\", round(lower_limit,8))\n",
    "    print(\"upper limit=\", round(upper_limit,8))\n",
    "\n",
    "    print(\"Anomalies in data:\", anomalies)\n",
    "\n",
    "    # Plot histogram and color everything outside 3 standard deviations\n",
    "    plt.hist(data, bins=50, color='grey')\n",
    "    plt.title(title)\n",
    "    plt.axvspan(min(data), lower_limit, facecolor='green', alpha=0.5)\n",
    "    plt.axvspan(upper_limit, max(data), facecolor='green', alpha=0.5)\n",
    "    \n",
    "    plt.show()"
   ]
  },
  {
   "cell_type": "code",
   "execution_count": 25,
   "id": "1b338679",
   "metadata": {},
   "outputs": [
    {
     "name": "stdout",
     "output_type": "stream",
     "text": [
      "lower limit= 2.84809865\n",
      "upper limit= 3.77412774\n",
      "lower limit= 2.84809865\n",
      "upper limit= 3.77412774\n",
      "Anomalies in data: [3.9, 3.85, 2.74, 3.9, 3.78, 3.78, 4.01, 4.01]\n"
     ]
    },
    {
     "data": {
      "image/png": "[encoded data removed]",
      "text/plain": [
       "<Figure size 640x480 with 1 Axes>"
      ]
     },
     "metadata": {},
     "output_type": "display_data"
    }
   ],
   "source": [
    "# Wine data\n",
    "\n",
    "# We are going to selec the \"pH\" column for further analysis\n",
    "pH = wine_data['pH']\n",
    "\n",
    "# Looking at the histogram, it seems like the data is not normally distributed\n",
    "plot_anomalies(pH, 'pH content in wine with outliers')"
   ]
  },
  {
   "cell_type": "code",
   "execution_count": 26,
   "id": "6bec1e02",
   "metadata": {},
   "outputs": [
    {
     "name": "stdout",
     "output_type": "stream",
     "text": [
      "lower limit= 1.75756026\n",
      "upper limit= 4.35043974\n",
      "lower limit= 1.75756026\n",
      "upper limit= 4.35043974\n",
      "Anomalies in data: [4.4]\n"
     ]
    },
    {
     "data": {
      "image/png": "[encoded data removed]",
      "text/plain": [
       "<Figure size 640x480 with 1 Axes>"
      ]
     },
     "metadata": {},
     "output_type": "display_data"
    }
   ],
   "source": [
    "# Iris data\n",
    "\n",
    "# We are going to selec the \"PetalLengthCm\" column for further analysis\n",
    "petal_length = iris_data['SepalWidthCm']\n",
    "\n",
    "# Looking at the histogram, it seems like the data is not normally distributed\n",
    "plot_anomalies(petal_length, 'Sepal width  with outliers')"
   ]
  },
  {
   "cell_type": "code",
   "execution_count": 27,
   "id": "3dd8b709",
   "metadata": {},
   "outputs": [
    {
     "name": "stdout",
     "output_type": "stream",
     "text": [
      "lower limit= -438.21262604\n",
      "upper limit= 2482.19262604\n",
      "lower limit= -438.21262604\n",
      "upper limit= 2482.19262604\n",
      "Anomalies in data: []\n"
     ]
    },
    {
     "data": {
      "image/png": "[encoded data removed]",
      "text/plain": [
       "<Figure size 640x480 with 1 Axes>"
      ]
     },
     "metadata": {},
     "output_type": "display_data"
    }
   ],
   "source": [
    "# Company profit data\n",
    "\n",
    "# We are going to selec the \"PetalLengthCm\" column for further analysis\n",
    "profits = profit_data[\"Profit\"]\n",
    "\n",
    "# Looking at the histogram, it seems like the data is not normally distributed\n",
    "plot_anomalies(profits, 'Profits in company profits with outliers')"
   ]
  },
  {
   "cell_type": "markdown",
   "id": "4b922313",
   "metadata": {},
   "source": [
    "### Answers\n",
    "**Does the 0,3% rule apply?**\n",
    "* Wine data: The rule applies and there are anomalies found out of the 3*std range.\n",
    "\n",
    "* Iris data: The rule does not apply and there are no anomalies found out of the 3*std range due to the data not being normally distributed.\n",
    "\n",
    "* Company profit data: The rule applies but there are no anomalies found out of the 3*std range.\n",
    "\n",
    "**What are differences between the normally distributed and the non-normally distributed data sets with respect to the outlier detection?** \n",
    "* The non-normally distributed data set does not have a bell shaped curve and thus the 0,3% rule does not apply.\n",
    "\n",
    "**Which statement can be made and which cannot?**\n",
    "* It can be stated that the 0,3% rule applies only to normally distributed data sets."
   ]
  }
 ],
 "metadata": {
  "kernelspec": {
   "display_name": "Python 3 (ipykernel)",
   "language": "python",
   "name": "python3"
  },
  "language_info": {
   "codemirror_mode": {
    "name": "ipython",
    "version": 3
   },
   "file_extension": ".py",
   "mimetype": "text/x-python",
   "name": "python",
   "nbconvert_exporter": "python",
   "pygments_lexer": "ipython3",
   "version": "3.9.6"
  }
 },
 "nbformat": 4,
 "nbformat_minor": 5
}
