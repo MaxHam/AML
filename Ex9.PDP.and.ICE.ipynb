{
 "cells": [
  {
   "cell_type": "markdown",
   "metadata": {},
   "source": [
    "<img src=\"https://www.th-koeln.de/img/logo.svg\" style=\"float:right;\" width=\"200\">"
   ]
  },
  {
   "cell_type": "markdown",
   "metadata": {},
   "source": [
    "# 9th exercise: <font color=\"#C70039\">Interpretable Machine Learning by means of Partial Dependence (PDP) and Individual Conditional Expectation (ICE) Plots</font>\n",
    "* Course: AML\n",
    "* Lecturer: <a href=\"https://www.gernotheisenberg.de/\">Gernot Heisenberg</a>\n",
    "* Author of notebook: <a href=\"https://www.gernotheisenberg.de/\">Gernot Heisenberg</a>\n",
    "* Date:   03.12.2023\n",
    "* Student: Max Hammer\n",
    "* Immatriculation ID: 11153562\n",
    "\n",
    "<img src=\"https://scikit-learn.org/stable/_images/sphx_glr_plot_partial_dependence_003.png\" style=\"float: center;\" width=\"800\">\n",
    "\n",
    "---------------------------------\n",
    "**GENERAL NOTE 1**: \n",
    "Please make sure you are reading the entire notebook, since it contains a lot of information on your tasks (e.g. regarding the set of certain paramaters or a specific computational trick), and the written mark downs as well as comments contain a lot of information on how things work together as a whole. \n",
    "\n",
    "**GENERAL NOTE 2**: \n",
    "* Please, when commenting source code, just use English language only. \n",
    "* When describing an observation please use English language, too.\n",
    "* This applies to all exercises throughout this course.\n",
    "\n",
    "---------------------------------\n",
    "\n",
    "### <font color=\"ce33ff\">DESCRIPTION</font>:\n",
    "\n",
    "Partial dependence plots (PDP) and individual conditional expectation (ICE) plots can be used to visualize and analyze the interaction between the target response and a set of input features of interest.\n",
    "Both PDPs [H2009] and ICEs [G2015] assume that the input features of interest are independent from the complement features and this assumption is often violated in practice. Thus, in the case of correlated features, we will create absurd data points to compute the PDP/ICE.\n",
    "\n",
    "[H2009]\n",
    "T. Hastie, R. Tibshirani and J. Friedman, The Elements of Statistical Learning, Second Edition, Section 10.13.2, Springer, 2009.\n",
    "\n",
    "[G2015]\n",
    "A. Goldstein, A. Kapelner, J. Bleich, and E. Pitkin, “Peeking Inside the Black Box: Visualizing Statistical Learning With Plots of Individual Conditional Expectation” Journal of Computational and Graphical Statistics, 24(1): 44-65, Springer, 2015.\n",
    "\n",
    "---------------------------------\n",
    "\n",
    "### <font color=\"FFC300\">TASKS</font>:\n",
    "The tasks that you need to work on within this notebook are always indicated below as bullet points. \n",
    "If a task is more challenging and consists of several steps, this is indicated as well. \n",
    "Make sure you have worked down the task list and commented your doings. \n",
    "This should be done by using markdown.<br> \n",
    "<font color=red>Make sure you don't forget to specify your name and your matriculation number in the notebook.</font>\n",
    "\n",
    "**YOUR TASKS in this exercise are as follows**:\n",
    "1. import the notebook to Google Colab or use your local machine.\n",
    "2. make sure you specified you name and your matriculation number in the header below my name and date. \n",
    "    * set the date too and remove mine.\n",
    "3. read the entire notebook carefully \n",
    "    * add comments whereever you feel it necessary for better understanding\n",
    "    * run the notebook for the first time.\n",
    "    * try to follow the interpretations by printing out the decision tree and look for the feature patterns that the PDPs indicate.\n",
    "\n",
    "**PART I**<br>\n",
    "4. download an interesting data set from Kaggle and do the preprocessing.<br>\n",
    "5. change the classifier according to the data set. The more blackbox the better.<br>\n",
    "6. use PDP to identify the most relevant features explaining the target response of the data set.<br> \n",
    "7. comment your entire code and your findings.<br>  \n",
    "\n",
    "**PART II**<br>\n",
    "8. use the data set and the classifer from steps 4 and 5<br>\n",
    "9. plot ICE curves with parameter (kind='both')<br>\n",
    "10. comment your entire code and your findings.<br>  \n",
    "\n",
    "---------------------------------"
   ]
  },
  {
   "cell_type": "markdown",
   "metadata": {
    "tags": []
   },
   "source": [
    "# <font color=\"ce33ff\">PART I (Partial Dependence Plots)</font>"
   ]
  },
  {
   "cell_type": "markdown",
   "metadata": {
    "id": "L1MnrZSd06ED"
   },
   "source": [
    "## Imports\n",
    "Import all necessary python utilities."
   ]
  },
  {
   "cell_type": "code",
   "execution_count": 64,
   "metadata": {},
   "outputs": [],
   "source": [
    "#make sure you take these packages (in colab too)\n",
    "#!pip install matplotlib==3.1.1 scikit-learn==0.23.1 PDPbox==0.2.1"
   ]
  },
  {
   "cell_type": "code",
   "execution_count": 65,
   "metadata": {
    "tags": []
   },
   "outputs": [],
   "source": [
    "import numpy as np\n",
    "import pandas as pd\n",
    "\n",
    "from sklearn.model_selection import train_test_split\n",
    "from sklearn.tree import DecisionTreeClassifier\n",
    "from sklearn.ensemble import RandomForestClassifier\n",
    "\n",
    "from matplotlib import pyplot as plt\n",
    "from pdpbox import pdp, get_example, info_plots\n",
    "\n",
    "#import warnings \n",
    "#warnings.filterwarnings('ignore')"
   ]
  },
  {
   "cell_type": "markdown",
   "metadata": {},
   "source": [
    "## Load data set"
   ]
  },
  {
   "cell_type": "code",
   "execution_count": 66,
   "metadata": {
    "tags": []
   },
   "outputs": [
    {
     "data": {
      "text/html": [
       "<div>\n",
       "<style scoped>\n",
       "    .dataframe tbody tr th:only-of-type {\n",
       "        vertical-align: middle;\n",
       "    }\n",
       "\n",
       "    .dataframe tbody tr th {\n",
       "        vertical-align: top;\n",
       "    }\n",
       "\n",
       "    .dataframe thead th {\n",
       "        text-align: right;\n",
       "    }\n",
       "</style>\n",
       "<table border=\"1\" class=\"dataframe\">\n",
       "  <thead>\n",
       "    <tr style=\"text-align: right;\">\n",
       "      <th></th>\n",
       "      <th>Date</th>\n",
       "      <th>Team</th>\n",
       "      <th>Opponent</th>\n",
       "      <th>Goal Scored</th>\n",
       "      <th>Ball Possession %</th>\n",
       "      <th>Attempts</th>\n",
       "      <th>On-Target</th>\n",
       "      <th>Off-Target</th>\n",
       "      <th>Blocked</th>\n",
       "      <th>Corners</th>\n",
       "      <th>...</th>\n",
       "      <th>Yellow Card</th>\n",
       "      <th>Yellow &amp; Red</th>\n",
       "      <th>Red</th>\n",
       "      <th>Man of the Match</th>\n",
       "      <th>1st Goal</th>\n",
       "      <th>Round</th>\n",
       "      <th>PSO</th>\n",
       "      <th>Goals in PSO</th>\n",
       "      <th>Own goals</th>\n",
       "      <th>Own goal Time</th>\n",
       "    </tr>\n",
       "  </thead>\n",
       "  <tbody>\n",
       "    <tr>\n",
       "      <th>0</th>\n",
       "      <td>14-06-2018</td>\n",
       "      <td>Russia</td>\n",
       "      <td>Saudi Arabia</td>\n",
       "      <td>5</td>\n",
       "      <td>40</td>\n",
       "      <td>13</td>\n",
       "      <td>7</td>\n",
       "      <td>3</td>\n",
       "      <td>3</td>\n",
       "      <td>6</td>\n",
       "      <td>...</td>\n",
       "      <td>0</td>\n",
       "      <td>0</td>\n",
       "      <td>0</td>\n",
       "      <td>Yes</td>\n",
       "      <td>12.0</td>\n",
       "      <td>Group Stage</td>\n",
       "      <td>No</td>\n",
       "      <td>0</td>\n",
       "      <td>NaN</td>\n",
       "      <td>NaN</td>\n",
       "    </tr>\n",
       "    <tr>\n",
       "      <th>1</th>\n",
       "      <td>14-06-2018</td>\n",
       "      <td>Saudi Arabia</td>\n",
       "      <td>Russia</td>\n",
       "      <td>0</td>\n",
       "      <td>60</td>\n",
       "      <td>6</td>\n",
       "      <td>0</td>\n",
       "      <td>3</td>\n",
       "      <td>3</td>\n",
       "      <td>2</td>\n",
       "      <td>...</td>\n",
       "      <td>0</td>\n",
       "      <td>0</td>\n",
       "      <td>0</td>\n",
       "      <td>No</td>\n",
       "      <td>NaN</td>\n",
       "      <td>Group Stage</td>\n",
       "      <td>No</td>\n",
       "      <td>0</td>\n",
       "      <td>NaN</td>\n",
       "      <td>NaN</td>\n",
       "    </tr>\n",
       "    <tr>\n",
       "      <th>2</th>\n",
       "      <td>15-06-2018</td>\n",
       "      <td>Egypt</td>\n",
       "      <td>Uruguay</td>\n",
       "      <td>0</td>\n",
       "      <td>43</td>\n",
       "      <td>8</td>\n",
       "      <td>3</td>\n",
       "      <td>3</td>\n",
       "      <td>2</td>\n",
       "      <td>0</td>\n",
       "      <td>...</td>\n",
       "      <td>2</td>\n",
       "      <td>0</td>\n",
       "      <td>0</td>\n",
       "      <td>No</td>\n",
       "      <td>NaN</td>\n",
       "      <td>Group Stage</td>\n",
       "      <td>No</td>\n",
       "      <td>0</td>\n",
       "      <td>NaN</td>\n",
       "      <td>NaN</td>\n",
       "    </tr>\n",
       "  </tbody>\n",
       "</table>\n",
       "<p>3 rows × 27 columns</p>\n",
       "</div>"
      ],
      "text/plain": [
       "         Date          Team      Opponent  Goal Scored  Ball Possession %  \\\n",
       "0  14-06-2018        Russia  Saudi Arabia            5                 40   \n",
       "1  14-06-2018  Saudi Arabia        Russia            0                 60   \n",
       "2  15-06-2018         Egypt       Uruguay            0                 43   \n",
       "\n",
       "   Attempts  On-Target  Off-Target  Blocked  Corners  ...  Yellow Card  \\\n",
       "0        13          7           3        3        6  ...            0   \n",
       "1         6          0           3        3        2  ...            0   \n",
       "2         8          3           3        2        0  ...            2   \n",
       "\n",
       "   Yellow & Red  Red  Man of the Match  1st Goal        Round  PSO  \\\n",
       "0             0    0               Yes      12.0  Group Stage   No   \n",
       "1             0    0                No       NaN  Group Stage   No   \n",
       "2             0    0                No       NaN  Group Stage   No   \n",
       "\n",
       "   Goals in PSO  Own goals  Own goal Time  \n",
       "0             0        NaN            NaN  \n",
       "1             0        NaN            NaN  \n",
       "2             0        NaN            NaN  \n",
       "\n",
       "[3 rows x 27 columns]"
      ]
     },
     "execution_count": 66,
     "metadata": {},
     "output_type": "execute_result"
    }
   ],
   "source": [
    "data = pd.read_csv('./data/FIFA/FIFA.Statistics.2018.csv')\n",
    "data.head(3)"
   ]
  },
  {
   "cell_type": "code",
   "execution_count": 67,
   "metadata": {
    "tags": []
   },
   "outputs": [
    {
     "name": "stdout",
     "output_type": "stream",
     "text": [
      "['Date', 'Team', 'Opponent', 'Goal Scored', 'Ball Possession %', 'Attempts', 'On-Target', 'Off-Target', 'Blocked', 'Corners', 'Offsides', 'Free Kicks', 'Saves', 'Pass Accuracy %', 'Passes', 'Distance Covered (Kms)', 'Fouls Committed', 'Yellow Card', 'Yellow & Red', 'Red', 'Man of the Match', '1st Goal', 'Round', 'PSO', 'Goals in PSO', 'Own goals', 'Own goal Time']\n"
     ]
    }
   ],
   "source": [
    "# all features are:\n",
    "print(data.columns.tolist())"
   ]
  },
  {
   "cell_type": "markdown",
   "metadata": {},
   "source": [
    "## Preprocessing\n"
   ]
  },
  {
   "cell_type": "code",
   "execution_count": 68,
   "metadata": {
    "tags": []
   },
   "outputs": [],
   "source": [
    "# Convert from string “Yes”/”No” to binary\n",
    "y = (data['Man of the Match'] == 'Yes') \n",
    "\n",
    "feature_names = [i for i in data.columns if data[i].dtype in [np.int64]]\n",
    "\n",
    "x = data[feature_names]"
   ]
  },
  {
   "cell_type": "markdown",
   "metadata": {},
   "source": [
    "## Train the classifier\n",
    "\n",
    "Start with a simple decision tree model.\n",
    "<font color=red>Note:</font> The calculation of a partial dependence can happen obviously, only after a model has been trained. "
   ]
  },
  {
   "cell_type": "code",
   "execution_count": 69,
   "metadata": {
    "tags": []
   },
   "outputs": [],
   "source": [
    "train_x, val_x, train_y, val_y = train_test_split(x, y, random_state=1)\n",
    "tree_model = DecisionTreeClassifier(random_state=0, max_depth=5, min_samples_split=5).fit(train_x, train_y)"
   ]
  },
  {
   "cell_type": "markdown",
   "metadata": {},
   "source": [
    "## Partial Dependence Plots (PDP)\n",
    "#### read the API reference guide for further possibilities \n",
    "https://pdpbox.readthedocs.io/en/latest/PDPIsolate.html#pdpbox.pdp.PDPIsolate"
   ]
  },
  {
   "cell_type": "code",
   "execution_count": 70,
   "metadata": {
    "tags": []
   },
   "outputs": [
    {
     "name": "stdout",
     "output_type": "stream",
     "text": [
      "obtain pred_func from the provided model.\n"
     ]
    },
    {
     "name": "stderr",
     "output_type": "stream",
     "text": [
      "100%|██████████| 6/6 [00:00<00:00, 1281.81it/s]\n"
     ]
    },
    {
     "data": {
      "application/vnd.plotly.v1+json": {
       "config": {
        "plotlyServerURL": "https://plot.ly"
       },
       "data": [
        {
         "hoverinfo": "none",
         "line": {
          "color": "rgba(193,217,237,0.6643856189774724)",
          "width": 0.6643856189774724
         },
         "mode": "lines",
         "type": "scatter",
         "x": [
          0,
          0.8888888888888884,
          1,
          1.2222222222222214,
          2,
          3
         ],
         "xaxis": "x",
         "y": [
          0,
          0.6,
          0.6,
          0.6,
          0.6,
          0.6
         ],
         "yaxis": "y"
        },
        {
         "hoverinfo": "none",
         "line": {
          "color": "rgba(177,210,231,0.6643856189774724)",
          "width": 0.6643856189774724
         },
         "mode": "lines",
         "type": "scatter",
         "x": [
          0,
          0.8888888888888884,
          1,
          1.2222222222222214,
          2,
          3
         ],
         "xaxis": "x",
         "y": [
          1,
          1,
          1,
          1,
          1,
          1
         ],
         "yaxis": "y"
        },
        {
         "hoverinfo": "none",
         "line": {
          "color": "rgba(160,202,225,0.6643856189774724)",
          "width": 0.6643856189774724
         },
         "mode": "lines",
         "type": "scatter",
         "x": [
          0,
          0.8888888888888884,
          1,
          1.2222222222222214,
          2,
          3
         ],
         "xaxis": "x",
         "y": [
          0,
          1,
          1,
          1,
          1,
          1
         ],
         "yaxis": "y"
        },
        {
         "hoverinfo": "none",
         "line": {
          "color": "rgba(139,192,221,0.6643856189774724)",
          "width": 0.6643856189774724
         },
         "mode": "lines",
         "type": "scatter",
         "x": [
          0,
          0.8888888888888884,
          1,
          1.2222222222222214,
          2,
          3
         ],
         "xaxis": "x",
         "y": [
          0.5,
          0.9583333333333334,
          0.9583333333333334,
          0.9583333333333334,
          0.9583333333333334,
          0.9583333333333334
         ],
         "yaxis": "y"
        },
        {
         "hoverinfo": "none",
         "line": {
          "color": "rgba(117,179,216,0.6643856189774724)",
          "width": 0.6643856189774724
         },
         "mode": "lines",
         "type": "scatter",
         "x": [
          0,
          0.8888888888888884,
          1,
          1.2222222222222214,
          2,
          3
         ],
         "xaxis": "x",
         "y": [
          0,
          1,
          1,
          1,
          1,
          1
         ],
         "yaxis": "y"
        },
        {
         "hoverinfo": "none",
         "line": {
          "color": "rgba(98,168,210,0.6643856189774724)",
          "width": 0.6643856189774724
         },
         "mode": "lines",
         "type": "scatter",
         "x": [
          0,
          0.8888888888888884,
          1,
          1.2222222222222214,
          2,
          3
         ],
         "xaxis": "x",
         "y": [
          0,
          0.9583333333333334,
          0.9583333333333334,
          0.9583333333333334,
          0.9583333333333334,
          0.9583333333333334
         ],
         "yaxis": "y"
        },
        {
         "hoverinfo": "none",
         "line": {
          "color": "rgba(80,155,203,0.6643856189774724)",
          "width": 0.6643856189774724
         },
         "mode": "lines",
         "type": "scatter",
         "x": [
          0,
          0.8888888888888884,
          1,
          1.2222222222222214,
          2,
          3
         ],
         "xaxis": "x",
         "y": [
          0,
          0.9583333333333334,
          0.9583333333333334,
          0.9583333333333334,
          0.9583333333333334,
          0.9583333333333334
         ],
         "yaxis": "y"
        },
        {
         "hoverinfo": "none",
         "line": {
          "color": "rgba(64,144,197,0.6643856189774724)",
          "width": 0.6643856189774724
         },
         "mode": "lines",
         "type": "scatter",
         "x": [
          0,
          0.8888888888888884,
          1,
          1.2222222222222214,
          2,
          3
         ],
         "xaxis": "x",
         "y": [
          0,
          0.9583333333333334,
          0.9583333333333334,
          0.9583333333333334,
          0.9583333333333334,
          0.9583333333333334
         ],
         "yaxis": "y"
        },
        {
         "hoverinfo": "none",
         "line": {
          "color": "rgba(49,129,189,0.6643856189774724)",
          "width": 0.6643856189774724
         },
         "mode": "lines",
         "type": "scatter",
         "x": [
          0,
          0.8888888888888884,
          1,
          1.2222222222222214,
          2,
          3
         ],
         "xaxis": "x",
         "y": [
          0,
          0.34782608695652173,
          0.34782608695652173,
          0.34782608695652173,
          0.34782608695652173,
          0.34782608695652173
         ],
         "yaxis": "y"
        },
        {
         "hoverinfo": "none",
         "line": {
          "color": "rgba(36,116,182,0.6643856189774724)",
          "width": 0.6643856189774724
         },
         "mode": "lines",
         "type": "scatter",
         "x": [
          0,
          0.8888888888888884,
          1,
          1.2222222222222214,
          2,
          3
         ],
         "xaxis": "x",
         "y": [
          0,
          0.9583333333333334,
          0.9583333333333334,
          0.9583333333333334,
          0.9583333333333334,
          0.9583333333333334
         ],
         "yaxis": "y"
        },
        {
         "hoverinfo": "none",
         "line": {
          "color": "rgba(193,217,237,0.6643856189774724)",
          "width": 0.6643856189774724
         },
         "mode": "lines",
         "type": "scatter",
         "x": [
          0,
          0.8888888888888884,
          1,
          1.2222222222222214,
          2,
          3
         ],
         "xaxis": "x",
         "y": [
          0,
          0.34782608695652173,
          0.34782608695652173,
          0.34782608695652173,
          0.34782608695652173,
          0.34782608695652173
         ],
         "yaxis": "y"
        },
        {
         "hoverinfo": "none",
         "line": {
          "color": "rgba(177,210,231,0.6643856189774724)",
          "width": 0.6643856189774724
         },
         "mode": "lines",
         "type": "scatter",
         "x": [
          0,
          0.8888888888888884,
          1,
          1.2222222222222214,
          2,
          3
         ],
         "xaxis": "x",
         "y": [
          0,
          1,
          1,
          1,
          1,
          1
         ],
         "yaxis": "y"
        },
        {
         "hoverinfo": "none",
         "line": {
          "color": "rgba(160,202,225,0.6643856189774724)",
          "width": 0.6643856189774724
         },
         "mode": "lines",
         "type": "scatter",
         "x": [
          0,
          0.8888888888888884,
          1,
          1.2222222222222214,
          2,
          3
         ],
         "xaxis": "x",
         "y": [
          0,
          1,
          1,
          1,
          1,
          1
         ],
         "yaxis": "y"
        },
        {
         "hoverinfo": "none",
         "line": {
          "color": "rgba(139,192,221,0.6643856189774724)",
          "width": 0.6643856189774724
         },
         "mode": "lines",
         "type": "scatter",
         "x": [
          0,
          0.8888888888888884,
          1,
          1.2222222222222214,
          2,
          3
         ],
         "xaxis": "x",
         "y": [
          0,
          0.34782608695652173,
          0.34782608695652173,
          0.34782608695652173,
          0.34782608695652173,
          0.34782608695652173
         ],
         "yaxis": "y"
        },
        {
         "hoverinfo": "none",
         "line": {
          "color": "rgba(117,179,216,0.6643856189774724)",
          "width": 0.6643856189774724
         },
         "mode": "lines",
         "type": "scatter",
         "x": [
          0,
          0.8888888888888884,
          1,
          1.2222222222222214,
          2,
          3
         ],
         "xaxis": "x",
         "y": [
          0,
          0.9583333333333334,
          0.9583333333333334,
          0.9583333333333334,
          0.9583333333333334,
          0.9583333333333334
         ],
         "yaxis": "y"
        },
        {
         "hoverinfo": "none",
         "line": {
          "color": "rgba(98,168,210,0.6643856189774724)",
          "width": 0.6643856189774724
         },
         "mode": "lines",
         "type": "scatter",
         "x": [
          0,
          0.8888888888888884,
          1,
          1.2222222222222214,
          2,
          3
         ],
         "xaxis": "x",
         "y": [
          0,
          1,
          1,
          1,
          1,
          1
         ],
         "yaxis": "y"
        },
        {
         "hoverinfo": "none",
         "line": {
          "color": "rgba(80,155,203,0.6643856189774724)",
          "width": 0.6643856189774724
         },
         "mode": "lines",
         "type": "scatter",
         "x": [
          0,
          0.8888888888888884,
          1,
          1.2222222222222214,
          2,
          3
         ],
         "xaxis": "x",
         "y": [
          1,
          0.9583333333333334,
          0.9583333333333334,
          0.9583333333333334,
          0.9583333333333334,
          0.9583333333333334
         ],
         "yaxis": "y"
        },
        {
         "hoverinfo": "none",
         "line": {
          "color": "rgba(64,144,197,0.6643856189774724)",
          "width": 0.6643856189774724
         },
         "mode": "lines",
         "type": "scatter",
         "x": [
          0,
          0.8888888888888884,
          1,
          1.2222222222222214,
          2,
          3
         ],
         "xaxis": "x",
         "y": [
          0,
          0.34782608695652173,
          0.34782608695652173,
          0.34782608695652173,
          0.34782608695652173,
          0.34782608695652173
         ],
         "yaxis": "y"
        },
        {
         "hoverinfo": "none",
         "line": {
          "color": "rgba(49,129,189,0.6643856189774724)",
          "width": 0.6643856189774724
         },
         "mode": "lines",
         "type": "scatter",
         "x": [
          0,
          0.8888888888888884,
          1,
          1.2222222222222214,
          2,
          3
         ],
         "xaxis": "x",
         "y": [
          0,
          0.34782608695652173,
          0.34782608695652173,
          0.34782608695652173,
          0.34782608695652173,
          0.34782608695652173
         ],
         "yaxis": "y"
        },
        {
         "hoverinfo": "none",
         "line": {
          "color": "rgba(36,116,182,0.6643856189774724)",
          "width": 0.6643856189774724
         },
         "mode": "lines",
         "type": "scatter",
         "x": [
          0,
          0.8888888888888884,
          1,
          1.2222222222222214,
          2,
          3
         ],
         "xaxis": "x",
         "y": [
          1,
          0.6,
          0.6,
          0.6,
          0.6,
          0.6
         ],
         "yaxis": "y"
        },
        {
         "hoverinfo": "none",
         "line": {
          "color": "rgba(193,217,237,0.6643856189774724)",
          "width": 0.6643856189774724
         },
         "mode": "lines",
         "type": "scatter",
         "x": [
          0,
          0.8888888888888884,
          1,
          1.2222222222222214,
          2,
          3
         ],
         "xaxis": "x",
         "y": [
          0.5,
          0.9583333333333334,
          0.9583333333333334,
          0.9583333333333334,
          0.9583333333333334,
          0.9583333333333334
         ],
         "yaxis": "y"
        },
        {
         "hoverinfo": "none",
         "line": {
          "color": "rgba(177,210,231,0.6643856189774724)",
          "width": 0.6643856189774724
         },
         "mode": "lines",
         "type": "scatter",
         "x": [
          0,
          0.8888888888888884,
          1,
          1.2222222222222214,
          2,
          3
         ],
         "xaxis": "x",
         "y": [
          0,
          0.34782608695652173,
          0.34782608695652173,
          0.34782608695652173,
          0.34782608695652173,
          0.34782608695652173
         ],
         "yaxis": "y"
        },
        {
         "hoverinfo": "none",
         "line": {
          "color": "rgba(160,202,225,0.6643856189774724)",
          "width": 0.6643856189774724
         },
         "mode": "lines",
         "type": "scatter",
         "x": [
          0,
          0.8888888888888884,
          1,
          1.2222222222222214,
          2,
          3
         ],
         "xaxis": "x",
         "y": [
          0,
          1,
          1,
          1,
          1,
          1
         ],
         "yaxis": "y"
        },
        {
         "hoverinfo": "none",
         "line": {
          "color": "rgba(139,192,221,0.6643856189774724)",
          "width": 0.6643856189774724
         },
         "mode": "lines",
         "type": "scatter",
         "x": [
          0,
          0.8888888888888884,
          1,
          1.2222222222222214,
          2,
          3
         ],
         "xaxis": "x",
         "y": [
          0,
          0.34782608695652173,
          0.34782608695652173,
          0.34782608695652173,
          0.34782608695652173,
          0.34782608695652173
         ],
         "yaxis": "y"
        },
        {
         "hoverinfo": "none",
         "line": {
          "color": "rgba(117,179,216,0.6643856189774724)",
          "width": 0.6643856189774724
         },
         "mode": "lines",
         "type": "scatter",
         "x": [
          0,
          0.8888888888888884,
          1,
          1.2222222222222214,
          2,
          3
         ],
         "xaxis": "x",
         "y": [
          0,
          1,
          1,
          1,
          1,
          1
         ],
         "yaxis": "y"
        },
        {
         "hoverinfo": "none",
         "line": {
          "color": "rgba(98,168,210,0.6643856189774724)",
          "width": 0.6643856189774724
         },
         "mode": "lines",
         "type": "scatter",
         "x": [
          0,
          0.8888888888888884,
          1,
          1.2222222222222214,
          2,
          3
         ],
         "xaxis": "x",
         "y": [
          0,
          0.34782608695652173,
          0.34782608695652173,
          0.34782608695652173,
          0.34782608695652173,
          0.34782608695652173
         ],
         "yaxis": "y"
        },
        {
         "hoverinfo": "none",
         "line": {
          "color": "rgba(80,155,203,0.6643856189774724)",
          "width": 0.6643856189774724
         },
         "mode": "lines",
         "type": "scatter",
         "x": [
          0,
          0.8888888888888884,
          1,
          1.2222222222222214,
          2,
          3
         ],
         "xaxis": "x",
         "y": [
          0,
          0.34782608695652173,
          0.34782608695652173,
          0.34782608695652173,
          0.34782608695652173,
          0.34782608695652173
         ],
         "yaxis": "y"
        },
        {
         "hoverinfo": "none",
         "line": {
          "color": "rgba(64,144,197,0.6643856189774724)",
          "width": 0.6643856189774724
         },
         "mode": "lines",
         "type": "scatter",
         "x": [
          0,
          0.8888888888888884,
          1,
          1.2222222222222214,
          2,
          3
         ],
         "xaxis": "x",
         "y": [
          0,
          1,
          1,
          1,
          1,
          1
         ],
         "yaxis": "y"
        },
        {
         "hoverinfo": "none",
         "line": {
          "color": "rgba(49,129,189,0.6643856189774724)",
          "width": 0.6643856189774724
         },
         "mode": "lines",
         "type": "scatter",
         "x": [
          0,
          0.8888888888888884,
          1,
          1.2222222222222214,
          2,
          3
         ],
         "xaxis": "x",
         "y": [
          0,
          0.9583333333333334,
          0.9583333333333334,
          0.9583333333333334,
          0.9583333333333334,
          0.9583333333333334
         ],
         "yaxis": "y"
        },
        {
         "hoverinfo": "none",
         "line": {
          "color": "rgba(36,116,182,0.6643856189774724)",
          "width": 0.6643856189774724
         },
         "mode": "lines",
         "type": "scatter",
         "x": [
          0,
          0.8888888888888884,
          1,
          1.2222222222222214,
          2,
          3
         ],
         "xaxis": "x",
         "y": [
          0,
          1,
          1,
          1,
          1,
          1
         ],
         "yaxis": "y"
        },
        {
         "hoverinfo": "none",
         "line": {
          "color": "rgba(193,217,237,0.6643856189774724)",
          "width": 0.6643856189774724
         },
         "mode": "lines",
         "type": "scatter",
         "x": [
          0,
          0.8888888888888884,
          1,
          1.2222222222222214,
          2,
          3
         ],
         "xaxis": "x",
         "y": [
          0,
          1,
          1,
          1,
          1,
          1
         ],
         "yaxis": "y"
        },
        {
         "hoverinfo": "none",
         "line": {
          "color": "rgba(177,210,231,0.6643856189774724)",
          "width": 0.6643856189774724
         },
         "mode": "lines",
         "type": "scatter",
         "x": [
          0,
          0.8888888888888884,
          1,
          1.2222222222222214,
          2,
          3
         ],
         "xaxis": "x",
         "y": [
          0,
          0.34782608695652173,
          0.34782608695652173,
          0.34782608695652173,
          0.34782608695652173,
          0.34782608695652173
         ],
         "yaxis": "y"
        },
        {
         "hoverinfo": "none",
         "line": {
          "color": "#FEDC00",
          "width": 4.5
         },
         "mode": "lines",
         "type": "scatter",
         "x": [
          0,
          0.8888888888888884,
          1,
          1.2222222222222214,
          2,
          3
         ],
         "xaxis": "x",
         "y": [
          0.125,
          0.7594769021739132,
          0.7594769021739132,
          0.7594769021739132,
          0.7594769021739132,
          0.7594769021739132
         ],
         "yaxis": "y"
        },
        {
         "hoverinfo": "none",
         "line": {
          "color": "#E75438",
          "dash": "dash",
          "width": 1.5
         },
         "mode": "lines",
         "type": "scatter",
         "x": [
          0,
          0.8888888888888884,
          1,
          1.2222222222222214,
          2,
          3
         ],
         "xaxis": "x",
         "y": [
          0,
          0,
          0,
          0,
          0,
          0
         ],
         "yaxis": "y"
        },
        {
         "hovertemplate": "%{y}",
         "line": {
          "color": "rgba(8,48,107,1.0)",
          "width": 1.5
         },
         "marker": {
          "color": "rgba(8,48,107,1.0)",
          "size": 5
         },
         "mode": "lines+markers",
         "name": "pdp",
         "type": "scatter",
         "x": [
          0,
          0.8888888888888884,
          1,
          1.2222222222222214,
          2,
          3
         ],
         "xaxis": "x",
         "y": [
          0.125,
          0.7594769021739132,
          0.7594769021739132,
          0.7594769021739132,
          0.7594769021739132,
          0.7594769021739132
         ],
         "yaxis": "y"
        },
        {
         "hoverinfo": "none",
         "mode": "text",
         "name": "dist",
         "showlegend": false,
         "text": [
          "|",
          "|",
          "|",
          "|",
          "|",
          "|",
          "|",
          "|",
          "|",
          "|",
          "|",
          "|",
          "|",
          "|",
          "|",
          "|",
          "|",
          "|",
          "|",
          "|",
          "|",
          "|",
          "|",
          "|",
          "|",
          "|",
          "|",
          "|",
          "|",
          "|",
          "|",
          "|"
         ],
         "textfont": {
          "color": "rgba(8,48,107,1.0)",
          "size": 20
         },
         "textposition": "middle center",
         "type": "scatter",
         "x": [
          0,
          2,
          2,
          2,
          1,
          2,
          2,
          0,
          2,
          2,
          1,
          1,
          0,
          1,
          1,
          2,
          2,
          1,
          1,
          3,
          0,
          0,
          2,
          0,
          1,
          2,
          2,
          0,
          1,
          1,
          3,
          1
         ],
         "xaxis": "x2",
         "y": [
          1,
          1,
          1,
          1,
          1,
          1,
          1,
          1,
          1,
          1,
          1,
          1,
          1,
          1,
          1,
          1,
          1,
          1,
          1,
          1,
          1,
          1,
          1,
          1,
          1,
          1,
          1,
          1,
          1,
          1,
          1,
          1
         ],
         "yaxis": "y2"
        }
       ],
       "layout": {
        "height": 600,
        "showlegend": false,
        "template": {
         "data": {
          "bar": [
           {
            "error_x": {
             "color": "#2a3f5f"
            },
            "error_y": {
             "color": "#2a3f5f"
            },
            "marker": {
             "line": {
              "color": "white",
              "width": 0.5
             },
             "pattern": {
              "fillmode": "overlay",
              "size": 10,
              "solidity": 0.2
             }
            },
            "type": "bar"
           }
          ],
          "barpolar": [
           {
            "marker": {
             "line": {
              "color": "white",
              "width": 0.5
             },
             "pattern": {
              "fillmode": "overlay",
              "size": 10,
              "solidity": 0.2
             }
            },
            "type": "barpolar"
           }
          ],
          "carpet": [
           {
            "aaxis": {
             "endlinecolor": "#2a3f5f",
             "gridcolor": "#C8D4E3",
             "linecolor": "#C8D4E3",
             "minorgridcolor": "#C8D4E3",
             "startlinecolor": "#2a3f5f"
            },
            "baxis": {
             "endlinecolor": "#2a3f5f",
             "gridcolor": "#C8D4E3",
             "linecolor": "#C8D4E3",
             "minorgridcolor": "#C8D4E3",
             "startlinecolor": "#2a3f5f"
            },
            "type": "carpet"
           }
          ],
          "choropleth": [
           {
            "colorbar": {
             "outlinewidth": 0,
             "ticks": ""
            },
            "type": "choropleth"
           }
          ],
          "contour": [
           {
            "colorbar": {
             "outlinewidth": 0,
             "ticks": ""
            },
            "colorscale": [
             [
              0,
              "#0d0887"
             ],
             [
              0.1111111111111111,
              "#46039f"
             ],
             [
              0.2222222222222222,
              "#7201a8"
             ],
             [
              0.3333333333333333,
              "#9c179e"
             ],
             [
              0.4444444444444444,
              "#bd3786"
             ],
             [
              0.5555555555555556,
              "#d8576b"
             ],
             [
              0.6666666666666666,
              "#ed7953"
             ],
             [
              0.7777777777777778,
              "#fb9f3a"
             ],
             [
              0.8888888888888888,
              "#fdca26"
             ],
             [
              1,
              "#f0f921"
             ]
            ],
            "type": "contour"
           }
          ],
          "contourcarpet": [
           {
            "colorbar": {
             "outlinewidth": 0,
             "ticks": ""
            },
            "type": "contourcarpet"
           }
          ],
          "heatmap": [
           {
            "colorbar": {
             "outlinewidth": 0,
             "ticks": ""
            },
            "colorscale": [
             [
              0,
              "#0d0887"
             ],
             [
              0.1111111111111111,
              "#46039f"
             ],
             [
              0.2222222222222222,
              "#7201a8"
             ],
             [
              0.3333333333333333,
              "#9c179e"
             ],
             [
              0.4444444444444444,
              "#bd3786"
             ],
             [
              0.5555555555555556,
              "#d8576b"
             ],
             [
              0.6666666666666666,
              "#ed7953"
             ],
             [
              0.7777777777777778,
              "#fb9f3a"
             ],
             [
              0.8888888888888888,
              "#fdca26"
             ],
             [
              1,
              "#f0f921"
             ]
            ],
            "type": "heatmap"
           }
          ],
          "heatmapgl": [
           {
            "colorbar": {
             "outlinewidth": 0,
             "ticks": ""
            },
            "colorscale": [
             [
              0,
              "#0d0887"
             ],
             [
              0.1111111111111111,
              "#46039f"
             ],
             [
              0.2222222222222222,
              "#7201a8"
             ],
             [
              0.3333333333333333,
              "#9c179e"
             ],
             [
              0.4444444444444444,
              "#bd3786"
             ],
             [
              0.5555555555555556,
              "#d8576b"
             ],
             [
              0.6666666666666666,
              "#ed7953"
             ],
             [
              0.7777777777777778,
              "#fb9f3a"
             ],
             [
              0.8888888888888888,
              "#fdca26"
             ],
             [
              1,
              "#f0f921"
             ]
            ],
            "type": "heatmapgl"
           }
          ],
          "histogram": [
           {
            "marker": {
             "pattern": {
              "fillmode": "overlay",
              "size": 10,
              "solidity": 0.2
             }
            },
            "type": "histogram"
           }
          ],
          "histogram2d": [
           {
            "colorbar": {
             "outlinewidth": 0,
             "ticks": ""
            },
            "colorscale": [
             [
              0,
              "#0d0887"
             ],
             [
              0.1111111111111111,
              "#46039f"
             ],
             [
              0.2222222222222222,
              "#7201a8"
             ],
             [
              0.3333333333333333,
              "#9c179e"
             ],
             [
              0.4444444444444444,
              "#bd3786"
             ],
             [
              0.5555555555555556,
              "#d8576b"
             ],
             [
              0.6666666666666666,
              "#ed7953"
             ],
             [
              0.7777777777777778,
              "#fb9f3a"
             ],
             [
              0.8888888888888888,
              "#fdca26"
             ],
             [
              1,
              "#f0f921"
             ]
            ],
            "type": "histogram2d"
           }
          ],
          "histogram2dcontour": [
           {
            "colorbar": {
             "outlinewidth": 0,
             "ticks": ""
            },
            "colorscale": [
             [
              0,
              "#0d0887"
             ],
             [
              0.1111111111111111,
              "#46039f"
             ],
             [
              0.2222222222222222,
              "#7201a8"
             ],
             [
              0.3333333333333333,
              "#9c179e"
             ],
             [
              0.4444444444444444,
              "#bd3786"
             ],
             [
              0.5555555555555556,
              "#d8576b"
             ],
             [
              0.6666666666666666,
              "#ed7953"
             ],
             [
              0.7777777777777778,
              "#fb9f3a"
             ],
             [
              0.8888888888888888,
              "#fdca26"
             ],
             [
              1,
              "#f0f921"
             ]
            ],
            "type": "histogram2dcontour"
           }
          ],
          "mesh3d": [
           {
            "colorbar": {
             "outlinewidth": 0,
             "ticks": ""
            },
            "type": "mesh3d"
           }
          ],
          "parcoords": [
           {
            "line": {
             "colorbar": {
              "outlinewidth": 0,
              "ticks": ""
             }
            },
            "type": "parcoords"
           }
          ],
          "pie": [
           {
            "automargin": true,
            "type": "pie"
           }
          ],
          "scatter": [
           {
            "fillpattern": {
             "fillmode": "overlay",
             "size": 10,
             "solidity": 0.2
            },
            "type": "scatter"
           }
          ],
          "scatter3d": [
           {
            "line": {
             "colorbar": {
              "outlinewidth": 0,
              "ticks": ""
             }
            },
            "marker": {
             "colorbar": {
              "outlinewidth": 0,
              "ticks": ""
             }
            },
            "type": "scatter3d"
           }
          ],
          "scattercarpet": [
           {
            "marker": {
             "colorbar": {
              "outlinewidth": 0,
              "ticks": ""
             }
            },
            "type": "scattercarpet"
           }
          ],
          "scattergeo": [
           {
            "marker": {
             "colorbar": {
              "outlinewidth": 0,
              "ticks": ""
             }
            },
            "type": "scattergeo"
           }
          ],
          "scattergl": [
           {
            "marker": {
             "colorbar": {
              "outlinewidth": 0,
              "ticks": ""
             }
            },
            "type": "scattergl"
           }
          ],
          "scattermapbox": [
           {
            "marker": {
             "colorbar": {
              "outlinewidth": 0,
              "ticks": ""
             }
            },
            "type": "scattermapbox"
           }
          ],
          "scatterpolar": [
           {
            "marker": {
             "colorbar": {
              "outlinewidth": 0,
              "ticks": ""
             }
            },
            "type": "scatterpolar"
           }
          ],
          "scatterpolargl": [
           {
            "marker": {
             "colorbar": {
              "outlinewidth": 0,
              "ticks": ""
             }
            },
            "type": "scatterpolargl"
           }
          ],
          "scatterternary": [
           {
            "marker": {
             "colorbar": {
              "outlinewidth": 0,
              "ticks": ""
             }
            },
            "type": "scatterternary"
           }
          ],
          "surface": [
           {
            "colorbar": {
             "outlinewidth": 0,
             "ticks": ""
            },
            "colorscale": [
             [
              0,
              "#0d0887"
             ],
             [
              0.1111111111111111,
              "#46039f"
             ],
             [
              0.2222222222222222,
              "#7201a8"
             ],
             [
              0.3333333333333333,
              "#9c179e"
             ],
             [
              0.4444444444444444,
              "#bd3786"
             ],
             [
              0.5555555555555556,
              "#d8576b"
             ],
             [
              0.6666666666666666,
              "#ed7953"
             ],
             [
              0.7777777777777778,
              "#fb9f3a"
             ],
             [
              0.8888888888888888,
              "#fdca26"
             ],
             [
              1,
              "#f0f921"
             ]
            ],
            "type": "surface"
           }
          ],
          "table": [
           {
            "cells": {
             "fill": {
              "color": "#EBF0F8"
             },
             "line": {
              "color": "white"
             }
            },
            "header": {
             "fill": {
              "color": "#C8D4E3"
             },
             "line": {
              "color": "white"
             }
            },
            "type": "table"
           }
          ]
         },
         "layout": {
          "annotationdefaults": {
           "arrowcolor": "#2a3f5f",
           "arrowhead": 0,
           "arrowwidth": 1
          },
          "autotypenumbers": "strict",
          "coloraxis": {
           "colorbar": {
            "outlinewidth": 0,
            "ticks": ""
           }
          },
          "colorscale": {
           "diverging": [
            [
             0,
             "#8e0152"
            ],
            [
             0.1,
             "#c51b7d"
            ],
            [
             0.2,
             "#de77ae"
            ],
            [
             0.3,
             "#f1b6da"
            ],
            [
             0.4,
             "#fde0ef"
            ],
            [
             0.5,
             "#f7f7f7"
            ],
            [
             0.6,
             "#e6f5d0"
            ],
            [
             0.7,
             "#b8e186"
            ],
            [
             0.8,
             "#7fbc41"
            ],
            [
             0.9,
             "#4d9221"
            ],
            [
             1,
             "#276419"
            ]
           ],
           "sequential": [
            [
             0,
             "#0d0887"
            ],
            [
             0.1111111111111111,
             "#46039f"
            ],
            [
             0.2222222222222222,
             "#7201a8"
            ],
            [
             0.3333333333333333,
             "#9c179e"
            ],
            [
             0.4444444444444444,
             "#bd3786"
            ],
            [
             0.5555555555555556,
             "#d8576b"
            ],
            [
             0.6666666666666666,
             "#ed7953"
            ],
            [
             0.7777777777777778,
             "#fb9f3a"
            ],
            [
             0.8888888888888888,
             "#fdca26"
            ],
            [
             1,
             "#f0f921"
            ]
           ],
           "sequentialminus": [
            [
             0,
             "#0d0887"
            ],
            [
             0.1111111111111111,
             "#46039f"
            ],
            [
             0.2222222222222222,
             "#7201a8"
            ],
            [
             0.3333333333333333,
             "#9c179e"
            ],
            [
             0.4444444444444444,
             "#bd3786"
            ],
            [
             0.5555555555555556,
             "#d8576b"
            ],
            [
             0.6666666666666666,
             "#ed7953"
            ],
            [
             0.7777777777777778,
             "#fb9f3a"
            ],
            [
             0.8888888888888888,
             "#fdca26"
            ],
            [
             1,
             "#f0f921"
            ]
           ]
          },
          "colorway": [
           "#636efa",
           "#EF553B",
           "#00cc96",
           "#ab63fa",
           "#FFA15A",
           "#19d3f3",
           "#FF6692",
           "#B6E880",
           "#FF97FF",
           "#FECB52"
          ],
          "font": {
           "color": "#2a3f5f"
          },
          "geo": {
           "bgcolor": "white",
           "lakecolor": "white",
           "landcolor": "white",
           "showlakes": true,
           "showland": true,
           "subunitcolor": "#C8D4E3"
          },
          "hoverlabel": {
           "align": "left"
          },
          "hovermode": "closest",
          "mapbox": {
           "style": "light"
          },
          "paper_bgcolor": "white",
          "plot_bgcolor": "white",
          "polar": {
           "angularaxis": {
            "gridcolor": "#EBF0F8",
            "linecolor": "#EBF0F8",
            "ticks": ""
           },
           "bgcolor": "white",
           "radialaxis": {
            "gridcolor": "#EBF0F8",
            "linecolor": "#EBF0F8",
            "ticks": ""
           }
          },
          "scene": {
           "xaxis": {
            "backgroundcolor": "white",
            "gridcolor": "#DFE8F3",
            "gridwidth": 2,
            "linecolor": "#EBF0F8",
            "showbackground": true,
            "ticks": "",
            "zerolinecolor": "#EBF0F8"
           },
           "yaxis": {
            "backgroundcolor": "white",
            "gridcolor": "#DFE8F3",
            "gridwidth": 2,
            "linecolor": "#EBF0F8",
            "showbackground": true,
            "ticks": "",
            "zerolinecolor": "#EBF0F8"
           },
           "zaxis": {
            "backgroundcolor": "white",
            "gridcolor": "#DFE8F3",
            "gridwidth": 2,
            "linecolor": "#EBF0F8",
            "showbackground": true,
            "ticks": "",
            "zerolinecolor": "#EBF0F8"
           }
          },
          "shapedefaults": {
           "line": {
            "color": "#2a3f5f"
           }
          },
          "ternary": {
           "aaxis": {
            "gridcolor": "#DFE8F3",
            "linecolor": "#A2B1C6",
            "ticks": ""
           },
           "baxis": {
            "gridcolor": "#DFE8F3",
            "linecolor": "#A2B1C6",
            "ticks": ""
           },
           "bgcolor": "white",
           "caxis": {
            "gridcolor": "#DFE8F3",
            "linecolor": "#A2B1C6",
            "ticks": ""
           }
          },
          "title": {
           "x": 0.05
          },
          "xaxis": {
           "automargin": true,
           "gridcolor": "#EBF0F8",
           "linecolor": "#EBF0F8",
           "ticks": "",
           "title": {
            "standoff": 15
           },
           "zerolinecolor": "#EBF0F8",
           "zerolinewidth": 2
          },
          "yaxis": {
           "automargin": true,
           "gridcolor": "#EBF0F8",
           "linecolor": "#EBF0F8",
           "ticks": "",
           "title": {
            "standoff": 15
           },
           "zerolinecolor": "#EBF0F8",
           "zerolinewidth": 2
          }
         }
        },
        "title": {
         "text": "PDP for feature <b>Number of Goals Scored</b> <br><sup>Number of unique grid points: 6</sup>",
         "x": 0,
         "xref": "paper"
        },
        "width": 1200,
        "xaxis": {
         "anchor": "y",
         "domain": [
          0,
          1
         ]
        },
        "xaxis2": {
         "anchor": "y2",
         "domain": [
          0,
          1
         ],
         "showgrid": false,
         "showticklabels": false,
         "title": {
          "text": "<b>Number of Goals Scored</b> (value)"
         }
        },
        "yaxis": {
         "anchor": "x",
         "domain": [
          0.11266666666666669,
          0.99
         ],
         "title": {
          "text": "raw"
         }
        },
        "yaxis2": {
         "anchor": "x2",
         "domain": [
          0,
          0.06266666666666665
         ],
         "showgrid": false,
         "showticklabels": false
        }
       }
      }
     },
     "metadata": {},
     "output_type": "display_data"
    }
   ],
   "source": [
    "# Create the pdp data to be plotted\n",
    "pdp_goals = pdp.PDPIsolate(model=tree_model, df=val_x, model_features=feature_names, feature='Goal Scored', feature_name='Number of Goals Scored')\n",
    "\n",
    "# plot the PDP for feature 'Goal Scored'\n",
    "fig, axes = pdp_goals.plot(\n",
    "    center=False,\n",
    "    plot_lines=True,\n",
    "    frac_to_plot=100,\n",
    "    cluster=False,\n",
    "    n_cluster_centers=None,\n",
    "    cluster_method='accurate',\n",
    "    plot_pts_dist=True,\n",
    "    to_bins=False,\n",
    "    show_percentile=False,\n",
    "    which_classes=None,\n",
    "    figsize=None,\n",
    "    dpi=300,\n",
    "    ncols=2,\n",
    "    plot_params={\"pdp_hl\": True},\n",
    "    engine='plotly',\n",
    "    template='plotly_white')\n",
    "\n",
    "fig.show()"
   ]
  },
  {
   "cell_type": "markdown",
   "metadata": {},
   "source": [
    "A few things are worth to be pointed out for interpreting this plot.\n",
    "\n",
    "The y-axis is interpreted as change in the prediction from what it would be predicted at the baseline or leftmost value.\n",
    "\n",
    "From this particular graph you can interpret, that scoring one goal substantially increases the chances of winning \"Man of The Match.\" \n",
    "But extra goals beyond that show little to no impact on predictions."
   ]
  },
  {
   "cell_type": "code",
   "execution_count": 71,
   "metadata": {
    "tags": []
   },
   "outputs": [
    {
     "name": "stdout",
     "output_type": "stream",
     "text": [
      "obtain pred_func from the provided model.\n"
     ]
    },
    {
     "name": "stderr",
     "output_type": "stream",
     "text": [
      "100%|██████████| 10/10 [00:00<00:00, 1316.48it/s]\n"
     ]
    },
    {
     "data": {
      "application/vnd.plotly.v1+json": {
       "config": {
        "plotlyServerURL": "https://plot.ly"
       },
       "data": [
        {
         "hoverinfo": "none",
         "line": {
          "color": "rgba(193,217,237,0.6643856189774724)",
          "width": 0.6643856189774724
         },
         "mode": "lines",
         "type": "scatter",
         "x": [
          89,
          99,
          101,
          102,
          105.77777777777777,
          107,
          109.66666666666666,
          112,
          133.66666666666666,
          148
         ],
         "xaxis": "x",
         "y": [
          0,
          0,
          0,
          0,
          0,
          0,
          0,
          0,
          0,
          0
         ],
         "yaxis": "y"
        },
        {
         "hoverinfo": "none",
         "line": {
          "color": "rgba(177,210,231,0.6643856189774724)",
          "width": 0.6643856189774724
         },
         "mode": "lines",
         "type": "scatter",
         "x": [
          89,
          99,
          101,
          102,
          105.77777777777777,
          107,
          109.66666666666666,
          112,
          133.66666666666666,
          148
         ],
         "xaxis": "x",
         "y": [
          1,
          1,
          1,
          0.9583333333333334,
          0.9583333333333334,
          0.9583333333333334,
          0.9583333333333334,
          0.9583333333333334,
          0.9583333333333334,
          0.9583333333333334
         ],
         "yaxis": "y"
        },
        {
         "hoverinfo": "none",
         "line": {
          "color": "rgba(160,202,225,0.6643856189774724)",
          "width": 0.6643856189774724
         },
         "mode": "lines",
         "type": "scatter",
         "x": [
          89,
          99,
          101,
          102,
          105.77777777777777,
          107,
          109.66666666666666,
          112,
          133.66666666666666,
          148
         ],
         "xaxis": "x",
         "y": [
          1,
          1,
          1,
          0.9583333333333334,
          0.9583333333333334,
          0.9583333333333334,
          0.9583333333333334,
          0.9583333333333334,
          0.9583333333333334,
          0.9583333333333334
         ],
         "yaxis": "y"
        },
        {
         "hoverinfo": "none",
         "line": {
          "color": "rgba(139,192,221,0.6643856189774724)",
          "width": 0.6643856189774724
         },
         "mode": "lines",
         "type": "scatter",
         "x": [
          89,
          99,
          101,
          102,
          105.77777777777777,
          107,
          109.66666666666666,
          112,
          133.66666666666666,
          148
         ],
         "xaxis": "x",
         "y": [
          1,
          1,
          1,
          0.9583333333333334,
          0.9583333333333334,
          0.9583333333333334,
          0.9583333333333334,
          0.9583333333333334,
          0.9583333333333334,
          0.9583333333333334
         ],
         "yaxis": "y"
        },
        {
         "hoverinfo": "none",
         "line": {
          "color": "rgba(117,179,216,0.6643856189774724)",
          "width": 0.6643856189774724
         },
         "mode": "lines",
         "type": "scatter",
         "x": [
          89,
          99,
          101,
          102,
          105.77777777777777,
          107,
          109.66666666666666,
          112,
          133.66666666666666,
          148
         ],
         "xaxis": "x",
         "y": [
          1,
          1,
          1,
          1,
          1,
          1,
          1,
          1,
          1,
          1
         ],
         "yaxis": "y"
        },
        {
         "hoverinfo": "none",
         "line": {
          "color": "rgba(98,168,210,0.6643856189774724)",
          "width": 0.6643856189774724
         },
         "mode": "lines",
         "type": "scatter",
         "x": [
          89,
          99,
          101,
          102,
          105.77777777777777,
          107,
          109.66666666666666,
          112,
          133.66666666666666,
          148
         ],
         "xaxis": "x",
         "y": [
          1,
          1,
          1,
          0.9583333333333334,
          0.9583333333333334,
          0.9583333333333334,
          0.9583333333333334,
          0.9583333333333334,
          0.9583333333333334,
          0.9583333333333334
         ],
         "yaxis": "y"
        },
        {
         "hoverinfo": "none",
         "line": {
          "color": "rgba(80,155,203,0.6643856189774724)",
          "width": 0.6643856189774724
         },
         "mode": "lines",
         "type": "scatter",
         "x": [
          89,
          99,
          101,
          102,
          105.77777777777777,
          107,
          109.66666666666666,
          112,
          133.66666666666666,
          148
         ],
         "xaxis": "x",
         "y": [
          0,
          0,
          0,
          0.9583333333333334,
          0.9583333333333334,
          0.9583333333333334,
          0.9583333333333334,
          0.9583333333333334,
          0.9583333333333334,
          0.9583333333333334
         ],
         "yaxis": "y"
        },
        {
         "hoverinfo": "none",
         "line": {
          "color": "rgba(64,144,197,0.6643856189774724)",
          "width": 0.6643856189774724
         },
         "mode": "lines",
         "type": "scatter",
         "x": [
          89,
          99,
          101,
          102,
          105.77777777777777,
          107,
          109.66666666666666,
          112,
          133.66666666666666,
          148
         ],
         "xaxis": "x",
         "y": [
          0,
          0,
          0,
          0,
          0,
          0,
          0,
          0,
          0,
          0
         ],
         "yaxis": "y"
        },
        {
         "hoverinfo": "none",
         "line": {
          "color": "rgba(49,129,189,0.6643856189774724)",
          "width": 0.6643856189774724
         },
         "mode": "lines",
         "type": "scatter",
         "x": [
          89,
          99,
          101,
          102,
          105.77777777777777,
          107,
          109.66666666666666,
          112,
          133.66666666666666,
          148
         ],
         "xaxis": "x",
         "y": [
          0.34782608695652173,
          0.34782608695652173,
          0.34782608695652173,
          0.34782608695652173,
          0.34782608695652173,
          0.34782608695652173,
          0.34782608695652173,
          0.34782608695652173,
          0.34782608695652173,
          0.34782608695652173
         ],
         "yaxis": "y"
        },
        {
         "hoverinfo": "none",
         "line": {
          "color": "rgba(36,116,182,0.6643856189774724)",
          "width": 0.6643856189774724
         },
         "mode": "lines",
         "type": "scatter",
         "x": [
          89,
          99,
          101,
          102,
          105.77777777777777,
          107,
          109.66666666666666,
          112,
          133.66666666666666,
          148
         ],
         "xaxis": "x",
         "y": [
          0,
          0,
          0,
          0.9583333333333334,
          0.9583333333333334,
          0.9583333333333334,
          0.9583333333333334,
          0.9583333333333334,
          0.9583333333333334,
          0.9583333333333334
         ],
         "yaxis": "y"
        },
        {
         "hoverinfo": "none",
         "line": {
          "color": "rgba(193,217,237,0.6643856189774724)",
          "width": 0.6643856189774724
         },
         "mode": "lines",
         "type": "scatter",
         "x": [
          89,
          99,
          101,
          102,
          105.77777777777777,
          107,
          109.66666666666666,
          112,
          133.66666666666666,
          148
         ],
         "xaxis": "x",
         "y": [
          0.34782608695652173,
          0.34782608695652173,
          0.34782608695652173,
          0.34782608695652173,
          0.34782608695652173,
          0.34782608695652173,
          0.34782608695652173,
          0.34782608695652173,
          0.34782608695652173,
          0.34782608695652173
         ],
         "yaxis": "y"
        },
        {
         "hoverinfo": "none",
         "line": {
          "color": "rgba(177,210,231,0.6643856189774724)",
          "width": 0.6643856189774724
         },
         "mode": "lines",
         "type": "scatter",
         "x": [
          89,
          99,
          101,
          102,
          105.77777777777777,
          107,
          109.66666666666666,
          112,
          133.66666666666666,
          148
         ],
         "xaxis": "x",
         "y": [
          1,
          1,
          1,
          1,
          1,
          1,
          1,
          1,
          1,
          1
         ],
         "yaxis": "y"
        },
        {
         "hoverinfo": "none",
         "line": {
          "color": "rgba(160,202,225,0.6643856189774724)",
          "width": 0.6643856189774724
         },
         "mode": "lines",
         "type": "scatter",
         "x": [
          89,
          99,
          101,
          102,
          105.77777777777777,
          107,
          109.66666666666666,
          112,
          133.66666666666666,
          148
         ],
         "xaxis": "x",
         "y": [
          0,
          0,
          0,
          0,
          0,
          0,
          0,
          0,
          0,
          0
         ],
         "yaxis": "y"
        },
        {
         "hoverinfo": "none",
         "line": {
          "color": "rgba(139,192,221,0.6643856189774724)",
          "width": 0.6643856189774724
         },
         "mode": "lines",
         "type": "scatter",
         "x": [
          89,
          99,
          101,
          102,
          105.77777777777777,
          107,
          109.66666666666666,
          112,
          133.66666666666666,
          148
         ],
         "xaxis": "x",
         "y": [
          0.34782608695652173,
          0.34782608695652173,
          0.34782608695652173,
          0.34782608695652173,
          0.34782608695652173,
          0.34782608695652173,
          0.34782608695652173,
          0.34782608695652173,
          0.34782608695652173,
          0.34782608695652173
         ],
         "yaxis": "y"
        },
        {
         "hoverinfo": "none",
         "line": {
          "color": "rgba(117,179,216,0.6643856189774724)",
          "width": 0.6643856189774724
         },
         "mode": "lines",
         "type": "scatter",
         "x": [
          89,
          99,
          101,
          102,
          105.77777777777777,
          107,
          109.66666666666666,
          112,
          133.66666666666666,
          148
         ],
         "xaxis": "x",
         "y": [
          0,
          0,
          0,
          0.9583333333333334,
          0.9583333333333334,
          0.9583333333333334,
          0.9583333333333334,
          0.9583333333333334,
          0.9583333333333334,
          0.9583333333333334
         ],
         "yaxis": "y"
        },
        {
         "hoverinfo": "none",
         "line": {
          "color": "rgba(98,168,210,0.6643856189774724)",
          "width": 0.6643856189774724
         },
         "mode": "lines",
         "type": "scatter",
         "x": [
          89,
          99,
          101,
          102,
          105.77777777777777,
          107,
          109.66666666666666,
          112,
          133.66666666666666,
          148
         ],
         "xaxis": "x",
         "y": [
          1,
          1,
          1,
          0.6,
          0.6,
          0.6,
          0.6,
          0.6,
          0.6,
          0.6
         ],
         "yaxis": "y"
        },
        {
         "hoverinfo": "none",
         "line": {
          "color": "rgba(80,155,203,0.6643856189774724)",
          "width": 0.6643856189774724
         },
         "mode": "lines",
         "type": "scatter",
         "x": [
          89,
          99,
          101,
          102,
          105.77777777777777,
          107,
          109.66666666666666,
          112,
          133.66666666666666,
          148
         ],
         "xaxis": "x",
         "y": [
          0,
          0,
          0,
          0.9583333333333334,
          0.9583333333333334,
          0.9583333333333334,
          0.9583333333333334,
          0.9583333333333334,
          0.9583333333333334,
          0.9583333333333334
         ],
         "yaxis": "y"
        },
        {
         "hoverinfo": "none",
         "line": {
          "color": "rgba(64,144,197,0.6643856189774724)",
          "width": 0.6643856189774724
         },
         "mode": "lines",
         "type": "scatter",
         "x": [
          89,
          99,
          101,
          102,
          105.77777777777777,
          107,
          109.66666666666666,
          112,
          133.66666666666666,
          148
         ],
         "xaxis": "x",
         "y": [
          0.34782608695652173,
          0.34782608695652173,
          0.34782608695652173,
          0.34782608695652173,
          0.34782608695652173,
          0.34782608695652173,
          0.34782608695652173,
          0.34782608695652173,
          0.34782608695652173,
          0.34782608695652173
         ],
         "yaxis": "y"
        },
        {
         "hoverinfo": "none",
         "line": {
          "color": "rgba(49,129,189,0.6643856189774724)",
          "width": 0.6643856189774724
         },
         "mode": "lines",
         "type": "scatter",
         "x": [
          89,
          99,
          101,
          102,
          105.77777777777777,
          107,
          109.66666666666666,
          112,
          133.66666666666666,
          148
         ],
         "xaxis": "x",
         "y": [
          0.34782608695652173,
          0.34782608695652173,
          0.34782608695652173,
          0.34782608695652173,
          0.34782608695652173,
          0.34782608695652173,
          0.34782608695652173,
          0.34782608695652173,
          0.34782608695652173,
          0.34782608695652173
         ],
         "yaxis": "y"
        },
        {
         "hoverinfo": "none",
         "line": {
          "color": "rgba(36,116,182,0.6643856189774724)",
          "width": 0.6643856189774724
         },
         "mode": "lines",
         "type": "scatter",
         "x": [
          89,
          99,
          101,
          102,
          105.77777777777777,
          107,
          109.66666666666666,
          112,
          133.66666666666666,
          148
         ],
         "xaxis": "x",
         "y": [
          0,
          0,
          0,
          0.6,
          0.6,
          0.6,
          0.6,
          0.6,
          0.6,
          0.6
         ],
         "yaxis": "y"
        },
        {
         "hoverinfo": "none",
         "line": {
          "color": "rgba(193,217,237,0.6643856189774724)",
          "width": 0.6643856189774724
         },
         "mode": "lines",
         "type": "scatter",
         "x": [
          89,
          99,
          101,
          102,
          105.77777777777777,
          107,
          109.66666666666666,
          112,
          133.66666666666666,
          148
         ],
         "xaxis": "x",
         "y": [
          0.5,
          0.5,
          0.5,
          0.5,
          0.5,
          0.5,
          0.5,
          0.5,
          0.5,
          0.5
         ],
         "yaxis": "y"
        },
        {
         "hoverinfo": "none",
         "line": {
          "color": "rgba(177,210,231,0.6643856189774724)",
          "width": 0.6643856189774724
         },
         "mode": "lines",
         "type": "scatter",
         "x": [
          89,
          99,
          101,
          102,
          105.77777777777777,
          107,
          109.66666666666666,
          112,
          133.66666666666666,
          148
         ],
         "xaxis": "x",
         "y": [
          0,
          0,
          0,
          0,
          0,
          0,
          0,
          0,
          0,
          0
         ],
         "yaxis": "y"
        },
        {
         "hoverinfo": "none",
         "line": {
          "color": "rgba(160,202,225,0.6643856189774724)",
          "width": 0.6643856189774724
         },
         "mode": "lines",
         "type": "scatter",
         "x": [
          89,
          99,
          101,
          102,
          105.77777777777777,
          107,
          109.66666666666666,
          112,
          133.66666666666666,
          148
         ],
         "xaxis": "x",
         "y": [
          1,
          1,
          1,
          1,
          1,
          1,
          1,
          1,
          1,
          1
         ],
         "yaxis": "y"
        },
        {
         "hoverinfo": "none",
         "line": {
          "color": "rgba(139,192,221,0.6643856189774724)",
          "width": 0.6643856189774724
         },
         "mode": "lines",
         "type": "scatter",
         "x": [
          89,
          99,
          101,
          102,
          105.77777777777777,
          107,
          109.66666666666666,
          112,
          133.66666666666666,
          148
         ],
         "xaxis": "x",
         "y": [
          0,
          0,
          0,
          0,
          0,
          0,
          0,
          0,
          0,
          0
         ],
         "yaxis": "y"
        },
        {
         "hoverinfo": "none",
         "line": {
          "color": "rgba(117,179,216,0.6643856189774724)",
          "width": 0.6643856189774724
         },
         "mode": "lines",
         "type": "scatter",
         "x": [
          89,
          99,
          101,
          102,
          105.77777777777777,
          107,
          109.66666666666666,
          112,
          133.66666666666666,
          148
         ],
         "xaxis": "x",
         "y": [
          1,
          1,
          1,
          1,
          1,
          1,
          1,
          1,
          1,
          1
         ],
         "yaxis": "y"
        },
        {
         "hoverinfo": "none",
         "line": {
          "color": "rgba(98,168,210,0.6643856189774724)",
          "width": 0.6643856189774724
         },
         "mode": "lines",
         "type": "scatter",
         "x": [
          89,
          99,
          101,
          102,
          105.77777777777777,
          107,
          109.66666666666666,
          112,
          133.66666666666666,
          148
         ],
         "xaxis": "x",
         "y": [
          0.34782608695652173,
          0.34782608695652173,
          0.34782608695652173,
          0.34782608695652173,
          0.34782608695652173,
          0.34782608695652173,
          0.34782608695652173,
          0.34782608695652173,
          0.34782608695652173,
          0.34782608695652173
         ],
         "yaxis": "y"
        },
        {
         "hoverinfo": "none",
         "line": {
          "color": "rgba(80,155,203,0.6643856189774724)",
          "width": 0.6643856189774724
         },
         "mode": "lines",
         "type": "scatter",
         "x": [
          89,
          99,
          101,
          102,
          105.77777777777777,
          107,
          109.66666666666666,
          112,
          133.66666666666666,
          148
         ],
         "xaxis": "x",
         "y": [
          0.34782608695652173,
          0.34782608695652173,
          0.34782608695652173,
          0.34782608695652173,
          0.34782608695652173,
          0.34782608695652173,
          0.34782608695652173,
          0.34782608695652173,
          0.34782608695652173,
          0.34782608695652173
         ],
         "yaxis": "y"
        },
        {
         "hoverinfo": "none",
         "line": {
          "color": "rgba(64,144,197,0.6643856189774724)",
          "width": 0.6643856189774724
         },
         "mode": "lines",
         "type": "scatter",
         "x": [
          89,
          99,
          101,
          102,
          105.77777777777777,
          107,
          109.66666666666666,
          112,
          133.66666666666666,
          148
         ],
         "xaxis": "x",
         "y": [
          0,
          0,
          0,
          0,
          0,
          0,
          0,
          0,
          0,
          0
         ],
         "yaxis": "y"
        },
        {
         "hoverinfo": "none",
         "line": {
          "color": "rgba(49,129,189,0.6643856189774724)",
          "width": 0.6643856189774724
         },
         "mode": "lines",
         "type": "scatter",
         "x": [
          89,
          99,
          101,
          102,
          105.77777777777777,
          107,
          109.66666666666666,
          112,
          133.66666666666666,
          148
         ],
         "xaxis": "x",
         "y": [
          1,
          1,
          1,
          0.9583333333333334,
          0.9583333333333334,
          0.9583333333333334,
          0.9583333333333334,
          0.9583333333333334,
          0.9583333333333334,
          0.9583333333333334
         ],
         "yaxis": "y"
        },
        {
         "hoverinfo": "none",
         "line": {
          "color": "rgba(36,116,182,0.6643856189774724)",
          "width": 0.6643856189774724
         },
         "mode": "lines",
         "type": "scatter",
         "x": [
          89,
          99,
          101,
          102,
          105.77777777777777,
          107,
          109.66666666666666,
          112,
          133.66666666666666,
          148
         ],
         "xaxis": "x",
         "y": [
          1,
          1,
          1,
          0.6,
          0.6,
          0.6,
          0.6,
          0.6,
          0.6,
          0.6
         ],
         "yaxis": "y"
        },
        {
         "hoverinfo": "none",
         "line": {
          "color": "rgba(193,217,237,0.6643856189774724)",
          "width": 0.6643856189774724
         },
         "mode": "lines",
         "type": "scatter",
         "x": [
          89,
          99,
          101,
          102,
          105.77777777777777,
          107,
          109.66666666666666,
          112,
          133.66666666666666,
          148
         ],
         "xaxis": "x",
         "y": [
          1,
          1,
          1,
          1,
          1,
          1,
          1,
          1,
          1,
          1
         ],
         "yaxis": "y"
        },
        {
         "hoverinfo": "none",
         "line": {
          "color": "rgba(177,210,231,0.6643856189774724)",
          "width": 0.6643856189774724
         },
         "mode": "lines",
         "type": "scatter",
         "x": [
          89,
          99,
          101,
          102,
          105.77777777777777,
          107,
          109.66666666666666,
          112,
          133.66666666666666,
          148
         ],
         "xaxis": "x",
         "y": [
          0.34782608695652173,
          0.34782608695652173,
          0.34782608695652173,
          0.34782608695652173,
          0.34782608695652173,
          0.34782608695652173,
          0.34782608695652173,
          0.34782608695652173,
          0.34782608695652173,
          0.34782608695652173
         ],
         "yaxis": "y"
        },
        {
         "hoverinfo": "none",
         "line": {
          "color": "#FEDC00",
          "width": 4.5
         },
         "mode": "lines",
         "type": "scatter",
         "x": [
          89,
          99,
          101,
          102,
          105.77777777777777,
          107,
          109.66666666666666,
          112,
          133.66666666666666,
          148
         ],
         "xaxis": "x",
         "y": [
          0.47758152173913043,
          0.47758152173913043,
          0.47758152173913043,
          0.5846127717391305,
          0.5846127717391305,
          0.5846127717391305,
          0.5846127717391305,
          0.5846127717391305,
          0.5846127717391305,
          0.5846127717391305
         ],
         "yaxis": "y"
        },
        {
         "hoverinfo": "none",
         "line": {
          "color": "#E75438",
          "dash": "dash",
          "width": 1.5
         },
         "mode": "lines",
         "type": "scatter",
         "x": [
          89,
          99,
          101,
          102,
          105.77777777777777,
          107,
          109.66666666666666,
          112,
          133.66666666666666,
          148
         ],
         "xaxis": "x",
         "y": [
          0,
          0,
          0,
          0,
          0,
          0,
          0,
          0,
          0,
          0
         ],
         "yaxis": "y"
        },
        {
         "hovertemplate": "%{y}",
         "line": {
          "color": "rgba(8,48,107,1.0)",
          "width": 1.5
         },
         "marker": {
          "color": "rgba(8,48,107,1.0)",
          "size": 5
         },
         "mode": "lines+markers",
         "name": "pdp",
         "type": "scatter",
         "x": [
          89,
          99,
          101,
          102,
          105.77777777777777,
          107,
          109.66666666666666,
          112,
          133.66666666666666,
          148
         ],
         "xaxis": "x",
         "y": [
          0.47758152173913043,
          0.47758152173913043,
          0.47758152173913043,
          0.5846127717391305,
          0.5846127717391305,
          0.5846127717391305,
          0.5846127717391305,
          0.5846127717391305,
          0.5846127717391305,
          0.5846127717391305
         ],
         "yaxis": "y"
        },
        {
         "hoverinfo": "none",
         "mode": "text",
         "name": "dist",
         "showlegend": false,
         "text": [
          "|",
          "|",
          "|",
          "|",
          "|",
          "|",
          "|",
          "|",
          "|",
          "|",
          "|",
          "|",
          "|",
          "|",
          "|",
          "|",
          "|",
          "|",
          "|",
          "|",
          "|",
          "|",
          "|",
          "|",
          "|",
          "|",
          "|",
          "|",
          "|",
          "|",
          "|",
          "|"
         ],
         "textfont": {
          "color": "rgba(8,48,107,1.0)",
          "size": 20
         },
         "textposition": "middle center",
         "type": "scatter",
         "x": [
          102,
          92,
          97,
          111,
          110,
          148,
          143,
          107,
          107,
          112,
          105,
          135,
          101,
          106,
          132,
          100,
          105,
          89,
          102,
          108,
          110,
          112,
          102,
          107,
          136,
          99,
          118,
          101,
          107,
          99,
          102,
          109
         ],
         "xaxis": "x2",
         "y": [
          1,
          1,
          1,
          1,
          1,
          1,
          1,
          1,
          1,
          1,
          1,
          1,
          1,
          1,
          1,
          1,
          1,
          1,
          1,
          1,
          1,
          1,
          1,
          1,
          1,
          1,
          1,
          1,
          1,
          1,
          1,
          1
         ],
         "yaxis": "y2"
        }
       ],
       "layout": {
        "height": 600,
        "showlegend": false,
        "template": {
         "data": {
          "bar": [
           {
            "error_x": {
             "color": "#2a3f5f"
            },
            "error_y": {
             "color": "#2a3f5f"
            },
            "marker": {
             "line": {
              "color": "white",
              "width": 0.5
             },
             "pattern": {
              "fillmode": "overlay",
              "size": 10,
              "solidity": 0.2
             }
            },
            "type": "bar"
           }
          ],
          "barpolar": [
           {
            "marker": {
             "line": {
              "color": "white",
              "width": 0.5
             },
             "pattern": {
              "fillmode": "overlay",
              "size": 10,
              "solidity": 0.2
             }
            },
            "type": "barpolar"
           }
          ],
          "carpet": [
           {
            "aaxis": {
             "endlinecolor": "#2a3f5f",
             "gridcolor": "#C8D4E3",
             "linecolor": "#C8D4E3",
             "minorgridcolor": "#C8D4E3",
             "startlinecolor": "#2a3f5f"
            },
            "baxis": {
             "endlinecolor": "#2a3f5f",
             "gridcolor": "#C8D4E3",
             "linecolor": "#C8D4E3",
             "minorgridcolor": "#C8D4E3",
             "startlinecolor": "#2a3f5f"
            },
            "type": "carpet"
           }
          ],
          "choropleth": [
           {
            "colorbar": {
             "outlinewidth": 0,
             "ticks": ""
            },
            "type": "choropleth"
           }
          ],
          "contour": [
           {
            "colorbar": {
             "outlinewidth": 0,
             "ticks": ""
            },
            "colorscale": [
             [
              0,
              "#0d0887"
             ],
             [
              0.1111111111111111,
              "#46039f"
             ],
             [
              0.2222222222222222,
              "#7201a8"
             ],
             [
              0.3333333333333333,
              "#9c179e"
             ],
             [
              0.4444444444444444,
              "#bd3786"
             ],
             [
              0.5555555555555556,
              "#d8576b"
             ],
             [
              0.6666666666666666,
              "#ed7953"
             ],
             [
              0.7777777777777778,
              "#fb9f3a"
             ],
             [
              0.8888888888888888,
              "#fdca26"
             ],
             [
              1,
              "#f0f921"
             ]
            ],
            "type": "contour"
           }
          ],
          "contourcarpet": [
           {
            "colorbar": {
             "outlinewidth": 0,
             "ticks": ""
            },
            "type": "contourcarpet"
           }
          ],
          "heatmap": [
           {
            "colorbar": {
             "outlinewidth": 0,
             "ticks": ""
            },
            "colorscale": [
             [
              0,
              "#0d0887"
             ],
             [
              0.1111111111111111,
              "#46039f"
             ],
             [
              0.2222222222222222,
              "#7201a8"
             ],
             [
              0.3333333333333333,
              "#9c179e"
             ],
             [
              0.4444444444444444,
              "#bd3786"
             ],
             [
              0.5555555555555556,
              "#d8576b"
             ],
             [
              0.6666666666666666,
              "#ed7953"
             ],
             [
              0.7777777777777778,
              "#fb9f3a"
             ],
             [
              0.8888888888888888,
              "#fdca26"
             ],
             [
              1,
              "#f0f921"
             ]
            ],
            "type": "heatmap"
           }
          ],
          "heatmapgl": [
           {
            "colorbar": {
             "outlinewidth": 0,
             "ticks": ""
            },
            "colorscale": [
             [
              0,
              "#0d0887"
             ],
             [
              0.1111111111111111,
              "#46039f"
             ],
             [
              0.2222222222222222,
              "#7201a8"
             ],
             [
              0.3333333333333333,
              "#9c179e"
             ],
             [
              0.4444444444444444,
              "#bd3786"
             ],
             [
              0.5555555555555556,
              "#d8576b"
             ],
             [
              0.6666666666666666,
              "#ed7953"
             ],
             [
              0.7777777777777778,
              "#fb9f3a"
             ],
             [
              0.8888888888888888,
              "#fdca26"
             ],
             [
              1,
              "#f0f921"
             ]
            ],
            "type": "heatmapgl"
           }
          ],
          "histogram": [
           {
            "marker": {
             "pattern": {
              "fillmode": "overlay",
              "size": 10,
              "solidity": 0.2
             }
            },
            "type": "histogram"
           }
          ],
          "histogram2d": [
           {
            "colorbar": {
             "outlinewidth": 0,
             "ticks": ""
            },
            "colorscale": [
             [
              0,
              "#0d0887"
             ],
             [
              0.1111111111111111,
              "#46039f"
             ],
             [
              0.2222222222222222,
              "#7201a8"
             ],
             [
              0.3333333333333333,
              "#9c179e"
             ],
             [
              0.4444444444444444,
              "#bd3786"
             ],
             [
              0.5555555555555556,
              "#d8576b"
             ],
             [
              0.6666666666666666,
              "#ed7953"
             ],
             [
              0.7777777777777778,
              "#fb9f3a"
             ],
             [
              0.8888888888888888,
              "#fdca26"
             ],
             [
              1,
              "#f0f921"
             ]
            ],
            "type": "histogram2d"
           }
          ],
          "histogram2dcontour": [
           {
            "colorbar": {
             "outlinewidth": 0,
             "ticks": ""
            },
            "colorscale": [
             [
              0,
              "#0d0887"
             ],
             [
              0.1111111111111111,
              "#46039f"
             ],
             [
              0.2222222222222222,
              "#7201a8"
             ],
             [
              0.3333333333333333,
              "#9c179e"
             ],
             [
              0.4444444444444444,
              "#bd3786"
             ],
             [
              0.5555555555555556,
              "#d8576b"
             ],
             [
              0.6666666666666666,
              "#ed7953"
             ],
             [
              0.7777777777777778,
              "#fb9f3a"
             ],
             [
              0.8888888888888888,
              "#fdca26"
             ],
             [
              1,
              "#f0f921"
             ]
            ],
            "type": "histogram2dcontour"
           }
          ],
          "mesh3d": [
           {
            "colorbar": {
             "outlinewidth": 0,
             "ticks": ""
            },
            "type": "mesh3d"
           }
          ],
          "parcoords": [
           {
            "line": {
             "colorbar": {
              "outlinewidth": 0,
              "ticks": ""
             }
            },
            "type": "parcoords"
           }
          ],
          "pie": [
           {
            "automargin": true,
            "type": "pie"
           }
          ],
          "scatter": [
           {
            "fillpattern": {
             "fillmode": "overlay",
             "size": 10,
             "solidity": 0.2
            },
            "type": "scatter"
           }
          ],
          "scatter3d": [
           {
            "line": {
             "colorbar": {
              "outlinewidth": 0,
              "ticks": ""
             }
            },
            "marker": {
             "colorbar": {
              "outlinewidth": 0,
              "ticks": ""
             }
            },
            "type": "scatter3d"
           }
          ],
          "scattercarpet": [
           {
            "marker": {
             "colorbar": {
              "outlinewidth": 0,
              "ticks": ""
             }
            },
            "type": "scattercarpet"
           }
          ],
          "scattergeo": [
           {
            "marker": {
             "colorbar": {
              "outlinewidth": 0,
              "ticks": ""
             }
            },
            "type": "scattergeo"
           }
          ],
          "scattergl": [
           {
            "marker": {
             "colorbar": {
              "outlinewidth": 0,
              "ticks": ""
             }
            },
            "type": "scattergl"
           }
          ],
          "scattermapbox": [
           {
            "marker": {
             "colorbar": {
              "outlinewidth": 0,
              "ticks": ""
             }
            },
            "type": "scattermapbox"
           }
          ],
          "scatterpolar": [
           {
            "marker": {
             "colorbar": {
              "outlinewidth": 0,
              "ticks": ""
             }
            },
            "type": "scatterpolar"
           }
          ],
          "scatterpolargl": [
           {
            "marker": {
             "colorbar": {
              "outlinewidth": 0,
              "ticks": ""
             }
            },
            "type": "scatterpolargl"
           }
          ],
          "scatterternary": [
           {
            "marker": {
             "colorbar": {
              "outlinewidth": 0,
              "ticks": ""
             }
            },
            "type": "scatterternary"
           }
          ],
          "surface": [
           {
            "colorbar": {
             "outlinewidth": 0,
             "ticks": ""
            },
            "colorscale": [
             [
              0,
              "#0d0887"
             ],
             [
              0.1111111111111111,
              "#46039f"
             ],
             [
              0.2222222222222222,
              "#7201a8"
             ],
             [
              0.3333333333333333,
              "#9c179e"
             ],
             [
              0.4444444444444444,
              "#bd3786"
             ],
             [
              0.5555555555555556,
              "#d8576b"
             ],
             [
              0.6666666666666666,
              "#ed7953"
             ],
             [
              0.7777777777777778,
              "#fb9f3a"
             ],
             [
              0.8888888888888888,
              "#fdca26"
             ],
             [
              1,
              "#f0f921"
             ]
            ],
            "type": "surface"
           }
          ],
          "table": [
           {
            "cells": {
             "fill": {
              "color": "#EBF0F8"
             },
             "line": {
              "color": "white"
             }
            },
            "header": {
             "fill": {
              "color": "#C8D4E3"
             },
             "line": {
              "color": "white"
             }
            },
            "type": "table"
           }
          ]
         },
         "layout": {
          "annotationdefaults": {
           "arrowcolor": "#2a3f5f",
           "arrowhead": 0,
           "arrowwidth": 1
          },
          "autotypenumbers": "strict",
          "coloraxis": {
           "colorbar": {
            "outlinewidth": 0,
            "ticks": ""
           }
          },
          "colorscale": {
           "diverging": [
            [
             0,
             "#8e0152"
            ],
            [
             0.1,
             "#c51b7d"
            ],
            [
             0.2,
             "#de77ae"
            ],
            [
             0.3,
             "#f1b6da"
            ],
            [
             0.4,
             "#fde0ef"
            ],
            [
             0.5,
             "#f7f7f7"
            ],
            [
             0.6,
             "#e6f5d0"
            ],
            [
             0.7,
             "#b8e186"
            ],
            [
             0.8,
             "#7fbc41"
            ],
            [
             0.9,
             "#4d9221"
            ],
            [
             1,
             "#276419"
            ]
           ],
           "sequential": [
            [
             0,
             "#0d0887"
            ],
            [
             0.1111111111111111,
             "#46039f"
            ],
            [
             0.2222222222222222,
             "#7201a8"
            ],
            [
             0.3333333333333333,
             "#9c179e"
            ],
            [
             0.4444444444444444,
             "#bd3786"
            ],
            [
             0.5555555555555556,
             "#d8576b"
            ],
            [
             0.6666666666666666,
             "#ed7953"
            ],
            [
             0.7777777777777778,
             "#fb9f3a"
            ],
            [
             0.8888888888888888,
             "#fdca26"
            ],
            [
             1,
             "#f0f921"
            ]
           ],
           "sequentialminus": [
            [
             0,
             "#0d0887"
            ],
            [
             0.1111111111111111,
             "#46039f"
            ],
            [
             0.2222222222222222,
             "#7201a8"
            ],
            [
             0.3333333333333333,
             "#9c179e"
            ],
            [
             0.4444444444444444,
             "#bd3786"
            ],
            [
             0.5555555555555556,
             "#d8576b"
            ],
            [
             0.6666666666666666,
             "#ed7953"
            ],
            [
             0.7777777777777778,
             "#fb9f3a"
            ],
            [
             0.8888888888888888,
             "#fdca26"
            ],
            [
             1,
             "#f0f921"
            ]
           ]
          },
          "colorway": [
           "#636efa",
           "#EF553B",
           "#00cc96",
           "#ab63fa",
           "#FFA15A",
           "#19d3f3",
           "#FF6692",
           "#B6E880",
           "#FF97FF",
           "#FECB52"
          ],
          "font": {
           "color": "#2a3f5f"
          },
          "geo": {
           "bgcolor": "white",
           "lakecolor": "white",
           "landcolor": "white",
           "showlakes": true,
           "showland": true,
           "subunitcolor": "#C8D4E3"
          },
          "hoverlabel": {
           "align": "left"
          },
          "hovermode": "closest",
          "mapbox": {
           "style": "light"
          },
          "paper_bgcolor": "white",
          "plot_bgcolor": "white",
          "polar": {
           "angularaxis": {
            "gridcolor": "#EBF0F8",
            "linecolor": "#EBF0F8",
            "ticks": ""
           },
           "bgcolor": "white",
           "radialaxis": {
            "gridcolor": "#EBF0F8",
            "linecolor": "#EBF0F8",
            "ticks": ""
           }
          },
          "scene": {
           "xaxis": {
            "backgroundcolor": "white",
            "gridcolor": "#DFE8F3",
            "gridwidth": 2,
            "linecolor": "#EBF0F8",
            "showbackground": true,
            "ticks": "",
            "zerolinecolor": "#EBF0F8"
           },
           "yaxis": {
            "backgroundcolor": "white",
            "gridcolor": "#DFE8F3",
            "gridwidth": 2,
            "linecolor": "#EBF0F8",
            "showbackground": true,
            "ticks": "",
            "zerolinecolor": "#EBF0F8"
           },
           "zaxis": {
            "backgroundcolor": "white",
            "gridcolor": "#DFE8F3",
            "gridwidth": 2,
            "linecolor": "#EBF0F8",
            "showbackground": true,
            "ticks": "",
            "zerolinecolor": "#EBF0F8"
           }
          },
          "shapedefaults": {
           "line": {
            "color": "#2a3f5f"
           }
          },
          "ternary": {
           "aaxis": {
            "gridcolor": "#DFE8F3",
            "linecolor": "#A2B1C6",
            "ticks": ""
           },
           "baxis": {
            "gridcolor": "#DFE8F3",
            "linecolor": "#A2B1C6",
            "ticks": ""
           },
           "bgcolor": "white",
           "caxis": {
            "gridcolor": "#DFE8F3",
            "linecolor": "#A2B1C6",
            "ticks": ""
           }
          },
          "title": {
           "x": 0.05
          },
          "xaxis": {
           "automargin": true,
           "gridcolor": "#EBF0F8",
           "linecolor": "#EBF0F8",
           "ticks": "",
           "title": {
            "standoff": 15
           },
           "zerolinecolor": "#EBF0F8",
           "zerolinewidth": 2
          },
          "yaxis": {
           "automargin": true,
           "gridcolor": "#EBF0F8",
           "linecolor": "#EBF0F8",
           "ticks": "",
           "title": {
            "standoff": 15
           },
           "zerolinecolor": "#EBF0F8",
           "zerolinewidth": 2
          }
         }
        },
        "title": {
         "text": "PDP for feature <b>Distance covered in km</b> <br><sup>Number of unique grid points: 10</sup>",
         "x": 0,
         "xref": "paper"
        },
        "width": 1200,
        "xaxis": {
         "anchor": "y",
         "domain": [
          0,
          1
         ]
        },
        "xaxis2": {
         "anchor": "y2",
         "domain": [
          0,
          1
         ],
         "showgrid": false,
         "showticklabels": false,
         "title": {
          "text": "<b>Distance covered in km</b> (value)"
         }
        },
        "yaxis": {
         "anchor": "x",
         "domain": [
          0.11266666666666669,
          0.99
         ],
         "title": {
          "text": "raw"
         }
        },
        "yaxis2": {
         "anchor": "x2",
         "domain": [
          0,
          0.06266666666666665
         ],
         "showgrid": false,
         "showticklabels": false
        }
       }
      }
     },
     "metadata": {},
     "output_type": "display_data"
    }
   ],
   "source": [
    "# Create the pdp data to be plotted\n",
    "pdp_dist = pdp.PDPIsolate(model=tree_model, df=val_x, model_features=feature_names, feature='Distance Covered (Kms)', feature_name='Distance covered in km')\n",
    "\n",
    "# plot the PDP for feature 'Distance Covered (Kms)'\n",
    "fig, axes = pdp_dist.plot(\n",
    "    center=False,\n",
    "    plot_lines=True,\n",
    "    frac_to_plot=100,\n",
    "    cluster=False,\n",
    "    n_cluster_centers=None,\n",
    "    cluster_method='accurate',\n",
    "    plot_pts_dist=True,\n",
    "    to_bins=False,\n",
    "    show_percentile=False,\n",
    "    which_classes=None,\n",
    "    figsize=None,\n",
    "    dpi=300,\n",
    "    ncols=2,\n",
    "    plot_params={\"pdp_hl\": True},\n",
    "    engine='plotly',\n",
    "    template='plotly_white')\n",
    "\n",
    "fig.show()"
   ]
  },
  {
   "cell_type": "markdown",
   "metadata": {},
   "source": [
    "In this PDP plot you will see the ticks on the x-axis as depicting the real data samples.\n",
    "\n",
    "This PDP plot seems to be too simple to represent reality. \n",
    "Maybe that's because the model is so simple. Print the decision tree to compare that finding to the decision tree structure.\n",
    "For the purpose of \n",
    "Let's back up our theory and do the same plot with a Random Forest model."
   ]
  },
  {
   "cell_type": "code",
   "execution_count": 72,
   "metadata": {
    "tags": []
   },
   "outputs": [],
   "source": [
    "# Build a new model: Random Forest classifier\n",
    "rf_model = RandomForestClassifier(random_state=0).fit(train_x, train_y)"
   ]
  },
  {
   "cell_type": "code",
   "execution_count": 73,
   "metadata": {
    "tags": []
   },
   "outputs": [
    {
     "name": "stdout",
     "output_type": "stream",
     "text": [
      "obtain pred_func from the provided model.\n"
     ]
    },
    {
     "name": "stderr",
     "output_type": "stream",
     "text": [
      "100%|██████████| 10/10 [00:00<00:00, 310.94it/s]\n"
     ]
    },
    {
     "data": {
      "application/vnd.plotly.v1+json": {
       "config": {
        "plotlyServerURL": "https://plot.ly"
       },
       "data": [
        {
         "hoverinfo": "none",
         "line": {
          "color": "rgba(193,217,237,0.6643856189774724)",
          "width": 0.6643856189774724
         },
         "mode": "lines",
         "type": "scatter",
         "x": [
          89,
          99,
          101,
          102,
          105.77777777777777,
          107,
          109.66666666666666,
          112,
          133.66666666666666,
          148
         ],
         "xaxis": "x",
         "y": [
          0.34,
          0.36,
          0.37,
          0.38,
          0.38,
          0.37,
          0.36,
          0.37,
          0.37,
          0.37
         ],
         "yaxis": "y"
        },
        {
         "hoverinfo": "none",
         "line": {
          "color": "rgba(177,210,231,0.6643856189774724)",
          "width": 0.6643856189774724
         },
         "mode": "lines",
         "type": "scatter",
         "x": [
          89,
          99,
          101,
          102,
          105.77777777777777,
          107,
          109.66666666666666,
          112,
          133.66666666666666,
          148
         ],
         "xaxis": "x",
         "y": [
          0.62,
          0.64,
          0.67,
          0.7,
          0.68,
          0.69,
          0.66,
          0.67,
          0.66,
          0.65
         ],
         "yaxis": "y"
        },
        {
         "hoverinfo": "none",
         "line": {
          "color": "rgba(160,202,225,0.6643856189774724)",
          "width": 0.6643856189774724
         },
         "mode": "lines",
         "type": "scatter",
         "x": [
          89,
          99,
          101,
          102,
          105.77777777777777,
          107,
          109.66666666666666,
          112,
          133.66666666666666,
          148
         ],
         "xaxis": "x",
         "y": [
          0.7,
          0.69,
          0.71,
          0.72,
          0.72,
          0.72,
          0.66,
          0.68,
          0.67,
          0.66
         ],
         "yaxis": "y"
        },
        {
         "hoverinfo": "none",
         "line": {
          "color": "rgba(139,192,221,0.6643856189774724)",
          "width": 0.6643856189774724
         },
         "mode": "lines",
         "type": "scatter",
         "x": [
          89,
          99,
          101,
          102,
          105.77777777777777,
          107,
          109.66666666666666,
          112,
          133.66666666666666,
          148
         ],
         "xaxis": "x",
         "y": [
          0.65,
          0.64,
          0.65,
          0.7,
          0.75,
          0.74,
          0.67,
          0.68,
          0.67,
          0.66
         ],
         "yaxis": "y"
        },
        {
         "hoverinfo": "none",
         "line": {
          "color": "rgba(117,179,216,0.6643856189774724)",
          "width": 0.6643856189774724
         },
         "mode": "lines",
         "type": "scatter",
         "x": [
          89,
          99,
          101,
          102,
          105.77777777777777,
          107,
          109.66666666666666,
          112,
          133.66666666666666,
          148
         ],
         "xaxis": "x",
         "y": [
          0.39,
          0.41,
          0.42,
          0.46,
          0.44,
          0.44,
          0.44,
          0.44,
          0.43,
          0.41
         ],
         "yaxis": "y"
        },
        {
         "hoverinfo": "none",
         "line": {
          "color": "rgba(98,168,210,0.6643856189774724)",
          "width": 0.6643856189774724
         },
         "mode": "lines",
         "type": "scatter",
         "x": [
          89,
          99,
          101,
          102,
          105.77777777777777,
          107,
          109.66666666666666,
          112,
          133.66666666666666,
          148
         ],
         "xaxis": "x",
         "y": [
          0.66,
          0.72,
          0.76,
          0.75,
          0.74,
          0.73,
          0.68,
          0.7,
          0.72,
          0.71
         ],
         "yaxis": "y"
        },
        {
         "hoverinfo": "none",
         "line": {
          "color": "rgba(80,155,203,0.6643856189774724)",
          "width": 0.6643856189774724
         },
         "mode": "lines",
         "type": "scatter",
         "x": [
          89,
          99,
          101,
          102,
          105.77777777777777,
          107,
          109.66666666666666,
          112,
          133.66666666666666,
          148
         ],
         "xaxis": "x",
         "y": [
          0.61,
          0.65,
          0.67,
          0.72,
          0.71,
          0.71,
          0.68,
          0.69,
          0.69,
          0.68
         ],
         "yaxis": "y"
        },
        {
         "hoverinfo": "none",
         "line": {
          "color": "rgba(64,144,197,0.6643856189774724)",
          "width": 0.6643856189774724
         },
         "mode": "lines",
         "type": "scatter",
         "x": [
          89,
          99,
          101,
          102,
          105.77777777777777,
          107,
          109.66666666666666,
          112,
          133.66666666666666,
          148
         ],
         "xaxis": "x",
         "y": [
          0.36,
          0.41,
          0.41,
          0.44,
          0.44,
          0.44,
          0.46,
          0.46,
          0.46,
          0.46
         ],
         "yaxis": "y"
        },
        {
         "hoverinfo": "none",
         "line": {
          "color": "rgba(49,129,189,0.6643856189774724)",
          "width": 0.6643856189774724
         },
         "mode": "lines",
         "type": "scatter",
         "x": [
          89,
          99,
          101,
          102,
          105.77777777777777,
          107,
          109.66666666666666,
          112,
          133.66666666666666,
          148
         ],
         "xaxis": "x",
         "y": [
          0.39,
          0.44,
          0.47,
          0.45,
          0.48,
          0.48,
          0.46,
          0.47,
          0.49,
          0.48
         ],
         "yaxis": "y"
        },
        {
         "hoverinfo": "none",
         "line": {
          "color": "rgba(36,116,182,0.6643856189774724)",
          "width": 0.6643856189774724
         },
         "mode": "lines",
         "type": "scatter",
         "x": [
          89,
          99,
          101,
          102,
          105.77777777777777,
          107,
          109.66666666666666,
          112,
          133.66666666666666,
          148
         ],
         "xaxis": "x",
         "y": [
          0.58,
          0.62,
          0.66,
          0.69,
          0.71,
          0.71,
          0.63,
          0.64,
          0.64,
          0.63
         ],
         "yaxis": "y"
        },
        {
         "hoverinfo": "none",
         "line": {
          "color": "rgba(193,217,237,0.6643856189774724)",
          "width": 0.6643856189774724
         },
         "mode": "lines",
         "type": "scatter",
         "x": [
          89,
          99,
          101,
          102,
          105.77777777777777,
          107,
          109.66666666666666,
          112,
          133.66666666666666,
          148
         ],
         "xaxis": "x",
         "y": [
          0.42,
          0.43,
          0.46,
          0.47,
          0.48,
          0.48,
          0.42,
          0.42,
          0.43,
          0.42
         ],
         "yaxis": "y"
        },
        {
         "hoverinfo": "none",
         "line": {
          "color": "rgba(177,210,231,0.6643856189774724)",
          "width": 0.6643856189774724
         },
         "mode": "lines",
         "type": "scatter",
         "x": [
          89,
          99,
          101,
          102,
          105.77777777777777,
          107,
          109.66666666666666,
          112,
          133.66666666666666,
          148
         ],
         "xaxis": "x",
         "y": [
          0.3,
          0.33,
          0.34,
          0.4,
          0.43,
          0.42,
          0.44,
          0.44,
          0.42,
          0.41
         ],
         "yaxis": "y"
        },
        {
         "hoverinfo": "none",
         "line": {
          "color": "rgba(160,202,225,0.6643856189774724)",
          "width": 0.6643856189774724
         },
         "mode": "lines",
         "type": "scatter",
         "x": [
          89,
          99,
          101,
          102,
          105.77777777777777,
          107,
          109.66666666666666,
          112,
          133.66666666666666,
          148
         ],
         "xaxis": "x",
         "y": [
          0.19,
          0.19,
          0.21,
          0.21,
          0.2,
          0.19,
          0.19,
          0.2,
          0.2,
          0.2
         ],
         "yaxis": "y"
        },
        {
         "hoverinfo": "none",
         "line": {
          "color": "rgba(139,192,221,0.6643856189774724)",
          "width": 0.6643856189774724
         },
         "mode": "lines",
         "type": "scatter",
         "x": [
          89,
          99,
          101,
          102,
          105.77777777777777,
          107,
          109.66666666666666,
          112,
          133.66666666666666,
          148
         ],
         "xaxis": "x",
         "y": [
          0.18,
          0.21,
          0.22,
          0.21,
          0.24,
          0.24,
          0.25,
          0.26,
          0.29,
          0.29
         ],
         "yaxis": "y"
        },
        {
         "hoverinfo": "none",
         "line": {
          "color": "rgba(117,179,216,0.6643856189774724)",
          "width": 0.6643856189774724
         },
         "mode": "lines",
         "type": "scatter",
         "x": [
          89,
          99,
          101,
          102,
          105.77777777777777,
          107,
          109.66666666666666,
          112,
          133.66666666666666,
          148
         ],
         "xaxis": "x",
         "y": [
          0.55,
          0.59,
          0.6,
          0.64,
          0.65,
          0.65,
          0.61,
          0.62,
          0.61,
          0.6
         ],
         "yaxis": "y"
        },
        {
         "hoverinfo": "none",
         "line": {
          "color": "rgba(98,168,210,0.6643856189774724)",
          "width": 0.6643856189774724
         },
         "mode": "lines",
         "type": "scatter",
         "x": [
          89,
          99,
          101,
          102,
          105.77777777777777,
          107,
          109.66666666666666,
          112,
          133.66666666666666,
          148
         ],
         "xaxis": "x",
         "y": [
          0.63,
          0.64,
          0.7,
          0.73,
          0.74,
          0.74,
          0.72,
          0.73,
          0.72,
          0.72
         ],
         "yaxis": "y"
        },
        {
         "hoverinfo": "none",
         "line": {
          "color": "rgba(80,155,203,0.6643856189774724)",
          "width": 0.6643856189774724
         },
         "mode": "lines",
         "type": "scatter",
         "x": [
          89,
          99,
          101,
          102,
          105.77777777777777,
          107,
          109.66666666666666,
          112,
          133.66666666666666,
          148
         ],
         "xaxis": "x",
         "y": [
          0.4,
          0.42,
          0.47,
          0.54,
          0.56,
          0.56,
          0.53,
          0.53,
          0.53,
          0.52
         ],
         "yaxis": "y"
        },
        {
         "hoverinfo": "none",
         "line": {
          "color": "rgba(64,144,197,0.6643856189774724)",
          "width": 0.6643856189774724
         },
         "mode": "lines",
         "type": "scatter",
         "x": [
          89,
          99,
          101,
          102,
          105.77777777777777,
          107,
          109.66666666666666,
          112,
          133.66666666666666,
          148
         ],
         "xaxis": "x",
         "y": [
          0.55,
          0.6,
          0.58,
          0.56,
          0.54,
          0.54,
          0.44,
          0.46,
          0.47,
          0.47
         ],
         "yaxis": "y"
        },
        {
         "hoverinfo": "none",
         "line": {
          "color": "rgba(49,129,189,0.6643856189774724)",
          "width": 0.6643856189774724
         },
         "mode": "lines",
         "type": "scatter",
         "x": [
          89,
          99,
          101,
          102,
          105.77777777777777,
          107,
          109.66666666666666,
          112,
          133.66666666666666,
          148
         ],
         "xaxis": "x",
         "y": [
          0.34,
          0.42,
          0.42,
          0.4,
          0.35,
          0.35,
          0.3,
          0.31,
          0.31,
          0.31
         ],
         "yaxis": "y"
        },
        {
         "hoverinfo": "none",
         "line": {
          "color": "rgba(36,116,182,0.6643856189774724)",
          "width": 0.6643856189774724
         },
         "mode": "lines",
         "type": "scatter",
         "x": [
          89,
          99,
          101,
          102,
          105.77777777777777,
          107,
          109.66666666666666,
          112,
          133.66666666666666,
          148
         ],
         "xaxis": "x",
         "y": [
          0.45,
          0.47,
          0.47,
          0.51,
          0.53,
          0.53,
          0.5,
          0.5,
          0.5,
          0.49
         ],
         "yaxis": "y"
        },
        {
         "hoverinfo": "none",
         "line": {
          "color": "rgba(193,217,237,0.6643856189774724)",
          "width": 0.6643856189774724
         },
         "mode": "lines",
         "type": "scatter",
         "x": [
          89,
          99,
          101,
          102,
          105.77777777777777,
          107,
          109.66666666666666,
          112,
          133.66666666666666,
          148
         ],
         "xaxis": "x",
         "y": [
          0.57,
          0.58,
          0.58,
          0.57,
          0.57,
          0.56,
          0.52,
          0.53,
          0.52,
          0.52
         ],
         "yaxis": "y"
        },
        {
         "hoverinfo": "none",
         "line": {
          "color": "rgba(177,210,231,0.6643856189774724)",
          "width": 0.6643856189774724
         },
         "mode": "lines",
         "type": "scatter",
         "x": [
          89,
          99,
          101,
          102,
          105.77777777777777,
          107,
          109.66666666666666,
          112,
          133.66666666666666,
          148
         ],
         "xaxis": "x",
         "y": [
          0.1,
          0.11,
          0.1,
          0.08,
          0.08,
          0.08,
          0.07,
          0.06,
          0.07,
          0.07
         ],
         "yaxis": "y"
        },
        {
         "hoverinfo": "none",
         "line": {
          "color": "rgba(160,202,225,0.6643856189774724)",
          "width": 0.6643856189774724
         },
         "mode": "lines",
         "type": "scatter",
         "x": [
          89,
          99,
          101,
          102,
          105.77777777777777,
          107,
          109.66666666666666,
          112,
          133.66666666666666,
          148
         ],
         "xaxis": "x",
         "y": [
          0.63,
          0.71,
          0.72,
          0.75,
          0.71,
          0.71,
          0.64,
          0.66,
          0.65,
          0.64
         ],
         "yaxis": "y"
        },
        {
         "hoverinfo": "none",
         "line": {
          "color": "rgba(139,192,221,0.6643856189774724)",
          "width": 0.6643856189774724
         },
         "mode": "lines",
         "type": "scatter",
         "x": [
          89,
          99,
          101,
          102,
          105.77777777777777,
          107,
          109.66666666666666,
          112,
          133.66666666666666,
          148
         ],
         "xaxis": "x",
         "y": [
          0.12,
          0.13,
          0.13,
          0.11,
          0.1,
          0.1,
          0.1,
          0.1,
          0.11,
          0.11
         ],
         "yaxis": "y"
        },
        {
         "hoverinfo": "none",
         "line": {
          "color": "rgba(117,179,216,0.6643856189774724)",
          "width": 0.6643856189774724
         },
         "mode": "lines",
         "type": "scatter",
         "x": [
          89,
          99,
          101,
          102,
          105.77777777777777,
          107,
          109.66666666666666,
          112,
          133.66666666666666,
          148
         ],
         "xaxis": "x",
         "y": [
          0.52,
          0.59,
          0.62,
          0.64,
          0.59,
          0.58,
          0.5,
          0.52,
          0.5,
          0.49
         ],
         "yaxis": "y"
        },
        {
         "hoverinfo": "none",
         "line": {
          "color": "rgba(98,168,210,0.6643856189774724)",
          "width": 0.6643856189774724
         },
         "mode": "lines",
         "type": "scatter",
         "x": [
          89,
          99,
          101,
          102,
          105.77777777777777,
          107,
          109.66666666666666,
          112,
          133.66666666666666,
          148
         ],
         "xaxis": "x",
         "y": [
          0.53,
          0.57,
          0.6,
          0.59,
          0.55,
          0.53,
          0.47,
          0.46,
          0.45,
          0.43
         ],
         "yaxis": "y"
        },
        {
         "hoverinfo": "none",
         "line": {
          "color": "rgba(80,155,203,0.6643856189774724)",
          "width": 0.6643856189774724
         },
         "mode": "lines",
         "type": "scatter",
         "x": [
          89,
          99,
          101,
          102,
          105.77777777777777,
          107,
          109.66666666666666,
          112,
          133.66666666666666,
          148
         ],
         "xaxis": "x",
         "y": [
          0.41,
          0.45,
          0.46,
          0.44,
          0.41,
          0.4,
          0.34,
          0.35,
          0.35,
          0.35
         ],
         "yaxis": "y"
        },
        {
         "hoverinfo": "none",
         "line": {
          "color": "rgba(64,144,197,0.6643856189774724)",
          "width": 0.6643856189774724
         },
         "mode": "lines",
         "type": "scatter",
         "x": [
          89,
          99,
          101,
          102,
          105.77777777777777,
          107,
          109.66666666666666,
          112,
          133.66666666666666,
          148
         ],
         "xaxis": "x",
         "y": [
          0.11,
          0.14,
          0.16,
          0.15,
          0.15,
          0.14,
          0.13,
          0.13,
          0.13,
          0.13
         ],
         "yaxis": "y"
        },
        {
         "hoverinfo": "none",
         "line": {
          "color": "rgba(49,129,189,0.6643856189774724)",
          "width": 0.6643856189774724
         },
         "mode": "lines",
         "type": "scatter",
         "x": [
          89,
          99,
          101,
          102,
          105.77777777777777,
          107,
          109.66666666666666,
          112,
          133.66666666666666,
          148
         ],
         "xaxis": "x",
         "y": [
          0.48,
          0.53,
          0.59,
          0.64,
          0.67,
          0.67,
          0.63,
          0.64,
          0.62,
          0.61
         ],
         "yaxis": "y"
        },
        {
         "hoverinfo": "none",
         "line": {
          "color": "rgba(36,116,182,0.6643856189774724)",
          "width": 0.6643856189774724
         },
         "mode": "lines",
         "type": "scatter",
         "x": [
          89,
          99,
          101,
          102,
          105.77777777777777,
          107,
          109.66666666666666,
          112,
          133.66666666666666,
          148
         ],
         "xaxis": "x",
         "y": [
          0.48,
          0.54,
          0.56,
          0.57,
          0.56,
          0.56,
          0.5,
          0.51,
          0.52,
          0.51
         ],
         "yaxis": "y"
        },
        {
         "hoverinfo": "none",
         "line": {
          "color": "rgba(193,217,237,0.6643856189774724)",
          "width": 0.6643856189774724
         },
         "mode": "lines",
         "type": "scatter",
         "x": [
          89,
          99,
          101,
          102,
          105.77777777777777,
          107,
          109.66666666666666,
          112,
          133.66666666666666,
          148
         ],
         "xaxis": "x",
         "y": [
          0.48,
          0.55,
          0.58,
          0.57,
          0.52,
          0.51,
          0.44,
          0.46,
          0.48,
          0.47
         ],
         "yaxis": "y"
        },
        {
         "hoverinfo": "none",
         "line": {
          "color": "rgba(177,210,231,0.6643856189774724)",
          "width": 0.6643856189774724
         },
         "mode": "lines",
         "type": "scatter",
         "x": [
          89,
          99,
          101,
          102,
          105.77777777777777,
          107,
          109.66666666666666,
          112,
          133.66666666666666,
          148
         ],
         "xaxis": "x",
         "y": [
          0.5,
          0.61,
          0.63,
          0.61,
          0.58,
          0.57,
          0.52,
          0.52,
          0.5,
          0.49
         ],
         "yaxis": "y"
        },
        {
         "hoverinfo": "none",
         "line": {
          "color": "#FEDC00",
          "width": 4.5
         },
         "mode": "lines",
         "type": "scatter",
         "x": [
          89,
          99,
          101,
          102,
          105.77777777777777,
          107,
          109.66666666666666,
          112,
          133.66666666666666,
          148
         ],
         "xaxis": "x",
         "y": [
          0.445,
          0.4809375,
          0.49968749999999995,
          0.5125,
          0.5081249999999999,
          0.504375,
          0.4675,
          0.4753125,
          0.474375,
          0.4675
         ],
         "yaxis": "y"
        },
        {
         "hoverinfo": "none",
         "line": {
          "color": "#E75438",
          "dash": "dash",
          "width": 1.5
         },
         "mode": "lines",
         "type": "scatter",
         "x": [
          89,
          99,
          101,
          102,
          105.77777777777777,
          107,
          109.66666666666666,
          112,
          133.66666666666666,
          148
         ],
         "xaxis": "x",
         "y": [
          0,
          0,
          0,
          0,
          0,
          0,
          0,
          0,
          0,
          0
         ],
         "yaxis": "y"
        },
        {
         "hovertemplate": "%{y}",
         "line": {
          "color": "rgba(8,48,107,1.0)",
          "width": 1.5
         },
         "marker": {
          "color": "rgba(8,48,107,1.0)",
          "size": 5
         },
         "mode": "lines+markers",
         "name": "pdp",
         "type": "scatter",
         "x": [
          89,
          99,
          101,
          102,
          105.77777777777777,
          107,
          109.66666666666666,
          112,
          133.66666666666666,
          148
         ],
         "xaxis": "x",
         "y": [
          0.445,
          0.4809375,
          0.49968749999999995,
          0.5125,
          0.5081249999999999,
          0.504375,
          0.4675,
          0.4753125,
          0.474375,
          0.4675
         ],
         "yaxis": "y"
        },
        {
         "hoverinfo": "none",
         "mode": "text",
         "name": "dist",
         "showlegend": false,
         "text": [
          "|",
          "|",
          "|",
          "|",
          "|",
          "|",
          "|",
          "|",
          "|",
          "|",
          "|",
          "|",
          "|",
          "|",
          "|",
          "|",
          "|",
          "|",
          "|",
          "|",
          "|",
          "|",
          "|",
          "|",
          "|",
          "|",
          "|",
          "|",
          "|",
          "|",
          "|",
          "|"
         ],
         "textfont": {
          "color": "rgba(8,48,107,1.0)",
          "size": 20
         },
         "textposition": "middle center",
         "type": "scatter",
         "x": [
          102,
          92,
          97,
          111,
          110,
          148,
          143,
          107,
          107,
          112,
          105,
          135,
          101,
          106,
          132,
          100,
          105,
          89,
          102,
          108,
          110,
          112,
          102,
          107,
          136,
          99,
          118,
          101,
          107,
          99,
          102,
          109
         ],
         "xaxis": "x2",
         "y": [
          1,
          1,
          1,
          1,
          1,
          1,
          1,
          1,
          1,
          1,
          1,
          1,
          1,
          1,
          1,
          1,
          1,
          1,
          1,
          1,
          1,
          1,
          1,
          1,
          1,
          1,
          1,
          1,
          1,
          1,
          1,
          1
         ],
         "yaxis": "y2"
        }
       ],
       "layout": {
        "height": 600,
        "showlegend": false,
        "template": {
         "data": {
          "bar": [
           {
            "error_x": {
             "color": "#2a3f5f"
            },
            "error_y": {
             "color": "#2a3f5f"
            },
            "marker": {
             "line": {
              "color": "white",
              "width": 0.5
             },
             "pattern": {
              "fillmode": "overlay",
              "size": 10,
              "solidity": 0.2
             }
            },
            "type": "bar"
           }
          ],
          "barpolar": [
           {
            "marker": {
             "line": {
              "color": "white",
              "width": 0.5
             },
             "pattern": {
              "fillmode": "overlay",
              "size": 10,
              "solidity": 0.2
             }
            },
            "type": "barpolar"
           }
          ],
          "carpet": [
           {
            "aaxis": {
             "endlinecolor": "#2a3f5f",
             "gridcolor": "#C8D4E3",
             "linecolor": "#C8D4E3",
             "minorgridcolor": "#C8D4E3",
             "startlinecolor": "#2a3f5f"
            },
            "baxis": {
             "endlinecolor": "#2a3f5f",
             "gridcolor": "#C8D4E3",
             "linecolor": "#C8D4E3",
             "minorgridcolor": "#C8D4E3",
             "startlinecolor": "#2a3f5f"
            },
            "type": "carpet"
           }
          ],
          "choropleth": [
           {
            "colorbar": {
             "outlinewidth": 0,
             "ticks": ""
            },
            "type": "choropleth"
           }
          ],
          "contour": [
           {
            "colorbar": {
             "outlinewidth": 0,
             "ticks": ""
            },
            "colorscale": [
             [
              0,
              "#0d0887"
             ],
             [
              0.1111111111111111,
              "#46039f"
             ],
             [
              0.2222222222222222,
              "#7201a8"
             ],
             [
              0.3333333333333333,
              "#9c179e"
             ],
             [
              0.4444444444444444,
              "#bd3786"
             ],
             [
              0.5555555555555556,
              "#d8576b"
             ],
             [
              0.6666666666666666,
              "#ed7953"
             ],
             [
              0.7777777777777778,
              "#fb9f3a"
             ],
             [
              0.8888888888888888,
              "#fdca26"
             ],
             [
              1,
              "#f0f921"
             ]
            ],
            "type": "contour"
           }
          ],
          "contourcarpet": [
           {
            "colorbar": {
             "outlinewidth": 0,
             "ticks": ""
            },
            "type": "contourcarpet"
           }
          ],
          "heatmap": [
           {
            "colorbar": {
             "outlinewidth": 0,
             "ticks": ""
            },
            "colorscale": [
             [
              0,
              "#0d0887"
             ],
             [
              0.1111111111111111,
              "#46039f"
             ],
             [
              0.2222222222222222,
              "#7201a8"
             ],
             [
              0.3333333333333333,
              "#9c179e"
             ],
             [
              0.4444444444444444,
              "#bd3786"
             ],
             [
              0.5555555555555556,
              "#d8576b"
             ],
             [
              0.6666666666666666,
              "#ed7953"
             ],
             [
              0.7777777777777778,
              "#fb9f3a"
             ],
             [
              0.8888888888888888,
              "#fdca26"
             ],
             [
              1,
              "#f0f921"
             ]
            ],
            "type": "heatmap"
           }
          ],
          "heatmapgl": [
           {
            "colorbar": {
             "outlinewidth": 0,
             "ticks": ""
            },
            "colorscale": [
             [
              0,
              "#0d0887"
             ],
             [
              0.1111111111111111,
              "#46039f"
             ],
             [
              0.2222222222222222,
              "#7201a8"
             ],
             [
              0.3333333333333333,
              "#9c179e"
             ],
             [
              0.4444444444444444,
              "#bd3786"
             ],
             [
              0.5555555555555556,
              "#d8576b"
             ],
             [
              0.6666666666666666,
              "#ed7953"
             ],
             [
              0.7777777777777778,
              "#fb9f3a"
             ],
             [
              0.8888888888888888,
              "#fdca26"
             ],
             [
              1,
              "#f0f921"
             ]
            ],
            "type": "heatmapgl"
           }
          ],
          "histogram": [
           {
            "marker": {
             "pattern": {
              "fillmode": "overlay",
              "size": 10,
              "solidity": 0.2
             }
            },
            "type": "histogram"
           }
          ],
          "histogram2d": [
           {
            "colorbar": {
             "outlinewidth": 0,
             "ticks": ""
            },
            "colorscale": [
             [
              0,
              "#0d0887"
             ],
             [
              0.1111111111111111,
              "#46039f"
             ],
             [
              0.2222222222222222,
              "#7201a8"
             ],
             [
              0.3333333333333333,
              "#9c179e"
             ],
             [
              0.4444444444444444,
              "#bd3786"
             ],
             [
              0.5555555555555556,
              "#d8576b"
             ],
             [
              0.6666666666666666,
              "#ed7953"
             ],
             [
              0.7777777777777778,
              "#fb9f3a"
             ],
             [
              0.8888888888888888,
              "#fdca26"
             ],
             [
              1,
              "#f0f921"
             ]
            ],
            "type": "histogram2d"
           }
          ],
          "histogram2dcontour": [
           {
            "colorbar": {
             "outlinewidth": 0,
             "ticks": ""
            },
            "colorscale": [
             [
              0,
              "#0d0887"
             ],
             [
              0.1111111111111111,
              "#46039f"
             ],
             [
              0.2222222222222222,
              "#7201a8"
             ],
             [
              0.3333333333333333,
              "#9c179e"
             ],
             [
              0.4444444444444444,
              "#bd3786"
             ],
             [
              0.5555555555555556,
              "#d8576b"
             ],
             [
              0.6666666666666666,
              "#ed7953"
             ],
             [
              0.7777777777777778,
              "#fb9f3a"
             ],
             [
              0.8888888888888888,
              "#fdca26"
             ],
             [
              1,
              "#f0f921"
             ]
            ],
            "type": "histogram2dcontour"
           }
          ],
          "mesh3d": [
           {
            "colorbar": {
             "outlinewidth": 0,
             "ticks": ""
            },
            "type": "mesh3d"
           }
          ],
          "parcoords": [
           {
            "line": {
             "colorbar": {
              "outlinewidth": 0,
              "ticks": ""
             }
            },
            "type": "parcoords"
           }
          ],
          "pie": [
           {
            "automargin": true,
            "type": "pie"
           }
          ],
          "scatter": [
           {
            "fillpattern": {
             "fillmode": "overlay",
             "size": 10,
             "solidity": 0.2
            },
            "type": "scatter"
           }
          ],
          "scatter3d": [
           {
            "line": {
             "colorbar": {
              "outlinewidth": 0,
              "ticks": ""
             }
            },
            "marker": {
             "colorbar": {
              "outlinewidth": 0,
              "ticks": ""
             }
            },
            "type": "scatter3d"
           }
          ],
          "scattercarpet": [
           {
            "marker": {
             "colorbar": {
              "outlinewidth": 0,
              "ticks": ""
             }
            },
            "type": "scattercarpet"
           }
          ],
          "scattergeo": [
           {
            "marker": {
             "colorbar": {
              "outlinewidth": 0,
              "ticks": ""
             }
            },
            "type": "scattergeo"
           }
          ],
          "scattergl": [
           {
            "marker": {
             "colorbar": {
              "outlinewidth": 0,
              "ticks": ""
             }
            },
            "type": "scattergl"
           }
          ],
          "scattermapbox": [
           {
            "marker": {
             "colorbar": {
              "outlinewidth": 0,
              "ticks": ""
             }
            },
            "type": "scattermapbox"
           }
          ],
          "scatterpolar": [
           {
            "marker": {
             "colorbar": {
              "outlinewidth": 0,
              "ticks": ""
             }
            },
            "type": "scatterpolar"
           }
          ],
          "scatterpolargl": [
           {
            "marker": {
             "colorbar": {
              "outlinewidth": 0,
              "ticks": ""
             }
            },
            "type": "scatterpolargl"
           }
          ],
          "scatterternary": [
           {
            "marker": {
             "colorbar": {
              "outlinewidth": 0,
              "ticks": ""
             }
            },
            "type": "scatterternary"
           }
          ],
          "surface": [
           {
            "colorbar": {
             "outlinewidth": 0,
             "ticks": ""
            },
            "colorscale": [
             [
              0,
              "#0d0887"
             ],
             [
              0.1111111111111111,
              "#46039f"
             ],
             [
              0.2222222222222222,
              "#7201a8"
             ],
             [
              0.3333333333333333,
              "#9c179e"
             ],
             [
              0.4444444444444444,
              "#bd3786"
             ],
             [
              0.5555555555555556,
              "#d8576b"
             ],
             [
              0.6666666666666666,
              "#ed7953"
             ],
             [
              0.7777777777777778,
              "#fb9f3a"
             ],
             [
              0.8888888888888888,
              "#fdca26"
             ],
             [
              1,
              "#f0f921"
             ]
            ],
            "type": "surface"
           }
          ],
          "table": [
           {
            "cells": {
             "fill": {
              "color": "#EBF0F8"
             },
             "line": {
              "color": "white"
             }
            },
            "header": {
             "fill": {
              "color": "#C8D4E3"
             },
             "line": {
              "color": "white"
             }
            },
            "type": "table"
           }
          ]
         },
         "layout": {
          "annotationdefaults": {
           "arrowcolor": "#2a3f5f",
           "arrowhead": 0,
           "arrowwidth": 1
          },
          "autotypenumbers": "strict",
          "coloraxis": {
           "colorbar": {
            "outlinewidth": 0,
            "ticks": ""
           }
          },
          "colorscale": {
           "diverging": [
            [
             0,
             "#8e0152"
            ],
            [
             0.1,
             "#c51b7d"
            ],
            [
             0.2,
             "#de77ae"
            ],
            [
             0.3,
             "#f1b6da"
            ],
            [
             0.4,
             "#fde0ef"
            ],
            [
             0.5,
             "#f7f7f7"
            ],
            [
             0.6,
             "#e6f5d0"
            ],
            [
             0.7,
             "#b8e186"
            ],
            [
             0.8,
             "#7fbc41"
            ],
            [
             0.9,
             "#4d9221"
            ],
            [
             1,
             "#276419"
            ]
           ],
           "sequential": [
            [
             0,
             "#0d0887"
            ],
            [
             0.1111111111111111,
             "#46039f"
            ],
            [
             0.2222222222222222,
             "#7201a8"
            ],
            [
             0.3333333333333333,
             "#9c179e"
            ],
            [
             0.4444444444444444,
             "#bd3786"
            ],
            [
             0.5555555555555556,
             "#d8576b"
            ],
            [
             0.6666666666666666,
             "#ed7953"
            ],
            [
             0.7777777777777778,
             "#fb9f3a"
            ],
            [
             0.8888888888888888,
             "#fdca26"
            ],
            [
             1,
             "#f0f921"
            ]
           ],
           "sequentialminus": [
            [
             0,
             "#0d0887"
            ],
            [
             0.1111111111111111,
             "#46039f"
            ],
            [
             0.2222222222222222,
             "#7201a8"
            ],
            [
             0.3333333333333333,
             "#9c179e"
            ],
            [
             0.4444444444444444,
             "#bd3786"
            ],
            [
             0.5555555555555556,
             "#d8576b"
            ],
            [
             0.6666666666666666,
             "#ed7953"
            ],
            [
             0.7777777777777778,
             "#fb9f3a"
            ],
            [
             0.8888888888888888,
             "#fdca26"
            ],
            [
             1,
             "#f0f921"
            ]
           ]
          },
          "colorway": [
           "#636efa",
           "#EF553B",
           "#00cc96",
           "#ab63fa",
           "#FFA15A",
           "#19d3f3",
           "#FF6692",
           "#B6E880",
           "#FF97FF",
           "#FECB52"
          ],
          "font": {
           "color": "#2a3f5f"
          },
          "geo": {
           "bgcolor": "white",
           "lakecolor": "white",
           "landcolor": "white",
           "showlakes": true,
           "showland": true,
           "subunitcolor": "#C8D4E3"
          },
          "hoverlabel": {
           "align": "left"
          },
          "hovermode": "closest",
          "mapbox": {
           "style": "light"
          },
          "paper_bgcolor": "white",
          "plot_bgcolor": "white",
          "polar": {
           "angularaxis": {
            "gridcolor": "#EBF0F8",
            "linecolor": "#EBF0F8",
            "ticks": ""
           },
           "bgcolor": "white",
           "radialaxis": {
            "gridcolor": "#EBF0F8",
            "linecolor": "#EBF0F8",
            "ticks": ""
           }
          },
          "scene": {
           "xaxis": {
            "backgroundcolor": "white",
            "gridcolor": "#DFE8F3",
            "gridwidth": 2,
            "linecolor": "#EBF0F8",
            "showbackground": true,
            "ticks": "",
            "zerolinecolor": "#EBF0F8"
           },
           "yaxis": {
            "backgroundcolor": "white",
            "gridcolor": "#DFE8F3",
            "gridwidth": 2,
            "linecolor": "#EBF0F8",
            "showbackground": true,
            "ticks": "",
            "zerolinecolor": "#EBF0F8"
           },
           "zaxis": {
            "backgroundcolor": "white",
            "gridcolor": "#DFE8F3",
            "gridwidth": 2,
            "linecolor": "#EBF0F8",
            "showbackground": true,
            "ticks": "",
            "zerolinecolor": "#EBF0F8"
           }
          },
          "shapedefaults": {
           "line": {
            "color": "#2a3f5f"
           }
          },
          "ternary": {
           "aaxis": {
            "gridcolor": "#DFE8F3",
            "linecolor": "#A2B1C6",
            "ticks": ""
           },
           "baxis": {
            "gridcolor": "#DFE8F3",
            "linecolor": "#A2B1C6",
            "ticks": ""
           },
           "bgcolor": "white",
           "caxis": {
            "gridcolor": "#DFE8F3",
            "linecolor": "#A2B1C6",
            "ticks": ""
           }
          },
          "title": {
           "x": 0.05
          },
          "xaxis": {
           "automargin": true,
           "gridcolor": "#EBF0F8",
           "linecolor": "#EBF0F8",
           "ticks": "",
           "title": {
            "standoff": 15
           },
           "zerolinecolor": "#EBF0F8",
           "zerolinewidth": 2
          },
          "yaxis": {
           "automargin": true,
           "gridcolor": "#EBF0F8",
           "linecolor": "#EBF0F8",
           "ticks": "",
           "title": {
            "standoff": 15
           },
           "zerolinecolor": "#EBF0F8",
           "zerolinewidth": 2
          }
         }
        },
        "title": {
         "text": "PDP for feature <b>Distance covered in km</b> <br><sup>Number of unique grid points: 10</sup>",
         "x": 0,
         "xref": "paper"
        },
        "width": 1200,
        "xaxis": {
         "anchor": "y",
         "domain": [
          0,
          1
         ]
        },
        "xaxis2": {
         "anchor": "y2",
         "domain": [
          0,
          1
         ],
         "showgrid": false,
         "showticklabels": false,
         "title": {
          "text": "<b>Distance covered in km</b> (value)"
         }
        },
        "yaxis": {
         "anchor": "x",
         "domain": [
          0.11266666666666669,
          0.99
         ],
         "title": {
          "text": "raw"
         }
        },
        "yaxis2": {
         "anchor": "x2",
         "domain": [
          0,
          0.06266666666666665
         ],
         "showgrid": false,
         "showticklabels": false
        }
       }
      }
     },
     "metadata": {},
     "output_type": "display_data"
    }
   ],
   "source": [
    "# Create the pdp data to be plotted\n",
    "pdp_dist = pdp.PDPIsolate(model=rf_model, df=val_x, model_features=feature_names, feature='Distance Covered (Kms)', feature_name='Distance covered in km')\n",
    "\n",
    "# plot the PDP for feature 'Distance Covered (Kms)'\n",
    "fig, axes = pdp_dist.plot(\n",
    "    center=False,\n",
    "    plot_lines=True,\n",
    "    frac_to_plot=100,\n",
    "    cluster=False,\n",
    "    n_cluster_centers=None,\n",
    "    cluster_method='accurate',\n",
    "    plot_pts_dist=True,\n",
    "    to_bins=False,\n",
    "    show_percentile=False,\n",
    "    which_classes=None,\n",
    "    figsize=None,\n",
    "    dpi=300,\n",
    "    ncols=2,\n",
    "    plot_params={\"pdp_hl\": True},\n",
    "    engine='plotly',\n",
    "    template='plotly_white')\n",
    "\n",
    "fig.show()"
   ]
  },
  {
   "cell_type": "markdown",
   "metadata": {},
   "source": [
    "<font color=red>Interpretation:</font> \n",
    "This model states that it is more likely to win \"Man of the Match\" if the players run a total of about 100 km during the match. More running leads to lower predictions.\n",
    "In general, the smoother shape of this curve seems more plausible than the step function of the decision tree model. \n",
    "However, this data set is much too small. One should be very careful when interpreting a model."
   ]
  },
  {
   "cell_type": "markdown",
   "metadata": {},
   "source": [
    "## 2D Partial Depedence Plot"
   ]
  },
  {
   "cell_type": "markdown",
   "metadata": {},
   "source": [
    "Now, plotting the PDP for two features can be done by using the **pdp_interact** and **pdp_interact_plot** functions.\n",
    "\n",
    "First, switch back to the simple decision tree model."
   ]
  },
  {
   "cell_type": "code",
   "execution_count": 74,
   "metadata": {
    "tags": []
   },
   "outputs": [],
   "source": [
    "train_x, val_x, train_y, val_y = train_test_split(x, y, random_state=1)\n",
    "tree_model = DecisionTreeClassifier(random_state=0, max_depth=5, min_samples_split=5).fit(train_x, train_y)"
   ]
  },
  {
   "cell_type": "code",
   "execution_count": 75,
   "metadata": {
    "tags": []
   },
   "outputs": [
    {
     "name": "stdout",
     "output_type": "stream",
     "text": [
      "obtain pred_func from the provided model.\n"
     ]
    },
    {
     "name": "stderr",
     "output_type": "stream",
     "text": [
      "100%|██████████| 6/6 [00:00<00:00, 1177.40it/s]\n"
     ]
    },
    {
     "name": "stdout",
     "output_type": "stream",
     "text": [
      "obtain pred_func from the provided model.\n"
     ]
    },
    {
     "name": "stderr",
     "output_type": "stream",
     "text": [
      "100%|██████████| 10/10 [00:00<00:00, 1129.05it/s]\n"
     ]
    },
    {
     "name": "stdout",
     "output_type": "stream",
     "text": [
      "obtain pred_func from the provided model.\n"
     ]
    },
    {
     "name": "stderr",
     "output_type": "stream",
     "text": [
      "100%|██████████| 60/60 [00:00<00:00, 1293.71it/s]\n"
     ]
    },
    {
     "data": {
      "application/vnd.plotly.v1+json": {
       "config": {
        "plotlyServerURL": "https://plot.ly"
       },
       "data": [
        {
         "colorbar": {
          "len": 0.8399999999999999,
          "x": 1.0099999999999998,
          "xanchor": "left",
          "y": 2.220446049250313e-16,
          "yanchor": "bottom"
         },
         "colorscale": [
          [
           0,
           "rgb(247,251,255)"
          ],
          [
           0.125,
           "rgb(222,235,247)"
          ],
          [
           0.25,
           "rgb(198,219,239)"
          ],
          [
           0.375,
           "rgb(158,202,225)"
          ],
          [
           0.5,
           "rgb(107,174,214)"
          ],
          [
           0.625,
           "rgb(66,146,198)"
          ],
          [
           0.75,
           "rgb(33,113,181)"
          ],
          [
           0.875,
           "rgb(8,81,156)"
          ],
          [
           1,
           "rgb(8,48,107)"
          ]
         ],
         "name": "pdp interact",
         "opacity": 0.8,
         "showscale": true,
         "text": [
          [
           "0.125",
           "0.609",
           "0.609",
           "0.609",
           "0.609",
           "0.609"
          ],
          [
           "0.125",
           "0.609",
           "0.609",
           "0.609",
           "0.609",
           "0.609"
          ],
          [
           "0.125",
           "0.609",
           "0.609",
           "0.609",
           "0.609",
           "0.609"
          ],
          [
           "0.125",
           "0.729",
           "0.729",
           "0.729",
           "0.729",
           "0.729"
          ],
          [
           "0.125",
           "0.729",
           "0.729",
           "0.729",
           "0.729",
           "0.729"
          ],
          [
           "0.125",
           "0.729",
           "0.729",
           "0.729",
           "0.729",
           "0.729"
          ],
          [
           "0.125",
           "0.729",
           "0.729",
           "0.729",
           "0.729",
           "0.729"
          ],
          [
           "0.125",
           "0.729",
           "0.729",
           "0.729",
           "0.729",
           "0.729"
          ],
          [
           "0.125",
           "0.729",
           "0.729",
           "0.729",
           "0.729",
           "0.729"
          ],
          [
           "0.125",
           "0.729",
           "0.729",
           "0.729",
           "0.729",
           "0.729"
          ]
         ],
         "texttemplate": "%{text}",
         "type": "heatmap",
         "x": [
          0,
          1,
          2,
          3,
          4,
          5
         ],
         "xaxis": "x4",
         "y": [
          0,
          1,
          2,
          3,
          4,
          5,
          6,
          7,
          8,
          9
         ],
         "yaxis": "y4",
         "z": [
          [
           0.125,
           0.608695652173913,
           0.608695652173913,
           0.608695652173913,
           0.608695652173913,
           0.608695652173913
          ],
          [
           0.125,
           0.608695652173913,
           0.608695652173913,
           0.608695652173913,
           0.608695652173913,
           0.608695652173913
          ],
          [
           0.125,
           0.608695652173913,
           0.608695652173913,
           0.608695652173913,
           0.608695652173913,
           0.608695652173913
          ],
          [
           0.125,
           0.7292685688405798,
           0.7292685688405798,
           0.7292685688405798,
           0.7292685688405798,
           0.7292685688405798
          ],
          [
           0.125,
           0.7292685688405798,
           0.7292685688405798,
           0.7292685688405798,
           0.7292685688405798,
           0.7292685688405798
          ],
          [
           0.125,
           0.7292685688405798,
           0.7292685688405798,
           0.7292685688405798,
           0.7292685688405798,
           0.7292685688405798
          ],
          [
           0.125,
           0.7292685688405798,
           0.7292685688405798,
           0.7292685688405798,
           0.7292685688405798,
           0.7292685688405798
          ],
          [
           0.125,
           0.7292685688405798,
           0.7292685688405798,
           0.7292685688405798,
           0.7292685688405798,
           0.7292685688405798
          ],
          [
           0.125,
           0.7292685688405798,
           0.7292685688405798,
           0.7292685688405798,
           0.7292685688405798,
           0.7292685688405798
          ],
          [
           0.125,
           0.7292685688405798,
           0.7292685688405798,
           0.7292685688405798,
           0.7292685688405798,
           0.7292685688405798
          ]
         ],
         "zmax": 0.7594769021739132,
         "zmin": 0.125
        },
        {
         "colorscale": [
          [
           0,
           "rgb(247,251,255)"
          ],
          [
           0.125,
           "rgb(222,235,247)"
          ],
          [
           0.25,
           "rgb(198,219,239)"
          ],
          [
           0.375,
           "rgb(158,202,225)"
          ],
          [
           0.5,
           "rgb(107,174,214)"
          ],
          [
           0.625,
           "rgb(66,146,198)"
          ],
          [
           0.75,
           "rgb(33,113,181)"
          ],
          [
           0.875,
           "rgb(8,81,156)"
          ],
          [
           1,
           "rgb(8,48,107)"
          ]
         ],
         "hovertemplate": "%{text}",
         "name": "pdp isolate",
         "opacity": 0.8,
         "showscale": false,
         "text": [
          [
           "0.125",
           "0.759",
           "0.759",
           "0.759",
           "0.759",
           "0.759"
          ]
         ],
         "texttemplate": "%{text}",
         "type": "heatmap",
         "x": [
          0,
          1,
          2,
          3,
          4,
          5
         ],
         "xaxis": "x2",
         "y": [
          0
         ],
         "yaxis": "y2",
         "z": [
          [
           0.125,
           0.7594769021739132,
           0.7594769021739132,
           0.7594769021739132,
           0.7594769021739132,
           0.7594769021739132
          ]
         ],
         "zmax": 0.7594769021739132,
         "zmin": 0.125
        },
        {
         "colorscale": [
          [
           0,
           "rgb(247,251,255)"
          ],
          [
           0.125,
           "rgb(222,235,247)"
          ],
          [
           0.25,
           "rgb(198,219,239)"
          ],
          [
           0.375,
           "rgb(158,202,225)"
          ],
          [
           0.5,
           "rgb(107,174,214)"
          ],
          [
           0.625,
           "rgb(66,146,198)"
          ],
          [
           0.75,
           "rgb(33,113,181)"
          ],
          [
           0.875,
           "rgb(8,81,156)"
          ],
          [
           1,
           "rgb(8,48,107)"
          ]
         ],
         "hovertemplate": "%{text}",
         "name": "pdp isolate",
         "opacity": 0.8,
         "showscale": false,
         "text": [
          [
           "0.478"
          ],
          [
           "0.478"
          ],
          [
           "0.478"
          ],
          [
           "0.585"
          ],
          [
           "0.585"
          ],
          [
           "0.585"
          ],
          [
           "0.585"
          ],
          [
           "0.585"
          ],
          [
           "0.585"
          ],
          [
           "0.585"
          ]
         ],
         "texttemplate": "%{text}",
         "type": "heatmap",
         "x": [
          0
         ],
         "xaxis": "x3",
         "y": [
          0,
          1,
          2,
          3,
          4,
          5,
          6,
          7,
          8,
          9
         ],
         "yaxis": "y3",
         "z": [
          [
           0.47758152173913043
          ],
          [
           0.47758152173913043
          ],
          [
           0.47758152173913043
          ],
          [
           0.5846127717391305
          ],
          [
           0.5846127717391305
          ],
          [
           0.5846127717391305
          ],
          [
           0.5846127717391305
          ],
          [
           0.5846127717391305
          ],
          [
           0.5846127717391305
          ],
          [
           0.5846127717391305
          ]
         ],
         "zmax": 0.7594769021739132,
         "zmin": 0.125
        }
       ],
       "layout": {
        "height": 600,
        "showlegend": false,
        "template": {
         "data": {
          "bar": [
           {
            "error_x": {
             "color": "#2a3f5f"
            },
            "error_y": {
             "color": "#2a3f5f"
            },
            "marker": {
             "line": {
              "color": "white",
              "width": 0.5
             },
             "pattern": {
              "fillmode": "overlay",
              "size": 10,
              "solidity": 0.2
             }
            },
            "type": "bar"
           }
          ],
          "barpolar": [
           {
            "marker": {
             "line": {
              "color": "white",
              "width": 0.5
             },
             "pattern": {
              "fillmode": "overlay",
              "size": 10,
              "solidity": 0.2
             }
            },
            "type": "barpolar"
           }
          ],
          "carpet": [
           {
            "aaxis": {
             "endlinecolor": "#2a3f5f",
             "gridcolor": "#C8D4E3",
             "linecolor": "#C8D4E3",
             "minorgridcolor": "#C8D4E3",
             "startlinecolor": "#2a3f5f"
            },
            "baxis": {
             "endlinecolor": "#2a3f5f",
             "gridcolor": "#C8D4E3",
             "linecolor": "#C8D4E3",
             "minorgridcolor": "#C8D4E3",
             "startlinecolor": "#2a3f5f"
            },
            "type": "carpet"
           }
          ],
          "choropleth": [
           {
            "colorbar": {
             "outlinewidth": 0,
             "ticks": ""
            },
            "type": "choropleth"
           }
          ],
          "contour": [
           {
            "colorbar": {
             "outlinewidth": 0,
             "ticks": ""
            },
            "colorscale": [
             [
              0,
              "#0d0887"
             ],
             [
              0.1111111111111111,
              "#46039f"
             ],
             [
              0.2222222222222222,
              "#7201a8"
             ],
             [
              0.3333333333333333,
              "#9c179e"
             ],
             [
              0.4444444444444444,
              "#bd3786"
             ],
             [
              0.5555555555555556,
              "#d8576b"
             ],
             [
              0.6666666666666666,
              "#ed7953"
             ],
             [
              0.7777777777777778,
              "#fb9f3a"
             ],
             [
              0.8888888888888888,
              "#fdca26"
             ],
             [
              1,
              "#f0f921"
             ]
            ],
            "type": "contour"
           }
          ],
          "contourcarpet": [
           {
            "colorbar": {
             "outlinewidth": 0,
             "ticks": ""
            },
            "type": "contourcarpet"
           }
          ],
          "heatmap": [
           {
            "colorbar": {
             "outlinewidth": 0,
             "ticks": ""
            },
            "colorscale": [
             [
              0,
              "#0d0887"
             ],
             [
              0.1111111111111111,
              "#46039f"
             ],
             [
              0.2222222222222222,
              "#7201a8"
             ],
             [
              0.3333333333333333,
              "#9c179e"
             ],
             [
              0.4444444444444444,
              "#bd3786"
             ],
             [
              0.5555555555555556,
              "#d8576b"
             ],
             [
              0.6666666666666666,
              "#ed7953"
             ],
             [
              0.7777777777777778,
              "#fb9f3a"
             ],
             [
              0.8888888888888888,
              "#fdca26"
             ],
             [
              1,
              "#f0f921"
             ]
            ],
            "type": "heatmap"
           }
          ],
          "heatmapgl": [
           {
            "colorbar": {
             "outlinewidth": 0,
             "ticks": ""
            },
            "colorscale": [
             [
              0,
              "#0d0887"
             ],
             [
              0.1111111111111111,
              "#46039f"
             ],
             [
              0.2222222222222222,
              "#7201a8"
             ],
             [
              0.3333333333333333,
              "#9c179e"
             ],
             [
              0.4444444444444444,
              "#bd3786"
             ],
             [
              0.5555555555555556,
              "#d8576b"
             ],
             [
              0.6666666666666666,
              "#ed7953"
             ],
             [
              0.7777777777777778,
              "#fb9f3a"
             ],
             [
              0.8888888888888888,
              "#fdca26"
             ],
             [
              1,
              "#f0f921"
             ]
            ],
            "type": "heatmapgl"
           }
          ],
          "histogram": [
           {
            "marker": {
             "pattern": {
              "fillmode": "overlay",
              "size": 10,
              "solidity": 0.2
             }
            },
            "type": "histogram"
           }
          ],
          "histogram2d": [
           {
            "colorbar": {
             "outlinewidth": 0,
             "ticks": ""
            },
            "colorscale": [
             [
              0,
              "#0d0887"
             ],
             [
              0.1111111111111111,
              "#46039f"
             ],
             [
              0.2222222222222222,
              "#7201a8"
             ],
             [
              0.3333333333333333,
              "#9c179e"
             ],
             [
              0.4444444444444444,
              "#bd3786"
             ],
             [
              0.5555555555555556,
              "#d8576b"
             ],
             [
              0.6666666666666666,
              "#ed7953"
             ],
             [
              0.7777777777777778,
              "#fb9f3a"
             ],
             [
              0.8888888888888888,
              "#fdca26"
             ],
             [
              1,
              "#f0f921"
             ]
            ],
            "type": "histogram2d"
           }
          ],
          "histogram2dcontour": [
           {
            "colorbar": {
             "outlinewidth": 0,
             "ticks": ""
            },
            "colorscale": [
             [
              0,
              "#0d0887"
             ],
             [
              0.1111111111111111,
              "#46039f"
             ],
             [
              0.2222222222222222,
              "#7201a8"
             ],
             [
              0.3333333333333333,
              "#9c179e"
             ],
             [
              0.4444444444444444,
              "#bd3786"
             ],
             [
              0.5555555555555556,
              "#d8576b"
             ],
             [
              0.6666666666666666,
              "#ed7953"
             ],
             [
              0.7777777777777778,
              "#fb9f3a"
             ],
             [
              0.8888888888888888,
              "#fdca26"
             ],
             [
              1,
              "#f0f921"
             ]
            ],
            "type": "histogram2dcontour"
           }
          ],
          "mesh3d": [
           {
            "colorbar": {
             "outlinewidth": 0,
             "ticks": ""
            },
            "type": "mesh3d"
           }
          ],
          "parcoords": [
           {
            "line": {
             "colorbar": {
              "outlinewidth": 0,
              "ticks": ""
             }
            },
            "type": "parcoords"
           }
          ],
          "pie": [
           {
            "automargin": true,
            "type": "pie"
           }
          ],
          "scatter": [
           {
            "fillpattern": {
             "fillmode": "overlay",
             "size": 10,
             "solidity": 0.2
            },
            "type": "scatter"
           }
          ],
          "scatter3d": [
           {
            "line": {
             "colorbar": {
              "outlinewidth": 0,
              "ticks": ""
             }
            },
            "marker": {
             "colorbar": {
              "outlinewidth": 0,
              "ticks": ""
             }
            },
            "type": "scatter3d"
           }
          ],
          "scattercarpet": [
           {
            "marker": {
             "colorbar": {
              "outlinewidth": 0,
              "ticks": ""
             }
            },
            "type": "scattercarpet"
           }
          ],
          "scattergeo": [
           {
            "marker": {
             "colorbar": {
              "outlinewidth": 0,
              "ticks": ""
             }
            },
            "type": "scattergeo"
           }
          ],
          "scattergl": [
           {
            "marker": {
             "colorbar": {
              "outlinewidth": 0,
              "ticks": ""
             }
            },
            "type": "scattergl"
           }
          ],
          "scattermapbox": [
           {
            "marker": {
             "colorbar": {
              "outlinewidth": 0,
              "ticks": ""
             }
            },
            "type": "scattermapbox"
           }
          ],
          "scatterpolar": [
           {
            "marker": {
             "colorbar": {
              "outlinewidth": 0,
              "ticks": ""
             }
            },
            "type": "scatterpolar"
           }
          ],
          "scatterpolargl": [
           {
            "marker": {
             "colorbar": {
              "outlinewidth": 0,
              "ticks": ""
             }
            },
            "type": "scatterpolargl"
           }
          ],
          "scatterternary": [
           {
            "marker": {
             "colorbar": {
              "outlinewidth": 0,
              "ticks": ""
             }
            },
            "type": "scatterternary"
           }
          ],
          "surface": [
           {
            "colorbar": {
             "outlinewidth": 0,
             "ticks": ""
            },
            "colorscale": [
             [
              0,
              "#0d0887"
             ],
             [
              0.1111111111111111,
              "#46039f"
             ],
             [
              0.2222222222222222,
              "#7201a8"
             ],
             [
              0.3333333333333333,
              "#9c179e"
             ],
             [
              0.4444444444444444,
              "#bd3786"
             ],
             [
              0.5555555555555556,
              "#d8576b"
             ],
             [
              0.6666666666666666,
              "#ed7953"
             ],
             [
              0.7777777777777778,
              "#fb9f3a"
             ],
             [
              0.8888888888888888,
              "#fdca26"
             ],
             [
              1,
              "#f0f921"
             ]
            ],
            "type": "surface"
           }
          ],
          "table": [
           {
            "cells": {
             "fill": {
              "color": "#EBF0F8"
             },
             "line": {
              "color": "white"
             }
            },
            "header": {
             "fill": {
              "color": "#C8D4E3"
             },
             "line": {
              "color": "white"
             }
            },
            "type": "table"
           }
          ]
         },
         "layout": {
          "annotationdefaults": {
           "arrowcolor": "#2a3f5f",
           "arrowhead": 0,
           "arrowwidth": 1
          },
          "autotypenumbers": "strict",
          "coloraxis": {
           "colorbar": {
            "outlinewidth": 0,
            "ticks": ""
           }
          },
          "colorscale": {
           "diverging": [
            [
             0,
             "#8e0152"
            ],
            [
             0.1,
             "#c51b7d"
            ],
            [
             0.2,
             "#de77ae"
            ],
            [
             0.3,
             "#f1b6da"
            ],
            [
             0.4,
             "#fde0ef"
            ],
            [
             0.5,
             "#f7f7f7"
            ],
            [
             0.6,
             "#e6f5d0"
            ],
            [
             0.7,
             "#b8e186"
            ],
            [
             0.8,
             "#7fbc41"
            ],
            [
             0.9,
             "#4d9221"
            ],
            [
             1,
             "#276419"
            ]
           ],
           "sequential": [
            [
             0,
             "#0d0887"
            ],
            [
             0.1111111111111111,
             "#46039f"
            ],
            [
             0.2222222222222222,
             "#7201a8"
            ],
            [
             0.3333333333333333,
             "#9c179e"
            ],
            [
             0.4444444444444444,
             "#bd3786"
            ],
            [
             0.5555555555555556,
             "#d8576b"
            ],
            [
             0.6666666666666666,
             "#ed7953"
            ],
            [
             0.7777777777777778,
             "#fb9f3a"
            ],
            [
             0.8888888888888888,
             "#fdca26"
            ],
            [
             1,
             "#f0f921"
            ]
           ],
           "sequentialminus": [
            [
             0,
             "#0d0887"
            ],
            [
             0.1111111111111111,
             "#46039f"
            ],
            [
             0.2222222222222222,
             "#7201a8"
            ],
            [
             0.3333333333333333,
             "#9c179e"
            ],
            [
             0.4444444444444444,
             "#bd3786"
            ],
            [
             0.5555555555555556,
             "#d8576b"
            ],
            [
             0.6666666666666666,
             "#ed7953"
            ],
            [
             0.7777777777777778,
             "#fb9f3a"
            ],
            [
             0.8888888888888888,
             "#fdca26"
            ],
            [
             1,
             "#f0f921"
            ]
           ]
          },
          "colorway": [
           "#636efa",
           "#EF553B",
           "#00cc96",
           "#ab63fa",
           "#FFA15A",
           "#19d3f3",
           "#FF6692",
           "#B6E880",
           "#FF97FF",
           "#FECB52"
          ],
          "font": {
           "color": "#2a3f5f"
          },
          "geo": {
           "bgcolor": "white",
           "lakecolor": "white",
           "landcolor": "white",
           "showlakes": true,
           "showland": true,
           "subunitcolor": "#C8D4E3"
          },
          "hoverlabel": {
           "align": "left"
          },
          "hovermode": "closest",
          "mapbox": {
           "style": "light"
          },
          "paper_bgcolor": "white",
          "plot_bgcolor": "white",
          "polar": {
           "angularaxis": {
            "gridcolor": "#EBF0F8",
            "linecolor": "#EBF0F8",
            "ticks": ""
           },
           "bgcolor": "white",
           "radialaxis": {
            "gridcolor": "#EBF0F8",
            "linecolor": "#EBF0F8",
            "ticks": ""
           }
          },
          "scene": {
           "xaxis": {
            "backgroundcolor": "white",
            "gridcolor": "#DFE8F3",
            "gridwidth": 2,
            "linecolor": "#EBF0F8",
            "showbackground": true,
            "ticks": "",
            "zerolinecolor": "#EBF0F8"
           },
           "yaxis": {
            "backgroundcolor": "white",
            "gridcolor": "#DFE8F3",
            "gridwidth": 2,
            "linecolor": "#EBF0F8",
            "showbackground": true,
            "ticks": "",
            "zerolinecolor": "#EBF0F8"
           },
           "zaxis": {
            "backgroundcolor": "white",
            "gridcolor": "#DFE8F3",
            "gridwidth": 2,
            "linecolor": "#EBF0F8",
            "showbackground": true,
            "ticks": "",
            "zerolinecolor": "#EBF0F8"
           }
          },
          "shapedefaults": {
           "line": {
            "color": "#2a3f5f"
           }
          },
          "ternary": {
           "aaxis": {
            "gridcolor": "#DFE8F3",
            "linecolor": "#A2B1C6",
            "ticks": ""
           },
           "baxis": {
            "gridcolor": "#DFE8F3",
            "linecolor": "#A2B1C6",
            "ticks": ""
           },
           "bgcolor": "white",
           "caxis": {
            "gridcolor": "#DFE8F3",
            "linecolor": "#A2B1C6",
            "ticks": ""
           }
          },
          "title": {
           "x": 0.05
          },
          "xaxis": {
           "automargin": true,
           "gridcolor": "#EBF0F8",
           "linecolor": "#EBF0F8",
           "ticks": "",
           "title": {
            "standoff": 15
           },
           "zerolinecolor": "#EBF0F8",
           "zerolinewidth": 2
          },
          "yaxis": {
           "automargin": true,
           "gridcolor": "#EBF0F8",
           "linecolor": "#EBF0F8",
           "ticks": "",
           "title": {
            "standoff": 15
           },
           "zerolinecolor": "#EBF0F8",
           "zerolinewidth": 2
          }
         }
        },
        "title": {
         "text": "PDP interact for features <b>Number of Goals Scored</b> and <b>Distance covered in km</b> <br><sup>Number of unique grid points: (<b>Number of Goals Scored</b>: 6, <b>Distance covered in km</b>: 10)</sup>",
         "x": 0,
         "xref": "paper"
        },
        "width": 1200,
        "xaxis": {
         "anchor": "y",
         "domain": [
          0,
          0.5
         ]
        },
        "xaxis2": {
         "anchor": "y2",
         "domain": [
          0.08533333333333333,
          0.9999999999999999
         ],
         "side": "top",
         "ticktext": [
          "0<br><sup><b>[0.0, 11.11]</b></sup>",
          "0.89<br><sup><b>[22.22]</b></sup>",
          "1<br><sup><b>[33.33, 44.44]</b></sup>",
          "1.22<br><sup><b>[55.56]</b></sup>",
          "2<br><sup><b>[66.67, 77.78, 88.89]</b></sup>",
          "3<br><sup><b>[100.0]</b></sup>"
         ],
         "tickvals": [
          0,
          1,
          2,
          3,
          4,
          5
         ],
         "title": {
          "standoff": 0,
          "text": "<b>Number of Goals Scored</b> (value+percentile)"
         }
        },
        "xaxis3": {
         "anchor": "y3",
         "domain": [
          0,
          0.06533333333333333
         ],
         "showgrid": false,
         "showticklabels": false
        },
        "xaxis4": {
         "anchor": "y4",
         "domain": [
          0.08533333333333333,
          0.9999999999999999
         ],
         "showgrid": false,
         "showticklabels": false
        },
        "yaxis": {
         "anchor": "x",
         "domain": [
          0.5,
          1
         ]
        },
        "yaxis2": {
         "anchor": "x2",
         "domain": [
          0.89,
          0.95
         ],
         "showgrid": false,
         "showticklabels": false
        },
        "yaxis3": {
         "anchor": "x3",
         "domain": [
          2.220446049250313e-16,
          0.8400000000000001
         ],
         "ticktext": [
          "89<br><sup><b>[0.0]</b></sup>",
          "99<br><sup><b>[11.11]</b></sup>",
          "101<br><sup><b>[22.22]</b></sup>",
          "102<br><sup><b>[33.33]</b></sup>",
          "105.78<br><sup><b>[44.44]</b></sup>",
          "107<br><sup><b>[55.56]</b></sup>",
          "109.67<br><sup><b>[66.67]</b></sup>",
          "112<br><sup><b>[77.78]</b></sup>",
          "133.67<br><sup><b>[88.89]</b></sup>",
          "148<br><sup><b>[100.0]</b></sup>"
         ],
         "tickvals": [
          0,
          1,
          2,
          3,
          4,
          5,
          6,
          7,
          8,
          9
         ],
         "title": {
          "standoff": 0,
          "text": "<b>Distance covered in km</b> (value+percentile)"
         }
        },
        "yaxis4": {
         "anchor": "x4",
         "domain": [
          2.220446049250313e-16,
          0.8400000000000001
         ],
         "showgrid": false,
         "showticklabels": false
        }
       }
      }
     },
     "metadata": {},
     "output_type": "display_data"
    }
   ],
   "source": [
    "# Similar to previous PDP plot.\n",
    "# However, use pdp_interact instead of pdp_isolate and pdp_interact_plot instead of pdp_isolate_plot\n",
    "\n",
    "# plot PDP for the two features\n",
    "features_to_plot = ['Goal Scored', 'Distance Covered (Kms)']\n",
    "\n",
    "pdp_goal_distance = pdp.PDPInteract(model=tree_model, df=val_x, model_features=feature_names, features=features_to_plot, feature_names=[\"Number of Goals Scored\", \"Distance covered in km\"])\n",
    "\n",
    "fig, axes = pdp_goal_distance.plot(\n",
    "    plot_type=\"grid\",\n",
    "    plot_pdp=True,\n",
    "    to_bins=True,\n",
    "    show_percentile=True,\n",
    "    which_classes=None,\n",
    "    figsize=None,\n",
    "    dpi=300,\n",
    "    ncols=2,\n",
    "    plot_params=None,\n",
    "    engine='plotly',\n",
    "    template='plotly_white'\n",
    ")\n",
    "fig.show()"
   ]
  },
  {
   "cell_type": "markdown",
   "metadata": {},
   "source": [
    "<font color=red>Interpretation:</font> \n",
    "This **2D PDP** shows predictions for any combination of **Goals Scored** and **Distance Covered (Kms)**.\n",
    "\n",
    "For example, it seems to yield the highest predictions when a team scores at least one (1) goal and they run a total distance close to 100km. \n",
    "If the players score 0 goals, the covered distance does not matter. \n",
    "\n",
    "Try to see this by tracing through the decision tree with 0 goals!\n",
    "\n",
    "But distance can impact predictions if the players score goals. \n",
    "Make sure you can see this from the 2D PDP. \n",
    "Can you find this pattern in the decision tree too?\n",
    "\n",
    "If you feel motivated to tweak the chart this tutorial ressource might be of value: \n",
    "https://github.com/SauceCat/PDPbox/blob/master/tutorials/pdpbox_binary_classification.ipynb"
   ]
  },
  {
   "cell_type": "markdown",
   "metadata": {
    "tags": []
   },
   "source": [
    "# <font color=\"ce33ff\">PART II (Individual Conditional Expectation)</font>"
   ]
  },
  {
   "cell_type": "markdown",
   "metadata": {},
   "source": [
    "ICE is also a model-agnostic method that can be applied to any model. \n",
    "In fact, it is basically the same concept as PDP but is different in that it displays the marginal effect of feature(s) \n",
    "for each instance instead of calculating the average effect in a overall data context as the PDP does. \n",
    "Thus, it can understood as the equivalent to a PDP for individual data instances. \n",
    "Visually, an ICE plot displays the dependence of the prediction on a feature for each instance separately, \n",
    "resulting in one line per instance."
   ]
  },
  {
   "cell_type": "markdown",
   "metadata": {},
   "source": [
    "There are multiple packages and libraries that can be used to compute ICE plots. \n",
    "\n",
    "The PartialDependenceDisplay function in the sklearn.inspection module, the PyCEBox package and H2O package’s ice_plot function are available.\n",
    "\n",
    "Let’s take a look at an example in Sklearn’s documentation (https://scikit-learn.org/stable/modules/partial_dependence.html)."
   ]
  },
  {
   "cell_type": "markdown",
   "metadata": {},
   "source": [
    "## Imports\n",
    "Import all necessary python utilities."
   ]
  },
  {
   "cell_type": "code",
   "execution_count": 76,
   "metadata": {
    "tags": []
   },
   "outputs": [],
   "source": [
    "import numpy as np\n",
    "import pandas as pd\n",
    "\n",
    "from sklearn.datasets import make_hastie_10_2\n",
    "from sklearn.ensemble import GradientBoostingClassifier\n",
    "\n",
    "# make sure you have installed scikit-learn of version > 1.0 \n",
    "# since the method from_estimator() is not available in previous versions\n",
    "from sklearn.inspection import PartialDependenceDisplay"
   ]
  },
  {
   "cell_type": "code",
   "execution_count": 77,
   "metadata": {
    "tags": []
   },
   "outputs": [
    {
     "data": {
      "text/plain": [
       "<sklearn.inspection._plot.partial_dependence.PartialDependenceDisplay at 0x2b3d28b20>"
      ]
     },
     "execution_count": 77,
     "metadata": {},
     "output_type": "execute_result"
    },
    {
     "data": {
      "image/png": "[encoded data removed]",
      "text/plain": [
       "<Figure size 640x480 with 3 Axes>"
      ]
     },
     "metadata": {},
     "output_type": "display_data"
    }
   ],
   "source": [
    "# Read some inbuild data set as part of the Sklearn data sets being offered\n",
    "# To get more information on the data set please refer to \n",
    "''' https://scikit-learn.org/stable/modules/generated/sklearn.datasets.make_hastie_10_2.html '''\n",
    "\n",
    "x, y = make_hastie_10_2(random_state=0) # set a seed with random_state\n",
    "\n",
    "clf = GradientBoostingClassifier(n_estimators=100, learning_rate=1.0, max_depth=1, random_state=0).fit(x, y)\n",
    "features = [0, 1] #features x and y\n",
    "\n",
    "PartialDependenceDisplay.from_estimator(clf, x, features, kind='individual')"
   ]
  },
  {
   "cell_type": "markdown",
   "metadata": {},
   "source": [
    "It is evident that, similar to PDPs, ICE curves can be computed only after a model has been trained.\n",
    "\n",
    "If you specify the parameter kind='both', then a PDP and an ICE curve is plotted in one canvas at the same time. \n",
    "This will be meaningful when looking at both, the marginal average effect and marginal individual effects at once!"
   ]
  },
  {
   "cell_type": "code",
   "execution_count": 78,
   "metadata": {
    "tags": []
   },
   "outputs": [
    {
     "data": {
      "text/plain": [
       "<sklearn.inspection._plot.partial_dependence.PartialDependenceDisplay at 0x299097ac0>"
      ]
     },
     "execution_count": 78,
     "metadata": {},
     "output_type": "execute_result"
    },
    {
     "data": {
      "image/png": "[encoded data removed]",
      "text/plain": [
       "<Figure size 640x480 with 3 Axes>"
      ]
     },
     "metadata": {},
     "output_type": "display_data"
    }
   ],
   "source": [
    "PartialDependenceDisplay.from_estimator(clf, x, features, kind='both')"
   ]
  },
  {
   "cell_type": "markdown",
   "metadata": {},
   "source": [
    "# Task"
   ]
  },
  {
   "cell_type": "code",
   "execution_count": 79,
   "metadata": {},
   "outputs": [
    {
     "data": {
      "text/html": [
       "<div>\n",
       "<style scoped>\n",
       "    .dataframe tbody tr th:only-of-type {\n",
       "        vertical-align: middle;\n",
       "    }\n",
       "\n",
       "    .dataframe tbody tr th {\n",
       "        vertical-align: top;\n",
       "    }\n",
       "\n",
       "    .dataframe thead th {\n",
       "        text-align: right;\n",
       "    }\n",
       "</style>\n",
       "<table border=\"1\" class=\"dataframe\">\n",
       "  <thead>\n",
       "    <tr style=\"text-align: right;\">\n",
       "      <th></th>\n",
       "      <th>name</th>\n",
       "      <th>roaster</th>\n",
       "      <th>roast</th>\n",
       "      <th>loc_country</th>\n",
       "      <th>origin</th>\n",
       "      <th>100g_USD</th>\n",
       "      <th>rating</th>\n",
       "      <th>review_date</th>\n",
       "      <th>review</th>\n",
       "    </tr>\n",
       "  </thead>\n",
       "  <tbody>\n",
       "    <tr>\n",
       "      <th>0</th>\n",
       "      <td>Ethiopia Shakiso Mormora</td>\n",
       "      <td>Revel Coffee</td>\n",
       "      <td>Medium-Light</td>\n",
       "      <td>United States</td>\n",
       "      <td>Ethiopia</td>\n",
       "      <td>4.70</td>\n",
       "      <td>92</td>\n",
       "      <td>November 2017</td>\n",
       "      <td>Crisply sweet, cocoa-toned. Lemon blossom, roa...</td>\n",
       "    </tr>\n",
       "    <tr>\n",
       "      <th>1</th>\n",
       "      <td>Ethiopia Suke Quto</td>\n",
       "      <td>Roast House</td>\n",
       "      <td>Medium-Light</td>\n",
       "      <td>United States</td>\n",
       "      <td>Ethiopia</td>\n",
       "      <td>4.19</td>\n",
       "      <td>92</td>\n",
       "      <td>November 2017</td>\n",
       "      <td>Delicate, sweetly spice-toned. Pink peppercorn...</td>\n",
       "    </tr>\n",
       "    <tr>\n",
       "      <th>2</th>\n",
       "      <td>Ethiopia Gedeb Halo Beriti</td>\n",
       "      <td>Big Creek Coffee Roasters</td>\n",
       "      <td>Medium</td>\n",
       "      <td>United States</td>\n",
       "      <td>Ethiopia</td>\n",
       "      <td>4.85</td>\n",
       "      <td>94</td>\n",
       "      <td>November 2017</td>\n",
       "      <td>Deeply sweet, subtly pungent. Honey, pear, tan...</td>\n",
       "    </tr>\n",
       "  </tbody>\n",
       "</table>\n",
       "</div>"
      ],
      "text/plain": [
       "                         name                    roaster         roast  \\\n",
       "0    Ethiopia Shakiso Mormora               Revel Coffee  Medium-Light   \n",
       "1          Ethiopia Suke Quto                Roast House  Medium-Light   \n",
       "2  Ethiopia Gedeb Halo Beriti  Big Creek Coffee Roasters        Medium   \n",
       "\n",
       "     loc_country    origin  100g_USD  rating    review_date  \\\n",
       "0  United States  Ethiopia      4.70      92  November 2017   \n",
       "1  United States  Ethiopia      4.19      92  November 2017   \n",
       "2  United States  Ethiopia      4.85      94  November 2017   \n",
       "\n",
       "                                              review  \n",
       "0  Crisply sweet, cocoa-toned. Lemon blossom, roa...  \n",
       "1  Delicate, sweetly spice-toned. Pink peppercorn...  \n",
       "2  Deeply sweet, subtly pungent. Honey, pear, tan...  "
      ]
     },
     "execution_count": 79,
     "metadata": {},
     "output_type": "execute_result"
    }
   ],
   "source": [
    "# Import iris data set\n",
    "data = pd.read_csv('./data/coffee/simplified_coffee.csv')\n",
    "\n",
    "# Preview the data\n",
    "data.head(3)"
   ]
  },
  {
   "cell_type": "code",
   "execution_count": 80,
   "metadata": {},
   "outputs": [
    {
     "name": "stdout",
     "output_type": "stream",
     "text": [
      "['name', 'roaster', 'roast', 'loc_country', 'origin', '100g_USD', 'rating', 'review_date', 'review']\n",
      "['100g_USD', 'rating']\n"
     ]
    }
   ],
   "source": [
    "# Preprocess\n",
    "print(data.columns.tolist())\n",
    "# Convert origin==Ethiopia from string to binary\n",
    "y = (data['origin'] == 'Ethiopia')\n",
    "\n",
    "feature_names = [i for i in data.columns if data[i].dtype in [np.float64, np.int64]]\n",
    "\n",
    "x = data[feature_names]\n",
    "\n",
    "print(feature_names)"
   ]
  },
  {
   "cell_type": "code",
   "execution_count": 81,
   "metadata": {},
   "outputs": [],
   "source": [
    "# Train classifier\n",
    "\n",
    "train_x, val_x, train_y, val_y = train_test_split(x, y, random_state=1)\n",
    "tree_model = DecisionTreeClassifier(random_state=0, max_depth=5, min_samples_split=5).fit(train_x, train_y)"
   ]
  },
  {
   "cell_type": "code",
   "execution_count": 82,
   "metadata": {},
   "outputs": [
    {
     "name": "stdout",
     "output_type": "stream",
     "text": [
      "obtain pred_func from the provided model.\n"
     ]
    },
    {
     "name": "stderr",
     "output_type": "stream",
     "text": [
      "100%|██████████| 6/6 [00:00<00:00, 727.10it/s]\n"
     ]
    },
    {
     "data": {
      "application/vnd.plotly.v1+json": {
       "config": {
        "plotlyServerURL": "https://plot.ly"
       },
       "data": [
        {
         "hoverinfo": "none",
         "line": {
          "color": "rgba(193,217,237,0.5)",
          "width": 0.5
         },
         "mode": "lines",
         "type": "scatter",
         "x": [
          84,
          92,
          93,
          94,
          95,
          97
         ],
         "xaxis": "x",
         "y": [
          0.3670520231213873,
          0.3670520231213873,
          0.3670520231213873,
          0.3108108108108108,
          0.4117647058823529,
          0.4117647058823529
         ],
         "yaxis": "y"
        },
        {
         "hoverinfo": "none",
         "line": {
          "color": "rgba(177,210,231,0.5)",
          "width": 0.5
         },
         "mode": "lines",
         "type": "scatter",
         "x": [
          84,
          92,
          93,
          94,
          95,
          97
         ],
         "xaxis": "x",
         "y": [
          0.1590909090909091,
          0.1590909090909091,
          0.1590909090909091,
          0.1590909090909091,
          0.1590909090909091,
          1
         ],
         "yaxis": "y"
        },
        {
         "hoverinfo": "none",
         "line": {
          "color": "rgba(160,202,225,0.5)",
          "width": 0.5
         },
         "mode": "lines",
         "type": "scatter",
         "x": [
          84,
          92,
          93,
          94,
          95,
          97
         ],
         "xaxis": "x",
         "y": [
          0.3670520231213873,
          0.3670520231213873,
          0.3670520231213873,
          0.7391304347826086,
          0.7391304347826086,
          0.7391304347826086
         ],
         "yaxis": "y"
        },
        {
         "hoverinfo": "none",
         "line": {
          "color": "rgba(139,192,221,0.5)",
          "width": 0.5
         },
         "mode": "lines",
         "type": "scatter",
         "x": [
          84,
          92,
          93,
          94,
          95,
          97
         ],
         "xaxis": "x",
         "y": [
          0.5,
          0.5,
          0.5,
          0.7391304347826086,
          0.7391304347826086,
          0.7391304347826086
         ],
         "yaxis": "y"
        },
        {
         "hoverinfo": "none",
         "line": {
          "color": "rgba(117,179,216,0.5)",
          "width": 0.5
         },
         "mode": "lines",
         "type": "scatter",
         "x": [
          84,
          92,
          93,
          94,
          95,
          97
         ],
         "xaxis": "x",
         "y": [
          0.3670520231213873,
          0.3670520231213873,
          0.3670520231213873,
          0.7391304347826086,
          0.7391304347826086,
          0.7391304347826086
         ],
         "yaxis": "y"
        },
        {
         "hoverinfo": "none",
         "line": {
          "color": "rgba(98,168,210,0.5)",
          "width": 0.5
         },
         "mode": "lines",
         "type": "scatter",
         "x": [
          84,
          92,
          93,
          94,
          95,
          97
         ],
         "xaxis": "x",
         "y": [
          0.25,
          0.1111111111111111,
          0.1111111111111111,
          0.1111111111111111,
          0.1111111111111111,
          0.1111111111111111
         ],
         "yaxis": "y"
        },
        {
         "hoverinfo": "none",
         "line": {
          "color": "rgba(80,155,203,0.5)",
          "width": 0.5
         },
         "mode": "lines",
         "type": "scatter",
         "x": [
          84,
          92,
          93,
          94,
          95,
          97
         ],
         "xaxis": "x",
         "y": [
          0.5454545454545454,
          0.5454545454545454,
          0.5454545454545454,
          0,
          0,
          0
         ],
         "yaxis": "y"
        },
        {
         "hoverinfo": "none",
         "line": {
          "color": "rgba(64,144,197,0.5)",
          "width": 0.5
         },
         "mode": "lines",
         "type": "scatter",
         "x": [
          84,
          92,
          93,
          94,
          95,
          97
         ],
         "xaxis": "x",
         "y": [
          0.3670520231213873,
          0.3670520231213873,
          0.3670520231213873,
          0.7391304347826086,
          0.7391304347826086,
          0.7391304347826086
         ],
         "yaxis": "y"
        },
        {
         "hoverinfo": "none",
         "line": {
          "color": "rgba(49,129,189,0.5)",
          "width": 0.5
         },
         "mode": "lines",
         "type": "scatter",
         "x": [
          84,
          92,
          93,
          94,
          95,
          97
         ],
         "xaxis": "x",
         "y": [
          0.6666666666666666,
          0.6666666666666666,
          0.6666666666666666,
          1,
          1,
          1
         ],
         "yaxis": "y"
        },
        {
         "hoverinfo": "none",
         "line": {
          "color": "rgba(36,116,182,0.5)",
          "width": 0.5
         },
         "mode": "lines",
         "type": "scatter",
         "x": [
          84,
          92,
          93,
          94,
          95,
          97
         ],
         "xaxis": "x",
         "y": [
          0.3670520231213873,
          0.3670520231213873,
          0.3670520231213873,
          0.3108108108108108,
          0.4117647058823529,
          0.4117647058823529
         ],
         "yaxis": "y"
        },
        {
         "hoverinfo": "none",
         "line": {
          "color": "rgba(193,217,237,0.5)",
          "width": 0.5
         },
         "mode": "lines",
         "type": "scatter",
         "x": [
          84,
          92,
          93,
          94,
          95,
          97
         ],
         "xaxis": "x",
         "y": [
          0.3670520231213873,
          0.3670520231213873,
          0.3670520231213873,
          0.7391304347826086,
          0.7391304347826086,
          0.7391304347826086
         ],
         "yaxis": "y"
        },
        {
         "hoverinfo": "none",
         "line": {
          "color": "rgba(177,210,231,0.5)",
          "width": 0.5
         },
         "mode": "lines",
         "type": "scatter",
         "x": [
          84,
          92,
          93,
          94,
          95,
          97
         ],
         "xaxis": "x",
         "y": [
          0.6666666666666666,
          0.6666666666666666,
          0.6666666666666666,
          1,
          1,
          1
         ],
         "yaxis": "y"
        },
        {
         "hoverinfo": "none",
         "line": {
          "color": "rgba(160,202,225,0.5)",
          "width": 0.5
         },
         "mode": "lines",
         "type": "scatter",
         "x": [
          84,
          92,
          93,
          94,
          95,
          97
         ],
         "xaxis": "x",
         "y": [
          0,
          0,
          0.07692307692307693,
          0.07692307692307693,
          0.07692307692307693,
          0.5
         ],
         "yaxis": "y"
        },
        {
         "hoverinfo": "none",
         "line": {
          "color": "rgba(139,192,221,0.5)",
          "width": 0.5
         },
         "mode": "lines",
         "type": "scatter",
         "x": [
          84,
          92,
          93,
          94,
          95,
          97
         ],
         "xaxis": "x",
         "y": [
          0.3670520231213873,
          0.3670520231213873,
          0.3670520231213873,
          0.3108108108108108,
          0.4117647058823529,
          0.4117647058823529
         ],
         "yaxis": "y"
        },
        {
         "hoverinfo": "none",
         "line": {
          "color": "rgba(117,179,216,0.5)",
          "width": 0.5
         },
         "mode": "lines",
         "type": "scatter",
         "x": [
          84,
          92,
          93,
          94,
          95,
          97
         ],
         "xaxis": "x",
         "y": [
          0.3670520231213873,
          0.3670520231213873,
          0.3670520231213873,
          0.3108108108108108,
          0.4117647058823529,
          0.4117647058823529
         ],
         "yaxis": "y"
        },
        {
         "hoverinfo": "none",
         "line": {
          "color": "rgba(98,168,210,0.5)",
          "width": 0.5
         },
         "mode": "lines",
         "type": "scatter",
         "x": [
          84,
          92,
          93,
          94,
          95,
          97
         ],
         "xaxis": "x",
         "y": [
          0.3670520231213873,
          0.3670520231213873,
          0.3670520231213873,
          0.3108108108108108,
          0.4117647058823529,
          0.4117647058823529
         ],
         "yaxis": "y"
        },
        {
         "hoverinfo": "none",
         "line": {
          "color": "rgba(80,155,203,0.5)",
          "width": 0.5
         },
         "mode": "lines",
         "type": "scatter",
         "x": [
          84,
          92,
          93,
          94,
          95,
          97
         ],
         "xaxis": "x",
         "y": [
          0.25,
          0.013157894736842105,
          0.013157894736842105,
          0.013157894736842105,
          0.013157894736842105,
          0.013157894736842105
         ],
         "yaxis": "y"
        },
        {
         "hoverinfo": "none",
         "line": {
          "color": "rgba(64,144,197,0.5)",
          "width": 0.5
         },
         "mode": "lines",
         "type": "scatter",
         "x": [
          84,
          92,
          93,
          94,
          95,
          97
         ],
         "xaxis": "x",
         "y": [
          0.1590909090909091,
          0.1590909090909091,
          0.1590909090909091,
          0.1590909090909091,
          0.1590909090909091,
          1
         ],
         "yaxis": "y"
        },
        {
         "hoverinfo": "none",
         "line": {
          "color": "rgba(49,129,189,0.5)",
          "width": 0.5
         },
         "mode": "lines",
         "type": "scatter",
         "x": [
          84,
          92,
          93,
          94,
          95,
          97
         ],
         "xaxis": "x",
         "y": [
          0,
          0,
          0.07692307692307693,
          0.07692307692307693,
          0.07692307692307693,
          0.5
         ],
         "yaxis": "y"
        },
        {
         "hoverinfo": "none",
         "line": {
          "color": "rgba(36,116,182,0.5)",
          "width": 0.5
         },
         "mode": "lines",
         "type": "scatter",
         "x": [
          84,
          92,
          93,
          94,
          95,
          97
         ],
         "xaxis": "x",
         "y": [
          0.3670520231213873,
          0.3670520231213873,
          0.3670520231213873,
          0.3108108108108108,
          0.4117647058823529,
          0.4117647058823529
         ],
         "yaxis": "y"
        },
        {
         "hoverinfo": "none",
         "line": {
          "color": "rgba(193,217,237,0.5)",
          "width": 0.5
         },
         "mode": "lines",
         "type": "scatter",
         "x": [
          84,
          92,
          93,
          94,
          95,
          97
         ],
         "xaxis": "x",
         "y": [
          0.3670520231213873,
          0.3670520231213873,
          0.3670520231213873,
          0.3108108108108108,
          0.4117647058823529,
          0.4117647058823529
         ],
         "yaxis": "y"
        },
        {
         "hoverinfo": "none",
         "line": {
          "color": "rgba(177,210,231,0.5)",
          "width": 0.5
         },
         "mode": "lines",
         "type": "scatter",
         "x": [
          84,
          92,
          93,
          94,
          95,
          97
         ],
         "xaxis": "x",
         "y": [
          0.3670520231213873,
          0.3670520231213873,
          0.3670520231213873,
          0.7391304347826086,
          0.7391304347826086,
          0.7391304347826086
         ],
         "yaxis": "y"
        },
        {
         "hoverinfo": "none",
         "line": {
          "color": "rgba(160,202,225,0.5)",
          "width": 0.5
         },
         "mode": "lines",
         "type": "scatter",
         "x": [
          84,
          92,
          93,
          94,
          95,
          97
         ],
         "xaxis": "x",
         "y": [
          0.25,
          0.013157894736842105,
          0.013157894736842105,
          0.013157894736842105,
          0.013157894736842105,
          0.013157894736842105
         ],
         "yaxis": "y"
        },
        {
         "hoverinfo": "none",
         "line": {
          "color": "rgba(139,192,221,0.5)",
          "width": 0.5
         },
         "mode": "lines",
         "type": "scatter",
         "x": [
          84,
          92,
          93,
          94,
          95,
          97
         ],
         "xaxis": "x",
         "y": [
          0.1590909090909091,
          0.1590909090909091,
          0.1590909090909091,
          0.1590909090909091,
          0.1590909090909091,
          1
         ],
         "yaxis": "y"
        },
        {
         "hoverinfo": "none",
         "line": {
          "color": "rgba(117,179,216,0.5)",
          "width": 0.5
         },
         "mode": "lines",
         "type": "scatter",
         "x": [
          84,
          92,
          93,
          94,
          95,
          97
         ],
         "xaxis": "x",
         "y": [
          0.3670520231213873,
          0.3670520231213873,
          0.3670520231213873,
          0.3108108108108108,
          0.4117647058823529,
          0.4117647058823529
         ],
         "yaxis": "y"
        },
        {
         "hoverinfo": "none",
         "line": {
          "color": "rgba(98,168,210,0.5)",
          "width": 0.5
         },
         "mode": "lines",
         "type": "scatter",
         "x": [
          84,
          92,
          93,
          94,
          95,
          97
         ],
         "xaxis": "x",
         "y": [
          0.25,
          0.1111111111111111,
          0.1111111111111111,
          0.1111111111111111,
          0.1111111111111111,
          0.1111111111111111
         ],
         "yaxis": "y"
        },
        {
         "hoverinfo": "none",
         "line": {
          "color": "rgba(80,155,203,0.5)",
          "width": 0.5
         },
         "mode": "lines",
         "type": "scatter",
         "x": [
          84,
          92,
          93,
          94,
          95,
          97
         ],
         "xaxis": "x",
         "y": [
          0.3670520231213873,
          0.3670520231213873,
          0.3670520231213873,
          0.3108108108108108,
          0.4117647058823529,
          0.4117647058823529
         ],
         "yaxis": "y"
        },
        {
         "hoverinfo": "none",
         "line": {
          "color": "rgba(64,144,197,0.5)",
          "width": 0.5
         },
         "mode": "lines",
         "type": "scatter",
         "x": [
          84,
          92,
          93,
          94,
          95,
          97
         ],
         "xaxis": "x",
         "y": [
          0.3670520231213873,
          0.3670520231213873,
          0.3670520231213873,
          0.3108108108108108,
          0.4117647058823529,
          0.4117647058823529
         ],
         "yaxis": "y"
        },
        {
         "hoverinfo": "none",
         "line": {
          "color": "rgba(49,129,189,0.5)",
          "width": 0.5
         },
         "mode": "lines",
         "type": "scatter",
         "x": [
          84,
          92,
          93,
          94,
          95,
          97
         ],
         "xaxis": "x",
         "y": [
          0.3670520231213873,
          0.3670520231213873,
          0.3670520231213873,
          0.3108108108108108,
          0.4117647058823529,
          0.4117647058823529
         ],
         "yaxis": "y"
        },
        {
         "hoverinfo": "none",
         "line": {
          "color": "rgba(36,116,182,0.5)",
          "width": 0.5
         },
         "mode": "lines",
         "type": "scatter",
         "x": [
          84,
          92,
          93,
          94,
          95,
          97
         ],
         "xaxis": "x",
         "y": [
          0.3670520231213873,
          0.3670520231213873,
          0.3670520231213873,
          0.7391304347826086,
          0.7391304347826086,
          0.7391304347826086
         ],
         "yaxis": "y"
        },
        {
         "hoverinfo": "none",
         "line": {
          "color": "rgba(193,217,237,0.5)",
          "width": 0.5
         },
         "mode": "lines",
         "type": "scatter",
         "x": [
          84,
          92,
          93,
          94,
          95,
          97
         ],
         "xaxis": "x",
         "y": [
          0.3670520231213873,
          0.3670520231213873,
          0.3670520231213873,
          0.7391304347826086,
          0.7391304347826086,
          0.7391304347826086
         ],
         "yaxis": "y"
        },
        {
         "hoverinfo": "none",
         "line": {
          "color": "rgba(177,210,231,0.5)",
          "width": 0.5
         },
         "mode": "lines",
         "type": "scatter",
         "x": [
          84,
          92,
          93,
          94,
          95,
          97
         ],
         "xaxis": "x",
         "y": [
          0.5,
          0.5,
          0.5,
          0.7391304347826086,
          0.7391304347826086,
          0.7391304347826086
         ],
         "yaxis": "y"
        },
        {
         "hoverinfo": "none",
         "line": {
          "color": "rgba(160,202,225,0.5)",
          "width": 0.5
         },
         "mode": "lines",
         "type": "scatter",
         "x": [
          84,
          92,
          93,
          94,
          95,
          97
         ],
         "xaxis": "x",
         "y": [
          0.3670520231213873,
          0.3670520231213873,
          0.3670520231213873,
          0.3108108108108108,
          0.4117647058823529,
          0.4117647058823529
         ],
         "yaxis": "y"
        },
        {
         "hoverinfo": "none",
         "line": {
          "color": "rgba(139,192,221,0.5)",
          "width": 0.5
         },
         "mode": "lines",
         "type": "scatter",
         "x": [
          84,
          92,
          93,
          94,
          95,
          97
         ],
         "xaxis": "x",
         "y": [
          0.25,
          0.1111111111111111,
          0.1111111111111111,
          0.1111111111111111,
          0.1111111111111111,
          0.1111111111111111
         ],
         "yaxis": "y"
        },
        {
         "hoverinfo": "none",
         "line": {
          "color": "rgba(117,179,216,0.5)",
          "width": 0.5
         },
         "mode": "lines",
         "type": "scatter",
         "x": [
          84,
          92,
          93,
          94,
          95,
          97
         ],
         "xaxis": "x",
         "y": [
          0.25,
          0.013157894736842105,
          0.013157894736842105,
          0.013157894736842105,
          0.013157894736842105,
          0.013157894736842105
         ],
         "yaxis": "y"
        },
        {
         "hoverinfo": "none",
         "line": {
          "color": "rgba(98,168,210,0.5)",
          "width": 0.5
         },
         "mode": "lines",
         "type": "scatter",
         "x": [
          84,
          92,
          93,
          94,
          95,
          97
         ],
         "xaxis": "x",
         "y": [
          0.3670520231213873,
          0.3670520231213873,
          0.3670520231213873,
          0.3108108108108108,
          0.4117647058823529,
          0.4117647058823529
         ],
         "yaxis": "y"
        },
        {
         "hoverinfo": "none",
         "line": {
          "color": "rgba(80,155,203,0.5)",
          "width": 0.5
         },
         "mode": "lines",
         "type": "scatter",
         "x": [
          84,
          92,
          93,
          94,
          95,
          97
         ],
         "xaxis": "x",
         "y": [
          0.3670520231213873,
          0.3670520231213873,
          0.3670520231213873,
          0.7391304347826086,
          0.7391304347826086,
          0.7391304347826086
         ],
         "yaxis": "y"
        },
        {
         "hoverinfo": "none",
         "line": {
          "color": "rgba(64,144,197,0.5)",
          "width": 0.5
         },
         "mode": "lines",
         "type": "scatter",
         "x": [
          84,
          92,
          93,
          94,
          95,
          97
         ],
         "xaxis": "x",
         "y": [
          0.25,
          0.013157894736842105,
          0.013157894736842105,
          0.013157894736842105,
          0.013157894736842105,
          0.013157894736842105
         ],
         "yaxis": "y"
        },
        {
         "hoverinfo": "none",
         "line": {
          "color": "rgba(49,129,189,0.5)",
          "width": 0.5
         },
         "mode": "lines",
         "type": "scatter",
         "x": [
          84,
          92,
          93,
          94,
          95,
          97
         ],
         "xaxis": "x",
         "y": [
          0.3670520231213873,
          0.3670520231213873,
          0.3670520231213873,
          0.7391304347826086,
          0.7391304347826086,
          0.7391304347826086
         ],
         "yaxis": "y"
        },
        {
         "hoverinfo": "none",
         "line": {
          "color": "rgba(36,116,182,0.5)",
          "width": 0.5
         },
         "mode": "lines",
         "type": "scatter",
         "x": [
          84,
          92,
          93,
          94,
          95,
          97
         ],
         "xaxis": "x",
         "y": [
          0.25,
          0.1111111111111111,
          0.1111111111111111,
          0.1111111111111111,
          0.1111111111111111,
          0.1111111111111111
         ],
         "yaxis": "y"
        },
        {
         "hoverinfo": "none",
         "line": {
          "color": "rgba(193,217,237,0.5)",
          "width": 0.5
         },
         "mode": "lines",
         "type": "scatter",
         "x": [
          84,
          92,
          93,
          94,
          95,
          97
         ],
         "xaxis": "x",
         "y": [
          0.3670520231213873,
          0.3670520231213873,
          0.3670520231213873,
          0.7391304347826086,
          0.7391304347826086,
          0.7391304347826086
         ],
         "yaxis": "y"
        },
        {
         "hoverinfo": "none",
         "line": {
          "color": "rgba(177,210,231,0.5)",
          "width": 0.5
         },
         "mode": "lines",
         "type": "scatter",
         "x": [
          84,
          92,
          93,
          94,
          95,
          97
         ],
         "xaxis": "x",
         "y": [
          0,
          0,
          0,
          0.7391304347826086,
          0.7391304347826086,
          0.7391304347826086
         ],
         "yaxis": "y"
        },
        {
         "hoverinfo": "none",
         "line": {
          "color": "rgba(160,202,225,0.5)",
          "width": 0.5
         },
         "mode": "lines",
         "type": "scatter",
         "x": [
          84,
          92,
          93,
          94,
          95,
          97
         ],
         "xaxis": "x",
         "y": [
          0.5454545454545454,
          0.5454545454545454,
          0.5454545454545454,
          0,
          0,
          0
         ],
         "yaxis": "y"
        },
        {
         "hoverinfo": "none",
         "line": {
          "color": "rgba(139,192,221,0.5)",
          "width": 0.5
         },
         "mode": "lines",
         "type": "scatter",
         "x": [
          84,
          92,
          93,
          94,
          95,
          97
         ],
         "xaxis": "x",
         "y": [
          0.3670520231213873,
          0.3670520231213873,
          0.3670520231213873,
          0.7391304347826086,
          0.7391304347826086,
          0.7391304347826086
         ],
         "yaxis": "y"
        },
        {
         "hoverinfo": "none",
         "line": {
          "color": "rgba(117,179,216,0.5)",
          "width": 0.5
         },
         "mode": "lines",
         "type": "scatter",
         "x": [
          84,
          92,
          93,
          94,
          95,
          97
         ],
         "xaxis": "x",
         "y": [
          0.3670520231213873,
          0.3670520231213873,
          0.3670520231213873,
          0.7391304347826086,
          0.7391304347826086,
          0.7391304347826086
         ],
         "yaxis": "y"
        },
        {
         "hoverinfo": "none",
         "line": {
          "color": "rgba(98,168,210,0.5)",
          "width": 0.5
         },
         "mode": "lines",
         "type": "scatter",
         "x": [
          84,
          92,
          93,
          94,
          95,
          97
         ],
         "xaxis": "x",
         "y": [
          0.3670520231213873,
          0.3670520231213873,
          0.3670520231213873,
          0.3108108108108108,
          0.4117647058823529,
          0.4117647058823529
         ],
         "yaxis": "y"
        },
        {
         "hoverinfo": "none",
         "line": {
          "color": "rgba(80,155,203,0.5)",
          "width": 0.5
         },
         "mode": "lines",
         "type": "scatter",
         "x": [
          84,
          92,
          93,
          94,
          95,
          97
         ],
         "xaxis": "x",
         "y": [
          0.3670520231213873,
          0.3670520231213873,
          0.3670520231213873,
          0.3108108108108108,
          0.4117647058823529,
          0.4117647058823529
         ],
         "yaxis": "y"
        },
        {
         "hoverinfo": "none",
         "line": {
          "color": "rgba(64,144,197,0.5)",
          "width": 0.5
         },
         "mode": "lines",
         "type": "scatter",
         "x": [
          84,
          92,
          93,
          94,
          95,
          97
         ],
         "xaxis": "x",
         "y": [
          0.25,
          0.013157894736842105,
          0.013157894736842105,
          0.013157894736842105,
          0.013157894736842105,
          0.013157894736842105
         ],
         "yaxis": "y"
        },
        {
         "hoverinfo": "none",
         "line": {
          "color": "rgba(49,129,189,0.5)",
          "width": 0.5
         },
         "mode": "lines",
         "type": "scatter",
         "x": [
          84,
          92,
          93,
          94,
          95,
          97
         ],
         "xaxis": "x",
         "y": [
          1,
          1,
          1,
          0.7391304347826086,
          0.7391304347826086,
          0.7391304347826086
         ],
         "yaxis": "y"
        },
        {
         "hoverinfo": "none",
         "line": {
          "color": "rgba(36,116,182,0.5)",
          "width": 0.5
         },
         "mode": "lines",
         "type": "scatter",
         "x": [
          84,
          92,
          93,
          94,
          95,
          97
         ],
         "xaxis": "x",
         "y": [
          0.5,
          0.5,
          0.5,
          0.7391304347826086,
          0.7391304347826086,
          0.7391304347826086
         ],
         "yaxis": "y"
        },
        {
         "hoverinfo": "none",
         "line": {
          "color": "rgba(193,217,237,0.5)",
          "width": 0.5
         },
         "mode": "lines",
         "type": "scatter",
         "x": [
          84,
          92,
          93,
          94,
          95,
          97
         ],
         "xaxis": "x",
         "y": [
          0.3670520231213873,
          0.3670520231213873,
          0.3670520231213873,
          0.7391304347826086,
          0.7391304347826086,
          0.7391304347826086
         ],
         "yaxis": "y"
        },
        {
         "hoverinfo": "none",
         "line": {
          "color": "rgba(177,210,231,0.5)",
          "width": 0.5
         },
         "mode": "lines",
         "type": "scatter",
         "x": [
          84,
          92,
          93,
          94,
          95,
          97
         ],
         "xaxis": "x",
         "y": [
          0.08333333333333333,
          0.08333333333333333,
          0.08333333333333333,
          0,
          0,
          0
         ],
         "yaxis": "y"
        },
        {
         "hoverinfo": "none",
         "line": {
          "color": "rgba(160,202,225,0.5)",
          "width": 0.5
         },
         "mode": "lines",
         "type": "scatter",
         "x": [
          84,
          92,
          93,
          94,
          95,
          97
         ],
         "xaxis": "x",
         "y": [
          0.3670520231213873,
          0.3670520231213873,
          0.3670520231213873,
          0.59375,
          0.59375,
          0.59375
         ],
         "yaxis": "y"
        },
        {
         "hoverinfo": "none",
         "line": {
          "color": "rgba(139,192,221,0.5)",
          "width": 0.5
         },
         "mode": "lines",
         "type": "scatter",
         "x": [
          84,
          92,
          93,
          94,
          95,
          97
         ],
         "xaxis": "x",
         "y": [
          0.3670520231213873,
          0.3670520231213873,
          0.3670520231213873,
          0.7391304347826086,
          0.7391304347826086,
          0.7391304347826086
         ],
         "yaxis": "y"
        },
        {
         "hoverinfo": "none",
         "line": {
          "color": "rgba(117,179,216,0.5)",
          "width": 0.5
         },
         "mode": "lines",
         "type": "scatter",
         "x": [
          84,
          92,
          93,
          94,
          95,
          97
         ],
         "xaxis": "x",
         "y": [
          0.3670520231213873,
          0.3670520231213873,
          0.3670520231213873,
          0.7391304347826086,
          0.7391304347826086,
          0.7391304347826086
         ],
         "yaxis": "y"
        },
        {
         "hoverinfo": "none",
         "line": {
          "color": "rgba(98,168,210,0.5)",
          "width": 0.5
         },
         "mode": "lines",
         "type": "scatter",
         "x": [
          84,
          92,
          93,
          94,
          95,
          97
         ],
         "xaxis": "x",
         "y": [
          0.25,
          0.013157894736842105,
          0.013157894736842105,
          0.013157894736842105,
          0.013157894736842105,
          0.013157894736842105
         ],
         "yaxis": "y"
        },
        {
         "hoverinfo": "none",
         "line": {
          "color": "rgba(80,155,203,0.5)",
          "width": 0.5
         },
         "mode": "lines",
         "type": "scatter",
         "x": [
          84,
          92,
          93,
          94,
          95,
          97
         ],
         "xaxis": "x",
         "y": [
          0.25,
          0.013157894736842105,
          0.013157894736842105,
          0.013157894736842105,
          0.013157894736842105,
          0.013157894736842105
         ],
         "yaxis": "y"
        },
        {
         "hoverinfo": "none",
         "line": {
          "color": "rgba(64,144,197,0.5)",
          "width": 0.5
         },
         "mode": "lines",
         "type": "scatter",
         "x": [
          84,
          92,
          93,
          94,
          95,
          97
         ],
         "xaxis": "x",
         "y": [
          0.3670520231213873,
          0.3670520231213873,
          0.3670520231213873,
          0.3108108108108108,
          0.4117647058823529,
          0.4117647058823529
         ],
         "yaxis": "y"
        },
        {
         "hoverinfo": "none",
         "line": {
          "color": "rgba(49,129,189,0.5)",
          "width": 0.5
         },
         "mode": "lines",
         "type": "scatter",
         "x": [
          84,
          92,
          93,
          94,
          95,
          97
         ],
         "xaxis": "x",
         "y": [
          0.3670520231213873,
          0.3670520231213873,
          0.3670520231213873,
          0.3108108108108108,
          0.4117647058823529,
          0.4117647058823529
         ],
         "yaxis": "y"
        },
        {
         "hoverinfo": "none",
         "line": {
          "color": "rgba(36,116,182,0.5)",
          "width": 0.5
         },
         "mode": "lines",
         "type": "scatter",
         "x": [
          84,
          92,
          93,
          94,
          95,
          97
         ],
         "xaxis": "x",
         "y": [
          0.3670520231213873,
          0.3670520231213873,
          0.3670520231213873,
          0.59375,
          0.59375,
          0.59375
         ],
         "yaxis": "y"
        },
        {
         "hoverinfo": "none",
         "line": {
          "color": "rgba(193,217,237,0.5)",
          "width": 0.5
         },
         "mode": "lines",
         "type": "scatter",
         "x": [
          84,
          92,
          93,
          94,
          95,
          97
         ],
         "xaxis": "x",
         "y": [
          0.3670520231213873,
          0.3670520231213873,
          0.3670520231213873,
          0.59375,
          0.59375,
          0.59375
         ],
         "yaxis": "y"
        },
        {
         "hoverinfo": "none",
         "line": {
          "color": "rgba(177,210,231,0.5)",
          "width": 0.5
         },
         "mode": "lines",
         "type": "scatter",
         "x": [
          84,
          92,
          93,
          94,
          95,
          97
         ],
         "xaxis": "x",
         "y": [
          0.3670520231213873,
          0.3670520231213873,
          0.3670520231213873,
          0.59375,
          0.59375,
          0.59375
         ],
         "yaxis": "y"
        },
        {
         "hoverinfo": "none",
         "line": {
          "color": "rgba(160,202,225,0.5)",
          "width": 0.5
         },
         "mode": "lines",
         "type": "scatter",
         "x": [
          84,
          92,
          93,
          94,
          95,
          97
         ],
         "xaxis": "x",
         "y": [
          0.3670520231213873,
          0.3670520231213873,
          0.3670520231213873,
          0.59375,
          0.59375,
          0.59375
         ],
         "yaxis": "y"
        },
        {
         "hoverinfo": "none",
         "line": {
          "color": "rgba(139,192,221,0.5)",
          "width": 0.5
         },
         "mode": "lines",
         "type": "scatter",
         "x": [
          84,
          92,
          93,
          94,
          95,
          97
         ],
         "xaxis": "x",
         "y": [
          0.3670520231213873,
          0.3670520231213873,
          0.3670520231213873,
          0.7391304347826086,
          0.7391304347826086,
          0.7391304347826086
         ],
         "yaxis": "y"
        },
        {
         "hoverinfo": "none",
         "line": {
          "color": "rgba(117,179,216,0.5)",
          "width": 0.5
         },
         "mode": "lines",
         "type": "scatter",
         "x": [
          84,
          92,
          93,
          94,
          95,
          97
         ],
         "xaxis": "x",
         "y": [
          0.6666666666666666,
          0.6666666666666666,
          0.6666666666666666,
          0.3108108108108108,
          0.4117647058823529,
          0.4117647058823529
         ],
         "yaxis": "y"
        },
        {
         "hoverinfo": "none",
         "line": {
          "color": "rgba(98,168,210,0.5)",
          "width": 0.5
         },
         "mode": "lines",
         "type": "scatter",
         "x": [
          84,
          92,
          93,
          94,
          95,
          97
         ],
         "xaxis": "x",
         "y": [
          0.3670520231213873,
          0.3670520231213873,
          0.3670520231213873,
          0.7391304347826086,
          0.7391304347826086,
          0.7391304347826086
         ],
         "yaxis": "y"
        },
        {
         "hoverinfo": "none",
         "line": {
          "color": "rgba(80,155,203,0.5)",
          "width": 0.5
         },
         "mode": "lines",
         "type": "scatter",
         "x": [
          84,
          92,
          93,
          94,
          95,
          97
         ],
         "xaxis": "x",
         "y": [
          0.3670520231213873,
          0.3670520231213873,
          0.3670520231213873,
          0.59375,
          0.59375,
          0.59375
         ],
         "yaxis": "y"
        },
        {
         "hoverinfo": "none",
         "line": {
          "color": "rgba(64,144,197,0.5)",
          "width": 0.5
         },
         "mode": "lines",
         "type": "scatter",
         "x": [
          84,
          92,
          93,
          94,
          95,
          97
         ],
         "xaxis": "x",
         "y": [
          0.3670520231213873,
          0.3670520231213873,
          0.3670520231213873,
          0.59375,
          0.59375,
          0.59375
         ],
         "yaxis": "y"
        },
        {
         "hoverinfo": "none",
         "line": {
          "color": "rgba(49,129,189,0.5)",
          "width": 0.5
         },
         "mode": "lines",
         "type": "scatter",
         "x": [
          84,
          92,
          93,
          94,
          95,
          97
         ],
         "xaxis": "x",
         "y": [
          0,
          0,
          0,
          0.7391304347826086,
          0.7391304347826086,
          0.7391304347826086
         ],
         "yaxis": "y"
        },
        {
         "hoverinfo": "none",
         "line": {
          "color": "rgba(36,116,182,0.5)",
          "width": 0.5
         },
         "mode": "lines",
         "type": "scatter",
         "x": [
          84,
          92,
          93,
          94,
          95,
          97
         ],
         "xaxis": "x",
         "y": [
          0.3670520231213873,
          0.3670520231213873,
          0.3670520231213873,
          0.59375,
          0.59375,
          0.59375
         ],
         "yaxis": "y"
        },
        {
         "hoverinfo": "none",
         "line": {
          "color": "rgba(193,217,237,0.5)",
          "width": 0.5
         },
         "mode": "lines",
         "type": "scatter",
         "x": [
          84,
          92,
          93,
          94,
          95,
          97
         ],
         "xaxis": "x",
         "y": [
          0.25,
          0.1111111111111111,
          0.1111111111111111,
          0.1111111111111111,
          0.1111111111111111,
          0.1111111111111111
         ],
         "yaxis": "y"
        },
        {
         "hoverinfo": "none",
         "line": {
          "color": "rgba(177,210,231,0.5)",
          "width": 0.5
         },
         "mode": "lines",
         "type": "scatter",
         "x": [
          84,
          92,
          93,
          94,
          95,
          97
         ],
         "xaxis": "x",
         "y": [
          0.3670520231213873,
          0.3670520231213873,
          0.3670520231213873,
          0.3108108108108108,
          0.4117647058823529,
          0.4117647058823529
         ],
         "yaxis": "y"
        },
        {
         "hoverinfo": "none",
         "line": {
          "color": "rgba(160,202,225,0.5)",
          "width": 0.5
         },
         "mode": "lines",
         "type": "scatter",
         "x": [
          84,
          92,
          93,
          94,
          95,
          97
         ],
         "xaxis": "x",
         "y": [
          0.3670520231213873,
          0.3670520231213873,
          0.3670520231213873,
          0.3108108108108108,
          0.4117647058823529,
          0.4117647058823529
         ],
         "yaxis": "y"
        },
        {
         "hoverinfo": "none",
         "line": {
          "color": "rgba(139,192,221,0.5)",
          "width": 0.5
         },
         "mode": "lines",
         "type": "scatter",
         "x": [
          84,
          92,
          93,
          94,
          95,
          97
         ],
         "xaxis": "x",
         "y": [
          0.3670520231213873,
          0.3670520231213873,
          0.3670520231213873,
          0.7391304347826086,
          0.7391304347826086,
          0.7391304347826086
         ],
         "yaxis": "y"
        },
        {
         "hoverinfo": "none",
         "line": {
          "color": "rgba(117,179,216,0.5)",
          "width": 0.5
         },
         "mode": "lines",
         "type": "scatter",
         "x": [
          84,
          92,
          93,
          94,
          95,
          97
         ],
         "xaxis": "x",
         "y": [
          0.25,
          0.013157894736842105,
          0.013157894736842105,
          0.013157894736842105,
          0.013157894736842105,
          0.013157894736842105
         ],
         "yaxis": "y"
        },
        {
         "hoverinfo": "none",
         "line": {
          "color": "rgba(98,168,210,0.5)",
          "width": 0.5
         },
         "mode": "lines",
         "type": "scatter",
         "x": [
          84,
          92,
          93,
          94,
          95,
          97
         ],
         "xaxis": "x",
         "y": [
          0.25,
          0.1111111111111111,
          0.1111111111111111,
          0.1111111111111111,
          0.1111111111111111,
          0.1111111111111111
         ],
         "yaxis": "y"
        },
        {
         "hoverinfo": "none",
         "line": {
          "color": "rgba(80,155,203,0.5)",
          "width": 0.5
         },
         "mode": "lines",
         "type": "scatter",
         "x": [
          84,
          92,
          93,
          94,
          95,
          97
         ],
         "xaxis": "x",
         "y": [
          0.3670520231213873,
          0.3670520231213873,
          0.3670520231213873,
          0.7391304347826086,
          0.7391304347826086,
          0.7391304347826086
         ],
         "yaxis": "y"
        },
        {
         "hoverinfo": "none",
         "line": {
          "color": "rgba(64,144,197,0.5)",
          "width": 0.5
         },
         "mode": "lines",
         "type": "scatter",
         "x": [
          84,
          92,
          93,
          94,
          95,
          97
         ],
         "xaxis": "x",
         "y": [
          0.25,
          0.1111111111111111,
          0.1111111111111111,
          0.1111111111111111,
          0.1111111111111111,
          0.1111111111111111
         ],
         "yaxis": "y"
        },
        {
         "hoverinfo": "none",
         "line": {
          "color": "rgba(49,129,189,0.5)",
          "width": 0.5
         },
         "mode": "lines",
         "type": "scatter",
         "x": [
          84,
          92,
          93,
          94,
          95,
          97
         ],
         "xaxis": "x",
         "y": [
          0.3670520231213873,
          0.3670520231213873,
          0.3670520231213873,
          0.7391304347826086,
          0.7391304347826086,
          0.7391304347826086
         ],
         "yaxis": "y"
        },
        {
         "hoverinfo": "none",
         "line": {
          "color": "rgba(36,116,182,0.5)",
          "width": 0.5
         },
         "mode": "lines",
         "type": "scatter",
         "x": [
          84,
          92,
          93,
          94,
          95,
          97
         ],
         "xaxis": "x",
         "y": [
          0.6666666666666666,
          0.6666666666666666,
          0.6666666666666666,
          0.3108108108108108,
          0.4117647058823529,
          0.4117647058823529
         ],
         "yaxis": "y"
        },
        {
         "hoverinfo": "none",
         "line": {
          "color": "rgba(193,217,237,0.5)",
          "width": 0.5
         },
         "mode": "lines",
         "type": "scatter",
         "x": [
          84,
          92,
          93,
          94,
          95,
          97
         ],
         "xaxis": "x",
         "y": [
          0.3670520231213873,
          0.3670520231213873,
          0.3670520231213873,
          0.59375,
          0.59375,
          0.59375
         ],
         "yaxis": "y"
        },
        {
         "hoverinfo": "none",
         "line": {
          "color": "rgba(177,210,231,0.5)",
          "width": 0.5
         },
         "mode": "lines",
         "type": "scatter",
         "x": [
          84,
          92,
          93,
          94,
          95,
          97
         ],
         "xaxis": "x",
         "y": [
          0.25,
          0.1111111111111111,
          0.1111111111111111,
          0.1111111111111111,
          0.1111111111111111,
          0.1111111111111111
         ],
         "yaxis": "y"
        },
        {
         "hoverinfo": "none",
         "line": {
          "color": "rgba(160,202,225,0.5)",
          "width": 0.5
         },
         "mode": "lines",
         "type": "scatter",
         "x": [
          84,
          92,
          93,
          94,
          95,
          97
         ],
         "xaxis": "x",
         "y": [
          0.3670520231213873,
          0.3670520231213873,
          0.3670520231213873,
          0.7391304347826086,
          0.7391304347826086,
          0.7391304347826086
         ],
         "yaxis": "y"
        },
        {
         "hoverinfo": "none",
         "line": {
          "color": "rgba(139,192,221,0.5)",
          "width": 0.5
         },
         "mode": "lines",
         "type": "scatter",
         "x": [
          84,
          92,
          93,
          94,
          95,
          97
         ],
         "xaxis": "x",
         "y": [
          0.3670520231213873,
          0.3670520231213873,
          0.3670520231213873,
          0.59375,
          0.59375,
          0.59375
         ],
         "yaxis": "y"
        },
        {
         "hoverinfo": "none",
         "line": {
          "color": "rgba(117,179,216,0.5)",
          "width": 0.5
         },
         "mode": "lines",
         "type": "scatter",
         "x": [
          84,
          92,
          93,
          94,
          95,
          97
         ],
         "xaxis": "x",
         "y": [
          0.08333333333333333,
          0.08333333333333333,
          0.08333333333333333,
          0,
          0,
          0
         ],
         "yaxis": "y"
        },
        {
         "hoverinfo": "none",
         "line": {
          "color": "rgba(98,168,210,0.5)",
          "width": 0.5
         },
         "mode": "lines",
         "type": "scatter",
         "x": [
          84,
          92,
          93,
          94,
          95,
          97
         ],
         "xaxis": "x",
         "y": [
          0.3670520231213873,
          0.3670520231213873,
          0.3670520231213873,
          0.3108108108108108,
          0.4117647058823529,
          0.4117647058823529
         ],
         "yaxis": "y"
        },
        {
         "hoverinfo": "none",
         "line": {
          "color": "rgba(80,155,203,0.5)",
          "width": 0.5
         },
         "mode": "lines",
         "type": "scatter",
         "x": [
          84,
          92,
          93,
          94,
          95,
          97
         ],
         "xaxis": "x",
         "y": [
          0.3670520231213873,
          0.3670520231213873,
          0.3670520231213873,
          0.3108108108108108,
          0.4117647058823529,
          0.4117647058823529
         ],
         "yaxis": "y"
        },
        {
         "hoverinfo": "none",
         "line": {
          "color": "rgba(64,144,197,0.5)",
          "width": 0.5
         },
         "mode": "lines",
         "type": "scatter",
         "x": [
          84,
          92,
          93,
          94,
          95,
          97
         ],
         "xaxis": "x",
         "y": [
          0.3670520231213873,
          0.3670520231213873,
          0.3670520231213873,
          0.59375,
          0.59375,
          0.59375
         ],
         "yaxis": "y"
        },
        {
         "hoverinfo": "none",
         "line": {
          "color": "rgba(49,129,189,0.5)",
          "width": 0.5
         },
         "mode": "lines",
         "type": "scatter",
         "x": [
          84,
          92,
          93,
          94,
          95,
          97
         ],
         "xaxis": "x",
         "y": [
          0.3670520231213873,
          0.3670520231213873,
          0.3670520231213873,
          0.3108108108108108,
          0.4117647058823529,
          0.4117647058823529
         ],
         "yaxis": "y"
        },
        {
         "hoverinfo": "none",
         "line": {
          "color": "rgba(36,116,182,0.5)",
          "width": 0.5
         },
         "mode": "lines",
         "type": "scatter",
         "x": [
          84,
          92,
          93,
          94,
          95,
          97
         ],
         "xaxis": "x",
         "y": [
          0.3670520231213873,
          0.3670520231213873,
          0.3670520231213873,
          0.7391304347826086,
          0.7391304347826086,
          0.7391304347826086
         ],
         "yaxis": "y"
        },
        {
         "hoverinfo": "none",
         "line": {
          "color": "rgba(193,217,237,0.5)",
          "width": 0.5
         },
         "mode": "lines",
         "type": "scatter",
         "x": [
          84,
          92,
          93,
          94,
          95,
          97
         ],
         "xaxis": "x",
         "y": [
          0.3670520231213873,
          0.3670520231213873,
          0.3670520231213873,
          0.7391304347826086,
          0.7391304347826086,
          0.7391304347826086
         ],
         "yaxis": "y"
        },
        {
         "hoverinfo": "none",
         "line": {
          "color": "rgba(177,210,231,0.5)",
          "width": 0.5
         },
         "mode": "lines",
         "type": "scatter",
         "x": [
          84,
          92,
          93,
          94,
          95,
          97
         ],
         "xaxis": "x",
         "y": [
          0.08333333333333333,
          0.08333333333333333,
          0.08333333333333333,
          0.3333333333333333,
          0.3333333333333333,
          0.3333333333333333
         ],
         "yaxis": "y"
        },
        {
         "hoverinfo": "none",
         "line": {
          "color": "rgba(160,202,225,0.5)",
          "width": 0.5
         },
         "mode": "lines",
         "type": "scatter",
         "x": [
          84,
          92,
          93,
          94,
          95,
          97
         ],
         "xaxis": "x",
         "y": [
          0,
          0,
          0.07692307692307693,
          0.07692307692307693,
          0.07692307692307693,
          0.5
         ],
         "yaxis": "y"
        },
        {
         "hoverinfo": "none",
         "line": {
          "color": "rgba(139,192,221,0.5)",
          "width": 0.5
         },
         "mode": "lines",
         "type": "scatter",
         "x": [
          84,
          92,
          93,
          94,
          95,
          97
         ],
         "xaxis": "x",
         "y": [
          0.6666666666666666,
          0.6666666666666666,
          0.6666666666666666,
          0.3108108108108108,
          0.4117647058823529,
          0.4117647058823529
         ],
         "yaxis": "y"
        },
        {
         "hoverinfo": "none",
         "line": {
          "color": "rgba(117,179,216,0.5)",
          "width": 0.5
         },
         "mode": "lines",
         "type": "scatter",
         "x": [
          84,
          92,
          93,
          94,
          95,
          97
         ],
         "xaxis": "x",
         "y": [
          0.5454545454545454,
          0.5454545454545454,
          0.5454545454545454,
          0,
          0,
          0
         ],
         "yaxis": "y"
        },
        {
         "hoverinfo": "none",
         "line": {
          "color": "rgba(98,168,210,0.5)",
          "width": 0.5
         },
         "mode": "lines",
         "type": "scatter",
         "x": [
          84,
          92,
          93,
          94,
          95,
          97
         ],
         "xaxis": "x",
         "y": [
          0.6666666666666666,
          0.6666666666666666,
          0.6666666666666666,
          0.3108108108108108,
          0.4117647058823529,
          0.4117647058823529
         ],
         "yaxis": "y"
        },
        {
         "hoverinfo": "none",
         "line": {
          "color": "rgba(80,155,203,0.5)",
          "width": 0.5
         },
         "mode": "lines",
         "type": "scatter",
         "x": [
          84,
          92,
          93,
          94,
          95,
          97
         ],
         "xaxis": "x",
         "y": [
          0.3670520231213873,
          0.3670520231213873,
          0.3670520231213873,
          0.7391304347826086,
          0.7391304347826086,
          0.7391304347826086
         ],
         "yaxis": "y"
        },
        {
         "hoverinfo": "none",
         "line": {
          "color": "rgba(64,144,197,0.5)",
          "width": 0.5
         },
         "mode": "lines",
         "type": "scatter",
         "x": [
          84,
          92,
          93,
          94,
          95,
          97
         ],
         "xaxis": "x",
         "y": [
          0.25,
          0.1111111111111111,
          0.1111111111111111,
          0.1111111111111111,
          0.1111111111111111,
          0.1111111111111111
         ],
         "yaxis": "y"
        },
        {
         "hoverinfo": "none",
         "line": {
          "color": "rgba(49,129,189,0.5)",
          "width": 0.5
         },
         "mode": "lines",
         "type": "scatter",
         "x": [
          84,
          92,
          93,
          94,
          95,
          97
         ],
         "xaxis": "x",
         "y": [
          0.3670520231213873,
          0.3670520231213873,
          0.3670520231213873,
          0.7391304347826086,
          0.7391304347826086,
          0.7391304347826086
         ],
         "yaxis": "y"
        },
        {
         "hoverinfo": "none",
         "line": {
          "color": "rgba(36,116,182,0.5)",
          "width": 0.5
         },
         "mode": "lines",
         "type": "scatter",
         "x": [
          84,
          92,
          93,
          94,
          95,
          97
         ],
         "xaxis": "x",
         "y": [
          0.25,
          0.013157894736842105,
          0.013157894736842105,
          0.013157894736842105,
          0.013157894736842105,
          0.013157894736842105
         ],
         "yaxis": "y"
        },
        {
         "hoverinfo": "none",
         "line": {
          "color": "#FEDC00",
          "width": 4.5
         },
         "mode": "lines",
         "type": "scatter",
         "x": [
          84,
          92,
          93,
          94,
          95,
          97
         ],
         "xaxis": "x",
         "y": [
          0.3436109090010824,
          0.3122484483623059,
          0.31422083495007713,
          0.42595794651440655,
          0.45313784134136026,
          0.47491254100067526
         ],
         "yaxis": "y"
        },
        {
         "hoverinfo": "none",
         "line": {
          "color": "#E75438",
          "dash": "dash",
          "width": 1.5
         },
         "mode": "lines",
         "type": "scatter",
         "x": [
          84,
          92,
          93,
          94,
          95,
          97
         ],
         "xaxis": "x",
         "y": [
          0,
          0,
          0,
          0,
          0,
          0
         ],
         "yaxis": "y"
        },
        {
         "hovertemplate": "%{y}",
         "line": {
          "color": "rgba(8,48,107,1.0)",
          "width": 1.5
         },
         "marker": {
          "color": "rgba(8,48,107,1.0)",
          "size": 5
         },
         "mode": "lines+markers",
         "name": "pdp",
         "type": "scatter",
         "x": [
          84,
          92,
          93,
          94,
          95,
          97
         ],
         "xaxis": "x",
         "y": [
          0.3436109090010824,
          0.3122484483623059,
          0.31422083495007713,
          0.42595794651440655,
          0.45313784134136026,
          0.47491254100067526
         ],
         "yaxis": "y"
        },
        {
         "hoverinfo": "none",
         "mode": "text",
         "name": "dist",
         "showlegend": false,
         "text": [
          "|",
          "|",
          "|",
          "|",
          "|",
          "|",
          "|",
          "|",
          "|",
          "|",
          "|",
          "|",
          "|",
          "|",
          "|",
          "|",
          "|",
          "|",
          "|",
          "|",
          "|",
          "|",
          "|",
          "|",
          "|",
          "|",
          "|",
          "|",
          "|",
          "|",
          "|",
          "|",
          "|",
          "|",
          "|",
          "|",
          "|",
          "|",
          "|",
          "|",
          "|",
          "|",
          "|",
          "|",
          "|",
          "|",
          "|",
          "|",
          "|",
          "|",
          "|",
          "|",
          "|",
          "|",
          "|",
          "|",
          "|",
          "|",
          "|",
          "|",
          "|",
          "|",
          "|",
          "|",
          "|",
          "|",
          "|",
          "|",
          "|",
          "|",
          "|",
          "|",
          "|",
          "|",
          "|",
          "|",
          "|",
          "|",
          "|",
          "|",
          "|",
          "|",
          "|",
          "|",
          "|",
          "|",
          "|",
          "|",
          "|",
          "|",
          "|",
          "|",
          "|",
          "|",
          "|",
          "|",
          "|",
          "|",
          "|",
          "|",
          "|",
          "|",
          "|",
          "|",
          "|",
          "|",
          "|",
          "|",
          "|",
          "|",
          "|",
          "|",
          "|",
          "|",
          "|",
          "|",
          "|",
          "|",
          "|",
          "|",
          "|",
          "|",
          "|",
          "|",
          "|",
          "|",
          "|",
          "|",
          "|",
          "|",
          "|",
          "|",
          "|",
          "|",
          "|",
          "|",
          "|",
          "|",
          "|",
          "|",
          "|",
          "|",
          "|",
          "|",
          "|",
          "|",
          "|",
          "|",
          "|",
          "|",
          "|",
          "|",
          "|",
          "|",
          "|",
          "|",
          "|",
          "|",
          "|",
          "|",
          "|",
          "|",
          "|",
          "|",
          "|",
          "|",
          "|",
          "|",
          "|",
          "|",
          "|",
          "|",
          "|",
          "|",
          "|",
          "|",
          "|",
          "|",
          "|",
          "|",
          "|",
          "|",
          "|",
          "|",
          "|",
          "|",
          "|",
          "|",
          "|",
          "|",
          "|",
          "|",
          "|",
          "|",
          "|",
          "|",
          "|",
          "|",
          "|",
          "|",
          "|",
          "|",
          "|",
          "|",
          "|",
          "|",
          "|",
          "|",
          "|",
          "|",
          "|",
          "|",
          "|",
          "|",
          "|",
          "|",
          "|",
          "|",
          "|",
          "|",
          "|",
          "|",
          "|",
          "|",
          "|",
          "|",
          "|",
          "|",
          "|",
          "|",
          "|",
          "|",
          "|",
          "|",
          "|",
          "|",
          "|",
          "|",
          "|",
          "|",
          "|",
          "|",
          "|",
          "|",
          "|",
          "|",
          "|",
          "|",
          "|",
          "|",
          "|",
          "|",
          "|",
          "|",
          "|",
          "|",
          "|",
          "|",
          "|",
          "|",
          "|",
          "|",
          "|",
          "|",
          "|",
          "|",
          "|",
          "|",
          "|",
          "|",
          "|",
          "|",
          "|",
          "|",
          "|",
          "|",
          "|",
          "|",
          "|",
          "|",
          "|",
          "|",
          "|",
          "|",
          "|",
          "|",
          "|",
          "|",
          "|",
          "|",
          "|",
          "|",
          "|",
          "|",
          "|",
          "|",
          "|",
          "|",
          "|",
          "|",
          "|",
          "|",
          "|",
          "|",
          "|",
          "|",
          "|",
          "|",
          "|",
          "|",
          "|",
          "|"
         ],
         "textfont": {
          "color": "rgba(8,48,107,1.0)",
          "size": 20
         },
         "textposition": "middle center",
         "type": "scatter",
         "x": [
          93,
          93,
          96,
          93,
          92,
          93,
          94,
          95,
          92,
          93,
          93,
          94,
          93,
          90,
          93,
          93,
          93,
          96,
          94,
          93,
          94,
          90,
          94,
          94,
          95,
          95,
          93,
          93,
          93,
          93,
          94,
          91,
          93,
          93,
          96,
          93,
          92,
          94,
          92,
          94,
          94,
          94,
          94,
          92,
          92,
          94,
          92,
          95,
          93,
          96,
          95,
          94,
          94,
          92,
          91,
          95,
          93,
          94,
          91,
          92,
          92,
          93,
          92,
          94,
          93,
          92,
          94,
          90,
          95,
          92,
          95,
          95,
          92,
          92,
          93,
          94,
          92,
          93,
          93,
          92,
          94,
          93,
          93,
          96,
          93,
          92,
          92,
          95,
          94,
          96,
          94,
          86,
          94,
          94,
          97,
          94,
          91,
          93,
          94,
          91,
          94,
          92,
          95,
          93,
          96,
          94,
          95,
          93,
          94,
          92,
          94,
          95,
          92,
          91,
          95,
          91,
          93,
          94,
          94,
          94,
          93,
          94,
          91,
          96,
          94,
          93,
          95,
          95,
          94,
          95,
          96,
          94,
          94,
          92,
          91,
          95,
          93,
          93,
          94,
          92,
          90,
          91,
          93,
          95,
          94,
          90,
          93,
          93,
          92,
          94,
          94,
          93,
          87,
          93,
          94,
          93,
          94,
          94,
          92,
          95,
          93,
          93,
          92,
          93,
          92,
          93,
          93,
          93,
          95,
          94,
          92,
          94,
          95,
          91,
          94,
          94,
          92,
          93,
          90,
          90,
          93,
          95,
          96,
          92,
          92,
          93,
          92,
          95,
          93,
          96,
          92,
          90,
          96,
          94,
          94,
          94,
          94,
          91,
          95,
          92,
          94,
          95,
          95,
          94,
          94,
          96,
          94,
          93,
          93,
          93,
          95,
          93,
          93,
          93,
          93,
          92,
          94,
          94,
          90,
          90,
          94,
          92,
          92,
          94,
          89,
          93,
          94,
          94,
          92,
          94,
          95,
          92,
          94,
          94,
          93,
          95,
          94,
          93,
          95,
          92,
          94,
          95,
          94,
          96,
          92,
          95,
          92,
          93,
          92,
          87,
          94,
          96,
          94,
          94,
          94,
          93,
          93,
          95,
          91,
          93,
          94,
          94,
          94,
          96,
          93,
          94,
          95,
          94,
          94,
          94,
          93,
          95,
          94,
          93,
          93,
          95,
          93,
          95,
          94,
          94,
          94,
          91,
          93,
          96,
          94,
          95,
          92,
          92,
          92,
          93,
          84,
          95,
          93,
          93,
          94,
          93,
          94,
          91,
          92,
          93,
          93,
          92,
          92,
          94,
          95,
          94,
          94,
          91,
          94,
          94,
          96,
          93
         ],
         "xaxis": "x2",
         "y": [
          1,
          1,
          1,
          1,
          1,
          1,
          1,
          1,
          1,
          1,
          1,
          1,
          1,
          1,
          1,
          1,
          1,
          1,
          1,
          1,
          1,
          1,
          1,
          1,
          1,
          1,
          1,
          1,
          1,
          1,
          1,
          1,
          1,
          1,
          1,
          1,
          1,
          1,
          1,
          1,
          1,
          1,
          1,
          1,
          1,
          1,
          1,
          1,
          1,
          1,
          1,
          1,
          1,
          1,
          1,
          1,
          1,
          1,
          1,
          1,
          1,
          1,
          1,
          1,
          1,
          1,
          1,
          1,
          1,
          1,
          1,
          1,
          1,
          1,
          1,
          1,
          1,
          1,
          1,
          1,
          1,
          1,
          1,
          1,
          1,
          1,
          1,
          1,
          1,
          1,
          1,
          1,
          1,
          1,
          1,
          1,
          1,
          1,
          1,
          1,
          1,
          1,
          1,
          1,
          1,
          1,
          1,
          1,
          1,
          1,
          1,
          1,
          1,
          1,
          1,
          1,
          1,
          1,
          1,
          1,
          1,
          1,
          1,
          1,
          1,
          1,
          1,
          1,
          1,
          1,
          1,
          1,
          1,
          1,
          1,
          1,
          1,
          1,
          1,
          1,
          1,
          1,
          1,
          1,
          1,
          1,
          1,
          1,
          1,
          1,
          1,
          1,
          1,
          1,
          1,
          1,
          1,
          1,
          1,
          1,
          1,
          1,
          1,
          1,
          1,
          1,
          1,
          1,
          1,
          1,
          1,
          1,
          1,
          1,
          1,
          1,
          1,
          1,
          1,
          1,
          1,
          1,
          1,
          1,
          1,
          1,
          1,
          1,
          1,
          1,
          1,
          1,
          1,
          1,
          1,
          1,
          1,
          1,
          1,
          1,
          1,
          1,
          1,
          1,
          1,
          1,
          1,
          1,
          1,
          1,
          1,
          1,
          1,
          1,
          1,
          1,
          1,
          1,
          1,
          1,
          1,
          1,
          1,
          1,
          1,
          1,
          1,
          1,
          1,
          1,
          1,
          1,
          1,
          1,
          1,
          1,
          1,
          1,
          1,
          1,
          1,
          1,
          1,
          1,
          1,
          1,
          1,
          1,
          1,
          1,
          1,
          1,
          1,
          1,
          1,
          1,
          1,
          1,
          1,
          1,
          1,
          1,
          1,
          1,
          1,
          1,
          1,
          1,
          1,
          1,
          1,
          1,
          1,
          1,
          1,
          1,
          1,
          1,
          1,
          1,
          1,
          1,
          1,
          1,
          1,
          1,
          1,
          1,
          1,
          1,
          1,
          1,
          1,
          1,
          1,
          1,
          1,
          1,
          1,
          1,
          1,
          1,
          1,
          1,
          1,
          1,
          1,
          1,
          1,
          1,
          1,
          1
         ],
         "yaxis": "y2"
        }
       ],
       "layout": {
        "height": 600,
        "showlegend": false,
        "template": {
         "data": {
          "bar": [
           {
            "error_x": {
             "color": "#2a3f5f"
            },
            "error_y": {
             "color": "#2a3f5f"
            },
            "marker": {
             "line": {
              "color": "white",
              "width": 0.5
             },
             "pattern": {
              "fillmode": "overlay",
              "size": 10,
              "solidity": 0.2
             }
            },
            "type": "bar"
           }
          ],
          "barpolar": [
           {
            "marker": {
             "line": {
              "color": "white",
              "width": 0.5
             },
             "pattern": {
              "fillmode": "overlay",
              "size": 10,
              "solidity": 0.2
             }
            },
            "type": "barpolar"
           }
          ],
          "carpet": [
           {
            "aaxis": {
             "endlinecolor": "#2a3f5f",
             "gridcolor": "#C8D4E3",
             "linecolor": "#C8D4E3",
             "minorgridcolor": "#C8D4E3",
             "startlinecolor": "#2a3f5f"
            },
            "baxis": {
             "endlinecolor": "#2a3f5f",
             "gridcolor": "#C8D4E3",
             "linecolor": "#C8D4E3",
             "minorgridcolor": "#C8D4E3",
             "startlinecolor": "#2a3f5f"
            },
            "type": "carpet"
           }
          ],
          "choropleth": [
           {
            "colorbar": {
             "outlinewidth": 0,
             "ticks": ""
            },
            "type": "choropleth"
           }
          ],
          "contour": [
           {
            "colorbar": {
             "outlinewidth": 0,
             "ticks": ""
            },
            "colorscale": [
             [
              0,
              "#0d0887"
             ],
             [
              0.1111111111111111,
              "#46039f"
             ],
             [
              0.2222222222222222,
              "#7201a8"
             ],
             [
              0.3333333333333333,
              "#9c179e"
             ],
             [
              0.4444444444444444,
              "#bd3786"
             ],
             [
              0.5555555555555556,
              "#d8576b"
             ],
             [
              0.6666666666666666,
              "#ed7953"
             ],
             [
              0.7777777777777778,
              "#fb9f3a"
             ],
             [
              0.8888888888888888,
              "#fdca26"
             ],
             [
              1,
              "#f0f921"
             ]
            ],
            "type": "contour"
           }
          ],
          "contourcarpet": [
           {
            "colorbar": {
             "outlinewidth": 0,
             "ticks": ""
            },
            "type": "contourcarpet"
           }
          ],
          "heatmap": [
           {
            "colorbar": {
             "outlinewidth": 0,
             "ticks": ""
            },
            "colorscale": [
             [
              0,
              "#0d0887"
             ],
             [
              0.1111111111111111,
              "#46039f"
             ],
             [
              0.2222222222222222,
              "#7201a8"
             ],
             [
              0.3333333333333333,
              "#9c179e"
             ],
             [
              0.4444444444444444,
              "#bd3786"
             ],
             [
              0.5555555555555556,
              "#d8576b"
             ],
             [
              0.6666666666666666,
              "#ed7953"
             ],
             [
              0.7777777777777778,
              "#fb9f3a"
             ],
             [
              0.8888888888888888,
              "#fdca26"
             ],
             [
              1,
              "#f0f921"
             ]
            ],
            "type": "heatmap"
           }
          ],
          "heatmapgl": [
           {
            "colorbar": {
             "outlinewidth": 0,
             "ticks": ""
            },
            "colorscale": [
             [
              0,
              "#0d0887"
             ],
             [
              0.1111111111111111,
              "#46039f"
             ],
             [
              0.2222222222222222,
              "#7201a8"
             ],
             [
              0.3333333333333333,
              "#9c179e"
             ],
             [
              0.4444444444444444,
              "#bd3786"
             ],
             [
              0.5555555555555556,
              "#d8576b"
             ],
             [
              0.6666666666666666,
              "#ed7953"
             ],
             [
              0.7777777777777778,
              "#fb9f3a"
             ],
             [
              0.8888888888888888,
              "#fdca26"
             ],
             [
              1,
              "#f0f921"
             ]
            ],
            "type": "heatmapgl"
           }
          ],
          "histogram": [
           {
            "marker": {
             "pattern": {
              "fillmode": "overlay",
              "size": 10,
              "solidity": 0.2
             }
            },
            "type": "histogram"
           }
          ],
          "histogram2d": [
           {
            "colorbar": {
             "outlinewidth": 0,
             "ticks": ""
            },
            "colorscale": [
             [
              0,
              "#0d0887"
             ],
             [
              0.1111111111111111,
              "#46039f"
             ],
             [
              0.2222222222222222,
              "#7201a8"
             ],
             [
              0.3333333333333333,
              "#9c179e"
             ],
             [
              0.4444444444444444,
              "#bd3786"
             ],
             [
              0.5555555555555556,
              "#d8576b"
             ],
             [
              0.6666666666666666,
              "#ed7953"
             ],
             [
              0.7777777777777778,
              "#fb9f3a"
             ],
             [
              0.8888888888888888,
              "#fdca26"
             ],
             [
              1,
              "#f0f921"
             ]
            ],
            "type": "histogram2d"
           }
          ],
          "histogram2dcontour": [
           {
            "colorbar": {
             "outlinewidth": 0,
             "ticks": ""
            },
            "colorscale": [
             [
              0,
              "#0d0887"
             ],
             [
              0.1111111111111111,
              "#46039f"
             ],
             [
              0.2222222222222222,
              "#7201a8"
             ],
             [
              0.3333333333333333,
              "#9c179e"
             ],
             [
              0.4444444444444444,
              "#bd3786"
             ],
             [
              0.5555555555555556,
              "#d8576b"
             ],
             [
              0.6666666666666666,
              "#ed7953"
             ],
             [
              0.7777777777777778,
              "#fb9f3a"
             ],
             [
              0.8888888888888888,
              "#fdca26"
             ],
             [
              1,
              "#f0f921"
             ]
            ],
            "type": "histogram2dcontour"
           }
          ],
          "mesh3d": [
           {
            "colorbar": {
             "outlinewidth": 0,
             "ticks": ""
            },
            "type": "mesh3d"
           }
          ],
          "parcoords": [
           {
            "line": {
             "colorbar": {
              "outlinewidth": 0,
              "ticks": ""
             }
            },
            "type": "parcoords"
           }
          ],
          "pie": [
           {
            "automargin": true,
            "type": "pie"
           }
          ],
          "scatter": [
           {
            "fillpattern": {
             "fillmode": "overlay",
             "size": 10,
             "solidity": 0.2
            },
            "type": "scatter"
           }
          ],
          "scatter3d": [
           {
            "line": {
             "colorbar": {
              "outlinewidth": 0,
              "ticks": ""
             }
            },
            "marker": {
             "colorbar": {
              "outlinewidth": 0,
              "ticks": ""
             }
            },
            "type": "scatter3d"
           }
          ],
          "scattercarpet": [
           {
            "marker": {
             "colorbar": {
              "outlinewidth": 0,
              "ticks": ""
             }
            },
            "type": "scattercarpet"
           }
          ],
          "scattergeo": [
           {
            "marker": {
             "colorbar": {
              "outlinewidth": 0,
              "ticks": ""
             }
            },
            "type": "scattergeo"
           }
          ],
          "scattergl": [
           {
            "marker": {
             "colorbar": {
              "outlinewidth": 0,
              "ticks": ""
             }
            },
            "type": "scattergl"
           }
          ],
          "scattermapbox": [
           {
            "marker": {
             "colorbar": {
              "outlinewidth": 0,
              "ticks": ""
             }
            },
            "type": "scattermapbox"
           }
          ],
          "scatterpolar": [
           {
            "marker": {
             "colorbar": {
              "outlinewidth": 0,
              "ticks": ""
             }
            },
            "type": "scatterpolar"
           }
          ],
          "scatterpolargl": [
           {
            "marker": {
             "colorbar": {
              "outlinewidth": 0,
              "ticks": ""
             }
            },
            "type": "scatterpolargl"
           }
          ],
          "scatterternary": [
           {
            "marker": {
             "colorbar": {
              "outlinewidth": 0,
              "ticks": ""
             }
            },
            "type": "scatterternary"
           }
          ],
          "surface": [
           {
            "colorbar": {
             "outlinewidth": 0,
             "ticks": ""
            },
            "colorscale": [
             [
              0,
              "#0d0887"
             ],
             [
              0.1111111111111111,
              "#46039f"
             ],
             [
              0.2222222222222222,
              "#7201a8"
             ],
             [
              0.3333333333333333,
              "#9c179e"
             ],
             [
              0.4444444444444444,
              "#bd3786"
             ],
             [
              0.5555555555555556,
              "#d8576b"
             ],
             [
              0.6666666666666666,
              "#ed7953"
             ],
             [
              0.7777777777777778,
              "#fb9f3a"
             ],
             [
              0.8888888888888888,
              "#fdca26"
             ],
             [
              1,
              "#f0f921"
             ]
            ],
            "type": "surface"
           }
          ],
          "table": [
           {
            "cells": {
             "fill": {
              "color": "#EBF0F8"
             },
             "line": {
              "color": "white"
             }
            },
            "header": {
             "fill": {
              "color": "#C8D4E3"
             },
             "line": {
              "color": "white"
             }
            },
            "type": "table"
           }
          ]
         },
         "layout": {
          "annotationdefaults": {
           "arrowcolor": "#2a3f5f",
           "arrowhead": 0,
           "arrowwidth": 1
          },
          "autotypenumbers": "strict",
          "coloraxis": {
           "colorbar": {
            "outlinewidth": 0,
            "ticks": ""
           }
          },
          "colorscale": {
           "diverging": [
            [
             0,
             "#8e0152"
            ],
            [
             0.1,
             "#c51b7d"
            ],
            [
             0.2,
             "#de77ae"
            ],
            [
             0.3,
             "#f1b6da"
            ],
            [
             0.4,
             "#fde0ef"
            ],
            [
             0.5,
             "#f7f7f7"
            ],
            [
             0.6,
             "#e6f5d0"
            ],
            [
             0.7,
             "#b8e186"
            ],
            [
             0.8,
             "#7fbc41"
            ],
            [
             0.9,
             "#4d9221"
            ],
            [
             1,
             "#276419"
            ]
           ],
           "sequential": [
            [
             0,
             "#0d0887"
            ],
            [
             0.1111111111111111,
             "#46039f"
            ],
            [
             0.2222222222222222,
             "#7201a8"
            ],
            [
             0.3333333333333333,
             "#9c179e"
            ],
            [
             0.4444444444444444,
             "#bd3786"
            ],
            [
             0.5555555555555556,
             "#d8576b"
            ],
            [
             0.6666666666666666,
             "#ed7953"
            ],
            [
             0.7777777777777778,
             "#fb9f3a"
            ],
            [
             0.8888888888888888,
             "#fdca26"
            ],
            [
             1,
             "#f0f921"
            ]
           ],
           "sequentialminus": [
            [
             0,
             "#0d0887"
            ],
            [
             0.1111111111111111,
             "#46039f"
            ],
            [
             0.2222222222222222,
             "#7201a8"
            ],
            [
             0.3333333333333333,
             "#9c179e"
            ],
            [
             0.4444444444444444,
             "#bd3786"
            ],
            [
             0.5555555555555556,
             "#d8576b"
            ],
            [
             0.6666666666666666,
             "#ed7953"
            ],
            [
             0.7777777777777778,
             "#fb9f3a"
            ],
            [
             0.8888888888888888,
             "#fdca26"
            ],
            [
             1,
             "#f0f921"
            ]
           ]
          },
          "colorway": [
           "#636efa",
           "#EF553B",
           "#00cc96",
           "#ab63fa",
           "#FFA15A",
           "#19d3f3",
           "#FF6692",
           "#B6E880",
           "#FF97FF",
           "#FECB52"
          ],
          "font": {
           "color": "#2a3f5f"
          },
          "geo": {
           "bgcolor": "white",
           "lakecolor": "white",
           "landcolor": "white",
           "showlakes": true,
           "showland": true,
           "subunitcolor": "#C8D4E3"
          },
          "hoverlabel": {
           "align": "left"
          },
          "hovermode": "closest",
          "mapbox": {
           "style": "light"
          },
          "paper_bgcolor": "white",
          "plot_bgcolor": "white",
          "polar": {
           "angularaxis": {
            "gridcolor": "#EBF0F8",
            "linecolor": "#EBF0F8",
            "ticks": ""
           },
           "bgcolor": "white",
           "radialaxis": {
            "gridcolor": "#EBF0F8",
            "linecolor": "#EBF0F8",
            "ticks": ""
           }
          },
          "scene": {
           "xaxis": {
            "backgroundcolor": "white",
            "gridcolor": "#DFE8F3",
            "gridwidth": 2,
            "linecolor": "#EBF0F8",
            "showbackground": true,
            "ticks": "",
            "zerolinecolor": "#EBF0F8"
           },
           "yaxis": {
            "backgroundcolor": "white",
            "gridcolor": "#DFE8F3",
            "gridwidth": 2,
            "linecolor": "#EBF0F8",
            "showbackground": true,
            "ticks": "",
            "zerolinecolor": "#EBF0F8"
           },
           "zaxis": {
            "backgroundcolor": "white",
            "gridcolor": "#DFE8F3",
            "gridwidth": 2,
            "linecolor": "#EBF0F8",
            "showbackground": true,
            "ticks": "",
            "zerolinecolor": "#EBF0F8"
           }
          },
          "shapedefaults": {
           "line": {
            "color": "#2a3f5f"
           }
          },
          "ternary": {
           "aaxis": {
            "gridcolor": "#DFE8F3",
            "linecolor": "#A2B1C6",
            "ticks": ""
           },
           "baxis": {
            "gridcolor": "#DFE8F3",
            "linecolor": "#A2B1C6",
            "ticks": ""
           },
           "bgcolor": "white",
           "caxis": {
            "gridcolor": "#DFE8F3",
            "linecolor": "#A2B1C6",
            "ticks": ""
           }
          },
          "title": {
           "x": 0.05
          },
          "xaxis": {
           "automargin": true,
           "gridcolor": "#EBF0F8",
           "linecolor": "#EBF0F8",
           "ticks": "",
           "title": {
            "standoff": 15
           },
           "zerolinecolor": "#EBF0F8",
           "zerolinewidth": 2
          },
          "yaxis": {
           "automargin": true,
           "gridcolor": "#EBF0F8",
           "linecolor": "#EBF0F8",
           "ticks": "",
           "title": {
            "standoff": 15
           },
           "zerolinecolor": "#EBF0F8",
           "zerolinewidth": 2
          }
         }
        },
        "title": {
         "text": "PDP for feature <b>rating</b> <br><sup>Number of unique grid points: 6</sup>",
         "x": 0,
         "xref": "paper"
        },
        "width": 1200,
        "xaxis": {
         "anchor": "y",
         "domain": [
          0,
          1
         ]
        },
        "xaxis2": {
         "anchor": "y2",
         "domain": [
          0,
          1
         ],
         "showgrid": false,
         "showticklabels": false,
         "title": {
          "text": "<b>rating</b> (value)"
         }
        },
        "yaxis": {
         "anchor": "x",
         "domain": [
          0.11266666666666669,
          0.99
         ],
         "title": {
          "text": "raw"
         }
        },
        "yaxis2": {
         "anchor": "x2",
         "domain": [
          0,
          0.06266666666666665
         ],
         "showgrid": false,
         "showticklabels": false
        }
       }
      }
     },
     "metadata": {},
     "output_type": "display_data"
    }
   ],
   "source": [
    "# Plot PDP\n",
    "# Create the pdp data to be plotted\n",
    "pdp_goals = pdp.PDPIsolate(model=tree_model, df=val_x, model_features=feature_names, feature='rating', feature_name='rating')\n",
    "\n",
    "# plot the PDP for feature 'Goal Scored'\n",
    "fig, axes = pdp_goals.plot(\n",
    "    center=False,\n",
    "    plot_lines=True,\n",
    "    frac_to_plot=100,\n",
    "    cluster=False,\n",
    "    n_cluster_centers=None,\n",
    "    cluster_method='accurate',\n",
    "    plot_pts_dist=True,\n",
    "    to_bins=False,\n",
    "    show_percentile=False,\n",
    "    which_classes=None,\n",
    "    figsize=None,\n",
    "    dpi=300,\n",
    "    ncols=2,\n",
    "    plot_params={\"pdp_hl\": True},\n",
    "    engine='plotly',\n",
    "    template='plotly_white')\n",
    "\n",
    "fig.show()"
   ]
  },
  {
   "cell_type": "markdown",
   "metadata": {},
   "source": [
    "Looking at this graph you can see that it seems more likely that when the rating >=94 that it is from ethoipia."
   ]
  },
  {
   "cell_type": "code",
   "execution_count": 83,
   "metadata": {},
   "outputs": [
    {
     "name": "stdout",
     "output_type": "stream",
     "text": [
      "obtain pred_func from the provided model.\n"
     ]
    },
    {
     "name": "stderr",
     "output_type": "stream",
     "text": [
      "100%|██████████| 10/10 [00:00<00:00, 1457.92it/s]\n"
     ]
    },
    {
     "data": {
      "application/vnd.plotly.v1+json": {
       "config": {
        "plotlyServerURL": "https://plot.ly"
       },
       "data": [
        {
         "hoverinfo": "none",
         "line": {
          "color": "rgba(193,217,237,0.5)",
          "width": 0.5
         },
         "mode": "lines",
         "type": "scatter",
         "x": [
          1.32,
          4.41,
          4.982222222222223,
          5.51,
          5.864444444444445,
          6.587777777777777,
          7.7533333333333285,
          10.58,
          20.380000000000006,
          127.87
         ],
         "xaxis": "x",
         "y": [
          0.3333333333333333,
          0.7391304347826086,
          0.7391304347826086,
          0.7391304347826086,
          0.59375,
          0.3108108108108108,
          0.3108108108108108,
          0.07692307692307693,
          0.1111111111111111,
          0
         ],
         "yaxis": "y"
        },
        {
         "hoverinfo": "none",
         "line": {
          "color": "rgba(177,210,231,0.5)",
          "width": 0.5
         },
         "mode": "lines",
         "type": "scatter",
         "x": [
          1.32,
          4.41,
          4.982222222222223,
          5.51,
          5.864444444444445,
          6.587777777777777,
          7.7533333333333285,
          10.58,
          20.380000000000006,
          127.87
         ],
         "xaxis": "x",
         "y": [
          0.08333333333333333,
          0.3670520231213873,
          0.3670520231213873,
          0.3670520231213873,
          0.3670520231213873,
          0.3670520231213873,
          0.3670520231213873,
          0.07692307692307693,
          0.1111111111111111,
          1
         ],
         "yaxis": "y"
        },
        {
         "hoverinfo": "none",
         "line": {
          "color": "rgba(160,202,225,0.5)",
          "width": 0.5
         },
         "mode": "lines",
         "type": "scatter",
         "x": [
          1.32,
          4.41,
          4.982222222222223,
          5.51,
          5.864444444444445,
          6.587777777777777,
          7.7533333333333285,
          10.58,
          20.380000000000006,
          127.87
         ],
         "xaxis": "x",
         "y": [
          0.08333333333333333,
          0.3670520231213873,
          0.3670520231213873,
          0.3670520231213873,
          0.3670520231213873,
          0.3670520231213873,
          0.3670520231213873,
          0.07692307692307693,
          0.1111111111111111,
          1
         ],
         "yaxis": "y"
        },
        {
         "hoverinfo": "none",
         "line": {
          "color": "rgba(139,192,221,0.5)",
          "width": 0.5
         },
         "mode": "lines",
         "type": "scatter",
         "x": [
          1.32,
          4.41,
          4.982222222222223,
          5.51,
          5.864444444444445,
          6.587777777777777,
          7.7533333333333285,
          10.58,
          20.380000000000006,
          127.87
         ],
         "xaxis": "x",
         "y": [
          0.08333333333333333,
          0.3670520231213873,
          0.3670520231213873,
          0.3670520231213873,
          0.3670520231213873,
          0.3670520231213873,
          0.3670520231213873,
          0,
          0.25,
          1
         ],
         "yaxis": "y"
        },
        {
         "hoverinfo": "none",
         "line": {
          "color": "rgba(117,179,216,0.5)",
          "width": 0.5
         },
         "mode": "lines",
         "type": "scatter",
         "x": [
          1.32,
          4.41,
          4.982222222222223,
          5.51,
          5.864444444444445,
          6.587777777777777,
          7.7533333333333285,
          10.58,
          20.380000000000006,
          127.87
         ],
         "xaxis": "x",
         "y": [
          0.08333333333333333,
          0.3670520231213873,
          0.3670520231213873,
          0.3670520231213873,
          0.3670520231213873,
          0.3670520231213873,
          0.3670520231213873,
          0,
          0.1111111111111111,
          1
         ],
         "yaxis": "y"
        },
        {
         "hoverinfo": "none",
         "line": {
          "color": "rgba(98,168,210,0.5)",
          "width": 0.5
         },
         "mode": "lines",
         "type": "scatter",
         "x": [
          1.32,
          4.41,
          4.982222222222223,
          5.51,
          5.864444444444445,
          6.587777777777777,
          7.7533333333333285,
          10.58,
          20.380000000000006,
          127.87
         ],
         "xaxis": "x",
         "y": [
          0.08333333333333333,
          0.3670520231213873,
          0.3670520231213873,
          0.3670520231213873,
          0.3670520231213873,
          0.3670520231213873,
          0.3670520231213873,
          0,
          0.1111111111111111,
          1
         ],
         "yaxis": "y"
        },
        {
         "hoverinfo": "none",
         "line": {
          "color": "rgba(80,155,203,0.5)",
          "width": 0.5
         },
         "mode": "lines",
         "type": "scatter",
         "x": [
          1.32,
          4.41,
          4.982222222222223,
          5.51,
          5.864444444444445,
          6.587777777777777,
          7.7533333333333285,
          10.58,
          20.380000000000006,
          127.87
         ],
         "xaxis": "x",
         "y": [
          0.08333333333333333,
          0.3670520231213873,
          0.3670520231213873,
          0.3670520231213873,
          0.3670520231213873,
          0.3670520231213873,
          0.3670520231213873,
          0,
          0.25,
          1
         ],
         "yaxis": "y"
        },
        {
         "hoverinfo": "none",
         "line": {
          "color": "rgba(64,144,197,0.5)",
          "width": 0.5
         },
         "mode": "lines",
         "type": "scatter",
         "x": [
          1.32,
          4.41,
          4.982222222222223,
          5.51,
          5.864444444444445,
          6.587777777777777,
          7.7533333333333285,
          10.58,
          20.380000000000006,
          127.87
         ],
         "xaxis": "x",
         "y": [
          0.3333333333333333,
          0.7391304347826086,
          0.7391304347826086,
          0.7391304347826086,
          0.59375,
          0.4117647058823529,
          0.4117647058823529,
          0.5,
          0.1111111111111111,
          0
         ],
         "yaxis": "y"
        },
        {
         "hoverinfo": "none",
         "line": {
          "color": "rgba(49,129,189,0.5)",
          "width": 0.5
         },
         "mode": "lines",
         "type": "scatter",
         "x": [
          1.32,
          4.41,
          4.982222222222223,
          5.51,
          5.864444444444445,
          6.587777777777777,
          7.7533333333333285,
          10.58,
          20.380000000000006,
          127.87
         ],
         "xaxis": "x",
         "y": [
          0.08333333333333333,
          0.3670520231213873,
          0.3670520231213873,
          0.3670520231213873,
          0.3670520231213873,
          0.3670520231213873,
          0.3670520231213873,
          0.07692307692307693,
          0.1111111111111111,
          1
         ],
         "yaxis": "y"
        },
        {
         "hoverinfo": "none",
         "line": {
          "color": "rgba(36,116,182,0.5)",
          "width": 0.5
         },
         "mode": "lines",
         "type": "scatter",
         "x": [
          1.32,
          4.41,
          4.982222222222223,
          5.51,
          5.864444444444445,
          6.587777777777777,
          7.7533333333333285,
          10.58,
          20.380000000000006,
          127.87
         ],
         "xaxis": "x",
         "y": [
          0.3333333333333333,
          0.7391304347826086,
          0.7391304347826086,
          0.7391304347826086,
          0.59375,
          0.4117647058823529,
          0.4117647058823529,
          0.07692307692307693,
          0.1111111111111111,
          0
         ],
         "yaxis": "y"
        },
        {
         "hoverinfo": "none",
         "line": {
          "color": "rgba(193,217,237,0.5)",
          "width": 0.5
         },
         "mode": "lines",
         "type": "scatter",
         "x": [
          1.32,
          4.41,
          4.982222222222223,
          5.51,
          5.864444444444445,
          6.587777777777777,
          7.7533333333333285,
          10.58,
          20.380000000000006,
          127.87
         ],
         "xaxis": "x",
         "y": [
          0.08333333333333333,
          0.3670520231213873,
          0.3670520231213873,
          0.3670520231213873,
          0.3670520231213873,
          0.3670520231213873,
          0.3670520231213873,
          0.07692307692307693,
          0.1111111111111111,
          1
         ],
         "yaxis": "y"
        },
        {
         "hoverinfo": "none",
         "line": {
          "color": "rgba(177,210,231,0.5)",
          "width": 0.5
         },
         "mode": "lines",
         "type": "scatter",
         "x": [
          1.32,
          4.41,
          4.982222222222223,
          5.51,
          5.864444444444445,
          6.587777777777777,
          7.7533333333333285,
          10.58,
          20.380000000000006,
          127.87
         ],
         "xaxis": "x",
         "y": [
          0.08333333333333333,
          0.3670520231213873,
          0.3670520231213873,
          0.3670520231213873,
          0.3670520231213873,
          0.3670520231213873,
          0.3670520231213873,
          0.07692307692307693,
          0.1111111111111111,
          1
         ],
         "yaxis": "y"
        },
        {
         "hoverinfo": "none",
         "line": {
          "color": "rgba(160,202,225,0.5)",
          "width": 0.5
         },
         "mode": "lines",
         "type": "scatter",
         "x": [
          1.32,
          4.41,
          4.982222222222223,
          5.51,
          5.864444444444445,
          6.587777777777777,
          7.7533333333333285,
          10.58,
          20.380000000000006,
          127.87
         ],
         "xaxis": "x",
         "y": [
          0.3333333333333333,
          0.7391304347826086,
          0.7391304347826086,
          0.7391304347826086,
          0.59375,
          0.3108108108108108,
          0.3108108108108108,
          0.07692307692307693,
          0.1111111111111111,
          0
         ],
         "yaxis": "y"
        },
        {
         "hoverinfo": "none",
         "line": {
          "color": "rgba(139,192,221,0.5)",
          "width": 0.5
         },
         "mode": "lines",
         "type": "scatter",
         "x": [
          1.32,
          4.41,
          4.982222222222223,
          5.51,
          5.864444444444445,
          6.587777777777777,
          7.7533333333333285,
          10.58,
          20.380000000000006,
          127.87
         ],
         "xaxis": "x",
         "y": [
          0.08333333333333333,
          0.3670520231213873,
          0.3670520231213873,
          0.3670520231213873,
          0.3670520231213873,
          0.3670520231213873,
          0.3670520231213873,
          0,
          0.25,
          1
         ],
         "yaxis": "y"
        },
        {
         "hoverinfo": "none",
         "line": {
          "color": "rgba(117,179,216,0.5)",
          "width": 0.5
         },
         "mode": "lines",
         "type": "scatter",
         "x": [
          1.32,
          4.41,
          4.982222222222223,
          5.51,
          5.864444444444445,
          6.587777777777777,
          7.7533333333333285,
          10.58,
          20.380000000000006,
          127.87
         ],
         "xaxis": "x",
         "y": [
          0.3333333333333333,
          0.7391304347826086,
          0.7391304347826086,
          0.7391304347826086,
          0.59375,
          0.3108108108108108,
          0.3108108108108108,
          0.07692307692307693,
          0.1111111111111111,
          0
         ],
         "yaxis": "y"
        },
        {
         "hoverinfo": "none",
         "line": {
          "color": "rgba(98,168,210,0.5)",
          "width": 0.5
         },
         "mode": "lines",
         "type": "scatter",
         "x": [
          1.32,
          4.41,
          4.982222222222223,
          5.51,
          5.864444444444445,
          6.587777777777777,
          7.7533333333333285,
          10.58,
          20.380000000000006,
          127.87
         ],
         "xaxis": "x",
         "y": [
          0.3333333333333333,
          0.7391304347826086,
          0.7391304347826086,
          0.7391304347826086,
          0.59375,
          0.4117647058823529,
          0.4117647058823529,
          0.07692307692307693,
          0.1111111111111111,
          0
         ],
         "yaxis": "y"
        },
        {
         "hoverinfo": "none",
         "line": {
          "color": "rgba(80,155,203,0.5)",
          "width": 0.5
         },
         "mode": "lines",
         "type": "scatter",
         "x": [
          1.32,
          4.41,
          4.982222222222223,
          5.51,
          5.864444444444445,
          6.587777777777777,
          7.7533333333333285,
          10.58,
          20.380000000000006,
          127.87
         ],
         "xaxis": "x",
         "y": [
          0.3333333333333333,
          0.7391304347826086,
          0.7391304347826086,
          0.7391304347826086,
          0.59375,
          0.3108108108108108,
          0.3108108108108108,
          0.07692307692307693,
          0.1111111111111111,
          0
         ],
         "yaxis": "y"
        },
        {
         "hoverinfo": "none",
         "line": {
          "color": "rgba(64,144,197,0.5)",
          "width": 0.5
         },
         "mode": "lines",
         "type": "scatter",
         "x": [
          1.32,
          4.41,
          4.982222222222223,
          5.51,
          5.864444444444445,
          6.587777777777777,
          7.7533333333333285,
          10.58,
          20.380000000000006,
          127.87
         ],
         "xaxis": "x",
         "y": [
          0.3333333333333333,
          0.7391304347826086,
          0.7391304347826086,
          0.7391304347826086,
          0.59375,
          0.4117647058823529,
          0.4117647058823529,
          0.07692307692307693,
          0.1111111111111111,
          0
         ],
         "yaxis": "y"
        },
        {
         "hoverinfo": "none",
         "line": {
          "color": "rgba(49,129,189,0.5)",
          "width": 0.5
         },
         "mode": "lines",
         "type": "scatter",
         "x": [
          1.32,
          4.41,
          4.982222222222223,
          5.51,
          5.864444444444445,
          6.587777777777777,
          7.7533333333333285,
          10.58,
          20.380000000000006,
          127.87
         ],
         "xaxis": "x",
         "y": [
          0.08333333333333333,
          0.3670520231213873,
          0.3670520231213873,
          0.3670520231213873,
          0.3670520231213873,
          0.3670520231213873,
          0.3670520231213873,
          0,
          0.1111111111111111,
          1
         ],
         "yaxis": "y"
        },
        {
         "hoverinfo": "none",
         "line": {
          "color": "rgba(36,116,182,0.5)",
          "width": 0.5
         },
         "mode": "lines",
         "type": "scatter",
         "x": [
          1.32,
          4.41,
          4.982222222222223,
          5.51,
          5.864444444444445,
          6.587777777777777,
          7.7533333333333285,
          10.58,
          20.380000000000006,
          127.87
         ],
         "xaxis": "x",
         "y": [
          0.3333333333333333,
          0.7391304347826086,
          0.7391304347826086,
          0.7391304347826086,
          0.59375,
          0.3108108108108108,
          0.3108108108108108,
          0.07692307692307693,
          0.1111111111111111,
          0
         ],
         "yaxis": "y"
        },
        {
         "hoverinfo": "none",
         "line": {
          "color": "rgba(193,217,237,0.5)",
          "width": 0.5
         },
         "mode": "lines",
         "type": "scatter",
         "x": [
          1.32,
          4.41,
          4.982222222222223,
          5.51,
          5.864444444444445,
          6.587777777777777,
          7.7533333333333285,
          10.58,
          20.380000000000006,
          127.87
         ],
         "xaxis": "x",
         "y": [
          0.3333333333333333,
          0.7391304347826086,
          0.7391304347826086,
          0.7391304347826086,
          0.59375,
          0.3108108108108108,
          0.3108108108108108,
          0.07692307692307693,
          0.1111111111111111,
          0
         ],
         "yaxis": "y"
        },
        {
         "hoverinfo": "none",
         "line": {
          "color": "rgba(177,210,231,0.5)",
          "width": 0.5
         },
         "mode": "lines",
         "type": "scatter",
         "x": [
          1.32,
          4.41,
          4.982222222222223,
          5.51,
          5.864444444444445,
          6.587777777777777,
          7.7533333333333285,
          10.58,
          20.380000000000006,
          127.87
         ],
         "xaxis": "x",
         "y": [
          0.08333333333333333,
          0.3670520231213873,
          0.3670520231213873,
          0.3670520231213873,
          0.3670520231213873,
          0.3670520231213873,
          0.3670520231213873,
          0,
          0.1111111111111111,
          1
         ],
         "yaxis": "y"
        },
        {
         "hoverinfo": "none",
         "line": {
          "color": "rgba(160,202,225,0.5)",
          "width": 0.5
         },
         "mode": "lines",
         "type": "scatter",
         "x": [
          1.32,
          4.41,
          4.982222222222223,
          5.51,
          5.864444444444445,
          6.587777777777777,
          7.7533333333333285,
          10.58,
          20.380000000000006,
          127.87
         ],
         "xaxis": "x",
         "y": [
          0.3333333333333333,
          0.7391304347826086,
          0.7391304347826086,
          0.7391304347826086,
          0.59375,
          0.3108108108108108,
          0.3108108108108108,
          0.07692307692307693,
          0.1111111111111111,
          0
         ],
         "yaxis": "y"
        },
        {
         "hoverinfo": "none",
         "line": {
          "color": "rgba(139,192,221,0.5)",
          "width": 0.5
         },
         "mode": "lines",
         "type": "scatter",
         "x": [
          1.32,
          4.41,
          4.982222222222223,
          5.51,
          5.864444444444445,
          6.587777777777777,
          7.7533333333333285,
          10.58,
          20.380000000000006,
          127.87
         ],
         "xaxis": "x",
         "y": [
          0.08333333333333333,
          0.3670520231213873,
          0.3670520231213873,
          0.3670520231213873,
          0.3670520231213873,
          0.3670520231213873,
          0.3670520231213873,
          0,
          0.25,
          1
         ],
         "yaxis": "y"
        },
        {
         "hoverinfo": "none",
         "line": {
          "color": "rgba(117,179,216,0.5)",
          "width": 0.5
         },
         "mode": "lines",
         "type": "scatter",
         "x": [
          1.32,
          4.41,
          4.982222222222223,
          5.51,
          5.864444444444445,
          6.587777777777777,
          7.7533333333333285,
          10.58,
          20.380000000000006,
          127.87
         ],
         "xaxis": "x",
         "y": [
          0.08333333333333333,
          0.3670520231213873,
          0.3670520231213873,
          0.3670520231213873,
          0.3670520231213873,
          0.3670520231213873,
          0.3670520231213873,
          0.07692307692307693,
          0.1111111111111111,
          1
         ],
         "yaxis": "y"
        },
        {
         "hoverinfo": "none",
         "line": {
          "color": "rgba(98,168,210,0.5)",
          "width": 0.5
         },
         "mode": "lines",
         "type": "scatter",
         "x": [
          1.32,
          4.41,
          4.982222222222223,
          5.51,
          5.864444444444445,
          6.587777777777777,
          7.7533333333333285,
          10.58,
          20.380000000000006,
          127.87
         ],
         "xaxis": "x",
         "y": [
          0.3333333333333333,
          0.7391304347826086,
          0.7391304347826086,
          0.7391304347826086,
          0.59375,
          0.3108108108108108,
          0.3108108108108108,
          0.07692307692307693,
          0.1111111111111111,
          0
         ],
         "yaxis": "y"
        },
        {
         "hoverinfo": "none",
         "line": {
          "color": "rgba(80,155,203,0.5)",
          "width": 0.5
         },
         "mode": "lines",
         "type": "scatter",
         "x": [
          1.32,
          4.41,
          4.982222222222223,
          5.51,
          5.864444444444445,
          6.587777777777777,
          7.7533333333333285,
          10.58,
          20.380000000000006,
          127.87
         ],
         "xaxis": "x",
         "y": [
          0.3333333333333333,
          0.7391304347826086,
          0.7391304347826086,
          0.7391304347826086,
          0.59375,
          0.3108108108108108,
          0.3108108108108108,
          0.07692307692307693,
          0.1111111111111111,
          0
         ],
         "yaxis": "y"
        },
        {
         "hoverinfo": "none",
         "line": {
          "color": "rgba(64,144,197,0.5)",
          "width": 0.5
         },
         "mode": "lines",
         "type": "scatter",
         "x": [
          1.32,
          4.41,
          4.982222222222223,
          5.51,
          5.864444444444445,
          6.587777777777777,
          7.7533333333333285,
          10.58,
          20.380000000000006,
          127.87
         ],
         "xaxis": "x",
         "y": [
          0.08333333333333333,
          0.3670520231213873,
          0.3670520231213873,
          0.3670520231213873,
          0.3670520231213873,
          0.3670520231213873,
          0.3670520231213873,
          0,
          0.25,
          1
         ],
         "yaxis": "y"
        },
        {
         "hoverinfo": "none",
         "line": {
          "color": "rgba(49,129,189,0.5)",
          "width": 0.5
         },
         "mode": "lines",
         "type": "scatter",
         "x": [
          1.32,
          4.41,
          4.982222222222223,
          5.51,
          5.864444444444445,
          6.587777777777777,
          7.7533333333333285,
          10.58,
          20.380000000000006,
          127.87
         ],
         "xaxis": "x",
         "y": [
          0.3333333333333333,
          0.7391304347826086,
          0.7391304347826086,
          0.7391304347826086,
          0.59375,
          0.3108108108108108,
          0.3108108108108108,
          0.07692307692307693,
          0.1111111111111111,
          0
         ],
         "yaxis": "y"
        },
        {
         "hoverinfo": "none",
         "line": {
          "color": "rgba(36,116,182,0.5)",
          "width": 0.5
         },
         "mode": "lines",
         "type": "scatter",
         "x": [
          1.32,
          4.41,
          4.982222222222223,
          5.51,
          5.864444444444445,
          6.587777777777777,
          7.7533333333333285,
          10.58,
          20.380000000000006,
          127.87
         ],
         "xaxis": "x",
         "y": [
          0.08333333333333333,
          0.3670520231213873,
          0.3670520231213873,
          0.3670520231213873,
          0.3670520231213873,
          0.3670520231213873,
          0.3670520231213873,
          0.07692307692307693,
          0.1111111111111111,
          1
         ],
         "yaxis": "y"
        },
        {
         "hoverinfo": "none",
         "line": {
          "color": "rgba(193,217,237,0.5)",
          "width": 0.5
         },
         "mode": "lines",
         "type": "scatter",
         "x": [
          1.32,
          4.41,
          4.982222222222223,
          5.51,
          5.864444444444445,
          6.587777777777777,
          7.7533333333333285,
          10.58,
          20.380000000000006,
          127.87
         ],
         "xaxis": "x",
         "y": [
          0.08333333333333333,
          0.3670520231213873,
          0.3670520231213873,
          0.3670520231213873,
          0.3670520231213873,
          0.3670520231213873,
          0.3670520231213873,
          0,
          0.1111111111111111,
          1
         ],
         "yaxis": "y"
        },
        {
         "hoverinfo": "none",
         "line": {
          "color": "rgba(177,210,231,0.5)",
          "width": 0.5
         },
         "mode": "lines",
         "type": "scatter",
         "x": [
          1.32,
          4.41,
          4.982222222222223,
          5.51,
          5.864444444444445,
          6.587777777777777,
          7.7533333333333285,
          10.58,
          20.380000000000006,
          127.87
         ],
         "xaxis": "x",
         "y": [
          0.3333333333333333,
          0.7391304347826086,
          0.7391304347826086,
          0.7391304347826086,
          0.59375,
          0.3108108108108108,
          0.3108108108108108,
          0.07692307692307693,
          0.1111111111111111,
          0
         ],
         "yaxis": "y"
        },
        {
         "hoverinfo": "none",
         "line": {
          "color": "rgba(160,202,225,0.5)",
          "width": 0.5
         },
         "mode": "lines",
         "type": "scatter",
         "x": [
          1.32,
          4.41,
          4.982222222222223,
          5.51,
          5.864444444444445,
          6.587777777777777,
          7.7533333333333285,
          10.58,
          20.380000000000006,
          127.87
         ],
         "xaxis": "x",
         "y": [
          0.3333333333333333,
          0.7391304347826086,
          0.7391304347826086,
          0.7391304347826086,
          0.59375,
          0.4117647058823529,
          0.4117647058823529,
          0.07692307692307693,
          0.1111111111111111,
          0
         ],
         "yaxis": "y"
        },
        {
         "hoverinfo": "none",
         "line": {
          "color": "rgba(139,192,221,0.5)",
          "width": 0.5
         },
         "mode": "lines",
         "type": "scatter",
         "x": [
          1.32,
          4.41,
          4.982222222222223,
          5.51,
          5.864444444444445,
          6.587777777777777,
          7.7533333333333285,
          10.58,
          20.380000000000006,
          127.87
         ],
         "xaxis": "x",
         "y": [
          0.3333333333333333,
          0.7391304347826086,
          0.7391304347826086,
          0.7391304347826086,
          0.59375,
          0.3108108108108108,
          0.3108108108108108,
          0.07692307692307693,
          0.1111111111111111,
          0
         ],
         "yaxis": "y"
        },
        {
         "hoverinfo": "none",
         "line": {
          "color": "rgba(117,179,216,0.5)",
          "width": 0.5
         },
         "mode": "lines",
         "type": "scatter",
         "x": [
          1.32,
          4.41,
          4.982222222222223,
          5.51,
          5.864444444444445,
          6.587777777777777,
          7.7533333333333285,
          10.58,
          20.380000000000006,
          127.87
         ],
         "xaxis": "x",
         "y": [
          0.3333333333333333,
          0.7391304347826086,
          0.7391304347826086,
          0.7391304347826086,
          0.59375,
          0.3108108108108108,
          0.3108108108108108,
          0.07692307692307693,
          0.1111111111111111,
          0
         ],
         "yaxis": "y"
        },
        {
         "hoverinfo": "none",
         "line": {
          "color": "rgba(98,168,210,0.5)",
          "width": 0.5
         },
         "mode": "lines",
         "type": "scatter",
         "x": [
          1.32,
          4.41,
          4.982222222222223,
          5.51,
          5.864444444444445,
          6.587777777777777,
          7.7533333333333285,
          10.58,
          20.380000000000006,
          127.87
         ],
         "xaxis": "x",
         "y": [
          0.08333333333333333,
          0.3670520231213873,
          0.3670520231213873,
          0.3670520231213873,
          0.3670520231213873,
          0.3670520231213873,
          0.3670520231213873,
          0.07692307692307693,
          0.1111111111111111,
          1
         ],
         "yaxis": "y"
        },
        {
         "hoverinfo": "none",
         "line": {
          "color": "rgba(80,155,203,0.5)",
          "width": 0.5
         },
         "mode": "lines",
         "type": "scatter",
         "x": [
          1.32,
          4.41,
          4.982222222222223,
          5.51,
          5.864444444444445,
          6.587777777777777,
          7.7533333333333285,
          10.58,
          20.380000000000006,
          127.87
         ],
         "xaxis": "x",
         "y": [
          0.3333333333333333,
          0.7391304347826086,
          0.7391304347826086,
          0.7391304347826086,
          0.59375,
          0.4117647058823529,
          0.4117647058823529,
          0.07692307692307693,
          0.1111111111111111,
          0
         ],
         "yaxis": "y"
        },
        {
         "hoverinfo": "none",
         "line": {
          "color": "rgba(64,144,197,0.5)",
          "width": 0.5
         },
         "mode": "lines",
         "type": "scatter",
         "x": [
          1.32,
          4.41,
          4.982222222222223,
          5.51,
          5.864444444444445,
          6.587777777777777,
          7.7533333333333285,
          10.58,
          20.380000000000006,
          127.87
         ],
         "xaxis": "x",
         "y": [
          0.08333333333333333,
          0.3670520231213873,
          0.3670520231213873,
          0.3670520231213873,
          0.3670520231213873,
          0.3670520231213873,
          0.3670520231213873,
          0,
          0.25,
          1
         ],
         "yaxis": "y"
        },
        {
         "hoverinfo": "none",
         "line": {
          "color": "rgba(49,129,189,0.5)",
          "width": 0.5
         },
         "mode": "lines",
         "type": "scatter",
         "x": [
          1.32,
          4.41,
          4.982222222222223,
          5.51,
          5.864444444444445,
          6.587777777777777,
          7.7533333333333285,
          10.58,
          20.380000000000006,
          127.87
         ],
         "xaxis": "x",
         "y": [
          0.08333333333333333,
          0.3670520231213873,
          0.3670520231213873,
          0.3670520231213873,
          0.3670520231213873,
          0.3670520231213873,
          0.3670520231213873,
          0,
          0.1111111111111111,
          1
         ],
         "yaxis": "y"
        },
        {
         "hoverinfo": "none",
         "line": {
          "color": "rgba(36,116,182,0.5)",
          "width": 0.5
         },
         "mode": "lines",
         "type": "scatter",
         "x": [
          1.32,
          4.41,
          4.982222222222223,
          5.51,
          5.864444444444445,
          6.587777777777777,
          7.7533333333333285,
          10.58,
          20.380000000000006,
          127.87
         ],
         "xaxis": "x",
         "y": [
          0.3333333333333333,
          0.7391304347826086,
          0.7391304347826086,
          0.7391304347826086,
          0.59375,
          0.4117647058823529,
          0.4117647058823529,
          0.5,
          0.1111111111111111,
          0
         ],
         "yaxis": "y"
        },
        {
         "hoverinfo": "none",
         "line": {
          "color": "rgba(193,217,237,0.5)",
          "width": 0.5
         },
         "mode": "lines",
         "type": "scatter",
         "x": [
          1.32,
          4.41,
          4.982222222222223,
          5.51,
          5.864444444444445,
          6.587777777777777,
          7.7533333333333285,
          10.58,
          20.380000000000006,
          127.87
         ],
         "xaxis": "x",
         "y": [
          0.3333333333333333,
          0.7391304347826086,
          0.7391304347826086,
          0.7391304347826086,
          0.59375,
          0.3108108108108108,
          0.3108108108108108,
          0.07692307692307693,
          0.1111111111111111,
          0
         ],
         "yaxis": "y"
        },
        {
         "hoverinfo": "none",
         "line": {
          "color": "rgba(177,210,231,0.5)",
          "width": 0.5
         },
         "mode": "lines",
         "type": "scatter",
         "x": [
          1.32,
          4.41,
          4.982222222222223,
          5.51,
          5.864444444444445,
          6.587777777777777,
          7.7533333333333285,
          10.58,
          20.380000000000006,
          127.87
         ],
         "xaxis": "x",
         "y": [
          0.08333333333333333,
          0.3670520231213873,
          0.3670520231213873,
          0.3670520231213873,
          0.3670520231213873,
          0.3670520231213873,
          0.3670520231213873,
          0,
          0.25,
          1
         ],
         "yaxis": "y"
        },
        {
         "hoverinfo": "none",
         "line": {
          "color": "rgba(160,202,225,0.5)",
          "width": 0.5
         },
         "mode": "lines",
         "type": "scatter",
         "x": [
          1.32,
          4.41,
          4.982222222222223,
          5.51,
          5.864444444444445,
          6.587777777777777,
          7.7533333333333285,
          10.58,
          20.380000000000006,
          127.87
         ],
         "xaxis": "x",
         "y": [
          0.08333333333333333,
          0.3670520231213873,
          0.3670520231213873,
          0.3670520231213873,
          0.3670520231213873,
          0.3670520231213873,
          0.3670520231213873,
          0,
          0.1111111111111111,
          1
         ],
         "yaxis": "y"
        },
        {
         "hoverinfo": "none",
         "line": {
          "color": "rgba(139,192,221,0.5)",
          "width": 0.5
         },
         "mode": "lines",
         "type": "scatter",
         "x": [
          1.32,
          4.41,
          4.982222222222223,
          5.51,
          5.864444444444445,
          6.587777777777777,
          7.7533333333333285,
          10.58,
          20.380000000000006,
          127.87
         ],
         "xaxis": "x",
         "y": [
          0.08333333333333333,
          0.3670520231213873,
          0.3670520231213873,
          0.3670520231213873,
          0.3670520231213873,
          0.3670520231213873,
          0.3670520231213873,
          0,
          0.1111111111111111,
          1
         ],
         "yaxis": "y"
        },
        {
         "hoverinfo": "none",
         "line": {
          "color": "rgba(117,179,216,0.5)",
          "width": 0.5
         },
         "mode": "lines",
         "type": "scatter",
         "x": [
          1.32,
          4.41,
          4.982222222222223,
          5.51,
          5.864444444444445,
          6.587777777777777,
          7.7533333333333285,
          10.58,
          20.380000000000006,
          127.87
         ],
         "xaxis": "x",
         "y": [
          0.08333333333333333,
          0.3670520231213873,
          0.3670520231213873,
          0.3670520231213873,
          0.3670520231213873,
          0.3670520231213873,
          0.3670520231213873,
          0,
          0.1111111111111111,
          1
         ],
         "yaxis": "y"
        },
        {
         "hoverinfo": "none",
         "line": {
          "color": "rgba(98,168,210,0.5)",
          "width": 0.5
         },
         "mode": "lines",
         "type": "scatter",
         "x": [
          1.32,
          4.41,
          4.982222222222223,
          5.51,
          5.864444444444445,
          6.587777777777777,
          7.7533333333333285,
          10.58,
          20.380000000000006,
          127.87
         ],
         "xaxis": "x",
         "y": [
          0.3333333333333333,
          0.7391304347826086,
          0.7391304347826086,
          0.7391304347826086,
          0.59375,
          0.4117647058823529,
          0.4117647058823529,
          0.07692307692307693,
          0.1111111111111111,
          0
         ],
         "yaxis": "y"
        },
        {
         "hoverinfo": "none",
         "line": {
          "color": "rgba(80,155,203,0.5)",
          "width": 0.5
         },
         "mode": "lines",
         "type": "scatter",
         "x": [
          1.32,
          4.41,
          4.982222222222223,
          5.51,
          5.864444444444445,
          6.587777777777777,
          7.7533333333333285,
          10.58,
          20.380000000000006,
          127.87
         ],
         "xaxis": "x",
         "y": [
          0.3333333333333333,
          0.7391304347826086,
          0.7391304347826086,
          0.7391304347826086,
          0.59375,
          0.4117647058823529,
          0.4117647058823529,
          0.07692307692307693,
          0.1111111111111111,
          0
         ],
         "yaxis": "y"
        },
        {
         "hoverinfo": "none",
         "line": {
          "color": "rgba(64,144,197,0.5)",
          "width": 0.5
         },
         "mode": "lines",
         "type": "scatter",
         "x": [
          1.32,
          4.41,
          4.982222222222223,
          5.51,
          5.864444444444445,
          6.587777777777777,
          7.7533333333333285,
          10.58,
          20.380000000000006,
          127.87
         ],
         "xaxis": "x",
         "y": [
          0.08333333333333333,
          0.3670520231213873,
          0.3670520231213873,
          0.3670520231213873,
          0.3670520231213873,
          0.3670520231213873,
          0.3670520231213873,
          0,
          0.1111111111111111,
          1
         ],
         "yaxis": "y"
        },
        {
         "hoverinfo": "none",
         "line": {
          "color": "rgba(49,129,189,0.5)",
          "width": 0.5
         },
         "mode": "lines",
         "type": "scatter",
         "x": [
          1.32,
          4.41,
          4.982222222222223,
          5.51,
          5.864444444444445,
          6.587777777777777,
          7.7533333333333285,
          10.58,
          20.380000000000006,
          127.87
         ],
         "xaxis": "x",
         "y": [
          0.08333333333333333,
          0.3670520231213873,
          0.3670520231213873,
          0.3670520231213873,
          0.3670520231213873,
          0.3670520231213873,
          0.3670520231213873,
          0.07692307692307693,
          0.1111111111111111,
          1
         ],
         "yaxis": "y"
        },
        {
         "hoverinfo": "none",
         "line": {
          "color": "rgba(36,116,182,0.5)",
          "width": 0.5
         },
         "mode": "lines",
         "type": "scatter",
         "x": [
          1.32,
          4.41,
          4.982222222222223,
          5.51,
          5.864444444444445,
          6.587777777777777,
          7.7533333333333285,
          10.58,
          20.380000000000006,
          127.87
         ],
         "xaxis": "x",
         "y": [
          0.3333333333333333,
          0.7391304347826086,
          0.7391304347826086,
          0.7391304347826086,
          0.59375,
          0.4117647058823529,
          0.4117647058823529,
          0.07692307692307693,
          0.1111111111111111,
          0
         ],
         "yaxis": "y"
        },
        {
         "hoverinfo": "none",
         "line": {
          "color": "rgba(193,217,237,0.5)",
          "width": 0.5
         },
         "mode": "lines",
         "type": "scatter",
         "x": [
          1.32,
          4.41,
          4.982222222222223,
          5.51,
          5.864444444444445,
          6.587777777777777,
          7.7533333333333285,
          10.58,
          20.380000000000006,
          127.87
         ],
         "xaxis": "x",
         "y": [
          0.08333333333333333,
          0.3670520231213873,
          0.3670520231213873,
          0.3670520231213873,
          0.3670520231213873,
          0.3670520231213873,
          0.3670520231213873,
          0.07692307692307693,
          0.1111111111111111,
          1
         ],
         "yaxis": "y"
        },
        {
         "hoverinfo": "none",
         "line": {
          "color": "rgba(177,210,231,0.5)",
          "width": 0.5
         },
         "mode": "lines",
         "type": "scatter",
         "x": [
          1.32,
          4.41,
          4.982222222222223,
          5.51,
          5.864444444444445,
          6.587777777777777,
          7.7533333333333285,
          10.58,
          20.380000000000006,
          127.87
         ],
         "xaxis": "x",
         "y": [
          0.08333333333333333,
          0.3670520231213873,
          0.3670520231213873,
          0.3670520231213873,
          0.3670520231213873,
          0.3670520231213873,
          0.3670520231213873,
          0.07692307692307693,
          0.1111111111111111,
          1
         ],
         "yaxis": "y"
        },
        {
         "hoverinfo": "none",
         "line": {
          "color": "rgba(160,202,225,0.5)",
          "width": 0.5
         },
         "mode": "lines",
         "type": "scatter",
         "x": [
          1.32,
          4.41,
          4.982222222222223,
          5.51,
          5.864444444444445,
          6.587777777777777,
          7.7533333333333285,
          10.58,
          20.380000000000006,
          127.87
         ],
         "xaxis": "x",
         "y": [
          0.3333333333333333,
          0.7391304347826086,
          0.7391304347826086,
          0.7391304347826086,
          0.59375,
          0.4117647058823529,
          0.4117647058823529,
          0.07692307692307693,
          0.1111111111111111,
          0
         ],
         "yaxis": "y"
        },
        {
         "hoverinfo": "none",
         "line": {
          "color": "rgba(139,192,221,0.5)",
          "width": 0.5
         },
         "mode": "lines",
         "type": "scatter",
         "x": [
          1.32,
          4.41,
          4.982222222222223,
          5.51,
          5.864444444444445,
          6.587777777777777,
          7.7533333333333285,
          10.58,
          20.380000000000006,
          127.87
         ],
         "xaxis": "x",
         "y": [
          0.3333333333333333,
          0.7391304347826086,
          0.7391304347826086,
          0.7391304347826086,
          0.59375,
          0.3108108108108108,
          0.3108108108108108,
          0.07692307692307693,
          0.1111111111111111,
          0
         ],
         "yaxis": "y"
        },
        {
         "hoverinfo": "none",
         "line": {
          "color": "rgba(117,179,216,0.5)",
          "width": 0.5
         },
         "mode": "lines",
         "type": "scatter",
         "x": [
          1.32,
          4.41,
          4.982222222222223,
          5.51,
          5.864444444444445,
          6.587777777777777,
          7.7533333333333285,
          10.58,
          20.380000000000006,
          127.87
         ],
         "xaxis": "x",
         "y": [
          0.3333333333333333,
          0.7391304347826086,
          0.7391304347826086,
          0.7391304347826086,
          0.59375,
          0.4117647058823529,
          0.4117647058823529,
          0.07692307692307693,
          0.1111111111111111,
          0
         ],
         "yaxis": "y"
        },
        {
         "hoverinfo": "none",
         "line": {
          "color": "rgba(98,168,210,0.5)",
          "width": 0.5
         },
         "mode": "lines",
         "type": "scatter",
         "x": [
          1.32,
          4.41,
          4.982222222222223,
          5.51,
          5.864444444444445,
          6.587777777777777,
          7.7533333333333285,
          10.58,
          20.380000000000006,
          127.87
         ],
         "xaxis": "x",
         "y": [
          0.08333333333333333,
          0.3670520231213873,
          0.3670520231213873,
          0.3670520231213873,
          0.3670520231213873,
          0.3670520231213873,
          0.3670520231213873,
          0,
          0.1111111111111111,
          1
         ],
         "yaxis": "y"
        },
        {
         "hoverinfo": "none",
         "line": {
          "color": "rgba(80,155,203,0.5)",
          "width": 0.5
         },
         "mode": "lines",
         "type": "scatter",
         "x": [
          1.32,
          4.41,
          4.982222222222223,
          5.51,
          5.864444444444445,
          6.587777777777777,
          7.7533333333333285,
          10.58,
          20.380000000000006,
          127.87
         ],
         "xaxis": "x",
         "y": [
          0.3333333333333333,
          0.7391304347826086,
          0.7391304347826086,
          0.7391304347826086,
          0.59375,
          0.3108108108108108,
          0.3108108108108108,
          0.07692307692307693,
          0.1111111111111111,
          0
         ],
         "yaxis": "y"
        },
        {
         "hoverinfo": "none",
         "line": {
          "color": "rgba(64,144,197,0.5)",
          "width": 0.5
         },
         "mode": "lines",
         "type": "scatter",
         "x": [
          1.32,
          4.41,
          4.982222222222223,
          5.51,
          5.864444444444445,
          6.587777777777777,
          7.7533333333333285,
          10.58,
          20.380000000000006,
          127.87
         ],
         "xaxis": "x",
         "y": [
          0.3333333333333333,
          0.7391304347826086,
          0.7391304347826086,
          0.7391304347826086,
          0.59375,
          0.4117647058823529,
          0.4117647058823529,
          0.5,
          0.1111111111111111,
          0
         ],
         "yaxis": "y"
        },
        {
         "hoverinfo": "none",
         "line": {
          "color": "rgba(49,129,189,0.5)",
          "width": 0.5
         },
         "mode": "lines",
         "type": "scatter",
         "x": [
          1.32,
          4.41,
          4.982222222222223,
          5.51,
          5.864444444444445,
          6.587777777777777,
          7.7533333333333285,
          10.58,
          20.380000000000006,
          127.87
         ],
         "xaxis": "x",
         "y": [
          0.08333333333333333,
          0.3670520231213873,
          0.3670520231213873,
          0.3670520231213873,
          0.3670520231213873,
          0.3670520231213873,
          0.3670520231213873,
          0.07692307692307693,
          0.1111111111111111,
          1
         ],
         "yaxis": "y"
        },
        {
         "hoverinfo": "none",
         "line": {
          "color": "rgba(36,116,182,0.5)",
          "width": 0.5
         },
         "mode": "lines",
         "type": "scatter",
         "x": [
          1.32,
          4.41,
          4.982222222222223,
          5.51,
          5.864444444444445,
          6.587777777777777,
          7.7533333333333285,
          10.58,
          20.380000000000006,
          127.87
         ],
         "xaxis": "x",
         "y": [
          0.3333333333333333,
          0.7391304347826086,
          0.7391304347826086,
          0.7391304347826086,
          0.59375,
          0.3108108108108108,
          0.3108108108108108,
          0.07692307692307693,
          0.1111111111111111,
          0
         ],
         "yaxis": "y"
        },
        {
         "hoverinfo": "none",
         "line": {
          "color": "rgba(193,217,237,0.5)",
          "width": 0.5
         },
         "mode": "lines",
         "type": "scatter",
         "x": [
          1.32,
          4.41,
          4.982222222222223,
          5.51,
          5.864444444444445,
          6.587777777777777,
          7.7533333333333285,
          10.58,
          20.380000000000006,
          127.87
         ],
         "xaxis": "x",
         "y": [
          0.3333333333333333,
          0.7391304347826086,
          0.7391304347826086,
          0.7391304347826086,
          0.59375,
          0.4117647058823529,
          0.4117647058823529,
          0.5,
          0.1111111111111111,
          0
         ],
         "yaxis": "y"
        },
        {
         "hoverinfo": "none",
         "line": {
          "color": "rgba(177,210,231,0.5)",
          "width": 0.5
         },
         "mode": "lines",
         "type": "scatter",
         "x": [
          1.32,
          4.41,
          4.982222222222223,
          5.51,
          5.864444444444445,
          6.587777777777777,
          7.7533333333333285,
          10.58,
          20.380000000000006,
          127.87
         ],
         "xaxis": "x",
         "y": [
          0.3333333333333333,
          0.7391304347826086,
          0.7391304347826086,
          0.7391304347826086,
          0.59375,
          0.3108108108108108,
          0.3108108108108108,
          0.07692307692307693,
          0.1111111111111111,
          0
         ],
         "yaxis": "y"
        },
        {
         "hoverinfo": "none",
         "line": {
          "color": "rgba(160,202,225,0.5)",
          "width": 0.5
         },
         "mode": "lines",
         "type": "scatter",
         "x": [
          1.32,
          4.41,
          4.982222222222223,
          5.51,
          5.864444444444445,
          6.587777777777777,
          7.7533333333333285,
          10.58,
          20.380000000000006,
          127.87
         ],
         "xaxis": "x",
         "y": [
          0.3333333333333333,
          0.7391304347826086,
          0.7391304347826086,
          0.7391304347826086,
          0.59375,
          0.4117647058823529,
          0.4117647058823529,
          0.07692307692307693,
          0.1111111111111111,
          0
         ],
         "yaxis": "y"
        },
        {
         "hoverinfo": "none",
         "line": {
          "color": "rgba(139,192,221,0.5)",
          "width": 0.5
         },
         "mode": "lines",
         "type": "scatter",
         "x": [
          1.32,
          4.41,
          4.982222222222223,
          5.51,
          5.864444444444445,
          6.587777777777777,
          7.7533333333333285,
          10.58,
          20.380000000000006,
          127.87
         ],
         "xaxis": "x",
         "y": [
          0.08333333333333333,
          0.3670520231213873,
          0.3670520231213873,
          0.3670520231213873,
          0.3670520231213873,
          0.3670520231213873,
          0.3670520231213873,
          0,
          0.25,
          1
         ],
         "yaxis": "y"
        },
        {
         "hoverinfo": "none",
         "line": {
          "color": "rgba(117,179,216,0.5)",
          "width": 0.5
         },
         "mode": "lines",
         "type": "scatter",
         "x": [
          1.32,
          4.41,
          4.982222222222223,
          5.51,
          5.864444444444445,
          6.587777777777777,
          7.7533333333333285,
          10.58,
          20.380000000000006,
          127.87
         ],
         "xaxis": "x",
         "y": [
          0.08333333333333333,
          0.3670520231213873,
          0.3670520231213873,
          0.3670520231213873,
          0.3670520231213873,
          0.3670520231213873,
          0.3670520231213873,
          0,
          0.25,
          1
         ],
         "yaxis": "y"
        },
        {
         "hoverinfo": "none",
         "line": {
          "color": "rgba(98,168,210,0.5)",
          "width": 0.5
         },
         "mode": "lines",
         "type": "scatter",
         "x": [
          1.32,
          4.41,
          4.982222222222223,
          5.51,
          5.864444444444445,
          6.587777777777777,
          7.7533333333333285,
          10.58,
          20.380000000000006,
          127.87
         ],
         "xaxis": "x",
         "y": [
          0.08333333333333333,
          0.3670520231213873,
          0.3670520231213873,
          0.3670520231213873,
          0.3670520231213873,
          0.3670520231213873,
          0.3670520231213873,
          0,
          0.25,
          1
         ],
         "yaxis": "y"
        },
        {
         "hoverinfo": "none",
         "line": {
          "color": "rgba(80,155,203,0.5)",
          "width": 0.5
         },
         "mode": "lines",
         "type": "scatter",
         "x": [
          1.32,
          4.41,
          4.982222222222223,
          5.51,
          5.864444444444445,
          6.587777777777777,
          7.7533333333333285,
          10.58,
          20.380000000000006,
          127.87
         ],
         "xaxis": "x",
         "y": [
          0.08333333333333333,
          0.3670520231213873,
          0.3670520231213873,
          0.3670520231213873,
          0.3670520231213873,
          0.3670520231213873,
          0.3670520231213873,
          0,
          0.1111111111111111,
          1
         ],
         "yaxis": "y"
        },
        {
         "hoverinfo": "none",
         "line": {
          "color": "rgba(64,144,197,0.5)",
          "width": 0.5
         },
         "mode": "lines",
         "type": "scatter",
         "x": [
          1.32,
          4.41,
          4.982222222222223,
          5.51,
          5.864444444444445,
          6.587777777777777,
          7.7533333333333285,
          10.58,
          20.380000000000006,
          127.87
         ],
         "xaxis": "x",
         "y": [
          0.3333333333333333,
          0.7391304347826086,
          0.7391304347826086,
          0.7391304347826086,
          0.59375,
          0.4117647058823529,
          0.4117647058823529,
          0.07692307692307693,
          0.1111111111111111,
          0
         ],
         "yaxis": "y"
        },
        {
         "hoverinfo": "none",
         "line": {
          "color": "rgba(49,129,189,0.5)",
          "width": 0.5
         },
         "mode": "lines",
         "type": "scatter",
         "x": [
          1.32,
          4.41,
          4.982222222222223,
          5.51,
          5.864444444444445,
          6.587777777777777,
          7.7533333333333285,
          10.58,
          20.380000000000006,
          127.87
         ],
         "xaxis": "x",
         "y": [
          0.3333333333333333,
          0.7391304347826086,
          0.7391304347826086,
          0.7391304347826086,
          0.59375,
          0.3108108108108108,
          0.3108108108108108,
          0.07692307692307693,
          0.1111111111111111,
          0
         ],
         "yaxis": "y"
        },
        {
         "hoverinfo": "none",
         "line": {
          "color": "rgba(36,116,182,0.5)",
          "width": 0.5
         },
         "mode": "lines",
         "type": "scatter",
         "x": [
          1.32,
          4.41,
          4.982222222222223,
          5.51,
          5.864444444444445,
          6.587777777777777,
          7.7533333333333285,
          10.58,
          20.380000000000006,
          127.87
         ],
         "xaxis": "x",
         "y": [
          0.3333333333333333,
          0.7391304347826086,
          0.7391304347826086,
          0.7391304347826086,
          0.59375,
          0.3108108108108108,
          0.3108108108108108,
          0.07692307692307693,
          0.1111111111111111,
          0
         ],
         "yaxis": "y"
        },
        {
         "hoverinfo": "none",
         "line": {
          "color": "rgba(193,217,237,0.5)",
          "width": 0.5
         },
         "mode": "lines",
         "type": "scatter",
         "x": [
          1.32,
          4.41,
          4.982222222222223,
          5.51,
          5.864444444444445,
          6.587777777777777,
          7.7533333333333285,
          10.58,
          20.380000000000006,
          127.87
         ],
         "xaxis": "x",
         "y": [
          0.08333333333333333,
          0.3670520231213873,
          0.3670520231213873,
          0.3670520231213873,
          0.3670520231213873,
          0.3670520231213873,
          0.3670520231213873,
          0,
          0.1111111111111111,
          1
         ],
         "yaxis": "y"
        },
        {
         "hoverinfo": "none",
         "line": {
          "color": "rgba(177,210,231,0.5)",
          "width": 0.5
         },
         "mode": "lines",
         "type": "scatter",
         "x": [
          1.32,
          4.41,
          4.982222222222223,
          5.51,
          5.864444444444445,
          6.587777777777777,
          7.7533333333333285,
          10.58,
          20.380000000000006,
          127.87
         ],
         "xaxis": "x",
         "y": [
          0.3333333333333333,
          0.7391304347826086,
          0.7391304347826086,
          0.7391304347826086,
          0.59375,
          0.4117647058823529,
          0.4117647058823529,
          0.5,
          0.1111111111111111,
          0
         ],
         "yaxis": "y"
        },
        {
         "hoverinfo": "none",
         "line": {
          "color": "rgba(160,202,225,0.5)",
          "width": 0.5
         },
         "mode": "lines",
         "type": "scatter",
         "x": [
          1.32,
          4.41,
          4.982222222222223,
          5.51,
          5.864444444444445,
          6.587777777777777,
          7.7533333333333285,
          10.58,
          20.380000000000006,
          127.87
         ],
         "xaxis": "x",
         "y": [
          0.08333333333333333,
          0.3670520231213873,
          0.3670520231213873,
          0.3670520231213873,
          0.3670520231213873,
          0.3670520231213873,
          0.3670520231213873,
          0.07692307692307693,
          0.1111111111111111,
          1
         ],
         "yaxis": "y"
        },
        {
         "hoverinfo": "none",
         "line": {
          "color": "rgba(139,192,221,0.5)",
          "width": 0.5
         },
         "mode": "lines",
         "type": "scatter",
         "x": [
          1.32,
          4.41,
          4.982222222222223,
          5.51,
          5.864444444444445,
          6.587777777777777,
          7.7533333333333285,
          10.58,
          20.380000000000006,
          127.87
         ],
         "xaxis": "x",
         "y": [
          0.08333333333333333,
          0.3670520231213873,
          0.3670520231213873,
          0.3670520231213873,
          0.3670520231213873,
          0.3670520231213873,
          0.3670520231213873,
          0,
          0.1111111111111111,
          1
         ],
         "yaxis": "y"
        },
        {
         "hoverinfo": "none",
         "line": {
          "color": "rgba(117,179,216,0.5)",
          "width": 0.5
         },
         "mode": "lines",
         "type": "scatter",
         "x": [
          1.32,
          4.41,
          4.982222222222223,
          5.51,
          5.864444444444445,
          6.587777777777777,
          7.7533333333333285,
          10.58,
          20.380000000000006,
          127.87
         ],
         "xaxis": "x",
         "y": [
          0.3333333333333333,
          0.7391304347826086,
          0.7391304347826086,
          0.7391304347826086,
          0.59375,
          0.4117647058823529,
          0.4117647058823529,
          0.07692307692307693,
          0.1111111111111111,
          0
         ],
         "yaxis": "y"
        },
        {
         "hoverinfo": "none",
         "line": {
          "color": "rgba(98,168,210,0.5)",
          "width": 0.5
         },
         "mode": "lines",
         "type": "scatter",
         "x": [
          1.32,
          4.41,
          4.982222222222223,
          5.51,
          5.864444444444445,
          6.587777777777777,
          7.7533333333333285,
          10.58,
          20.380000000000006,
          127.87
         ],
         "xaxis": "x",
         "y": [
          0.08333333333333333,
          0.3670520231213873,
          0.3670520231213873,
          0.3670520231213873,
          0.3670520231213873,
          0.3670520231213873,
          0.3670520231213873,
          0.07692307692307693,
          0.1111111111111111,
          1
         ],
         "yaxis": "y"
        },
        {
         "hoverinfo": "none",
         "line": {
          "color": "rgba(80,155,203,0.5)",
          "width": 0.5
         },
         "mode": "lines",
         "type": "scatter",
         "x": [
          1.32,
          4.41,
          4.982222222222223,
          5.51,
          5.864444444444445,
          6.587777777777777,
          7.7533333333333285,
          10.58,
          20.380000000000006,
          127.87
         ],
         "xaxis": "x",
         "y": [
          0.08333333333333333,
          0.3670520231213873,
          0.3670520231213873,
          0.3670520231213873,
          0.3670520231213873,
          0.3670520231213873,
          0.3670520231213873,
          0.07692307692307693,
          0.1111111111111111,
          1
         ],
         "yaxis": "y"
        },
        {
         "hoverinfo": "none",
         "line": {
          "color": "rgba(64,144,197,0.5)",
          "width": 0.5
         },
         "mode": "lines",
         "type": "scatter",
         "x": [
          1.32,
          4.41,
          4.982222222222223,
          5.51,
          5.864444444444445,
          6.587777777777777,
          7.7533333333333285,
          10.58,
          20.380000000000006,
          127.87
         ],
         "xaxis": "x",
         "y": [
          0.3333333333333333,
          0.7391304347826086,
          0.7391304347826086,
          0.7391304347826086,
          0.59375,
          0.3108108108108108,
          0.3108108108108108,
          0.07692307692307693,
          0.1111111111111111,
          0
         ],
         "yaxis": "y"
        },
        {
         "hoverinfo": "none",
         "line": {
          "color": "rgba(49,129,189,0.5)",
          "width": 0.5
         },
         "mode": "lines",
         "type": "scatter",
         "x": [
          1.32,
          4.41,
          4.982222222222223,
          5.51,
          5.864444444444445,
          6.587777777777777,
          7.7533333333333285,
          10.58,
          20.380000000000006,
          127.87
         ],
         "xaxis": "x",
         "y": [
          0.08333333333333333,
          0.3670520231213873,
          0.3670520231213873,
          0.3670520231213873,
          0.3670520231213873,
          0.3670520231213873,
          0.3670520231213873,
          0.07692307692307693,
          0.1111111111111111,
          1
         ],
         "yaxis": "y"
        },
        {
         "hoverinfo": "none",
         "line": {
          "color": "rgba(36,116,182,0.5)",
          "width": 0.5
         },
         "mode": "lines",
         "type": "scatter",
         "x": [
          1.32,
          4.41,
          4.982222222222223,
          5.51,
          5.864444444444445,
          6.587777777777777,
          7.7533333333333285,
          10.58,
          20.380000000000006,
          127.87
         ],
         "xaxis": "x",
         "y": [
          0.3333333333333333,
          0.7391304347826086,
          0.7391304347826086,
          0.7391304347826086,
          0.59375,
          0.4117647058823529,
          0.4117647058823529,
          0.07692307692307693,
          0.1111111111111111,
          0
         ],
         "yaxis": "y"
        },
        {
         "hoverinfo": "none",
         "line": {
          "color": "rgba(193,217,237,0.5)",
          "width": 0.5
         },
         "mode": "lines",
         "type": "scatter",
         "x": [
          1.32,
          4.41,
          4.982222222222223,
          5.51,
          5.864444444444445,
          6.587777777777777,
          7.7533333333333285,
          10.58,
          20.380000000000006,
          127.87
         ],
         "xaxis": "x",
         "y": [
          0.3333333333333333,
          0.7391304347826086,
          0.7391304347826086,
          0.7391304347826086,
          0.59375,
          0.4117647058823529,
          0.4117647058823529,
          0.5,
          0.1111111111111111,
          0
         ],
         "yaxis": "y"
        },
        {
         "hoverinfo": "none",
         "line": {
          "color": "rgba(177,210,231,0.5)",
          "width": 0.5
         },
         "mode": "lines",
         "type": "scatter",
         "x": [
          1.32,
          4.41,
          4.982222222222223,
          5.51,
          5.864444444444445,
          6.587777777777777,
          7.7533333333333285,
          10.58,
          20.380000000000006,
          127.87
         ],
         "xaxis": "x",
         "y": [
          0.08333333333333333,
          0.3670520231213873,
          0.3670520231213873,
          0.3670520231213873,
          0.3670520231213873,
          0.3670520231213873,
          0.3670520231213873,
          0,
          0.25,
          1
         ],
         "yaxis": "y"
        },
        {
         "hoverinfo": "none",
         "line": {
          "color": "rgba(160,202,225,0.5)",
          "width": 0.5
         },
         "mode": "lines",
         "type": "scatter",
         "x": [
          1.32,
          4.41,
          4.982222222222223,
          5.51,
          5.864444444444445,
          6.587777777777777,
          7.7533333333333285,
          10.58,
          20.380000000000006,
          127.87
         ],
         "xaxis": "x",
         "y": [
          0.3333333333333333,
          0.7391304347826086,
          0.7391304347826086,
          0.7391304347826086,
          0.59375,
          0.3108108108108108,
          0.3108108108108108,
          0.07692307692307693,
          0.1111111111111111,
          0
         ],
         "yaxis": "y"
        },
        {
         "hoverinfo": "none",
         "line": {
          "color": "rgba(139,192,221,0.5)",
          "width": 0.5
         },
         "mode": "lines",
         "type": "scatter",
         "x": [
          1.32,
          4.41,
          4.982222222222223,
          5.51,
          5.864444444444445,
          6.587777777777777,
          7.7533333333333285,
          10.58,
          20.380000000000006,
          127.87
         ],
         "xaxis": "x",
         "y": [
          0.08333333333333333,
          0.3670520231213873,
          0.3670520231213873,
          0.3670520231213873,
          0.3670520231213873,
          0.3670520231213873,
          0.3670520231213873,
          0.07692307692307693,
          0.1111111111111111,
          1
         ],
         "yaxis": "y"
        },
        {
         "hoverinfo": "none",
         "line": {
          "color": "rgba(117,179,216,0.5)",
          "width": 0.5
         },
         "mode": "lines",
         "type": "scatter",
         "x": [
          1.32,
          4.41,
          4.982222222222223,
          5.51,
          5.864444444444445,
          6.587777777777777,
          7.7533333333333285,
          10.58,
          20.380000000000006,
          127.87
         ],
         "xaxis": "x",
         "y": [
          0.3333333333333333,
          0.7391304347826086,
          0.7391304347826086,
          0.7391304347826086,
          0.59375,
          0.3108108108108108,
          0.3108108108108108,
          0.07692307692307693,
          0.1111111111111111,
          0
         ],
         "yaxis": "y"
        },
        {
         "hoverinfo": "none",
         "line": {
          "color": "rgba(98,168,210,0.5)",
          "width": 0.5
         },
         "mode": "lines",
         "type": "scatter",
         "x": [
          1.32,
          4.41,
          4.982222222222223,
          5.51,
          5.864444444444445,
          6.587777777777777,
          7.7533333333333285,
          10.58,
          20.380000000000006,
          127.87
         ],
         "xaxis": "x",
         "y": [
          0.08333333333333333,
          0.3670520231213873,
          0.3670520231213873,
          0.3670520231213873,
          0.3670520231213873,
          0.3670520231213873,
          0.3670520231213873,
          0.07692307692307693,
          0.1111111111111111,
          1
         ],
         "yaxis": "y"
        },
        {
         "hoverinfo": "none",
         "line": {
          "color": "rgba(80,155,203,0.5)",
          "width": 0.5
         },
         "mode": "lines",
         "type": "scatter",
         "x": [
          1.32,
          4.41,
          4.982222222222223,
          5.51,
          5.864444444444445,
          6.587777777777777,
          7.7533333333333285,
          10.58,
          20.380000000000006,
          127.87
         ],
         "xaxis": "x",
         "y": [
          0.3333333333333333,
          0.7391304347826086,
          0.7391304347826086,
          0.7391304347826086,
          0.59375,
          0.3108108108108108,
          0.3108108108108108,
          0.07692307692307693,
          0.1111111111111111,
          0
         ],
         "yaxis": "y"
        },
        {
         "hoverinfo": "none",
         "line": {
          "color": "rgba(64,144,197,0.5)",
          "width": 0.5
         },
         "mode": "lines",
         "type": "scatter",
         "x": [
          1.32,
          4.41,
          4.982222222222223,
          5.51,
          5.864444444444445,
          6.587777777777777,
          7.7533333333333285,
          10.58,
          20.380000000000006,
          127.87
         ],
         "xaxis": "x",
         "y": [
          0.3333333333333333,
          0.7391304347826086,
          0.7391304347826086,
          0.7391304347826086,
          0.59375,
          0.4117647058823529,
          0.4117647058823529,
          0.07692307692307693,
          0.1111111111111111,
          0
         ],
         "yaxis": "y"
        },
        {
         "hoverinfo": "none",
         "line": {
          "color": "rgba(49,129,189,0.5)",
          "width": 0.5
         },
         "mode": "lines",
         "type": "scatter",
         "x": [
          1.32,
          4.41,
          4.982222222222223,
          5.51,
          5.864444444444445,
          6.587777777777777,
          7.7533333333333285,
          10.58,
          20.380000000000006,
          127.87
         ],
         "xaxis": "x",
         "y": [
          0.3333333333333333,
          0.7391304347826086,
          0.7391304347826086,
          0.7391304347826086,
          0.59375,
          0.4117647058823529,
          0.4117647058823529,
          0.07692307692307693,
          0.1111111111111111,
          0
         ],
         "yaxis": "y"
        },
        {
         "hoverinfo": "none",
         "line": {
          "color": "rgba(36,116,182,0.5)",
          "width": 0.5
         },
         "mode": "lines",
         "type": "scatter",
         "x": [
          1.32,
          4.41,
          4.982222222222223,
          5.51,
          5.864444444444445,
          6.587777777777777,
          7.7533333333333285,
          10.58,
          20.380000000000006,
          127.87
         ],
         "xaxis": "x",
         "y": [
          0.08333333333333333,
          0.3670520231213873,
          0.3670520231213873,
          0.3670520231213873,
          0.3670520231213873,
          0.3670520231213873,
          0.3670520231213873,
          0.07692307692307693,
          0.1111111111111111,
          1
         ],
         "yaxis": "y"
        },
        {
         "hoverinfo": "none",
         "line": {
          "color": "rgba(193,217,237,0.5)",
          "width": 0.5
         },
         "mode": "lines",
         "type": "scatter",
         "x": [
          1.32,
          4.41,
          4.982222222222223,
          5.51,
          5.864444444444445,
          6.587777777777777,
          7.7533333333333285,
          10.58,
          20.380000000000006,
          127.87
         ],
         "xaxis": "x",
         "y": [
          0.3333333333333333,
          0.7391304347826086,
          0.7391304347826086,
          0.7391304347826086,
          0.59375,
          0.3108108108108108,
          0.3108108108108108,
          0.07692307692307693,
          0.1111111111111111,
          0
         ],
         "yaxis": "y"
        },
        {
         "hoverinfo": "none",
         "line": {
          "color": "rgba(177,210,231,0.5)",
          "width": 0.5
         },
         "mode": "lines",
         "type": "scatter",
         "x": [
          1.32,
          4.41,
          4.982222222222223,
          5.51,
          5.864444444444445,
          6.587777777777777,
          7.7533333333333285,
          10.58,
          20.380000000000006,
          127.87
         ],
         "xaxis": "x",
         "y": [
          0.08333333333333333,
          0.3670520231213873,
          0.3670520231213873,
          0.3670520231213873,
          0.3670520231213873,
          0.3670520231213873,
          0.3670520231213873,
          0.07692307692307693,
          0.1111111111111111,
          1
         ],
         "yaxis": "y"
        },
        {
         "hoverinfo": "none",
         "line": {
          "color": "rgba(160,202,225,0.5)",
          "width": 0.5
         },
         "mode": "lines",
         "type": "scatter",
         "x": [
          1.32,
          4.41,
          4.982222222222223,
          5.51,
          5.864444444444445,
          6.587777777777777,
          7.7533333333333285,
          10.58,
          20.380000000000006,
          127.87
         ],
         "xaxis": "x",
         "y": [
          0.3333333333333333,
          0.7391304347826086,
          0.7391304347826086,
          0.7391304347826086,
          0.59375,
          0.4117647058823529,
          0.4117647058823529,
          0.5,
          0.1111111111111111,
          0
         ],
         "yaxis": "y"
        },
        {
         "hoverinfo": "none",
         "line": {
          "color": "rgba(139,192,221,0.5)",
          "width": 0.5
         },
         "mode": "lines",
         "type": "scatter",
         "x": [
          1.32,
          4.41,
          4.982222222222223,
          5.51,
          5.864444444444445,
          6.587777777777777,
          7.7533333333333285,
          10.58,
          20.380000000000006,
          127.87
         ],
         "xaxis": "x",
         "y": [
          0.08333333333333333,
          0.3670520231213873,
          0.3670520231213873,
          0.3670520231213873,
          0.3670520231213873,
          0.3670520231213873,
          0.3670520231213873,
          0,
          0.25,
          1
         ],
         "yaxis": "y"
        },
        {
         "hoverinfo": "none",
         "line": {
          "color": "rgba(117,179,216,0.5)",
          "width": 0.5
         },
         "mode": "lines",
         "type": "scatter",
         "x": [
          1.32,
          4.41,
          4.982222222222223,
          5.51,
          5.864444444444445,
          6.587777777777777,
          7.7533333333333285,
          10.58,
          20.380000000000006,
          127.87
         ],
         "xaxis": "x",
         "y": [
          0.3333333333333333,
          0.7391304347826086,
          0.7391304347826086,
          0.7391304347826086,
          0.59375,
          0.4117647058823529,
          0.4117647058823529,
          0.5,
          0.1111111111111111,
          0
         ],
         "yaxis": "y"
        },
        {
         "hoverinfo": "none",
         "line": {
          "color": "rgba(98,168,210,0.5)",
          "width": 0.5
         },
         "mode": "lines",
         "type": "scatter",
         "x": [
          1.32,
          4.41,
          4.982222222222223,
          5.51,
          5.864444444444445,
          6.587777777777777,
          7.7533333333333285,
          10.58,
          20.380000000000006,
          127.87
         ],
         "xaxis": "x",
         "y": [
          0.08333333333333333,
          0.3670520231213873,
          0.3670520231213873,
          0.3670520231213873,
          0.3670520231213873,
          0.3670520231213873,
          0.3670520231213873,
          0,
          0.1111111111111111,
          1
         ],
         "yaxis": "y"
        },
        {
         "hoverinfo": "none",
         "line": {
          "color": "rgba(80,155,203,0.5)",
          "width": 0.5
         },
         "mode": "lines",
         "type": "scatter",
         "x": [
          1.32,
          4.41,
          4.982222222222223,
          5.51,
          5.864444444444445,
          6.587777777777777,
          7.7533333333333285,
          10.58,
          20.380000000000006,
          127.87
         ],
         "xaxis": "x",
         "y": [
          0.3333333333333333,
          0.7391304347826086,
          0.7391304347826086,
          0.7391304347826086,
          0.59375,
          0.3108108108108108,
          0.3108108108108108,
          0.07692307692307693,
          0.1111111111111111,
          0
         ],
         "yaxis": "y"
        },
        {
         "hoverinfo": "none",
         "line": {
          "color": "rgba(64,144,197,0.5)",
          "width": 0.5
         },
         "mode": "lines",
         "type": "scatter",
         "x": [
          1.32,
          4.41,
          4.982222222222223,
          5.51,
          5.864444444444445,
          6.587777777777777,
          7.7533333333333285,
          10.58,
          20.380000000000006,
          127.87
         ],
         "xaxis": "x",
         "y": [
          0.3333333333333333,
          0.7391304347826086,
          0.7391304347826086,
          0.7391304347826086,
          0.59375,
          0.3108108108108108,
          0.3108108108108108,
          0.07692307692307693,
          0.1111111111111111,
          0
         ],
         "yaxis": "y"
        },
        {
         "hoverinfo": "none",
         "line": {
          "color": "rgba(49,129,189,0.5)",
          "width": 0.5
         },
         "mode": "lines",
         "type": "scatter",
         "x": [
          1.32,
          4.41,
          4.982222222222223,
          5.51,
          5.864444444444445,
          6.587777777777777,
          7.7533333333333285,
          10.58,
          20.380000000000006,
          127.87
         ],
         "xaxis": "x",
         "y": [
          0.3333333333333333,
          0.7391304347826086,
          0.7391304347826086,
          0.7391304347826086,
          0.59375,
          0.4117647058823529,
          0.4117647058823529,
          0.07692307692307693,
          0.1111111111111111,
          0
         ],
         "yaxis": "y"
        },
        {
         "hoverinfo": "none",
         "line": {
          "color": "rgba(36,116,182,0.5)",
          "width": 0.5
         },
         "mode": "lines",
         "type": "scatter",
         "x": [
          1.32,
          4.41,
          4.982222222222223,
          5.51,
          5.864444444444445,
          6.587777777777777,
          7.7533333333333285,
          10.58,
          20.380000000000006,
          127.87
         ],
         "xaxis": "x",
         "y": [
          0.08333333333333333,
          0.3670520231213873,
          0.3670520231213873,
          0.3670520231213873,
          0.3670520231213873,
          0.3670520231213873,
          0.3670520231213873,
          0.07692307692307693,
          0.1111111111111111,
          1
         ],
         "yaxis": "y"
        },
        {
         "hoverinfo": "none",
         "line": {
          "color": "#FEDC00",
          "width": 4.5
         },
         "mode": "lines",
         "type": "scatter",
         "x": [
          1.32,
          4.41,
          4.982222222222223,
          5.51,
          5.864444444444445,
          6.587777777777777,
          7.7533333333333285,
          10.58,
          20.380000000000006,
          127.87
         ],
         "xaxis": "x",
         "y": [
          0.2051282051282051,
          0.5483209929050593,
          0.5483209929050593,
          0.5483209929050593,
          0.4774946272417371,
          0.3590666687402492,
          0.3590666687402492,
          0.08271696252465482,
          0.12491096866096868,
          0.5128205128205128
         ],
         "yaxis": "y"
        },
        {
         "hoverinfo": "none",
         "line": {
          "color": "#E75438",
          "dash": "dash",
          "width": 1.5
         },
         "mode": "lines",
         "type": "scatter",
         "x": [
          1.32,
          4.41,
          4.982222222222223,
          5.51,
          5.864444444444445,
          6.587777777777777,
          7.7533333333333285,
          10.58,
          20.380000000000006,
          127.87
         ],
         "xaxis": "x",
         "y": [
          0,
          0,
          0,
          0,
          0,
          0,
          0,
          0,
          0,
          0
         ],
         "yaxis": "y"
        },
        {
         "hovertemplate": "%{y}",
         "line": {
          "color": "rgba(8,48,107,1.0)",
          "width": 1.5
         },
         "marker": {
          "color": "rgba(8,48,107,1.0)",
          "size": 5
         },
         "mode": "lines+markers",
         "name": "pdp",
         "type": "scatter",
         "x": [
          1.32,
          4.41,
          4.982222222222223,
          5.51,
          5.864444444444445,
          6.587777777777777,
          7.7533333333333285,
          10.58,
          20.380000000000006,
          127.87
         ],
         "xaxis": "x",
         "y": [
          0.2051282051282051,
          0.5483209929050593,
          0.5483209929050593,
          0.5483209929050593,
          0.4774946272417371,
          0.3590666687402492,
          0.3590666687402492,
          0.08271696252465482,
          0.12491096866096868,
          0.5128205128205128
         ],
         "yaxis": "y"
        },
        {
         "hoverinfo": "none",
         "mode": "text",
         "name": "dist",
         "showlegend": false,
         "text": [
          "|",
          "|",
          "|",
          "|",
          "|",
          "|",
          "|",
          "|",
          "|",
          "|",
          "|",
          "|",
          "|",
          "|",
          "|",
          "|",
          "|",
          "|",
          "|",
          "|",
          "|",
          "|",
          "|",
          "|",
          "|",
          "|",
          "|",
          "|",
          "|",
          "|",
          "|",
          "|",
          "|",
          "|",
          "|",
          "|",
          "|",
          "|",
          "|",
          "|",
          "|",
          "|",
          "|",
          "|",
          "|",
          "|",
          "|",
          "|",
          "|",
          "|",
          "|",
          "|",
          "|",
          "|",
          "|",
          "|",
          "|",
          "|",
          "|",
          "|",
          "|",
          "|",
          "|",
          "|",
          "|",
          "|",
          "|",
          "|",
          "|",
          "|",
          "|",
          "|",
          "|",
          "|",
          "|",
          "|",
          "|",
          "|",
          "|",
          "|",
          "|",
          "|",
          "|",
          "|",
          "|",
          "|",
          "|",
          "|",
          "|",
          "|",
          "|",
          "|",
          "|",
          "|",
          "|",
          "|",
          "|",
          "|",
          "|",
          "|",
          "|",
          "|",
          "|",
          "|",
          "|",
          "|",
          "|",
          "|",
          "|",
          "|",
          "|",
          "|",
          "|",
          "|",
          "|",
          "|",
          "|",
          "|",
          "|",
          "|",
          "|",
          "|",
          "|",
          "|",
          "|",
          "|",
          "|",
          "|",
          "|",
          "|",
          "|",
          "|",
          "|",
          "|",
          "|",
          "|",
          "|",
          "|",
          "|",
          "|",
          "|",
          "|",
          "|",
          "|",
          "|",
          "|",
          "|",
          "|",
          "|",
          "|",
          "|",
          "|",
          "|",
          "|",
          "|",
          "|",
          "|",
          "|",
          "|",
          "|",
          "|",
          "|",
          "|",
          "|",
          "|",
          "|",
          "|",
          "|",
          "|",
          "|",
          "|",
          "|",
          "|",
          "|",
          "|",
          "|",
          "|",
          "|",
          "|",
          "|",
          "|",
          "|",
          "|",
          "|",
          "|",
          "|",
          "|",
          "|",
          "|",
          "|",
          "|",
          "|",
          "|",
          "|",
          "|",
          "|",
          "|",
          "|",
          "|",
          "|",
          "|",
          "|",
          "|",
          "|",
          "|",
          "|",
          "|",
          "|",
          "|",
          "|",
          "|",
          "|",
          "|",
          "|",
          "|",
          "|",
          "|",
          "|",
          "|",
          "|",
          "|",
          "|",
          "|",
          "|",
          "|",
          "|",
          "|",
          "|",
          "|",
          "|",
          "|",
          "|",
          "|",
          "|",
          "|",
          "|",
          "|",
          "|",
          "|",
          "|",
          "|",
          "|",
          "|",
          "|",
          "|",
          "|",
          "|",
          "|",
          "|",
          "|",
          "|",
          "|",
          "|",
          "|",
          "|",
          "|",
          "|",
          "|",
          "|",
          "|",
          "|",
          "|",
          "|",
          "|",
          "|",
          "|",
          "|",
          "|",
          "|",
          "|",
          "|",
          "|",
          "|",
          "|",
          "|",
          "|",
          "|",
          "|",
          "|",
          "|",
          "|",
          "|",
          "|",
          "|",
          "|",
          "|",
          "|",
          "|",
          "|",
          "|",
          "|",
          "|",
          "|",
          "|",
          "|",
          "|",
          "|",
          "|",
          "|",
          "|",
          "|",
          "|",
          "|",
          "|",
          "|",
          "|",
          "|",
          "|",
          "|",
          "|",
          "|",
          "|"
         ],
         "textfont": {
          "color": "rgba(8,48,107,1.0)",
          "size": 20
         },
         "textposition": "middle center",
         "type": "scatter",
         "x": [
          4.93,
          11.17,
          6.17,
          2.83,
          3.96,
          4.7,
          27.76,
          8.5,
          6.76,
          8.52,
          5.66,
          4.41,
          10.58,
          9.6,
          5.57,
          9.6,
          8.23,
          5.51,
          5.29,
          8.5,
          7.33,
          7.28,
          8.81,
          5.64,
          7.64,
          9.48,
          5.31,
          3.51,
          4.98,
          7.08,
          5.58,
          5.29,
          17.59,
          5.57,
          39.68,
          4.16,
          4.98,
          4.98,
          7.35,
          13.23,
          8.5,
          5.57,
          5.81,
          4.93,
          5,
          29.39,
          10.58,
          8,
          7.05,
          127.87,
          5.58,
          15.58,
          6.91,
          2.26,
          3.67,
          16.53,
          9.74,
          7.35,
          4.67,
          6.91,
          3.52,
          5.22,
          5.88,
          16.75,
          5.86,
          9.16,
          17.61,
          10.58,
          6.02,
          6.34,
          6.32,
          22.49,
          5.88,
          8.02,
          5.36,
          4.85,
          7.35,
          5.29,
          90.83,
          16.12,
          4.7,
          6.68,
          5.22,
          21.14,
          5.86,
          37.04,
          6.47,
          16.99,
          3.89,
          26.41,
          5.88,
          1.47,
          2.97,
          4.93,
          33.05,
          41.12,
          7.72,
          5.29,
          6.47,
          17.94,
          5.57,
          4.76,
          7.33,
          4.7,
          33.07,
          4.96,
          17.61,
          6.47,
          32,
          7.05,
          3.68,
          5.81,
          9.92,
          3.67,
          20.53,
          4.11,
          5.29,
          6.17,
          4.63,
          22,
          5.73,
          5.88,
          11.46,
          5.31,
          6.61,
          3.17,
          26.46,
          8.44,
          6.76,
          5.48,
          16.17,
          19.84,
          5.58,
          5.73,
          6.03,
          9.91,
          5.58,
          1.32,
          7.05,
          7.35,
          5.26,
          4.12,
          4.69,
          8.82,
          20.26,
          4.98,
          6.63,
          22,
          5.44,
          8.11,
          12.74,
          5.14,
          3.08,
          5.88,
          8.81,
          17.64,
          37.04,
          6.34,
          5.88,
          17.59,
          11.02,
          5.29,
          6.75,
          3.54,
          5,
          4.81,
          8.21,
          4.85,
          5,
          5.29,
          5.88,
          5.29,
          4.96,
          4.17,
          1.34,
          15.87,
          4.41,
          8,
          5.73,
          4.76,
          6.76,
          4.98,
          5.66,
          6.47,
          19.2,
          5.29,
          4.41,
          63.93,
          5.29,
          33.98,
          5.88,
          8.77,
          5.29,
          6.91,
          4.98,
          8.52,
          22,
          5.64,
          2.97,
          4.41,
          5.58,
          3.89,
          23.37,
          5.58,
          5.88,
          5.52,
          26.41,
          5.29,
          5.57,
          4.98,
          3.2,
          39,
          8,
          6.91,
          7.33,
          5.88,
          8.78,
          6.47,
          4.11,
          21.16,
          7.61,
          17.64,
          5.66,
          7.05,
          2.94,
          5.51,
          4.98,
          15.43,
          9.24,
          5.29,
          7.35,
          5.73,
          14.55,
          6.51,
          5.28,
          6.47,
          5.57,
          5.29,
          4.6,
          5.58,
          6.17,
          19.82,
          4.7,
          24.69,
          5.29,
          9.28,
          5.88,
          5.88,
          2.55,
          3.82,
          5.51,
          26.46,
          8.82,
          12.35,
          35.27,
          4.98,
          20.83,
          4.6,
          4.41,
          7.64,
          7.33,
          5.1,
          22.05,
          17.59,
          8.8,
          3.19,
          26.46,
          13.23,
          4.25,
          5.86,
          4.7,
          7.05,
          7.05,
          6.47,
          6.34,
          19.82,
          4.67,
          26.46,
          4.96,
          5.31,
          5.73,
          9.92,
          15.58,
          5.66,
          5.88,
          7.82,
          5.28,
          4.85,
          5.64,
          9.46,
          11.02,
          6.47,
          2.83,
          6.47,
          5.29,
          13.23,
          22.71,
          17.61,
          3.82,
          6.07,
          5.58,
          5.88,
          7.2,
          5.73,
          26.46,
          7.35,
          4.25,
          6.87,
          9.6,
          4.6,
          40.56,
          5.29
         ],
         "xaxis": "x2",
         "y": [
          1,
          1,
          1,
          1,
          1,
          1,
          1,
          1,
          1,
          1,
          1,
          1,
          1,
          1,
          1,
          1,
          1,
          1,
          1,
          1,
          1,
          1,
          1,
          1,
          1,
          1,
          1,
          1,
          1,
          1,
          1,
          1,
          1,
          1,
          1,
          1,
          1,
          1,
          1,
          1,
          1,
          1,
          1,
          1,
          1,
          1,
          1,
          1,
          1,
          1,
          1,
          1,
          1,
          1,
          1,
          1,
          1,
          1,
          1,
          1,
          1,
          1,
          1,
          1,
          1,
          1,
          1,
          1,
          1,
          1,
          1,
          1,
          1,
          1,
          1,
          1,
          1,
          1,
          1,
          1,
          1,
          1,
          1,
          1,
          1,
          1,
          1,
          1,
          1,
          1,
          1,
          1,
          1,
          1,
          1,
          1,
          1,
          1,
          1,
          1,
          1,
          1,
          1,
          1,
          1,
          1,
          1,
          1,
          1,
          1,
          1,
          1,
          1,
          1,
          1,
          1,
          1,
          1,
          1,
          1,
          1,
          1,
          1,
          1,
          1,
          1,
          1,
          1,
          1,
          1,
          1,
          1,
          1,
          1,
          1,
          1,
          1,
          1,
          1,
          1,
          1,
          1,
          1,
          1,
          1,
          1,
          1,
          1,
          1,
          1,
          1,
          1,
          1,
          1,
          1,
          1,
          1,
          1,
          1,
          1,
          1,
          1,
          1,
          1,
          1,
          1,
          1,
          1,
          1,
          1,
          1,
          1,
          1,
          1,
          1,
          1,
          1,
          1,
          1,
          1,
          1,
          1,
          1,
          1,
          1,
          1,
          1,
          1,
          1,
          1,
          1,
          1,
          1,
          1,
          1,
          1,
          1,
          1,
          1,
          1,
          1,
          1,
          1,
          1,
          1,
          1,
          1,
          1,
          1,
          1,
          1,
          1,
          1,
          1,
          1,
          1,
          1,
          1,
          1,
          1,
          1,
          1,
          1,
          1,
          1,
          1,
          1,
          1,
          1,
          1,
          1,
          1,
          1,
          1,
          1,
          1,
          1,
          1,
          1,
          1,
          1,
          1,
          1,
          1,
          1,
          1,
          1,
          1,
          1,
          1,
          1,
          1,
          1,
          1,
          1,
          1,
          1,
          1,
          1,
          1,
          1,
          1,
          1,
          1,
          1,
          1,
          1,
          1,
          1,
          1,
          1,
          1,
          1,
          1,
          1,
          1,
          1,
          1,
          1,
          1,
          1,
          1,
          1,
          1,
          1,
          1,
          1,
          1,
          1,
          1,
          1,
          1,
          1,
          1,
          1,
          1,
          1,
          1,
          1,
          1,
          1,
          1,
          1,
          1,
          1,
          1,
          1,
          1,
          1,
          1,
          1,
          1
         ],
         "yaxis": "y2"
        }
       ],
       "layout": {
        "height": 600,
        "showlegend": false,
        "template": {
         "data": {
          "bar": [
           {
            "error_x": {
             "color": "#2a3f5f"
            },
            "error_y": {
             "color": "#2a3f5f"
            },
            "marker": {
             "line": {
              "color": "white",
              "width": 0.5
             },
             "pattern": {
              "fillmode": "overlay",
              "size": 10,
              "solidity": 0.2
             }
            },
            "type": "bar"
           }
          ],
          "barpolar": [
           {
            "marker": {
             "line": {
              "color": "white",
              "width": 0.5
             },
             "pattern": {
              "fillmode": "overlay",
              "size": 10,
              "solidity": 0.2
             }
            },
            "type": "barpolar"
           }
          ],
          "carpet": [
           {
            "aaxis": {
             "endlinecolor": "#2a3f5f",
             "gridcolor": "#C8D4E3",
             "linecolor": "#C8D4E3",
             "minorgridcolor": "#C8D4E3",
             "startlinecolor": "#2a3f5f"
            },
            "baxis": {
             "endlinecolor": "#2a3f5f",
             "gridcolor": "#C8D4E3",
             "linecolor": "#C8D4E3",
             "minorgridcolor": "#C8D4E3",
             "startlinecolor": "#2a3f5f"
            },
            "type": "carpet"
           }
          ],
          "choropleth": [
           {
            "colorbar": {
             "outlinewidth": 0,
             "ticks": ""
            },
            "type": "choropleth"
           }
          ],
          "contour": [
           {
            "colorbar": {
             "outlinewidth": 0,
             "ticks": ""
            },
            "colorscale": [
             [
              0,
              "#0d0887"
             ],
             [
              0.1111111111111111,
              "#46039f"
             ],
             [
              0.2222222222222222,
              "#7201a8"
             ],
             [
              0.3333333333333333,
              "#9c179e"
             ],
             [
              0.4444444444444444,
              "#bd3786"
             ],
             [
              0.5555555555555556,
              "#d8576b"
             ],
             [
              0.6666666666666666,
              "#ed7953"
             ],
             [
              0.7777777777777778,
              "#fb9f3a"
             ],
             [
              0.8888888888888888,
              "#fdca26"
             ],
             [
              1,
              "#f0f921"
             ]
            ],
            "type": "contour"
           }
          ],
          "contourcarpet": [
           {
            "colorbar": {
             "outlinewidth": 0,
             "ticks": ""
            },
            "type": "contourcarpet"
           }
          ],
          "heatmap": [
           {
            "colorbar": {
             "outlinewidth": 0,
             "ticks": ""
            },
            "colorscale": [
             [
              0,
              "#0d0887"
             ],
             [
              0.1111111111111111,
              "#46039f"
             ],
             [
              0.2222222222222222,
              "#7201a8"
             ],
             [
              0.3333333333333333,
              "#9c179e"
             ],
             [
              0.4444444444444444,
              "#bd3786"
             ],
             [
              0.5555555555555556,
              "#d8576b"
             ],
             [
              0.6666666666666666,
              "#ed7953"
             ],
             [
              0.7777777777777778,
              "#fb9f3a"
             ],
             [
              0.8888888888888888,
              "#fdca26"
             ],
             [
              1,
              "#f0f921"
             ]
            ],
            "type": "heatmap"
           }
          ],
          "heatmapgl": [
           {
            "colorbar": {
             "outlinewidth": 0,
             "ticks": ""
            },
            "colorscale": [
             [
              0,
              "#0d0887"
             ],
             [
              0.1111111111111111,
              "#46039f"
             ],
             [
              0.2222222222222222,
              "#7201a8"
             ],
             [
              0.3333333333333333,
              "#9c179e"
             ],
             [
              0.4444444444444444,
              "#bd3786"
             ],
             [
              0.5555555555555556,
              "#d8576b"
             ],
             [
              0.6666666666666666,
              "#ed7953"
             ],
             [
              0.7777777777777778,
              "#fb9f3a"
             ],
             [
              0.8888888888888888,
              "#fdca26"
             ],
             [
              1,
              "#f0f921"
             ]
            ],
            "type": "heatmapgl"
           }
          ],
          "histogram": [
           {
            "marker": {
             "pattern": {
              "fillmode": "overlay",
              "size": 10,
              "solidity": 0.2
             }
            },
            "type": "histogram"
           }
          ],
          "histogram2d": [
           {
            "colorbar": {
             "outlinewidth": 0,
             "ticks": ""
            },
            "colorscale": [
             [
              0,
              "#0d0887"
             ],
             [
              0.1111111111111111,
              "#46039f"
             ],
             [
              0.2222222222222222,
              "#7201a8"
             ],
             [
              0.3333333333333333,
              "#9c179e"
             ],
             [
              0.4444444444444444,
              "#bd3786"
             ],
             [
              0.5555555555555556,
              "#d8576b"
             ],
             [
              0.6666666666666666,
              "#ed7953"
             ],
             [
              0.7777777777777778,
              "#fb9f3a"
             ],
             [
              0.8888888888888888,
              "#fdca26"
             ],
             [
              1,
              "#f0f921"
             ]
            ],
            "type": "histogram2d"
           }
          ],
          "histogram2dcontour": [
           {
            "colorbar": {
             "outlinewidth": 0,
             "ticks": ""
            },
            "colorscale": [
             [
              0,
              "#0d0887"
             ],
             [
              0.1111111111111111,
              "#46039f"
             ],
             [
              0.2222222222222222,
              "#7201a8"
             ],
             [
              0.3333333333333333,
              "#9c179e"
             ],
             [
              0.4444444444444444,
              "#bd3786"
             ],
             [
              0.5555555555555556,
              "#d8576b"
             ],
             [
              0.6666666666666666,
              "#ed7953"
             ],
             [
              0.7777777777777778,
              "#fb9f3a"
             ],
             [
              0.8888888888888888,
              "#fdca26"
             ],
             [
              1,
              "#f0f921"
             ]
            ],
            "type": "histogram2dcontour"
           }
          ],
          "mesh3d": [
           {
            "colorbar": {
             "outlinewidth": 0,
             "ticks": ""
            },
            "type": "mesh3d"
           }
          ],
          "parcoords": [
           {
            "line": {
             "colorbar": {
              "outlinewidth": 0,
              "ticks": ""
             }
            },
            "type": "parcoords"
           }
          ],
          "pie": [
           {
            "automargin": true,
            "type": "pie"
           }
          ],
          "scatter": [
           {
            "fillpattern": {
             "fillmode": "overlay",
             "size": 10,
             "solidity": 0.2
            },
            "type": "scatter"
           }
          ],
          "scatter3d": [
           {
            "line": {
             "colorbar": {
              "outlinewidth": 0,
              "ticks": ""
             }
            },
            "marker": {
             "colorbar": {
              "outlinewidth": 0,
              "ticks": ""
             }
            },
            "type": "scatter3d"
           }
          ],
          "scattercarpet": [
           {
            "marker": {
             "colorbar": {
              "outlinewidth": 0,
              "ticks": ""
             }
            },
            "type": "scattercarpet"
           }
          ],
          "scattergeo": [
           {
            "marker": {
             "colorbar": {
              "outlinewidth": 0,
              "ticks": ""
             }
            },
            "type": "scattergeo"
           }
          ],
          "scattergl": [
           {
            "marker": {
             "colorbar": {
              "outlinewidth": 0,
              "ticks": ""
             }
            },
            "type": "scattergl"
           }
          ],
          "scattermapbox": [
           {
            "marker": {
             "colorbar": {
              "outlinewidth": 0,
              "ticks": ""
             }
            },
            "type": "scattermapbox"
           }
          ],
          "scatterpolar": [
           {
            "marker": {
             "colorbar": {
              "outlinewidth": 0,
              "ticks": ""
             }
            },
            "type": "scatterpolar"
           }
          ],
          "scatterpolargl": [
           {
            "marker": {
             "colorbar": {
              "outlinewidth": 0,
              "ticks": ""
             }
            },
            "type": "scatterpolargl"
           }
          ],
          "scatterternary": [
           {
            "marker": {
             "colorbar": {
              "outlinewidth": 0,
              "ticks": ""
             }
            },
            "type": "scatterternary"
           }
          ],
          "surface": [
           {
            "colorbar": {
             "outlinewidth": 0,
             "ticks": ""
            },
            "colorscale": [
             [
              0,
              "#0d0887"
             ],
             [
              0.1111111111111111,
              "#46039f"
             ],
             [
              0.2222222222222222,
              "#7201a8"
             ],
             [
              0.3333333333333333,
              "#9c179e"
             ],
             [
              0.4444444444444444,
              "#bd3786"
             ],
             [
              0.5555555555555556,
              "#d8576b"
             ],
             [
              0.6666666666666666,
              "#ed7953"
             ],
             [
              0.7777777777777778,
              "#fb9f3a"
             ],
             [
              0.8888888888888888,
              "#fdca26"
             ],
             [
              1,
              "#f0f921"
             ]
            ],
            "type": "surface"
           }
          ],
          "table": [
           {
            "cells": {
             "fill": {
              "color": "#EBF0F8"
             },
             "line": {
              "color": "white"
             }
            },
            "header": {
             "fill": {
              "color": "#C8D4E3"
             },
             "line": {
              "color": "white"
             }
            },
            "type": "table"
           }
          ]
         },
         "layout": {
          "annotationdefaults": {
           "arrowcolor": "#2a3f5f",
           "arrowhead": 0,
           "arrowwidth": 1
          },
          "autotypenumbers": "strict",
          "coloraxis": {
           "colorbar": {
            "outlinewidth": 0,
            "ticks": ""
           }
          },
          "colorscale": {
           "diverging": [
            [
             0,
             "#8e0152"
            ],
            [
             0.1,
             "#c51b7d"
            ],
            [
             0.2,
             "#de77ae"
            ],
            [
             0.3,
             "#f1b6da"
            ],
            [
             0.4,
             "#fde0ef"
            ],
            [
             0.5,
             "#f7f7f7"
            ],
            [
             0.6,
             "#e6f5d0"
            ],
            [
             0.7,
             "#b8e186"
            ],
            [
             0.8,
             "#7fbc41"
            ],
            [
             0.9,
             "#4d9221"
            ],
            [
             1,
             "#276419"
            ]
           ],
           "sequential": [
            [
             0,
             "#0d0887"
            ],
            [
             0.1111111111111111,
             "#46039f"
            ],
            [
             0.2222222222222222,
             "#7201a8"
            ],
            [
             0.3333333333333333,
             "#9c179e"
            ],
            [
             0.4444444444444444,
             "#bd3786"
            ],
            [
             0.5555555555555556,
             "#d8576b"
            ],
            [
             0.6666666666666666,
             "#ed7953"
            ],
            [
             0.7777777777777778,
             "#fb9f3a"
            ],
            [
             0.8888888888888888,
             "#fdca26"
            ],
            [
             1,
             "#f0f921"
            ]
           ],
           "sequentialminus": [
            [
             0,
             "#0d0887"
            ],
            [
             0.1111111111111111,
             "#46039f"
            ],
            [
             0.2222222222222222,
             "#7201a8"
            ],
            [
             0.3333333333333333,
             "#9c179e"
            ],
            [
             0.4444444444444444,
             "#bd3786"
            ],
            [
             0.5555555555555556,
             "#d8576b"
            ],
            [
             0.6666666666666666,
             "#ed7953"
            ],
            [
             0.7777777777777778,
             "#fb9f3a"
            ],
            [
             0.8888888888888888,
             "#fdca26"
            ],
            [
             1,
             "#f0f921"
            ]
           ]
          },
          "colorway": [
           "#636efa",
           "#EF553B",
           "#00cc96",
           "#ab63fa",
           "#FFA15A",
           "#19d3f3",
           "#FF6692",
           "#B6E880",
           "#FF97FF",
           "#FECB52"
          ],
          "font": {
           "color": "#2a3f5f"
          },
          "geo": {
           "bgcolor": "white",
           "lakecolor": "white",
           "landcolor": "white",
           "showlakes": true,
           "showland": true,
           "subunitcolor": "#C8D4E3"
          },
          "hoverlabel": {
           "align": "left"
          },
          "hovermode": "closest",
          "mapbox": {
           "style": "light"
          },
          "paper_bgcolor": "white",
          "plot_bgcolor": "white",
          "polar": {
           "angularaxis": {
            "gridcolor": "#EBF0F8",
            "linecolor": "#EBF0F8",
            "ticks": ""
           },
           "bgcolor": "white",
           "radialaxis": {
            "gridcolor": "#EBF0F8",
            "linecolor": "#EBF0F8",
            "ticks": ""
           }
          },
          "scene": {
           "xaxis": {
            "backgroundcolor": "white",
            "gridcolor": "#DFE8F3",
            "gridwidth": 2,
            "linecolor": "#EBF0F8",
            "showbackground": true,
            "ticks": "",
            "zerolinecolor": "#EBF0F8"
           },
           "yaxis": {
            "backgroundcolor": "white",
            "gridcolor": "#DFE8F3",
            "gridwidth": 2,
            "linecolor": "#EBF0F8",
            "showbackground": true,
            "ticks": "",
            "zerolinecolor": "#EBF0F8"
           },
           "zaxis": {
            "backgroundcolor": "white",
            "gridcolor": "#DFE8F3",
            "gridwidth": 2,
            "linecolor": "#EBF0F8",
            "showbackground": true,
            "ticks": "",
            "zerolinecolor": "#EBF0F8"
           }
          },
          "shapedefaults": {
           "line": {
            "color": "#2a3f5f"
           }
          },
          "ternary": {
           "aaxis": {
            "gridcolor": "#DFE8F3",
            "linecolor": "#A2B1C6",
            "ticks": ""
           },
           "baxis": {
            "gridcolor": "#DFE8F3",
            "linecolor": "#A2B1C6",
            "ticks": ""
           },
           "bgcolor": "white",
           "caxis": {
            "gridcolor": "#DFE8F3",
            "linecolor": "#A2B1C6",
            "ticks": ""
           }
          },
          "title": {
           "x": 0.05
          },
          "xaxis": {
           "automargin": true,
           "gridcolor": "#EBF0F8",
           "linecolor": "#EBF0F8",
           "ticks": "",
           "title": {
            "standoff": 15
           },
           "zerolinecolor": "#EBF0F8",
           "zerolinewidth": 2
          },
          "yaxis": {
           "automargin": true,
           "gridcolor": "#EBF0F8",
           "linecolor": "#EBF0F8",
           "ticks": "",
           "title": {
            "standoff": 15
           },
           "zerolinecolor": "#EBF0F8",
           "zerolinewidth": 2
          }
         }
        },
        "title": {
         "text": "PDP for feature <b>Price per 100g</b> <br><sup>Number of unique grid points: 10</sup>",
         "x": 0,
         "xref": "paper"
        },
        "width": 1200,
        "xaxis": {
         "anchor": "y",
         "domain": [
          0,
          1
         ]
        },
        "xaxis2": {
         "anchor": "y2",
         "domain": [
          0,
          1
         ],
         "showgrid": false,
         "showticklabels": false,
         "title": {
          "text": "<b>Price per 100g</b> (value)"
         }
        },
        "yaxis": {
         "anchor": "x",
         "domain": [
          0.11266666666666669,
          0.99
         ],
         "title": {
          "text": "raw"
         }
        },
        "yaxis2": {
         "anchor": "x2",
         "domain": [
          0,
          0.06266666666666665
         ],
         "showgrid": false,
         "showticklabels": false
        }
       }
      }
     },
     "metadata": {},
     "output_type": "display_data"
    }
   ],
   "source": [
    "# Plot PDP\n",
    "# Create the pdp data to be plotted\n",
    "pdp_goals = pdp.PDPIsolate(model=tree_model, df=val_x, model_features=feature_names, feature='100g_USD', feature_name='Price per 100g')\n",
    "\n",
    "# plot the PDP for feature 'Goal Scored'\n",
    "fig, axes = pdp_goals.plot(\n",
    "    center=False,\n",
    "    plot_lines=True,\n",
    "    frac_to_plot=100,\n",
    "    cluster=False,\n",
    "    n_cluster_centers=None,\n",
    "    cluster_method='accurate',\n",
    "    plot_pts_dist=True,\n",
    "    to_bins=False,\n",
    "    show_percentile=False,\n",
    "    which_classes=None,\n",
    "    figsize=None,\n",
    "    dpi=300,\n",
    "    ncols=2,\n",
    "    plot_params={\"pdp_hl\": True},\n",
    "    engine='plotly',\n",
    "    template='plotly_white')\n",
    "\n",
    "fig.show()"
   ]
  },
  {
   "cell_type": "markdown",
   "metadata": {},
   "source": [
    "Seems like the model is not very good at predicting the country of origin based on the price. Since the data distribution is very skewed towards the lower end of the price range, the model is not able to learn much from the higher end of the price range.\n",
    "\n",
    "We try with another model to see if we can achieve better results."
   ]
  },
  {
   "cell_type": "code",
   "execution_count": 84,
   "metadata": {},
   "outputs": [],
   "source": [
    "# Build a new model: Random Forest classifier\n",
    "rf_model = RandomForestClassifier(random_state=0).fit(train_x, train_y)"
   ]
  },
  {
   "cell_type": "code",
   "execution_count": 85,
   "metadata": {},
   "outputs": [
    {
     "name": "stdout",
     "output_type": "stream",
     "text": [
      "obtain pred_func from the provided model.\n"
     ]
    },
    {
     "name": "stderr",
     "output_type": "stream",
     "text": [
      "100%|██████████| 6/6 [00:00<00:00, 225.82it/s]\n"
     ]
    },
    {
     "data": {
      "application/vnd.plotly.v1+json": {
       "config": {
        "plotlyServerURL": "https://plot.ly"
       },
       "data": [
        {
         "hoverinfo": "none",
         "line": {
          "color": "rgba(193,217,237,0.5)",
          "width": 0.5
         },
         "mode": "lines",
         "type": "scatter",
         "x": [
          84,
          92,
          93,
          94,
          95,
          97
         ],
         "xaxis": "x",
         "y": [
          0.19,
          0.1366468253968254,
          0.045935737436511435,
          0.36962734062463154,
          0.7217460317460318,
          0.697388888888889
         ],
         "yaxis": "y"
        },
        {
         "hoverinfo": "none",
         "line": {
          "color": "rgba(177,210,231,0.5)",
          "width": 0.5
         },
         "mode": "lines",
         "type": "scatter",
         "x": [
          84,
          92,
          93,
          94,
          95,
          97
         ],
         "xaxis": "x",
         "y": [
          0.34,
          0.11,
          0.7,
          0.03,
          0,
          0.33
         ],
         "yaxis": "y"
        },
        {
         "hoverinfo": "none",
         "line": {
          "color": "rgba(160,202,225,0.5)",
          "width": 0.5
         },
         "mode": "lines",
         "type": "scatter",
         "x": [
          84,
          92,
          93,
          94,
          95,
          97
         ],
         "xaxis": "x",
         "y": [
          0.24666666666666667,
          0.23080952380952371,
          0,
          0.4033072483072484,
          0.3233133949383947,
          0.2
         ],
         "yaxis": "y"
        },
        {
         "hoverinfo": "none",
         "line": {
          "color": "rgba(139,192,221,0.5)",
          "width": 0.5
         },
         "mode": "lines",
         "type": "scatter",
         "x": [
          84,
          92,
          93,
          94,
          95,
          97
         ],
         "xaxis": "x",
         "y": [
          0,
          0,
          0.07,
          0,
          0.1,
          0.76
         ],
         "yaxis": "y"
        },
        {
         "hoverinfo": "none",
         "line": {
          "color": "rgba(117,179,216,0.5)",
          "width": 0.5
         },
         "mode": "lines",
         "type": "scatter",
         "x": [
          84,
          92,
          93,
          94,
          95,
          97
         ],
         "xaxis": "x",
         "y": [
          0.04,
          0.1,
          0.01,
          0.03,
          0.04,
          0.15
         ],
         "yaxis": "y"
        },
        {
         "hoverinfo": "none",
         "line": {
          "color": "rgba(98,168,210,0.5)",
          "width": 0.5
         },
         "mode": "lines",
         "type": "scatter",
         "x": [
          84,
          92,
          93,
          94,
          95,
          97
         ],
         "xaxis": "x",
         "y": [
          0.33,
          0.6623333333333332,
          0.84,
          0.65,
          0.7033333333333335,
          0.215
         ],
         "yaxis": "y"
        },
        {
         "hoverinfo": "none",
         "line": {
          "color": "rgba(80,155,203,0.5)",
          "width": 0.5
         },
         "mode": "lines",
         "type": "scatter",
         "x": [
          84,
          92,
          93,
          94,
          95,
          97
         ],
         "xaxis": "x",
         "y": [
          0.30625,
          0.6034761904761903,
          0.3164285714285714,
          0.2938928571428572,
          0.7535,
          0.15
         ],
         "yaxis": "y"
        },
        {
         "hoverinfo": "none",
         "line": {
          "color": "rgba(64,144,197,0.5)",
          "width": 0.5
         },
         "mode": "lines",
         "type": "scatter",
         "x": [
          84,
          92,
          93,
          94,
          95,
          97
         ],
         "xaxis": "x",
         "y": [
          0,
          0.7700649350649351,
          0.5083333333333334,
          0.9,
          0.99,
          0.39
         ],
         "yaxis": "y"
        },
        {
         "hoverinfo": "none",
         "line": {
          "color": "rgba(49,129,189,0.5)",
          "width": 0.5
         },
         "mode": "lines",
         "type": "scatter",
         "x": [
          84,
          92,
          93,
          94,
          95,
          97
         ],
         "xaxis": "x",
         "y": [
          0.14333333333333334,
          0.26349999999999996,
          0.5102916666666665,
          0.5187222222222222,
          0.14747501110001113,
          0.24
         ],
         "yaxis": "y"
        },
        {
         "hoverinfo": "none",
         "line": {
          "color": "rgba(36,116,182,0.5)",
          "width": 0.5
         },
         "mode": "lines",
         "type": "scatter",
         "x": [
          84,
          92,
          93,
          94,
          95,
          97
         ],
         "xaxis": "x",
         "y": [
          0.19,
          0.84,
          0.7603333333333334,
          0.95,
          0.9218333333333333,
          0.46
         ],
         "yaxis": "y"
        },
        {
         "hoverinfo": "none",
         "line": {
          "color": "rgba(193,217,237,0.5)",
          "width": 0.5
         },
         "mode": "lines",
         "type": "scatter",
         "x": [
          84,
          92,
          93,
          94,
          95,
          97
         ],
         "xaxis": "x",
         "y": [
          0.05,
          0.68,
          0.9490000000000001,
          0.7551984126984128,
          0.9366666666666665,
          0.47
         ],
         "yaxis": "y"
        },
        {
         "hoverinfo": "none",
         "line": {
          "color": "rgba(177,210,231,0.5)",
          "width": 0.5
         },
         "mode": "lines",
         "type": "scatter",
         "x": [
          84,
          92,
          93,
          94,
          95,
          97
         ],
         "xaxis": "x",
         "y": [
          0.34,
          0.11,
          0.7,
          0.03,
          0,
          0.33
         ],
         "yaxis": "y"
        },
        {
         "hoverinfo": "none",
         "line": {
          "color": "rgba(160,202,225,0.5)",
          "width": 0.5
         },
         "mode": "lines",
         "type": "scatter",
         "x": [
          84,
          92,
          93,
          94,
          95,
          97
         ],
         "xaxis": "x",
         "y": [
          0.30625,
          0.6209761904761902,
          0.6161666666666666,
          0.4425781163281165,
          0.8714166666666665,
          0.16125
         ],
         "yaxis": "y"
        },
        {
         "hoverinfo": "none",
         "line": {
          "color": "rgba(139,192,221,0.5)",
          "width": 0.5
         },
         "mode": "lines",
         "type": "scatter",
         "x": [
          84,
          92,
          93,
          94,
          95,
          97
         ],
         "xaxis": "x",
         "y": [
          0.39,
          0.06,
          0,
          0,
          0,
          0.19
         ],
         "yaxis": "y"
        },
        {
         "hoverinfo": "none",
         "line": {
          "color": "rgba(117,179,216,0.5)",
          "width": 0.5
         },
         "mode": "lines",
         "type": "scatter",
         "x": [
          84,
          92,
          93,
          94,
          95,
          97
         ],
         "xaxis": "x",
         "y": [
          0.05,
          0,
          0.07,
          0.01,
          0,
          0.47
         ],
         "yaxis": "y"
        },
        {
         "hoverinfo": "none",
         "line": {
          "color": "rgba(98,168,210,0.5)",
          "width": 0.5
         },
         "mode": "lines",
         "type": "scatter",
         "x": [
          84,
          92,
          93,
          94,
          95,
          97
         ],
         "xaxis": "x",
         "y": [
          0,
          0.2403506493506492,
          0.5082094572094572,
          0.89,
          1,
          0.39
         ],
         "yaxis": "y"
        },
        {
         "hoverinfo": "none",
         "line": {
          "color": "rgba(80,155,203,0.5)",
          "width": 0.5
         },
         "mode": "lines",
         "type": "scatter",
         "x": [
          84,
          92,
          93,
          94,
          95,
          97
         ],
         "xaxis": "x",
         "y": [
          0.07,
          0.9091666666666667,
          0.1,
          0.9757142857142859,
          0.8558333333333333,
          0.45
         ],
         "yaxis": "y"
        },
        {
         "hoverinfo": "none",
         "line": {
          "color": "rgba(64,144,197,0.5)",
          "width": 0.5
         },
         "mode": "lines",
         "type": "scatter",
         "x": [
          84,
          92,
          93,
          94,
          95,
          97
         ],
         "xaxis": "x",
         "y": [
          0.11,
          0,
          0,
          0,
          0,
          0.08
         ],
         "yaxis": "y"
        },
        {
         "hoverinfo": "none",
         "line": {
          "color": "rgba(49,129,189,0.5)",
          "width": 0.5
         },
         "mode": "lines",
         "type": "scatter",
         "x": [
          84,
          92,
          93,
          94,
          95,
          97
         ],
         "xaxis": "x",
         "y": [
          0.03,
          0.4369400876900879,
          0.5999561107811492,
          0.8044264501838029,
          0.9988888888888888,
          0.3688888888888889
         ],
         "yaxis": "y"
        },
        {
         "hoverinfo": "none",
         "line": {
          "color": "rgba(36,116,182,0.5)",
          "width": 0.5
         },
         "mode": "lines",
         "type": "scatter",
         "x": [
          84,
          92,
          93,
          94,
          95,
          97
         ],
         "xaxis": "x",
         "y": [
          0.027999999999999997,
          0.45032115107115095,
          0.8014574314574315,
          0.6066666666666667,
          0.8554397546897547,
          0.38698412698412704
         ],
         "yaxis": "y"
        },
        {
         "hoverinfo": "none",
         "line": {
          "color": "rgba(193,217,237,0.5)",
          "width": 0.5
         },
         "mode": "lines",
         "type": "scatter",
         "x": [
          84,
          92,
          93,
          94,
          95,
          97
         ],
         "xaxis": "x",
         "y": [
          0.027999999999999997,
          0.45032115107115095,
          0.8014574314574315,
          0.6066666666666667,
          0.8554397546897547,
          0.38698412698412704
         ],
         "yaxis": "y"
        },
        {
         "hoverinfo": "none",
         "line": {
          "color": "rgba(177,210,231,0.5)",
          "width": 0.5
         },
         "mode": "lines",
         "type": "scatter",
         "x": [
          84,
          92,
          93,
          94,
          95,
          97
         ],
         "xaxis": "x",
         "y": [
          0.11,
          0.35,
          0.7913333333333332,
          0.065,
          0.08,
          0.19
         ],
         "yaxis": "y"
        },
        {
         "hoverinfo": "none",
         "line": {
          "color": "rgba(160,202,225,0.5)",
          "width": 0.5
         },
         "mode": "lines",
         "type": "scatter",
         "x": [
          84,
          92,
          93,
          94,
          95,
          97
         ],
         "xaxis": "x",
         "y": [
          0.01,
          0,
          0,
          0,
          0.02,
          0.61
         ],
         "yaxis": "y"
        },
        {
         "hoverinfo": "none",
         "line": {
          "color": "rgba(139,192,221,0.5)",
          "width": 0.5
         },
         "mode": "lines",
         "type": "scatter",
         "x": [
          84,
          92,
          93,
          94,
          95,
          97
         ],
         "xaxis": "x",
         "y": [
          0.37714285714285717,
          0.41964285714285715,
          0.542952380952381,
          0.39583333333333326,
          0.82,
          0.58
         ],
         "yaxis": "y"
        },
        {
         "hoverinfo": "none",
         "line": {
          "color": "rgba(117,179,216,0.5)",
          "width": 0.5
         },
         "mode": "lines",
         "type": "scatter",
         "x": [
          84,
          92,
          93,
          94,
          95,
          97
         ],
         "xaxis": "x",
         "y": [
          0.03,
          0.4369400876900879,
          0.5999561107811492,
          0.8044264501838029,
          0.9988888888888888,
          0.3688888888888889
         ],
         "yaxis": "y"
        },
        {
         "hoverinfo": "none",
         "line": {
          "color": "rgba(98,168,210,0.5)",
          "width": 0.5
         },
         "mode": "lines",
         "type": "scatter",
         "x": [
          84,
          92,
          93,
          94,
          95,
          97
         ],
         "xaxis": "x",
         "y": [
          0.19583333333333333,
          0.055,
          0.3416410533910535,
          0.3114999999999999,
          0.5092499999999999,
          0.63375
         ],
         "yaxis": "y"
        },
        {
         "hoverinfo": "none",
         "line": {
          "color": "rgba(80,155,203,0.5)",
          "width": 0.5
         },
         "mode": "lines",
         "type": "scatter",
         "x": [
          84,
          92,
          93,
          94,
          95,
          97
         ],
         "xaxis": "x",
         "y": [
          0.19,
          0.5216428571428571,
          0.5775000000000001,
          0.6095620490620489,
          0.5776666666666667,
          0.6735
         ],
         "yaxis": "y"
        },
        {
         "hoverinfo": "none",
         "line": {
          "color": "rgba(64,144,197,0.5)",
          "width": 0.5
         },
         "mode": "lines",
         "type": "scatter",
         "x": [
          84,
          92,
          93,
          94,
          95,
          97
         ],
         "xaxis": "x",
         "y": [
          0.19,
          0.1356468253968254,
          0.6427149321266968,
          0.9321346153846153,
          0.9671666666666667,
          0.72
         ],
         "yaxis": "y"
        },
        {
         "hoverinfo": "none",
         "line": {
          "color": "rgba(49,129,189,0.5)",
          "width": 0.5
         },
         "mode": "lines",
         "type": "scatter",
         "x": [
          84,
          92,
          93,
          94,
          95,
          97
         ],
         "xaxis": "x",
         "y": [
          0.3016666666666667,
          0.4461190476190476,
          0.2688730158730158,
          0,
          0.5626666666666666,
          0.13416666666666666
         ],
         "yaxis": "y"
        },
        {
         "hoverinfo": "none",
         "line": {
          "color": "rgba(36,116,182,0.5)",
          "width": 0.5
         },
         "mode": "lines",
         "type": "scatter",
         "x": [
          84,
          92,
          93,
          94,
          95,
          97
         ],
         "xaxis": "x",
         "y": [
          0.01,
          0,
          0.17,
          0.9277777777777777,
          0.88,
          0.46
         ],
         "yaxis": "y"
        },
        {
         "hoverinfo": "none",
         "line": {
          "color": "rgba(193,217,237,0.5)",
          "width": 0.5
         },
         "mode": "lines",
         "type": "scatter",
         "x": [
          84,
          92,
          93,
          94,
          95,
          97
         ],
         "xaxis": "x",
         "y": [
          0.31,
          0.27066666666666667,
          0.02,
          0.37890476190476186,
          0.77,
          0.2033333333333333
         ],
         "yaxis": "y"
        },
        {
         "hoverinfo": "none",
         "line": {
          "color": "rgba(177,210,231,0.5)",
          "width": 0.5
         },
         "mode": "lines",
         "type": "scatter",
         "x": [
          84,
          92,
          93,
          94,
          95,
          97
         ],
         "xaxis": "x",
         "y": [
          0.23,
          0.7046666666666667,
          0.8554999999999999,
          0.6923571428571428,
          0.5988095238095238,
          0.7166666666666667
         ],
         "yaxis": "y"
        },
        {
         "hoverinfo": "none",
         "line": {
          "color": "rgba(160,202,225,0.5)",
          "width": 0.5
         },
         "mode": "lines",
         "type": "scatter",
         "x": [
          84,
          92,
          93,
          94,
          95,
          97
         ],
         "xaxis": "x",
         "y": [
          0.056666666666666664,
          0.06,
          0.56,
          0.3341666666666667,
          0.04666666666666666,
          0.44
         ],
         "yaxis": "y"
        },
        {
         "hoverinfo": "none",
         "line": {
          "color": "rgba(139,192,221,0.5)",
          "width": 0.5
         },
         "mode": "lines",
         "type": "scatter",
         "x": [
          84,
          92,
          93,
          94,
          95,
          97
         ],
         "xaxis": "x",
         "y": [
          0,
          0.44749999999999995,
          0.4671289372392313,
          0.35,
          0.99,
          0.39
         ],
         "yaxis": "y"
        },
        {
         "hoverinfo": "none",
         "line": {
          "color": "rgba(117,179,216,0.5)",
          "width": 0.5
         },
         "mode": "lines",
         "type": "scatter",
         "x": [
          84,
          92,
          93,
          94,
          95,
          97
         ],
         "xaxis": "x",
         "y": [
          0.11,
          0,
          0,
          0,
          0,
          0.08
         ],
         "yaxis": "y"
        },
        {
         "hoverinfo": "none",
         "line": {
          "color": "rgba(98,168,210,0.5)",
          "width": 0.5
         },
         "mode": "lines",
         "type": "scatter",
         "x": [
          84,
          92,
          93,
          94,
          95,
          97
         ],
         "xaxis": "x",
         "y": [
          0.01,
          0,
          0,
          0,
          0.02,
          0.61
         ],
         "yaxis": "y"
        },
        {
         "hoverinfo": "none",
         "line": {
          "color": "rgba(80,155,203,0.5)",
          "width": 0.5
         },
         "mode": "lines",
         "type": "scatter",
         "x": [
          84,
          92,
          93,
          94,
          95,
          97
         ],
         "xaxis": "x",
         "y": [
          0.28,
          0.2581760461760461,
          0.222,
          0.27739682539682525,
          0.30528571428571427,
          0.10866666666666668
         ],
         "yaxis": "y"
        },
        {
         "hoverinfo": "none",
         "line": {
          "color": "rgba(64,144,197,0.5)",
          "width": 0.5
         },
         "mode": "lines",
         "type": "scatter",
         "x": [
          84,
          92,
          93,
          94,
          95,
          97
         ],
         "xaxis": "x",
         "y": [
          0.05,
          0,
          0.07,
          0.01,
          0,
          0.47
         ],
         "yaxis": "y"
        },
        {
         "hoverinfo": "none",
         "line": {
          "color": "rgba(49,129,189,0.5)",
          "width": 0.5
         },
         "mode": "lines",
         "type": "scatter",
         "x": [
          84,
          92,
          93,
          94,
          95,
          97
         ],
         "xaxis": "x",
         "y": [
          0.02,
          0.03,
          0.6,
          0.74,
          0.19,
          0.73
         ],
         "yaxis": "y"
        },
        {
         "hoverinfo": "none",
         "line": {
          "color": "rgba(36,116,182,0.5)",
          "width": 0.5
         },
         "mode": "lines",
         "type": "scatter",
         "x": [
          84,
          92,
          93,
          94,
          95,
          97
         ],
         "xaxis": "x",
         "y": [
          0,
          0,
          0,
          0.06083333333333333,
          0.01,
          0.7
         ],
         "yaxis": "y"
        },
        {
         "hoverinfo": "none",
         "line": {
          "color": "rgba(193,217,237,0.5)",
          "width": 0.5
         },
         "mode": "lines",
         "type": "scatter",
         "x": [
          84,
          92,
          93,
          94,
          95,
          97
         ],
         "xaxis": "x",
         "y": [
          0.1925,
          0.307761544011544,
          0.14616748522089065,
          0.8183743993140614,
          0.7467460317460318,
          0.722388888888889
         ],
         "yaxis": "y"
        },
        {
         "hoverinfo": "none",
         "line": {
          "color": "rgba(177,210,231,0.5)",
          "width": 0.5
         },
         "mode": "lines",
         "type": "scatter",
         "x": [
          84,
          92,
          93,
          94,
          95,
          97
         ],
         "xaxis": "x",
         "y": [
          0.1991666666666667,
          0.055,
          0.43279004119076814,
          0.7965325091575086,
          0.5364642857142858,
          0.6254166666666667
         ],
         "yaxis": "y"
        },
        {
         "hoverinfo": "none",
         "line": {
          "color": "rgba(160,202,225,0.5)",
          "width": 0.5
         },
         "mode": "lines",
         "type": "scatter",
         "x": [
          84,
          92,
          93,
          94,
          95,
          97
         ],
         "xaxis": "x",
         "y": [
          0.4,
          0.07,
          0.01,
          0,
          0,
          0.19
         ],
         "yaxis": "y"
        },
        {
         "hoverinfo": "none",
         "line": {
          "color": "rgba(139,192,221,0.5)",
          "width": 0.5
         },
         "mode": "lines",
         "type": "scatter",
         "x": [
          84,
          92,
          93,
          94,
          95,
          97
         ],
         "xaxis": "x",
         "y": [
          0.34,
          0.11,
          0.66,
          0.08,
          0,
          0.33
         ],
         "yaxis": "y"
        },
        {
         "hoverinfo": "none",
         "line": {
          "color": "rgba(117,179,216,0.5)",
          "width": 0.5
         },
         "mode": "lines",
         "type": "scatter",
         "x": [
          84,
          92,
          93,
          94,
          95,
          97
         ],
         "xaxis": "x",
         "y": [
          0.19,
          0.20761904761904762,
          0.07153846153846154,
          0.9969230769230769,
          0.9916666666666666,
          0.72
         ],
         "yaxis": "y"
        },
        {
         "hoverinfo": "none",
         "line": {
          "color": "rgba(98,168,210,0.5)",
          "width": 0.5
         },
         "mode": "lines",
         "type": "scatter",
         "x": [
          84,
          92,
          93,
          94,
          95,
          97
         ],
         "xaxis": "x",
         "y": [
          0.05,
          0.16,
          0.58,
          0.6,
          0.12,
          0.21
         ],
         "yaxis": "y"
        },
        {
         "hoverinfo": "none",
         "line": {
          "color": "rgba(80,155,203,0.5)",
          "width": 0.5
         },
         "mode": "lines",
         "type": "scatter",
         "x": [
          84,
          92,
          93,
          94,
          95,
          97
         ],
         "xaxis": "x",
         "y": [
          0,
          0.2403506493506492,
          0.5082094572094572,
          0.89,
          1,
          0.39
         ],
         "yaxis": "y"
        },
        {
         "hoverinfo": "none",
         "line": {
          "color": "rgba(64,144,197,0.5)",
          "width": 0.5
         },
         "mode": "lines",
         "type": "scatter",
         "x": [
          84,
          92,
          93,
          94,
          95,
          97
         ],
         "xaxis": "x",
         "y": [
          0.12,
          0.02,
          0.04,
          0.25,
          0.03,
          0.08
         ],
         "yaxis": "y"
        },
        {
         "hoverinfo": "none",
         "line": {
          "color": "rgba(49,129,189,0.5)",
          "width": 0.5
         },
         "mode": "lines",
         "type": "scatter",
         "x": [
          84,
          92,
          93,
          94,
          95,
          97
         ],
         "xaxis": "x",
         "y": [
          0.07666666666666667,
          0.07666666666666667,
          0.3016666666666667,
          0.4233333333333333,
          0.10583333333333332,
          0.44
         ],
         "yaxis": "y"
        },
        {
         "hoverinfo": "none",
         "line": {
          "color": "rgba(36,116,182,0.5)",
          "width": 0.5
         },
         "mode": "lines",
         "type": "scatter",
         "x": [
          84,
          92,
          93,
          94,
          95,
          97
         ],
         "xaxis": "x",
         "y": [
          0.2225,
          0.27525,
          0.4059166666666667,
          0.006666666666666666,
          0.6160238095238095,
          0.6666666666666667
         ],
         "yaxis": "y"
        },
        {
         "hoverinfo": "none",
         "line": {
          "color": "rgba(193,217,237,0.5)",
          "width": 0.5
         },
         "mode": "lines",
         "type": "scatter",
         "x": [
          84,
          92,
          93,
          94,
          95,
          97
         ],
         "xaxis": "x",
         "y": [
          0.04,
          0.1,
          0.01,
          0.03,
          0.04,
          0.15
         ],
         "yaxis": "y"
        },
        {
         "hoverinfo": "none",
         "line": {
          "color": "rgba(177,210,231,0.5)",
          "width": 0.5
         },
         "mode": "lines",
         "type": "scatter",
         "x": [
          84,
          92,
          93,
          94,
          95,
          97
         ],
         "xaxis": "x",
         "y": [
          0.33,
          0.02,
          0,
          0,
          0,
          0.08
         ],
         "yaxis": "y"
        },
        {
         "hoverinfo": "none",
         "line": {
          "color": "rgba(160,202,225,0.5)",
          "width": 0.5
         },
         "mode": "lines",
         "type": "scatter",
         "x": [
          84,
          92,
          93,
          94,
          95,
          97
         ],
         "xaxis": "x",
         "y": [
          0.19,
          0.1366468253968254,
          0.045935737436511435,
          0.36962734062463154,
          0.7217460317460318,
          0.697388888888889
         ],
         "yaxis": "y"
        },
        {
         "hoverinfo": "none",
         "line": {
          "color": "rgba(139,192,221,0.5)",
          "width": 0.5
         },
         "mode": "lines",
         "type": "scatter",
         "x": [
          84,
          92,
          93,
          94,
          95,
          97
         ],
         "xaxis": "x",
         "y": [
          0.16,
          0.6901666666666668,
          0.5502916666666665,
          0.5371196581196581,
          0.14747501110001113,
          0.24
         ],
         "yaxis": "y"
        },
        {
         "hoverinfo": "none",
         "line": {
          "color": "rgba(117,179,216,0.5)",
          "width": 0.5
         },
         "mode": "lines",
         "type": "scatter",
         "x": [
          84,
          92,
          93,
          94,
          95,
          97
         ],
         "xaxis": "x",
         "y": [
          0.31,
          0.1503387445887446,
          0.9293333333333332,
          0.12776190476190477,
          0.3607857142857144,
          0.10333333333333332
         ],
         "yaxis": "y"
        },
        {
         "hoverinfo": "none",
         "line": {
          "color": "rgba(98,168,210,0.5)",
          "width": 0.5
         },
         "mode": "lines",
         "type": "scatter",
         "x": [
          84,
          92,
          93,
          94,
          95,
          97
         ],
         "xaxis": "x",
         "y": [
          0,
          0.2403506493506492,
          0.5082094572094572,
          0.89,
          1,
          0.39
         ],
         "yaxis": "y"
        },
        {
         "hoverinfo": "none",
         "line": {
          "color": "rgba(80,155,203,0.5)",
          "width": 0.5
         },
         "mode": "lines",
         "type": "scatter",
         "x": [
          84,
          92,
          93,
          94,
          95,
          97
         ],
         "xaxis": "x",
         "y": [
          0.33,
          0.02,
          0,
          0,
          0,
          0.08
         ],
         "yaxis": "y"
        },
        {
         "hoverinfo": "none",
         "line": {
          "color": "rgba(64,144,197,0.5)",
          "width": 0.5
         },
         "mode": "lines",
         "type": "scatter",
         "x": [
          84,
          92,
          93,
          94,
          95,
          97
         ],
         "xaxis": "x",
         "y": [
          0.07,
          0.22,
          0.28,
          0.2,
          0.45,
          0.25
         ],
         "yaxis": "y"
        },
        {
         "hoverinfo": "none",
         "line": {
          "color": "rgba(49,129,189,0.5)",
          "width": 0.5
         },
         "mode": "lines",
         "type": "scatter",
         "x": [
          84,
          92,
          93,
          94,
          95,
          97
         ],
         "xaxis": "x",
         "y": [
          0.03,
          0.16912504162504163,
          0.5873779988346162,
          0.9633386474636477,
          1,
          0.39
         ],
         "yaxis": "y"
        },
        {
         "hoverinfo": "none",
         "line": {
          "color": "rgba(36,116,182,0.5)",
          "width": 0.5
         },
         "mode": "lines",
         "type": "scatter",
         "x": [
          84,
          92,
          93,
          94,
          95,
          97
         ],
         "xaxis": "x",
         "y": [
          0,
          0,
          0.11,
          0.3627460317460317,
          0.22852380952380952,
          0.86
         ],
         "yaxis": "y"
        },
        {
         "hoverinfo": "none",
         "line": {
          "color": "rgba(193,217,237,0.5)",
          "width": 0.5
         },
         "mode": "lines",
         "type": "scatter",
         "x": [
          84,
          92,
          93,
          94,
          95,
          97
         ],
         "xaxis": "x",
         "y": [
          0,
          0.58,
          0.65,
          0.6901190476190477,
          0.6620378787878789,
          0.37255050505050513
         ],
         "yaxis": "y"
        },
        {
         "hoverinfo": "none",
         "line": {
          "color": "rgba(177,210,231,0.5)",
          "width": 0.5
         },
         "mode": "lines",
         "type": "scatter",
         "x": [
          84,
          92,
          93,
          94,
          95,
          97
         ],
         "xaxis": "x",
         "y": [
          0.19,
          0.5216428571428571,
          0.5775000000000001,
          0.6095620490620489,
          0.5776666666666667,
          0.6735
         ],
         "yaxis": "y"
        },
        {
         "hoverinfo": "none",
         "line": {
          "color": "rgba(160,202,225,0.5)",
          "width": 0.5
         },
         "mode": "lines",
         "type": "scatter",
         "x": [
          84,
          92,
          93,
          94,
          95,
          97
         ],
         "xaxis": "x",
         "y": [
          0.1925,
          0.307761544011544,
          0.14616748522089065,
          0.8183743993140614,
          0.7467460317460318,
          0.722388888888889
         ],
         "yaxis": "y"
        },
        {
         "hoverinfo": "none",
         "line": {
          "color": "rgba(139,192,221,0.5)",
          "width": 0.5
         },
         "mode": "lines",
         "type": "scatter",
         "x": [
          84,
          92,
          93,
          94,
          95,
          97
         ],
         "xaxis": "x",
         "y": [
          0.1925,
          0.307761544011544,
          0.14616748522089065,
          0.8183743993140614,
          0.7467460317460318,
          0.722388888888889
         ],
         "yaxis": "y"
        },
        {
         "hoverinfo": "none",
         "line": {
          "color": "rgba(117,179,216,0.5)",
          "width": 0.5
         },
         "mode": "lines",
         "type": "scatter",
         "x": [
          84,
          92,
          93,
          94,
          95,
          97
         ],
         "xaxis": "x",
         "y": [
          0,
          0.5,
          0.5716666666666667,
          0.31259920634920635,
          0.8733333333333333,
          0.43
         ],
         "yaxis": "y"
        },
        {
         "hoverinfo": "none",
         "line": {
          "color": "rgba(98,168,210,0.5)",
          "width": 0.5
         },
         "mode": "lines",
         "type": "scatter",
         "x": [
          84,
          92,
          93,
          94,
          95,
          97
         ],
         "xaxis": "x",
         "y": [
          0.35,
          0.875,
          0.07,
          0.07,
          0.6,
          0.31
         ],
         "yaxis": "y"
        },
        {
         "hoverinfo": "none",
         "line": {
          "color": "rgba(80,155,203,0.5)",
          "width": 0.5
         },
         "mode": "lines",
         "type": "scatter",
         "x": [
          84,
          92,
          93,
          94,
          95,
          97
         ],
         "xaxis": "x",
         "y": [
          0.1925,
          0.307761544011544,
          0.14616748522089065,
          0.8183743993140614,
          0.7467460317460318,
          0.722388888888889
         ],
         "yaxis": "y"
        },
        {
         "hoverinfo": "none",
         "line": {
          "color": "rgba(64,144,197,0.5)",
          "width": 0.5
         },
         "mode": "lines",
         "type": "scatter",
         "x": [
          84,
          92,
          93,
          94,
          95,
          97
         ],
         "xaxis": "x",
         "y": [
          0,
          0.2403506493506492,
          0.5082094572094572,
          0.89,
          1,
          0.39
         ],
         "yaxis": "y"
        },
        {
         "hoverinfo": "none",
         "line": {
          "color": "rgba(49,129,189,0.5)",
          "width": 0.5
         },
         "mode": "lines",
         "type": "scatter",
         "x": [
          84,
          92,
          93,
          94,
          95,
          97
         ],
         "xaxis": "x",
         "y": [
          0.26599999999999996,
          0.18978787878787876,
          0.254290725743125,
          0.2788373015873017,
          0.7390357142857142,
          0.16
         ],
         "yaxis": "y"
        },
        {
         "hoverinfo": "none",
         "line": {
          "color": "rgba(36,116,182,0.5)",
          "width": 0.5
         },
         "mode": "lines",
         "type": "scatter",
         "x": [
          84,
          92,
          93,
          94,
          95,
          97
         ],
         "xaxis": "x",
         "y": [
          0.3,
          0.6681666666666666,
          0.055,
          0.61,
          0.520952380952381,
          0.14083333333333334
         ],
         "yaxis": "y"
        },
        {
         "hoverinfo": "none",
         "line": {
          "color": "rgba(193,217,237,0.5)",
          "width": 0.5
         },
         "mode": "lines",
         "type": "scatter",
         "x": [
          84,
          92,
          93,
          94,
          95,
          97
         ],
         "xaxis": "x",
         "y": [
          0.01,
          0,
          0,
          0,
          0.02,
          0.61
         ],
         "yaxis": "y"
        },
        {
         "hoverinfo": "none",
         "line": {
          "color": "rgba(177,210,231,0.5)",
          "width": 0.5
         },
         "mode": "lines",
         "type": "scatter",
         "x": [
          84,
          92,
          93,
          94,
          95,
          97
         ],
         "xaxis": "x",
         "y": [
          0,
          0.58,
          0.65,
          0.6901190476190477,
          0.6620378787878789,
          0.37255050505050513
         ],
         "yaxis": "y"
        },
        {
         "hoverinfo": "none",
         "line": {
          "color": "rgba(160,202,225,0.5)",
          "width": 0.5
         },
         "mode": "lines",
         "type": "scatter",
         "x": [
          84,
          92,
          93,
          94,
          95,
          97
         ],
         "xaxis": "x",
         "y": [
          0.19,
          0.1356468253968254,
          0.6427149321266968,
          0.9321346153846153,
          0.9671666666666667,
          0.72
         ],
         "yaxis": "y"
        },
        {
         "hoverinfo": "none",
         "line": {
          "color": "rgba(139,192,221,0.5)",
          "width": 0.5
         },
         "mode": "lines",
         "type": "scatter",
         "x": [
          84,
          92,
          93,
          94,
          95,
          97
         ],
         "xaxis": "x",
         "y": [
          0.19,
          0.1356468253968254,
          0.6427149321266968,
          0.9321346153846153,
          0.9671666666666667,
          0.72
         ],
         "yaxis": "y"
        },
        {
         "hoverinfo": "none",
         "line": {
          "color": "rgba(117,179,216,0.5)",
          "width": 0.5
         },
         "mode": "lines",
         "type": "scatter",
         "x": [
          84,
          92,
          93,
          94,
          95,
          97
         ],
         "xaxis": "x",
         "y": [
          0,
          0,
          0.09,
          0.07,
          0.05,
          0.66
         ],
         "yaxis": "y"
        },
        {
         "hoverinfo": "none",
         "line": {
          "color": "rgba(98,168,210,0.5)",
          "width": 0.5
         },
         "mode": "lines",
         "type": "scatter",
         "x": [
          84,
          92,
          93,
          94,
          95,
          97
         ],
         "xaxis": "x",
         "y": [
          0.03,
          0.4369400876900879,
          0.5999561107811492,
          0.8044264501838029,
          0.9988888888888888,
          0.3688888888888889
         ],
         "yaxis": "y"
        },
        {
         "hoverinfo": "none",
         "line": {
          "color": "rgba(80,155,203,0.5)",
          "width": 0.5
         },
         "mode": "lines",
         "type": "scatter",
         "x": [
          84,
          92,
          93,
          94,
          95,
          97
         ],
         "xaxis": "x",
         "y": [
          0.08,
          0.1,
          0.63,
          0.133,
          0.07,
          0.59
         ],
         "yaxis": "y"
        },
        {
         "hoverinfo": "none",
         "line": {
          "color": "rgba(64,144,197,0.5)",
          "width": 0.5
         },
         "mode": "lines",
         "type": "scatter",
         "x": [
          84,
          92,
          93,
          94,
          95,
          97
         ],
         "xaxis": "x",
         "y": [
          0.26599999999999996,
          0.3125151515151515,
          0.2558751413275406,
          0.5942994227994227,
          0.1741626984126984,
          0.13233333333333333
         ],
         "yaxis": "y"
        },
        {
         "hoverinfo": "none",
         "line": {
          "color": "rgba(49,129,189,0.5)",
          "width": 0.5
         },
         "mode": "lines",
         "type": "scatter",
         "x": [
          84,
          92,
          93,
          94,
          95,
          97
         ],
         "xaxis": "x",
         "y": [
          0.1991666666666667,
          0.055,
          0.43279004119076814,
          0.7965325091575086,
          0.5364642857142858,
          0.6254166666666667
         ],
         "yaxis": "y"
        },
        {
         "hoverinfo": "none",
         "line": {
          "color": "rgba(36,116,182,0.5)",
          "width": 0.5
         },
         "mode": "lines",
         "type": "scatter",
         "x": [
          84,
          92,
          93,
          94,
          95,
          97
         ],
         "xaxis": "x",
         "y": [
          0.42,
          0.09,
          0.03,
          0.02,
          0.02,
          0.2
         ],
         "yaxis": "y"
        },
        {
         "hoverinfo": "none",
         "line": {
          "color": "rgba(193,217,237,0.5)",
          "width": 0.5
         },
         "mode": "lines",
         "type": "scatter",
         "x": [
          84,
          92,
          93,
          94,
          95,
          97
         ],
         "xaxis": "x",
         "y": [
          0.15,
          0.07,
          0.32,
          0.01,
          0,
          0.08
         ],
         "yaxis": "y"
        },
        {
         "hoverinfo": "none",
         "line": {
          "color": "rgba(177,210,231,0.5)",
          "width": 0.5
         },
         "mode": "lines",
         "type": "scatter",
         "x": [
          84,
          92,
          93,
          94,
          95,
          97
         ],
         "xaxis": "x",
         "y": [
          0.03,
          0.05266666666666667,
          0.879952380952381,
          0.7,
          0.9891666666666667,
          0.4
         ],
         "yaxis": "y"
        },
        {
         "hoverinfo": "none",
         "line": {
          "color": "rgba(160,202,225,0.5)",
          "width": 0.5
         },
         "mode": "lines",
         "type": "scatter",
         "x": [
          84,
          92,
          93,
          94,
          95,
          97
         ],
         "xaxis": "x",
         "y": [
          0,
          0.7840649350649351,
          0.5323333333333333,
          0.482,
          1,
          0.39
         ],
         "yaxis": "y"
        },
        {
         "hoverinfo": "none",
         "line": {
          "color": "rgba(139,192,221,0.5)",
          "width": 0.5
         },
         "mode": "lines",
         "type": "scatter",
         "x": [
          84,
          92,
          93,
          94,
          95,
          97
         ],
         "xaxis": "x",
         "y": [
          0.03,
          0.4369400876900879,
          0.5999561107811492,
          0.8044264501838029,
          0.9988888888888888,
          0.3688888888888889
         ],
         "yaxis": "y"
        },
        {
         "hoverinfo": "none",
         "line": {
          "color": "rgba(117,179,216,0.5)",
          "width": 0.5
         },
         "mode": "lines",
         "type": "scatter",
         "x": [
          84,
          92,
          93,
          94,
          95,
          97
         ],
         "xaxis": "x",
         "y": [
          0.30625,
          0.6034761904761903,
          0.3164285714285714,
          0.2938928571428572,
          0.7535,
          0.15
         ],
         "yaxis": "y"
        },
        {
         "hoverinfo": "none",
         "line": {
          "color": "rgba(98,168,210,0.5)",
          "width": 0.5
         },
         "mode": "lines",
         "type": "scatter",
         "x": [
          84,
          92,
          93,
          94,
          95,
          97
         ],
         "xaxis": "x",
         "y": [
          0.04,
          0.1,
          0.01,
          0.03,
          0.05,
          0.15
         ],
         "yaxis": "y"
        },
        {
         "hoverinfo": "none",
         "line": {
          "color": "rgba(80,155,203,0.5)",
          "width": 0.5
         },
         "mode": "lines",
         "type": "scatter",
         "x": [
          84,
          92,
          93,
          94,
          95,
          97
         ],
         "xaxis": "x",
         "y": [
          0.30625,
          0.6209761904761902,
          0.6161666666666666,
          0.4425781163281165,
          0.8714166666666665,
          0.16125
         ],
         "yaxis": "y"
        },
        {
         "hoverinfo": "none",
         "line": {
          "color": "rgba(64,144,197,0.5)",
          "width": 0.5
         },
         "mode": "lines",
         "type": "scatter",
         "x": [
          84,
          92,
          93,
          94,
          95,
          97
         ],
         "xaxis": "x",
         "y": [
          0.33,
          0.02,
          0,
          0,
          0,
          0.08
         ],
         "yaxis": "y"
        },
        {
         "hoverinfo": "none",
         "line": {
          "color": "rgba(49,129,189,0.5)",
          "width": 0.5
         },
         "mode": "lines",
         "type": "scatter",
         "x": [
          84,
          92,
          93,
          94,
          95,
          97
         ],
         "xaxis": "x",
         "y": [
          0.47,
          0.665,
          0.6933333333333332,
          0.29033333333333333,
          0.6825,
          0.5
         ],
         "yaxis": "y"
        },
        {
         "hoverinfo": "none",
         "line": {
          "color": "rgba(36,116,182,0.5)",
          "width": 0.5
         },
         "mode": "lines",
         "type": "scatter",
         "x": [
          84,
          92,
          93,
          94,
          95,
          97
         ],
         "xaxis": "x",
         "y": [
          0.01,
          0.14,
          0.54,
          0.6,
          0.09,
          0.19
         ],
         "yaxis": "y"
        },
        {
         "hoverinfo": "none",
         "line": {
          "color": "rgba(193,217,237,0.5)",
          "width": 0.5
         },
         "mode": "lines",
         "type": "scatter",
         "x": [
          84,
          92,
          93,
          94,
          95,
          97
         ],
         "xaxis": "x",
         "y": [
          0.0575,
          0.0075,
          0.0175,
          0.4201666666666666,
          0.0315,
          0.6975
         ],
         "yaxis": "y"
        },
        {
         "hoverinfo": "none",
         "line": {
          "color": "rgba(177,210,231,0.5)",
          "width": 0.5
         },
         "mode": "lines",
         "type": "scatter",
         "x": [
          84,
          92,
          93,
          94,
          95,
          97
         ],
         "xaxis": "x",
         "y": [
          0.1991666666666667,
          0.055,
          0.43279004119076814,
          0.7965325091575086,
          0.5364642857142858,
          0.6254166666666667
         ],
         "yaxis": "y"
        },
        {
         "hoverinfo": "none",
         "line": {
          "color": "rgba(160,202,225,0.5)",
          "width": 0.5
         },
         "mode": "lines",
         "type": "scatter",
         "x": [
          84,
          92,
          93,
          94,
          95,
          97
         ],
         "xaxis": "x",
         "y": [
          0,
          0.7700649350649351,
          0.5083333333333334,
          0.9,
          0.99,
          0.39
         ],
         "yaxis": "y"
        },
        {
         "hoverinfo": "none",
         "line": {
          "color": "rgba(139,192,221,0.5)",
          "width": 0.5
         },
         "mode": "lines",
         "type": "scatter",
         "x": [
          84,
          92,
          93,
          94,
          95,
          97
         ],
         "xaxis": "x",
         "y": [
          0,
          0,
          0.065,
          0.01,
          0.02,
          0.78
         ],
         "yaxis": "y"
        },
        {
         "hoverinfo": "none",
         "line": {
          "color": "rgba(117,179,216,0.5)",
          "width": 0.5
         },
         "mode": "lines",
         "type": "scatter",
         "x": [
          84,
          92,
          93,
          94,
          95,
          97
         ],
         "xaxis": "x",
         "y": [
          0.17,
          0.08,
          0.23333333333333336,
          0.31833333333333336,
          0.48,
          0.44
         ],
         "yaxis": "y"
        },
        {
         "hoverinfo": "none",
         "line": {
          "color": "rgba(98,168,210,0.5)",
          "width": 0.5
         },
         "mode": "lines",
         "type": "scatter",
         "x": [
          84,
          92,
          93,
          94,
          95,
          97
         ],
         "xaxis": "x",
         "y": [
          0.28,
          0.11783874458874459,
          0.47450000000000003,
          0.2820634920634919,
          0.3119523809523809,
          0.10533333333333333
         ],
         "yaxis": "y"
        },
        {
         "hoverinfo": "none",
         "line": {
          "color": "rgba(80,155,203,0.5)",
          "width": 0.5
         },
         "mode": "lines",
         "type": "scatter",
         "x": [
          84,
          92,
          93,
          94,
          95,
          97
         ],
         "xaxis": "x",
         "y": [
          0.0575,
          0.0075,
          0.0175,
          0.4201666666666666,
          0.0315,
          0.6975
         ],
         "yaxis": "y"
        },
        {
         "hoverinfo": "none",
         "line": {
          "color": "rgba(64,144,197,0.5)",
          "width": 0.5
         },
         "mode": "lines",
         "type": "scatter",
         "x": [
          84,
          92,
          93,
          94,
          95,
          97
         ],
         "xaxis": "x",
         "y": [
          0.29,
          0.13083333333333333,
          0.016430242272347535,
          0.2901666666666665,
          0.6570357142857142,
          0.14
         ],
         "yaxis": "y"
        },
        {
         "hoverinfo": "none",
         "line": {
          "color": "rgba(49,129,189,0.5)",
          "width": 0.5
         },
         "mode": "lines",
         "type": "scatter",
         "x": [
          84,
          92,
          93,
          94,
          95,
          97
         ],
         "xaxis": "x",
         "y": [
          0.19,
          0.5216428571428571,
          0.5775000000000001,
          0.6095620490620489,
          0.5776666666666667,
          0.6735
         ],
         "yaxis": "y"
        },
        {
         "hoverinfo": "none",
         "line": {
          "color": "rgba(36,116,182,0.5)",
          "width": 0.5
         },
         "mode": "lines",
         "type": "scatter",
         "x": [
          84,
          92,
          93,
          94,
          95,
          97
         ],
         "xaxis": "x",
         "y": [
          0.3016666666666667,
          0.4461190476190476,
          0.2688730158730158,
          0,
          0.5626666666666666,
          0.13416666666666666
         ],
         "yaxis": "y"
        },
        {
         "hoverinfo": "none",
         "line": {
          "color": "#FEDC00",
          "width": 4.5
         },
         "mode": "lines",
         "type": "scatter",
         "x": [
          84,
          92,
          93,
          94,
          95,
          97
         ],
         "xaxis": "x",
         "y": [
          0.15896592643467644,
          0.2847796568637915,
          0.35892438593196035,
          0.42226562917228305,
          0.5223160972752319,
          0.38944853872978874
         ],
         "yaxis": "y"
        },
        {
         "hoverinfo": "none",
         "line": {
          "color": "#E75438",
          "dash": "dash",
          "width": 1.5
         },
         "mode": "lines",
         "type": "scatter",
         "x": [
          84,
          92,
          93,
          94,
          95,
          97
         ],
         "xaxis": "x",
         "y": [
          0,
          0,
          0,
          0,
          0,
          0
         ],
         "yaxis": "y"
        },
        {
         "hovertemplate": "%{y}",
         "line": {
          "color": "rgba(8,48,107,1.0)",
          "width": 1.5
         },
         "marker": {
          "color": "rgba(8,48,107,1.0)",
          "size": 5
         },
         "mode": "lines+markers",
         "name": "pdp",
         "type": "scatter",
         "x": [
          84,
          92,
          93,
          94,
          95,
          97
         ],
         "xaxis": "x",
         "y": [
          0.15896592643467644,
          0.2847796568637915,
          0.35892438593196035,
          0.42226562917228305,
          0.5223160972752319,
          0.38944853872978874
         ],
         "yaxis": "y"
        },
        {
         "hoverinfo": "none",
         "mode": "text",
         "name": "dist",
         "showlegend": false,
         "text": [
          "|",
          "|",
          "|",
          "|",
          "|",
          "|",
          "|",
          "|",
          "|",
          "|",
          "|",
          "|",
          "|",
          "|",
          "|",
          "|",
          "|",
          "|",
          "|",
          "|",
          "|",
          "|",
          "|",
          "|",
          "|",
          "|",
          "|",
          "|",
          "|",
          "|",
          "|",
          "|",
          "|",
          "|",
          "|",
          "|",
          "|",
          "|",
          "|",
          "|",
          "|",
          "|",
          "|",
          "|",
          "|",
          "|",
          "|",
          "|",
          "|",
          "|",
          "|",
          "|",
          "|",
          "|",
          "|",
          "|",
          "|",
          "|",
          "|",
          "|",
          "|",
          "|",
          "|",
          "|",
          "|",
          "|",
          "|",
          "|",
          "|",
          "|",
          "|",
          "|",
          "|",
          "|",
          "|",
          "|",
          "|",
          "|",
          "|",
          "|",
          "|",
          "|",
          "|",
          "|",
          "|",
          "|",
          "|",
          "|",
          "|",
          "|",
          "|",
          "|",
          "|",
          "|",
          "|",
          "|",
          "|",
          "|",
          "|",
          "|",
          "|",
          "|",
          "|",
          "|",
          "|",
          "|",
          "|",
          "|",
          "|",
          "|",
          "|",
          "|",
          "|",
          "|",
          "|",
          "|",
          "|",
          "|",
          "|",
          "|",
          "|",
          "|",
          "|",
          "|",
          "|",
          "|",
          "|",
          "|",
          "|",
          "|",
          "|",
          "|",
          "|",
          "|",
          "|",
          "|",
          "|",
          "|",
          "|",
          "|",
          "|",
          "|",
          "|",
          "|",
          "|",
          "|",
          "|",
          "|",
          "|",
          "|",
          "|",
          "|",
          "|",
          "|",
          "|",
          "|",
          "|",
          "|",
          "|",
          "|",
          "|",
          "|",
          "|",
          "|",
          "|",
          "|",
          "|",
          "|",
          "|",
          "|",
          "|",
          "|",
          "|",
          "|",
          "|",
          "|",
          "|",
          "|",
          "|",
          "|",
          "|",
          "|",
          "|",
          "|",
          "|",
          "|",
          "|",
          "|",
          "|",
          "|",
          "|",
          "|",
          "|",
          "|",
          "|",
          "|",
          "|",
          "|",
          "|",
          "|",
          "|",
          "|",
          "|",
          "|",
          "|",
          "|",
          "|",
          "|",
          "|",
          "|",
          "|",
          "|",
          "|",
          "|",
          "|",
          "|",
          "|",
          "|",
          "|",
          "|",
          "|",
          "|",
          "|",
          "|",
          "|",
          "|",
          "|",
          "|",
          "|",
          "|",
          "|",
          "|",
          "|",
          "|",
          "|",
          "|",
          "|",
          "|",
          "|",
          "|",
          "|",
          "|",
          "|",
          "|",
          "|",
          "|",
          "|",
          "|",
          "|",
          "|",
          "|",
          "|",
          "|",
          "|",
          "|",
          "|",
          "|",
          "|",
          "|",
          "|",
          "|",
          "|",
          "|",
          "|",
          "|",
          "|",
          "|",
          "|",
          "|",
          "|",
          "|",
          "|",
          "|",
          "|",
          "|",
          "|",
          "|",
          "|",
          "|",
          "|",
          "|",
          "|",
          "|",
          "|",
          "|",
          "|",
          "|",
          "|",
          "|",
          "|",
          "|",
          "|",
          "|",
          "|",
          "|",
          "|",
          "|",
          "|",
          "|",
          "|",
          "|",
          "|",
          "|",
          "|",
          "|",
          "|",
          "|",
          "|",
          "|",
          "|",
          "|",
          "|"
         ],
         "textfont": {
          "color": "rgba(8,48,107,1.0)",
          "size": 20
         },
         "textposition": "middle center",
         "type": "scatter",
         "x": [
          93,
          93,
          96,
          93,
          92,
          93,
          94,
          95,
          92,
          93,
          93,
          94,
          93,
          90,
          93,
          93,
          93,
          96,
          94,
          93,
          94,
          90,
          94,
          94,
          95,
          95,
          93,
          93,
          93,
          93,
          94,
          91,
          93,
          93,
          96,
          93,
          92,
          94,
          92,
          94,
          94,
          94,
          94,
          92,
          92,
          94,
          92,
          95,
          93,
          96,
          95,
          94,
          94,
          92,
          91,
          95,
          93,
          94,
          91,
          92,
          92,
          93,
          92,
          94,
          93,
          92,
          94,
          90,
          95,
          92,
          95,
          95,
          92,
          92,
          93,
          94,
          92,
          93,
          93,
          92,
          94,
          93,
          93,
          96,
          93,
          92,
          92,
          95,
          94,
          96,
          94,
          86,
          94,
          94,
          97,
          94,
          91,
          93,
          94,
          91,
          94,
          92,
          95,
          93,
          96,
          94,
          95,
          93,
          94,
          92,
          94,
          95,
          92,
          91,
          95,
          91,
          93,
          94,
          94,
          94,
          93,
          94,
          91,
          96,
          94,
          93,
          95,
          95,
          94,
          95,
          96,
          94,
          94,
          92,
          91,
          95,
          93,
          93,
          94,
          92,
          90,
          91,
          93,
          95,
          94,
          90,
          93,
          93,
          92,
          94,
          94,
          93,
          87,
          93,
          94,
          93,
          94,
          94,
          92,
          95,
          93,
          93,
          92,
          93,
          92,
          93,
          93,
          93,
          95,
          94,
          92,
          94,
          95,
          91,
          94,
          94,
          92,
          93,
          90,
          90,
          93,
          95,
          96,
          92,
          92,
          93,
          92,
          95,
          93,
          96,
          92,
          90,
          96,
          94,
          94,
          94,
          94,
          91,
          95,
          92,
          94,
          95,
          95,
          94,
          94,
          96,
          94,
          93,
          93,
          93,
          95,
          93,
          93,
          93,
          93,
          92,
          94,
          94,
          90,
          90,
          94,
          92,
          92,
          94,
          89,
          93,
          94,
          94,
          92,
          94,
          95,
          92,
          94,
          94,
          93,
          95,
          94,
          93,
          95,
          92,
          94,
          95,
          94,
          96,
          92,
          95,
          92,
          93,
          92,
          87,
          94,
          96,
          94,
          94,
          94,
          93,
          93,
          95,
          91,
          93,
          94,
          94,
          94,
          96,
          93,
          94,
          95,
          94,
          94,
          94,
          93,
          95,
          94,
          93,
          93,
          95,
          93,
          95,
          94,
          94,
          94,
          91,
          93,
          96,
          94,
          95,
          92,
          92,
          92,
          93,
          84,
          95,
          93,
          93,
          94,
          93,
          94,
          91,
          92,
          93,
          93,
          92,
          92,
          94,
          95,
          94,
          94,
          91,
          94,
          94,
          96,
          93
         ],
         "xaxis": "x2",
         "y": [
          1,
          1,
          1,
          1,
          1,
          1,
          1,
          1,
          1,
          1,
          1,
          1,
          1,
          1,
          1,
          1,
          1,
          1,
          1,
          1,
          1,
          1,
          1,
          1,
          1,
          1,
          1,
          1,
          1,
          1,
          1,
          1,
          1,
          1,
          1,
          1,
          1,
          1,
          1,
          1,
          1,
          1,
          1,
          1,
          1,
          1,
          1,
          1,
          1,
          1,
          1,
          1,
          1,
          1,
          1,
          1,
          1,
          1,
          1,
          1,
          1,
          1,
          1,
          1,
          1,
          1,
          1,
          1,
          1,
          1,
          1,
          1,
          1,
          1,
          1,
          1,
          1,
          1,
          1,
          1,
          1,
          1,
          1,
          1,
          1,
          1,
          1,
          1,
          1,
          1,
          1,
          1,
          1,
          1,
          1,
          1,
          1,
          1,
          1,
          1,
          1,
          1,
          1,
          1,
          1,
          1,
          1,
          1,
          1,
          1,
          1,
          1,
          1,
          1,
          1,
          1,
          1,
          1,
          1,
          1,
          1,
          1,
          1,
          1,
          1,
          1,
          1,
          1,
          1,
          1,
          1,
          1,
          1,
          1,
          1,
          1,
          1,
          1,
          1,
          1,
          1,
          1,
          1,
          1,
          1,
          1,
          1,
          1,
          1,
          1,
          1,
          1,
          1,
          1,
          1,
          1,
          1,
          1,
          1,
          1,
          1,
          1,
          1,
          1,
          1,
          1,
          1,
          1,
          1,
          1,
          1,
          1,
          1,
          1,
          1,
          1,
          1,
          1,
          1,
          1,
          1,
          1,
          1,
          1,
          1,
          1,
          1,
          1,
          1,
          1,
          1,
          1,
          1,
          1,
          1,
          1,
          1,
          1,
          1,
          1,
          1,
          1,
          1,
          1,
          1,
          1,
          1,
          1,
          1,
          1,
          1,
          1,
          1,
          1,
          1,
          1,
          1,
          1,
          1,
          1,
          1,
          1,
          1,
          1,
          1,
          1,
          1,
          1,
          1,
          1,
          1,
          1,
          1,
          1,
          1,
          1,
          1,
          1,
          1,
          1,
          1,
          1,
          1,
          1,
          1,
          1,
          1,
          1,
          1,
          1,
          1,
          1,
          1,
          1,
          1,
          1,
          1,
          1,
          1,
          1,
          1,
          1,
          1,
          1,
          1,
          1,
          1,
          1,
          1,
          1,
          1,
          1,
          1,
          1,
          1,
          1,
          1,
          1,
          1,
          1,
          1,
          1,
          1,
          1,
          1,
          1,
          1,
          1,
          1,
          1,
          1,
          1,
          1,
          1,
          1,
          1,
          1,
          1,
          1,
          1,
          1,
          1,
          1,
          1,
          1,
          1,
          1,
          1,
          1,
          1,
          1,
          1
         ],
         "yaxis": "y2"
        }
       ],
       "layout": {
        "height": 600,
        "showlegend": false,
        "template": {
         "data": {
          "bar": [
           {
            "error_x": {
             "color": "#2a3f5f"
            },
            "error_y": {
             "color": "#2a3f5f"
            },
            "marker": {
             "line": {
              "color": "white",
              "width": 0.5
             },
             "pattern": {
              "fillmode": "overlay",
              "size": 10,
              "solidity": 0.2
             }
            },
            "type": "bar"
           }
          ],
          "barpolar": [
           {
            "marker": {
             "line": {
              "color": "white",
              "width": 0.5
             },
             "pattern": {
              "fillmode": "overlay",
              "size": 10,
              "solidity": 0.2
             }
            },
            "type": "barpolar"
           }
          ],
          "carpet": [
           {
            "aaxis": {
             "endlinecolor": "#2a3f5f",
             "gridcolor": "#C8D4E3",
             "linecolor": "#C8D4E3",
             "minorgridcolor": "#C8D4E3",
             "startlinecolor": "#2a3f5f"
            },
            "baxis": {
             "endlinecolor": "#2a3f5f",
             "gridcolor": "#C8D4E3",
             "linecolor": "#C8D4E3",
             "minorgridcolor": "#C8D4E3",
             "startlinecolor": "#2a3f5f"
            },
            "type": "carpet"
           }
          ],
          "choropleth": [
           {
            "colorbar": {
             "outlinewidth": 0,
             "ticks": ""
            },
            "type": "choropleth"
           }
          ],
          "contour": [
           {
            "colorbar": {
             "outlinewidth": 0,
             "ticks": ""
            },
            "colorscale": [
             [
              0,
              "#0d0887"
             ],
             [
              0.1111111111111111,
              "#46039f"
             ],
             [
              0.2222222222222222,
              "#7201a8"
             ],
             [
              0.3333333333333333,
              "#9c179e"
             ],
             [
              0.4444444444444444,
              "#bd3786"
             ],
             [
              0.5555555555555556,
              "#d8576b"
             ],
             [
              0.6666666666666666,
              "#ed7953"
             ],
             [
              0.7777777777777778,
              "#fb9f3a"
             ],
             [
              0.8888888888888888,
              "#fdca26"
             ],
             [
              1,
              "#f0f921"
             ]
            ],
            "type": "contour"
           }
          ],
          "contourcarpet": [
           {
            "colorbar": {
             "outlinewidth": 0,
             "ticks": ""
            },
            "type": "contourcarpet"
           }
          ],
          "heatmap": [
           {
            "colorbar": {
             "outlinewidth": 0,
             "ticks": ""
            },
            "colorscale": [
             [
              0,
              "#0d0887"
             ],
             [
              0.1111111111111111,
              "#46039f"
             ],
             [
              0.2222222222222222,
              "#7201a8"
             ],
             [
              0.3333333333333333,
              "#9c179e"
             ],
             [
              0.4444444444444444,
              "#bd3786"
             ],
             [
              0.5555555555555556,
              "#d8576b"
             ],
             [
              0.6666666666666666,
              "#ed7953"
             ],
             [
              0.7777777777777778,
              "#fb9f3a"
             ],
             [
              0.8888888888888888,
              "#fdca26"
             ],
             [
              1,
              "#f0f921"
             ]
            ],
            "type": "heatmap"
           }
          ],
          "heatmapgl": [
           {
            "colorbar": {
             "outlinewidth": 0,
             "ticks": ""
            },
            "colorscale": [
             [
              0,
              "#0d0887"
             ],
             [
              0.1111111111111111,
              "#46039f"
             ],
             [
              0.2222222222222222,
              "#7201a8"
             ],
             [
              0.3333333333333333,
              "#9c179e"
             ],
             [
              0.4444444444444444,
              "#bd3786"
             ],
             [
              0.5555555555555556,
              "#d8576b"
             ],
             [
              0.6666666666666666,
              "#ed7953"
             ],
             [
              0.7777777777777778,
              "#fb9f3a"
             ],
             [
              0.8888888888888888,
              "#fdca26"
             ],
             [
              1,
              "#f0f921"
             ]
            ],
            "type": "heatmapgl"
           }
          ],
          "histogram": [
           {
            "marker": {
             "pattern": {
              "fillmode": "overlay",
              "size": 10,
              "solidity": 0.2
             }
            },
            "type": "histogram"
           }
          ],
          "histogram2d": [
           {
            "colorbar": {
             "outlinewidth": 0,
             "ticks": ""
            },
            "colorscale": [
             [
              0,
              "#0d0887"
             ],
             [
              0.1111111111111111,
              "#46039f"
             ],
             [
              0.2222222222222222,
              "#7201a8"
             ],
             [
              0.3333333333333333,
              "#9c179e"
             ],
             [
              0.4444444444444444,
              "#bd3786"
             ],
             [
              0.5555555555555556,
              "#d8576b"
             ],
             [
              0.6666666666666666,
              "#ed7953"
             ],
             [
              0.7777777777777778,
              "#fb9f3a"
             ],
             [
              0.8888888888888888,
              "#fdca26"
             ],
             [
              1,
              "#f0f921"
             ]
            ],
            "type": "histogram2d"
           }
          ],
          "histogram2dcontour": [
           {
            "colorbar": {
             "outlinewidth": 0,
             "ticks": ""
            },
            "colorscale": [
             [
              0,
              "#0d0887"
             ],
             [
              0.1111111111111111,
              "#46039f"
             ],
             [
              0.2222222222222222,
              "#7201a8"
             ],
             [
              0.3333333333333333,
              "#9c179e"
             ],
             [
              0.4444444444444444,
              "#bd3786"
             ],
             [
              0.5555555555555556,
              "#d8576b"
             ],
             [
              0.6666666666666666,
              "#ed7953"
             ],
             [
              0.7777777777777778,
              "#fb9f3a"
             ],
             [
              0.8888888888888888,
              "#fdca26"
             ],
             [
              1,
              "#f0f921"
             ]
            ],
            "type": "histogram2dcontour"
           }
          ],
          "mesh3d": [
           {
            "colorbar": {
             "outlinewidth": 0,
             "ticks": ""
            },
            "type": "mesh3d"
           }
          ],
          "parcoords": [
           {
            "line": {
             "colorbar": {
              "outlinewidth": 0,
              "ticks": ""
             }
            },
            "type": "parcoords"
           }
          ],
          "pie": [
           {
            "automargin": true,
            "type": "pie"
           }
          ],
          "scatter": [
           {
            "fillpattern": {
             "fillmode": "overlay",
             "size": 10,
             "solidity": 0.2
            },
            "type": "scatter"
           }
          ],
          "scatter3d": [
           {
            "line": {
             "colorbar": {
              "outlinewidth": 0,
              "ticks": ""
             }
            },
            "marker": {
             "colorbar": {
              "outlinewidth": 0,
              "ticks": ""
             }
            },
            "type": "scatter3d"
           }
          ],
          "scattercarpet": [
           {
            "marker": {
             "colorbar": {
              "outlinewidth": 0,
              "ticks": ""
             }
            },
            "type": "scattercarpet"
           }
          ],
          "scattergeo": [
           {
            "marker": {
             "colorbar": {
              "outlinewidth": 0,
              "ticks": ""
             }
            },
            "type": "scattergeo"
           }
          ],
          "scattergl": [
           {
            "marker": {
             "colorbar": {
              "outlinewidth": 0,
              "ticks": ""
             }
            },
            "type": "scattergl"
           }
          ],
          "scattermapbox": [
           {
            "marker": {
             "colorbar": {
              "outlinewidth": 0,
              "ticks": ""
             }
            },
            "type": "scattermapbox"
           }
          ],
          "scatterpolar": [
           {
            "marker": {
             "colorbar": {
              "outlinewidth": 0,
              "ticks": ""
             }
            },
            "type": "scatterpolar"
           }
          ],
          "scatterpolargl": [
           {
            "marker": {
             "colorbar": {
              "outlinewidth": 0,
              "ticks": ""
             }
            },
            "type": "scatterpolargl"
           }
          ],
          "scatterternary": [
           {
            "marker": {
             "colorbar": {
              "outlinewidth": 0,
              "ticks": ""
             }
            },
            "type": "scatterternary"
           }
          ],
          "surface": [
           {
            "colorbar": {
             "outlinewidth": 0,
             "ticks": ""
            },
            "colorscale": [
             [
              0,
              "#0d0887"
             ],
             [
              0.1111111111111111,
              "#46039f"
             ],
             [
              0.2222222222222222,
              "#7201a8"
             ],
             [
              0.3333333333333333,
              "#9c179e"
             ],
             [
              0.4444444444444444,
              "#bd3786"
             ],
             [
              0.5555555555555556,
              "#d8576b"
             ],
             [
              0.6666666666666666,
              "#ed7953"
             ],
             [
              0.7777777777777778,
              "#fb9f3a"
             ],
             [
              0.8888888888888888,
              "#fdca26"
             ],
             [
              1,
              "#f0f921"
             ]
            ],
            "type": "surface"
           }
          ],
          "table": [
           {
            "cells": {
             "fill": {
              "color": "#EBF0F8"
             },
             "line": {
              "color": "white"
             }
            },
            "header": {
             "fill": {
              "color": "#C8D4E3"
             },
             "line": {
              "color": "white"
             }
            },
            "type": "table"
           }
          ]
         },
         "layout": {
          "annotationdefaults": {
           "arrowcolor": "#2a3f5f",
           "arrowhead": 0,
           "arrowwidth": 1
          },
          "autotypenumbers": "strict",
          "coloraxis": {
           "colorbar": {
            "outlinewidth": 0,
            "ticks": ""
           }
          },
          "colorscale": {
           "diverging": [
            [
             0,
             "#8e0152"
            ],
            [
             0.1,
             "#c51b7d"
            ],
            [
             0.2,
             "#de77ae"
            ],
            [
             0.3,
             "#f1b6da"
            ],
            [
             0.4,
             "#fde0ef"
            ],
            [
             0.5,
             "#f7f7f7"
            ],
            [
             0.6,
             "#e6f5d0"
            ],
            [
             0.7,
             "#b8e186"
            ],
            [
             0.8,
             "#7fbc41"
            ],
            [
             0.9,
             "#4d9221"
            ],
            [
             1,
             "#276419"
            ]
           ],
           "sequential": [
            [
             0,
             "#0d0887"
            ],
            [
             0.1111111111111111,
             "#46039f"
            ],
            [
             0.2222222222222222,
             "#7201a8"
            ],
            [
             0.3333333333333333,
             "#9c179e"
            ],
            [
             0.4444444444444444,
             "#bd3786"
            ],
            [
             0.5555555555555556,
             "#d8576b"
            ],
            [
             0.6666666666666666,
             "#ed7953"
            ],
            [
             0.7777777777777778,
             "#fb9f3a"
            ],
            [
             0.8888888888888888,
             "#fdca26"
            ],
            [
             1,
             "#f0f921"
            ]
           ],
           "sequentialminus": [
            [
             0,
             "#0d0887"
            ],
            [
             0.1111111111111111,
             "#46039f"
            ],
            [
             0.2222222222222222,
             "#7201a8"
            ],
            [
             0.3333333333333333,
             "#9c179e"
            ],
            [
             0.4444444444444444,
             "#bd3786"
            ],
            [
             0.5555555555555556,
             "#d8576b"
            ],
            [
             0.6666666666666666,
             "#ed7953"
            ],
            [
             0.7777777777777778,
             "#fb9f3a"
            ],
            [
             0.8888888888888888,
             "#fdca26"
            ],
            [
             1,
             "#f0f921"
            ]
           ]
          },
          "colorway": [
           "#636efa",
           "#EF553B",
           "#00cc96",
           "#ab63fa",
           "#FFA15A",
           "#19d3f3",
           "#FF6692",
           "#B6E880",
           "#FF97FF",
           "#FECB52"
          ],
          "font": {
           "color": "#2a3f5f"
          },
          "geo": {
           "bgcolor": "white",
           "lakecolor": "white",
           "landcolor": "white",
           "showlakes": true,
           "showland": true,
           "subunitcolor": "#C8D4E3"
          },
          "hoverlabel": {
           "align": "left"
          },
          "hovermode": "closest",
          "mapbox": {
           "style": "light"
          },
          "paper_bgcolor": "white",
          "plot_bgcolor": "white",
          "polar": {
           "angularaxis": {
            "gridcolor": "#EBF0F8",
            "linecolor": "#EBF0F8",
            "ticks": ""
           },
           "bgcolor": "white",
           "radialaxis": {
            "gridcolor": "#EBF0F8",
            "linecolor": "#EBF0F8",
            "ticks": ""
           }
          },
          "scene": {
           "xaxis": {
            "backgroundcolor": "white",
            "gridcolor": "#DFE8F3",
            "gridwidth": 2,
            "linecolor": "#EBF0F8",
            "showbackground": true,
            "ticks": "",
            "zerolinecolor": "#EBF0F8"
           },
           "yaxis": {
            "backgroundcolor": "white",
            "gridcolor": "#DFE8F3",
            "gridwidth": 2,
            "linecolor": "#EBF0F8",
            "showbackground": true,
            "ticks": "",
            "zerolinecolor": "#EBF0F8"
           },
           "zaxis": {
            "backgroundcolor": "white",
            "gridcolor": "#DFE8F3",
            "gridwidth": 2,
            "linecolor": "#EBF0F8",
            "showbackground": true,
            "ticks": "",
            "zerolinecolor": "#EBF0F8"
           }
          },
          "shapedefaults": {
           "line": {
            "color": "#2a3f5f"
           }
          },
          "ternary": {
           "aaxis": {
            "gridcolor": "#DFE8F3",
            "linecolor": "#A2B1C6",
            "ticks": ""
           },
           "baxis": {
            "gridcolor": "#DFE8F3",
            "linecolor": "#A2B1C6",
            "ticks": ""
           },
           "bgcolor": "white",
           "caxis": {
            "gridcolor": "#DFE8F3",
            "linecolor": "#A2B1C6",
            "ticks": ""
           }
          },
          "title": {
           "x": 0.05
          },
          "xaxis": {
           "automargin": true,
           "gridcolor": "#EBF0F8",
           "linecolor": "#EBF0F8",
           "ticks": "",
           "title": {
            "standoff": 15
           },
           "zerolinecolor": "#EBF0F8",
           "zerolinewidth": 2
          },
          "yaxis": {
           "automargin": true,
           "gridcolor": "#EBF0F8",
           "linecolor": "#EBF0F8",
           "ticks": "",
           "title": {
            "standoff": 15
           },
           "zerolinecolor": "#EBF0F8",
           "zerolinewidth": 2
          }
         }
        },
        "title": {
         "text": "PDP for feature <b>rating</b> <br><sup>Number of unique grid points: 6</sup>",
         "x": 0,
         "xref": "paper"
        },
        "width": 1200,
        "xaxis": {
         "anchor": "y",
         "domain": [
          0,
          1
         ]
        },
        "xaxis2": {
         "anchor": "y2",
         "domain": [
          0,
          1
         ],
         "showgrid": false,
         "showticklabels": false,
         "title": {
          "text": "<b>rating</b> (value)"
         }
        },
        "yaxis": {
         "anchor": "x",
         "domain": [
          0.11266666666666669,
          0.99
         ],
         "title": {
          "text": "raw"
         }
        },
        "yaxis2": {
         "anchor": "x2",
         "domain": [
          0,
          0.06266666666666665
         ],
         "showgrid": false,
         "showticklabels": false
        }
       }
      }
     },
     "metadata": {},
     "output_type": "display_data"
    }
   ],
   "source": [
    "# Plot PDP\n",
    "# Create the pdp data to be plotted\n",
    "pdp_goals = pdp.PDPIsolate(model=rf_model, df=val_x, model_features=feature_names, feature='rating', feature_name='rating')\n",
    "\n",
    "# plot the PDP for feature 'Goal Scored'\n",
    "fig, axes = pdp_goals.plot(\n",
    "    center=False,\n",
    "    plot_lines=True,\n",
    "    frac_to_plot=100,\n",
    "    cluster=False,\n",
    "    n_cluster_centers=None,\n",
    "    cluster_method='accurate',\n",
    "    plot_pts_dist=True,\n",
    "    to_bins=False,\n",
    "    show_percentile=False,\n",
    "    which_classes=None,\n",
    "    figsize=None,\n",
    "    dpi=300,\n",
    "    ncols=2,\n",
    "    plot_params={\"pdp_hl\": True},\n",
    "    engine='plotly',\n",
    "    template='plotly_white')\n",
    "\n",
    "fig.show()"
   ]
  },
  {
   "cell_type": "markdown",
   "metadata": {},
   "source": [
    "This model has similar results to the previous model. It seems like ethiopia is a  likely country of origin for the highest rated coffee beans."
   ]
  },
  {
   "cell_type": "code",
   "execution_count": 86,
   "metadata": {},
   "outputs": [
    {
     "name": "stdout",
     "output_type": "stream",
     "text": [
      "obtain pred_func from the provided model.\n"
     ]
    },
    {
     "name": "stderr",
     "output_type": "stream",
     "text": [
      "100%|██████████| 10/10 [00:00<00:00, 256.75it/s]\n"
     ]
    },
    {
     "data": {
      "application/vnd.plotly.v1+json": {
       "config": {
        "plotlyServerURL": "https://plot.ly"
       },
       "data": [
        {
         "hoverinfo": "none",
         "line": {
          "color": "rgba(193,217,237,0.5)",
          "width": 0.5
         },
         "mode": "lines",
         "type": "scatter",
         "x": [
          1.32,
          4.41,
          4.982222222222223,
          5.51,
          5.864444444444445,
          6.587777777777777,
          7.7533333333333285,
          10.58,
          20.380000000000006,
          127.87
         ],
         "xaxis": "x",
         "y": [
          0.36,
          0.7809999999999999,
          0.93,
          0.8633333333333333,
          0.6560833333333334,
          0.18,
          0.12,
          0.23,
          0.02,
          0
         ],
         "yaxis": "y"
        },
        {
         "hoverinfo": "none",
         "line": {
          "color": "rgba(177,210,231,0.5)",
          "width": 0.5
         },
         "mode": "lines",
         "type": "scatter",
         "x": [
          1.32,
          4.41,
          4.982222222222223,
          5.51,
          5.864444444444445,
          6.587777777777777,
          7.7533333333333285,
          10.58,
          20.380000000000006,
          127.87
         ],
         "xaxis": "x",
         "y": [
          0.54,
          0.5579761904761905,
          0.86,
          0.9321346153846153,
          0.3114999999999999,
          0.2826666666666665,
          0.3375,
          0.01,
          0.17783333333333334,
          0
         ],
         "yaxis": "y"
        },
        {
         "hoverinfo": "none",
         "line": {
          "color": "rgba(160,202,225,0.5)",
          "width": 0.5
         },
         "mode": "lines",
         "type": "scatter",
         "x": [
          1.32,
          4.41,
          4.982222222222223,
          5.51,
          5.864444444444445,
          6.587777777777777,
          7.7533333333333285,
          10.58,
          20.380000000000006,
          127.87
         ],
         "xaxis": "x",
         "y": [
          0.06,
          0.5164444444444444,
          1,
          0.9671666666666667,
          0.5092499999999999,
          0.6570357142857142,
          0.365,
          0,
          0.049166666666666664,
          0
         ],
         "yaxis": "y"
        },
        {
         "hoverinfo": "none",
         "line": {
          "color": "rgba(139,192,221,0.5)",
          "width": 0.5
         },
         "mode": "lines",
         "type": "scatter",
         "x": [
          1.32,
          4.41,
          4.982222222222223,
          5.51,
          5.864444444444445,
          6.587777777777777,
          7.7533333333333285,
          10.58,
          20.380000000000006,
          127.87
         ],
         "xaxis": "x",
         "y": [
          0.06,
          0.5164444444444444,
          1,
          0.9671666666666667,
          0.5092499999999999,
          0.6570357142857142,
          0.365,
          0,
          0.049166666666666664,
          0
         ],
         "yaxis": "y"
        },
        {
         "hoverinfo": "none",
         "line": {
          "color": "rgba(117,179,216,0.5)",
          "width": 0.5
         },
         "mode": "lines",
         "type": "scatter",
         "x": [
          1.32,
          4.41,
          4.982222222222223,
          5.51,
          5.864444444444445,
          6.587777777777777,
          7.7533333333333285,
          10.58,
          20.380000000000006,
          127.87
         ],
         "xaxis": "x",
         "y": [
          0.48,
          0.4772120657120658,
          0.5082094572094572,
          0.6427149321266968,
          0.3416410533910535,
          0.016430242272347535,
          0.02,
          0.07,
          0.20666666666666664,
          0.83
         ],
         "yaxis": "y"
        },
        {
         "hoverinfo": "none",
         "line": {
          "color": "rgba(98,168,210,0.5)",
          "width": 0.5
         },
         "mode": "lines",
         "type": "scatter",
         "x": [
          1.32,
          4.41,
          4.982222222222223,
          5.51,
          5.864444444444445,
          6.587777777777777,
          7.7533333333333285,
          10.58,
          20.380000000000006,
          127.87
         ],
         "xaxis": "x",
         "y": [
          0.1,
          0.01,
          0.0325,
          0.9094761904761904,
          0.1768502886002886,
          0.26666666666666666,
          0.04,
          0.05,
          0.08666666666666668,
          0.27
         ],
         "yaxis": "y"
        },
        {
         "hoverinfo": "none",
         "line": {
          "color": "rgba(80,155,203,0.5)",
          "width": 0.5
         },
         "mode": "lines",
         "type": "scatter",
         "x": [
          1.32,
          4.41,
          4.982222222222223,
          5.51,
          5.864444444444445,
          6.587777777777777,
          7.7533333333333285,
          10.58,
          20.380000000000006,
          127.87
         ],
         "xaxis": "x",
         "y": [
          0.54,
          0.5579761904761905,
          0.86,
          0.9321346153846153,
          0.3114999999999999,
          0.2826666666666665,
          0.3375,
          0.01,
          0.17783333333333334,
          0
         ],
         "yaxis": "y"
        },
        {
         "hoverinfo": "none",
         "line": {
          "color": "rgba(64,144,197,0.5)",
          "width": 0.5
         },
         "mode": "lines",
         "type": "scatter",
         "x": [
          1.32,
          4.41,
          4.982222222222223,
          5.51,
          5.864444444444445,
          6.587777777777777,
          7.7533333333333285,
          10.58,
          20.380000000000006,
          127.87
         ],
         "xaxis": "x",
         "y": [
          0.54,
          0.5579761904761905,
          0.86,
          0.9321346153846153,
          0.3114999999999999,
          0.2826666666666665,
          0.3375,
          0.01,
          0.17783333333333334,
          0
         ],
         "yaxis": "y"
        },
        {
         "hoverinfo": "none",
         "line": {
          "color": "rgba(49,129,189,0.5)",
          "width": 0.5
         },
         "mode": "lines",
         "type": "scatter",
         "x": [
          1.32,
          4.41,
          4.982222222222223,
          5.51,
          5.864444444444445,
          6.587777777777777,
          7.7533333333333285,
          10.58,
          20.380000000000006,
          127.87
         ],
         "xaxis": "x",
         "y": [
          0.54,
          0.5579761904761905,
          0.86,
          0.9321346153846153,
          0.3114999999999999,
          0.2826666666666665,
          0.3375,
          0.01,
          0.17783333333333334,
          0
         ],
         "yaxis": "y"
        },
        {
         "hoverinfo": "none",
         "line": {
          "color": "rgba(36,116,182,0.5)",
          "width": 0.5
         },
         "mode": "lines",
         "type": "scatter",
         "x": [
          1.32,
          4.41,
          4.982222222222223,
          5.51,
          5.864444444444445,
          6.587777777777777,
          7.7533333333333285,
          10.58,
          20.380000000000006,
          127.87
         ],
         "xaxis": "x",
         "y": [
          0.09,
          0.55,
          0.2403506493506492,
          0.1356468253968254,
          0.055,
          0.13083333333333333,
          0.35233333333333333,
          0,
          0.05666666666666667,
          0.22
         ],
         "yaxis": "y"
        },
        {
         "hoverinfo": "none",
         "line": {
          "color": "rgba(193,217,237,0.5)",
          "width": 0.5
         },
         "mode": "lines",
         "type": "scatter",
         "x": [
          1.32,
          4.41,
          4.982222222222223,
          5.51,
          5.864444444444445,
          6.587777777777777,
          7.7533333333333285,
          10.58,
          20.380000000000006,
          127.87
         ],
         "xaxis": "x",
         "y": [
          0.1,
          0.01,
          0.0325,
          0.9094761904761904,
          0.1768502886002886,
          0.26666666666666666,
          0.04,
          0.05,
          0.08666666666666668,
          0.27
         ],
         "yaxis": "y"
        },
        {
         "hoverinfo": "none",
         "line": {
          "color": "rgba(177,210,231,0.5)",
          "width": 0.5
         },
         "mode": "lines",
         "type": "scatter",
         "x": [
          1.32,
          4.41,
          4.982222222222223,
          5.51,
          5.864444444444445,
          6.587777777777777,
          7.7533333333333285,
          10.58,
          20.380000000000006,
          127.87
         ],
         "xaxis": "x",
         "y": [
          0.54,
          0.5579761904761905,
          0.86,
          0.9321346153846153,
          0.3114999999999999,
          0.2826666666666665,
          0.3375,
          0.01,
          0.17783333333333334,
          0
         ],
         "yaxis": "y"
        },
        {
         "hoverinfo": "none",
         "line": {
          "color": "rgba(160,202,225,0.5)",
          "width": 0.5
         },
         "mode": "lines",
         "type": "scatter",
         "x": [
          1.32,
          4.41,
          4.982222222222223,
          5.51,
          5.864444444444445,
          6.587777777777777,
          7.7533333333333285,
          10.58,
          20.380000000000006,
          127.87
         ],
         "xaxis": "x",
         "y": [
          0.1,
          0.01,
          0.0325,
          0.9094761904761904,
          0.1768502886002886,
          0.26666666666666666,
          0.04,
          0.05,
          0.08666666666666668,
          0.27
         ],
         "yaxis": "y"
        },
        {
         "hoverinfo": "none",
         "line": {
          "color": "rgba(139,192,221,0.5)",
          "width": 0.5
         },
         "mode": "lines",
         "type": "scatter",
         "x": [
          1.32,
          4.41,
          4.982222222222223,
          5.51,
          5.864444444444445,
          6.587777777777777,
          7.7533333333333285,
          10.58,
          20.380000000000006,
          127.87
         ],
         "xaxis": "x",
         "y": [
          0.48,
          0.4772120657120658,
          0.5082094572094572,
          0.6427149321266968,
          0.3416410533910535,
          0.016430242272347535,
          0.02,
          0.07,
          0.20666666666666664,
          0.83
         ],
         "yaxis": "y"
        },
        {
         "hoverinfo": "none",
         "line": {
          "color": "rgba(117,179,216,0.5)",
          "width": 0.5
         },
         "mode": "lines",
         "type": "scatter",
         "x": [
          1.32,
          4.41,
          4.982222222222223,
          5.51,
          5.864444444444445,
          6.587777777777777,
          7.7533333333333285,
          10.58,
          20.380000000000006,
          127.87
         ],
         "xaxis": "x",
         "y": [
          0.54,
          0.5579761904761905,
          0.86,
          0.9321346153846153,
          0.3114999999999999,
          0.2826666666666665,
          0.3375,
          0.01,
          0.17783333333333334,
          0
         ],
         "yaxis": "y"
        },
        {
         "hoverinfo": "none",
         "line": {
          "color": "rgba(98,168,210,0.5)",
          "width": 0.5
         },
         "mode": "lines",
         "type": "scatter",
         "x": [
          1.32,
          4.41,
          4.982222222222223,
          5.51,
          5.864444444444445,
          6.587777777777777,
          7.7533333333333285,
          10.58,
          20.380000000000006,
          127.87
         ],
         "xaxis": "x",
         "y": [
          0.36,
          0.7809999999999999,
          0.93,
          0.8633333333333333,
          0.6560833333333334,
          0.18,
          0.12,
          0.23,
          0.02,
          0
         ],
         "yaxis": "y"
        },
        {
         "hoverinfo": "none",
         "line": {
          "color": "rgba(80,155,203,0.5)",
          "width": 0.5
         },
         "mode": "lines",
         "type": "scatter",
         "x": [
          1.32,
          4.41,
          4.982222222222223,
          5.51,
          5.864444444444445,
          6.587777777777777,
          7.7533333333333285,
          10.58,
          20.380000000000006,
          127.87
         ],
         "xaxis": "x",
         "y": [
          0.09,
          0.55,
          0.2403506493506492,
          0.1356468253968254,
          0.055,
          0.13083333333333333,
          0.35233333333333333,
          0,
          0.05666666666666667,
          0.22
         ],
         "yaxis": "y"
        },
        {
         "hoverinfo": "none",
         "line": {
          "color": "rgba(64,144,197,0.5)",
          "width": 0.5
         },
         "mode": "lines",
         "type": "scatter",
         "x": [
          1.32,
          4.41,
          4.982222222222223,
          5.51,
          5.864444444444445,
          6.587777777777777,
          7.7533333333333285,
          10.58,
          20.380000000000006,
          127.87
         ],
         "xaxis": "x",
         "y": [
          0.48,
          0.4772120657120658,
          0.5082094572094572,
          0.6427149321266968,
          0.3416410533910535,
          0.016430242272347535,
          0.02,
          0.07,
          0.20666666666666664,
          0.83
         ],
         "yaxis": "y"
        },
        {
         "hoverinfo": "none",
         "line": {
          "color": "rgba(49,129,189,0.5)",
          "width": 0.5
         },
         "mode": "lines",
         "type": "scatter",
         "x": [
          1.32,
          4.41,
          4.982222222222223,
          5.51,
          5.864444444444445,
          6.587777777777777,
          7.7533333333333285,
          10.58,
          20.380000000000006,
          127.87
         ],
         "xaxis": "x",
         "y": [
          0.06,
          0.5164444444444444,
          1,
          0.9671666666666667,
          0.5092499999999999,
          0.6570357142857142,
          0.365,
          0,
          0.049166666666666664,
          0
         ],
         "yaxis": "y"
        },
        {
         "hoverinfo": "none",
         "line": {
          "color": "rgba(36,116,182,0.5)",
          "width": 0.5
         },
         "mode": "lines",
         "type": "scatter",
         "x": [
          1.32,
          4.41,
          4.982222222222223,
          5.51,
          5.864444444444445,
          6.587777777777777,
          7.7533333333333285,
          10.58,
          20.380000000000006,
          127.87
         ],
         "xaxis": "x",
         "y": [
          0.06,
          0.5164444444444444,
          1,
          0.9671666666666667,
          0.5092499999999999,
          0.6570357142857142,
          0.365,
          0,
          0.049166666666666664,
          0
         ],
         "yaxis": "y"
        },
        {
         "hoverinfo": "none",
         "line": {
          "color": "rgba(193,217,237,0.5)",
          "width": 0.5
         },
         "mode": "lines",
         "type": "scatter",
         "x": [
          1.32,
          4.41,
          4.982222222222223,
          5.51,
          5.864444444444445,
          6.587777777777777,
          7.7533333333333285,
          10.58,
          20.380000000000006,
          127.87
         ],
         "xaxis": "x",
         "y": [
          0.09,
          0.55,
          0.2403506493506492,
          0.1356468253968254,
          0.055,
          0.13083333333333333,
          0.35233333333333333,
          0,
          0.05666666666666667,
          0.22
         ],
         "yaxis": "y"
        },
        {
         "hoverinfo": "none",
         "line": {
          "color": "rgba(177,210,231,0.5)",
          "width": 0.5
         },
         "mode": "lines",
         "type": "scatter",
         "x": [
          1.32,
          4.41,
          4.982222222222223,
          5.51,
          5.864444444444445,
          6.587777777777777,
          7.7533333333333285,
          10.58,
          20.380000000000006,
          127.87
         ],
         "xaxis": "x",
         "y": [
          0.06,
          0.5164444444444444,
          1,
          0.9671666666666667,
          0.5092499999999999,
          0.6570357142857142,
          0.365,
          0,
          0.049166666666666664,
          0
         ],
         "yaxis": "y"
        },
        {
         "hoverinfo": "none",
         "line": {
          "color": "rgba(160,202,225,0.5)",
          "width": 0.5
         },
         "mode": "lines",
         "type": "scatter",
         "x": [
          1.32,
          4.41,
          4.982222222222223,
          5.51,
          5.864444444444445,
          6.587777777777777,
          7.7533333333333285,
          10.58,
          20.380000000000006,
          127.87
         ],
         "xaxis": "x",
         "y": [
          0.54,
          0.5579761904761905,
          0.86,
          0.9321346153846153,
          0.3114999999999999,
          0.2826666666666665,
          0.3375,
          0.01,
          0.17783333333333334,
          0
         ],
         "yaxis": "y"
        },
        {
         "hoverinfo": "none",
         "line": {
          "color": "rgba(139,192,221,0.5)",
          "width": 0.5
         },
         "mode": "lines",
         "type": "scatter",
         "x": [
          1.32,
          4.41,
          4.982222222222223,
          5.51,
          5.864444444444445,
          6.587777777777777,
          7.7533333333333285,
          10.58,
          20.380000000000006,
          127.87
         ],
         "xaxis": "x",
         "y": [
          0.48,
          0.4772120657120658,
          0.5082094572094572,
          0.6427149321266968,
          0.3416410533910535,
          0.016430242272347535,
          0.02,
          0.07,
          0.20666666666666664,
          0.83
         ],
         "yaxis": "y"
        },
        {
         "hoverinfo": "none",
         "line": {
          "color": "rgba(117,179,216,0.5)",
          "width": 0.5
         },
         "mode": "lines",
         "type": "scatter",
         "x": [
          1.32,
          4.41,
          4.982222222222223,
          5.51,
          5.864444444444445,
          6.587777777777777,
          7.7533333333333285,
          10.58,
          20.380000000000006,
          127.87
         ],
         "xaxis": "x",
         "y": [
          0.09,
          0.55,
          0.2403506493506492,
          0.1356468253968254,
          0.055,
          0.13083333333333333,
          0.35233333333333333,
          0,
          0.05666666666666667,
          0.22
         ],
         "yaxis": "y"
        },
        {
         "hoverinfo": "none",
         "line": {
          "color": "rgba(98,168,210,0.5)",
          "width": 0.5
         },
         "mode": "lines",
         "type": "scatter",
         "x": [
          1.32,
          4.41,
          4.982222222222223,
          5.51,
          5.864444444444445,
          6.587777777777777,
          7.7533333333333285,
          10.58,
          20.380000000000006,
          127.87
         ],
         "xaxis": "x",
         "y": [
          0.48,
          0.4772120657120658,
          0.5082094572094572,
          0.6427149321266968,
          0.3416410533910535,
          0.016430242272347535,
          0.02,
          0.07,
          0.20666666666666664,
          0.83
         ],
         "yaxis": "y"
        },
        {
         "hoverinfo": "none",
         "line": {
          "color": "rgba(80,155,203,0.5)",
          "width": 0.5
         },
         "mode": "lines",
         "type": "scatter",
         "x": [
          1.32,
          4.41,
          4.982222222222223,
          5.51,
          5.864444444444445,
          6.587777777777777,
          7.7533333333333285,
          10.58,
          20.380000000000006,
          127.87
         ],
         "xaxis": "x",
         "y": [
          0.06,
          0.5164444444444444,
          1,
          0.9671666666666667,
          0.5092499999999999,
          0.6570357142857142,
          0.365,
          0,
          0.049166666666666664,
          0
         ],
         "yaxis": "y"
        },
        {
         "hoverinfo": "none",
         "line": {
          "color": "rgba(64,144,197,0.5)",
          "width": 0.5
         },
         "mode": "lines",
         "type": "scatter",
         "x": [
          1.32,
          4.41,
          4.982222222222223,
          5.51,
          5.864444444444445,
          6.587777777777777,
          7.7533333333333285,
          10.58,
          20.380000000000006,
          127.87
         ],
         "xaxis": "x",
         "y": [
          0.41,
          0.05,
          0,
          0.62,
          0.7458333333333332,
          0.73,
          0.78,
          0.09,
          0.23666666666666664,
          0.34
         ],
         "yaxis": "y"
        },
        {
         "hoverinfo": "none",
         "line": {
          "color": "rgba(49,129,189,0.5)",
          "width": 0.5
         },
         "mode": "lines",
         "type": "scatter",
         "x": [
          1.32,
          4.41,
          4.982222222222223,
          5.51,
          5.864444444444445,
          6.587777777777777,
          7.7533333333333285,
          10.58,
          20.380000000000006,
          127.87
         ],
         "xaxis": "x",
         "y": [
          0.48,
          0.4772120657120658,
          0.5082094572094572,
          0.6427149321266968,
          0.3416410533910535,
          0.016430242272347535,
          0.02,
          0.07,
          0.20666666666666664,
          0.83
         ],
         "yaxis": "y"
        },
        {
         "hoverinfo": "none",
         "line": {
          "color": "rgba(36,116,182,0.5)",
          "width": 0.5
         },
         "mode": "lines",
         "type": "scatter",
         "x": [
          1.32,
          4.41,
          4.982222222222223,
          5.51,
          5.864444444444445,
          6.587777777777777,
          7.7533333333333285,
          10.58,
          20.380000000000006,
          127.87
         ],
         "xaxis": "x",
         "y": [
          0.1,
          0.01,
          0.0325,
          0.9094761904761904,
          0.1768502886002886,
          0.26666666666666666,
          0.04,
          0.05,
          0.08666666666666668,
          0.27
         ],
         "yaxis": "y"
        },
        {
         "hoverinfo": "none",
         "line": {
          "color": "rgba(193,217,237,0.5)",
          "width": 0.5
         },
         "mode": "lines",
         "type": "scatter",
         "x": [
          1.32,
          4.41,
          4.982222222222223,
          5.51,
          5.864444444444445,
          6.587777777777777,
          7.7533333333333285,
          10.58,
          20.380000000000006,
          127.87
         ],
         "xaxis": "x",
         "y": [
          0.06,
          0.5164444444444444,
          1,
          0.9671666666666667,
          0.5092499999999999,
          0.6570357142857142,
          0.365,
          0,
          0.049166666666666664,
          0
         ],
         "yaxis": "y"
        },
        {
         "hoverinfo": "none",
         "line": {
          "color": "rgba(177,210,231,0.5)",
          "width": 0.5
         },
         "mode": "lines",
         "type": "scatter",
         "x": [
          1.32,
          4.41,
          4.982222222222223,
          5.51,
          5.864444444444445,
          6.587777777777777,
          7.7533333333333285,
          10.58,
          20.380000000000006,
          127.87
         ],
         "xaxis": "x",
         "y": [
          0.09,
          0.55,
          0.2403506493506492,
          0.1356468253968254,
          0.055,
          0.13083333333333333,
          0.35233333333333333,
          0,
          0.05666666666666667,
          0.22
         ],
         "yaxis": "y"
        },
        {
         "hoverinfo": "none",
         "line": {
          "color": "rgba(160,202,225,0.5)",
          "width": 0.5
         },
         "mode": "lines",
         "type": "scatter",
         "x": [
          1.32,
          4.41,
          4.982222222222223,
          5.51,
          5.864444444444445,
          6.587777777777777,
          7.7533333333333285,
          10.58,
          20.380000000000006,
          127.87
         ],
         "xaxis": "x",
         "y": [
          0.54,
          0.5579761904761905,
          0.86,
          0.9321346153846153,
          0.3114999999999999,
          0.2826666666666665,
          0.3375,
          0.01,
          0.17783333333333334,
          0
         ],
         "yaxis": "y"
        },
        {
         "hoverinfo": "none",
         "line": {
          "color": "rgba(139,192,221,0.5)",
          "width": 0.5
         },
         "mode": "lines",
         "type": "scatter",
         "x": [
          1.32,
          4.41,
          4.982222222222223,
          5.51,
          5.864444444444445,
          6.587777777777777,
          7.7533333333333285,
          10.58,
          20.380000000000006,
          127.87
         ],
         "xaxis": "x",
         "y": [
          0.48,
          0.4772120657120658,
          0.5082094572094572,
          0.6427149321266968,
          0.3416410533910535,
          0.016430242272347535,
          0.02,
          0.07,
          0.20666666666666664,
          0.83
         ],
         "yaxis": "y"
        },
        {
         "hoverinfo": "none",
         "line": {
          "color": "rgba(117,179,216,0.5)",
          "width": 0.5
         },
         "mode": "lines",
         "type": "scatter",
         "x": [
          1.32,
          4.41,
          4.982222222222223,
          5.51,
          5.864444444444445,
          6.587777777777777,
          7.7533333333333285,
          10.58,
          20.380000000000006,
          127.87
         ],
         "xaxis": "x",
         "y": [
          0.48,
          0.4772120657120658,
          0.5082094572094572,
          0.6427149321266968,
          0.3416410533910535,
          0.016430242272347535,
          0.02,
          0.07,
          0.20666666666666664,
          0.83
         ],
         "yaxis": "y"
        },
        {
         "hoverinfo": "none",
         "line": {
          "color": "rgba(98,168,210,0.5)",
          "width": 0.5
         },
         "mode": "lines",
         "type": "scatter",
         "x": [
          1.32,
          4.41,
          4.982222222222223,
          5.51,
          5.864444444444445,
          6.587777777777777,
          7.7533333333333285,
          10.58,
          20.380000000000006,
          127.87
         ],
         "xaxis": "x",
         "y": [
          0.48,
          0.4772120657120658,
          0.5082094572094572,
          0.6427149321266968,
          0.3416410533910535,
          0.016430242272347535,
          0.02,
          0.07,
          0.20666666666666664,
          0.83
         ],
         "yaxis": "y"
        },
        {
         "hoverinfo": "none",
         "line": {
          "color": "rgba(80,155,203,0.5)",
          "width": 0.5
         },
         "mode": "lines",
         "type": "scatter",
         "x": [
          1.32,
          4.41,
          4.982222222222223,
          5.51,
          5.864444444444445,
          6.587777777777777,
          7.7533333333333285,
          10.58,
          20.380000000000006,
          127.87
         ],
         "xaxis": "x",
         "y": [
          0.06,
          0.5164444444444444,
          1,
          0.9671666666666667,
          0.5092499999999999,
          0.6570357142857142,
          0.365,
          0,
          0.049166666666666664,
          0
         ],
         "yaxis": "y"
        },
        {
         "hoverinfo": "none",
         "line": {
          "color": "rgba(64,144,197,0.5)",
          "width": 0.5
         },
         "mode": "lines",
         "type": "scatter",
         "x": [
          1.32,
          4.41,
          4.982222222222223,
          5.51,
          5.864444444444445,
          6.587777777777777,
          7.7533333333333285,
          10.58,
          20.380000000000006,
          127.87
         ],
         "xaxis": "x",
         "y": [
          0.54,
          0.5579761904761905,
          0.86,
          0.9321346153846153,
          0.3114999999999999,
          0.2826666666666665,
          0.3375,
          0.01,
          0.17783333333333334,
          0
         ],
         "yaxis": "y"
        },
        {
         "hoverinfo": "none",
         "line": {
          "color": "rgba(49,129,189,0.5)",
          "width": 0.5
         },
         "mode": "lines",
         "type": "scatter",
         "x": [
          1.32,
          4.41,
          4.982222222222223,
          5.51,
          5.864444444444445,
          6.587777777777777,
          7.7533333333333285,
          10.58,
          20.380000000000006,
          127.87
         ],
         "xaxis": "x",
         "y": [
          0.54,
          0.5579761904761905,
          0.86,
          0.9321346153846153,
          0.3114999999999999,
          0.2826666666666665,
          0.3375,
          0.01,
          0.17783333333333334,
          0
         ],
         "yaxis": "y"
        },
        {
         "hoverinfo": "none",
         "line": {
          "color": "rgba(36,116,182,0.5)",
          "width": 0.5
         },
         "mode": "lines",
         "type": "scatter",
         "x": [
          1.32,
          4.41,
          4.982222222222223,
          5.51,
          5.864444444444445,
          6.587777777777777,
          7.7533333333333285,
          10.58,
          20.380000000000006,
          127.87
         ],
         "xaxis": "x",
         "y": [
          0.1,
          0.01,
          0.0325,
          0.9094761904761904,
          0.1768502886002886,
          0.26666666666666666,
          0.04,
          0.05,
          0.08666666666666668,
          0.27
         ],
         "yaxis": "y"
        },
        {
         "hoverinfo": "none",
         "line": {
          "color": "rgba(193,217,237,0.5)",
          "width": 0.5
         },
         "mode": "lines",
         "type": "scatter",
         "x": [
          1.32,
          4.41,
          4.982222222222223,
          5.51,
          5.864444444444445,
          6.587777777777777,
          7.7533333333333285,
          10.58,
          20.380000000000006,
          127.87
         ],
         "xaxis": "x",
         "y": [
          0.09,
          0.55,
          0.2403506493506492,
          0.1356468253968254,
          0.055,
          0.13083333333333333,
          0.35233333333333333,
          0,
          0.05666666666666667,
          0.22
         ],
         "yaxis": "y"
        },
        {
         "hoverinfo": "none",
         "line": {
          "color": "rgba(177,210,231,0.5)",
          "width": 0.5
         },
         "mode": "lines",
         "type": "scatter",
         "x": [
          1.32,
          4.41,
          4.982222222222223,
          5.51,
          5.864444444444445,
          6.587777777777777,
          7.7533333333333285,
          10.58,
          20.380000000000006,
          127.87
         ],
         "xaxis": "x",
         "y": [
          0.54,
          0.5579761904761905,
          0.86,
          0.9321346153846153,
          0.3114999999999999,
          0.2826666666666665,
          0.3375,
          0.01,
          0.17783333333333334,
          0
         ],
         "yaxis": "y"
        },
        {
         "hoverinfo": "none",
         "line": {
          "color": "rgba(160,202,225,0.5)",
          "width": 0.5
         },
         "mode": "lines",
         "type": "scatter",
         "x": [
          1.32,
          4.41,
          4.982222222222223,
          5.51,
          5.864444444444445,
          6.587777777777777,
          7.7533333333333285,
          10.58,
          20.380000000000006,
          127.87
         ],
         "xaxis": "x",
         "y": [
          0.48,
          0.4772120657120658,
          0.5082094572094572,
          0.6427149321266968,
          0.3416410533910535,
          0.016430242272347535,
          0.02,
          0.07,
          0.20666666666666664,
          0.83
         ],
         "yaxis": "y"
        },
        {
         "hoverinfo": "none",
         "line": {
          "color": "rgba(139,192,221,0.5)",
          "width": 0.5
         },
         "mode": "lines",
         "type": "scatter",
         "x": [
          1.32,
          4.41,
          4.982222222222223,
          5.51,
          5.864444444444445,
          6.587777777777777,
          7.7533333333333285,
          10.58,
          20.380000000000006,
          127.87
         ],
         "xaxis": "x",
         "y": [
          0.54,
          0.5579761904761905,
          0.86,
          0.9321346153846153,
          0.3114999999999999,
          0.2826666666666665,
          0.3375,
          0.01,
          0.17783333333333334,
          0
         ],
         "yaxis": "y"
        },
        {
         "hoverinfo": "none",
         "line": {
          "color": "rgba(117,179,216,0.5)",
          "width": 0.5
         },
         "mode": "lines",
         "type": "scatter",
         "x": [
          1.32,
          4.41,
          4.982222222222223,
          5.51,
          5.864444444444445,
          6.587777777777777,
          7.7533333333333285,
          10.58,
          20.380000000000006,
          127.87
         ],
         "xaxis": "x",
         "y": [
          0.48,
          0.4772120657120658,
          0.5082094572094572,
          0.6427149321266968,
          0.3416410533910535,
          0.016430242272347535,
          0.02,
          0.07,
          0.20666666666666664,
          0.83
         ],
         "yaxis": "y"
        },
        {
         "hoverinfo": "none",
         "line": {
          "color": "rgba(98,168,210,0.5)",
          "width": 0.5
         },
         "mode": "lines",
         "type": "scatter",
         "x": [
          1.32,
          4.41,
          4.982222222222223,
          5.51,
          5.864444444444445,
          6.587777777777777,
          7.7533333333333285,
          10.58,
          20.380000000000006,
          127.87
         ],
         "xaxis": "x",
         "y": [
          0.54,
          0.5579761904761905,
          0.86,
          0.9321346153846153,
          0.3114999999999999,
          0.2826666666666665,
          0.3375,
          0.01,
          0.17783333333333334,
          0
         ],
         "yaxis": "y"
        },
        {
         "hoverinfo": "none",
         "line": {
          "color": "rgba(80,155,203,0.5)",
          "width": 0.5
         },
         "mode": "lines",
         "type": "scatter",
         "x": [
          1.32,
          4.41,
          4.982222222222223,
          5.51,
          5.864444444444445,
          6.587777777777777,
          7.7533333333333285,
          10.58,
          20.380000000000006,
          127.87
         ],
         "xaxis": "x",
         "y": [
          0.06,
          0.5164444444444444,
          1,
          0.9671666666666667,
          0.5092499999999999,
          0.6570357142857142,
          0.365,
          0,
          0.049166666666666664,
          0
         ],
         "yaxis": "y"
        },
        {
         "hoverinfo": "none",
         "line": {
          "color": "rgba(64,144,197,0.5)",
          "width": 0.5
         },
         "mode": "lines",
         "type": "scatter",
         "x": [
          1.32,
          4.41,
          4.982222222222223,
          5.51,
          5.864444444444445,
          6.587777777777777,
          7.7533333333333285,
          10.58,
          20.380000000000006,
          127.87
         ],
         "xaxis": "x",
         "y": [
          0.09,
          0.55,
          0.2403506493506492,
          0.1356468253968254,
          0.055,
          0.13083333333333333,
          0.35233333333333333,
          0,
          0.05666666666666667,
          0.22
         ],
         "yaxis": "y"
        },
        {
         "hoverinfo": "none",
         "line": {
          "color": "rgba(49,129,189,0.5)",
          "width": 0.5
         },
         "mode": "lines",
         "type": "scatter",
         "x": [
          1.32,
          4.41,
          4.982222222222223,
          5.51,
          5.864444444444445,
          6.587777777777777,
          7.7533333333333285,
          10.58,
          20.380000000000006,
          127.87
         ],
         "xaxis": "x",
         "y": [
          0.48,
          0.4772120657120658,
          0.5082094572094572,
          0.6427149321266968,
          0.3416410533910535,
          0.016430242272347535,
          0.02,
          0.07,
          0.20666666666666664,
          0.83
         ],
         "yaxis": "y"
        },
        {
         "hoverinfo": "none",
         "line": {
          "color": "rgba(36,116,182,0.5)",
          "width": 0.5
         },
         "mode": "lines",
         "type": "scatter",
         "x": [
          1.32,
          4.41,
          4.982222222222223,
          5.51,
          5.864444444444445,
          6.587777777777777,
          7.7533333333333285,
          10.58,
          20.380000000000006,
          127.87
         ],
         "xaxis": "x",
         "y": [
          0.09,
          0.55,
          0.2403506493506492,
          0.1356468253968254,
          0.055,
          0.13083333333333333,
          0.35233333333333333,
          0,
          0.05666666666666667,
          0.22
         ],
         "yaxis": "y"
        },
        {
         "hoverinfo": "none",
         "line": {
          "color": "rgba(193,217,237,0.5)",
          "width": 0.5
         },
         "mode": "lines",
         "type": "scatter",
         "x": [
          1.32,
          4.41,
          4.982222222222223,
          5.51,
          5.864444444444445,
          6.587777777777777,
          7.7533333333333285,
          10.58,
          20.380000000000006,
          127.87
         ],
         "xaxis": "x",
         "y": [
          0.36,
          0.7809999999999999,
          0.93,
          0.8633333333333333,
          0.6560833333333334,
          0.18,
          0.12,
          0.23,
          0.02,
          0
         ],
         "yaxis": "y"
        },
        {
         "hoverinfo": "none",
         "line": {
          "color": "rgba(177,210,231,0.5)",
          "width": 0.5
         },
         "mode": "lines",
         "type": "scatter",
         "x": [
          1.32,
          4.41,
          4.982222222222223,
          5.51,
          5.864444444444445,
          6.587777777777777,
          7.7533333333333285,
          10.58,
          20.380000000000006,
          127.87
         ],
         "xaxis": "x",
         "y": [
          0.48,
          0.4772120657120658,
          0.5082094572094572,
          0.6427149321266968,
          0.3416410533910535,
          0.016430242272347535,
          0.02,
          0.07,
          0.20666666666666664,
          0.83
         ],
         "yaxis": "y"
        },
        {
         "hoverinfo": "none",
         "line": {
          "color": "rgba(160,202,225,0.5)",
          "width": 0.5
         },
         "mode": "lines",
         "type": "scatter",
         "x": [
          1.32,
          4.41,
          4.982222222222223,
          5.51,
          5.864444444444445,
          6.587777777777777,
          7.7533333333333285,
          10.58,
          20.380000000000006,
          127.87
         ],
         "xaxis": "x",
         "y": [
          0.48,
          0.4772120657120658,
          0.5082094572094572,
          0.6427149321266968,
          0.3416410533910535,
          0.016430242272347535,
          0.02,
          0.07,
          0.20666666666666664,
          0.83
         ],
         "yaxis": "y"
        },
        {
         "hoverinfo": "none",
         "line": {
          "color": "rgba(139,192,221,0.5)",
          "width": 0.5
         },
         "mode": "lines",
         "type": "scatter",
         "x": [
          1.32,
          4.41,
          4.982222222222223,
          5.51,
          5.864444444444445,
          6.587777777777777,
          7.7533333333333285,
          10.58,
          20.380000000000006,
          127.87
         ],
         "xaxis": "x",
         "y": [
          0.54,
          0.5579761904761905,
          0.86,
          0.9321346153846153,
          0.3114999999999999,
          0.2826666666666665,
          0.3375,
          0.01,
          0.17783333333333334,
          0
         ],
         "yaxis": "y"
        },
        {
         "hoverinfo": "none",
         "line": {
          "color": "rgba(117,179,216,0.5)",
          "width": 0.5
         },
         "mode": "lines",
         "type": "scatter",
         "x": [
          1.32,
          4.41,
          4.982222222222223,
          5.51,
          5.864444444444445,
          6.587777777777777,
          7.7533333333333285,
          10.58,
          20.380000000000006,
          127.87
         ],
         "xaxis": "x",
         "y": [
          0.09,
          0.55,
          0.2403506493506492,
          0.1356468253968254,
          0.055,
          0.13083333333333333,
          0.35233333333333333,
          0,
          0.05666666666666667,
          0.22
         ],
         "yaxis": "y"
        },
        {
         "hoverinfo": "none",
         "line": {
          "color": "rgba(98,168,210,0.5)",
          "width": 0.5
         },
         "mode": "lines",
         "type": "scatter",
         "x": [
          1.32,
          4.41,
          4.982222222222223,
          5.51,
          5.864444444444445,
          6.587777777777777,
          7.7533333333333285,
          10.58,
          20.380000000000006,
          127.87
         ],
         "xaxis": "x",
         "y": [
          0.1,
          0.01,
          0.0325,
          0.9094761904761904,
          0.1768502886002886,
          0.26666666666666666,
          0.04,
          0.05,
          0.08666666666666668,
          0.27
         ],
         "yaxis": "y"
        },
        {
         "hoverinfo": "none",
         "line": {
          "color": "rgba(80,155,203,0.5)",
          "width": 0.5
         },
         "mode": "lines",
         "type": "scatter",
         "x": [
          1.32,
          4.41,
          4.982222222222223,
          5.51,
          5.864444444444445,
          6.587777777777777,
          7.7533333333333285,
          10.58,
          20.380000000000006,
          127.87
         ],
         "xaxis": "x",
         "y": [
          0.06,
          0.5164444444444444,
          1,
          0.9671666666666667,
          0.5092499999999999,
          0.6570357142857142,
          0.365,
          0,
          0.049166666666666664,
          0
         ],
         "yaxis": "y"
        },
        {
         "hoverinfo": "none",
         "line": {
          "color": "rgba(64,144,197,0.5)",
          "width": 0.5
         },
         "mode": "lines",
         "type": "scatter",
         "x": [
          1.32,
          4.41,
          4.982222222222223,
          5.51,
          5.864444444444445,
          6.587777777777777,
          7.7533333333333285,
          10.58,
          20.380000000000006,
          127.87
         ],
         "xaxis": "x",
         "y": [
          0.48,
          0.4772120657120658,
          0.5082094572094572,
          0.6427149321266968,
          0.3416410533910535,
          0.016430242272347535,
          0.02,
          0.07,
          0.20666666666666664,
          0.83
         ],
         "yaxis": "y"
        },
        {
         "hoverinfo": "none",
         "line": {
          "color": "rgba(49,129,189,0.5)",
          "width": 0.5
         },
         "mode": "lines",
         "type": "scatter",
         "x": [
          1.32,
          4.41,
          4.982222222222223,
          5.51,
          5.864444444444445,
          6.587777777777777,
          7.7533333333333285,
          10.58,
          20.380000000000006,
          127.87
         ],
         "xaxis": "x",
         "y": [
          0.54,
          0.5579761904761905,
          0.86,
          0.9321346153846153,
          0.3114999999999999,
          0.2826666666666665,
          0.3375,
          0.01,
          0.17783333333333334,
          0
         ],
         "yaxis": "y"
        },
        {
         "hoverinfo": "none",
         "line": {
          "color": "rgba(36,116,182,0.5)",
          "width": 0.5
         },
         "mode": "lines",
         "type": "scatter",
         "x": [
          1.32,
          4.41,
          4.982222222222223,
          5.51,
          5.864444444444445,
          6.587777777777777,
          7.7533333333333285,
          10.58,
          20.380000000000006,
          127.87
         ],
         "xaxis": "x",
         "y": [
          0.54,
          0.5579761904761905,
          0.86,
          0.9321346153846153,
          0.3114999999999999,
          0.2826666666666665,
          0.3375,
          0.01,
          0.17783333333333334,
          0
         ],
         "yaxis": "y"
        },
        {
         "hoverinfo": "none",
         "line": {
          "color": "rgba(193,217,237,0.5)",
          "width": 0.5
         },
         "mode": "lines",
         "type": "scatter",
         "x": [
          1.32,
          4.41,
          4.982222222222223,
          5.51,
          5.864444444444445,
          6.587777777777777,
          7.7533333333333285,
          10.58,
          20.380000000000006,
          127.87
         ],
         "xaxis": "x",
         "y": [
          0.48,
          0.4772120657120658,
          0.5082094572094572,
          0.6427149321266968,
          0.3416410533910535,
          0.016430242272347535,
          0.02,
          0.07,
          0.20666666666666664,
          0.83
         ],
         "yaxis": "y"
        },
        {
         "hoverinfo": "none",
         "line": {
          "color": "rgba(177,210,231,0.5)",
          "width": 0.5
         },
         "mode": "lines",
         "type": "scatter",
         "x": [
          1.32,
          4.41,
          4.982222222222223,
          5.51,
          5.864444444444445,
          6.587777777777777,
          7.7533333333333285,
          10.58,
          20.380000000000006,
          127.87
         ],
         "xaxis": "x",
         "y": [
          0.54,
          0.5579761904761905,
          0.86,
          0.9321346153846153,
          0.3114999999999999,
          0.2826666666666665,
          0.3375,
          0.01,
          0.17783333333333334,
          0
         ],
         "yaxis": "y"
        },
        {
         "hoverinfo": "none",
         "line": {
          "color": "rgba(160,202,225,0.5)",
          "width": 0.5
         },
         "mode": "lines",
         "type": "scatter",
         "x": [
          1.32,
          4.41,
          4.982222222222223,
          5.51,
          5.864444444444445,
          6.587777777777777,
          7.7533333333333285,
          10.58,
          20.380000000000006,
          127.87
         ],
         "xaxis": "x",
         "y": [
          0.06,
          0.5164444444444444,
          1,
          0.9671666666666667,
          0.5092499999999999,
          0.6570357142857142,
          0.365,
          0,
          0.049166666666666664,
          0
         ],
         "yaxis": "y"
        },
        {
         "hoverinfo": "none",
         "line": {
          "color": "rgba(139,192,221,0.5)",
          "width": 0.5
         },
         "mode": "lines",
         "type": "scatter",
         "x": [
          1.32,
          4.41,
          4.982222222222223,
          5.51,
          5.864444444444445,
          6.587777777777777,
          7.7533333333333285,
          10.58,
          20.380000000000006,
          127.87
         ],
         "xaxis": "x",
         "y": [
          0.54,
          0.5579761904761905,
          0.86,
          0.9321346153846153,
          0.3114999999999999,
          0.2826666666666665,
          0.3375,
          0.01,
          0.17783333333333334,
          0
         ],
         "yaxis": "y"
        },
        {
         "hoverinfo": "none",
         "line": {
          "color": "rgba(117,179,216,0.5)",
          "width": 0.5
         },
         "mode": "lines",
         "type": "scatter",
         "x": [
          1.32,
          4.41,
          4.982222222222223,
          5.51,
          5.864444444444445,
          6.587777777777777,
          7.7533333333333285,
          10.58,
          20.380000000000006,
          127.87
         ],
         "xaxis": "x",
         "y": [
          0.09,
          0.55,
          0.2403506493506492,
          0.1356468253968254,
          0.055,
          0.13083333333333333,
          0.35233333333333333,
          0,
          0.05666666666666667,
          0.22
         ],
         "yaxis": "y"
        },
        {
         "hoverinfo": "none",
         "line": {
          "color": "rgba(98,168,210,0.5)",
          "width": 0.5
         },
         "mode": "lines",
         "type": "scatter",
         "x": [
          1.32,
          4.41,
          4.982222222222223,
          5.51,
          5.864444444444445,
          6.587777777777777,
          7.7533333333333285,
          10.58,
          20.380000000000006,
          127.87
         ],
         "xaxis": "x",
         "y": [
          0.09,
          0.55,
          0.2403506493506492,
          0.1356468253968254,
          0.055,
          0.13083333333333333,
          0.35233333333333333,
          0,
          0.05666666666666667,
          0.22
         ],
         "yaxis": "y"
        },
        {
         "hoverinfo": "none",
         "line": {
          "color": "rgba(80,155,203,0.5)",
          "width": 0.5
         },
         "mode": "lines",
         "type": "scatter",
         "x": [
          1.32,
          4.41,
          4.982222222222223,
          5.51,
          5.864444444444445,
          6.587777777777777,
          7.7533333333333285,
          10.58,
          20.380000000000006,
          127.87
         ],
         "xaxis": "x",
         "y": [
          0.48,
          0.4772120657120658,
          0.5082094572094572,
          0.6427149321266968,
          0.3416410533910535,
          0.016430242272347535,
          0.02,
          0.07,
          0.20666666666666664,
          0.83
         ],
         "yaxis": "y"
        },
        {
         "hoverinfo": "none",
         "line": {
          "color": "rgba(64,144,197,0.5)",
          "width": 0.5
         },
         "mode": "lines",
         "type": "scatter",
         "x": [
          1.32,
          4.41,
          4.982222222222223,
          5.51,
          5.864444444444445,
          6.587777777777777,
          7.7533333333333285,
          10.58,
          20.380000000000006,
          127.87
         ],
         "xaxis": "x",
         "y": [
          0.09,
          0.55,
          0.2403506493506492,
          0.1356468253968254,
          0.055,
          0.13083333333333333,
          0.35233333333333333,
          0,
          0.05666666666666667,
          0.22
         ],
         "yaxis": "y"
        },
        {
         "hoverinfo": "none",
         "line": {
          "color": "rgba(49,129,189,0.5)",
          "width": 0.5
         },
         "mode": "lines",
         "type": "scatter",
         "x": [
          1.32,
          4.41,
          4.982222222222223,
          5.51,
          5.864444444444445,
          6.587777777777777,
          7.7533333333333285,
          10.58,
          20.380000000000006,
          127.87
         ],
         "xaxis": "x",
         "y": [
          0.48,
          0.4772120657120658,
          0.5082094572094572,
          0.6427149321266968,
          0.3416410533910535,
          0.016430242272347535,
          0.02,
          0.07,
          0.20666666666666664,
          0.83
         ],
         "yaxis": "y"
        },
        {
         "hoverinfo": "none",
         "line": {
          "color": "rgba(36,116,182,0.5)",
          "width": 0.5
         },
         "mode": "lines",
         "type": "scatter",
         "x": [
          1.32,
          4.41,
          4.982222222222223,
          5.51,
          5.864444444444445,
          6.587777777777777,
          7.7533333333333285,
          10.58,
          20.380000000000006,
          127.87
         ],
         "xaxis": "x",
         "y": [
          0.09,
          0.55,
          0.2403506493506492,
          0.1356468253968254,
          0.055,
          0.13083333333333333,
          0.35233333333333333,
          0,
          0.05666666666666667,
          0.22
         ],
         "yaxis": "y"
        },
        {
         "hoverinfo": "none",
         "line": {
          "color": "rgba(193,217,237,0.5)",
          "width": 0.5
         },
         "mode": "lines",
         "type": "scatter",
         "x": [
          1.32,
          4.41,
          4.982222222222223,
          5.51,
          5.864444444444445,
          6.587777777777777,
          7.7533333333333285,
          10.58,
          20.380000000000006,
          127.87
         ],
         "xaxis": "x",
         "y": [
          0.09,
          0.55,
          0.2403506493506492,
          0.1356468253968254,
          0.055,
          0.13083333333333333,
          0.35233333333333333,
          0,
          0.05666666666666667,
          0.22
         ],
         "yaxis": "y"
        },
        {
         "hoverinfo": "none",
         "line": {
          "color": "rgba(177,210,231,0.5)",
          "width": 0.5
         },
         "mode": "lines",
         "type": "scatter",
         "x": [
          1.32,
          4.41,
          4.982222222222223,
          5.51,
          5.864444444444445,
          6.587777777777777,
          7.7533333333333285,
          10.58,
          20.380000000000006,
          127.87
         ],
         "xaxis": "x",
         "y": [
          0.09,
          0.55,
          0.2403506493506492,
          0.1356468253968254,
          0.055,
          0.13083333333333333,
          0.35233333333333333,
          0,
          0.05666666666666667,
          0.22
         ],
         "yaxis": "y"
        },
        {
         "hoverinfo": "none",
         "line": {
          "color": "rgba(160,202,225,0.5)",
          "width": 0.5
         },
         "mode": "lines",
         "type": "scatter",
         "x": [
          1.32,
          4.41,
          4.982222222222223,
          5.51,
          5.864444444444445,
          6.587777777777777,
          7.7533333333333285,
          10.58,
          20.380000000000006,
          127.87
         ],
         "xaxis": "x",
         "y": [
          0,
          0,
          0,
          0.19,
          0.19583333333333333,
          0.29,
          0.32,
          0.05,
          0.14666666666666667,
          0.26
         ],
         "yaxis": "y"
        },
        {
         "hoverinfo": "none",
         "line": {
          "color": "rgba(139,192,221,0.5)",
          "width": 0.5
         },
         "mode": "lines",
         "type": "scatter",
         "x": [
          1.32,
          4.41,
          4.982222222222223,
          5.51,
          5.864444444444445,
          6.587777777777777,
          7.7533333333333285,
          10.58,
          20.380000000000006,
          127.87
         ],
         "xaxis": "x",
         "y": [
          0.09,
          0.55,
          0.2403506493506492,
          0.1356468253968254,
          0.055,
          0.13083333333333333,
          0.35233333333333333,
          0,
          0.05666666666666667,
          0.22
         ],
         "yaxis": "y"
        },
        {
         "hoverinfo": "none",
         "line": {
          "color": "rgba(117,179,216,0.5)",
          "width": 0.5
         },
         "mode": "lines",
         "type": "scatter",
         "x": [
          1.32,
          4.41,
          4.982222222222223,
          5.51,
          5.864444444444445,
          6.587777777777777,
          7.7533333333333285,
          10.58,
          20.380000000000006,
          127.87
         ],
         "xaxis": "x",
         "y": [
          0.54,
          0.5579761904761905,
          0.86,
          0.9321346153846153,
          0.3114999999999999,
          0.2826666666666665,
          0.3375,
          0.01,
          0.17783333333333334,
          0
         ],
         "yaxis": "y"
        },
        {
         "hoverinfo": "none",
         "line": {
          "color": "rgba(98,168,210,0.5)",
          "width": 0.5
         },
         "mode": "lines",
         "type": "scatter",
         "x": [
          1.32,
          4.41,
          4.982222222222223,
          5.51,
          5.864444444444445,
          6.587777777777777,
          7.7533333333333285,
          10.58,
          20.380000000000006,
          127.87
         ],
         "xaxis": "x",
         "y": [
          0.36,
          0.7809999999999999,
          0.93,
          0.8633333333333333,
          0.6560833333333334,
          0.18,
          0.12,
          0.23,
          0.02,
          0
         ],
         "yaxis": "y"
        },
        {
         "hoverinfo": "none",
         "line": {
          "color": "rgba(80,155,203,0.5)",
          "width": 0.5
         },
         "mode": "lines",
         "type": "scatter",
         "x": [
          1.32,
          4.41,
          4.982222222222223,
          5.51,
          5.864444444444445,
          6.587777777777777,
          7.7533333333333285,
          10.58,
          20.380000000000006,
          127.87
         ],
         "xaxis": "x",
         "y": [
          0.48,
          0.4772120657120658,
          0.5082094572094572,
          0.6427149321266968,
          0.3416410533910535,
          0.016430242272347535,
          0.02,
          0.07,
          0.20666666666666664,
          0.83
         ],
         "yaxis": "y"
        },
        {
         "hoverinfo": "none",
         "line": {
          "color": "rgba(64,144,197,0.5)",
          "width": 0.5
         },
         "mode": "lines",
         "type": "scatter",
         "x": [
          1.32,
          4.41,
          4.982222222222223,
          5.51,
          5.864444444444445,
          6.587777777777777,
          7.7533333333333285,
          10.58,
          20.380000000000006,
          127.87
         ],
         "xaxis": "x",
         "y": [
          0.54,
          0.5579761904761905,
          0.86,
          0.9321346153846153,
          0.3114999999999999,
          0.2826666666666665,
          0.3375,
          0.01,
          0.17783333333333334,
          0
         ],
         "yaxis": "y"
        },
        {
         "hoverinfo": "none",
         "line": {
          "color": "rgba(49,129,189,0.5)",
          "width": 0.5
         },
         "mode": "lines",
         "type": "scatter",
         "x": [
          1.32,
          4.41,
          4.982222222222223,
          5.51,
          5.864444444444445,
          6.587777777777777,
          7.7533333333333285,
          10.58,
          20.380000000000006,
          127.87
         ],
         "xaxis": "x",
         "y": [
          0.1,
          0.01,
          0.0325,
          0.9094761904761904,
          0.1768502886002886,
          0.26666666666666666,
          0.04,
          0.05,
          0.08666666666666668,
          0.27
         ],
         "yaxis": "y"
        },
        {
         "hoverinfo": "none",
         "line": {
          "color": "rgba(36,116,182,0.5)",
          "width": 0.5
         },
         "mode": "lines",
         "type": "scatter",
         "x": [
          1.32,
          4.41,
          4.982222222222223,
          5.51,
          5.864444444444445,
          6.587777777777777,
          7.7533333333333285,
          10.58,
          20.380000000000006,
          127.87
         ],
         "xaxis": "x",
         "y": [
          0.54,
          0.5579761904761905,
          0.86,
          0.9321346153846153,
          0.3114999999999999,
          0.2826666666666665,
          0.3375,
          0.01,
          0.17783333333333334,
          0
         ],
         "yaxis": "y"
        },
        {
         "hoverinfo": "none",
         "line": {
          "color": "rgba(193,217,237,0.5)",
          "width": 0.5
         },
         "mode": "lines",
         "type": "scatter",
         "x": [
          1.32,
          4.41,
          4.982222222222223,
          5.51,
          5.864444444444445,
          6.587777777777777,
          7.7533333333333285,
          10.58,
          20.380000000000006,
          127.87
         ],
         "xaxis": "x",
         "y": [
          0.54,
          0.5579761904761905,
          0.86,
          0.9321346153846153,
          0.3114999999999999,
          0.2826666666666665,
          0.3375,
          0.01,
          0.17783333333333334,
          0
         ],
         "yaxis": "y"
        },
        {
         "hoverinfo": "none",
         "line": {
          "color": "rgba(177,210,231,0.5)",
          "width": 0.5
         },
         "mode": "lines",
         "type": "scatter",
         "x": [
          1.32,
          4.41,
          4.982222222222223,
          5.51,
          5.864444444444445,
          6.587777777777777,
          7.7533333333333285,
          10.58,
          20.380000000000006,
          127.87
         ],
         "xaxis": "x",
         "y": [
          0.48,
          0.4772120657120658,
          0.5082094572094572,
          0.6427149321266968,
          0.3416410533910535,
          0.016430242272347535,
          0.02,
          0.07,
          0.20666666666666664,
          0.83
         ],
         "yaxis": "y"
        },
        {
         "hoverinfo": "none",
         "line": {
          "color": "rgba(160,202,225,0.5)",
          "width": 0.5
         },
         "mode": "lines",
         "type": "scatter",
         "x": [
          1.32,
          4.41,
          4.982222222222223,
          5.51,
          5.864444444444445,
          6.587777777777777,
          7.7533333333333285,
          10.58,
          20.380000000000006,
          127.87
         ],
         "xaxis": "x",
         "y": [
          0.54,
          0.5579761904761905,
          0.86,
          0.9321346153846153,
          0.3114999999999999,
          0.2826666666666665,
          0.3375,
          0.01,
          0.17783333333333334,
          0
         ],
         "yaxis": "y"
        },
        {
         "hoverinfo": "none",
         "line": {
          "color": "rgba(139,192,221,0.5)",
          "width": 0.5
         },
         "mode": "lines",
         "type": "scatter",
         "x": [
          1.32,
          4.41,
          4.982222222222223,
          5.51,
          5.864444444444445,
          6.587777777777777,
          7.7533333333333285,
          10.58,
          20.380000000000006,
          127.87
         ],
         "xaxis": "x",
         "y": [
          0.48,
          0.4772120657120658,
          0.5082094572094572,
          0.6427149321266968,
          0.3416410533910535,
          0.016430242272347535,
          0.02,
          0.07,
          0.20666666666666664,
          0.83
         ],
         "yaxis": "y"
        },
        {
         "hoverinfo": "none",
         "line": {
          "color": "rgba(117,179,216,0.5)",
          "width": 0.5
         },
         "mode": "lines",
         "type": "scatter",
         "x": [
          1.32,
          4.41,
          4.982222222222223,
          5.51,
          5.864444444444445,
          6.587777777777777,
          7.7533333333333285,
          10.58,
          20.380000000000006,
          127.87
         ],
         "xaxis": "x",
         "y": [
          0.54,
          0.5579761904761905,
          0.86,
          0.9321346153846153,
          0.3114999999999999,
          0.2826666666666665,
          0.3375,
          0.01,
          0.17783333333333334,
          0
         ],
         "yaxis": "y"
        },
        {
         "hoverinfo": "none",
         "line": {
          "color": "rgba(98,168,210,0.5)",
          "width": 0.5
         },
         "mode": "lines",
         "type": "scatter",
         "x": [
          1.32,
          4.41,
          4.982222222222223,
          5.51,
          5.864444444444445,
          6.587777777777777,
          7.7533333333333285,
          10.58,
          20.380000000000006,
          127.87
         ],
         "xaxis": "x",
         "y": [
          0.54,
          0.5579761904761905,
          0.86,
          0.9321346153846153,
          0.3114999999999999,
          0.2826666666666665,
          0.3375,
          0.01,
          0.17783333333333334,
          0
         ],
         "yaxis": "y"
        },
        {
         "hoverinfo": "none",
         "line": {
          "color": "rgba(80,155,203,0.5)",
          "width": 0.5
         },
         "mode": "lines",
         "type": "scatter",
         "x": [
          1.32,
          4.41,
          4.982222222222223,
          5.51,
          5.864444444444445,
          6.587777777777777,
          7.7533333333333285,
          10.58,
          20.380000000000006,
          127.87
         ],
         "xaxis": "x",
         "y": [
          0.54,
          0.5579761904761905,
          0.86,
          0.9321346153846153,
          0.3114999999999999,
          0.2826666666666665,
          0.3375,
          0.01,
          0.17783333333333334,
          0
         ],
         "yaxis": "y"
        },
        {
         "hoverinfo": "none",
         "line": {
          "color": "rgba(64,144,197,0.5)",
          "width": 0.5
         },
         "mode": "lines",
         "type": "scatter",
         "x": [
          1.32,
          4.41,
          4.982222222222223,
          5.51,
          5.864444444444445,
          6.587777777777777,
          7.7533333333333285,
          10.58,
          20.380000000000006,
          127.87
         ],
         "xaxis": "x",
         "y": [
          0.48,
          0.4772120657120658,
          0.5082094572094572,
          0.6427149321266968,
          0.3416410533910535,
          0.016430242272347535,
          0.02,
          0.07,
          0.20666666666666664,
          0.83
         ],
         "yaxis": "y"
        },
        {
         "hoverinfo": "none",
         "line": {
          "color": "rgba(49,129,189,0.5)",
          "width": 0.5
         },
         "mode": "lines",
         "type": "scatter",
         "x": [
          1.32,
          4.41,
          4.982222222222223,
          5.51,
          5.864444444444445,
          6.587777777777777,
          7.7533333333333285,
          10.58,
          20.380000000000006,
          127.87
         ],
         "xaxis": "x",
         "y": [
          0.54,
          0.5579761904761905,
          0.86,
          0.9321346153846153,
          0.3114999999999999,
          0.2826666666666665,
          0.3375,
          0.01,
          0.17783333333333334,
          0
         ],
         "yaxis": "y"
        },
        {
         "hoverinfo": "none",
         "line": {
          "color": "rgba(36,116,182,0.5)",
          "width": 0.5
         },
         "mode": "lines",
         "type": "scatter",
         "x": [
          1.32,
          4.41,
          4.982222222222223,
          5.51,
          5.864444444444445,
          6.587777777777777,
          7.7533333333333285,
          10.58,
          20.380000000000006,
          127.87
         ],
         "xaxis": "x",
         "y": [
          0.06,
          0.5164444444444444,
          1,
          0.9671666666666667,
          0.5092499999999999,
          0.6570357142857142,
          0.365,
          0,
          0.049166666666666664,
          0
         ],
         "yaxis": "y"
        },
        {
         "hoverinfo": "none",
         "line": {
          "color": "rgba(193,217,237,0.5)",
          "width": 0.5
         },
         "mode": "lines",
         "type": "scatter",
         "x": [
          1.32,
          4.41,
          4.982222222222223,
          5.51,
          5.864444444444445,
          6.587777777777777,
          7.7533333333333285,
          10.58,
          20.380000000000006,
          127.87
         ],
         "xaxis": "x",
         "y": [
          0.09,
          0.55,
          0.2403506493506492,
          0.1356468253968254,
          0.055,
          0.13083333333333333,
          0.35233333333333333,
          0,
          0.05666666666666667,
          0.22
         ],
         "yaxis": "y"
        },
        {
         "hoverinfo": "none",
         "line": {
          "color": "rgba(177,210,231,0.5)",
          "width": 0.5
         },
         "mode": "lines",
         "type": "scatter",
         "x": [
          1.32,
          4.41,
          4.982222222222223,
          5.51,
          5.864444444444445,
          6.587777777777777,
          7.7533333333333285,
          10.58,
          20.380000000000006,
          127.87
         ],
         "xaxis": "x",
         "y": [
          0.54,
          0.5579761904761905,
          0.86,
          0.9321346153846153,
          0.3114999999999999,
          0.2826666666666665,
          0.3375,
          0.01,
          0.17783333333333334,
          0
         ],
         "yaxis": "y"
        },
        {
         "hoverinfo": "none",
         "line": {
          "color": "rgba(160,202,225,0.5)",
          "width": 0.5
         },
         "mode": "lines",
         "type": "scatter",
         "x": [
          1.32,
          4.41,
          4.982222222222223,
          5.51,
          5.864444444444445,
          6.587777777777777,
          7.7533333333333285,
          10.58,
          20.380000000000006,
          127.87
         ],
         "xaxis": "x",
         "y": [
          0.54,
          0.5579761904761905,
          0.86,
          0.9321346153846153,
          0.3114999999999999,
          0.2826666666666665,
          0.3375,
          0.01,
          0.17783333333333334,
          0
         ],
         "yaxis": "y"
        },
        {
         "hoverinfo": "none",
         "line": {
          "color": "rgba(139,192,221,0.5)",
          "width": 0.5
         },
         "mode": "lines",
         "type": "scatter",
         "x": [
          1.32,
          4.41,
          4.982222222222223,
          5.51,
          5.864444444444445,
          6.587777777777777,
          7.7533333333333285,
          10.58,
          20.380000000000006,
          127.87
         ],
         "xaxis": "x",
         "y": [
          0.48,
          0.4772120657120658,
          0.5082094572094572,
          0.6427149321266968,
          0.3416410533910535,
          0.016430242272347535,
          0.02,
          0.07,
          0.20666666666666664,
          0.83
         ],
         "yaxis": "y"
        },
        {
         "hoverinfo": "none",
         "line": {
          "color": "rgba(117,179,216,0.5)",
          "width": 0.5
         },
         "mode": "lines",
         "type": "scatter",
         "x": [
          1.32,
          4.41,
          4.982222222222223,
          5.51,
          5.864444444444445,
          6.587777777777777,
          7.7533333333333285,
          10.58,
          20.380000000000006,
          127.87
         ],
         "xaxis": "x",
         "y": [
          0.36,
          0.7809999999999999,
          0.93,
          0.8633333333333333,
          0.6560833333333334,
          0.18,
          0.12,
          0.23,
          0.02,
          0
         ],
         "yaxis": "y"
        },
        {
         "hoverinfo": "none",
         "line": {
          "color": "rgba(98,168,210,0.5)",
          "width": 0.5
         },
         "mode": "lines",
         "type": "scatter",
         "x": [
          1.32,
          4.41,
          4.982222222222223,
          5.51,
          5.864444444444445,
          6.587777777777777,
          7.7533333333333285,
          10.58,
          20.380000000000006,
          127.87
         ],
         "xaxis": "x",
         "y": [
          0.48,
          0.4772120657120658,
          0.5082094572094572,
          0.6427149321266968,
          0.3416410533910535,
          0.016430242272347535,
          0.02,
          0.07,
          0.20666666666666664,
          0.83
         ],
         "yaxis": "y"
        },
        {
         "hoverinfo": "none",
         "line": {
          "color": "rgba(80,155,203,0.5)",
          "width": 0.5
         },
         "mode": "lines",
         "type": "scatter",
         "x": [
          1.32,
          4.41,
          4.982222222222223,
          5.51,
          5.864444444444445,
          6.587777777777777,
          7.7533333333333285,
          10.58,
          20.380000000000006,
          127.87
         ],
         "xaxis": "x",
         "y": [
          0.09,
          0.55,
          0.2403506493506492,
          0.1356468253968254,
          0.055,
          0.13083333333333333,
          0.35233333333333333,
          0,
          0.05666666666666667,
          0.22
         ],
         "yaxis": "y"
        },
        {
         "hoverinfo": "none",
         "line": {
          "color": "rgba(64,144,197,0.5)",
          "width": 0.5
         },
         "mode": "lines",
         "type": "scatter",
         "x": [
          1.32,
          4.41,
          4.982222222222223,
          5.51,
          5.864444444444445,
          6.587777777777777,
          7.7533333333333285,
          10.58,
          20.380000000000006,
          127.87
         ],
         "xaxis": "x",
         "y": [
          0.54,
          0.5579761904761905,
          0.86,
          0.9321346153846153,
          0.3114999999999999,
          0.2826666666666665,
          0.3375,
          0.01,
          0.17783333333333334,
          0
         ],
         "yaxis": "y"
        },
        {
         "hoverinfo": "none",
         "line": {
          "color": "rgba(49,129,189,0.5)",
          "width": 0.5
         },
         "mode": "lines",
         "type": "scatter",
         "x": [
          1.32,
          4.41,
          4.982222222222223,
          5.51,
          5.864444444444445,
          6.587777777777777,
          7.7533333333333285,
          10.58,
          20.380000000000006,
          127.87
         ],
         "xaxis": "x",
         "y": [
          0.06,
          0.5164444444444444,
          1,
          0.9671666666666667,
          0.5092499999999999,
          0.6570357142857142,
          0.365,
          0,
          0.049166666666666664,
          0
         ],
         "yaxis": "y"
        },
        {
         "hoverinfo": "none",
         "line": {
          "color": "rgba(36,116,182,0.5)",
          "width": 0.5
         },
         "mode": "lines",
         "type": "scatter",
         "x": [
          1.32,
          4.41,
          4.982222222222223,
          5.51,
          5.864444444444445,
          6.587777777777777,
          7.7533333333333285,
          10.58,
          20.380000000000006,
          127.87
         ],
         "xaxis": "x",
         "y": [
          0.48,
          0.4772120657120658,
          0.5082094572094572,
          0.6427149321266968,
          0.3416410533910535,
          0.016430242272347535,
          0.02,
          0.07,
          0.20666666666666664,
          0.83
         ],
         "yaxis": "y"
        },
        {
         "hoverinfo": "none",
         "line": {
          "color": "#FEDC00",
          "width": 4.5
         },
         "mode": "lines",
         "type": "scatter",
         "x": [
          1.32,
          4.41,
          4.982222222222223,
          5.51,
          5.864444444444445,
          6.587777777777777,
          7.7533333333333285,
          10.58,
          20.380000000000006,
          127.87
         ],
         "xaxis": "x",
         "y": [
          0.34275641025641024,
          0.48974076368787917,
          0.6087694858560243,
          0.7082649291800874,
          0.33031169178044173,
          0.24746833362787304,
          0.24872329059829057,
          0.041698717948717955,
          0.13722168803418805,
          0.27442307692307694
         ],
         "yaxis": "y"
        },
        {
         "hoverinfo": "none",
         "line": {
          "color": "#E75438",
          "dash": "dash",
          "width": 1.5
         },
         "mode": "lines",
         "type": "scatter",
         "x": [
          1.32,
          4.41,
          4.982222222222223,
          5.51,
          5.864444444444445,
          6.587777777777777,
          7.7533333333333285,
          10.58,
          20.380000000000006,
          127.87
         ],
         "xaxis": "x",
         "y": [
          0,
          0,
          0,
          0,
          0,
          0,
          0,
          0,
          0,
          0
         ],
         "yaxis": "y"
        },
        {
         "hovertemplate": "%{y}",
         "line": {
          "color": "rgba(8,48,107,1.0)",
          "width": 1.5
         },
         "marker": {
          "color": "rgba(8,48,107,1.0)",
          "size": 5
         },
         "mode": "lines+markers",
         "name": "pdp",
         "type": "scatter",
         "x": [
          1.32,
          4.41,
          4.982222222222223,
          5.51,
          5.864444444444445,
          6.587777777777777,
          7.7533333333333285,
          10.58,
          20.380000000000006,
          127.87
         ],
         "xaxis": "x",
         "y": [
          0.34275641025641024,
          0.48974076368787917,
          0.6087694858560243,
          0.7082649291800874,
          0.33031169178044173,
          0.24746833362787304,
          0.24872329059829057,
          0.041698717948717955,
          0.13722168803418805,
          0.27442307692307694
         ],
         "yaxis": "y"
        },
        {
         "hoverinfo": "none",
         "mode": "text",
         "name": "dist",
         "showlegend": false,
         "text": [
          "|",
          "|",
          "|",
          "|",
          "|",
          "|",
          "|",
          "|",
          "|",
          "|",
          "|",
          "|",
          "|",
          "|",
          "|",
          "|",
          "|",
          "|",
          "|",
          "|",
          "|",
          "|",
          "|",
          "|",
          "|",
          "|",
          "|",
          "|",
          "|",
          "|",
          "|",
          "|",
          "|",
          "|",
          "|",
          "|",
          "|",
          "|",
          "|",
          "|",
          "|",
          "|",
          "|",
          "|",
          "|",
          "|",
          "|",
          "|",
          "|",
          "|",
          "|",
          "|",
          "|",
          "|",
          "|",
          "|",
          "|",
          "|",
          "|",
          "|",
          "|",
          "|",
          "|",
          "|",
          "|",
          "|",
          "|",
          "|",
          "|",
          "|",
          "|",
          "|",
          "|",
          "|",
          "|",
          "|",
          "|",
          "|",
          "|",
          "|",
          "|",
          "|",
          "|",
          "|",
          "|",
          "|",
          "|",
          "|",
          "|",
          "|",
          "|",
          "|",
          "|",
          "|",
          "|",
          "|",
          "|",
          "|",
          "|",
          "|",
          "|",
          "|",
          "|",
          "|",
          "|",
          "|",
          "|",
          "|",
          "|",
          "|",
          "|",
          "|",
          "|",
          "|",
          "|",
          "|",
          "|",
          "|",
          "|",
          "|",
          "|",
          "|",
          "|",
          "|",
          "|",
          "|",
          "|",
          "|",
          "|",
          "|",
          "|",
          "|",
          "|",
          "|",
          "|",
          "|",
          "|",
          "|",
          "|",
          "|",
          "|",
          "|",
          "|",
          "|",
          "|",
          "|",
          "|",
          "|",
          "|",
          "|",
          "|",
          "|",
          "|",
          "|",
          "|",
          "|",
          "|",
          "|",
          "|",
          "|",
          "|",
          "|",
          "|",
          "|",
          "|",
          "|",
          "|",
          "|",
          "|",
          "|",
          "|",
          "|",
          "|",
          "|",
          "|",
          "|",
          "|",
          "|",
          "|",
          "|",
          "|",
          "|",
          "|",
          "|",
          "|",
          "|",
          "|",
          "|",
          "|",
          "|",
          "|",
          "|",
          "|",
          "|",
          "|",
          "|",
          "|",
          "|",
          "|",
          "|",
          "|",
          "|",
          "|",
          "|",
          "|",
          "|",
          "|",
          "|",
          "|",
          "|",
          "|",
          "|",
          "|",
          "|",
          "|",
          "|",
          "|",
          "|",
          "|",
          "|",
          "|",
          "|",
          "|",
          "|",
          "|",
          "|",
          "|",
          "|",
          "|",
          "|",
          "|",
          "|",
          "|",
          "|",
          "|",
          "|",
          "|",
          "|",
          "|",
          "|",
          "|",
          "|",
          "|",
          "|",
          "|",
          "|",
          "|",
          "|",
          "|",
          "|",
          "|",
          "|",
          "|",
          "|",
          "|",
          "|",
          "|",
          "|",
          "|",
          "|",
          "|",
          "|",
          "|",
          "|",
          "|",
          "|",
          "|",
          "|",
          "|",
          "|",
          "|",
          "|",
          "|",
          "|",
          "|",
          "|",
          "|",
          "|",
          "|",
          "|",
          "|",
          "|",
          "|",
          "|",
          "|",
          "|",
          "|",
          "|",
          "|",
          "|",
          "|",
          "|",
          "|",
          "|",
          "|",
          "|",
          "|",
          "|",
          "|",
          "|",
          "|",
          "|",
          "|",
          "|",
          "|",
          "|",
          "|",
          "|",
          "|",
          "|",
          "|",
          "|"
         ],
         "textfont": {
          "color": "rgba(8,48,107,1.0)",
          "size": 20
         },
         "textposition": "middle center",
         "type": "scatter",
         "x": [
          4.93,
          11.17,
          6.17,
          2.83,
          3.96,
          4.7,
          27.76,
          8.5,
          6.76,
          8.52,
          5.66,
          4.41,
          10.58,
          9.6,
          5.57,
          9.6,
          8.23,
          5.51,
          5.29,
          8.5,
          7.33,
          7.28,
          8.81,
          5.64,
          7.64,
          9.48,
          5.31,
          3.51,
          4.98,
          7.08,
          5.58,
          5.29,
          17.59,
          5.57,
          39.68,
          4.16,
          4.98,
          4.98,
          7.35,
          13.23,
          8.5,
          5.57,
          5.81,
          4.93,
          5,
          29.39,
          10.58,
          8,
          7.05,
          127.87,
          5.58,
          15.58,
          6.91,
          2.26,
          3.67,
          16.53,
          9.74,
          7.35,
          4.67,
          6.91,
          3.52,
          5.22,
          5.88,
          16.75,
          5.86,
          9.16,
          17.61,
          10.58,
          6.02,
          6.34,
          6.32,
          22.49,
          5.88,
          8.02,
          5.36,
          4.85,
          7.35,
          5.29,
          90.83,
          16.12,
          4.7,
          6.68,
          5.22,
          21.14,
          5.86,
          37.04,
          6.47,
          16.99,
          3.89,
          26.41,
          5.88,
          1.47,
          2.97,
          4.93,
          33.05,
          41.12,
          7.72,
          5.29,
          6.47,
          17.94,
          5.57,
          4.76,
          7.33,
          4.7,
          33.07,
          4.96,
          17.61,
          6.47,
          32,
          7.05,
          3.68,
          5.81,
          9.92,
          3.67,
          20.53,
          4.11,
          5.29,
          6.17,
          4.63,
          22,
          5.73,
          5.88,
          11.46,
          5.31,
          6.61,
          3.17,
          26.46,
          8.44,
          6.76,
          5.48,
          16.17,
          19.84,
          5.58,
          5.73,
          6.03,
          9.91,
          5.58,
          1.32,
          7.05,
          7.35,
          5.26,
          4.12,
          4.69,
          8.82,
          20.26,
          4.98,
          6.63,
          22,
          5.44,
          8.11,
          12.74,
          5.14,
          3.08,
          5.88,
          8.81,
          17.64,
          37.04,
          6.34,
          5.88,
          17.59,
          11.02,
          5.29,
          6.75,
          3.54,
          5,
          4.81,
          8.21,
          4.85,
          5,
          5.29,
          5.88,
          5.29,
          4.96,
          4.17,
          1.34,
          15.87,
          4.41,
          8,
          5.73,
          4.76,
          6.76,
          4.98,
          5.66,
          6.47,
          19.2,
          5.29,
          4.41,
          63.93,
          5.29,
          33.98,
          5.88,
          8.77,
          5.29,
          6.91,
          4.98,
          8.52,
          22,
          5.64,
          2.97,
          4.41,
          5.58,
          3.89,
          23.37,
          5.58,
          5.88,
          5.52,
          26.41,
          5.29,
          5.57,
          4.98,
          3.2,
          39,
          8,
          6.91,
          7.33,
          5.88,
          8.78,
          6.47,
          4.11,
          21.16,
          7.61,
          17.64,
          5.66,
          7.05,
          2.94,
          5.51,
          4.98,
          15.43,
          9.24,
          5.29,
          7.35,
          5.73,
          14.55,
          6.51,
          5.28,
          6.47,
          5.57,
          5.29,
          4.6,
          5.58,
          6.17,
          19.82,
          4.7,
          24.69,
          5.29,
          9.28,
          5.88,
          5.88,
          2.55,
          3.82,
          5.51,
          26.46,
          8.82,
          12.35,
          35.27,
          4.98,
          20.83,
          4.6,
          4.41,
          7.64,
          7.33,
          5.1,
          22.05,
          17.59,
          8.8,
          3.19,
          26.46,
          13.23,
          4.25,
          5.86,
          4.7,
          7.05,
          7.05,
          6.47,
          6.34,
          19.82,
          4.67,
          26.46,
          4.96,
          5.31,
          5.73,
          9.92,
          15.58,
          5.66,
          5.88,
          7.82,
          5.28,
          4.85,
          5.64,
          9.46,
          11.02,
          6.47,
          2.83,
          6.47,
          5.29,
          13.23,
          22.71,
          17.61,
          3.82,
          6.07,
          5.58,
          5.88,
          7.2,
          5.73,
          26.46,
          7.35,
          4.25,
          6.87,
          9.6,
          4.6,
          40.56,
          5.29
         ],
         "xaxis": "x2",
         "y": [
          1,
          1,
          1,
          1,
          1,
          1,
          1,
          1,
          1,
          1,
          1,
          1,
          1,
          1,
          1,
          1,
          1,
          1,
          1,
          1,
          1,
          1,
          1,
          1,
          1,
          1,
          1,
          1,
          1,
          1,
          1,
          1,
          1,
          1,
          1,
          1,
          1,
          1,
          1,
          1,
          1,
          1,
          1,
          1,
          1,
          1,
          1,
          1,
          1,
          1,
          1,
          1,
          1,
          1,
          1,
          1,
          1,
          1,
          1,
          1,
          1,
          1,
          1,
          1,
          1,
          1,
          1,
          1,
          1,
          1,
          1,
          1,
          1,
          1,
          1,
          1,
          1,
          1,
          1,
          1,
          1,
          1,
          1,
          1,
          1,
          1,
          1,
          1,
          1,
          1,
          1,
          1,
          1,
          1,
          1,
          1,
          1,
          1,
          1,
          1,
          1,
          1,
          1,
          1,
          1,
          1,
          1,
          1,
          1,
          1,
          1,
          1,
          1,
          1,
          1,
          1,
          1,
          1,
          1,
          1,
          1,
          1,
          1,
          1,
          1,
          1,
          1,
          1,
          1,
          1,
          1,
          1,
          1,
          1,
          1,
          1,
          1,
          1,
          1,
          1,
          1,
          1,
          1,
          1,
          1,
          1,
          1,
          1,
          1,
          1,
          1,
          1,
          1,
          1,
          1,
          1,
          1,
          1,
          1,
          1,
          1,
          1,
          1,
          1,
          1,
          1,
          1,
          1,
          1,
          1,
          1,
          1,
          1,
          1,
          1,
          1,
          1,
          1,
          1,
          1,
          1,
          1,
          1,
          1,
          1,
          1,
          1,
          1,
          1,
          1,
          1,
          1,
          1,
          1,
          1,
          1,
          1,
          1,
          1,
          1,
          1,
          1,
          1,
          1,
          1,
          1,
          1,
          1,
          1,
          1,
          1,
          1,
          1,
          1,
          1,
          1,
          1,
          1,
          1,
          1,
          1,
          1,
          1,
          1,
          1,
          1,
          1,
          1,
          1,
          1,
          1,
          1,
          1,
          1,
          1,
          1,
          1,
          1,
          1,
          1,
          1,
          1,
          1,
          1,
          1,
          1,
          1,
          1,
          1,
          1,
          1,
          1,
          1,
          1,
          1,
          1,
          1,
          1,
          1,
          1,
          1,
          1,
          1,
          1,
          1,
          1,
          1,
          1,
          1,
          1,
          1,
          1,
          1,
          1,
          1,
          1,
          1,
          1,
          1,
          1,
          1,
          1,
          1,
          1,
          1,
          1,
          1,
          1,
          1,
          1,
          1,
          1,
          1,
          1,
          1,
          1,
          1,
          1,
          1,
          1,
          1,
          1,
          1,
          1,
          1,
          1,
          1,
          1,
          1,
          1,
          1,
          1
         ],
         "yaxis": "y2"
        }
       ],
       "layout": {
        "height": 600,
        "showlegend": false,
        "template": {
         "data": {
          "bar": [
           {
            "error_x": {
             "color": "#2a3f5f"
            },
            "error_y": {
             "color": "#2a3f5f"
            },
            "marker": {
             "line": {
              "color": "white",
              "width": 0.5
             },
             "pattern": {
              "fillmode": "overlay",
              "size": 10,
              "solidity": 0.2
             }
            },
            "type": "bar"
           }
          ],
          "barpolar": [
           {
            "marker": {
             "line": {
              "color": "white",
              "width": 0.5
             },
             "pattern": {
              "fillmode": "overlay",
              "size": 10,
              "solidity": 0.2
             }
            },
            "type": "barpolar"
           }
          ],
          "carpet": [
           {
            "aaxis": {
             "endlinecolor": "#2a3f5f",
             "gridcolor": "#C8D4E3",
             "linecolor": "#C8D4E3",
             "minorgridcolor": "#C8D4E3",
             "startlinecolor": "#2a3f5f"
            },
            "baxis": {
             "endlinecolor": "#2a3f5f",
             "gridcolor": "#C8D4E3",
             "linecolor": "#C8D4E3",
             "minorgridcolor": "#C8D4E3",
             "startlinecolor": "#2a3f5f"
            },
            "type": "carpet"
           }
          ],
          "choropleth": [
           {
            "colorbar": {
             "outlinewidth": 0,
             "ticks": ""
            },
            "type": "choropleth"
           }
          ],
          "contour": [
           {
            "colorbar": {
             "outlinewidth": 0,
             "ticks": ""
            },
            "colorscale": [
             [
              0,
              "#0d0887"
             ],
             [
              0.1111111111111111,
              "#46039f"
             ],
             [
              0.2222222222222222,
              "#7201a8"
             ],
             [
              0.3333333333333333,
              "#9c179e"
             ],
             [
              0.4444444444444444,
              "#bd3786"
             ],
             [
              0.5555555555555556,
              "#d8576b"
             ],
             [
              0.6666666666666666,
              "#ed7953"
             ],
             [
              0.7777777777777778,
              "#fb9f3a"
             ],
             [
              0.8888888888888888,
              "#fdca26"
             ],
             [
              1,
              "#f0f921"
             ]
            ],
            "type": "contour"
           }
          ],
          "contourcarpet": [
           {
            "colorbar": {
             "outlinewidth": 0,
             "ticks": ""
            },
            "type": "contourcarpet"
           }
          ],
          "heatmap": [
           {
            "colorbar": {
             "outlinewidth": 0,
             "ticks": ""
            },
            "colorscale": [
             [
              0,
              "#0d0887"
             ],
             [
              0.1111111111111111,
              "#46039f"
             ],
             [
              0.2222222222222222,
              "#7201a8"
             ],
             [
              0.3333333333333333,
              "#9c179e"
             ],
             [
              0.4444444444444444,
              "#bd3786"
             ],
             [
              0.5555555555555556,
              "#d8576b"
             ],
             [
              0.6666666666666666,
              "#ed7953"
             ],
             [
              0.7777777777777778,
              "#fb9f3a"
             ],
             [
              0.8888888888888888,
              "#fdca26"
             ],
             [
              1,
              "#f0f921"
             ]
            ],
            "type": "heatmap"
           }
          ],
          "heatmapgl": [
           {
            "colorbar": {
             "outlinewidth": 0,
             "ticks": ""
            },
            "colorscale": [
             [
              0,
              "#0d0887"
             ],
             [
              0.1111111111111111,
              "#46039f"
             ],
             [
              0.2222222222222222,
              "#7201a8"
             ],
             [
              0.3333333333333333,
              "#9c179e"
             ],
             [
              0.4444444444444444,
              "#bd3786"
             ],
             [
              0.5555555555555556,
              "#d8576b"
             ],
             [
              0.6666666666666666,
              "#ed7953"
             ],
             [
              0.7777777777777778,
              "#fb9f3a"
             ],
             [
              0.8888888888888888,
              "#fdca26"
             ],
             [
              1,
              "#f0f921"
             ]
            ],
            "type": "heatmapgl"
           }
          ],
          "histogram": [
           {
            "marker": {
             "pattern": {
              "fillmode": "overlay",
              "size": 10,
              "solidity": 0.2
             }
            },
            "type": "histogram"
           }
          ],
          "histogram2d": [
           {
            "colorbar": {
             "outlinewidth": 0,
             "ticks": ""
            },
            "colorscale": [
             [
              0,
              "#0d0887"
             ],
             [
              0.1111111111111111,
              "#46039f"
             ],
             [
              0.2222222222222222,
              "#7201a8"
             ],
             [
              0.3333333333333333,
              "#9c179e"
             ],
             [
              0.4444444444444444,
              "#bd3786"
             ],
             [
              0.5555555555555556,
              "#d8576b"
             ],
             [
              0.6666666666666666,
              "#ed7953"
             ],
             [
              0.7777777777777778,
              "#fb9f3a"
             ],
             [
              0.8888888888888888,
              "#fdca26"
             ],
             [
              1,
              "#f0f921"
             ]
            ],
            "type": "histogram2d"
           }
          ],
          "histogram2dcontour": [
           {
            "colorbar": {
             "outlinewidth": 0,
             "ticks": ""
            },
            "colorscale": [
             [
              0,
              "#0d0887"
             ],
             [
              0.1111111111111111,
              "#46039f"
             ],
             [
              0.2222222222222222,
              "#7201a8"
             ],
             [
              0.3333333333333333,
              "#9c179e"
             ],
             [
              0.4444444444444444,
              "#bd3786"
             ],
             [
              0.5555555555555556,
              "#d8576b"
             ],
             [
              0.6666666666666666,
              "#ed7953"
             ],
             [
              0.7777777777777778,
              "#fb9f3a"
             ],
             [
              0.8888888888888888,
              "#fdca26"
             ],
             [
              1,
              "#f0f921"
             ]
            ],
            "type": "histogram2dcontour"
           }
          ],
          "mesh3d": [
           {
            "colorbar": {
             "outlinewidth": 0,
             "ticks": ""
            },
            "type": "mesh3d"
           }
          ],
          "parcoords": [
           {
            "line": {
             "colorbar": {
              "outlinewidth": 0,
              "ticks": ""
             }
            },
            "type": "parcoords"
           }
          ],
          "pie": [
           {
            "automargin": true,
            "type": "pie"
           }
          ],
          "scatter": [
           {
            "fillpattern": {
             "fillmode": "overlay",
             "size": 10,
             "solidity": 0.2
            },
            "type": "scatter"
           }
          ],
          "scatter3d": [
           {
            "line": {
             "colorbar": {
              "outlinewidth": 0,
              "ticks": ""
             }
            },
            "marker": {
             "colorbar": {
              "outlinewidth": 0,
              "ticks": ""
             }
            },
            "type": "scatter3d"
           }
          ],
          "scattercarpet": [
           {
            "marker": {
             "colorbar": {
              "outlinewidth": 0,
              "ticks": ""
             }
            },
            "type": "scattercarpet"
           }
          ],
          "scattergeo": [
           {
            "marker": {
             "colorbar": {
              "outlinewidth": 0,
              "ticks": ""
             }
            },
            "type": "scattergeo"
           }
          ],
          "scattergl": [
           {
            "marker": {
             "colorbar": {
              "outlinewidth": 0,
              "ticks": ""
             }
            },
            "type": "scattergl"
           }
          ],
          "scattermapbox": [
           {
            "marker": {
             "colorbar": {
              "outlinewidth": 0,
              "ticks": ""
             }
            },
            "type": "scattermapbox"
           }
          ],
          "scatterpolar": [
           {
            "marker": {
             "colorbar": {
              "outlinewidth": 0,
              "ticks": ""
             }
            },
            "type": "scatterpolar"
           }
          ],
          "scatterpolargl": [
           {
            "marker": {
             "colorbar": {
              "outlinewidth": 0,
              "ticks": ""
             }
            },
            "type": "scatterpolargl"
           }
          ],
          "scatterternary": [
           {
            "marker": {
             "colorbar": {
              "outlinewidth": 0,
              "ticks": ""
             }
            },
            "type": "scatterternary"
           }
          ],
          "surface": [
           {
            "colorbar": {
             "outlinewidth": 0,
             "ticks": ""
            },
            "colorscale": [
             [
              0,
              "#0d0887"
             ],
             [
              0.1111111111111111,
              "#46039f"
             ],
             [
              0.2222222222222222,
              "#7201a8"
             ],
             [
              0.3333333333333333,
              "#9c179e"
             ],
             [
              0.4444444444444444,
              "#bd3786"
             ],
             [
              0.5555555555555556,
              "#d8576b"
             ],
             [
              0.6666666666666666,
              "#ed7953"
             ],
             [
              0.7777777777777778,
              "#fb9f3a"
             ],
             [
              0.8888888888888888,
              "#fdca26"
             ],
             [
              1,
              "#f0f921"
             ]
            ],
            "type": "surface"
           }
          ],
          "table": [
           {
            "cells": {
             "fill": {
              "color": "#EBF0F8"
             },
             "line": {
              "color": "white"
             }
            },
            "header": {
             "fill": {
              "color": "#C8D4E3"
             },
             "line": {
              "color": "white"
             }
            },
            "type": "table"
           }
          ]
         },
         "layout": {
          "annotationdefaults": {
           "arrowcolor": "#2a3f5f",
           "arrowhead": 0,
           "arrowwidth": 1
          },
          "autotypenumbers": "strict",
          "coloraxis": {
           "colorbar": {
            "outlinewidth": 0,
            "ticks": ""
           }
          },
          "colorscale": {
           "diverging": [
            [
             0,
             "#8e0152"
            ],
            [
             0.1,
             "#c51b7d"
            ],
            [
             0.2,
             "#de77ae"
            ],
            [
             0.3,
             "#f1b6da"
            ],
            [
             0.4,
             "#fde0ef"
            ],
            [
             0.5,
             "#f7f7f7"
            ],
            [
             0.6,
             "#e6f5d0"
            ],
            [
             0.7,
             "#b8e186"
            ],
            [
             0.8,
             "#7fbc41"
            ],
            [
             0.9,
             "#4d9221"
            ],
            [
             1,
             "#276419"
            ]
           ],
           "sequential": [
            [
             0,
             "#0d0887"
            ],
            [
             0.1111111111111111,
             "#46039f"
            ],
            [
             0.2222222222222222,
             "#7201a8"
            ],
            [
             0.3333333333333333,
             "#9c179e"
            ],
            [
             0.4444444444444444,
             "#bd3786"
            ],
            [
             0.5555555555555556,
             "#d8576b"
            ],
            [
             0.6666666666666666,
             "#ed7953"
            ],
            [
             0.7777777777777778,
             "#fb9f3a"
            ],
            [
             0.8888888888888888,
             "#fdca26"
            ],
            [
             1,
             "#f0f921"
            ]
           ],
           "sequentialminus": [
            [
             0,
             "#0d0887"
            ],
            [
             0.1111111111111111,
             "#46039f"
            ],
            [
             0.2222222222222222,
             "#7201a8"
            ],
            [
             0.3333333333333333,
             "#9c179e"
            ],
            [
             0.4444444444444444,
             "#bd3786"
            ],
            [
             0.5555555555555556,
             "#d8576b"
            ],
            [
             0.6666666666666666,
             "#ed7953"
            ],
            [
             0.7777777777777778,
             "#fb9f3a"
            ],
            [
             0.8888888888888888,
             "#fdca26"
            ],
            [
             1,
             "#f0f921"
            ]
           ]
          },
          "colorway": [
           "#636efa",
           "#EF553B",
           "#00cc96",
           "#ab63fa",
           "#FFA15A",
           "#19d3f3",
           "#FF6692",
           "#B6E880",
           "#FF97FF",
           "#FECB52"
          ],
          "font": {
           "color": "#2a3f5f"
          },
          "geo": {
           "bgcolor": "white",
           "lakecolor": "white",
           "landcolor": "white",
           "showlakes": true,
           "showland": true,
           "subunitcolor": "#C8D4E3"
          },
          "hoverlabel": {
           "align": "left"
          },
          "hovermode": "closest",
          "mapbox": {
           "style": "light"
          },
          "paper_bgcolor": "white",
          "plot_bgcolor": "white",
          "polar": {
           "angularaxis": {
            "gridcolor": "#EBF0F8",
            "linecolor": "#EBF0F8",
            "ticks": ""
           },
           "bgcolor": "white",
           "radialaxis": {
            "gridcolor": "#EBF0F8",
            "linecolor": "#EBF0F8",
            "ticks": ""
           }
          },
          "scene": {
           "xaxis": {
            "backgroundcolor": "white",
            "gridcolor": "#DFE8F3",
            "gridwidth": 2,
            "linecolor": "#EBF0F8",
            "showbackground": true,
            "ticks": "",
            "zerolinecolor": "#EBF0F8"
           },
           "yaxis": {
            "backgroundcolor": "white",
            "gridcolor": "#DFE8F3",
            "gridwidth": 2,
            "linecolor": "#EBF0F8",
            "showbackground": true,
            "ticks": "",
            "zerolinecolor": "#EBF0F8"
           },
           "zaxis": {
            "backgroundcolor": "white",
            "gridcolor": "#DFE8F3",
            "gridwidth": 2,
            "linecolor": "#EBF0F8",
            "showbackground": true,
            "ticks": "",
            "zerolinecolor": "#EBF0F8"
           }
          },
          "shapedefaults": {
           "line": {
            "color": "#2a3f5f"
           }
          },
          "ternary": {
           "aaxis": {
            "gridcolor": "#DFE8F3",
            "linecolor": "#A2B1C6",
            "ticks": ""
           },
           "baxis": {
            "gridcolor": "#DFE8F3",
            "linecolor": "#A2B1C6",
            "ticks": ""
           },
           "bgcolor": "white",
           "caxis": {
            "gridcolor": "#DFE8F3",
            "linecolor": "#A2B1C6",
            "ticks": ""
           }
          },
          "title": {
           "x": 0.05
          },
          "xaxis": {
           "automargin": true,
           "gridcolor": "#EBF0F8",
           "linecolor": "#EBF0F8",
           "ticks": "",
           "title": {
            "standoff": 15
           },
           "zerolinecolor": "#EBF0F8",
           "zerolinewidth": 2
          },
          "yaxis": {
           "automargin": true,
           "gridcolor": "#EBF0F8",
           "linecolor": "#EBF0F8",
           "ticks": "",
           "title": {
            "standoff": 15
           },
           "zerolinecolor": "#EBF0F8",
           "zerolinewidth": 2
          }
         }
        },
        "title": {
         "text": "PDP for feature <b>Price per 100g</b> <br><sup>Number of unique grid points: 10</sup>",
         "x": 0,
         "xref": "paper"
        },
        "width": 1200,
        "xaxis": {
         "anchor": "y",
         "domain": [
          0,
          1
         ]
        },
        "xaxis2": {
         "anchor": "y2",
         "domain": [
          0,
          1
         ],
         "showgrid": false,
         "showticklabels": false,
         "title": {
          "text": "<b>Price per 100g</b> (value)"
         }
        },
        "yaxis": {
         "anchor": "x",
         "domain": [
          0.11266666666666669,
          0.99
         ],
         "title": {
          "text": "raw"
         }
        },
        "yaxis2": {
         "anchor": "x2",
         "domain": [
          0,
          0.06266666666666665
         ],
         "showgrid": false,
         "showticklabels": false
        }
       }
      }
     },
     "metadata": {},
     "output_type": "display_data"
    }
   ],
   "source": [
    "# Plot PDP\n",
    "# Create the pdp data to be plotted\n",
    "pdp_goals = pdp.PDPIsolate(model=rf_model, df=val_x, model_features=feature_names, feature='100g_USD', feature_name='Price per 100g')\n",
    "\n",
    "# plot the PDP for feature 'Goal Scored'\n",
    "fig, axes = pdp_goals.plot(\n",
    "    center=False,\n",
    "    plot_lines=True,\n",
    "    frac_to_plot=100,\n",
    "    cluster=False,\n",
    "    n_cluster_centers=None,\n",
    "    cluster_method='accurate',\n",
    "    plot_pts_dist=True,\n",
    "    to_bins=False,\n",
    "    show_percentile=False,\n",
    "    which_classes=None,\n",
    "    figsize=None,\n",
    "    dpi=300,\n",
    "    ncols=2,\n",
    "    plot_params={\"pdp_hl\": True},\n",
    "    engine='plotly',\n",
    "    template='plotly_white')\n",
    "\n",
    "fig.show()"
   ]
  },
  {
   "cell_type": "markdown",
   "metadata": {},
   "source": []
  },
  {
   "cell_type": "code",
   "execution_count": 87,
   "metadata": {},
   "outputs": [
    {
     "name": "stdout",
     "output_type": "stream",
     "text": [
      "obtain pred_func from the provided model.\n"
     ]
    },
    {
     "name": "stderr",
     "output_type": "stream",
     "text": [
      "100%|██████████| 6/6 [00:00<00:00, 226.19it/s]\n"
     ]
    },
    {
     "name": "stdout",
     "output_type": "stream",
     "text": [
      "obtain pred_func from the provided model.\n"
     ]
    },
    {
     "name": "stderr",
     "output_type": "stream",
     "text": [
      "100%|██████████| 10/10 [00:00<00:00, 274.48it/s]\n"
     ]
    },
    {
     "name": "stdout",
     "output_type": "stream",
     "text": [
      "obtain pred_func from the provided model.\n"
     ]
    },
    {
     "name": "stderr",
     "output_type": "stream",
     "text": [
      "100%|██████████| 60/60 [00:00<00:00, 326.64it/s]\n"
     ]
    },
    {
     "data": {
      "application/vnd.plotly.v1+json": {
       "config": {
        "plotlyServerURL": "https://plot.ly"
       },
       "data": [
        {
         "colorbar": {
          "len": 0.8399999999999999,
          "x": 1.0099999999999998,
          "xanchor": "left",
          "y": 2.220446049250313e-16,
          "yanchor": "bottom"
         },
         "colorscale": [
          [
           0,
           "rgb(247,251,255)"
          ],
          [
           0.125,
           "rgb(222,235,247)"
          ],
          [
           0.25,
           "rgb(198,219,239)"
          ],
          [
           0.375,
           "rgb(158,202,225)"
          ],
          [
           0.5,
           "rgb(107,174,214)"
          ],
          [
           0.625,
           "rgb(66,146,198)"
          ],
          [
           0.75,
           "rgb(33,113,181)"
          ],
          [
           0.875,
           "rgb(8,81,156)"
          ],
          [
           1,
           "rgb(8,48,107)"
          ]
         ],
         "name": "pdp interact",
         "opacity": 0.8,
         "showscale": true,
         "text": [
          [
           "0.000",
           "0.090",
           "0.480",
           "0.540",
           "0.060",
           "0.190"
          ],
          [
           "0.000",
           "0.550",
           "0.477",
           "0.558",
           "0.516",
           "0.373"
          ],
          [
           "0.000",
           "0.240",
           "0.508",
           "0.860",
           "1.000",
           "0.390"
          ],
          [
           "0.190",
           "0.136",
           "0.643",
           "0.932",
           "0.967",
           "0.720"
          ],
          [
           "0.196",
           "0.055",
           "0.342",
           "0.311",
           "0.509",
           "0.634"
          ],
          [
           "0.290",
           "0.131",
           "0.016",
           "0.283",
           "0.657",
           "0.140"
          ],
          [
           "0.320",
           "0.352",
           "0.020",
           "0.337",
           "0.365",
           "0.160"
          ],
          [
           "0.050",
           "0.000",
           "0.070",
           "0.010",
           "0.000",
           "0.470"
          ],
          [
           "0.147",
           "0.057",
           "0.207",
           "0.178",
           "0.049",
           "0.430"
          ],
          [
           "0.260",
           "0.220",
           "0.830",
           "0.000",
           "0.000",
           "0.030"
          ]
         ],
         "texttemplate": "%{text}",
         "type": "heatmap",
         "x": [
          0,
          1,
          2,
          3,
          4,
          5
         ],
         "xaxis": "x4",
         "y": [
          0,
          1,
          2,
          3,
          4,
          5,
          6,
          7,
          8,
          9
         ],
         "yaxis": "y4",
         "z": [
          [
           0,
           0.08999999999999997,
           0.48000000000000004,
           0.54,
           0.060000000000000005,
           0.18999999999999995
          ],
          [
           0,
           0.5499999999999999,
           0.4772120657120659,
           0.5579761904761904,
           0.5164444444444445,
           0.37333333333333324
          ],
          [
           0,
           0.24035064935064915,
           0.5082094572094571,
           0.8600000000000002,
           1,
           0.3900000000000001
          ],
          [
           0.18999999999999995,
           0.13564682539682543,
           0.6427149321266967,
           0.9321346153846155,
           0.9671666666666666,
           0.7199999999999998
          ],
          [
           0.1958333333333333,
           0.055,
           0.3416410533910535,
           0.3114999999999999,
           0.5092499999999999,
           0.63375
          ],
          [
           0.29,
           0.13083333333333333,
           0.016430242272347535,
           0.2826666666666666,
           0.6570357142857142,
           0.14
          ],
          [
           0.32,
           0.3523333333333332,
           0.02,
           0.33749999999999997,
           0.36500000000000005,
           0.16
          ],
          [
           0.049999999999999996,
           0,
           0.07,
           0.01,
           0,
           0.46999999999999975
          ],
          [
           0.1466666666666667,
           0.05666666666666666,
           0.20666666666666658,
           0.17783333333333332,
           0.049166666666666664,
           0.4300000000000001
          ],
          [
           0.25999999999999995,
           0.22,
           0.83,
           0,
           0,
           0.030000000000000002
          ]
         ],
         "zmax": 1,
         "zmin": 0
        },
        {
         "colorscale": [
          [
           0,
           "rgb(247,251,255)"
          ],
          [
           0.125,
           "rgb(222,235,247)"
          ],
          [
           0.25,
           "rgb(198,219,239)"
          ],
          [
           0.375,
           "rgb(158,202,225)"
          ],
          [
           0.5,
           "rgb(107,174,214)"
          ],
          [
           0.625,
           "rgb(66,146,198)"
          ],
          [
           0.75,
           "rgb(33,113,181)"
          ],
          [
           0.875,
           "rgb(8,81,156)"
          ],
          [
           1,
           "rgb(8,48,107)"
          ]
         ],
         "hovertemplate": "%{text}",
         "name": "pdp isolate",
         "opacity": 0.8,
         "showscale": false,
         "text": [
          [
           "0.159",
           "0.285",
           "0.359",
           "0.422",
           "0.522",
           "0.389"
          ]
         ],
         "texttemplate": "%{text}",
         "type": "heatmap",
         "x": [
          0,
          1,
          2,
          3,
          4,
          5
         ],
         "xaxis": "x2",
         "y": [
          0
         ],
         "yaxis": "y2",
         "z": [
          [
           0.15896592643467644,
           0.2847796568637915,
           0.35892438593196035,
           0.42226562917228305,
           0.5223160972752319,
           0.38944853872978874
          ]
         ],
         "zmax": 1,
         "zmin": 0
        },
        {
         "colorscale": [
          [
           0,
           "rgb(247,251,255)"
          ],
          [
           0.125,
           "rgb(222,235,247)"
          ],
          [
           0.25,
           "rgb(198,219,239)"
          ],
          [
           0.375,
           "rgb(158,202,225)"
          ],
          [
           0.5,
           "rgb(107,174,214)"
          ],
          [
           0.625,
           "rgb(66,146,198)"
          ],
          [
           0.75,
           "rgb(33,113,181)"
          ],
          [
           0.875,
           "rgb(8,81,156)"
          ],
          [
           1,
           "rgb(8,48,107)"
          ]
         ],
         "hovertemplate": "%{text}",
         "name": "pdp isolate",
         "opacity": 0.8,
         "showscale": false,
         "text": [
          [
           "0.343"
          ],
          [
           "0.490"
          ],
          [
           "0.609"
          ],
          [
           "0.708"
          ],
          [
           "0.330"
          ],
          [
           "0.247"
          ],
          [
           "0.249"
          ],
          [
           "0.042"
          ],
          [
           "0.137"
          ],
          [
           "0.274"
          ]
         ],
         "texttemplate": "%{text}",
         "type": "heatmap",
         "x": [
          0
         ],
         "xaxis": "x3",
         "y": [
          0,
          1,
          2,
          3,
          4,
          5,
          6,
          7,
          8,
          9
         ],
         "yaxis": "y3",
         "z": [
          [
           0.34275641025641024
          ],
          [
           0.48974076368787917
          ],
          [
           0.6087694858560243
          ],
          [
           0.7082649291800874
          ],
          [
           0.33031169178044173
          ],
          [
           0.24746833362787304
          ],
          [
           0.24872329059829057
          ],
          [
           0.041698717948717955
          ],
          [
           0.13722168803418805
          ],
          [
           0.27442307692307694
          ]
         ],
         "zmax": 1,
         "zmin": 0
        }
       ],
       "layout": {
        "height": 600,
        "showlegend": false,
        "template": {
         "data": {
          "bar": [
           {
            "error_x": {
             "color": "#2a3f5f"
            },
            "error_y": {
             "color": "#2a3f5f"
            },
            "marker": {
             "line": {
              "color": "white",
              "width": 0.5
             },
             "pattern": {
              "fillmode": "overlay",
              "size": 10,
              "solidity": 0.2
             }
            },
            "type": "bar"
           }
          ],
          "barpolar": [
           {
            "marker": {
             "line": {
              "color": "white",
              "width": 0.5
             },
             "pattern": {
              "fillmode": "overlay",
              "size": 10,
              "solidity": 0.2
             }
            },
            "type": "barpolar"
           }
          ],
          "carpet": [
           {
            "aaxis": {
             "endlinecolor": "#2a3f5f",
             "gridcolor": "#C8D4E3",
             "linecolor": "#C8D4E3",
             "minorgridcolor": "#C8D4E3",
             "startlinecolor": "#2a3f5f"
            },
            "baxis": {
             "endlinecolor": "#2a3f5f",
             "gridcolor": "#C8D4E3",
             "linecolor": "#C8D4E3",
             "minorgridcolor": "#C8D4E3",
             "startlinecolor": "#2a3f5f"
            },
            "type": "carpet"
           }
          ],
          "choropleth": [
           {
            "colorbar": {
             "outlinewidth": 0,
             "ticks": ""
            },
            "type": "choropleth"
           }
          ],
          "contour": [
           {
            "colorbar": {
             "outlinewidth": 0,
             "ticks": ""
            },
            "colorscale": [
             [
              0,
              "#0d0887"
             ],
             [
              0.1111111111111111,
              "#46039f"
             ],
             [
              0.2222222222222222,
              "#7201a8"
             ],
             [
              0.3333333333333333,
              "#9c179e"
             ],
             [
              0.4444444444444444,
              "#bd3786"
             ],
             [
              0.5555555555555556,
              "#d8576b"
             ],
             [
              0.6666666666666666,
              "#ed7953"
             ],
             [
              0.7777777777777778,
              "#fb9f3a"
             ],
             [
              0.8888888888888888,
              "#fdca26"
             ],
             [
              1,
              "#f0f921"
             ]
            ],
            "type": "contour"
           }
          ],
          "contourcarpet": [
           {
            "colorbar": {
             "outlinewidth": 0,
             "ticks": ""
            },
            "type": "contourcarpet"
           }
          ],
          "heatmap": [
           {
            "colorbar": {
             "outlinewidth": 0,
             "ticks": ""
            },
            "colorscale": [
             [
              0,
              "#0d0887"
             ],
             [
              0.1111111111111111,
              "#46039f"
             ],
             [
              0.2222222222222222,
              "#7201a8"
             ],
             [
              0.3333333333333333,
              "#9c179e"
             ],
             [
              0.4444444444444444,
              "#bd3786"
             ],
             [
              0.5555555555555556,
              "#d8576b"
             ],
             [
              0.6666666666666666,
              "#ed7953"
             ],
             [
              0.7777777777777778,
              "#fb9f3a"
             ],
             [
              0.8888888888888888,
              "#fdca26"
             ],
             [
              1,
              "#f0f921"
             ]
            ],
            "type": "heatmap"
           }
          ],
          "heatmapgl": [
           {
            "colorbar": {
             "outlinewidth": 0,
             "ticks": ""
            },
            "colorscale": [
             [
              0,
              "#0d0887"
             ],
             [
              0.1111111111111111,
              "#46039f"
             ],
             [
              0.2222222222222222,
              "#7201a8"
             ],
             [
              0.3333333333333333,
              "#9c179e"
             ],
             [
              0.4444444444444444,
              "#bd3786"
             ],
             [
              0.5555555555555556,
              "#d8576b"
             ],
             [
              0.6666666666666666,
              "#ed7953"
             ],
             [
              0.7777777777777778,
              "#fb9f3a"
             ],
             [
              0.8888888888888888,
              "#fdca26"
             ],
             [
              1,
              "#f0f921"
             ]
            ],
            "type": "heatmapgl"
           }
          ],
          "histogram": [
           {
            "marker": {
             "pattern": {
              "fillmode": "overlay",
              "size": 10,
              "solidity": 0.2
             }
            },
            "type": "histogram"
           }
          ],
          "histogram2d": [
           {
            "colorbar": {
             "outlinewidth": 0,
             "ticks": ""
            },
            "colorscale": [
             [
              0,
              "#0d0887"
             ],
             [
              0.1111111111111111,
              "#46039f"
             ],
             [
              0.2222222222222222,
              "#7201a8"
             ],
             [
              0.3333333333333333,
              "#9c179e"
             ],
             [
              0.4444444444444444,
              "#bd3786"
             ],
             [
              0.5555555555555556,
              "#d8576b"
             ],
             [
              0.6666666666666666,
              "#ed7953"
             ],
             [
              0.7777777777777778,
              "#fb9f3a"
             ],
             [
              0.8888888888888888,
              "#fdca26"
             ],
             [
              1,
              "#f0f921"
             ]
            ],
            "type": "histogram2d"
           }
          ],
          "histogram2dcontour": [
           {
            "colorbar": {
             "outlinewidth": 0,
             "ticks": ""
            },
            "colorscale": [
             [
              0,
              "#0d0887"
             ],
             [
              0.1111111111111111,
              "#46039f"
             ],
             [
              0.2222222222222222,
              "#7201a8"
             ],
             [
              0.3333333333333333,
              "#9c179e"
             ],
             [
              0.4444444444444444,
              "#bd3786"
             ],
             [
              0.5555555555555556,
              "#d8576b"
             ],
             [
              0.6666666666666666,
              "#ed7953"
             ],
             [
              0.7777777777777778,
              "#fb9f3a"
             ],
             [
              0.8888888888888888,
              "#fdca26"
             ],
             [
              1,
              "#f0f921"
             ]
            ],
            "type": "histogram2dcontour"
           }
          ],
          "mesh3d": [
           {
            "colorbar": {
             "outlinewidth": 0,
             "ticks": ""
            },
            "type": "mesh3d"
           }
          ],
          "parcoords": [
           {
            "line": {
             "colorbar": {
              "outlinewidth": 0,
              "ticks": ""
             }
            },
            "type": "parcoords"
           }
          ],
          "pie": [
           {
            "automargin": true,
            "type": "pie"
           }
          ],
          "scatter": [
           {
            "fillpattern": {
             "fillmode": "overlay",
             "size": 10,
             "solidity": 0.2
            },
            "type": "scatter"
           }
          ],
          "scatter3d": [
           {
            "line": {
             "colorbar": {
              "outlinewidth": 0,
              "ticks": ""
             }
            },
            "marker": {
             "colorbar": {
              "outlinewidth": 0,
              "ticks": ""
             }
            },
            "type": "scatter3d"
           }
          ],
          "scattercarpet": [
           {
            "marker": {
             "colorbar": {
              "outlinewidth": 0,
              "ticks": ""
             }
            },
            "type": "scattercarpet"
           }
          ],
          "scattergeo": [
           {
            "marker": {
             "colorbar": {
              "outlinewidth": 0,
              "ticks": ""
             }
            },
            "type": "scattergeo"
           }
          ],
          "scattergl": [
           {
            "marker": {
             "colorbar": {
              "outlinewidth": 0,
              "ticks": ""
             }
            },
            "type": "scattergl"
           }
          ],
          "scattermapbox": [
           {
            "marker": {
             "colorbar": {
              "outlinewidth": 0,
              "ticks": ""
             }
            },
            "type": "scattermapbox"
           }
          ],
          "scatterpolar": [
           {
            "marker": {
             "colorbar": {
              "outlinewidth": 0,
              "ticks": ""
             }
            },
            "type": "scatterpolar"
           }
          ],
          "scatterpolargl": [
           {
            "marker": {
             "colorbar": {
              "outlinewidth": 0,
              "ticks": ""
             }
            },
            "type": "scatterpolargl"
           }
          ],
          "scatterternary": [
           {
            "marker": {
             "colorbar": {
              "outlinewidth": 0,
              "ticks": ""
             }
            },
            "type": "scatterternary"
           }
          ],
          "surface": [
           {
            "colorbar": {
             "outlinewidth": 0,
             "ticks": ""
            },
            "colorscale": [
             [
              0,
              "#0d0887"
             ],
             [
              0.1111111111111111,
              "#46039f"
             ],
             [
              0.2222222222222222,
              "#7201a8"
             ],
             [
              0.3333333333333333,
              "#9c179e"
             ],
             [
              0.4444444444444444,
              "#bd3786"
             ],
             [
              0.5555555555555556,
              "#d8576b"
             ],
             [
              0.6666666666666666,
              "#ed7953"
             ],
             [
              0.7777777777777778,
              "#fb9f3a"
             ],
             [
              0.8888888888888888,
              "#fdca26"
             ],
             [
              1,
              "#f0f921"
             ]
            ],
            "type": "surface"
           }
          ],
          "table": [
           {
            "cells": {
             "fill": {
              "color": "#EBF0F8"
             },
             "line": {
              "color": "white"
             }
            },
            "header": {
             "fill": {
              "color": "#C8D4E3"
             },
             "line": {
              "color": "white"
             }
            },
            "type": "table"
           }
          ]
         },
         "layout": {
          "annotationdefaults": {
           "arrowcolor": "#2a3f5f",
           "arrowhead": 0,
           "arrowwidth": 1
          },
          "autotypenumbers": "strict",
          "coloraxis": {
           "colorbar": {
            "outlinewidth": 0,
            "ticks": ""
           }
          },
          "colorscale": {
           "diverging": [
            [
             0,
             "#8e0152"
            ],
            [
             0.1,
             "#c51b7d"
            ],
            [
             0.2,
             "#de77ae"
            ],
            [
             0.3,
             "#f1b6da"
            ],
            [
             0.4,
             "#fde0ef"
            ],
            [
             0.5,
             "#f7f7f7"
            ],
            [
             0.6,
             "#e6f5d0"
            ],
            [
             0.7,
             "#b8e186"
            ],
            [
             0.8,
             "#7fbc41"
            ],
            [
             0.9,
             "#4d9221"
            ],
            [
             1,
             "#276419"
            ]
           ],
           "sequential": [
            [
             0,
             "#0d0887"
            ],
            [
             0.1111111111111111,
             "#46039f"
            ],
            [
             0.2222222222222222,
             "#7201a8"
            ],
            [
             0.3333333333333333,
             "#9c179e"
            ],
            [
             0.4444444444444444,
             "#bd3786"
            ],
            [
             0.5555555555555556,
             "#d8576b"
            ],
            [
             0.6666666666666666,
             "#ed7953"
            ],
            [
             0.7777777777777778,
             "#fb9f3a"
            ],
            [
             0.8888888888888888,
             "#fdca26"
            ],
            [
             1,
             "#f0f921"
            ]
           ],
           "sequentialminus": [
            [
             0,
             "#0d0887"
            ],
            [
             0.1111111111111111,
             "#46039f"
            ],
            [
             0.2222222222222222,
             "#7201a8"
            ],
            [
             0.3333333333333333,
             "#9c179e"
            ],
            [
             0.4444444444444444,
             "#bd3786"
            ],
            [
             0.5555555555555556,
             "#d8576b"
            ],
            [
             0.6666666666666666,
             "#ed7953"
            ],
            [
             0.7777777777777778,
             "#fb9f3a"
            ],
            [
             0.8888888888888888,
             "#fdca26"
            ],
            [
             1,
             "#f0f921"
            ]
           ]
          },
          "colorway": [
           "#636efa",
           "#EF553B",
           "#00cc96",
           "#ab63fa",
           "#FFA15A",
           "#19d3f3",
           "#FF6692",
           "#B6E880",
           "#FF97FF",
           "#FECB52"
          ],
          "font": {
           "color": "#2a3f5f"
          },
          "geo": {
           "bgcolor": "white",
           "lakecolor": "white",
           "landcolor": "white",
           "showlakes": true,
           "showland": true,
           "subunitcolor": "#C8D4E3"
          },
          "hoverlabel": {
           "align": "left"
          },
          "hovermode": "closest",
          "mapbox": {
           "style": "light"
          },
          "paper_bgcolor": "white",
          "plot_bgcolor": "white",
          "polar": {
           "angularaxis": {
            "gridcolor": "#EBF0F8",
            "linecolor": "#EBF0F8",
            "ticks": ""
           },
           "bgcolor": "white",
           "radialaxis": {
            "gridcolor": "#EBF0F8",
            "linecolor": "#EBF0F8",
            "ticks": ""
           }
          },
          "scene": {
           "xaxis": {
            "backgroundcolor": "white",
            "gridcolor": "#DFE8F3",
            "gridwidth": 2,
            "linecolor": "#EBF0F8",
            "showbackground": true,
            "ticks": "",
            "zerolinecolor": "#EBF0F8"
           },
           "yaxis": {
            "backgroundcolor": "white",
            "gridcolor": "#DFE8F3",
            "gridwidth": 2,
            "linecolor": "#EBF0F8",
            "showbackground": true,
            "ticks": "",
            "zerolinecolor": "#EBF0F8"
           },
           "zaxis": {
            "backgroundcolor": "white",
            "gridcolor": "#DFE8F3",
            "gridwidth": 2,
            "linecolor": "#EBF0F8",
            "showbackground": true,
            "ticks": "",
            "zerolinecolor": "#EBF0F8"
           }
          },
          "shapedefaults": {
           "line": {
            "color": "#2a3f5f"
           }
          },
          "ternary": {
           "aaxis": {
            "gridcolor": "#DFE8F3",
            "linecolor": "#A2B1C6",
            "ticks": ""
           },
           "baxis": {
            "gridcolor": "#DFE8F3",
            "linecolor": "#A2B1C6",
            "ticks": ""
           },
           "bgcolor": "white",
           "caxis": {
            "gridcolor": "#DFE8F3",
            "linecolor": "#A2B1C6",
            "ticks": ""
           }
          },
          "title": {
           "x": 0.05
          },
          "xaxis": {
           "automargin": true,
           "gridcolor": "#EBF0F8",
           "linecolor": "#EBF0F8",
           "ticks": "",
           "title": {
            "standoff": 15
           },
           "zerolinecolor": "#EBF0F8",
           "zerolinewidth": 2
          },
          "yaxis": {
           "automargin": true,
           "gridcolor": "#EBF0F8",
           "linecolor": "#EBF0F8",
           "ticks": "",
           "title": {
            "standoff": 15
           },
           "zerolinecolor": "#EBF0F8",
           "zerolinewidth": 2
          }
         }
        },
        "title": {
         "text": "PDP interact for features <b>Rating</b> and <b>Price per 100g</b> <br><sup>Number of unique grid points: (<b>Rating</b>: 6, <b>Price per 100g</b>: 10)</sup>",
         "x": 0,
         "xref": "paper"
        },
        "width": 1200,
        "xaxis": {
         "anchor": "y",
         "domain": [
          0,
          0.5
         ]
        },
        "xaxis2": {
         "anchor": "y2",
         "domain": [
          0.08533333333333333,
          0.9999999999999999
         ],
         "side": "top",
         "ticktext": [
          "84<br><sup><b>[0.0]</b></sup>",
          "92<br><sup><b>[11.11, 22.22]</b></sup>",
          "93<br><sup><b>[33.33, 44.44]</b></sup>",
          "94<br><sup><b>[55.56, 66.67, 77.78]</b></sup>",
          "95<br><sup><b>[88.89]</b></sup>",
          "97<br><sup><b>[100.0]</b></sup>"
         ],
         "tickvals": [
          0,
          1,
          2,
          3,
          4,
          5
         ],
         "title": {
          "standoff": 0,
          "text": "<b>Rating</b> (value+percentile)"
         }
        },
        "xaxis3": {
         "anchor": "y3",
         "domain": [
          0,
          0.06533333333333333
         ],
         "showgrid": false,
         "showticklabels": false
        },
        "xaxis4": {
         "anchor": "y4",
         "domain": [
          0.08533333333333333,
          0.9999999999999999
         ],
         "showgrid": false,
         "showticklabels": false
        },
        "yaxis": {
         "anchor": "x",
         "domain": [
          0.5,
          1
         ]
        },
        "yaxis2": {
         "anchor": "x2",
         "domain": [
          0.89,
          0.95
         ],
         "showgrid": false,
         "showticklabels": false
        },
        "yaxis3": {
         "anchor": "x3",
         "domain": [
          2.220446049250313e-16,
          0.8400000000000001
         ],
         "ticktext": [
          "1.32<br><sup><b>[0.0]</b></sup>",
          "4.41<br><sup><b>[11.11]</b></sup>",
          "4.98<br><sup><b>[22.22]</b></sup>",
          "5.51<br><sup><b>[33.33]</b></sup>",
          "5.86<br><sup><b>[44.44]</b></sup>",
          "6.59<br><sup><b>[55.56]</b></sup>",
          "7.75<br><sup><b>[66.67]</b></sup>",
          "10.58<br><sup><b>[77.78]</b></sup>",
          "20.38<br><sup><b>[88.89]</b></sup>",
          "127.87<br><sup><b>[100.0]</b></sup>"
         ],
         "tickvals": [
          0,
          1,
          2,
          3,
          4,
          5,
          6,
          7,
          8,
          9
         ],
         "title": {
          "standoff": 0,
          "text": "<b>Price per 100g</b> (value+percentile)"
         }
        },
        "yaxis4": {
         "anchor": "x4",
         "domain": [
          2.220446049250313e-16,
          0.8400000000000001
         ],
         "showgrid": false,
         "showticklabels": false
        }
       }
      }
     },
     "metadata": {},
     "output_type": "display_data"
    }
   ],
   "source": [
    "# Similar to previous PDP plot.\n",
    "# However, use pdp_interact instead of pdp_isolate and pdp_interact_plot instead of pdp_isolate_plot\n",
    "\n",
    "# plot PDP for the two features\n",
    "features_to_plot = ['rating', '100g_USD']\n",
    "\n",
    "pdp_goal_distance = pdp.PDPInteract(model=rf_model, df=val_x, model_features=feature_names, features=features_to_plot, feature_names=[\"Rating\", \"Price per 100g\"])\n",
    "\n",
    "fig, axes = pdp_goal_distance.plot(\n",
    "    plot_type=\"grid\",\n",
    "    plot_pdp=True,\n",
    "    to_bins=True,\n",
    "    show_percentile=True,\n",
    "    which_classes=None,\n",
    "    figsize=None,\n",
    "    dpi=300,\n",
    "    ncols=2,\n",
    "    plot_params=None,\n",
    "    engine='plotly',\n",
    "    template='plotly_white'\n",
    ")\n",
    "fig.show()"
   ]
  },
  {
   "cell_type": "markdown",
   "metadata": {},
   "source": [
    "Looking at the 2D plot the most likely combination for an coffee bean to be from ethiopia is a rating of 95 and a mid ranged  price. Furthermore it seems very unliekly that a coffee is from ethiopia if the rating is below 90.\n",
    "We can say that rating is a good indicator for classification of ethopian coffee."
   ]
  },
  {
   "cell_type": "markdown",
   "metadata": {},
   "source": [
    "# <font color=\"ce33ff\">PART II (Individual Conditional Expectation)</font>"
   ]
  },
  {
   "cell_type": "code",
   "execution_count": 88,
   "metadata": {},
   "outputs": [
    {
     "name": "stdout",
     "output_type": "stream",
     "text": [
      "      100g_USD  rating\n",
      "0         4.70      92\n",
      "1         4.19      92\n",
      "2         4.85      94\n",
      "3         5.14      93\n",
      "4         3.97      93\n",
      "...        ...     ...\n",
      "1241      4.70      92\n",
      "1242      2.94      93\n",
      "1243      2.94      93\n",
      "1244      4.70      93\n",
      "1245      5.88      94\n",
      "\n",
      "[1246 rows x 2 columns]\n"
     ]
    },
    {
     "data": {
      "text/plain": [
       "<sklearn.inspection._plot.partial_dependence.PartialDependenceDisplay at 0x29b320f70>"
      ]
     },
     "execution_count": 88,
     "metadata": {},
     "output_type": "execute_result"
    },
    {
     "data": {
      "image/png": "[encoded data removed]",
      "text/plain": [
       "<Figure size 640x480 with 3 Axes>"
      ]
     },
     "metadata": {},
     "output_type": "display_data"
    }
   ],
   "source": [
    "import numpy as np\n",
    "import pandas as pd\n",
    "\n",
    "from sklearn.datasets import make_hastie_10_2\n",
    "from sklearn.ensemble import GradientBoostingClassifier\n",
    "\n",
    "# make sure you have installed scikit-learn of version > 1.0 \n",
    "# since the method from_estimator() is not available in previous versions\n",
    "from sklearn.inspection import PartialDependenceDisplay\n",
    "\n",
    "print(x)\n",
    "\n",
    "clf = GradientBoostingClassifier(n_estimators=100, learning_rate=1.0, max_depth=1, random_state=0).fit(x, y)\n",
    "features = [0, 1] #features x and y\n",
    "\n",
    "PartialDependenceDisplay.from_estimator(clf, x, features, kind='both')"
   ]
  },
  {
   "cell_type": "markdown",
   "metadata": {},
   "source": [
    "It seems like we do not have many samples for the higher end of the price range. This is why the model is not able to learn much from the higher end of the price range.\n",
    "Looking at the rating feature we have no samples for <90.\n",
    "\n",
    "Still we can see that the model is able to learn that the higher the rating the more likely it is that the coffee is from ethiopia.\n",
    "The curves are very similar to one another showing no significant difference between the individual samples."
   ]
  }
 ],
 "metadata": {
  "colab": {
   "collapsed_sections": [],
   "name": "lime_image.ipynb",
   "provenance": []
  },
  "kernelspec": {
   "display_name": "Python 3 (ipykernel)",
   "language": "python",
   "name": "python3"
  },
  "language_info": {
   "codemirror_mode": {
    "name": "ipython",
    "version": 3
   },
   "file_extension": ".py",
   "mimetype": "text/x-python",
   "name": "python",
   "nbconvert_exporter": "python",
   "pygments_lexer": "ipython3",
   "version": "3.9.6"
  }
 },
 "nbformat": 4,
 "nbformat_minor": 4
}
