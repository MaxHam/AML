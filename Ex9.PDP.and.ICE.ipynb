{
 "cells": [
  {
   "cell_type": "markdown",
   "metadata": {},
   "source": [
    "<img src=\"https://www.th-koeln.de/img/logo.svg\" style=\"float:right;\" width=\"200\">"
   ]
  },
  {
   "cell_type": "markdown",
   "metadata": {},
   "source": [
    "# 9th exercise: <font color=\"#C70039\">Interpretable Machine Learning by means of Partial Dependence (PDP) and Individual Conditional Expectation (ICE) Plots</font>\n",
    "* Course: AML\n",
    "* Lecturer: <a href=\"https://www.gernotheisenberg.de/\">Gernot Heisenberg</a>\n",
    "* Author of notebook: <a href=\"https://www.gernotheisenberg.de/\">Gernot Heisenberg</a>\n",
    "* Date:   03.12.2023\n",
    "* Student: Max Hammer\n",
    "* Immatriculation ID: 11153562\n",
    "\n",
    "<img src=\"https://scikit-learn.org/stable/_images/sphx_glr_plot_partial_dependence_003.png\" style=\"float: center;\" width=\"800\">\n",
    "\n",
    "---------------------------------\n",
    "**GENERAL NOTE 1**: \n",
    "Please make sure you are reading the entire notebook, since it contains a lot of information on your tasks (e.g. regarding the set of certain paramaters or a specific computational trick), and the written mark downs as well as comments contain a lot of information on how things work together as a whole. \n",
    "\n",
    "**GENERAL NOTE 2**: \n",
    "* Please, when commenting source code, just use English language only. \n",
    "* When describing an observation please use English language, too.\n",
    "* This applies to all exercises throughout this course.\n",
    "\n",
    "---------------------------------\n",
    "\n",
    "### <font color=\"ce33ff\">DESCRIPTION</font>:\n",
    "\n",
    "Partial dependence plots (PDP) and individual conditional expectation (ICE) plots can be used to visualize and analyze the interaction between the target response and a set of input features of interest.\n",
    "Both PDPs [H2009] and ICEs [G2015] assume that the input features of interest are independent from the complement features and this assumption is often violated in practice. Thus, in the case of correlated features, we will create absurd data points to compute the PDP/ICE.\n",
    "\n",
    "[H2009]\n",
    "T. Hastie, R. Tibshirani and J. Friedman, The Elements of Statistical Learning, Second Edition, Section 10.13.2, Springer, 2009.\n",
    "\n",
    "[G2015]\n",
    "A. Goldstein, A. Kapelner, J. Bleich, and E. Pitkin, “Peeking Inside the Black Box: Visualizing Statistical Learning With Plots of Individual Conditional Expectation” Journal of Computational and Graphical Statistics, 24(1): 44-65, Springer, 2015.\n",
    "\n",
    "---------------------------------\n",
    "\n",
    "### <font color=\"FFC300\">TASKS</font>:\n",
    "The tasks that you need to work on within this notebook are always indicated below as bullet points. \n",
    "If a task is more challenging and consists of several steps, this is indicated as well. \n",
    "Make sure you have worked down the task list and commented your doings. \n",
    "This should be done by using markdown.<br> \n",
    "<font color=red>Make sure you don't forget to specify your name and your matriculation number in the notebook.</font>\n",
    "\n",
    "**YOUR TASKS in this exercise are as follows**:\n",
    "1. import the notebook to Google Colab or use your local machine.\n",
    "2. make sure you specified you name and your matriculation number in the header below my name and date. \n",
    "    * set the date too and remove mine.\n",
    "3. read the entire notebook carefully \n",
    "    * add comments whereever you feel it necessary for better understanding\n",
    "    * run the notebook for the first time.\n",
    "    * try to follow the interpretations by printing out the decision tree and look for the feature patterns that the PDPs indicate.\n",
    "\n",
    "**PART I**<br>\n",
    "4. download an interesting data set from Kaggle and do the preprocessing.<br>\n",
    "5. change the classifier according to the data set. The more blackbox the better.<br>\n",
    "6. use PDP to identify the most relevant features explaining the target response of the data set.<br> \n",
    "7. comment your entire code and your findings.<br>  \n",
    "\n",
    "**PART II**<br>\n",
    "8. use the data set and the classifer from steps 4 and 5<br>\n",
    "9. plot ICE curves with parameter (kind='both')<br>\n",
    "10. comment your entire code and your findings.<br>  \n",
    "\n",
    "---------------------------------"
   ]
  },
  {
   "cell_type": "markdown",
   "metadata": {
    "tags": []
   },
   "source": [
    "# <font color=\"ce33ff\">PART I (Partial Dependence Plots)</font>"
   ]
  },
  {
   "cell_type": "markdown",
   "metadata": {
    "id": "L1MnrZSd06ED"
   },
   "source": [
    "## Imports\n",
    "Import all necessary python utilities."
   ]
  },
  {
   "cell_type": "code",
   "execution_count": 54,
   "metadata": {},
   "outputs": [],
   "source": [
    "#make sure you take these packages (in colab too)\n",
    "#!pip install matplotlib==3.1.1 scikit-learn==0.23.1 PDPbox==0.2.1"
   ]
  },
  {
   "cell_type": "code",
   "execution_count": 55,
   "metadata": {
    "tags": []
   },
   "outputs": [],
   "source": [
    "import numpy as np\n",
    "import pandas as pd\n",
    "\n",
    "from sklearn.model_selection import train_test_split\n",
    "from sklearn.tree import DecisionTreeClassifier\n",
    "from sklearn.ensemble import RandomForestClassifier\n",
    "\n",
    "from matplotlib import pyplot as plt\n",
    "from pdpbox import pdp, get_example, info_plots\n",
    "\n",
    "#import warnings \n",
    "#warnings.filterwarnings('ignore')"
   ]
  },
  {
   "cell_type": "markdown",
   "metadata": {},
   "source": [
    "## Load data set"
   ]
  },
  {
   "cell_type": "code",
   "execution_count": 56,
   "metadata": {
    "tags": []
   },
   "outputs": [
    {
     "data": {
      "text/html": [
       "<div>\n",
       "<style scoped>\n",
       "    .dataframe tbody tr th:only-of-type {\n",
       "        vertical-align: middle;\n",
       "    }\n",
       "\n",
       "    .dataframe tbody tr th {\n",
       "        vertical-align: top;\n",
       "    }\n",
       "\n",
       "    .dataframe thead th {\n",
       "        text-align: right;\n",
       "    }\n",
       "</style>\n",
       "<table border=\"1\" class=\"dataframe\">\n",
       "  <thead>\n",
       "    <tr style=\"text-align: right;\">\n",
       "      <th></th>\n",
       "      <th>Date</th>\n",
       "      <th>Team</th>\n",
       "      <th>Opponent</th>\n",
       "      <th>Goal Scored</th>\n",
       "      <th>Ball Possession %</th>\n",
       "      <th>Attempts</th>\n",
       "      <th>On-Target</th>\n",
       "      <th>Off-Target</th>\n",
       "      <th>Blocked</th>\n",
       "      <th>Corners</th>\n",
       "      <th>...</th>\n",
       "      <th>Yellow Card</th>\n",
       "      <th>Yellow &amp; Red</th>\n",
       "      <th>Red</th>\n",
       "      <th>Man of the Match</th>\n",
       "      <th>1st Goal</th>\n",
       "      <th>Round</th>\n",
       "      <th>PSO</th>\n",
       "      <th>Goals in PSO</th>\n",
       "      <th>Own goals</th>\n",
       "      <th>Own goal Time</th>\n",
       "    </tr>\n",
       "  </thead>\n",
       "  <tbody>\n",
       "    <tr>\n",
       "      <th>0</th>\n",
       "      <td>14-06-2018</td>\n",
       "      <td>Russia</td>\n",
       "      <td>Saudi Arabia</td>\n",
       "      <td>5</td>\n",
       "      <td>40</td>\n",
       "      <td>13</td>\n",
       "      <td>7</td>\n",
       "      <td>3</td>\n",
       "      <td>3</td>\n",
       "      <td>6</td>\n",
       "      <td>...</td>\n",
       "      <td>0</td>\n",
       "      <td>0</td>\n",
       "      <td>0</td>\n",
       "      <td>Yes</td>\n",
       "      <td>12.0</td>\n",
       "      <td>Group Stage</td>\n",
       "      <td>No</td>\n",
       "      <td>0</td>\n",
       "      <td>NaN</td>\n",
       "      <td>NaN</td>\n",
       "    </tr>\n",
       "    <tr>\n",
       "      <th>1</th>\n",
       "      <td>14-06-2018</td>\n",
       "      <td>Saudi Arabia</td>\n",
       "      <td>Russia</td>\n",
       "      <td>0</td>\n",
       "      <td>60</td>\n",
       "      <td>6</td>\n",
       "      <td>0</td>\n",
       "      <td>3</td>\n",
       "      <td>3</td>\n",
       "      <td>2</td>\n",
       "      <td>...</td>\n",
       "      <td>0</td>\n",
       "      <td>0</td>\n",
       "      <td>0</td>\n",
       "      <td>No</td>\n",
       "      <td>NaN</td>\n",
       "      <td>Group Stage</td>\n",
       "      <td>No</td>\n",
       "      <td>0</td>\n",
       "      <td>NaN</td>\n",
       "      <td>NaN</td>\n",
       "    </tr>\n",
       "    <tr>\n",
       "      <th>2</th>\n",
       "      <td>15-06-2018</td>\n",
       "      <td>Egypt</td>\n",
       "      <td>Uruguay</td>\n",
       "      <td>0</td>\n",
       "      <td>43</td>\n",
       "      <td>8</td>\n",
       "      <td>3</td>\n",
       "      <td>3</td>\n",
       "      <td>2</td>\n",
       "      <td>0</td>\n",
       "      <td>...</td>\n",
       "      <td>2</td>\n",
       "      <td>0</td>\n",
       "      <td>0</td>\n",
       "      <td>No</td>\n",
       "      <td>NaN</td>\n",
       "      <td>Group Stage</td>\n",
       "      <td>No</td>\n",
       "      <td>0</td>\n",
       "      <td>NaN</td>\n",
       "      <td>NaN</td>\n",
       "    </tr>\n",
       "  </tbody>\n",
       "</table>\n",
       "<p>3 rows × 27 columns</p>\n",
       "</div>"
      ],
      "text/plain": [
       "         Date          Team      Opponent  Goal Scored  Ball Possession %  \\\n",
       "0  14-06-2018        Russia  Saudi Arabia            5                 40   \n",
       "1  14-06-2018  Saudi Arabia        Russia            0                 60   \n",
       "2  15-06-2018         Egypt       Uruguay            0                 43   \n",
       "\n",
       "   Attempts  On-Target  Off-Target  Blocked  Corners  ...  Yellow Card  \\\n",
       "0        13          7           3        3        6  ...            0   \n",
       "1         6          0           3        3        2  ...            0   \n",
       "2         8          3           3        2        0  ...            2   \n",
       "\n",
       "   Yellow & Red  Red  Man of the Match  1st Goal        Round  PSO  \\\n",
       "0             0    0               Yes      12.0  Group Stage   No   \n",
       "1             0    0                No       NaN  Group Stage   No   \n",
       "2             0    0                No       NaN  Group Stage   No   \n",
       "\n",
       "   Goals in PSO  Own goals  Own goal Time  \n",
       "0             0        NaN            NaN  \n",
       "1             0        NaN            NaN  \n",
       "2             0        NaN            NaN  \n",
       "\n",
       "[3 rows x 27 columns]"
      ]
     },
     "execution_count": 56,
     "metadata": {},
     "output_type": "execute_result"
    }
   ],
   "source": [
    "data = pd.read_csv('./data/FIFA/FIFA.Statistics.2018.csv')\n",
    "data.head(3)"
   ]
  },
  {
   "cell_type": "code",
   "execution_count": 57,
   "metadata": {
    "tags": []
   },
   "outputs": [
    {
     "name": "stdout",
     "output_type": "stream",
     "text": [
      "['Date', 'Team', 'Opponent', 'Goal Scored', 'Ball Possession %', 'Attempts', 'On-Target', 'Off-Target', 'Blocked', 'Corners', 'Offsides', 'Free Kicks', 'Saves', 'Pass Accuracy %', 'Passes', 'Distance Covered (Kms)', 'Fouls Committed', 'Yellow Card', 'Yellow & Red', 'Red', 'Man of the Match', '1st Goal', 'Round', 'PSO', 'Goals in PSO', 'Own goals', 'Own goal Time']\n"
     ]
    }
   ],
   "source": [
    "# all features are:\n",
    "print(data.columns.tolist())"
   ]
  },
  {
   "cell_type": "markdown",
   "metadata": {},
   "source": [
    "## Preprocessing\n"
   ]
  },
  {
   "cell_type": "code",
   "execution_count": 58,
   "metadata": {
    "tags": []
   },
   "outputs": [],
   "source": [
    "# Convert from string “Yes”/”No” to binary\n",
    "y = (data['Man of the Match'] == 'Yes') \n",
    "\n",
    "feature_names = [i for i in data.columns if data[i].dtype in [np.int64]]\n",
    "\n",
    "x = data[feature_names]"
   ]
  },
  {
   "cell_type": "markdown",
   "metadata": {},
   "source": [
    "## Train the classifier\n",
    "\n",
    "Start with a simple decision tree model.\n",
    "<font color=red>Note:</font> The calculation of a partial dependence can happen obviously, only after a model has been trained. "
   ]
  },
  {
   "cell_type": "code",
   "execution_count": 59,
   "metadata": {
    "tags": []
   },
   "outputs": [],
   "source": [
    "train_x, val_x, train_y, val_y = train_test_split(x, y, random_state=1)\n",
    "tree_model = DecisionTreeClassifier(random_state=0, max_depth=5, min_samples_split=5).fit(train_x, train_y)"
   ]
  },
  {
   "cell_type": "markdown",
   "metadata": {},
   "source": [
    "## Partial Dependence Plots (PDP)\n",
    "#### read the API reference guide for further possibilities \n",
    "https://pdpbox.readthedocs.io/en/latest/PDPIsolate.html#pdpbox.pdp.PDPIsolate"
   ]
  },
  {
   "cell_type": "code",
   "execution_count": 60,
   "metadata": {
    "tags": []
   },
   "outputs": [
    {
     "name": "stdout",
     "output_type": "stream",
     "text": [
      "obtain pred_func from the provided model.\n"
     ]
    },
    {
     "name": "stderr",
     "output_type": "stream",
     "text": [
      "100%|██████████| 6/6 [00:00<00:00, 1190.72it/s]\n"
     ]
    },
    {
     "data": {
      "application/vnd.plotly.v1+json": {
       "config": {
        "plotlyServerURL": "https://plot.ly"
       },
       "data": [
        {
         "hoverinfo": "none",
         "line": {
          "color": "rgba(193,217,237,0.6643856189774724)",
          "width": 0.6643856189774724
         },
         "mode": "lines",
         "type": "scatter",
         "x": [
          0,
          0.8888888888888884,
          1,
          1.2222222222222214,
          2,
          3
         ],
         "xaxis": "x",
         "y": [
          0,
          0.6,
          0.6,
          0.6,
          0.6,
          0.6
         ],
         "yaxis": "y"
        },
        {
         "hoverinfo": "none",
         "line": {
          "color": "rgba(177,210,231,0.6643856189774724)",
          "width": 0.6643856189774724
         },
         "mode": "lines",
         "type": "scatter",
         "x": [
          0,
          0.8888888888888884,
          1,
          1.2222222222222214,
          2,
          3
         ],
         "xaxis": "x",
         "y": [
          1,
          1,
          1,
          1,
          1,
          1
         ],
         "yaxis": "y"
        },
        {
         "hoverinfo": "none",
         "line": {
          "color": "rgba(160,202,225,0.6643856189774724)",
          "width": 0.6643856189774724
         },
         "mode": "lines",
         "type": "scatter",
         "x": [
          0,
          0.8888888888888884,
          1,
          1.2222222222222214,
          2,
          3
         ],
         "xaxis": "x",
         "y": [
          0,
          1,
          1,
          1,
          1,
          1
         ],
         "yaxis": "y"
        },
        {
         "hoverinfo": "none",
         "line": {
          "color": "rgba(139,192,221,0.6643856189774724)",
          "width": 0.6643856189774724
         },
         "mode": "lines",
         "type": "scatter",
         "x": [
          0,
          0.8888888888888884,
          1,
          1.2222222222222214,
          2,
          3
         ],
         "xaxis": "x",
         "y": [
          0.5,
          0.9583333333333334,
          0.9583333333333334,
          0.9583333333333334,
          0.9583333333333334,
          0.9583333333333334
         ],
         "yaxis": "y"
        },
        {
         "hoverinfo": "none",
         "line": {
          "color": "rgba(117,179,216,0.6643856189774724)",
          "width": 0.6643856189774724
         },
         "mode": "lines",
         "type": "scatter",
         "x": [
          0,
          0.8888888888888884,
          1,
          1.2222222222222214,
          2,
          3
         ],
         "xaxis": "x",
         "y": [
          0,
          1,
          1,
          1,
          1,
          1
         ],
         "yaxis": "y"
        },
        {
         "hoverinfo": "none",
         "line": {
          "color": "rgba(98,168,210,0.6643856189774724)",
          "width": 0.6643856189774724
         },
         "mode": "lines",
         "type": "scatter",
         "x": [
          0,
          0.8888888888888884,
          1,
          1.2222222222222214,
          2,
          3
         ],
         "xaxis": "x",
         "y": [
          0,
          0.9583333333333334,
          0.9583333333333334,
          0.9583333333333334,
          0.9583333333333334,
          0.9583333333333334
         ],
         "yaxis": "y"
        },
        {
         "hoverinfo": "none",
         "line": {
          "color": "rgba(80,155,203,0.6643856189774724)",
          "width": 0.6643856189774724
         },
         "mode": "lines",
         "type": "scatter",
         "x": [
          0,
          0.8888888888888884,
          1,
          1.2222222222222214,
          2,
          3
         ],
         "xaxis": "x",
         "y": [
          0,
          0.9583333333333334,
          0.9583333333333334,
          0.9583333333333334,
          0.9583333333333334,
          0.9583333333333334
         ],
         "yaxis": "y"
        },
        {
         "hoverinfo": "none",
         "line": {
          "color": "rgba(64,144,197,0.6643856189774724)",
          "width": 0.6643856189774724
         },
         "mode": "lines",
         "type": "scatter",
         "x": [
          0,
          0.8888888888888884,
          1,
          1.2222222222222214,
          2,
          3
         ],
         "xaxis": "x",
         "y": [
          0,
          0.9583333333333334,
          0.9583333333333334,
          0.9583333333333334,
          0.9583333333333334,
          0.9583333333333334
         ],
         "yaxis": "y"
        },
        {
         "hoverinfo": "none",
         "line": {
          "color": "rgba(49,129,189,0.6643856189774724)",
          "width": 0.6643856189774724
         },
         "mode": "lines",
         "type": "scatter",
         "x": [
          0,
          0.8888888888888884,
          1,
          1.2222222222222214,
          2,
          3
         ],
         "xaxis": "x",
         "y": [
          0,
          0.34782608695652173,
          0.34782608695652173,
          0.34782608695652173,
          0.34782608695652173,
          0.34782608695652173
         ],
         "yaxis": "y"
        },
        {
         "hoverinfo": "none",
         "line": {
          "color": "rgba(36,116,182,0.6643856189774724)",
          "width": 0.6643856189774724
         },
         "mode": "lines",
         "type": "scatter",
         "x": [
          0,
          0.8888888888888884,
          1,
          1.2222222222222214,
          2,
          3
         ],
         "xaxis": "x",
         "y": [
          0,
          0.9583333333333334,
          0.9583333333333334,
          0.9583333333333334,
          0.9583333333333334,
          0.9583333333333334
         ],
         "yaxis": "y"
        },
        {
         "hoverinfo": "none",
         "line": {
          "color": "rgba(193,217,237,0.6643856189774724)",
          "width": 0.6643856189774724
         },
         "mode": "lines",
         "type": "scatter",
         "x": [
          0,
          0.8888888888888884,
          1,
          1.2222222222222214,
          2,
          3
         ],
         "xaxis": "x",
         "y": [
          0,
          0.34782608695652173,
          0.34782608695652173,
          0.34782608695652173,
          0.34782608695652173,
          0.34782608695652173
         ],
         "yaxis": "y"
        },
        {
         "hoverinfo": "none",
         "line": {
          "color": "rgba(177,210,231,0.6643856189774724)",
          "width": 0.6643856189774724
         },
         "mode": "lines",
         "type": "scatter",
         "x": [
          0,
          0.8888888888888884,
          1,
          1.2222222222222214,
          2,
          3
         ],
         "xaxis": "x",
         "y": [
          0,
          1,
          1,
          1,
          1,
          1
         ],
         "yaxis": "y"
        },
        {
         "hoverinfo": "none",
         "line": {
          "color": "rgba(160,202,225,0.6643856189774724)",
          "width": 0.6643856189774724
         },
         "mode": "lines",
         "type": "scatter",
         "x": [
          0,
          0.8888888888888884,
          1,
          1.2222222222222214,
          2,
          3
         ],
         "xaxis": "x",
         "y": [
          0,
          1,
          1,
          1,
          1,
          1
         ],
         "yaxis": "y"
        },
        {
         "hoverinfo": "none",
         "line": {
          "color": "rgba(139,192,221,0.6643856189774724)",
          "width": 0.6643856189774724
         },
         "mode": "lines",
         "type": "scatter",
         "x": [
          0,
          0.8888888888888884,
          1,
          1.2222222222222214,
          2,
          3
         ],
         "xaxis": "x",
         "y": [
          0,
          0.34782608695652173,
          0.34782608695652173,
          0.34782608695652173,
          0.34782608695652173,
          0.34782608695652173
         ],
         "yaxis": "y"
        },
        {
         "hoverinfo": "none",
         "line": {
          "color": "rgba(117,179,216,0.6643856189774724)",
          "width": 0.6643856189774724
         },
         "mode": "lines",
         "type": "scatter",
         "x": [
          0,
          0.8888888888888884,
          1,
          1.2222222222222214,
          2,
          3
         ],
         "xaxis": "x",
         "y": [
          0,
          0.9583333333333334,
          0.9583333333333334,
          0.9583333333333334,
          0.9583333333333334,
          0.9583333333333334
         ],
         "yaxis": "y"
        },
        {
         "hoverinfo": "none",
         "line": {
          "color": "rgba(98,168,210,0.6643856189774724)",
          "width": 0.6643856189774724
         },
         "mode": "lines",
         "type": "scatter",
         "x": [
          0,
          0.8888888888888884,
          1,
          1.2222222222222214,
          2,
          3
         ],
         "xaxis": "x",
         "y": [
          0,
          1,
          1,
          1,
          1,
          1
         ],
         "yaxis": "y"
        },
        {
         "hoverinfo": "none",
         "line": {
          "color": "rgba(80,155,203,0.6643856189774724)",
          "width": 0.6643856189774724
         },
         "mode": "lines",
         "type": "scatter",
         "x": [
          0,
          0.8888888888888884,
          1,
          1.2222222222222214,
          2,
          3
         ],
         "xaxis": "x",
         "y": [
          1,
          0.9583333333333334,
          0.9583333333333334,
          0.9583333333333334,
          0.9583333333333334,
          0.9583333333333334
         ],
         "yaxis": "y"
        },
        {
         "hoverinfo": "none",
         "line": {
          "color": "rgba(64,144,197,0.6643856189774724)",
          "width": 0.6643856189774724
         },
         "mode": "lines",
         "type": "scatter",
         "x": [
          0,
          0.8888888888888884,
          1,
          1.2222222222222214,
          2,
          3
         ],
         "xaxis": "x",
         "y": [
          0,
          0.34782608695652173,
          0.34782608695652173,
          0.34782608695652173,
          0.34782608695652173,
          0.34782608695652173
         ],
         "yaxis": "y"
        },
        {
         "hoverinfo": "none",
         "line": {
          "color": "rgba(49,129,189,0.6643856189774724)",
          "width": 0.6643856189774724
         },
         "mode": "lines",
         "type": "scatter",
         "x": [
          0,
          0.8888888888888884,
          1,
          1.2222222222222214,
          2,
          3
         ],
         "xaxis": "x",
         "y": [
          0,
          0.34782608695652173,
          0.34782608695652173,
          0.34782608695652173,
          0.34782608695652173,
          0.34782608695652173
         ],
         "yaxis": "y"
        },
        {
         "hoverinfo": "none",
         "line": {
          "color": "rgba(36,116,182,0.6643856189774724)",
          "width": 0.6643856189774724
         },
         "mode": "lines",
         "type": "scatter",
         "x": [
          0,
          0.8888888888888884,
          1,
          1.2222222222222214,
          2,
          3
         ],
         "xaxis": "x",
         "y": [
          1,
          0.6,
          0.6,
          0.6,
          0.6,
          0.6
         ],
         "yaxis": "y"
        },
        {
         "hoverinfo": "none",
         "line": {
          "color": "rgba(193,217,237,0.6643856189774724)",
          "width": 0.6643856189774724
         },
         "mode": "lines",
         "type": "scatter",
         "x": [
          0,
          0.8888888888888884,
          1,
          1.2222222222222214,
          2,
          3
         ],
         "xaxis": "x",
         "y": [
          0.5,
          0.9583333333333334,
          0.9583333333333334,
          0.9583333333333334,
          0.9583333333333334,
          0.9583333333333334
         ],
         "yaxis": "y"
        },
        {
         "hoverinfo": "none",
         "line": {
          "color": "rgba(177,210,231,0.6643856189774724)",
          "width": 0.6643856189774724
         },
         "mode": "lines",
         "type": "scatter",
         "x": [
          0,
          0.8888888888888884,
          1,
          1.2222222222222214,
          2,
          3
         ],
         "xaxis": "x",
         "y": [
          0,
          0.34782608695652173,
          0.34782608695652173,
          0.34782608695652173,
          0.34782608695652173,
          0.34782608695652173
         ],
         "yaxis": "y"
        },
        {
         "hoverinfo": "none",
         "line": {
          "color": "rgba(160,202,225,0.6643856189774724)",
          "width": 0.6643856189774724
         },
         "mode": "lines",
         "type": "scatter",
         "x": [
          0,
          0.8888888888888884,
          1,
          1.2222222222222214,
          2,
          3
         ],
         "xaxis": "x",
         "y": [
          0,
          1,
          1,
          1,
          1,
          1
         ],
         "yaxis": "y"
        },
        {
         "hoverinfo": "none",
         "line": {
          "color": "rgba(139,192,221,0.6643856189774724)",
          "width": 0.6643856189774724
         },
         "mode": "lines",
         "type": "scatter",
         "x": [
          0,
          0.8888888888888884,
          1,
          1.2222222222222214,
          2,
          3
         ],
         "xaxis": "x",
         "y": [
          0,
          0.34782608695652173,
          0.34782608695652173,
          0.34782608695652173,
          0.34782608695652173,
          0.34782608695652173
         ],
         "yaxis": "y"
        },
        {
         "hoverinfo": "none",
         "line": {
          "color": "rgba(117,179,216,0.6643856189774724)",
          "width": 0.6643856189774724
         },
         "mode": "lines",
         "type": "scatter",
         "x": [
          0,
          0.8888888888888884,
          1,
          1.2222222222222214,
          2,
          3
         ],
         "xaxis": "x",
         "y": [
          0,
          1,
          1,
          1,
          1,
          1
         ],
         "yaxis": "y"
        },
        {
         "hoverinfo": "none",
         "line": {
          "color": "rgba(98,168,210,0.6643856189774724)",
          "width": 0.6643856189774724
         },
         "mode": "lines",
         "type": "scatter",
         "x": [
          0,
          0.8888888888888884,
          1,
          1.2222222222222214,
          2,
          3
         ],
         "xaxis": "x",
         "y": [
          0,
          0.34782608695652173,
          0.34782608695652173,
          0.34782608695652173,
          0.34782608695652173,
          0.34782608695652173
         ],
         "yaxis": "y"
        },
        {
         "hoverinfo": "none",
         "line": {
          "color": "rgba(80,155,203,0.6643856189774724)",
          "width": 0.6643856189774724
         },
         "mode": "lines",
         "type": "scatter",
         "x": [
          0,
          0.8888888888888884,
          1,
          1.2222222222222214,
          2,
          3
         ],
         "xaxis": "x",
         "y": [
          0,
          0.34782608695652173,
          0.34782608695652173,
          0.34782608695652173,
          0.34782608695652173,
          0.34782608695652173
         ],
         "yaxis": "y"
        },
        {
         "hoverinfo": "none",
         "line": {
          "color": "rgba(64,144,197,0.6643856189774724)",
          "width": 0.6643856189774724
         },
         "mode": "lines",
         "type": "scatter",
         "x": [
          0,
          0.8888888888888884,
          1,
          1.2222222222222214,
          2,
          3
         ],
         "xaxis": "x",
         "y": [
          0,
          1,
          1,
          1,
          1,
          1
         ],
         "yaxis": "y"
        },
        {
         "hoverinfo": "none",
         "line": {
          "color": "rgba(49,129,189,0.6643856189774724)",
          "width": 0.6643856189774724
         },
         "mode": "lines",
         "type": "scatter",
         "x": [
          0,
          0.8888888888888884,
          1,
          1.2222222222222214,
          2,
          3
         ],
         "xaxis": "x",
         "y": [
          0,
          0.9583333333333334,
          0.9583333333333334,
          0.9583333333333334,
          0.9583333333333334,
          0.9583333333333334
         ],
         "yaxis": "y"
        },
        {
         "hoverinfo": "none",
         "line": {
          "color": "rgba(36,116,182,0.6643856189774724)",
          "width": 0.6643856189774724
         },
         "mode": "lines",
         "type": "scatter",
         "x": [
          0,
          0.8888888888888884,
          1,
          1.2222222222222214,
          2,
          3
         ],
         "xaxis": "x",
         "y": [
          0,
          1,
          1,
          1,
          1,
          1
         ],
         "yaxis": "y"
        },
        {
         "hoverinfo": "none",
         "line": {
          "color": "rgba(193,217,237,0.6643856189774724)",
          "width": 0.6643856189774724
         },
         "mode": "lines",
         "type": "scatter",
         "x": [
          0,
          0.8888888888888884,
          1,
          1.2222222222222214,
          2,
          3
         ],
         "xaxis": "x",
         "y": [
          0,
          1,
          1,
          1,
          1,
          1
         ],
         "yaxis": "y"
        },
        {
         "hoverinfo": "none",
         "line": {
          "color": "rgba(177,210,231,0.6643856189774724)",
          "width": 0.6643856189774724
         },
         "mode": "lines",
         "type": "scatter",
         "x": [
          0,
          0.8888888888888884,
          1,
          1.2222222222222214,
          2,
          3
         ],
         "xaxis": "x",
         "y": [
          0,
          0.34782608695652173,
          0.34782608695652173,
          0.34782608695652173,
          0.34782608695652173,
          0.34782608695652173
         ],
         "yaxis": "y"
        },
        {
         "hoverinfo": "none",
         "line": {
          "color": "#FEDC00",
          "width": 4.5
         },
         "mode": "lines",
         "type": "scatter",
         "x": [
          0,
          0.8888888888888884,
          1,
          1.2222222222222214,
          2,
          3
         ],
         "xaxis": "x",
         "y": [
          0.125,
          0.7594769021739132,
          0.7594769021739132,
          0.7594769021739132,
          0.7594769021739132,
          0.7594769021739132
         ],
         "yaxis": "y"
        },
        {
         "hoverinfo": "none",
         "line": {
          "color": "#E75438",
          "dash": "dash",
          "width": 1.5
         },
         "mode": "lines",
         "type": "scatter",
         "x": [
          0,
          0.8888888888888884,
          1,
          1.2222222222222214,
          2,
          3
         ],
         "xaxis": "x",
         "y": [
          0,
          0,
          0,
          0,
          0,
          0
         ],
         "yaxis": "y"
        },
        {
         "hovertemplate": "%{y}",
         "line": {
          "color": "rgba(8,48,107,1.0)",
          "width": 1.5
         },
         "marker": {
          "color": "rgba(8,48,107,1.0)",
          "size": 5
         },
         "mode": "lines+markers",
         "name": "pdp",
         "type": "scatter",
         "x": [
          0,
          0.8888888888888884,
          1,
          1.2222222222222214,
          2,
          3
         ],
         "xaxis": "x",
         "y": [
          0.125,
          0.7594769021739132,
          0.7594769021739132,
          0.7594769021739132,
          0.7594769021739132,
          0.7594769021739132
         ],
         "yaxis": "y"
        },
        {
         "hoverinfo": "none",
         "mode": "text",
         "name": "dist",
         "showlegend": false,
         "text": [
          "|",
          "|",
          "|",
          "|",
          "|",
          "|",
          "|",
          "|",
          "|",
          "|",
          "|",
          "|",
          "|",
          "|",
          "|",
          "|",
          "|",
          "|",
          "|",
          "|",
          "|",
          "|",
          "|",
          "|",
          "|",
          "|",
          "|",
          "|",
          "|",
          "|",
          "|",
          "|"
         ],
         "textfont": {
          "color": "rgba(8,48,107,1.0)",
          "size": 20
         },
         "textposition": "middle center",
         "type": "scatter",
         "x": [
          0,
          2,
          2,
          2,
          1,
          2,
          2,
          0,
          2,
          2,
          1,
          1,
          0,
          1,
          1,
          2,
          2,
          1,
          1,
          3,
          0,
          0,
          2,
          0,
          1,
          2,
          2,
          0,
          1,
          1,
          3,
          1
         ],
         "xaxis": "x2",
         "y": [
          1,
          1,
          1,
          1,
          1,
          1,
          1,
          1,
          1,
          1,
          1,
          1,
          1,
          1,
          1,
          1,
          1,
          1,
          1,
          1,
          1,
          1,
          1,
          1,
          1,
          1,
          1,
          1,
          1,
          1,
          1,
          1
         ],
         "yaxis": "y2"
        }
       ],
       "layout": {
        "height": 600,
        "showlegend": false,
        "template": {
         "data": {
          "bar": [
           {
            "error_x": {
             "color": "#2a3f5f"
            },
            "error_y": {
             "color": "#2a3f5f"
            },
            "marker": {
             "line": {
              "color": "white",
              "width": 0.5
             },
             "pattern": {
              "fillmode": "overlay",
              "size": 10,
              "solidity": 0.2
             }
            },
            "type": "bar"
           }
          ],
          "barpolar": [
           {
            "marker": {
             "line": {
              "color": "white",
              "width": 0.5
             },
             "pattern": {
              "fillmode": "overlay",
              "size": 10,
              "solidity": 0.2
             }
            },
            "type": "barpolar"
           }
          ],
          "carpet": [
           {
            "aaxis": {
             "endlinecolor": "#2a3f5f",
             "gridcolor": "#C8D4E3",
             "linecolor": "#C8D4E3",
             "minorgridcolor": "#C8D4E3",
             "startlinecolor": "#2a3f5f"
            },
            "baxis": {
             "endlinecolor": "#2a3f5f",
             "gridcolor": "#C8D4E3",
             "linecolor": "#C8D4E3",
             "minorgridcolor": "#C8D4E3",
             "startlinecolor": "#2a3f5f"
            },
            "type": "carpet"
           }
          ],
          "choropleth": [
           {
            "colorbar": {
             "outlinewidth": 0,
             "ticks": ""
            },
            "type": "choropleth"
           }
          ],
          "contour": [
           {
            "colorbar": {
             "outlinewidth": 0,
             "ticks": ""
            },
            "colorscale": [
             [
              0,
              "#0d0887"
             ],
             [
              0.1111111111111111,
              "#46039f"
             ],
             [
              0.2222222222222222,
              "#7201a8"
             ],
             [
              0.3333333333333333,
              "#9c179e"
             ],
             [
              0.4444444444444444,
              "#bd3786"
             ],
             [
              0.5555555555555556,
              "#d8576b"
             ],
             [
              0.6666666666666666,
              "#ed7953"
             ],
             [
              0.7777777777777778,
              "#fb9f3a"
             ],
             [
              0.8888888888888888,
              "#fdca26"
             ],
             [
              1,
              "#f0f921"
             ]
            ],
            "type": "contour"
           }
          ],
          "contourcarpet": [
           {
            "colorbar": {
             "outlinewidth": 0,
             "ticks": ""
            },
            "type": "contourcarpet"
           }
          ],
          "heatmap": [
           {
            "colorbar": {
             "outlinewidth": 0,
             "ticks": ""
            },
            "colorscale": [
             [
              0,
              "#0d0887"
             ],
             [
              0.1111111111111111,
              "#46039f"
             ],
             [
              0.2222222222222222,
              "#7201a8"
             ],
             [
              0.3333333333333333,
              "#9c179e"
             ],
             [
              0.4444444444444444,
              "#bd3786"
             ],
             [
              0.5555555555555556,
              "#d8576b"
             ],
             [
              0.6666666666666666,
              "#ed7953"
             ],
             [
              0.7777777777777778,
              "#fb9f3a"
             ],
             [
              0.8888888888888888,
              "#fdca26"
             ],
             [
              1,
              "#f0f921"
             ]
            ],
            "type": "heatmap"
           }
          ],
          "heatmapgl": [
           {
            "colorbar": {
             "outlinewidth": 0,
             "ticks": ""
            },
            "colorscale": [
             [
              0,
              "#0d0887"
             ],
             [
              0.1111111111111111,
              "#46039f"
             ],
             [
              0.2222222222222222,
              "#7201a8"
             ],
             [
              0.3333333333333333,
              "#9c179e"
             ],
             [
              0.4444444444444444,
              "#bd3786"
             ],
             [
              0.5555555555555556,
              "#d8576b"
             ],
             [
              0.6666666666666666,
              "#ed7953"
             ],
             [
              0.7777777777777778,
              "#fb9f3a"
             ],
             [
              0.8888888888888888,
              "#fdca26"
             ],
             [
              1,
              "#f0f921"
             ]
            ],
            "type": "heatmapgl"
           }
          ],
          "histogram": [
           {
            "marker": {
             "pattern": {
              "fillmode": "overlay",
              "size": 10,
              "solidity": 0.2
             }
            },
            "type": "histogram"
           }
          ],
          "histogram2d": [
           {
            "colorbar": {
             "outlinewidth": 0,
             "ticks": ""
            },
            "colorscale": [
             [
              0,
              "#0d0887"
             ],
             [
              0.1111111111111111,
              "#46039f"
             ],
             [
              0.2222222222222222,
              "#7201a8"
             ],
             [
              0.3333333333333333,
              "#9c179e"
             ],
             [
              0.4444444444444444,
              "#bd3786"
             ],
             [
              0.5555555555555556,
              "#d8576b"
             ],
             [
              0.6666666666666666,
              "#ed7953"
             ],
             [
              0.7777777777777778,
              "#fb9f3a"
             ],
             [
              0.8888888888888888,
              "#fdca26"
             ],
             [
              1,
              "#f0f921"
             ]
            ],
            "type": "histogram2d"
           }
          ],
          "histogram2dcontour": [
           {
            "colorbar": {
             "outlinewidth": 0,
             "ticks": ""
            },
            "colorscale": [
             [
              0,
              "#0d0887"
             ],
             [
              0.1111111111111111,
              "#46039f"
             ],
             [
              0.2222222222222222,
              "#7201a8"
             ],
             [
              0.3333333333333333,
              "#9c179e"
             ],
             [
              0.4444444444444444,
              "#bd3786"
             ],
             [
              0.5555555555555556,
              "#d8576b"
             ],
             [
              0.6666666666666666,
              "#ed7953"
             ],
             [
              0.7777777777777778,
              "#fb9f3a"
             ],
             [
              0.8888888888888888,
              "#fdca26"
             ],
             [
              1,
              "#f0f921"
             ]
            ],
            "type": "histogram2dcontour"
           }
          ],
          "mesh3d": [
           {
            "colorbar": {
             "outlinewidth": 0,
             "ticks": ""
            },
            "type": "mesh3d"
           }
          ],
          "parcoords": [
           {
            "line": {
             "colorbar": {
              "outlinewidth": 0,
              "ticks": ""
             }
            },
            "type": "parcoords"
           }
          ],
          "pie": [
           {
            "automargin": true,
            "type": "pie"
           }
          ],
          "scatter": [
           {
            "fillpattern": {
             "fillmode": "overlay",
             "size": 10,
             "solidity": 0.2
            },
            "type": "scatter"
           }
          ],
          "scatter3d": [
           {
            "line": {
             "colorbar": {
              "outlinewidth": 0,
              "ticks": ""
             }
            },
            "marker": {
             "colorbar": {
              "outlinewidth": 0,
              "ticks": ""
             }
            },
            "type": "scatter3d"
           }
          ],
          "scattercarpet": [
           {
            "marker": {
             "colorbar": {
              "outlinewidth": 0,
              "ticks": ""
             }
            },
            "type": "scattercarpet"
           }
          ],
          "scattergeo": [
           {
            "marker": {
             "colorbar": {
              "outlinewidth": 0,
              "ticks": ""
             }
            },
            "type": "scattergeo"
           }
          ],
          "scattergl": [
           {
            "marker": {
             "colorbar": {
              "outlinewidth": 0,
              "ticks": ""
             }
            },
            "type": "scattergl"
           }
          ],
          "scattermapbox": [
           {
            "marker": {
             "colorbar": {
              "outlinewidth": 0,
              "ticks": ""
             }
            },
            "type": "scattermapbox"
           }
          ],
          "scatterpolar": [
           {
            "marker": {
             "colorbar": {
              "outlinewidth": 0,
              "ticks": ""
             }
            },
            "type": "scatterpolar"
           }
          ],
          "scatterpolargl": [
           {
            "marker": {
             "colorbar": {
              "outlinewidth": 0,
              "ticks": ""
             }
            },
            "type": "scatterpolargl"
           }
          ],
          "scatterternary": [
           {
            "marker": {
             "colorbar": {
              "outlinewidth": 0,
              "ticks": ""
             }
            },
            "type": "scatterternary"
           }
          ],
          "surface": [
           {
            "colorbar": {
             "outlinewidth": 0,
             "ticks": ""
            },
            "colorscale": [
             [
              0,
              "#0d0887"
             ],
             [
              0.1111111111111111,
              "#46039f"
             ],
             [
              0.2222222222222222,
              "#7201a8"
             ],
             [
              0.3333333333333333,
              "#9c179e"
             ],
             [
              0.4444444444444444,
              "#bd3786"
             ],
             [
              0.5555555555555556,
              "#d8576b"
             ],
             [
              0.6666666666666666,
              "#ed7953"
             ],
             [
              0.7777777777777778,
              "#fb9f3a"
             ],
             [
              0.8888888888888888,
              "#fdca26"
             ],
             [
              1,
              "#f0f921"
             ]
            ],
            "type": "surface"
           }
          ],
          "table": [
           {
            "cells": {
             "fill": {
              "color": "#EBF0F8"
             },
             "line": {
              "color": "white"
             }
            },
            "header": {
             "fill": {
              "color": "#C8D4E3"
             },
             "line": {
              "color": "white"
             }
            },
            "type": "table"
           }
          ]
         },
         "layout": {
          "annotationdefaults": {
           "arrowcolor": "#2a3f5f",
           "arrowhead": 0,
           "arrowwidth": 1
          },
          "autotypenumbers": "strict",
          "coloraxis": {
           "colorbar": {
            "outlinewidth": 0,
            "ticks": ""
           }
          },
          "colorscale": {
           "diverging": [
            [
             0,
             "#8e0152"
            ],
            [
             0.1,
             "#c51b7d"
            ],
            [
             0.2,
             "#de77ae"
            ],
            [
             0.3,
             "#f1b6da"
            ],
            [
             0.4,
             "#fde0ef"
            ],
            [
             0.5,
             "#f7f7f7"
            ],
            [
             0.6,
             "#e6f5d0"
            ],
            [
             0.7,
             "#b8e186"
            ],
            [
             0.8,
             "#7fbc41"
            ],
            [
             0.9,
             "#4d9221"
            ],
            [
             1,
             "#276419"
            ]
           ],
           "sequential": [
            [
             0,
             "#0d0887"
            ],
            [
             0.1111111111111111,
             "#46039f"
            ],
            [
             0.2222222222222222,
             "#7201a8"
            ],
            [
             0.3333333333333333,
             "#9c179e"
            ],
            [
             0.4444444444444444,
             "#bd3786"
            ],
            [
             0.5555555555555556,
             "#d8576b"
            ],
            [
             0.6666666666666666,
             "#ed7953"
            ],
            [
             0.7777777777777778,
             "#fb9f3a"
            ],
            [
             0.8888888888888888,
             "#fdca26"
            ],
            [
             1,
             "#f0f921"
            ]
           ],
           "sequentialminus": [
            [
             0,
             "#0d0887"
            ],
            [
             0.1111111111111111,
             "#46039f"
            ],
            [
             0.2222222222222222,
             "#7201a8"
            ],
            [
             0.3333333333333333,
             "#9c179e"
            ],
            [
             0.4444444444444444,
             "#bd3786"
            ],
            [
             0.5555555555555556,
             "#d8576b"
            ],
            [
             0.6666666666666666,
             "#ed7953"
            ],
            [
             0.7777777777777778,
             "#fb9f3a"
            ],
            [
             0.8888888888888888,
             "#fdca26"
            ],
            [
             1,
             "#f0f921"
            ]
           ]
          },
          "colorway": [
           "#636efa",
           "#EF553B",
           "#00cc96",
           "#ab63fa",
           "#FFA15A",
           "#19d3f3",
           "#FF6692",
           "#B6E880",
           "#FF97FF",
           "#FECB52"
          ],
          "font": {
           "color": "#2a3f5f"
          },
          "geo": {
           "bgcolor": "white",
           "lakecolor": "white",
           "landcolor": "white",
           "showlakes": true,
           "showland": true,
           "subunitcolor": "#C8D4E3"
          },
          "hoverlabel": {
           "align": "left"
          },
          "hovermode": "closest",
          "mapbox": {
           "style": "light"
          },
          "paper_bgcolor": "white",
          "plot_bgcolor": "white",
          "polar": {
           "angularaxis": {
            "gridcolor": "#EBF0F8",
            "linecolor": "#EBF0F8",
            "ticks": ""
           },
           "bgcolor": "white",
           "radialaxis": {
            "gridcolor": "#EBF0F8",
            "linecolor": "#EBF0F8",
            "ticks": ""
           }
          },
          "scene": {
           "xaxis": {
            "backgroundcolor": "white",
            "gridcolor": "#DFE8F3",
            "gridwidth": 2,
            "linecolor": "#EBF0F8",
            "showbackground": true,
            "ticks": "",
            "zerolinecolor": "#EBF0F8"
           },
           "yaxis": {
            "backgroundcolor": "white",
            "gridcolor": "#DFE8F3",
            "gridwidth": 2,
            "linecolor": "#EBF0F8",
            "showbackground": true,
            "ticks": "",
            "zerolinecolor": "#EBF0F8"
           },
           "zaxis": {
            "backgroundcolor": "white",
            "gridcolor": "#DFE8F3",
            "gridwidth": 2,
            "linecolor": "#EBF0F8",
            "showbackground": true,
            "ticks": "",
            "zerolinecolor": "#EBF0F8"
           }
          },
          "shapedefaults": {
           "line": {
            "color": "#2a3f5f"
           }
          },
          "ternary": {
           "aaxis": {
            "gridcolor": "#DFE8F3",
            "linecolor": "#A2B1C6",
            "ticks": ""
           },
           "baxis": {
            "gridcolor": "#DFE8F3",
            "linecolor": "#A2B1C6",
            "ticks": ""
           },
           "bgcolor": "white",
           "caxis": {
            "gridcolor": "#DFE8F3",
            "linecolor": "#A2B1C6",
            "ticks": ""
           }
          },
          "title": {
           "x": 0.05
          },
          "xaxis": {
           "automargin": true,
           "gridcolor": "#EBF0F8",
           "linecolor": "#EBF0F8",
           "ticks": "",
           "title": {
            "standoff": 15
           },
           "zerolinecolor": "#EBF0F8",
           "zerolinewidth": 2
          },
          "yaxis": {
           "automargin": true,
           "gridcolor": "#EBF0F8",
           "linecolor": "#EBF0F8",
           "ticks": "",
           "title": {
            "standoff": 15
           },
           "zerolinecolor": "#EBF0F8",
           "zerolinewidth": 2
          }
         }
        },
        "title": {
         "text": "PDP for feature <b>Number of Goals Scored</b> <br><sup>Number of unique grid points: 6</sup>",
         "x": 0,
         "xref": "paper"
        },
        "width": 1200,
        "xaxis": {
         "anchor": "y",
         "domain": [
          0,
          1
         ]
        },
        "xaxis2": {
         "anchor": "y2",
         "domain": [
          0,
          1
         ],
         "showgrid": false,
         "showticklabels": false,
         "title": {
          "text": "<b>Number of Goals Scored</b> (value)"
         }
        },
        "yaxis": {
         "anchor": "x",
         "domain": [
          0.11266666666666669,
          0.99
         ],
         "title": {
          "text": "raw"
         }
        },
        "yaxis2": {
         "anchor": "x2",
         "domain": [
          0,
          0.06266666666666665
         ],
         "showgrid": false,
         "showticklabels": false
        }
       }
      }
     },
     "metadata": {},
     "output_type": "display_data"
    }
   ],
   "source": [
    "# Create the pdp data to be plotted\n",
    "pdp_goals = pdp.PDPIsolate(model=tree_model, df=val_x, model_features=feature_names, feature='Goal Scored', feature_name='Number of Goals Scored')\n",
    "\n",
    "# plot the PDP for feature 'Goal Scored'\n",
    "fig, axes = pdp_goals.plot(\n",
    "    center=False,\n",
    "    plot_lines=True,\n",
    "    frac_to_plot=100,\n",
    "    cluster=False,\n",
    "    n_cluster_centers=None,\n",
    "    cluster_method='accurate',\n",
    "    plot_pts_dist=True,\n",
    "    to_bins=False,\n",
    "    show_percentile=False,\n",
    "    which_classes=None,\n",
    "    figsize=None,\n",
    "    dpi=300,\n",
    "    ncols=2,\n",
    "    plot_params={\"pdp_hl\": True},\n",
    "    engine='plotly',\n",
    "    template='plotly_white')\n",
    "\n",
    "fig.show()"
   ]
  },
  {
   "cell_type": "markdown",
   "metadata": {},
   "source": [
    "A few things are worth to be pointed out for interpreting this plot.\n",
    "\n",
    "The y-axis is interpreted as change in the prediction from what it would be predicted at the baseline or leftmost value.\n",
    "\n",
    "From this particular graph you can interpret, that scoring one goal substantially increases the chances of winning \"Man of The Match.\" \n",
    "But extra goals beyond that show little to no impact on predictions."
   ]
  },
  {
   "cell_type": "code",
   "execution_count": 61,
   "metadata": {
    "tags": []
   },
   "outputs": [
    {
     "name": "stdout",
     "output_type": "stream",
     "text": [
      "obtain pred_func from the provided model.\n"
     ]
    },
    {
     "name": "stderr",
     "output_type": "stream",
     "text": [
      "100%|██████████| 10/10 [00:00<00:00, 1054.43it/s]\n"
     ]
    },
    {
     "data": {
      "application/vnd.plotly.v1+json": {
       "config": {
        "plotlyServerURL": "https://plot.ly"
       },
       "data": [
        {
         "hoverinfo": "none",
         "line": {
          "color": "rgba(193,217,237,0.6643856189774724)",
          "width": 0.6643856189774724
         },
         "mode": "lines",
         "type": "scatter",
         "x": [
          89,
          99,
          101,
          102,
          105.77777777777777,
          107,
          109.66666666666666,
          112,
          133.66666666666666,
          148
         ],
         "xaxis": "x",
         "y": [
          0,
          0,
          0,
          0,
          0,
          0,
          0,
          0,
          0,
          0
         ],
         "yaxis": "y"
        },
        {
         "hoverinfo": "none",
         "line": {
          "color": "rgba(177,210,231,0.6643856189774724)",
          "width": 0.6643856189774724
         },
         "mode": "lines",
         "type": "scatter",
         "x": [
          89,
          99,
          101,
          102,
          105.77777777777777,
          107,
          109.66666666666666,
          112,
          133.66666666666666,
          148
         ],
         "xaxis": "x",
         "y": [
          1,
          1,
          1,
          0.9583333333333334,
          0.9583333333333334,
          0.9583333333333334,
          0.9583333333333334,
          0.9583333333333334,
          0.9583333333333334,
          0.9583333333333334
         ],
         "yaxis": "y"
        },
        {
         "hoverinfo": "none",
         "line": {
          "color": "rgba(160,202,225,0.6643856189774724)",
          "width": 0.6643856189774724
         },
         "mode": "lines",
         "type": "scatter",
         "x": [
          89,
          99,
          101,
          102,
          105.77777777777777,
          107,
          109.66666666666666,
          112,
          133.66666666666666,
          148
         ],
         "xaxis": "x",
         "y": [
          1,
          1,
          1,
          0.9583333333333334,
          0.9583333333333334,
          0.9583333333333334,
          0.9583333333333334,
          0.9583333333333334,
          0.9583333333333334,
          0.9583333333333334
         ],
         "yaxis": "y"
        },
        {
         "hoverinfo": "none",
         "line": {
          "color": "rgba(139,192,221,0.6643856189774724)",
          "width": 0.6643856189774724
         },
         "mode": "lines",
         "type": "scatter",
         "x": [
          89,
          99,
          101,
          102,
          105.77777777777777,
          107,
          109.66666666666666,
          112,
          133.66666666666666,
          148
         ],
         "xaxis": "x",
         "y": [
          1,
          1,
          1,
          0.9583333333333334,
          0.9583333333333334,
          0.9583333333333334,
          0.9583333333333334,
          0.9583333333333334,
          0.9583333333333334,
          0.9583333333333334
         ],
         "yaxis": "y"
        },
        {
         "hoverinfo": "none",
         "line": {
          "color": "rgba(117,179,216,0.6643856189774724)",
          "width": 0.6643856189774724
         },
         "mode": "lines",
         "type": "scatter",
         "x": [
          89,
          99,
          101,
          102,
          105.77777777777777,
          107,
          109.66666666666666,
          112,
          133.66666666666666,
          148
         ],
         "xaxis": "x",
         "y": [
          1,
          1,
          1,
          1,
          1,
          1,
          1,
          1,
          1,
          1
         ],
         "yaxis": "y"
        },
        {
         "hoverinfo": "none",
         "line": {
          "color": "rgba(98,168,210,0.6643856189774724)",
          "width": 0.6643856189774724
         },
         "mode": "lines",
         "type": "scatter",
         "x": [
          89,
          99,
          101,
          102,
          105.77777777777777,
          107,
          109.66666666666666,
          112,
          133.66666666666666,
          148
         ],
         "xaxis": "x",
         "y": [
          1,
          1,
          1,
          0.9583333333333334,
          0.9583333333333334,
          0.9583333333333334,
          0.9583333333333334,
          0.9583333333333334,
          0.9583333333333334,
          0.9583333333333334
         ],
         "yaxis": "y"
        },
        {
         "hoverinfo": "none",
         "line": {
          "color": "rgba(80,155,203,0.6643856189774724)",
          "width": 0.6643856189774724
         },
         "mode": "lines",
         "type": "scatter",
         "x": [
          89,
          99,
          101,
          102,
          105.77777777777777,
          107,
          109.66666666666666,
          112,
          133.66666666666666,
          148
         ],
         "xaxis": "x",
         "y": [
          0,
          0,
          0,
          0.9583333333333334,
          0.9583333333333334,
          0.9583333333333334,
          0.9583333333333334,
          0.9583333333333334,
          0.9583333333333334,
          0.9583333333333334
         ],
         "yaxis": "y"
        },
        {
         "hoverinfo": "none",
         "line": {
          "color": "rgba(64,144,197,0.6643856189774724)",
          "width": 0.6643856189774724
         },
         "mode": "lines",
         "type": "scatter",
         "x": [
          89,
          99,
          101,
          102,
          105.77777777777777,
          107,
          109.66666666666666,
          112,
          133.66666666666666,
          148
         ],
         "xaxis": "x",
         "y": [
          0,
          0,
          0,
          0,
          0,
          0,
          0,
          0,
          0,
          0
         ],
         "yaxis": "y"
        },
        {
         "hoverinfo": "none",
         "line": {
          "color": "rgba(49,129,189,0.6643856189774724)",
          "width": 0.6643856189774724
         },
         "mode": "lines",
         "type": "scatter",
         "x": [
          89,
          99,
          101,
          102,
          105.77777777777777,
          107,
          109.66666666666666,
          112,
          133.66666666666666,
          148
         ],
         "xaxis": "x",
         "y": [
          0.34782608695652173,
          0.34782608695652173,
          0.34782608695652173,
          0.34782608695652173,
          0.34782608695652173,
          0.34782608695652173,
          0.34782608695652173,
          0.34782608695652173,
          0.34782608695652173,
          0.34782608695652173
         ],
         "yaxis": "y"
        },
        {
         "hoverinfo": "none",
         "line": {
          "color": "rgba(36,116,182,0.6643856189774724)",
          "width": 0.6643856189774724
         },
         "mode": "lines",
         "type": "scatter",
         "x": [
          89,
          99,
          101,
          102,
          105.77777777777777,
          107,
          109.66666666666666,
          112,
          133.66666666666666,
          148
         ],
         "xaxis": "x",
         "y": [
          0,
          0,
          0,
          0.9583333333333334,
          0.9583333333333334,
          0.9583333333333334,
          0.9583333333333334,
          0.9583333333333334,
          0.9583333333333334,
          0.9583333333333334
         ],
         "yaxis": "y"
        },
        {
         "hoverinfo": "none",
         "line": {
          "color": "rgba(193,217,237,0.6643856189774724)",
          "width": 0.6643856189774724
         },
         "mode": "lines",
         "type": "scatter",
         "x": [
          89,
          99,
          101,
          102,
          105.77777777777777,
          107,
          109.66666666666666,
          112,
          133.66666666666666,
          148
         ],
         "xaxis": "x",
         "y": [
          0.34782608695652173,
          0.34782608695652173,
          0.34782608695652173,
          0.34782608695652173,
          0.34782608695652173,
          0.34782608695652173,
          0.34782608695652173,
          0.34782608695652173,
          0.34782608695652173,
          0.34782608695652173
         ],
         "yaxis": "y"
        },
        {
         "hoverinfo": "none",
         "line": {
          "color": "rgba(177,210,231,0.6643856189774724)",
          "width": 0.6643856189774724
         },
         "mode": "lines",
         "type": "scatter",
         "x": [
          89,
          99,
          101,
          102,
          105.77777777777777,
          107,
          109.66666666666666,
          112,
          133.66666666666666,
          148
         ],
         "xaxis": "x",
         "y": [
          1,
          1,
          1,
          1,
          1,
          1,
          1,
          1,
          1,
          1
         ],
         "yaxis": "y"
        },
        {
         "hoverinfo": "none",
         "line": {
          "color": "rgba(160,202,225,0.6643856189774724)",
          "width": 0.6643856189774724
         },
         "mode": "lines",
         "type": "scatter",
         "x": [
          89,
          99,
          101,
          102,
          105.77777777777777,
          107,
          109.66666666666666,
          112,
          133.66666666666666,
          148
         ],
         "xaxis": "x",
         "y": [
          0,
          0,
          0,
          0,
          0,
          0,
          0,
          0,
          0,
          0
         ],
         "yaxis": "y"
        },
        {
         "hoverinfo": "none",
         "line": {
          "color": "rgba(139,192,221,0.6643856189774724)",
          "width": 0.6643856189774724
         },
         "mode": "lines",
         "type": "scatter",
         "x": [
          89,
          99,
          101,
          102,
          105.77777777777777,
          107,
          109.66666666666666,
          112,
          133.66666666666666,
          148
         ],
         "xaxis": "x",
         "y": [
          0.34782608695652173,
          0.34782608695652173,
          0.34782608695652173,
          0.34782608695652173,
          0.34782608695652173,
          0.34782608695652173,
          0.34782608695652173,
          0.34782608695652173,
          0.34782608695652173,
          0.34782608695652173
         ],
         "yaxis": "y"
        },
        {
         "hoverinfo": "none",
         "line": {
          "color": "rgba(117,179,216,0.6643856189774724)",
          "width": 0.6643856189774724
         },
         "mode": "lines",
         "type": "scatter",
         "x": [
          89,
          99,
          101,
          102,
          105.77777777777777,
          107,
          109.66666666666666,
          112,
          133.66666666666666,
          148
         ],
         "xaxis": "x",
         "y": [
          0,
          0,
          0,
          0.9583333333333334,
          0.9583333333333334,
          0.9583333333333334,
          0.9583333333333334,
          0.9583333333333334,
          0.9583333333333334,
          0.9583333333333334
         ],
         "yaxis": "y"
        },
        {
         "hoverinfo": "none",
         "line": {
          "color": "rgba(98,168,210,0.6643856189774724)",
          "width": 0.6643856189774724
         },
         "mode": "lines",
         "type": "scatter",
         "x": [
          89,
          99,
          101,
          102,
          105.77777777777777,
          107,
          109.66666666666666,
          112,
          133.66666666666666,
          148
         ],
         "xaxis": "x",
         "y": [
          1,
          1,
          1,
          0.6,
          0.6,
          0.6,
          0.6,
          0.6,
          0.6,
          0.6
         ],
         "yaxis": "y"
        },
        {
         "hoverinfo": "none",
         "line": {
          "color": "rgba(80,155,203,0.6643856189774724)",
          "width": 0.6643856189774724
         },
         "mode": "lines",
         "type": "scatter",
         "x": [
          89,
          99,
          101,
          102,
          105.77777777777777,
          107,
          109.66666666666666,
          112,
          133.66666666666666,
          148
         ],
         "xaxis": "x",
         "y": [
          0,
          0,
          0,
          0.9583333333333334,
          0.9583333333333334,
          0.9583333333333334,
          0.9583333333333334,
          0.9583333333333334,
          0.9583333333333334,
          0.9583333333333334
         ],
         "yaxis": "y"
        },
        {
         "hoverinfo": "none",
         "line": {
          "color": "rgba(64,144,197,0.6643856189774724)",
          "width": 0.6643856189774724
         },
         "mode": "lines",
         "type": "scatter",
         "x": [
          89,
          99,
          101,
          102,
          105.77777777777777,
          107,
          109.66666666666666,
          112,
          133.66666666666666,
          148
         ],
         "xaxis": "x",
         "y": [
          0.34782608695652173,
          0.34782608695652173,
          0.34782608695652173,
          0.34782608695652173,
          0.34782608695652173,
          0.34782608695652173,
          0.34782608695652173,
          0.34782608695652173,
          0.34782608695652173,
          0.34782608695652173
         ],
         "yaxis": "y"
        },
        {
         "hoverinfo": "none",
         "line": {
          "color": "rgba(49,129,189,0.6643856189774724)",
          "width": 0.6643856189774724
         },
         "mode": "lines",
         "type": "scatter",
         "x": [
          89,
          99,
          101,
          102,
          105.77777777777777,
          107,
          109.66666666666666,
          112,
          133.66666666666666,
          148
         ],
         "xaxis": "x",
         "y": [
          0.34782608695652173,
          0.34782608695652173,
          0.34782608695652173,
          0.34782608695652173,
          0.34782608695652173,
          0.34782608695652173,
          0.34782608695652173,
          0.34782608695652173,
          0.34782608695652173,
          0.34782608695652173
         ],
         "yaxis": "y"
        },
        {
         "hoverinfo": "none",
         "line": {
          "color": "rgba(36,116,182,0.6643856189774724)",
          "width": 0.6643856189774724
         },
         "mode": "lines",
         "type": "scatter",
         "x": [
          89,
          99,
          101,
          102,
          105.77777777777777,
          107,
          109.66666666666666,
          112,
          133.66666666666666,
          148
         ],
         "xaxis": "x",
         "y": [
          0,
          0,
          0,
          0.6,
          0.6,
          0.6,
          0.6,
          0.6,
          0.6,
          0.6
         ],
         "yaxis": "y"
        },
        {
         "hoverinfo": "none",
         "line": {
          "color": "rgba(193,217,237,0.6643856189774724)",
          "width": 0.6643856189774724
         },
         "mode": "lines",
         "type": "scatter",
         "x": [
          89,
          99,
          101,
          102,
          105.77777777777777,
          107,
          109.66666666666666,
          112,
          133.66666666666666,
          148
         ],
         "xaxis": "x",
         "y": [
          0.5,
          0.5,
          0.5,
          0.5,
          0.5,
          0.5,
          0.5,
          0.5,
          0.5,
          0.5
         ],
         "yaxis": "y"
        },
        {
         "hoverinfo": "none",
         "line": {
          "color": "rgba(177,210,231,0.6643856189774724)",
          "width": 0.6643856189774724
         },
         "mode": "lines",
         "type": "scatter",
         "x": [
          89,
          99,
          101,
          102,
          105.77777777777777,
          107,
          109.66666666666666,
          112,
          133.66666666666666,
          148
         ],
         "xaxis": "x",
         "y": [
          0,
          0,
          0,
          0,
          0,
          0,
          0,
          0,
          0,
          0
         ],
         "yaxis": "y"
        },
        {
         "hoverinfo": "none",
         "line": {
          "color": "rgba(160,202,225,0.6643856189774724)",
          "width": 0.6643856189774724
         },
         "mode": "lines",
         "type": "scatter",
         "x": [
          89,
          99,
          101,
          102,
          105.77777777777777,
          107,
          109.66666666666666,
          112,
          133.66666666666666,
          148
         ],
         "xaxis": "x",
         "y": [
          1,
          1,
          1,
          1,
          1,
          1,
          1,
          1,
          1,
          1
         ],
         "yaxis": "y"
        },
        {
         "hoverinfo": "none",
         "line": {
          "color": "rgba(139,192,221,0.6643856189774724)",
          "width": 0.6643856189774724
         },
         "mode": "lines",
         "type": "scatter",
         "x": [
          89,
          99,
          101,
          102,
          105.77777777777777,
          107,
          109.66666666666666,
          112,
          133.66666666666666,
          148
         ],
         "xaxis": "x",
         "y": [
          0,
          0,
          0,
          0,
          0,
          0,
          0,
          0,
          0,
          0
         ],
         "yaxis": "y"
        },
        {
         "hoverinfo": "none",
         "line": {
          "color": "rgba(117,179,216,0.6643856189774724)",
          "width": 0.6643856189774724
         },
         "mode": "lines",
         "type": "scatter",
         "x": [
          89,
          99,
          101,
          102,
          105.77777777777777,
          107,
          109.66666666666666,
          112,
          133.66666666666666,
          148
         ],
         "xaxis": "x",
         "y": [
          1,
          1,
          1,
          1,
          1,
          1,
          1,
          1,
          1,
          1
         ],
         "yaxis": "y"
        },
        {
         "hoverinfo": "none",
         "line": {
          "color": "rgba(98,168,210,0.6643856189774724)",
          "width": 0.6643856189774724
         },
         "mode": "lines",
         "type": "scatter",
         "x": [
          89,
          99,
          101,
          102,
          105.77777777777777,
          107,
          109.66666666666666,
          112,
          133.66666666666666,
          148
         ],
         "xaxis": "x",
         "y": [
          0.34782608695652173,
          0.34782608695652173,
          0.34782608695652173,
          0.34782608695652173,
          0.34782608695652173,
          0.34782608695652173,
          0.34782608695652173,
          0.34782608695652173,
          0.34782608695652173,
          0.34782608695652173
         ],
         "yaxis": "y"
        },
        {
         "hoverinfo": "none",
         "line": {
          "color": "rgba(80,155,203,0.6643856189774724)",
          "width": 0.6643856189774724
         },
         "mode": "lines",
         "type": "scatter",
         "x": [
          89,
          99,
          101,
          102,
          105.77777777777777,
          107,
          109.66666666666666,
          112,
          133.66666666666666,
          148
         ],
         "xaxis": "x",
         "y": [
          0.34782608695652173,
          0.34782608695652173,
          0.34782608695652173,
          0.34782608695652173,
          0.34782608695652173,
          0.34782608695652173,
          0.34782608695652173,
          0.34782608695652173,
          0.34782608695652173,
          0.34782608695652173
         ],
         "yaxis": "y"
        },
        {
         "hoverinfo": "none",
         "line": {
          "color": "rgba(64,144,197,0.6643856189774724)",
          "width": 0.6643856189774724
         },
         "mode": "lines",
         "type": "scatter",
         "x": [
          89,
          99,
          101,
          102,
          105.77777777777777,
          107,
          109.66666666666666,
          112,
          133.66666666666666,
          148
         ],
         "xaxis": "x",
         "y": [
          0,
          0,
          0,
          0,
          0,
          0,
          0,
          0,
          0,
          0
         ],
         "yaxis": "y"
        },
        {
         "hoverinfo": "none",
         "line": {
          "color": "rgba(49,129,189,0.6643856189774724)",
          "width": 0.6643856189774724
         },
         "mode": "lines",
         "type": "scatter",
         "x": [
          89,
          99,
          101,
          102,
          105.77777777777777,
          107,
          109.66666666666666,
          112,
          133.66666666666666,
          148
         ],
         "xaxis": "x",
         "y": [
          1,
          1,
          1,
          0.9583333333333334,
          0.9583333333333334,
          0.9583333333333334,
          0.9583333333333334,
          0.9583333333333334,
          0.9583333333333334,
          0.9583333333333334
         ],
         "yaxis": "y"
        },
        {
         "hoverinfo": "none",
         "line": {
          "color": "rgba(36,116,182,0.6643856189774724)",
          "width": 0.6643856189774724
         },
         "mode": "lines",
         "type": "scatter",
         "x": [
          89,
          99,
          101,
          102,
          105.77777777777777,
          107,
          109.66666666666666,
          112,
          133.66666666666666,
          148
         ],
         "xaxis": "x",
         "y": [
          1,
          1,
          1,
          0.6,
          0.6,
          0.6,
          0.6,
          0.6,
          0.6,
          0.6
         ],
         "yaxis": "y"
        },
        {
         "hoverinfo": "none",
         "line": {
          "color": "rgba(193,217,237,0.6643856189774724)",
          "width": 0.6643856189774724
         },
         "mode": "lines",
         "type": "scatter",
         "x": [
          89,
          99,
          101,
          102,
          105.77777777777777,
          107,
          109.66666666666666,
          112,
          133.66666666666666,
          148
         ],
         "xaxis": "x",
         "y": [
          1,
          1,
          1,
          1,
          1,
          1,
          1,
          1,
          1,
          1
         ],
         "yaxis": "y"
        },
        {
         "hoverinfo": "none",
         "line": {
          "color": "rgba(177,210,231,0.6643856189774724)",
          "width": 0.6643856189774724
         },
         "mode": "lines",
         "type": "scatter",
         "x": [
          89,
          99,
          101,
          102,
          105.77777777777777,
          107,
          109.66666666666666,
          112,
          133.66666666666666,
          148
         ],
         "xaxis": "x",
         "y": [
          0.34782608695652173,
          0.34782608695652173,
          0.34782608695652173,
          0.34782608695652173,
          0.34782608695652173,
          0.34782608695652173,
          0.34782608695652173,
          0.34782608695652173,
          0.34782608695652173,
          0.34782608695652173
         ],
         "yaxis": "y"
        },
        {
         "hoverinfo": "none",
         "line": {
          "color": "#FEDC00",
          "width": 4.5
         },
         "mode": "lines",
         "type": "scatter",
         "x": [
          89,
          99,
          101,
          102,
          105.77777777777777,
          107,
          109.66666666666666,
          112,
          133.66666666666666,
          148
         ],
         "xaxis": "x",
         "y": [
          0.47758152173913043,
          0.47758152173913043,
          0.47758152173913043,
          0.5846127717391305,
          0.5846127717391305,
          0.5846127717391305,
          0.5846127717391305,
          0.5846127717391305,
          0.5846127717391305,
          0.5846127717391305
         ],
         "yaxis": "y"
        },
        {
         "hoverinfo": "none",
         "line": {
          "color": "#E75438",
          "dash": "dash",
          "width": 1.5
         },
         "mode": "lines",
         "type": "scatter",
         "x": [
          89,
          99,
          101,
          102,
          105.77777777777777,
          107,
          109.66666666666666,
          112,
          133.66666666666666,
          148
         ],
         "xaxis": "x",
         "y": [
          0,
          0,
          0,
          0,
          0,
          0,
          0,
          0,
          0,
          0
         ],
         "yaxis": "y"
        },
        {
         "hovertemplate": "%{y}",
         "line": {
          "color": "rgba(8,48,107,1.0)",
          "width": 1.5
         },
         "marker": {
          "color": "rgba(8,48,107,1.0)",
          "size": 5
         },
         "mode": "lines+markers",
         "name": "pdp",
         "type": "scatter",
         "x": [
          89,
          99,
          101,
          102,
          105.77777777777777,
          107,
          109.66666666666666,
          112,
          133.66666666666666,
          148
         ],
         "xaxis": "x",
         "y": [
          0.47758152173913043,
          0.47758152173913043,
          0.47758152173913043,
          0.5846127717391305,
          0.5846127717391305,
          0.5846127717391305,
          0.5846127717391305,
          0.5846127717391305,
          0.5846127717391305,
          0.5846127717391305
         ],
         "yaxis": "y"
        },
        {
         "hoverinfo": "none",
         "mode": "text",
         "name": "dist",
         "showlegend": false,
         "text": [
          "|",
          "|",
          "|",
          "|",
          "|",
          "|",
          "|",
          "|",
          "|",
          "|",
          "|",
          "|",
          "|",
          "|",
          "|",
          "|",
          "|",
          "|",
          "|",
          "|",
          "|",
          "|",
          "|",
          "|",
          "|",
          "|",
          "|",
          "|",
          "|",
          "|",
          "|",
          "|"
         ],
         "textfont": {
          "color": "rgba(8,48,107,1.0)",
          "size": 20
         },
         "textposition": "middle center",
         "type": "scatter",
         "x": [
          102,
          92,
          97,
          111,
          110,
          148,
          143,
          107,
          107,
          112,
          105,
          135,
          101,
          106,
          132,
          100,
          105,
          89,
          102,
          108,
          110,
          112,
          102,
          107,
          136,
          99,
          118,
          101,
          107,
          99,
          102,
          109
         ],
         "xaxis": "x2",
         "y": [
          1,
          1,
          1,
          1,
          1,
          1,
          1,
          1,
          1,
          1,
          1,
          1,
          1,
          1,
          1,
          1,
          1,
          1,
          1,
          1,
          1,
          1,
          1,
          1,
          1,
          1,
          1,
          1,
          1,
          1,
          1,
          1
         ],
         "yaxis": "y2"
        }
       ],
       "layout": {
        "height": 600,
        "showlegend": false,
        "template": {
         "data": {
          "bar": [
           {
            "error_x": {
             "color": "#2a3f5f"
            },
            "error_y": {
             "color": "#2a3f5f"
            },
            "marker": {
             "line": {
              "color": "white",
              "width": 0.5
             },
             "pattern": {
              "fillmode": "overlay",
              "size": 10,
              "solidity": 0.2
             }
            },
            "type": "bar"
           }
          ],
          "barpolar": [
           {
            "marker": {
             "line": {
              "color": "white",
              "width": 0.5
             },
             "pattern": {
              "fillmode": "overlay",
              "size": 10,
              "solidity": 0.2
             }
            },
            "type": "barpolar"
           }
          ],
          "carpet": [
           {
            "aaxis": {
             "endlinecolor": "#2a3f5f",
             "gridcolor": "#C8D4E3",
             "linecolor": "#C8D4E3",
             "minorgridcolor": "#C8D4E3",
             "startlinecolor": "#2a3f5f"
            },
            "baxis": {
             "endlinecolor": "#2a3f5f",
             "gridcolor": "#C8D4E3",
             "linecolor": "#C8D4E3",
             "minorgridcolor": "#C8D4E3",
             "startlinecolor": "#2a3f5f"
            },
            "type": "carpet"
           }
          ],
          "choropleth": [
           {
            "colorbar": {
             "outlinewidth": 0,
             "ticks": ""
            },
            "type": "choropleth"
           }
          ],
          "contour": [
           {
            "colorbar": {
             "outlinewidth": 0,
             "ticks": ""
            },
            "colorscale": [
             [
              0,
              "#0d0887"
             ],
             [
              0.1111111111111111,
              "#46039f"
             ],
             [
              0.2222222222222222,
              "#7201a8"
             ],
             [
              0.3333333333333333,
              "#9c179e"
             ],
             [
              0.4444444444444444,
              "#bd3786"
             ],
             [
              0.5555555555555556,
              "#d8576b"
             ],
             [
              0.6666666666666666,
              "#ed7953"
             ],
             [
              0.7777777777777778,
              "#fb9f3a"
             ],
             [
              0.8888888888888888,
              "#fdca26"
             ],
             [
              1,
              "#f0f921"
             ]
            ],
            "type": "contour"
           }
          ],
          "contourcarpet": [
           {
            "colorbar": {
             "outlinewidth": 0,
             "ticks": ""
            },
            "type": "contourcarpet"
           }
          ],
          "heatmap": [
           {
            "colorbar": {
             "outlinewidth": 0,
             "ticks": ""
            },
            "colorscale": [
             [
              0,
              "#0d0887"
             ],
             [
              0.1111111111111111,
              "#46039f"
             ],
             [
              0.2222222222222222,
              "#7201a8"
             ],
             [
              0.3333333333333333,
              "#9c179e"
             ],
             [
              0.4444444444444444,
              "#bd3786"
             ],
             [
              0.5555555555555556,
              "#d8576b"
             ],
             [
              0.6666666666666666,
              "#ed7953"
             ],
             [
              0.7777777777777778,
              "#fb9f3a"
             ],
             [
              0.8888888888888888,
              "#fdca26"
             ],
             [
              1,
              "#f0f921"
             ]
            ],
            "type": "heatmap"
           }
          ],
          "heatmapgl": [
           {
            "colorbar": {
             "outlinewidth": 0,
             "ticks": ""
            },
            "colorscale": [
             [
              0,
              "#0d0887"
             ],
             [
              0.1111111111111111,
              "#46039f"
             ],
             [
              0.2222222222222222,
              "#7201a8"
             ],
             [
              0.3333333333333333,
              "#9c179e"
             ],
             [
              0.4444444444444444,
              "#bd3786"
             ],
             [
              0.5555555555555556,
              "#d8576b"
             ],
             [
              0.6666666666666666,
              "#ed7953"
             ],
             [
              0.7777777777777778,
              "#fb9f3a"
             ],
             [
              0.8888888888888888,
              "#fdca26"
             ],
             [
              1,
              "#f0f921"
             ]
            ],
            "type": "heatmapgl"
           }
          ],
          "histogram": [
           {
            "marker": {
             "pattern": {
              "fillmode": "overlay",
              "size": 10,
              "solidity": 0.2
             }
            },
            "type": "histogram"
           }
          ],
          "histogram2d": [
           {
            "colorbar": {
             "outlinewidth": 0,
             "ticks": ""
            },
            "colorscale": [
             [
              0,
              "#0d0887"
             ],
             [
              0.1111111111111111,
              "#46039f"
             ],
             [
              0.2222222222222222,
              "#7201a8"
             ],
             [
              0.3333333333333333,
              "#9c179e"
             ],
             [
              0.4444444444444444,
              "#bd3786"
             ],
             [
              0.5555555555555556,
              "#d8576b"
             ],
             [
              0.6666666666666666,
              "#ed7953"
             ],
             [
              0.7777777777777778,
              "#fb9f3a"
             ],
             [
              0.8888888888888888,
              "#fdca26"
             ],
             [
              1,
              "#f0f921"
             ]
            ],
            "type": "histogram2d"
           }
          ],
          "histogram2dcontour": [
           {
            "colorbar": {
             "outlinewidth": 0,
             "ticks": ""
            },
            "colorscale": [
             [
              0,
              "#0d0887"
             ],
             [
              0.1111111111111111,
              "#46039f"
             ],
             [
              0.2222222222222222,
              "#7201a8"
             ],
             [
              0.3333333333333333,
              "#9c179e"
             ],
             [
              0.4444444444444444,
              "#bd3786"
             ],
             [
              0.5555555555555556,
              "#d8576b"
             ],
             [
              0.6666666666666666,
              "#ed7953"
             ],
             [
              0.7777777777777778,
              "#fb9f3a"
             ],
             [
              0.8888888888888888,
              "#fdca26"
             ],
             [
              1,
              "#f0f921"
             ]
            ],
            "type": "histogram2dcontour"
           }
          ],
          "mesh3d": [
           {
            "colorbar": {
             "outlinewidth": 0,
             "ticks": ""
            },
            "type": "mesh3d"
           }
          ],
          "parcoords": [
           {
            "line": {
             "colorbar": {
              "outlinewidth": 0,
              "ticks": ""
             }
            },
            "type": "parcoords"
           }
          ],
          "pie": [
           {
            "automargin": true,
            "type": "pie"
           }
          ],
          "scatter": [
           {
            "fillpattern": {
             "fillmode": "overlay",
             "size": 10,
             "solidity": 0.2
            },
            "type": "scatter"
           }
          ],
          "scatter3d": [
           {
            "line": {
             "colorbar": {
              "outlinewidth": 0,
              "ticks": ""
             }
            },
            "marker": {
             "colorbar": {
              "outlinewidth": 0,
              "ticks": ""
             }
            },
            "type": "scatter3d"
           }
          ],
          "scattercarpet": [
           {
            "marker": {
             "colorbar": {
              "outlinewidth": 0,
              "ticks": ""
             }
            },
            "type": "scattercarpet"
           }
          ],
          "scattergeo": [
           {
            "marker": {
             "colorbar": {
              "outlinewidth": 0,
              "ticks": ""
             }
            },
            "type": "scattergeo"
           }
          ],
          "scattergl": [
           {
            "marker": {
             "colorbar": {
              "outlinewidth": 0,
              "ticks": ""
             }
            },
            "type": "scattergl"
           }
          ],
          "scattermapbox": [
           {
            "marker": {
             "colorbar": {
              "outlinewidth": 0,
              "ticks": ""
             }
            },
            "type": "scattermapbox"
           }
          ],
          "scatterpolar": [
           {
            "marker": {
             "colorbar": {
              "outlinewidth": 0,
              "ticks": ""
             }
            },
            "type": "scatterpolar"
           }
          ],
          "scatterpolargl": [
           {
            "marker": {
             "colorbar": {
              "outlinewidth": 0,
              "ticks": ""
             }
            },
            "type": "scatterpolargl"
           }
          ],
          "scatterternary": [
           {
            "marker": {
             "colorbar": {
              "outlinewidth": 0,
              "ticks": ""
             }
            },
            "type": "scatterternary"
           }
          ],
          "surface": [
           {
            "colorbar": {
             "outlinewidth": 0,
             "ticks": ""
            },
            "colorscale": [
             [
              0,
              "#0d0887"
             ],
             [
              0.1111111111111111,
              "#46039f"
             ],
             [
              0.2222222222222222,
              "#7201a8"
             ],
             [
              0.3333333333333333,
              "#9c179e"
             ],
             [
              0.4444444444444444,
              "#bd3786"
             ],
             [
              0.5555555555555556,
              "#d8576b"
             ],
             [
              0.6666666666666666,
              "#ed7953"
             ],
             [
              0.7777777777777778,
              "#fb9f3a"
             ],
             [
              0.8888888888888888,
              "#fdca26"
             ],
             [
              1,
              "#f0f921"
             ]
            ],
            "type": "surface"
           }
          ],
          "table": [
           {
            "cells": {
             "fill": {
              "color": "#EBF0F8"
             },
             "line": {
              "color": "white"
             }
            },
            "header": {
             "fill": {
              "color": "#C8D4E3"
             },
             "line": {
              "color": "white"
             }
            },
            "type": "table"
           }
          ]
         },
         "layout": {
          "annotationdefaults": {
           "arrowcolor": "#2a3f5f",
           "arrowhead": 0,
           "arrowwidth": 1
          },
          "autotypenumbers": "strict",
          "coloraxis": {
           "colorbar": {
            "outlinewidth": 0,
            "ticks": ""
           }
          },
          "colorscale": {
           "diverging": [
            [
             0,
             "#8e0152"
            ],
            [
             0.1,
             "#c51b7d"
            ],
            [
             0.2,
             "#de77ae"
            ],
            [
             0.3,
             "#f1b6da"
            ],
            [
             0.4,
             "#fde0ef"
            ],
            [
             0.5,
             "#f7f7f7"
            ],
            [
             0.6,
             "#e6f5d0"
            ],
            [
             0.7,
             "#b8e186"
            ],
            [
             0.8,
             "#7fbc41"
            ],
            [
             0.9,
             "#4d9221"
            ],
            [
             1,
             "#276419"
            ]
           ],
           "sequential": [
            [
             0,
             "#0d0887"
            ],
            [
             0.1111111111111111,
             "#46039f"
            ],
            [
             0.2222222222222222,
             "#7201a8"
            ],
            [
             0.3333333333333333,
             "#9c179e"
            ],
            [
             0.4444444444444444,
             "#bd3786"
            ],
            [
             0.5555555555555556,
             "#d8576b"
            ],
            [
             0.6666666666666666,
             "#ed7953"
            ],
            [
             0.7777777777777778,
             "#fb9f3a"
            ],
            [
             0.8888888888888888,
             "#fdca26"
            ],
            [
             1,
             "#f0f921"
            ]
           ],
           "sequentialminus": [
            [
             0,
             "#0d0887"
            ],
            [
             0.1111111111111111,
             "#46039f"
            ],
            [
             0.2222222222222222,
             "#7201a8"
            ],
            [
             0.3333333333333333,
             "#9c179e"
            ],
            [
             0.4444444444444444,
             "#bd3786"
            ],
            [
             0.5555555555555556,
             "#d8576b"
            ],
            [
             0.6666666666666666,
             "#ed7953"
            ],
            [
             0.7777777777777778,
             "#fb9f3a"
            ],
            [
             0.8888888888888888,
             "#fdca26"
            ],
            [
             1,
             "#f0f921"
            ]
           ]
          },
          "colorway": [
           "#636efa",
           "#EF553B",
           "#00cc96",
           "#ab63fa",
           "#FFA15A",
           "#19d3f3",
           "#FF6692",
           "#B6E880",
           "#FF97FF",
           "#FECB52"
          ],
          "font": {
           "color": "#2a3f5f"
          },
          "geo": {
           "bgcolor": "white",
           "lakecolor": "white",
           "landcolor": "white",
           "showlakes": true,
           "showland": true,
           "subunitcolor": "#C8D4E3"
          },
          "hoverlabel": {
           "align": "left"
          },
          "hovermode": "closest",
          "mapbox": {
           "style": "light"
          },
          "paper_bgcolor": "white",
          "plot_bgcolor": "white",
          "polar": {
           "angularaxis": {
            "gridcolor": "#EBF0F8",
            "linecolor": "#EBF0F8",
            "ticks": ""
           },
           "bgcolor": "white",
           "radialaxis": {
            "gridcolor": "#EBF0F8",
            "linecolor": "#EBF0F8",
            "ticks": ""
           }
          },
          "scene": {
           "xaxis": {
            "backgroundcolor": "white",
            "gridcolor": "#DFE8F3",
            "gridwidth": 2,
            "linecolor": "#EBF0F8",
            "showbackground": true,
            "ticks": "",
            "zerolinecolor": "#EBF0F8"
           },
           "yaxis": {
            "backgroundcolor": "white",
            "gridcolor": "#DFE8F3",
            "gridwidth": 2,
            "linecolor": "#EBF0F8",
            "showbackground": true,
            "ticks": "",
            "zerolinecolor": "#EBF0F8"
           },
           "zaxis": {
            "backgroundcolor": "white",
            "gridcolor": "#DFE8F3",
            "gridwidth": 2,
            "linecolor": "#EBF0F8",
            "showbackground": true,
            "ticks": "",
            "zerolinecolor": "#EBF0F8"
           }
          },
          "shapedefaults": {
           "line": {
            "color": "#2a3f5f"
           }
          },
          "ternary": {
           "aaxis": {
            "gridcolor": "#DFE8F3",
            "linecolor": "#A2B1C6",
            "ticks": ""
           },
           "baxis": {
            "gridcolor": "#DFE8F3",
            "linecolor": "#A2B1C6",
            "ticks": ""
           },
           "bgcolor": "white",
           "caxis": {
            "gridcolor": "#DFE8F3",
            "linecolor": "#A2B1C6",
            "ticks": ""
           }
          },
          "title": {
           "x": 0.05
          },
          "xaxis": {
           "automargin": true,
           "gridcolor": "#EBF0F8",
           "linecolor": "#EBF0F8",
           "ticks": "",
           "title": {
            "standoff": 15
           },
           "zerolinecolor": "#EBF0F8",
           "zerolinewidth": 2
          },
          "yaxis": {
           "automargin": true,
           "gridcolor": "#EBF0F8",
           "linecolor": "#EBF0F8",
           "ticks": "",
           "title": {
            "standoff": 15
           },
           "zerolinecolor": "#EBF0F8",
           "zerolinewidth": 2
          }
         }
        },
        "title": {
         "text": "PDP for feature <b>Distance covered in km</b> <br><sup>Number of unique grid points: 10</sup>",
         "x": 0,
         "xref": "paper"
        },
        "width": 1200,
        "xaxis": {
         "anchor": "y",
         "domain": [
          0,
          1
         ]
        },
        "xaxis2": {
         "anchor": "y2",
         "domain": [
          0,
          1
         ],
         "showgrid": false,
         "showticklabels": false,
         "title": {
          "text": "<b>Distance covered in km</b> (value)"
         }
        },
        "yaxis": {
         "anchor": "x",
         "domain": [
          0.11266666666666669,
          0.99
         ],
         "title": {
          "text": "raw"
         }
        },
        "yaxis2": {
         "anchor": "x2",
         "domain": [
          0,
          0.06266666666666665
         ],
         "showgrid": false,
         "showticklabels": false
        }
       }
      }
     },
     "metadata": {},
     "output_type": "display_data"
    }
   ],
   "source": [
    "# Create the pdp data to be plotted\n",
    "pdp_dist = pdp.PDPIsolate(model=tree_model, df=val_x, model_features=feature_names, feature='Distance Covered (Kms)', feature_name='Distance covered in km')\n",
    "\n",
    "# plot the PDP for feature 'Distance Covered (Kms)'\n",
    "fig, axes = pdp_dist.plot(\n",
    "    center=False,\n",
    "    plot_lines=True,\n",
    "    frac_to_plot=100,\n",
    "    cluster=False,\n",
    "    n_cluster_centers=None,\n",
    "    cluster_method='accurate',\n",
    "    plot_pts_dist=True,\n",
    "    to_bins=False,\n",
    "    show_percentile=False,\n",
    "    which_classes=None,\n",
    "    figsize=None,\n",
    "    dpi=300,\n",
    "    ncols=2,\n",
    "    plot_params={\"pdp_hl\": True},\n",
    "    engine='plotly',\n",
    "    template='plotly_white')\n",
    "\n",
    "fig.show()"
   ]
  },
  {
   "cell_type": "markdown",
   "metadata": {},
   "source": [
    "In this PDP plot you will see the ticks on the x-axis as depicting the real data samples.\n",
    "\n",
    "This PDP plot seems to be too simple to represent reality. \n",
    "Maybe that's because the model is so simple. Print the decision tree to compare that finding to the decision tree structure.\n",
    "For the purpose of \n",
    "Let's back up our theory and do the same plot with a Random Forest model."
   ]
  },
  {
   "cell_type": "code",
   "execution_count": 62,
   "metadata": {
    "tags": []
   },
   "outputs": [],
   "source": [
    "# Build a new model: Random Forest classifier\n",
    "rf_model = RandomForestClassifier(random_state=0).fit(train_x, train_y)"
   ]
  },
  {
   "cell_type": "code",
   "execution_count": 63,
   "metadata": {
    "tags": []
   },
   "outputs": [
    {
     "name": "stdout",
     "output_type": "stream",
     "text": [
      "obtain pred_func from the provided model.\n"
     ]
    },
    {
     "name": "stderr",
     "output_type": "stream",
     "text": [
      "100%|██████████| 10/10 [00:00<00:00, 333.63it/s]\n"
     ]
    },
    {
     "data": {
      "application/vnd.plotly.v1+json": {
       "config": {
        "plotlyServerURL": "https://plot.ly"
       },
       "data": [
        {
         "hoverinfo": "none",
         "line": {
          "color": "rgba(193,217,237,0.6643856189774724)",
          "width": 0.6643856189774724
         },
         "mode": "lines",
         "type": "scatter",
         "x": [
          89,
          99,
          101,
          102,
          105.77777777777777,
          107,
          109.66666666666666,
          112,
          133.66666666666666,
          148
         ],
         "xaxis": "x",
         "y": [
          0.34,
          0.36,
          0.37,
          0.38,
          0.38,
          0.37,
          0.36,
          0.37,
          0.37,
          0.37
         ],
         "yaxis": "y"
        },
        {
         "hoverinfo": "none",
         "line": {
          "color": "rgba(177,210,231,0.6643856189774724)",
          "width": 0.6643856189774724
         },
         "mode": "lines",
         "type": "scatter",
         "x": [
          89,
          99,
          101,
          102,
          105.77777777777777,
          107,
          109.66666666666666,
          112,
          133.66666666666666,
          148
         ],
         "xaxis": "x",
         "y": [
          0.62,
          0.64,
          0.67,
          0.7,
          0.68,
          0.69,
          0.66,
          0.67,
          0.66,
          0.65
         ],
         "yaxis": "y"
        },
        {
         "hoverinfo": "none",
         "line": {
          "color": "rgba(160,202,225,0.6643856189774724)",
          "width": 0.6643856189774724
         },
         "mode": "lines",
         "type": "scatter",
         "x": [
          89,
          99,
          101,
          102,
          105.77777777777777,
          107,
          109.66666666666666,
          112,
          133.66666666666666,
          148
         ],
         "xaxis": "x",
         "y": [
          0.7,
          0.69,
          0.71,
          0.72,
          0.72,
          0.72,
          0.66,
          0.68,
          0.67,
          0.66
         ],
         "yaxis": "y"
        },
        {
         "hoverinfo": "none",
         "line": {
          "color": "rgba(139,192,221,0.6643856189774724)",
          "width": 0.6643856189774724
         },
         "mode": "lines",
         "type": "scatter",
         "x": [
          89,
          99,
          101,
          102,
          105.77777777777777,
          107,
          109.66666666666666,
          112,
          133.66666666666666,
          148
         ],
         "xaxis": "x",
         "y": [
          0.65,
          0.64,
          0.65,
          0.7,
          0.75,
          0.74,
          0.67,
          0.68,
          0.67,
          0.66
         ],
         "yaxis": "y"
        },
        {
         "hoverinfo": "none",
         "line": {
          "color": "rgba(117,179,216,0.6643856189774724)",
          "width": 0.6643856189774724
         },
         "mode": "lines",
         "type": "scatter",
         "x": [
          89,
          99,
          101,
          102,
          105.77777777777777,
          107,
          109.66666666666666,
          112,
          133.66666666666666,
          148
         ],
         "xaxis": "x",
         "y": [
          0.39,
          0.41,
          0.42,
          0.46,
          0.44,
          0.44,
          0.44,
          0.44,
          0.43,
          0.41
         ],
         "yaxis": "y"
        },
        {
         "hoverinfo": "none",
         "line": {
          "color": "rgba(98,168,210,0.6643856189774724)",
          "width": 0.6643856189774724
         },
         "mode": "lines",
         "type": "scatter",
         "x": [
          89,
          99,
          101,
          102,
          105.77777777777777,
          107,
          109.66666666666666,
          112,
          133.66666666666666,
          148
         ],
         "xaxis": "x",
         "y": [
          0.66,
          0.72,
          0.76,
          0.75,
          0.74,
          0.73,
          0.68,
          0.7,
          0.72,
          0.71
         ],
         "yaxis": "y"
        },
        {
         "hoverinfo": "none",
         "line": {
          "color": "rgba(80,155,203,0.6643856189774724)",
          "width": 0.6643856189774724
         },
         "mode": "lines",
         "type": "scatter",
         "x": [
          89,
          99,
          101,
          102,
          105.77777777777777,
          107,
          109.66666666666666,
          112,
          133.66666666666666,
          148
         ],
         "xaxis": "x",
         "y": [
          0.61,
          0.65,
          0.67,
          0.72,
          0.71,
          0.71,
          0.68,
          0.69,
          0.69,
          0.68
         ],
         "yaxis": "y"
        },
        {
         "hoverinfo": "none",
         "line": {
          "color": "rgba(64,144,197,0.6643856189774724)",
          "width": 0.6643856189774724
         },
         "mode": "lines",
         "type": "scatter",
         "x": [
          89,
          99,
          101,
          102,
          105.77777777777777,
          107,
          109.66666666666666,
          112,
          133.66666666666666,
          148
         ],
         "xaxis": "x",
         "y": [
          0.36,
          0.41,
          0.41,
          0.44,
          0.44,
          0.44,
          0.46,
          0.46,
          0.46,
          0.46
         ],
         "yaxis": "y"
        },
        {
         "hoverinfo": "none",
         "line": {
          "color": "rgba(49,129,189,0.6643856189774724)",
          "width": 0.6643856189774724
         },
         "mode": "lines",
         "type": "scatter",
         "x": [
          89,
          99,
          101,
          102,
          105.77777777777777,
          107,
          109.66666666666666,
          112,
          133.66666666666666,
          148
         ],
         "xaxis": "x",
         "y": [
          0.39,
          0.44,
          0.47,
          0.45,
          0.48,
          0.48,
          0.46,
          0.47,
          0.49,
          0.48
         ],
         "yaxis": "y"
        },
        {
         "hoverinfo": "none",
         "line": {
          "color": "rgba(36,116,182,0.6643856189774724)",
          "width": 0.6643856189774724
         },
         "mode": "lines",
         "type": "scatter",
         "x": [
          89,
          99,
          101,
          102,
          105.77777777777777,
          107,
          109.66666666666666,
          112,
          133.66666666666666,
          148
         ],
         "xaxis": "x",
         "y": [
          0.58,
          0.62,
          0.66,
          0.69,
          0.71,
          0.71,
          0.63,
          0.64,
          0.64,
          0.63
         ],
         "yaxis": "y"
        },
        {
         "hoverinfo": "none",
         "line": {
          "color": "rgba(193,217,237,0.6643856189774724)",
          "width": 0.6643856189774724
         },
         "mode": "lines",
         "type": "scatter",
         "x": [
          89,
          99,
          101,
          102,
          105.77777777777777,
          107,
          109.66666666666666,
          112,
          133.66666666666666,
          148
         ],
         "xaxis": "x",
         "y": [
          0.42,
          0.43,
          0.46,
          0.47,
          0.48,
          0.48,
          0.42,
          0.42,
          0.43,
          0.42
         ],
         "yaxis": "y"
        },
        {
         "hoverinfo": "none",
         "line": {
          "color": "rgba(177,210,231,0.6643856189774724)",
          "width": 0.6643856189774724
         },
         "mode": "lines",
         "type": "scatter",
         "x": [
          89,
          99,
          101,
          102,
          105.77777777777777,
          107,
          109.66666666666666,
          112,
          133.66666666666666,
          148
         ],
         "xaxis": "x",
         "y": [
          0.3,
          0.33,
          0.34,
          0.4,
          0.43,
          0.42,
          0.44,
          0.44,
          0.42,
          0.41
         ],
         "yaxis": "y"
        },
        {
         "hoverinfo": "none",
         "line": {
          "color": "rgba(160,202,225,0.6643856189774724)",
          "width": 0.6643856189774724
         },
         "mode": "lines",
         "type": "scatter",
         "x": [
          89,
          99,
          101,
          102,
          105.77777777777777,
          107,
          109.66666666666666,
          112,
          133.66666666666666,
          148
         ],
         "xaxis": "x",
         "y": [
          0.19,
          0.19,
          0.21,
          0.21,
          0.2,
          0.19,
          0.19,
          0.2,
          0.2,
          0.2
         ],
         "yaxis": "y"
        },
        {
         "hoverinfo": "none",
         "line": {
          "color": "rgba(139,192,221,0.6643856189774724)",
          "width": 0.6643856189774724
         },
         "mode": "lines",
         "type": "scatter",
         "x": [
          89,
          99,
          101,
          102,
          105.77777777777777,
          107,
          109.66666666666666,
          112,
          133.66666666666666,
          148
         ],
         "xaxis": "x",
         "y": [
          0.18,
          0.21,
          0.22,
          0.21,
          0.24,
          0.24,
          0.25,
          0.26,
          0.29,
          0.29
         ],
         "yaxis": "y"
        },
        {
         "hoverinfo": "none",
         "line": {
          "color": "rgba(117,179,216,0.6643856189774724)",
          "width": 0.6643856189774724
         },
         "mode": "lines",
         "type": "scatter",
         "x": [
          89,
          99,
          101,
          102,
          105.77777777777777,
          107,
          109.66666666666666,
          112,
          133.66666666666666,
          148
         ],
         "xaxis": "x",
         "y": [
          0.55,
          0.59,
          0.6,
          0.64,
          0.65,
          0.65,
          0.61,
          0.62,
          0.61,
          0.6
         ],
         "yaxis": "y"
        },
        {
         "hoverinfo": "none",
         "line": {
          "color": "rgba(98,168,210,0.6643856189774724)",
          "width": 0.6643856189774724
         },
         "mode": "lines",
         "type": "scatter",
         "x": [
          89,
          99,
          101,
          102,
          105.77777777777777,
          107,
          109.66666666666666,
          112,
          133.66666666666666,
          148
         ],
         "xaxis": "x",
         "y": [
          0.63,
          0.64,
          0.7,
          0.73,
          0.74,
          0.74,
          0.72,
          0.73,
          0.72,
          0.72
         ],
         "yaxis": "y"
        },
        {
         "hoverinfo": "none",
         "line": {
          "color": "rgba(80,155,203,0.6643856189774724)",
          "width": 0.6643856189774724
         },
         "mode": "lines",
         "type": "scatter",
         "x": [
          89,
          99,
          101,
          102,
          105.77777777777777,
          107,
          109.66666666666666,
          112,
          133.66666666666666,
          148
         ],
         "xaxis": "x",
         "y": [
          0.4,
          0.42,
          0.47,
          0.54,
          0.56,
          0.56,
          0.53,
          0.53,
          0.53,
          0.52
         ],
         "yaxis": "y"
        },
        {
         "hoverinfo": "none",
         "line": {
          "color": "rgba(64,144,197,0.6643856189774724)",
          "width": 0.6643856189774724
         },
         "mode": "lines",
         "type": "scatter",
         "x": [
          89,
          99,
          101,
          102,
          105.77777777777777,
          107,
          109.66666666666666,
          112,
          133.66666666666666,
          148
         ],
         "xaxis": "x",
         "y": [
          0.55,
          0.6,
          0.58,
          0.56,
          0.54,
          0.54,
          0.44,
          0.46,
          0.47,
          0.47
         ],
         "yaxis": "y"
        },
        {
         "hoverinfo": "none",
         "line": {
          "color": "rgba(49,129,189,0.6643856189774724)",
          "width": 0.6643856189774724
         },
         "mode": "lines",
         "type": "scatter",
         "x": [
          89,
          99,
          101,
          102,
          105.77777777777777,
          107,
          109.66666666666666,
          112,
          133.66666666666666,
          148
         ],
         "xaxis": "x",
         "y": [
          0.34,
          0.42,
          0.42,
          0.4,
          0.35,
          0.35,
          0.3,
          0.31,
          0.31,
          0.31
         ],
         "yaxis": "y"
        },
        {
         "hoverinfo": "none",
         "line": {
          "color": "rgba(36,116,182,0.6643856189774724)",
          "width": 0.6643856189774724
         },
         "mode": "lines",
         "type": "scatter",
         "x": [
          89,
          99,
          101,
          102,
          105.77777777777777,
          107,
          109.66666666666666,
          112,
          133.66666666666666,
          148
         ],
         "xaxis": "x",
         "y": [
          0.45,
          0.47,
          0.47,
          0.51,
          0.53,
          0.53,
          0.5,
          0.5,
          0.5,
          0.49
         ],
         "yaxis": "y"
        },
        {
         "hoverinfo": "none",
         "line": {
          "color": "rgba(193,217,237,0.6643856189774724)",
          "width": 0.6643856189774724
         },
         "mode": "lines",
         "type": "scatter",
         "x": [
          89,
          99,
          101,
          102,
          105.77777777777777,
          107,
          109.66666666666666,
          112,
          133.66666666666666,
          148
         ],
         "xaxis": "x",
         "y": [
          0.57,
          0.58,
          0.58,
          0.57,
          0.57,
          0.56,
          0.52,
          0.53,
          0.52,
          0.52
         ],
         "yaxis": "y"
        },
        {
         "hoverinfo": "none",
         "line": {
          "color": "rgba(177,210,231,0.6643856189774724)",
          "width": 0.6643856189774724
         },
         "mode": "lines",
         "type": "scatter",
         "x": [
          89,
          99,
          101,
          102,
          105.77777777777777,
          107,
          109.66666666666666,
          112,
          133.66666666666666,
          148
         ],
         "xaxis": "x",
         "y": [
          0.1,
          0.11,
          0.1,
          0.08,
          0.08,
          0.08,
          0.07,
          0.06,
          0.07,
          0.07
         ],
         "yaxis": "y"
        },
        {
         "hoverinfo": "none",
         "line": {
          "color": "rgba(160,202,225,0.6643856189774724)",
          "width": 0.6643856189774724
         },
         "mode": "lines",
         "type": "scatter",
         "x": [
          89,
          99,
          101,
          102,
          105.77777777777777,
          107,
          109.66666666666666,
          112,
          133.66666666666666,
          148
         ],
         "xaxis": "x",
         "y": [
          0.63,
          0.71,
          0.72,
          0.75,
          0.71,
          0.71,
          0.64,
          0.66,
          0.65,
          0.64
         ],
         "yaxis": "y"
        },
        {
         "hoverinfo": "none",
         "line": {
          "color": "rgba(139,192,221,0.6643856189774724)",
          "width": 0.6643856189774724
         },
         "mode": "lines",
         "type": "scatter",
         "x": [
          89,
          99,
          101,
          102,
          105.77777777777777,
          107,
          109.66666666666666,
          112,
          133.66666666666666,
          148
         ],
         "xaxis": "x",
         "y": [
          0.12,
          0.13,
          0.13,
          0.11,
          0.1,
          0.1,
          0.1,
          0.1,
          0.11,
          0.11
         ],
         "yaxis": "y"
        },
        {
         "hoverinfo": "none",
         "line": {
          "color": "rgba(117,179,216,0.6643856189774724)",
          "width": 0.6643856189774724
         },
         "mode": "lines",
         "type": "scatter",
         "x": [
          89,
          99,
          101,
          102,
          105.77777777777777,
          107,
          109.66666666666666,
          112,
          133.66666666666666,
          148
         ],
         "xaxis": "x",
         "y": [
          0.52,
          0.59,
          0.62,
          0.64,
          0.59,
          0.58,
          0.5,
          0.52,
          0.5,
          0.49
         ],
         "yaxis": "y"
        },
        {
         "hoverinfo": "none",
         "line": {
          "color": "rgba(98,168,210,0.6643856189774724)",
          "width": 0.6643856189774724
         },
         "mode": "lines",
         "type": "scatter",
         "x": [
          89,
          99,
          101,
          102,
          105.77777777777777,
          107,
          109.66666666666666,
          112,
          133.66666666666666,
          148
         ],
         "xaxis": "x",
         "y": [
          0.53,
          0.57,
          0.6,
          0.59,
          0.55,
          0.53,
          0.47,
          0.46,
          0.45,
          0.43
         ],
         "yaxis": "y"
        },
        {
         "hoverinfo": "none",
         "line": {
          "color": "rgba(80,155,203,0.6643856189774724)",
          "width": 0.6643856189774724
         },
         "mode": "lines",
         "type": "scatter",
         "x": [
          89,
          99,
          101,
          102,
          105.77777777777777,
          107,
          109.66666666666666,
          112,
          133.66666666666666,
          148
         ],
         "xaxis": "x",
         "y": [
          0.41,
          0.45,
          0.46,
          0.44,
          0.41,
          0.4,
          0.34,
          0.35,
          0.35,
          0.35
         ],
         "yaxis": "y"
        },
        {
         "hoverinfo": "none",
         "line": {
          "color": "rgba(64,144,197,0.6643856189774724)",
          "width": 0.6643856189774724
         },
         "mode": "lines",
         "type": "scatter",
         "x": [
          89,
          99,
          101,
          102,
          105.77777777777777,
          107,
          109.66666666666666,
          112,
          133.66666666666666,
          148
         ],
         "xaxis": "x",
         "y": [
          0.11,
          0.14,
          0.16,
          0.15,
          0.15,
          0.14,
          0.13,
          0.13,
          0.13,
          0.13
         ],
         "yaxis": "y"
        },
        {
         "hoverinfo": "none",
         "line": {
          "color": "rgba(49,129,189,0.6643856189774724)",
          "width": 0.6643856189774724
         },
         "mode": "lines",
         "type": "scatter",
         "x": [
          89,
          99,
          101,
          102,
          105.77777777777777,
          107,
          109.66666666666666,
          112,
          133.66666666666666,
          148
         ],
         "xaxis": "x",
         "y": [
          0.48,
          0.53,
          0.59,
          0.64,
          0.67,
          0.67,
          0.63,
          0.64,
          0.62,
          0.61
         ],
         "yaxis": "y"
        },
        {
         "hoverinfo": "none",
         "line": {
          "color": "rgba(36,116,182,0.6643856189774724)",
          "width": 0.6643856189774724
         },
         "mode": "lines",
         "type": "scatter",
         "x": [
          89,
          99,
          101,
          102,
          105.77777777777777,
          107,
          109.66666666666666,
          112,
          133.66666666666666,
          148
         ],
         "xaxis": "x",
         "y": [
          0.48,
          0.54,
          0.56,
          0.57,
          0.56,
          0.56,
          0.5,
          0.51,
          0.52,
          0.51
         ],
         "yaxis": "y"
        },
        {
         "hoverinfo": "none",
         "line": {
          "color": "rgba(193,217,237,0.6643856189774724)",
          "width": 0.6643856189774724
         },
         "mode": "lines",
         "type": "scatter",
         "x": [
          89,
          99,
          101,
          102,
          105.77777777777777,
          107,
          109.66666666666666,
          112,
          133.66666666666666,
          148
         ],
         "xaxis": "x",
         "y": [
          0.48,
          0.55,
          0.58,
          0.57,
          0.52,
          0.51,
          0.44,
          0.46,
          0.48,
          0.47
         ],
         "yaxis": "y"
        },
        {
         "hoverinfo": "none",
         "line": {
          "color": "rgba(177,210,231,0.6643856189774724)",
          "width": 0.6643856189774724
         },
         "mode": "lines",
         "type": "scatter",
         "x": [
          89,
          99,
          101,
          102,
          105.77777777777777,
          107,
          109.66666666666666,
          112,
          133.66666666666666,
          148
         ],
         "xaxis": "x",
         "y": [
          0.5,
          0.61,
          0.63,
          0.61,
          0.58,
          0.57,
          0.52,
          0.52,
          0.5,
          0.49
         ],
         "yaxis": "y"
        },
        {
         "hoverinfo": "none",
         "line": {
          "color": "#FEDC00",
          "width": 4.5
         },
         "mode": "lines",
         "type": "scatter",
         "x": [
          89,
          99,
          101,
          102,
          105.77777777777777,
          107,
          109.66666666666666,
          112,
          133.66666666666666,
          148
         ],
         "xaxis": "x",
         "y": [
          0.445,
          0.4809375,
          0.49968749999999995,
          0.5125,
          0.5081249999999999,
          0.504375,
          0.4675,
          0.4753125,
          0.474375,
          0.4675
         ],
         "yaxis": "y"
        },
        {
         "hoverinfo": "none",
         "line": {
          "color": "#E75438",
          "dash": "dash",
          "width": 1.5
         },
         "mode": "lines",
         "type": "scatter",
         "x": [
          89,
          99,
          101,
          102,
          105.77777777777777,
          107,
          109.66666666666666,
          112,
          133.66666666666666,
          148
         ],
         "xaxis": "x",
         "y": [
          0,
          0,
          0,
          0,
          0,
          0,
          0,
          0,
          0,
          0
         ],
         "yaxis": "y"
        },
        {
         "hovertemplate": "%{y}",
         "line": {
          "color": "rgba(8,48,107,1.0)",
          "width": 1.5
         },
         "marker": {
          "color": "rgba(8,48,107,1.0)",
          "size": 5
         },
         "mode": "lines+markers",
         "name": "pdp",
         "type": "scatter",
         "x": [
          89,
          99,
          101,
          102,
          105.77777777777777,
          107,
          109.66666666666666,
          112,
          133.66666666666666,
          148
         ],
         "xaxis": "x",
         "y": [
          0.445,
          0.4809375,
          0.49968749999999995,
          0.5125,
          0.5081249999999999,
          0.504375,
          0.4675,
          0.4753125,
          0.474375,
          0.4675
         ],
         "yaxis": "y"
        },
        {
         "hoverinfo": "none",
         "mode": "text",
         "name": "dist",
         "showlegend": false,
         "text": [
          "|",
          "|",
          "|",
          "|",
          "|",
          "|",
          "|",
          "|",
          "|",
          "|",
          "|",
          "|",
          "|",
          "|",
          "|",
          "|",
          "|",
          "|",
          "|",
          "|",
          "|",
          "|",
          "|",
          "|",
          "|",
          "|",
          "|",
          "|",
          "|",
          "|",
          "|",
          "|"
         ],
         "textfont": {
          "color": "rgba(8,48,107,1.0)",
          "size": 20
         },
         "textposition": "middle center",
         "type": "scatter",
         "x": [
          102,
          92,
          97,
          111,
          110,
          148,
          143,
          107,
          107,
          112,
          105,
          135,
          101,
          106,
          132,
          100,
          105,
          89,
          102,
          108,
          110,
          112,
          102,
          107,
          136,
          99,
          118,
          101,
          107,
          99,
          102,
          109
         ],
         "xaxis": "x2",
         "y": [
          1,
          1,
          1,
          1,
          1,
          1,
          1,
          1,
          1,
          1,
          1,
          1,
          1,
          1,
          1,
          1,
          1,
          1,
          1,
          1,
          1,
          1,
          1,
          1,
          1,
          1,
          1,
          1,
          1,
          1,
          1,
          1
         ],
         "yaxis": "y2"
        }
       ],
       "layout": {
        "height": 600,
        "showlegend": false,
        "template": {
         "data": {
          "bar": [
           {
            "error_x": {
             "color": "#2a3f5f"
            },
            "error_y": {
             "color": "#2a3f5f"
            },
            "marker": {
             "line": {
              "color": "white",
              "width": 0.5
             },
             "pattern": {
              "fillmode": "overlay",
              "size": 10,
              "solidity": 0.2
             }
            },
            "type": "bar"
           }
          ],
          "barpolar": [
           {
            "marker": {
             "line": {
              "color": "white",
              "width": 0.5
             },
             "pattern": {
              "fillmode": "overlay",
              "size": 10,
              "solidity": 0.2
             }
            },
            "type": "barpolar"
           }
          ],
          "carpet": [
           {
            "aaxis": {
             "endlinecolor": "#2a3f5f",
             "gridcolor": "#C8D4E3",
             "linecolor": "#C8D4E3",
             "minorgridcolor": "#C8D4E3",
             "startlinecolor": "#2a3f5f"
            },
            "baxis": {
             "endlinecolor": "#2a3f5f",
             "gridcolor": "#C8D4E3",
             "linecolor": "#C8D4E3",
             "minorgridcolor": "#C8D4E3",
             "startlinecolor": "#2a3f5f"
            },
            "type": "carpet"
           }
          ],
          "choropleth": [
           {
            "colorbar": {
             "outlinewidth": 0,
             "ticks": ""
            },
            "type": "choropleth"
           }
          ],
          "contour": [
           {
            "colorbar": {
             "outlinewidth": 0,
             "ticks": ""
            },
            "colorscale": [
             [
              0,
              "#0d0887"
             ],
             [
              0.1111111111111111,
              "#46039f"
             ],
             [
              0.2222222222222222,
              "#7201a8"
             ],
             [
              0.3333333333333333,
              "#9c179e"
             ],
             [
              0.4444444444444444,
              "#bd3786"
             ],
             [
              0.5555555555555556,
              "#d8576b"
             ],
             [
              0.6666666666666666,
              "#ed7953"
             ],
             [
              0.7777777777777778,
              "#fb9f3a"
             ],
             [
              0.8888888888888888,
              "#fdca26"
             ],
             [
              1,
              "#f0f921"
             ]
            ],
            "type": "contour"
           }
          ],
          "contourcarpet": [
           {
            "colorbar": {
             "outlinewidth": 0,
             "ticks": ""
            },
            "type": "contourcarpet"
           }
          ],
          "heatmap": [
           {
            "colorbar": {
             "outlinewidth": 0,
             "ticks": ""
            },
            "colorscale": [
             [
              0,
              "#0d0887"
             ],
             [
              0.1111111111111111,
              "#46039f"
             ],
             [
              0.2222222222222222,
              "#7201a8"
             ],
             [
              0.3333333333333333,
              "#9c179e"
             ],
             [
              0.4444444444444444,
              "#bd3786"
             ],
             [
              0.5555555555555556,
              "#d8576b"
             ],
             [
              0.6666666666666666,
              "#ed7953"
             ],
             [
              0.7777777777777778,
              "#fb9f3a"
             ],
             [
              0.8888888888888888,
              "#fdca26"
             ],
             [
              1,
              "#f0f921"
             ]
            ],
            "type": "heatmap"
           }
          ],
          "heatmapgl": [
           {
            "colorbar": {
             "outlinewidth": 0,
             "ticks": ""
            },
            "colorscale": [
             [
              0,
              "#0d0887"
             ],
             [
              0.1111111111111111,
              "#46039f"
             ],
             [
              0.2222222222222222,
              "#7201a8"
             ],
             [
              0.3333333333333333,
              "#9c179e"
             ],
             [
              0.4444444444444444,
              "#bd3786"
             ],
             [
              0.5555555555555556,
              "#d8576b"
             ],
             [
              0.6666666666666666,
              "#ed7953"
             ],
             [
              0.7777777777777778,
              "#fb9f3a"
             ],
             [
              0.8888888888888888,
              "#fdca26"
             ],
             [
              1,
              "#f0f921"
             ]
            ],
            "type": "heatmapgl"
           }
          ],
          "histogram": [
           {
            "marker": {
             "pattern": {
              "fillmode": "overlay",
              "size": 10,
              "solidity": 0.2
             }
            },
            "type": "histogram"
           }
          ],
          "histogram2d": [
           {
            "colorbar": {
             "outlinewidth": 0,
             "ticks": ""
            },
            "colorscale": [
             [
              0,
              "#0d0887"
             ],
             [
              0.1111111111111111,
              "#46039f"
             ],
             [
              0.2222222222222222,
              "#7201a8"
             ],
             [
              0.3333333333333333,
              "#9c179e"
             ],
             [
              0.4444444444444444,
              "#bd3786"
             ],
             [
              0.5555555555555556,
              "#d8576b"
             ],
             [
              0.6666666666666666,
              "#ed7953"
             ],
             [
              0.7777777777777778,
              "#fb9f3a"
             ],
             [
              0.8888888888888888,
              "#fdca26"
             ],
             [
              1,
              "#f0f921"
             ]
            ],
            "type": "histogram2d"
           }
          ],
          "histogram2dcontour": [
           {
            "colorbar": {
             "outlinewidth": 0,
             "ticks": ""
            },
            "colorscale": [
             [
              0,
              "#0d0887"
             ],
             [
              0.1111111111111111,
              "#46039f"
             ],
             [
              0.2222222222222222,
              "#7201a8"
             ],
             [
              0.3333333333333333,
              "#9c179e"
             ],
             [
              0.4444444444444444,
              "#bd3786"
             ],
             [
              0.5555555555555556,
              "#d8576b"
             ],
             [
              0.6666666666666666,
              "#ed7953"
             ],
             [
              0.7777777777777778,
              "#fb9f3a"
             ],
             [
              0.8888888888888888,
              "#fdca26"
             ],
             [
              1,
              "#f0f921"
             ]
            ],
            "type": "histogram2dcontour"
           }
          ],
          "mesh3d": [
           {
            "colorbar": {
             "outlinewidth": 0,
             "ticks": ""
            },
            "type": "mesh3d"
           }
          ],
          "parcoords": [
           {
            "line": {
             "colorbar": {
              "outlinewidth": 0,
              "ticks": ""
             }
            },
            "type": "parcoords"
           }
          ],
          "pie": [
           {
            "automargin": true,
            "type": "pie"
           }
          ],
          "scatter": [
           {
            "fillpattern": {
             "fillmode": "overlay",
             "size": 10,
             "solidity": 0.2
            },
            "type": "scatter"
           }
          ],
          "scatter3d": [
           {
            "line": {
             "colorbar": {
              "outlinewidth": 0,
              "ticks": ""
             }
            },
            "marker": {
             "colorbar": {
              "outlinewidth": 0,
              "ticks": ""
             }
            },
            "type": "scatter3d"
           }
          ],
          "scattercarpet": [
           {
            "marker": {
             "colorbar": {
              "outlinewidth": 0,
              "ticks": ""
             }
            },
            "type": "scattercarpet"
           }
          ],
          "scattergeo": [
           {
            "marker": {
             "colorbar": {
              "outlinewidth": 0,
              "ticks": ""
             }
            },
            "type": "scattergeo"
           }
          ],
          "scattergl": [
           {
            "marker": {
             "colorbar": {
              "outlinewidth": 0,
              "ticks": ""
             }
            },
            "type": "scattergl"
           }
          ],
          "scattermapbox": [
           {
            "marker": {
             "colorbar": {
              "outlinewidth": 0,
              "ticks": ""
             }
            },
            "type": "scattermapbox"
           }
          ],
          "scatterpolar": [
           {
            "marker": {
             "colorbar": {
              "outlinewidth": 0,
              "ticks": ""
             }
            },
            "type": "scatterpolar"
           }
          ],
          "scatterpolargl": [
           {
            "marker": {
             "colorbar": {
              "outlinewidth": 0,
              "ticks": ""
             }
            },
            "type": "scatterpolargl"
           }
          ],
          "scatterternary": [
           {
            "marker": {
             "colorbar": {
              "outlinewidth": 0,
              "ticks": ""
             }
            },
            "type": "scatterternary"
           }
          ],
          "surface": [
           {
            "colorbar": {
             "outlinewidth": 0,
             "ticks": ""
            },
            "colorscale": [
             [
              0,
              "#0d0887"
             ],
             [
              0.1111111111111111,
              "#46039f"
             ],
             [
              0.2222222222222222,
              "#7201a8"
             ],
             [
              0.3333333333333333,
              "#9c179e"
             ],
             [
              0.4444444444444444,
              "#bd3786"
             ],
             [
              0.5555555555555556,
              "#d8576b"
             ],
             [
              0.6666666666666666,
              "#ed7953"
             ],
             [
              0.7777777777777778,
              "#fb9f3a"
             ],
             [
              0.8888888888888888,
              "#fdca26"
             ],
             [
              1,
              "#f0f921"
             ]
            ],
            "type": "surface"
           }
          ],
          "table": [
           {
            "cells": {
             "fill": {
              "color": "#EBF0F8"
             },
             "line": {
              "color": "white"
             }
            },
            "header": {
             "fill": {
              "color": "#C8D4E3"
             },
             "line": {
              "color": "white"
             }
            },
            "type": "table"
           }
          ]
         },
         "layout": {
          "annotationdefaults": {
           "arrowcolor": "#2a3f5f",
           "arrowhead": 0,
           "arrowwidth": 1
          },
          "autotypenumbers": "strict",
          "coloraxis": {
           "colorbar": {
            "outlinewidth": 0,
            "ticks": ""
           }
          },
          "colorscale": {
           "diverging": [
            [
             0,
             "#8e0152"
            ],
            [
             0.1,
             "#c51b7d"
            ],
            [
             0.2,
             "#de77ae"
            ],
            [
             0.3,
             "#f1b6da"
            ],
            [
             0.4,
             "#fde0ef"
            ],
            [
             0.5,
             "#f7f7f7"
            ],
            [
             0.6,
             "#e6f5d0"
            ],
            [
             0.7,
             "#b8e186"
            ],
            [
             0.8,
             "#7fbc41"
            ],
            [
             0.9,
             "#4d9221"
            ],
            [
             1,
             "#276419"
            ]
           ],
           "sequential": [
            [
             0,
             "#0d0887"
            ],
            [
             0.1111111111111111,
             "#46039f"
            ],
            [
             0.2222222222222222,
             "#7201a8"
            ],
            [
             0.3333333333333333,
             "#9c179e"
            ],
            [
             0.4444444444444444,
             "#bd3786"
            ],
            [
             0.5555555555555556,
             "#d8576b"
            ],
            [
             0.6666666666666666,
             "#ed7953"
            ],
            [
             0.7777777777777778,
             "#fb9f3a"
            ],
            [
             0.8888888888888888,
             "#fdca26"
            ],
            [
             1,
             "#f0f921"
            ]
           ],
           "sequentialminus": [
            [
             0,
             "#0d0887"
            ],
            [
             0.1111111111111111,
             "#46039f"
            ],
            [
             0.2222222222222222,
             "#7201a8"
            ],
            [
             0.3333333333333333,
             "#9c179e"
            ],
            [
             0.4444444444444444,
             "#bd3786"
            ],
            [
             0.5555555555555556,
             "#d8576b"
            ],
            [
             0.6666666666666666,
             "#ed7953"
            ],
            [
             0.7777777777777778,
             "#fb9f3a"
            ],
            [
             0.8888888888888888,
             "#fdca26"
            ],
            [
             1,
             "#f0f921"
            ]
           ]
          },
          "colorway": [
           "#636efa",
           "#EF553B",
           "#00cc96",
           "#ab63fa",
           "#FFA15A",
           "#19d3f3",
           "#FF6692",
           "#B6E880",
           "#FF97FF",
           "#FECB52"
          ],
          "font": {
           "color": "#2a3f5f"
          },
          "geo": {
           "bgcolor": "white",
           "lakecolor": "white",
           "landcolor": "white",
           "showlakes": true,
           "showland": true,
           "subunitcolor": "#C8D4E3"
          },
          "hoverlabel": {
           "align": "left"
          },
          "hovermode": "closest",
          "mapbox": {
           "style": "light"
          },
          "paper_bgcolor": "white",
          "plot_bgcolor": "white",
          "polar": {
           "angularaxis": {
            "gridcolor": "#EBF0F8",
            "linecolor": "#EBF0F8",
            "ticks": ""
           },
           "bgcolor": "white",
           "radialaxis": {
            "gridcolor": "#EBF0F8",
            "linecolor": "#EBF0F8",
            "ticks": ""
           }
          },
          "scene": {
           "xaxis": {
            "backgroundcolor": "white",
            "gridcolor": "#DFE8F3",
            "gridwidth": 2,
            "linecolor": "#EBF0F8",
            "showbackground": true,
            "ticks": "",
            "zerolinecolor": "#EBF0F8"
           },
           "yaxis": {
            "backgroundcolor": "white",
            "gridcolor": "#DFE8F3",
            "gridwidth": 2,
            "linecolor": "#EBF0F8",
            "showbackground": true,
            "ticks": "",
            "zerolinecolor": "#EBF0F8"
           },
           "zaxis": {
            "backgroundcolor": "white",
            "gridcolor": "#DFE8F3",
            "gridwidth": 2,
            "linecolor": "#EBF0F8",
            "showbackground": true,
            "ticks": "",
            "zerolinecolor": "#EBF0F8"
           }
          },
          "shapedefaults": {
           "line": {
            "color": "#2a3f5f"
           }
          },
          "ternary": {
           "aaxis": {
            "gridcolor": "#DFE8F3",
            "linecolor": "#A2B1C6",
            "ticks": ""
           },
           "baxis": {
            "gridcolor": "#DFE8F3",
            "linecolor": "#A2B1C6",
            "ticks": ""
           },
           "bgcolor": "white",
           "caxis": {
            "gridcolor": "#DFE8F3",
            "linecolor": "#A2B1C6",
            "ticks": ""
           }
          },
          "title": {
           "x": 0.05
          },
          "xaxis": {
           "automargin": true,
           "gridcolor": "#EBF0F8",
           "linecolor": "#EBF0F8",
           "ticks": "",
           "title": {
            "standoff": 15
           },
           "zerolinecolor": "#EBF0F8",
           "zerolinewidth": 2
          },
          "yaxis": {
           "automargin": true,
           "gridcolor": "#EBF0F8",
           "linecolor": "#EBF0F8",
           "ticks": "",
           "title": {
            "standoff": 15
           },
           "zerolinecolor": "#EBF0F8",
           "zerolinewidth": 2
          }
         }
        },
        "title": {
         "text": "PDP for feature <b>Distance covered in km</b> <br><sup>Number of unique grid points: 10</sup>",
         "x": 0,
         "xref": "paper"
        },
        "width": 1200,
        "xaxis": {
         "anchor": "y",
         "domain": [
          0,
          1
         ]
        },
        "xaxis2": {
         "anchor": "y2",
         "domain": [
          0,
          1
         ],
         "showgrid": false,
         "showticklabels": false,
         "title": {
          "text": "<b>Distance covered in km</b> (value)"
         }
        },
        "yaxis": {
         "anchor": "x",
         "domain": [
          0.11266666666666669,
          0.99
         ],
         "title": {
          "text": "raw"
         }
        },
        "yaxis2": {
         "anchor": "x2",
         "domain": [
          0,
          0.06266666666666665
         ],
         "showgrid": false,
         "showticklabels": false
        }
       }
      }
     },
     "metadata": {},
     "output_type": "display_data"
    }
   ],
   "source": [
    "# Create the pdp data to be plotted\n",
    "pdp_dist = pdp.PDPIsolate(model=rf_model, df=val_x, model_features=feature_names, feature='Distance Covered (Kms)', feature_name='Distance covered in km')\n",
    "\n",
    "# plot the PDP for feature 'Distance Covered (Kms)'\n",
    "fig, axes = pdp_dist.plot(\n",
    "    center=False,\n",
    "    plot_lines=True,\n",
    "    frac_to_plot=100,\n",
    "    cluster=False,\n",
    "    n_cluster_centers=None,\n",
    "    cluster_method='accurate',\n",
    "    plot_pts_dist=True,\n",
    "    to_bins=False,\n",
    "    show_percentile=False,\n",
    "    which_classes=None,\n",
    "    figsize=None,\n",
    "    dpi=300,\n",
    "    ncols=2,\n",
    "    plot_params={\"pdp_hl\": True},\n",
    "    engine='plotly',\n",
    "    template='plotly_white')\n",
    "\n",
    "fig.show()"
   ]
  },
  {
   "cell_type": "markdown",
   "metadata": {},
   "source": [
    "<font color=red>Interpretation:</font> \n",
    "This model states that it is more likely to win \"Man of the Match\" if the players run a total of about 100 km during the match. More running leads to lower predictions.\n",
    "In general, the smoother shape of this curve seems more plausible than the step function of the decision tree model. \n",
    "However, this data set is much too small. One should be very careful when interpreting a model."
   ]
  },
  {
   "cell_type": "markdown",
   "metadata": {},
   "source": [
    "## 2D Partial Depedence Plot"
   ]
  },
  {
   "cell_type": "markdown",
   "metadata": {},
   "source": [
    "Now, plotting the PDP for two features can be done by using the **pdp_interact** and **pdp_interact_plot** functions.\n",
    "\n",
    "First, switch back to the simple decision tree model."
   ]
  },
  {
   "cell_type": "code",
   "execution_count": 64,
   "metadata": {
    "tags": []
   },
   "outputs": [],
   "source": [
    "train_x, val_x, train_y, val_y = train_test_split(x, y, random_state=1)\n",
    "tree_model = DecisionTreeClassifier(random_state=0, max_depth=5, min_samples_split=5).fit(train_x, train_y)"
   ]
  },
  {
   "cell_type": "code",
   "execution_count": 65,
   "metadata": {
    "tags": []
   },
   "outputs": [
    {
     "name": "stdout",
     "output_type": "stream",
     "text": [
      "obtain pred_func from the provided model.\n"
     ]
    },
    {
     "name": "stderr",
     "output_type": "stream",
     "text": [
      "100%|██████████| 6/6 [00:00<00:00, 870.04it/s]\n"
     ]
    },
    {
     "name": "stdout",
     "output_type": "stream",
     "text": [
      "obtain pred_func from the provided model.\n"
     ]
    },
    {
     "name": "stderr",
     "output_type": "stream",
     "text": [
      "100%|██████████| 10/10 [00:00<00:00, 1222.51it/s]\n"
     ]
    },
    {
     "name": "stdout",
     "output_type": "stream",
     "text": [
      "obtain pred_func from the provided model.\n"
     ]
    },
    {
     "name": "stderr",
     "output_type": "stream",
     "text": [
      "100%|██████████| 60/60 [00:00<00:00, 1199.11it/s]\n"
     ]
    },
    {
     "data": {
      "application/vnd.plotly.v1+json": {
       "config": {
        "plotlyServerURL": "https://plot.ly"
       },
       "data": [
        {
         "colorbar": {
          "len": 0.8399999999999999,
          "x": 1.0099999999999998,
          "xanchor": "left",
          "y": 2.220446049250313e-16,
          "yanchor": "bottom"
         },
         "colorscale": [
          [
           0,
           "rgb(247,251,255)"
          ],
          [
           0.125,
           "rgb(222,235,247)"
          ],
          [
           0.25,
           "rgb(198,219,239)"
          ],
          [
           0.375,
           "rgb(158,202,225)"
          ],
          [
           0.5,
           "rgb(107,174,214)"
          ],
          [
           0.625,
           "rgb(66,146,198)"
          ],
          [
           0.75,
           "rgb(33,113,181)"
          ],
          [
           0.875,
           "rgb(8,81,156)"
          ],
          [
           1,
           "rgb(8,48,107)"
          ]
         ],
         "name": "pdp interact",
         "opacity": 0.8,
         "showscale": true,
         "text": [
          [
           "0.125",
           "0.609",
           "0.609",
           "0.609",
           "0.609",
           "0.609"
          ],
          [
           "0.125",
           "0.609",
           "0.609",
           "0.609",
           "0.609",
           "0.609"
          ],
          [
           "0.125",
           "0.609",
           "0.609",
           "0.609",
           "0.609",
           "0.609"
          ],
          [
           "0.125",
           "0.729",
           "0.729",
           "0.729",
           "0.729",
           "0.729"
          ],
          [
           "0.125",
           "0.729",
           "0.729",
           "0.729",
           "0.729",
           "0.729"
          ],
          [
           "0.125",
           "0.729",
           "0.729",
           "0.729",
           "0.729",
           "0.729"
          ],
          [
           "0.125",
           "0.729",
           "0.729",
           "0.729",
           "0.729",
           "0.729"
          ],
          [
           "0.125",
           "0.729",
           "0.729",
           "0.729",
           "0.729",
           "0.729"
          ],
          [
           "0.125",
           "0.729",
           "0.729",
           "0.729",
           "0.729",
           "0.729"
          ],
          [
           "0.125",
           "0.729",
           "0.729",
           "0.729",
           "0.729",
           "0.729"
          ]
         ],
         "texttemplate": "%{text}",
         "type": "heatmap",
         "x": [
          0,
          1,
          2,
          3,
          4,
          5
         ],
         "xaxis": "x4",
         "y": [
          0,
          1,
          2,
          3,
          4,
          5,
          6,
          7,
          8,
          9
         ],
         "yaxis": "y4",
         "z": [
          [
           0.125,
           0.608695652173913,
           0.608695652173913,
           0.608695652173913,
           0.608695652173913,
           0.608695652173913
          ],
          [
           0.125,
           0.608695652173913,
           0.608695652173913,
           0.608695652173913,
           0.608695652173913,
           0.608695652173913
          ],
          [
           0.125,
           0.608695652173913,
           0.608695652173913,
           0.608695652173913,
           0.608695652173913,
           0.608695652173913
          ],
          [
           0.125,
           0.7292685688405798,
           0.7292685688405798,
           0.7292685688405798,
           0.7292685688405798,
           0.7292685688405798
          ],
          [
           0.125,
           0.7292685688405798,
           0.7292685688405798,
           0.7292685688405798,
           0.7292685688405798,
           0.7292685688405798
          ],
          [
           0.125,
           0.7292685688405798,
           0.7292685688405798,
           0.7292685688405798,
           0.7292685688405798,
           0.7292685688405798
          ],
          [
           0.125,
           0.7292685688405798,
           0.7292685688405798,
           0.7292685688405798,
           0.7292685688405798,
           0.7292685688405798
          ],
          [
           0.125,
           0.7292685688405798,
           0.7292685688405798,
           0.7292685688405798,
           0.7292685688405798,
           0.7292685688405798
          ],
          [
           0.125,
           0.7292685688405798,
           0.7292685688405798,
           0.7292685688405798,
           0.7292685688405798,
           0.7292685688405798
          ],
          [
           0.125,
           0.7292685688405798,
           0.7292685688405798,
           0.7292685688405798,
           0.7292685688405798,
           0.7292685688405798
          ]
         ],
         "zmax": 0.7594769021739132,
         "zmin": 0.125
        },
        {
         "colorscale": [
          [
           0,
           "rgb(247,251,255)"
          ],
          [
           0.125,
           "rgb(222,235,247)"
          ],
          [
           0.25,
           "rgb(198,219,239)"
          ],
          [
           0.375,
           "rgb(158,202,225)"
          ],
          [
           0.5,
           "rgb(107,174,214)"
          ],
          [
           0.625,
           "rgb(66,146,198)"
          ],
          [
           0.75,
           "rgb(33,113,181)"
          ],
          [
           0.875,
           "rgb(8,81,156)"
          ],
          [
           1,
           "rgb(8,48,107)"
          ]
         ],
         "hovertemplate": "%{text}",
         "name": "pdp isolate",
         "opacity": 0.8,
         "showscale": false,
         "text": [
          [
           "0.125",
           "0.759",
           "0.759",
           "0.759",
           "0.759",
           "0.759"
          ]
         ],
         "texttemplate": "%{text}",
         "type": "heatmap",
         "x": [
          0,
          1,
          2,
          3,
          4,
          5
         ],
         "xaxis": "x2",
         "y": [
          0
         ],
         "yaxis": "y2",
         "z": [
          [
           0.125,
           0.7594769021739132,
           0.7594769021739132,
           0.7594769021739132,
           0.7594769021739132,
           0.7594769021739132
          ]
         ],
         "zmax": 0.7594769021739132,
         "zmin": 0.125
        },
        {
         "colorscale": [
          [
           0,
           "rgb(247,251,255)"
          ],
          [
           0.125,
           "rgb(222,235,247)"
          ],
          [
           0.25,
           "rgb(198,219,239)"
          ],
          [
           0.375,
           "rgb(158,202,225)"
          ],
          [
           0.5,
           "rgb(107,174,214)"
          ],
          [
           0.625,
           "rgb(66,146,198)"
          ],
          [
           0.75,
           "rgb(33,113,181)"
          ],
          [
           0.875,
           "rgb(8,81,156)"
          ],
          [
           1,
           "rgb(8,48,107)"
          ]
         ],
         "hovertemplate": "%{text}",
         "name": "pdp isolate",
         "opacity": 0.8,
         "showscale": false,
         "text": [
          [
           "0.478"
          ],
          [
           "0.478"
          ],
          [
           "0.478"
          ],
          [
           "0.585"
          ],
          [
           "0.585"
          ],
          [
           "0.585"
          ],
          [
           "0.585"
          ],
          [
           "0.585"
          ],
          [
           "0.585"
          ],
          [
           "0.585"
          ]
         ],
         "texttemplate": "%{text}",
         "type": "heatmap",
         "x": [
          0
         ],
         "xaxis": "x3",
         "y": [
          0,
          1,
          2,
          3,
          4,
          5,
          6,
          7,
          8,
          9
         ],
         "yaxis": "y3",
         "z": [
          [
           0.47758152173913043
          ],
          [
           0.47758152173913043
          ],
          [
           0.47758152173913043
          ],
          [
           0.5846127717391305
          ],
          [
           0.5846127717391305
          ],
          [
           0.5846127717391305
          ],
          [
           0.5846127717391305
          ],
          [
           0.5846127717391305
          ],
          [
           0.5846127717391305
          ],
          [
           0.5846127717391305
          ]
         ],
         "zmax": 0.7594769021739132,
         "zmin": 0.125
        }
       ],
       "layout": {
        "height": 600,
        "showlegend": false,
        "template": {
         "data": {
          "bar": [
           {
            "error_x": {
             "color": "#2a3f5f"
            },
            "error_y": {
             "color": "#2a3f5f"
            },
            "marker": {
             "line": {
              "color": "white",
              "width": 0.5
             },
             "pattern": {
              "fillmode": "overlay",
              "size": 10,
              "solidity": 0.2
             }
            },
            "type": "bar"
           }
          ],
          "barpolar": [
           {
            "marker": {
             "line": {
              "color": "white",
              "width": 0.5
             },
             "pattern": {
              "fillmode": "overlay",
              "size": 10,
              "solidity": 0.2
             }
            },
            "type": "barpolar"
           }
          ],
          "carpet": [
           {
            "aaxis": {
             "endlinecolor": "#2a3f5f",
             "gridcolor": "#C8D4E3",
             "linecolor": "#C8D4E3",
             "minorgridcolor": "#C8D4E3",
             "startlinecolor": "#2a3f5f"
            },
            "baxis": {
             "endlinecolor": "#2a3f5f",
             "gridcolor": "#C8D4E3",
             "linecolor": "#C8D4E3",
             "minorgridcolor": "#C8D4E3",
             "startlinecolor": "#2a3f5f"
            },
            "type": "carpet"
           }
          ],
          "choropleth": [
           {
            "colorbar": {
             "outlinewidth": 0,
             "ticks": ""
            },
            "type": "choropleth"
           }
          ],
          "contour": [
           {
            "colorbar": {
             "outlinewidth": 0,
             "ticks": ""
            },
            "colorscale": [
             [
              0,
              "#0d0887"
             ],
             [
              0.1111111111111111,
              "#46039f"
             ],
             [
              0.2222222222222222,
              "#7201a8"
             ],
             [
              0.3333333333333333,
              "#9c179e"
             ],
             [
              0.4444444444444444,
              "#bd3786"
             ],
             [
              0.5555555555555556,
              "#d8576b"
             ],
             [
              0.6666666666666666,
              "#ed7953"
             ],
             [
              0.7777777777777778,
              "#fb9f3a"
             ],
             [
              0.8888888888888888,
              "#fdca26"
             ],
             [
              1,
              "#f0f921"
             ]
            ],
            "type": "contour"
           }
          ],
          "contourcarpet": [
           {
            "colorbar": {
             "outlinewidth": 0,
             "ticks": ""
            },
            "type": "contourcarpet"
           }
          ],
          "heatmap": [
           {
            "colorbar": {
             "outlinewidth": 0,
             "ticks": ""
            },
            "colorscale": [
             [
              0,
              "#0d0887"
             ],
             [
              0.1111111111111111,
              "#46039f"
             ],
             [
              0.2222222222222222,
              "#7201a8"
             ],
             [
              0.3333333333333333,
              "#9c179e"
             ],
             [
              0.4444444444444444,
              "#bd3786"
             ],
             [
              0.5555555555555556,
              "#d8576b"
             ],
             [
              0.6666666666666666,
              "#ed7953"
             ],
             [
              0.7777777777777778,
              "#fb9f3a"
             ],
             [
              0.8888888888888888,
              "#fdca26"
             ],
             [
              1,
              "#f0f921"
             ]
            ],
            "type": "heatmap"
           }
          ],
          "heatmapgl": [
           {
            "colorbar": {
             "outlinewidth": 0,
             "ticks": ""
            },
            "colorscale": [
             [
              0,
              "#0d0887"
             ],
             [
              0.1111111111111111,
              "#46039f"
             ],
             [
              0.2222222222222222,
              "#7201a8"
             ],
             [
              0.3333333333333333,
              "#9c179e"
             ],
             [
              0.4444444444444444,
              "#bd3786"
             ],
             [
              0.5555555555555556,
              "#d8576b"
             ],
             [
              0.6666666666666666,
              "#ed7953"
             ],
             [
              0.7777777777777778,
              "#fb9f3a"
             ],
             [
              0.8888888888888888,
              "#fdca26"
             ],
             [
              1,
              "#f0f921"
             ]
            ],
            "type": "heatmapgl"
           }
          ],
          "histogram": [
           {
            "marker": {
             "pattern": {
              "fillmode": "overlay",
              "size": 10,
              "solidity": 0.2
             }
            },
            "type": "histogram"
           }
          ],
          "histogram2d": [
           {
            "colorbar": {
             "outlinewidth": 0,
             "ticks": ""
            },
            "colorscale": [
             [
              0,
              "#0d0887"
             ],
             [
              0.1111111111111111,
              "#46039f"
             ],
             [
              0.2222222222222222,
              "#7201a8"
             ],
             [
              0.3333333333333333,
              "#9c179e"
             ],
             [
              0.4444444444444444,
              "#bd3786"
             ],
             [
              0.5555555555555556,
              "#d8576b"
             ],
             [
              0.6666666666666666,
              "#ed7953"
             ],
             [
              0.7777777777777778,
              "#fb9f3a"
             ],
             [
              0.8888888888888888,
              "#fdca26"
             ],
             [
              1,
              "#f0f921"
             ]
            ],
            "type": "histogram2d"
           }
          ],
          "histogram2dcontour": [
           {
            "colorbar": {
             "outlinewidth": 0,
             "ticks": ""
            },
            "colorscale": [
             [
              0,
              "#0d0887"
             ],
             [
              0.1111111111111111,
              "#46039f"
             ],
             [
              0.2222222222222222,
              "#7201a8"
             ],
             [
              0.3333333333333333,
              "#9c179e"
             ],
             [
              0.4444444444444444,
              "#bd3786"
             ],
             [
              0.5555555555555556,
              "#d8576b"
             ],
             [
              0.6666666666666666,
              "#ed7953"
             ],
             [
              0.7777777777777778,
              "#fb9f3a"
             ],
             [
              0.8888888888888888,
              "#fdca26"
             ],
             [
              1,
              "#f0f921"
             ]
            ],
            "type": "histogram2dcontour"
           }
          ],
          "mesh3d": [
           {
            "colorbar": {
             "outlinewidth": 0,
             "ticks": ""
            },
            "type": "mesh3d"
           }
          ],
          "parcoords": [
           {
            "line": {
             "colorbar": {
              "outlinewidth": 0,
              "ticks": ""
             }
            },
            "type": "parcoords"
           }
          ],
          "pie": [
           {
            "automargin": true,
            "type": "pie"
           }
          ],
          "scatter": [
           {
            "fillpattern": {
             "fillmode": "overlay",
             "size": 10,
             "solidity": 0.2
            },
            "type": "scatter"
           }
          ],
          "scatter3d": [
           {
            "line": {
             "colorbar": {
              "outlinewidth": 0,
              "ticks": ""
             }
            },
            "marker": {
             "colorbar": {
              "outlinewidth": 0,
              "ticks": ""
             }
            },
            "type": "scatter3d"
           }
          ],
          "scattercarpet": [
           {
            "marker": {
             "colorbar": {
              "outlinewidth": 0,
              "ticks": ""
             }
            },
            "type": "scattercarpet"
           }
          ],
          "scattergeo": [
           {
            "marker": {
             "colorbar": {
              "outlinewidth": 0,
              "ticks": ""
             }
            },
            "type": "scattergeo"
           }
          ],
          "scattergl": [
           {
            "marker": {
             "colorbar": {
              "outlinewidth": 0,
              "ticks": ""
             }
            },
            "type": "scattergl"
           }
          ],
          "scattermapbox": [
           {
            "marker": {
             "colorbar": {
              "outlinewidth": 0,
              "ticks": ""
             }
            },
            "type": "scattermapbox"
           }
          ],
          "scatterpolar": [
           {
            "marker": {
             "colorbar": {
              "outlinewidth": 0,
              "ticks": ""
             }
            },
            "type": "scatterpolar"
           }
          ],
          "scatterpolargl": [
           {
            "marker": {
             "colorbar": {
              "outlinewidth": 0,
              "ticks": ""
             }
            },
            "type": "scatterpolargl"
           }
          ],
          "scatterternary": [
           {
            "marker": {
             "colorbar": {
              "outlinewidth": 0,
              "ticks": ""
             }
            },
            "type": "scatterternary"
           }
          ],
          "surface": [
           {
            "colorbar": {
             "outlinewidth": 0,
             "ticks": ""
            },
            "colorscale": [
             [
              0,
              "#0d0887"
             ],
             [
              0.1111111111111111,
              "#46039f"
             ],
             [
              0.2222222222222222,
              "#7201a8"
             ],
             [
              0.3333333333333333,
              "#9c179e"
             ],
             [
              0.4444444444444444,
              "#bd3786"
             ],
             [
              0.5555555555555556,
              "#d8576b"
             ],
             [
              0.6666666666666666,
              "#ed7953"
             ],
             [
              0.7777777777777778,
              "#fb9f3a"
             ],
             [
              0.8888888888888888,
              "#fdca26"
             ],
             [
              1,
              "#f0f921"
             ]
            ],
            "type": "surface"
           }
          ],
          "table": [
           {
            "cells": {
             "fill": {
              "color": "#EBF0F8"
             },
             "line": {
              "color": "white"
             }
            },
            "header": {
             "fill": {
              "color": "#C8D4E3"
             },
             "line": {
              "color": "white"
             }
            },
            "type": "table"
           }
          ]
         },
         "layout": {
          "annotationdefaults": {
           "arrowcolor": "#2a3f5f",
           "arrowhead": 0,
           "arrowwidth": 1
          },
          "autotypenumbers": "strict",
          "coloraxis": {
           "colorbar": {
            "outlinewidth": 0,
            "ticks": ""
           }
          },
          "colorscale": {
           "diverging": [
            [
             0,
             "#8e0152"
            ],
            [
             0.1,
             "#c51b7d"
            ],
            [
             0.2,
             "#de77ae"
            ],
            [
             0.3,
             "#f1b6da"
            ],
            [
             0.4,
             "#fde0ef"
            ],
            [
             0.5,
             "#f7f7f7"
            ],
            [
             0.6,
             "#e6f5d0"
            ],
            [
             0.7,
             "#b8e186"
            ],
            [
             0.8,
             "#7fbc41"
            ],
            [
             0.9,
             "#4d9221"
            ],
            [
             1,
             "#276419"
            ]
           ],
           "sequential": [
            [
             0,
             "#0d0887"
            ],
            [
             0.1111111111111111,
             "#46039f"
            ],
            [
             0.2222222222222222,
             "#7201a8"
            ],
            [
             0.3333333333333333,
             "#9c179e"
            ],
            [
             0.4444444444444444,
             "#bd3786"
            ],
            [
             0.5555555555555556,
             "#d8576b"
            ],
            [
             0.6666666666666666,
             "#ed7953"
            ],
            [
             0.7777777777777778,
             "#fb9f3a"
            ],
            [
             0.8888888888888888,
             "#fdca26"
            ],
            [
             1,
             "#f0f921"
            ]
           ],
           "sequentialminus": [
            [
             0,
             "#0d0887"
            ],
            [
             0.1111111111111111,
             "#46039f"
            ],
            [
             0.2222222222222222,
             "#7201a8"
            ],
            [
             0.3333333333333333,
             "#9c179e"
            ],
            [
             0.4444444444444444,
             "#bd3786"
            ],
            [
             0.5555555555555556,
             "#d8576b"
            ],
            [
             0.6666666666666666,
             "#ed7953"
            ],
            [
             0.7777777777777778,
             "#fb9f3a"
            ],
            [
             0.8888888888888888,
             "#fdca26"
            ],
            [
             1,
             "#f0f921"
            ]
           ]
          },
          "colorway": [
           "#636efa",
           "#EF553B",
           "#00cc96",
           "#ab63fa",
           "#FFA15A",
           "#19d3f3",
           "#FF6692",
           "#B6E880",
           "#FF97FF",
           "#FECB52"
          ],
          "font": {
           "color": "#2a3f5f"
          },
          "geo": {
           "bgcolor": "white",
           "lakecolor": "white",
           "landcolor": "white",
           "showlakes": true,
           "showland": true,
           "subunitcolor": "#C8D4E3"
          },
          "hoverlabel": {
           "align": "left"
          },
          "hovermode": "closest",
          "mapbox": {
           "style": "light"
          },
          "paper_bgcolor": "white",
          "plot_bgcolor": "white",
          "polar": {
           "angularaxis": {
            "gridcolor": "#EBF0F8",
            "linecolor": "#EBF0F8",
            "ticks": ""
           },
           "bgcolor": "white",
           "radialaxis": {
            "gridcolor": "#EBF0F8",
            "linecolor": "#EBF0F8",
            "ticks": ""
           }
          },
          "scene": {
           "xaxis": {
            "backgroundcolor": "white",
            "gridcolor": "#DFE8F3",
            "gridwidth": 2,
            "linecolor": "#EBF0F8",
            "showbackground": true,
            "ticks": "",
            "zerolinecolor": "#EBF0F8"
           },
           "yaxis": {
            "backgroundcolor": "white",
            "gridcolor": "#DFE8F3",
            "gridwidth": 2,
            "linecolor": "#EBF0F8",
            "showbackground": true,
            "ticks": "",
            "zerolinecolor": "#EBF0F8"
           },
           "zaxis": {
            "backgroundcolor": "white",
            "gridcolor": "#DFE8F3",
            "gridwidth": 2,
            "linecolor": "#EBF0F8",
            "showbackground": true,
            "ticks": "",
            "zerolinecolor": "#EBF0F8"
           }
          },
          "shapedefaults": {
           "line": {
            "color": "#2a3f5f"
           }
          },
          "ternary": {
           "aaxis": {
            "gridcolor": "#DFE8F3",
            "linecolor": "#A2B1C6",
            "ticks": ""
           },
           "baxis": {
            "gridcolor": "#DFE8F3",
            "linecolor": "#A2B1C6",
            "ticks": ""
           },
           "bgcolor": "white",
           "caxis": {
            "gridcolor": "#DFE8F3",
            "linecolor": "#A2B1C6",
            "ticks": ""
           }
          },
          "title": {
           "x": 0.05
          },
          "xaxis": {
           "automargin": true,
           "gridcolor": "#EBF0F8",
           "linecolor": "#EBF0F8",
           "ticks": "",
           "title": {
            "standoff": 15
           },
           "zerolinecolor": "#EBF0F8",
           "zerolinewidth": 2
          },
          "yaxis": {
           "automargin": true,
           "gridcolor": "#EBF0F8",
           "linecolor": "#EBF0F8",
           "ticks": "",
           "title": {
            "standoff": 15
           },
           "zerolinecolor": "#EBF0F8",
           "zerolinewidth": 2
          }
         }
        },
        "title": {
         "text": "PDP interact for features <b>Number of Goals Scored</b> and <b>Distance covered in km</b> <br><sup>Number of unique grid points: (<b>Number of Goals Scored</b>: 6, <b>Distance covered in km</b>: 10)</sup>",
         "x": 0,
         "xref": "paper"
        },
        "width": 1200,
        "xaxis": {
         "anchor": "y",
         "domain": [
          0,
          0.5
         ]
        },
        "xaxis2": {
         "anchor": "y2",
         "domain": [
          0.08533333333333333,
          0.9999999999999999
         ],
         "side": "top",
         "ticktext": [
          "0<br><sup><b>[0.0, 11.11]</b></sup>",
          "0.89<br><sup><b>[22.22]</b></sup>",
          "1<br><sup><b>[33.33, 44.44]</b></sup>",
          "1.22<br><sup><b>[55.56]</b></sup>",
          "2<br><sup><b>[66.67, 77.78, 88.89]</b></sup>",
          "3<br><sup><b>[100.0]</b></sup>"
         ],
         "tickvals": [
          0,
          1,
          2,
          3,
          4,
          5
         ],
         "title": {
          "standoff": 0,
          "text": "<b>Number of Goals Scored</b> (value+percentile)"
         }
        },
        "xaxis3": {
         "anchor": "y3",
         "domain": [
          0,
          0.06533333333333333
         ],
         "showgrid": false,
         "showticklabels": false
        },
        "xaxis4": {
         "anchor": "y4",
         "domain": [
          0.08533333333333333,
          0.9999999999999999
         ],
         "showgrid": false,
         "showticklabels": false
        },
        "yaxis": {
         "anchor": "x",
         "domain": [
          0.5,
          1
         ]
        },
        "yaxis2": {
         "anchor": "x2",
         "domain": [
          0.89,
          0.95
         ],
         "showgrid": false,
         "showticklabels": false
        },
        "yaxis3": {
         "anchor": "x3",
         "domain": [
          2.220446049250313e-16,
          0.8400000000000001
         ],
         "ticktext": [
          "89<br><sup><b>[0.0]</b></sup>",
          "99<br><sup><b>[11.11]</b></sup>",
          "101<br><sup><b>[22.22]</b></sup>",
          "102<br><sup><b>[33.33]</b></sup>",
          "105.78<br><sup><b>[44.44]</b></sup>",
          "107<br><sup><b>[55.56]</b></sup>",
          "109.67<br><sup><b>[66.67]</b></sup>",
          "112<br><sup><b>[77.78]</b></sup>",
          "133.67<br><sup><b>[88.89]</b></sup>",
          "148<br><sup><b>[100.0]</b></sup>"
         ],
         "tickvals": [
          0,
          1,
          2,
          3,
          4,
          5,
          6,
          7,
          8,
          9
         ],
         "title": {
          "standoff": 0,
          "text": "<b>Distance covered in km</b> (value+percentile)"
         }
        },
        "yaxis4": {
         "anchor": "x4",
         "domain": [
          2.220446049250313e-16,
          0.8400000000000001
         ],
         "showgrid": false,
         "showticklabels": false
        }
       }
      }
     },
     "metadata": {},
     "output_type": "display_data"
    }
   ],
   "source": [
    "# Similar to previous PDP plot.\n",
    "# However, use pdp_interact instead of pdp_isolate and pdp_interact_plot instead of pdp_isolate_plot\n",
    "\n",
    "# plot PDP for the two features\n",
    "features_to_plot = ['Goal Scored', 'Distance Covered (Kms)']\n",
    "\n",
    "pdp_goal_distance = pdp.PDPInteract(model=tree_model, df=val_x, model_features=feature_names, features=features_to_plot, feature_names=[\"Number of Goals Scored\", \"Distance covered in km\"])\n",
    "\n",
    "fig, axes = pdp_goal_distance.plot(\n",
    "    plot_type=\"grid\",\n",
    "    plot_pdp=True,\n",
    "    to_bins=True,\n",
    "    show_percentile=True,\n",
    "    which_classes=None,\n",
    "    figsize=None,\n",
    "    dpi=300,\n",
    "    ncols=2,\n",
    "    plot_params=None,\n",
    "    engine='plotly',\n",
    "    template='plotly_white'\n",
    ")\n",
    "fig.show()"
   ]
  },
  {
   "cell_type": "markdown",
   "metadata": {},
   "source": [
    "<font color=red>Interpretation:</font> \n",
    "This **2D PDP** shows predictions for any combination of **Goals Scored** and **Distance Covered (Kms)**.\n",
    "\n",
    "For example, it seems to yield the highest predictions when a team scores at least one (1) goal and they run a total distance close to 100km. \n",
    "If the players score 0 goals, the covered distance does not matter. \n",
    "\n",
    "Try to see this by tracing through the decision tree with 0 goals!\n",
    "\n",
    "But distance can impact predictions if the players score goals. \n",
    "Make sure you can see this from the 2D PDP. \n",
    "Can you find this pattern in the decision tree too?\n",
    "\n",
    "If you feel motivated to tweak the chart this tutorial ressource might be of value: \n",
    "https://github.com/SauceCat/PDPbox/blob/master/tutorials/pdpbox_binary_classification.ipynb"
   ]
  },
  {
   "cell_type": "markdown",
   "metadata": {
    "tags": []
   },
   "source": [
    "# <font color=\"ce33ff\">PART II (Individual Conditional Expectation)</font>"
   ]
  },
  {
   "cell_type": "markdown",
   "metadata": {},
   "source": [
    "ICE is also a model-agnostic method that can be applied to any model. \n",
    "In fact, it is basically the same concept as PDP but is different in that it displays the marginal effect of feature(s) \n",
    "for each instance instead of calculating the average effect in a overall data context as the PDP does. \n",
    "Thus, it can understood as the equivalent to a PDP for individual data instances. \n",
    "Visually, an ICE plot displays the dependence of the prediction on a feature for each instance separately, \n",
    "resulting in one line per instance."
   ]
  },
  {
   "cell_type": "markdown",
   "metadata": {},
   "source": [
    "There are multiple packages and libraries that can be used to compute ICE plots. \n",
    "\n",
    "The PartialDependenceDisplay function in the sklearn.inspection module, the PyCEBox package and H2O package’s ice_plot function are available.\n",
    "\n",
    "Let’s take a look at an example in Sklearn’s documentation (https://scikit-learn.org/stable/modules/partial_dependence.html)."
   ]
  },
  {
   "cell_type": "markdown",
   "metadata": {},
   "source": [
    "## Imports\n",
    "Import all necessary python utilities."
   ]
  },
  {
   "cell_type": "code",
   "execution_count": 66,
   "metadata": {
    "tags": []
   },
   "outputs": [],
   "source": [
    "import numpy as np\n",
    "import pandas as pd\n",
    "\n",
    "from sklearn.datasets import make_hastie_10_2\n",
    "from sklearn.ensemble import GradientBoostingClassifier\n",
    "\n",
    "# make sure you have installed scikit-learn of version > 1.0 \n",
    "# since the method from_estimator() is not available in previous versions\n",
    "from sklearn.inspection import PartialDependenceDisplay"
   ]
  },
  {
   "cell_type": "code",
   "execution_count": 67,
   "metadata": {
    "tags": []
   },
   "outputs": [
    {
     "data": {
      "text/plain": [
       "<sklearn.inspection._plot.partial_dependence.PartialDependenceDisplay at 0x2b296f940>"
      ]
     },
     "execution_count": 67,
     "metadata": {},
     "output_type": "execute_result"
    },
    {
     "data": {
      "image/png": "[encoded data removed]",
      "text/plain": [
       "<Figure size 640x480 with 3 Axes>"
      ]
     },
     "metadata": {},
     "output_type": "display_data"
    }
   ],
   "source": [
    "# Read some inbuild data set as part of the Sklearn data sets being offered\n",
    "# To get more information on the data set please refer to \n",
    "''' https://scikit-learn.org/stable/modules/generated/sklearn.datasets.make_hastie_10_2.html '''\n",
    "\n",
    "x, y = make_hastie_10_2(random_state=0) # set a seed with random_state\n",
    "\n",
    "clf = GradientBoostingClassifier(n_estimators=100, learning_rate=1.0, max_depth=1, random_state=0).fit(x, y)\n",
    "features = [0, 1] #features x and y\n",
    "\n",
    "PartialDependenceDisplay.from_estimator(clf, x, features, kind='individual')"
   ]
  },
  {
   "cell_type": "markdown",
   "metadata": {},
   "source": [
    "It is evident that, similar to PDPs, ICE curves can be computed only after a model has been trained.\n",
    "\n",
    "If you specify the parameter kind='both', then a PDP and an ICE curve is plotted in one canvas at the same time. \n",
    "This will be meaningful when looking at both, the marginal average effect and marginal individual effects at once!"
   ]
  },
  {
   "cell_type": "code",
   "execution_count": 68,
   "metadata": {
    "tags": []
   },
   "outputs": [
    {
     "data": {
      "text/plain": [
       "<sklearn.inspection._plot.partial_dependence.PartialDependenceDisplay at 0x2b98a2df0>"
      ]
     },
     "execution_count": 68,
     "metadata": {},
     "output_type": "execute_result"
    },
    {
     "data": {
      "image/png": "[encoded data removed]",
      "text/plain": [
       "<Figure size 640x480 with 3 Axes>"
      ]
     },
     "metadata": {},
     "output_type": "display_data"
    }
   ],
   "source": [
    "PartialDependenceDisplay.from_estimator(clf, x, features, kind='both')"
   ]
  },
  {
   "cell_type": "markdown",
   "metadata": {},
   "source": [
    "# Task"
   ]
  },
  {
   "cell_type": "code",
   "execution_count": 69,
   "metadata": {},
   "outputs": [
    {
     "data": {
      "text/html": [
       "<div>\n",
       "<style scoped>\n",
       "    .dataframe tbody tr th:only-of-type {\n",
       "        vertical-align: middle;\n",
       "    }\n",
       "\n",
       "    .dataframe tbody tr th {\n",
       "        vertical-align: top;\n",
       "    }\n",
       "\n",
       "    .dataframe thead th {\n",
       "        text-align: right;\n",
       "    }\n",
       "</style>\n",
       "<table border=\"1\" class=\"dataframe\">\n",
       "  <thead>\n",
       "    <tr style=\"text-align: right;\">\n",
       "      <th></th>\n",
       "      <th>name</th>\n",
       "      <th>roaster</th>\n",
       "      <th>roast</th>\n",
       "      <th>loc_country</th>\n",
       "      <th>origin</th>\n",
       "      <th>100g_USD</th>\n",
       "      <th>rating</th>\n",
       "      <th>review_date</th>\n",
       "      <th>review</th>\n",
       "    </tr>\n",
       "  </thead>\n",
       "  <tbody>\n",
       "    <tr>\n",
       "      <th>0</th>\n",
       "      <td>Ethiopia Shakiso Mormora</td>\n",
       "      <td>Revel Coffee</td>\n",
       "      <td>Medium-Light</td>\n",
       "      <td>United States</td>\n",
       "      <td>Ethiopia</td>\n",
       "      <td>4.70</td>\n",
       "      <td>92</td>\n",
       "      <td>November 2017</td>\n",
       "      <td>Crisply sweet, cocoa-toned. Lemon blossom, roa...</td>\n",
       "    </tr>\n",
       "    <tr>\n",
       "      <th>1</th>\n",
       "      <td>Ethiopia Suke Quto</td>\n",
       "      <td>Roast House</td>\n",
       "      <td>Medium-Light</td>\n",
       "      <td>United States</td>\n",
       "      <td>Ethiopia</td>\n",
       "      <td>4.19</td>\n",
       "      <td>92</td>\n",
       "      <td>November 2017</td>\n",
       "      <td>Delicate, sweetly spice-toned. Pink peppercorn...</td>\n",
       "    </tr>\n",
       "    <tr>\n",
       "      <th>2</th>\n",
       "      <td>Ethiopia Gedeb Halo Beriti</td>\n",
       "      <td>Big Creek Coffee Roasters</td>\n",
       "      <td>Medium</td>\n",
       "      <td>United States</td>\n",
       "      <td>Ethiopia</td>\n",
       "      <td>4.85</td>\n",
       "      <td>94</td>\n",
       "      <td>November 2017</td>\n",
       "      <td>Deeply sweet, subtly pungent. Honey, pear, tan...</td>\n",
       "    </tr>\n",
       "  </tbody>\n",
       "</table>\n",
       "</div>"
      ],
      "text/plain": [
       "                         name                    roaster         roast  \\\n",
       "0    Ethiopia Shakiso Mormora               Revel Coffee  Medium-Light   \n",
       "1          Ethiopia Suke Quto                Roast House  Medium-Light   \n",
       "2  Ethiopia Gedeb Halo Beriti  Big Creek Coffee Roasters        Medium   \n",
       "\n",
       "     loc_country    origin  100g_USD  rating    review_date  \\\n",
       "0  United States  Ethiopia      4.70      92  November 2017   \n",
       "1  United States  Ethiopia      4.19      92  November 2017   \n",
       "2  United States  Ethiopia      4.85      94  November 2017   \n",
       "\n",
       "                                              review  \n",
       "0  Crisply sweet, cocoa-toned. Lemon blossom, roa...  \n",
       "1  Delicate, sweetly spice-toned. Pink peppercorn...  \n",
       "2  Deeply sweet, subtly pungent. Honey, pear, tan...  "
      ]
     },
     "execution_count": 69,
     "metadata": {},
     "output_type": "execute_result"
    }
   ],
   "source": [
    "# Import iris data set\n",
    "data = pd.read_csv('./data/coffee/simplified_coffee.csv')\n",
    "\n",
    "# Preview the data\n",
    "data.head(3)"
   ]
  },
  {
   "cell_type": "code",
   "execution_count": 70,
   "metadata": {},
   "outputs": [
    {
     "name": "stdout",
     "output_type": "stream",
     "text": [
      "['name', 'roaster', 'roast', 'loc_country', 'origin', '100g_USD', 'rating', 'review_date', 'review']\n",
      "['100g_USD', 'rating']\n"
     ]
    }
   ],
   "source": [
    "# Preprocess\n",
    "print(data.columns.tolist())\n",
    "# Convert origin==Ethiopia from string to binary\n",
    "y = (data['origin'] == 'Ethiopia')\n",
    "\n",
    "feature_names = [i for i in data.columns if data[i].dtype in [np.float64, np.int64]]\n",
    "\n",
    "x = data[feature_names]\n",
    "\n",
    "# min-max normalize the data\n",
    "x = (x - x.min())/(x.max() - x.min())\n",
    "\n",
    "print(feature_names)"
   ]
  },
  {
   "cell_type": "code",
   "execution_count": 71,
   "metadata": {},
   "outputs": [],
   "source": [
    "# Train classifier\n",
    "\n",
    "train_x, val_x, train_y, val_y = train_test_split(x, y, random_state=1)\n",
    "tree_model = DecisionTreeClassifier(random_state=0, max_depth=5, min_samples_split=5).fit(train_x, train_y)"
   ]
  },
  {
   "cell_type": "code",
   "execution_count": 72,
   "metadata": {},
   "outputs": [
    {
     "name": "stdout",
     "output_type": "stream",
     "text": [
      "obtain pred_func from the provided model.\n"
     ]
    },
    {
     "name": "stderr",
     "output_type": "stream",
     "text": [
      "  0%|          | 0/6 [00:00<?, ?it/s]"
     ]
    },
    {
     "name": "stderr",
     "output_type": "stream",
     "text": [
      "100%|██████████| 6/6 [00:00<00:00, 1035.89it/s]\n"
     ]
    },
    {
     "data": {
      "application/vnd.plotly.v1+json": {
       "config": {
        "plotlyServerURL": "https://plot.ly"
       },
       "data": [
        {
         "hoverinfo": "none",
         "line": {
          "color": "rgba(193,217,237,0.5)",
          "width": 0.5
         },
         "mode": "lines",
         "type": "scatter",
         "x": [
          0,
          0.6153846153846154,
          0.6923076923076923,
          0.7692307692307693,
          0.8461538461538461,
          1
         ],
         "xaxis": "x",
         "y": [
          0.25,
          0.013157894736842105,
          0.013157894736842105,
          0.013157894736842105,
          0.013157894736842105,
          0.013157894736842105
         ],
         "yaxis": "y"
        },
        {
         "hoverinfo": "none",
         "line": {
          "color": "rgba(177,210,231,0.5)",
          "width": 0.5
         },
         "mode": "lines",
         "type": "scatter",
         "x": [
          0,
          0.6153846153846154,
          0.6923076923076923,
          0.7692307692307693,
          0.8461538461538461,
          1
         ],
         "xaxis": "x",
         "y": [
          0.3670520231213873,
          0.3670520231213873,
          0.3670520231213873,
          0.7391304347826086,
          0.7391304347826086,
          0.7391304347826086
         ],
         "yaxis": "y"
        },
        {
         "hoverinfo": "none",
         "line": {
          "color": "rgba(160,202,225,0.5)",
          "width": 0.5
         },
         "mode": "lines",
         "type": "scatter",
         "x": [
          0,
          0.6153846153846154,
          0.6923076923076923,
          0.7692307692307693,
          0.8461538461538461,
          1
         ],
         "xaxis": "x",
         "y": [
          0.1590909090909091,
          0.1590909090909091,
          0.1590909090909091,
          0.1590909090909091,
          0.1590909090909091,
          1
         ],
         "yaxis": "y"
        },
        {
         "hoverinfo": "none",
         "line": {
          "color": "rgba(139,192,221,0.5)",
          "width": 0.5
         },
         "mode": "lines",
         "type": "scatter",
         "x": [
          0,
          0.6153846153846154,
          0.6923076923076923,
          0.7692307692307693,
          0.8461538461538461,
          1
         ],
         "xaxis": "x",
         "y": [
          1,
          1,
          1,
          0,
          0,
          0
         ],
         "yaxis": "y"
        },
        {
         "hoverinfo": "none",
         "line": {
          "color": "rgba(117,179,216,0.5)",
          "width": 0.5
         },
         "mode": "lines",
         "type": "scatter",
         "x": [
          0,
          0.6153846153846154,
          0.6923076923076923,
          0.7692307692307693,
          0.8461538461538461,
          1
         ],
         "xaxis": "x",
         "y": [
          0.3670520231213873,
          0.3670520231213873,
          0.3670520231213873,
          0.3108108108108108,
          0.4117647058823529,
          0.4117647058823529
         ],
         "yaxis": "y"
        },
        {
         "hoverinfo": "none",
         "line": {
          "color": "rgba(98,168,210,0.5)",
          "width": 0.5
         },
         "mode": "lines",
         "type": "scatter",
         "x": [
          0,
          0.6153846153846154,
          0.6923076923076923,
          0.7692307692307693,
          0.8461538461538461,
          1
         ],
         "xaxis": "x",
         "y": [
          0.3670520231213873,
          0.3670520231213873,
          0.3670520231213873,
          0.7391304347826086,
          0.7391304347826086,
          0.7391304347826086
         ],
         "yaxis": "y"
        },
        {
         "hoverinfo": "none",
         "line": {
          "color": "rgba(80,155,203,0.5)",
          "width": 0.5
         },
         "mode": "lines",
         "type": "scatter",
         "x": [
          0,
          0.6153846153846154,
          0.6923076923076923,
          0.7692307692307693,
          0.8461538461538461,
          1
         ],
         "xaxis": "x",
         "y": [
          0.3670520231213873,
          0.3670520231213873,
          0.3670520231213873,
          0.3108108108108108,
          0.4117647058823529,
          0.4117647058823529
         ],
         "yaxis": "y"
        },
        {
         "hoverinfo": "none",
         "line": {
          "color": "rgba(64,144,197,0.5)",
          "width": 0.5
         },
         "mode": "lines",
         "type": "scatter",
         "x": [
          0,
          0.6153846153846154,
          0.6923076923076923,
          0.7692307692307693,
          0.8461538461538461,
          1
         ],
         "xaxis": "x",
         "y": [
          0.1590909090909091,
          0.1590909090909091,
          0.1590909090909091,
          0.1590909090909091,
          0.1590909090909091,
          1
         ],
         "yaxis": "y"
        },
        {
         "hoverinfo": "none",
         "line": {
          "color": "rgba(49,129,189,0.5)",
          "width": 0.5
         },
         "mode": "lines",
         "type": "scatter",
         "x": [
          0,
          0.6153846153846154,
          0.6923076923076923,
          0.7692307692307693,
          0.8461538461538461,
          1
         ],
         "xaxis": "x",
         "y": [
          0.5,
          0.5,
          0.5,
          0.7391304347826086,
          0.7391304347826086,
          0.7391304347826086
         ],
         "yaxis": "y"
        },
        {
         "hoverinfo": "none",
         "line": {
          "color": "rgba(36,116,182,0.5)",
          "width": 0.5
         },
         "mode": "lines",
         "type": "scatter",
         "x": [
          0,
          0.6153846153846154,
          0.6923076923076923,
          0.7692307692307693,
          0.8461538461538461,
          1
         ],
         "xaxis": "x",
         "y": [
          0.3670520231213873,
          0.3670520231213873,
          0.3670520231213873,
          0.7391304347826086,
          0.7391304347826086,
          0.7391304347826086
         ],
         "yaxis": "y"
        },
        {
         "hoverinfo": "none",
         "line": {
          "color": "rgba(193,217,237,0.5)",
          "width": 0.5
         },
         "mode": "lines",
         "type": "scatter",
         "x": [
          0,
          0.6153846153846154,
          0.6923076923076923,
          0.7692307692307693,
          0.8461538461538461,
          1
         ],
         "xaxis": "x",
         "y": [
          0.3670520231213873,
          0.3670520231213873,
          0.3670520231213873,
          0.7391304347826086,
          0.7391304347826086,
          0.7391304347826086
         ],
         "yaxis": "y"
        },
        {
         "hoverinfo": "none",
         "line": {
          "color": "rgba(177,210,231,0.5)",
          "width": 0.5
         },
         "mode": "lines",
         "type": "scatter",
         "x": [
          0,
          0.6153846153846154,
          0.6923076923076923,
          0.7692307692307693,
          0.8461538461538461,
          1
         ],
         "xaxis": "x",
         "y": [
          0.3670520231213873,
          0.3670520231213873,
          0.3670520231213873,
          0.3108108108108108,
          0.4117647058823529,
          0.4117647058823529
         ],
         "yaxis": "y"
        },
        {
         "hoverinfo": "none",
         "line": {
          "color": "rgba(160,202,225,0.5)",
          "width": 0.5
         },
         "mode": "lines",
         "type": "scatter",
         "x": [
          0,
          0.6153846153846154,
          0.6923076923076923,
          0.7692307692307693,
          0.8461538461538461,
          1
         ],
         "xaxis": "x",
         "y": [
          0.3670520231213873,
          0.3670520231213873,
          0.3670520231213873,
          0.59375,
          0.59375,
          0.59375
         ],
         "yaxis": "y"
        },
        {
         "hoverinfo": "none",
         "line": {
          "color": "rgba(139,192,221,0.5)",
          "width": 0.5
         },
         "mode": "lines",
         "type": "scatter",
         "x": [
          0,
          0.6153846153846154,
          0.6923076923076923,
          0.7692307692307693,
          0.8461538461538461,
          1
         ],
         "xaxis": "x",
         "y": [
          0.3670520231213873,
          0.3670520231213873,
          0.3670520231213873,
          0.7391304347826086,
          0.7391304347826086,
          0.7391304347826086
         ],
         "yaxis": "y"
        },
        {
         "hoverinfo": "none",
         "line": {
          "color": "rgba(117,179,216,0.5)",
          "width": 0.5
         },
         "mode": "lines",
         "type": "scatter",
         "x": [
          0,
          0.6153846153846154,
          0.6923076923076923,
          0.7692307692307693,
          0.8461538461538461,
          1
         ],
         "xaxis": "x",
         "y": [
          0.3670520231213873,
          0.3670520231213873,
          0.3670520231213873,
          0.7391304347826086,
          0.7391304347826086,
          0.7391304347826086
         ],
         "yaxis": "y"
        },
        {
         "hoverinfo": "none",
         "line": {
          "color": "rgba(98,168,210,0.5)",
          "width": 0.5
         },
         "mode": "lines",
         "type": "scatter",
         "x": [
          0,
          0.6153846153846154,
          0.6923076923076923,
          0.7692307692307693,
          0.8461538461538461,
          1
         ],
         "xaxis": "x",
         "y": [
          0.25,
          0.013157894736842105,
          0.013157894736842105,
          0.013157894736842105,
          0.013157894736842105,
          0.013157894736842105
         ],
         "yaxis": "y"
        },
        {
         "hoverinfo": "none",
         "line": {
          "color": "rgba(80,155,203,0.5)",
          "width": 0.5
         },
         "mode": "lines",
         "type": "scatter",
         "x": [
          0,
          0.6153846153846154,
          0.6923076923076923,
          0.7692307692307693,
          0.8461538461538461,
          1
         ],
         "xaxis": "x",
         "y": [
          0.3670520231213873,
          0.3670520231213873,
          0.3670520231213873,
          0.59375,
          0.59375,
          0.59375
         ],
         "yaxis": "y"
        },
        {
         "hoverinfo": "none",
         "line": {
          "color": "rgba(64,144,197,0.5)",
          "width": 0.5
         },
         "mode": "lines",
         "type": "scatter",
         "x": [
          0,
          0.6153846153846154,
          0.6923076923076923,
          0.7692307692307693,
          0.8461538461538461,
          1
         ],
         "xaxis": "x",
         "y": [
          0.25,
          0.1111111111111111,
          0.1111111111111111,
          0.1111111111111111,
          0.1111111111111111,
          0.1111111111111111
         ],
         "yaxis": "y"
        },
        {
         "hoverinfo": "none",
         "line": {
          "color": "rgba(49,129,189,0.5)",
          "width": 0.5
         },
         "mode": "lines",
         "type": "scatter",
         "x": [
          0,
          0.6153846153846154,
          0.6923076923076923,
          0.7692307692307693,
          0.8461538461538461,
          1
         ],
         "xaxis": "x",
         "y": [
          0.3670520231213873,
          0.3670520231213873,
          0.3670520231213873,
          0.3108108108108108,
          0.4117647058823529,
          0.4117647058823529
         ],
         "yaxis": "y"
        },
        {
         "hoverinfo": "none",
         "line": {
          "color": "rgba(36,116,182,0.5)",
          "width": 0.5
         },
         "mode": "lines",
         "type": "scatter",
         "x": [
          0,
          0.6153846153846154,
          0.6923076923076923,
          0.7692307692307693,
          0.8461538461538461,
          1
         ],
         "xaxis": "x",
         "y": [
          0.3670520231213873,
          0.3670520231213873,
          0.3670520231213873,
          0.3108108108108108,
          0.4117647058823529,
          0.4117647058823529
         ],
         "yaxis": "y"
        },
        {
         "hoverinfo": "none",
         "line": {
          "color": "rgba(193,217,237,0.5)",
          "width": 0.5
         },
         "mode": "lines",
         "type": "scatter",
         "x": [
          0,
          0.6153846153846154,
          0.6923076923076923,
          0.7692307692307693,
          0.8461538461538461,
          1
         ],
         "xaxis": "x",
         "y": [
          0.3670520231213873,
          0.3670520231213873,
          0.3670520231213873,
          0.3108108108108108,
          0.4117647058823529,
          0.4117647058823529
         ],
         "yaxis": "y"
        },
        {
         "hoverinfo": "none",
         "line": {
          "color": "rgba(177,210,231,0.5)",
          "width": 0.5
         },
         "mode": "lines",
         "type": "scatter",
         "x": [
          0,
          0.6153846153846154,
          0.6923076923076923,
          0.7692307692307693,
          0.8461538461538461,
          1
         ],
         "xaxis": "x",
         "y": [
          0.3670520231213873,
          0.3670520231213873,
          0.3670520231213873,
          0.3108108108108108,
          0.4117647058823529,
          0.4117647058823529
         ],
         "yaxis": "y"
        },
        {
         "hoverinfo": "none",
         "line": {
          "color": "rgba(160,202,225,0.5)",
          "width": 0.5
         },
         "mode": "lines",
         "type": "scatter",
         "x": [
          0,
          0.6153846153846154,
          0.6923076923076923,
          0.7692307692307693,
          0.8461538461538461,
          1
         ],
         "xaxis": "x",
         "y": [
          0.25,
          0.013157894736842105,
          0.013157894736842105,
          0.013157894736842105,
          0.013157894736842105,
          0.013157894736842105
         ],
         "yaxis": "y"
        },
        {
         "hoverinfo": "none",
         "line": {
          "color": "rgba(139,192,221,0.5)",
          "width": 0.5
         },
         "mode": "lines",
         "type": "scatter",
         "x": [
          0,
          0.6153846153846154,
          0.6923076923076923,
          0.7692307692307693,
          0.8461538461538461,
          1
         ],
         "xaxis": "x",
         "y": [
          0.25,
          0.1111111111111111,
          0.1111111111111111,
          0.1111111111111111,
          0.1111111111111111,
          0.1111111111111111
         ],
         "yaxis": "y"
        },
        {
         "hoverinfo": "none",
         "line": {
          "color": "rgba(117,179,216,0.5)",
          "width": 0.5
         },
         "mode": "lines",
         "type": "scatter",
         "x": [
          0,
          0.6153846153846154,
          0.6923076923076923,
          0.7692307692307693,
          0.8461538461538461,
          1
         ],
         "xaxis": "x",
         "y": [
          0.3670520231213873,
          0.3670520231213873,
          0.3670520231213873,
          0.7391304347826086,
          0.7391304347826086,
          0.7391304347826086
         ],
         "yaxis": "y"
        },
        {
         "hoverinfo": "none",
         "line": {
          "color": "rgba(98,168,210,0.5)",
          "width": 0.5
         },
         "mode": "lines",
         "type": "scatter",
         "x": [
          0,
          0.6153846153846154,
          0.6923076923076923,
          0.7692307692307693,
          0.8461538461538461,
          1
         ],
         "xaxis": "x",
         "y": [
          0.6666666666666666,
          0.6666666666666666,
          0.6666666666666666,
          0.3108108108108108,
          0.4117647058823529,
          0.4117647058823529
         ],
         "yaxis": "y"
        },
        {
         "hoverinfo": "none",
         "line": {
          "color": "rgba(80,155,203,0.5)",
          "width": 0.5
         },
         "mode": "lines",
         "type": "scatter",
         "x": [
          0,
          0.6153846153846154,
          0.6923076923076923,
          0.7692307692307693,
          0.8461538461538461,
          1
         ],
         "xaxis": "x",
         "y": [
          0.25,
          0.013157894736842105,
          0.013157894736842105,
          0.013157894736842105,
          0.013157894736842105,
          0.013157894736842105
         ],
         "yaxis": "y"
        },
        {
         "hoverinfo": "none",
         "line": {
          "color": "rgba(64,144,197,0.5)",
          "width": 0.5
         },
         "mode": "lines",
         "type": "scatter",
         "x": [
          0,
          0.6153846153846154,
          0.6923076923076923,
          0.7692307692307693,
          0.8461538461538461,
          1
         ],
         "xaxis": "x",
         "y": [
          0.25,
          0.013157894736842105,
          0.013157894736842105,
          0.013157894736842105,
          0.013157894736842105,
          0.013157894736842105
         ],
         "yaxis": "y"
        },
        {
         "hoverinfo": "none",
         "line": {
          "color": "rgba(49,129,189,0.5)",
          "width": 0.5
         },
         "mode": "lines",
         "type": "scatter",
         "x": [
          0,
          0.6153846153846154,
          0.6923076923076923,
          0.7692307692307693,
          0.8461538461538461,
          1
         ],
         "xaxis": "x",
         "y": [
          0.3670520231213873,
          0.3670520231213873,
          0.3670520231213873,
          0.3108108108108108,
          0.4117647058823529,
          0.4117647058823529
         ],
         "yaxis": "y"
        },
        {
         "hoverinfo": "none",
         "line": {
          "color": "rgba(36,116,182,0.5)",
          "width": 0.5
         },
         "mode": "lines",
         "type": "scatter",
         "x": [
          0,
          0.6153846153846154,
          0.6923076923076923,
          0.7692307692307693,
          0.8461538461538461,
          1
         ],
         "xaxis": "x",
         "y": [
          0.3670520231213873,
          0.3670520231213873,
          0.3670520231213873,
          0.3108108108108108,
          0.4117647058823529,
          0.4117647058823529
         ],
         "yaxis": "y"
        },
        {
         "hoverinfo": "none",
         "line": {
          "color": "rgba(193,217,237,0.5)",
          "width": 0.5
         },
         "mode": "lines",
         "type": "scatter",
         "x": [
          0,
          0.6153846153846154,
          0.6923076923076923,
          0.7692307692307693,
          0.8461538461538461,
          1
         ],
         "xaxis": "x",
         "y": [
          0.3670520231213873,
          0.3670520231213873,
          0.3670520231213873,
          0.3108108108108108,
          0.4117647058823529,
          0.4117647058823529
         ],
         "yaxis": "y"
        },
        {
         "hoverinfo": "none",
         "line": {
          "color": "rgba(177,210,231,0.5)",
          "width": 0.5
         },
         "mode": "lines",
         "type": "scatter",
         "x": [
          0,
          0.6153846153846154,
          0.6923076923076923,
          0.7692307692307693,
          0.8461538461538461,
          1
         ],
         "xaxis": "x",
         "y": [
          0.6666666666666666,
          0.6666666666666666,
          0.6666666666666666,
          1,
          1,
          1
         ],
         "yaxis": "y"
        },
        {
         "hoverinfo": "none",
         "line": {
          "color": "rgba(160,202,225,0.5)",
          "width": 0.5
         },
         "mode": "lines",
         "type": "scatter",
         "x": [
          0,
          0.6153846153846154,
          0.6923076923076923,
          0.7692307692307693,
          0.8461538461538461,
          1
         ],
         "xaxis": "x",
         "y": [
          0.25,
          0.013157894736842105,
          0.013157894736842105,
          0.013157894736842105,
          0.013157894736842105,
          0.013157894736842105
         ],
         "yaxis": "y"
        },
        {
         "hoverinfo": "none",
         "line": {
          "color": "rgba(139,192,221,0.5)",
          "width": 0.5
         },
         "mode": "lines",
         "type": "scatter",
         "x": [
          0,
          0.6153846153846154,
          0.6923076923076923,
          0.7692307692307693,
          0.8461538461538461,
          1
         ],
         "xaxis": "x",
         "y": [
          0.3670520231213873,
          0.3670520231213873,
          0.3670520231213873,
          0.7391304347826086,
          0.7391304347826086,
          0.7391304347826086
         ],
         "yaxis": "y"
        },
        {
         "hoverinfo": "none",
         "line": {
          "color": "rgba(117,179,216,0.5)",
          "width": 0.5
         },
         "mode": "lines",
         "type": "scatter",
         "x": [
          0,
          0.6153846153846154,
          0.6923076923076923,
          0.7692307692307693,
          0.8461538461538461,
          1
         ],
         "xaxis": "x",
         "y": [
          0,
          0,
          0.07692307692307693,
          0.07692307692307693,
          0.07692307692307693,
          0.5
         ],
         "yaxis": "y"
        },
        {
         "hoverinfo": "none",
         "line": {
          "color": "rgba(98,168,210,0.5)",
          "width": 0.5
         },
         "mode": "lines",
         "type": "scatter",
         "x": [
          0,
          0.6153846153846154,
          0.6923076923076923,
          0.7692307692307693,
          0.8461538461538461,
          1
         ],
         "xaxis": "x",
         "y": [
          0.3670520231213873,
          0.3670520231213873,
          0.3670520231213873,
          0.7391304347826086,
          0.7391304347826086,
          0.7391304347826086
         ],
         "yaxis": "y"
        },
        {
         "hoverinfo": "none",
         "line": {
          "color": "rgba(80,155,203,0.5)",
          "width": 0.5
         },
         "mode": "lines",
         "type": "scatter",
         "x": [
          0,
          0.6153846153846154,
          0.6923076923076923,
          0.7692307692307693,
          0.8461538461538461,
          1
         ],
         "xaxis": "x",
         "y": [
          0.1590909090909091,
          0.1590909090909091,
          0.1590909090909091,
          0.1590909090909091,
          0.1590909090909091,
          1
         ],
         "yaxis": "y"
        },
        {
         "hoverinfo": "none",
         "line": {
          "color": "rgba(64,144,197,0.5)",
          "width": 0.5
         },
         "mode": "lines",
         "type": "scatter",
         "x": [
          0,
          0.6153846153846154,
          0.6923076923076923,
          0.7692307692307693,
          0.8461538461538461,
          1
         ],
         "xaxis": "x",
         "y": [
          0.3670520231213873,
          0.3670520231213873,
          0.3670520231213873,
          0.7391304347826086,
          0.7391304347826086,
          0.7391304347826086
         ],
         "yaxis": "y"
        },
        {
         "hoverinfo": "none",
         "line": {
          "color": "rgba(49,129,189,0.5)",
          "width": 0.5
         },
         "mode": "lines",
         "type": "scatter",
         "x": [
          0,
          0.6153846153846154,
          0.6923076923076923,
          0.7692307692307693,
          0.8461538461538461,
          1
         ],
         "xaxis": "x",
         "y": [
          0.3670520231213873,
          0.3670520231213873,
          0.3670520231213873,
          0.7391304347826086,
          0.7391304347826086,
          0.7391304347826086
         ],
         "yaxis": "y"
        },
        {
         "hoverinfo": "none",
         "line": {
          "color": "rgba(36,116,182,0.5)",
          "width": 0.5
         },
         "mode": "lines",
         "type": "scatter",
         "x": [
          0,
          0.6153846153846154,
          0.6923076923076923,
          0.7692307692307693,
          0.8461538461538461,
          1
         ],
         "xaxis": "x",
         "y": [
          0.3670520231213873,
          0.3670520231213873,
          0.3670520231213873,
          0.7391304347826086,
          0.7391304347826086,
          0.7391304347826086
         ],
         "yaxis": "y"
        },
        {
         "hoverinfo": "none",
         "line": {
          "color": "rgba(193,217,237,0.5)",
          "width": 0.5
         },
         "mode": "lines",
         "type": "scatter",
         "x": [
          0,
          0.6153846153846154,
          0.6923076923076923,
          0.7692307692307693,
          0.8461538461538461,
          1
         ],
         "xaxis": "x",
         "y": [
          0.3670520231213873,
          0.3670520231213873,
          0.3670520231213873,
          0.3108108108108108,
          0.4117647058823529,
          0.4117647058823529
         ],
         "yaxis": "y"
        },
        {
         "hoverinfo": "none",
         "line": {
          "color": "rgba(177,210,231,0.5)",
          "width": 0.5
         },
         "mode": "lines",
         "type": "scatter",
         "x": [
          0,
          0.6153846153846154,
          0.6923076923076923,
          0.7692307692307693,
          0.8461538461538461,
          1
         ],
         "xaxis": "x",
         "y": [
          0.25,
          0.1111111111111111,
          0.1111111111111111,
          0.1111111111111111,
          0.1111111111111111,
          0.1111111111111111
         ],
         "yaxis": "y"
        },
        {
         "hoverinfo": "none",
         "line": {
          "color": "rgba(160,202,225,0.5)",
          "width": 0.5
         },
         "mode": "lines",
         "type": "scatter",
         "x": [
          0,
          0.6153846153846154,
          0.6923076923076923,
          0.7692307692307693,
          0.8461538461538461,
          1
         ],
         "xaxis": "x",
         "y": [
          0.3670520231213873,
          0.3670520231213873,
          0.3670520231213873,
          0.3108108108108108,
          0.4117647058823529,
          0.4117647058823529
         ],
         "yaxis": "y"
        },
        {
         "hoverinfo": "none",
         "line": {
          "color": "rgba(139,192,221,0.5)",
          "width": 0.5
         },
         "mode": "lines",
         "type": "scatter",
         "x": [
          0,
          0.6153846153846154,
          0.6923076923076923,
          0.7692307692307693,
          0.8461538461538461,
          1
         ],
         "xaxis": "x",
         "y": [
          0.3670520231213873,
          0.3670520231213873,
          0.3670520231213873,
          0.7391304347826086,
          0.7391304347826086,
          0.7391304347826086
         ],
         "yaxis": "y"
        },
        {
         "hoverinfo": "none",
         "line": {
          "color": "rgba(117,179,216,0.5)",
          "width": 0.5
         },
         "mode": "lines",
         "type": "scatter",
         "x": [
          0,
          0.6153846153846154,
          0.6923076923076923,
          0.7692307692307693,
          0.8461538461538461,
          1
         ],
         "xaxis": "x",
         "y": [
          0.25,
          0.1111111111111111,
          0.1111111111111111,
          0.1111111111111111,
          0.1111111111111111,
          0.1111111111111111
         ],
         "yaxis": "y"
        },
        {
         "hoverinfo": "none",
         "line": {
          "color": "rgba(98,168,210,0.5)",
          "width": 0.5
         },
         "mode": "lines",
         "type": "scatter",
         "x": [
          0,
          0.6153846153846154,
          0.6923076923076923,
          0.7692307692307693,
          0.8461538461538461,
          1
         ],
         "xaxis": "x",
         "y": [
          0,
          0,
          0.07692307692307693,
          0.07692307692307693,
          0.07692307692307693,
          0.5
         ],
         "yaxis": "y"
        },
        {
         "hoverinfo": "none",
         "line": {
          "color": "rgba(80,155,203,0.5)",
          "width": 0.5
         },
         "mode": "lines",
         "type": "scatter",
         "x": [
          0,
          0.6153846153846154,
          0.6923076923076923,
          0.7692307692307693,
          0.8461538461538461,
          1
         ],
         "xaxis": "x",
         "y": [
          0.3670520231213873,
          0.3670520231213873,
          0.3670520231213873,
          0.59375,
          0.59375,
          0.59375
         ],
         "yaxis": "y"
        },
        {
         "hoverinfo": "none",
         "line": {
          "color": "rgba(64,144,197,0.5)",
          "width": 0.5
         },
         "mode": "lines",
         "type": "scatter",
         "x": [
          0,
          0.6153846153846154,
          0.6923076923076923,
          0.7692307692307693,
          0.8461538461538461,
          1
         ],
         "xaxis": "x",
         "y": [
          0.3670520231213873,
          0.3670520231213873,
          0.3670520231213873,
          0.7391304347826086,
          0.7391304347826086,
          0.7391304347826086
         ],
         "yaxis": "y"
        },
        {
         "hoverinfo": "none",
         "line": {
          "color": "rgba(49,129,189,0.5)",
          "width": 0.5
         },
         "mode": "lines",
         "type": "scatter",
         "x": [
          0,
          0.6153846153846154,
          0.6923076923076923,
          0.7692307692307693,
          0.8461538461538461,
          1
         ],
         "xaxis": "x",
         "y": [
          0.3670520231213873,
          0.3670520231213873,
          0.3670520231213873,
          0.3108108108108108,
          0.4117647058823529,
          0.4117647058823529
         ],
         "yaxis": "y"
        },
        {
         "hoverinfo": "none",
         "line": {
          "color": "rgba(36,116,182,0.5)",
          "width": 0.5
         },
         "mode": "lines",
         "type": "scatter",
         "x": [
          0,
          0.6153846153846154,
          0.6923076923076923,
          0.7692307692307693,
          0.8461538461538461,
          1
         ],
         "xaxis": "x",
         "y": [
          0.3670520231213873,
          0.3670520231213873,
          0.3670520231213873,
          0.3108108108108108,
          0.4117647058823529,
          0.4117647058823529
         ],
         "yaxis": "y"
        },
        {
         "hoverinfo": "none",
         "line": {
          "color": "rgba(193,217,237,0.5)",
          "width": 0.5
         },
         "mode": "lines",
         "type": "scatter",
         "x": [
          0,
          0.6153846153846154,
          0.6923076923076923,
          0.7692307692307693,
          0.8461538461538461,
          1
         ],
         "xaxis": "x",
         "y": [
          0.3670520231213873,
          0.3670520231213873,
          0.3670520231213873,
          0.7391304347826086,
          0.7391304347826086,
          0.7391304347826086
         ],
         "yaxis": "y"
        },
        {
         "hoverinfo": "none",
         "line": {
          "color": "rgba(177,210,231,0.5)",
          "width": 0.5
         },
         "mode": "lines",
         "type": "scatter",
         "x": [
          0,
          0.6153846153846154,
          0.6923076923076923,
          0.7692307692307693,
          0.8461538461538461,
          1
         ],
         "xaxis": "x",
         "y": [
          0,
          0,
          0,
          0.7391304347826086,
          0.7391304347826086,
          0.7391304347826086
         ],
         "yaxis": "y"
        },
        {
         "hoverinfo": "none",
         "line": {
          "color": "rgba(160,202,225,0.5)",
          "width": 0.5
         },
         "mode": "lines",
         "type": "scatter",
         "x": [
          0,
          0.6153846153846154,
          0.6923076923076923,
          0.7692307692307693,
          0.8461538461538461,
          1
         ],
         "xaxis": "x",
         "y": [
          0.3670520231213873,
          0.3670520231213873,
          0.3670520231213873,
          0.7391304347826086,
          0.7391304347826086,
          0.7391304347826086
         ],
         "yaxis": "y"
        },
        {
         "hoverinfo": "none",
         "line": {
          "color": "rgba(139,192,221,0.5)",
          "width": 0.5
         },
         "mode": "lines",
         "type": "scatter",
         "x": [
          0,
          0.6153846153846154,
          0.6923076923076923,
          0.7692307692307693,
          0.8461538461538461,
          1
         ],
         "xaxis": "x",
         "y": [
          0.3670520231213873,
          0.3670520231213873,
          0.3670520231213873,
          0.3108108108108108,
          0.4117647058823529,
          0.4117647058823529
         ],
         "yaxis": "y"
        },
        {
         "hoverinfo": "none",
         "line": {
          "color": "rgba(117,179,216,0.5)",
          "width": 0.5
         },
         "mode": "lines",
         "type": "scatter",
         "x": [
          0,
          0.6153846153846154,
          0.6923076923076923,
          0.7692307692307693,
          0.8461538461538461,
          1
         ],
         "xaxis": "x",
         "y": [
          0.25,
          0.013157894736842105,
          0.013157894736842105,
          0.013157894736842105,
          0.013157894736842105,
          0.013157894736842105
         ],
         "yaxis": "y"
        },
        {
         "hoverinfo": "none",
         "line": {
          "color": "rgba(98,168,210,0.5)",
          "width": 0.5
         },
         "mode": "lines",
         "type": "scatter",
         "x": [
          0,
          0.6153846153846154,
          0.6923076923076923,
          0.7692307692307693,
          0.8461538461538461,
          1
         ],
         "xaxis": "x",
         "y": [
          0.3670520231213873,
          0.3670520231213873,
          0.3670520231213873,
          0.7391304347826086,
          0.7391304347826086,
          0.7391304347826086
         ],
         "yaxis": "y"
        },
        {
         "hoverinfo": "none",
         "line": {
          "color": "rgba(80,155,203,0.5)",
          "width": 0.5
         },
         "mode": "lines",
         "type": "scatter",
         "x": [
          0,
          0.6153846153846154,
          0.6923076923076923,
          0.7692307692307693,
          0.8461538461538461,
          1
         ],
         "xaxis": "x",
         "y": [
          0.3670520231213873,
          0.3670520231213873,
          0.3670520231213873,
          0.3108108108108108,
          0.4117647058823529,
          0.4117647058823529
         ],
         "yaxis": "y"
        },
        {
         "hoverinfo": "none",
         "line": {
          "color": "rgba(64,144,197,0.5)",
          "width": 0.5
         },
         "mode": "lines",
         "type": "scatter",
         "x": [
          0,
          0.6153846153846154,
          0.6923076923076923,
          0.7692307692307693,
          0.8461538461538461,
          1
         ],
         "xaxis": "x",
         "y": [
          0.3670520231213873,
          0.3670520231213873,
          0.3670520231213873,
          0.3108108108108108,
          0.4117647058823529,
          0.4117647058823529
         ],
         "yaxis": "y"
        },
        {
         "hoverinfo": "none",
         "line": {
          "color": "rgba(49,129,189,0.5)",
          "width": 0.5
         },
         "mode": "lines",
         "type": "scatter",
         "x": [
          0,
          0.6153846153846154,
          0.6923076923076923,
          0.7692307692307693,
          0.8461538461538461,
          1
         ],
         "xaxis": "x",
         "y": [
          0.25,
          0.1111111111111111,
          0.1111111111111111,
          0.1111111111111111,
          0.1111111111111111,
          0.1111111111111111
         ],
         "yaxis": "y"
        },
        {
         "hoverinfo": "none",
         "line": {
          "color": "rgba(36,116,182,0.5)",
          "width": 0.5
         },
         "mode": "lines",
         "type": "scatter",
         "x": [
          0,
          0.6153846153846154,
          0.6923076923076923,
          0.7692307692307693,
          0.8461538461538461,
          1
         ],
         "xaxis": "x",
         "y": [
          0.1590909090909091,
          0.1590909090909091,
          0.1590909090909091,
          0.1590909090909091,
          0.1590909090909091,
          1
         ],
         "yaxis": "y"
        },
        {
         "hoverinfo": "none",
         "line": {
          "color": "rgba(193,217,237,0.5)",
          "width": 0.5
         },
         "mode": "lines",
         "type": "scatter",
         "x": [
          0,
          0.6153846153846154,
          0.6923076923076923,
          0.7692307692307693,
          0.8461538461538461,
          1
         ],
         "xaxis": "x",
         "y": [
          0.3670520231213873,
          0.3670520231213873,
          0.3670520231213873,
          0.7391304347826086,
          0.7391304347826086,
          0.7391304347826086
         ],
         "yaxis": "y"
        },
        {
         "hoverinfo": "none",
         "line": {
          "color": "rgba(177,210,231,0.5)",
          "width": 0.5
         },
         "mode": "lines",
         "type": "scatter",
         "x": [
          0,
          0.6153846153846154,
          0.6923076923076923,
          0.7692307692307693,
          0.8461538461538461,
          1
         ],
         "xaxis": "x",
         "y": [
          0.3670520231213873,
          0.3670520231213873,
          0.3670520231213873,
          0.59375,
          0.59375,
          0.59375
         ],
         "yaxis": "y"
        },
        {
         "hoverinfo": "none",
         "line": {
          "color": "rgba(160,202,225,0.5)",
          "width": 0.5
         },
         "mode": "lines",
         "type": "scatter",
         "x": [
          0,
          0.6153846153846154,
          0.6923076923076923,
          0.7692307692307693,
          0.8461538461538461,
          1
         ],
         "xaxis": "x",
         "y": [
          0.3670520231213873,
          0.3670520231213873,
          0.3670520231213873,
          0.3108108108108108,
          0.4117647058823529,
          0.4117647058823529
         ],
         "yaxis": "y"
        },
        {
         "hoverinfo": "none",
         "line": {
          "color": "rgba(139,192,221,0.5)",
          "width": 0.5
         },
         "mode": "lines",
         "type": "scatter",
         "x": [
          0,
          0.6153846153846154,
          0.6923076923076923,
          0.7692307692307693,
          0.8461538461538461,
          1
         ],
         "xaxis": "x",
         "y": [
          0.3670520231213873,
          0.3670520231213873,
          0.3670520231213873,
          0.7391304347826086,
          0.7391304347826086,
          0.7391304347826086
         ],
         "yaxis": "y"
        },
        {
         "hoverinfo": "none",
         "line": {
          "color": "rgba(117,179,216,0.5)",
          "width": 0.5
         },
         "mode": "lines",
         "type": "scatter",
         "x": [
          0,
          0.6153846153846154,
          0.6923076923076923,
          0.7692307692307693,
          0.8461538461538461,
          1
         ],
         "xaxis": "x",
         "y": [
          0.3670520231213873,
          0.3670520231213873,
          0.3670520231213873,
          0.7391304347826086,
          0.7391304347826086,
          0.7391304347826086
         ],
         "yaxis": "y"
        },
        {
         "hoverinfo": "none",
         "line": {
          "color": "rgba(98,168,210,0.5)",
          "width": 0.5
         },
         "mode": "lines",
         "type": "scatter",
         "x": [
          0,
          0.6153846153846154,
          0.6923076923076923,
          0.7692307692307693,
          0.8461538461538461,
          1
         ],
         "xaxis": "x",
         "y": [
          0.6666666666666666,
          0.6666666666666666,
          0.6666666666666666,
          0.3108108108108108,
          0.4117647058823529,
          0.4117647058823529
         ],
         "yaxis": "y"
        },
        {
         "hoverinfo": "none",
         "line": {
          "color": "rgba(80,155,203,0.5)",
          "width": 0.5
         },
         "mode": "lines",
         "type": "scatter",
         "x": [
          0,
          0.6153846153846154,
          0.6923076923076923,
          0.7692307692307693,
          0.8461538461538461,
          1
         ],
         "xaxis": "x",
         "y": [
          0.25,
          0.013157894736842105,
          0.013157894736842105,
          0.013157894736842105,
          0.013157894736842105,
          0.013157894736842105
         ],
         "yaxis": "y"
        },
        {
         "hoverinfo": "none",
         "line": {
          "color": "rgba(64,144,197,0.5)",
          "width": 0.5
         },
         "mode": "lines",
         "type": "scatter",
         "x": [
          0,
          0.6153846153846154,
          0.6923076923076923,
          0.7692307692307693,
          0.8461538461538461,
          1
         ],
         "xaxis": "x",
         "y": [
          0.3670520231213873,
          0.3670520231213873,
          0.3670520231213873,
          0.59375,
          0.59375,
          0.59375
         ],
         "yaxis": "y"
        },
        {
         "hoverinfo": "none",
         "line": {
          "color": "rgba(49,129,189,0.5)",
          "width": 0.5
         },
         "mode": "lines",
         "type": "scatter",
         "x": [
          0,
          0.6153846153846154,
          0.6923076923076923,
          0.7692307692307693,
          0.8461538461538461,
          1
         ],
         "xaxis": "x",
         "y": [
          0.25,
          0.013157894736842105,
          0.013157894736842105,
          0.013157894736842105,
          0.013157894736842105,
          0.013157894736842105
         ],
         "yaxis": "y"
        },
        {
         "hoverinfo": "none",
         "line": {
          "color": "rgba(36,116,182,0.5)",
          "width": 0.5
         },
         "mode": "lines",
         "type": "scatter",
         "x": [
          0,
          0.6153846153846154,
          0.6923076923076923,
          0.7692307692307693,
          0.8461538461538461,
          1
         ],
         "xaxis": "x",
         "y": [
          0.3670520231213873,
          0.3670520231213873,
          0.3670520231213873,
          0.7391304347826086,
          0.7391304347826086,
          0.7391304347826086
         ],
         "yaxis": "y"
        },
        {
         "hoverinfo": "none",
         "line": {
          "color": "rgba(193,217,237,0.5)",
          "width": 0.5
         },
         "mode": "lines",
         "type": "scatter",
         "x": [
          0,
          0.6153846153846154,
          0.6923076923076923,
          0.7692307692307693,
          0.8461538461538461,
          1
         ],
         "xaxis": "x",
         "y": [
          0.5,
          0.5,
          0.5,
          0.7391304347826086,
          0.7391304347826086,
          0.7391304347826086
         ],
         "yaxis": "y"
        },
        {
         "hoverinfo": "none",
         "line": {
          "color": "rgba(177,210,231,0.5)",
          "width": 0.5
         },
         "mode": "lines",
         "type": "scatter",
         "x": [
          0,
          0.6153846153846154,
          0.6923076923076923,
          0.7692307692307693,
          0.8461538461538461,
          1
         ],
         "xaxis": "x",
         "y": [
          0.3670520231213873,
          0.3670520231213873,
          0.3670520231213873,
          0.59375,
          0.59375,
          0.59375
         ],
         "yaxis": "y"
        },
        {
         "hoverinfo": "none",
         "line": {
          "color": "rgba(160,202,225,0.5)",
          "width": 0.5
         },
         "mode": "lines",
         "type": "scatter",
         "x": [
          0,
          0.6153846153846154,
          0.6923076923076923,
          0.7692307692307693,
          0.8461538461538461,
          1
         ],
         "xaxis": "x",
         "y": [
          0.08333333333333333,
          0.08333333333333333,
          0.08333333333333333,
          0,
          0,
          0
         ],
         "yaxis": "y"
        },
        {
         "hoverinfo": "none",
         "line": {
          "color": "rgba(139,192,221,0.5)",
          "width": 0.5
         },
         "mode": "lines",
         "type": "scatter",
         "x": [
          0,
          0.6153846153846154,
          0.6923076923076923,
          0.7692307692307693,
          0.8461538461538461,
          1
         ],
         "xaxis": "x",
         "y": [
          0.3670520231213873,
          0.3670520231213873,
          0.3670520231213873,
          0.3108108108108108,
          0.4117647058823529,
          0.4117647058823529
         ],
         "yaxis": "y"
        },
        {
         "hoverinfo": "none",
         "line": {
          "color": "rgba(117,179,216,0.5)",
          "width": 0.5
         },
         "mode": "lines",
         "type": "scatter",
         "x": [
          0,
          0.6153846153846154,
          0.6923076923076923,
          0.7692307692307693,
          0.8461538461538461,
          1
         ],
         "xaxis": "x",
         "y": [
          0.5,
          0.5,
          0.5,
          0.7391304347826086,
          0.7391304347826086,
          0.7391304347826086
         ],
         "yaxis": "y"
        },
        {
         "hoverinfo": "none",
         "line": {
          "color": "rgba(98,168,210,0.5)",
          "width": 0.5
         },
         "mode": "lines",
         "type": "scatter",
         "x": [
          0,
          0.6153846153846154,
          0.6923076923076923,
          0.7692307692307693,
          0.8461538461538461,
          1
         ],
         "xaxis": "x",
         "y": [
          0.3670520231213873,
          0.3670520231213873,
          0.3670520231213873,
          0.7391304347826086,
          0.7391304347826086,
          0.7391304347826086
         ],
         "yaxis": "y"
        },
        {
         "hoverinfo": "none",
         "line": {
          "color": "rgba(80,155,203,0.5)",
          "width": 0.5
         },
         "mode": "lines",
         "type": "scatter",
         "x": [
          0,
          0.6153846153846154,
          0.6923076923076923,
          0.7692307692307693,
          0.8461538461538461,
          1
         ],
         "xaxis": "x",
         "y": [
          0.25,
          0.1111111111111111,
          0.1111111111111111,
          0.1111111111111111,
          0.1111111111111111,
          0.1111111111111111
         ],
         "yaxis": "y"
        },
        {
         "hoverinfo": "none",
         "line": {
          "color": "rgba(64,144,197,0.5)",
          "width": 0.5
         },
         "mode": "lines",
         "type": "scatter",
         "x": [
          0,
          0.6153846153846154,
          0.6923076923076923,
          0.7692307692307693,
          0.8461538461538461,
          1
         ],
         "xaxis": "x",
         "y": [
          0.3670520231213873,
          0.3670520231213873,
          0.3670520231213873,
          0.3108108108108108,
          0.4117647058823529,
          0.4117647058823529
         ],
         "yaxis": "y"
        },
        {
         "hoverinfo": "none",
         "line": {
          "color": "rgba(49,129,189,0.5)",
          "width": 0.5
         },
         "mode": "lines",
         "type": "scatter",
         "x": [
          0,
          0.6153846153846154,
          0.6923076923076923,
          0.7692307692307693,
          0.8461538461538461,
          1
         ],
         "xaxis": "x",
         "y": [
          0.3670520231213873,
          0.3670520231213873,
          0.3670520231213873,
          0.3108108108108108,
          0.4117647058823529,
          0.4117647058823529
         ],
         "yaxis": "y"
        },
        {
         "hoverinfo": "none",
         "line": {
          "color": "rgba(36,116,182,0.5)",
          "width": 0.5
         },
         "mode": "lines",
         "type": "scatter",
         "x": [
          0,
          0.6153846153846154,
          0.6923076923076923,
          0.7692307692307693,
          0.8461538461538461,
          1
         ],
         "xaxis": "x",
         "y": [
          0.3670520231213873,
          0.3670520231213873,
          0.3670520231213873,
          0.7391304347826086,
          0.7391304347826086,
          0.7391304347826086
         ],
         "yaxis": "y"
        },
        {
         "hoverinfo": "none",
         "line": {
          "color": "rgba(193,217,237,0.5)",
          "width": 0.5
         },
         "mode": "lines",
         "type": "scatter",
         "x": [
          0,
          0.6153846153846154,
          0.6923076923076923,
          0.7692307692307693,
          0.8461538461538461,
          1
         ],
         "xaxis": "x",
         "y": [
          0.3670520231213873,
          0.3670520231213873,
          0.3670520231213873,
          0.3108108108108108,
          0.4117647058823529,
          0.4117647058823529
         ],
         "yaxis": "y"
        },
        {
         "hoverinfo": "none",
         "line": {
          "color": "rgba(177,210,231,0.5)",
          "width": 0.5
         },
         "mode": "lines",
         "type": "scatter",
         "x": [
          0,
          0.6153846153846154,
          0.6923076923076923,
          0.7692307692307693,
          0.8461538461538461,
          1
         ],
         "xaxis": "x",
         "y": [
          0.08333333333333333,
          0.08333333333333333,
          0.08333333333333333,
          0,
          0,
          0
         ],
         "yaxis": "y"
        },
        {
         "hoverinfo": "none",
         "line": {
          "color": "rgba(160,202,225,0.5)",
          "width": 0.5
         },
         "mode": "lines",
         "type": "scatter",
         "x": [
          0,
          0.6153846153846154,
          0.6923076923076923,
          0.7692307692307693,
          0.8461538461538461,
          1
         ],
         "xaxis": "x",
         "y": [
          0.25,
          0.013157894736842105,
          0.013157894736842105,
          0.013157894736842105,
          0.013157894736842105,
          0.013157894736842105
         ],
         "yaxis": "y"
        },
        {
         "hoverinfo": "none",
         "line": {
          "color": "rgba(139,192,221,0.5)",
          "width": 0.5
         },
         "mode": "lines",
         "type": "scatter",
         "x": [
          0,
          0.6153846153846154,
          0.6923076923076923,
          0.7692307692307693,
          0.8461538461538461,
          1
         ],
         "xaxis": "x",
         "y": [
          0.1590909090909091,
          0.1590909090909091,
          0.1590909090909091,
          0.1590909090909091,
          0.1590909090909091,
          0
         ],
         "yaxis": "y"
        },
        {
         "hoverinfo": "none",
         "line": {
          "color": "rgba(117,179,216,0.5)",
          "width": 0.5
         },
         "mode": "lines",
         "type": "scatter",
         "x": [
          0,
          0.6153846153846154,
          0.6923076923076923,
          0.7692307692307693,
          0.8461538461538461,
          1
         ],
         "xaxis": "x",
         "y": [
          0.3670520231213873,
          0.3670520231213873,
          0.3670520231213873,
          0.7391304347826086,
          0.7391304347826086,
          0.7391304347826086
         ],
         "yaxis": "y"
        },
        {
         "hoverinfo": "none",
         "line": {
          "color": "rgba(98,168,210,0.5)",
          "width": 0.5
         },
         "mode": "lines",
         "type": "scatter",
         "x": [
          0,
          0.6153846153846154,
          0.6923076923076923,
          0.7692307692307693,
          0.8461538461538461,
          1
         ],
         "xaxis": "x",
         "y": [
          0.3670520231213873,
          0.3670520231213873,
          0.3670520231213873,
          0.7391304347826086,
          0.7391304347826086,
          0.7391304347826086
         ],
         "yaxis": "y"
        },
        {
         "hoverinfo": "none",
         "line": {
          "color": "rgba(80,155,203,0.5)",
          "width": 0.5
         },
         "mode": "lines",
         "type": "scatter",
         "x": [
          0,
          0.6153846153846154,
          0.6923076923076923,
          0.7692307692307693,
          0.8461538461538461,
          1
         ],
         "xaxis": "x",
         "y": [
          0.3670520231213873,
          0.3670520231213873,
          0.3670520231213873,
          0.59375,
          0.59375,
          0.59375
         ],
         "yaxis": "y"
        },
        {
         "hoverinfo": "none",
         "line": {
          "color": "rgba(64,144,197,0.5)",
          "width": 0.5
         },
         "mode": "lines",
         "type": "scatter",
         "x": [
          0,
          0.6153846153846154,
          0.6923076923076923,
          0.7692307692307693,
          0.8461538461538461,
          1
         ],
         "xaxis": "x",
         "y": [
          0.3670520231213873,
          0.3670520231213873,
          0.3670520231213873,
          0.3108108108108108,
          0.4117647058823529,
          0.4117647058823529
         ],
         "yaxis": "y"
        },
        {
         "hoverinfo": "none",
         "line": {
          "color": "rgba(49,129,189,0.5)",
          "width": 0.5
         },
         "mode": "lines",
         "type": "scatter",
         "x": [
          0,
          0.6153846153846154,
          0.6923076923076923,
          0.7692307692307693,
          0.8461538461538461,
          1
         ],
         "xaxis": "x",
         "y": [
          0.25,
          0.013157894736842105,
          0.013157894736842105,
          0.013157894736842105,
          0.013157894736842105,
          0.013157894736842105
         ],
         "yaxis": "y"
        },
        {
         "hoverinfo": "none",
         "line": {
          "color": "rgba(36,116,182,0.5)",
          "width": 0.5
         },
         "mode": "lines",
         "type": "scatter",
         "x": [
          0,
          0.6153846153846154,
          0.6923076923076923,
          0.7692307692307693,
          0.8461538461538461,
          1
         ],
         "xaxis": "x",
         "y": [
          0.1590909090909091,
          0.1590909090909091,
          0.1590909090909091,
          0.1590909090909091,
          0.1590909090909091,
          0
         ],
         "yaxis": "y"
        },
        {
         "hoverinfo": "none",
         "line": {
          "color": "rgba(193,217,237,0.5)",
          "width": 0.5
         },
         "mode": "lines",
         "type": "scatter",
         "x": [
          0,
          0.6153846153846154,
          0.6923076923076923,
          0.7692307692307693,
          0.8461538461538461,
          1
         ],
         "xaxis": "x",
         "y": [
          0.3670520231213873,
          0.3670520231213873,
          0.3670520231213873,
          0.7391304347826086,
          0.7391304347826086,
          0.7391304347826086
         ],
         "yaxis": "y"
        },
        {
         "hoverinfo": "none",
         "line": {
          "color": "rgba(177,210,231,0.5)",
          "width": 0.5
         },
         "mode": "lines",
         "type": "scatter",
         "x": [
          0,
          0.6153846153846154,
          0.6923076923076923,
          0.7692307692307693,
          0.8461538461538461,
          1
         ],
         "xaxis": "x",
         "y": [
          0.3670520231213873,
          0.3670520231213873,
          0.3670520231213873,
          0.7391304347826086,
          0.7391304347826086,
          0.7391304347826086
         ],
         "yaxis": "y"
        },
        {
         "hoverinfo": "none",
         "line": {
          "color": "rgba(160,202,225,0.5)",
          "width": 0.5
         },
         "mode": "lines",
         "type": "scatter",
         "x": [
          0,
          0.6153846153846154,
          0.6923076923076923,
          0.7692307692307693,
          0.8461538461538461,
          1
         ],
         "xaxis": "x",
         "y": [
          0.3670520231213873,
          0.3670520231213873,
          0.3670520231213873,
          0.59375,
          0.59375,
          0.59375
         ],
         "yaxis": "y"
        },
        {
         "hoverinfo": "none",
         "line": {
          "color": "rgba(139,192,221,0.5)",
          "width": 0.5
         },
         "mode": "lines",
         "type": "scatter",
         "x": [
          0,
          0.6153846153846154,
          0.6923076923076923,
          0.7692307692307693,
          0.8461538461538461,
          1
         ],
         "xaxis": "x",
         "y": [
          0.5454545454545454,
          0.5454545454545454,
          0.5454545454545454,
          0,
          0,
          0
         ],
         "yaxis": "y"
        },
        {
         "hoverinfo": "none",
         "line": {
          "color": "rgba(117,179,216,0.5)",
          "width": 0.5
         },
         "mode": "lines",
         "type": "scatter",
         "x": [
          0,
          0.6153846153846154,
          0.6923076923076923,
          0.7692307692307693,
          0.8461538461538461,
          1
         ],
         "xaxis": "x",
         "y": [
          0.3670520231213873,
          0.3670520231213873,
          0.3670520231213873,
          0.7391304347826086,
          0.7391304347826086,
          0.7391304347826086
         ],
         "yaxis": "y"
        },
        {
         "hoverinfo": "none",
         "line": {
          "color": "rgba(98,168,210,0.5)",
          "width": 0.5
         },
         "mode": "lines",
         "type": "scatter",
         "x": [
          0,
          0.6153846153846154,
          0.6923076923076923,
          0.7692307692307693,
          0.8461538461538461,
          1
         ],
         "xaxis": "x",
         "y": [
          0.25,
          0.013157894736842105,
          0.013157894736842105,
          0.013157894736842105,
          0.013157894736842105,
          0.013157894736842105
         ],
         "yaxis": "y"
        },
        {
         "hoverinfo": "none",
         "line": {
          "color": "rgba(80,155,203,0.5)",
          "width": 0.5
         },
         "mode": "lines",
         "type": "scatter",
         "x": [
          0,
          0.6153846153846154,
          0.6923076923076923,
          0.7692307692307693,
          0.8461538461538461,
          1
         ],
         "xaxis": "x",
         "y": [
          0,
          0,
          0.07692307692307693,
          0.07692307692307693,
          0.07692307692307693,
          0.5
         ],
         "yaxis": "y"
        },
        {
         "hoverinfo": "none",
         "line": {
          "color": "rgba(64,144,197,0.5)",
          "width": 0.5
         },
         "mode": "lines",
         "type": "scatter",
         "x": [
          0,
          0.6153846153846154,
          0.6923076923076923,
          0.7692307692307693,
          0.8461538461538461,
          1
         ],
         "xaxis": "x",
         "y": [
          0.3670520231213873,
          0.3670520231213873,
          0.3670520231213873,
          0.3108108108108108,
          0.4117647058823529,
          0.4117647058823529
         ],
         "yaxis": "y"
        },
        {
         "hoverinfo": "none",
         "line": {
          "color": "rgba(49,129,189,0.5)",
          "width": 0.5
         },
         "mode": "lines",
         "type": "scatter",
         "x": [
          0,
          0.6153846153846154,
          0.6923076923076923,
          0.7692307692307693,
          0.8461538461538461,
          1
         ],
         "xaxis": "x",
         "y": [
          0.3670520231213873,
          0.3670520231213873,
          0.3670520231213873,
          0.3108108108108108,
          0.4117647058823529,
          0.4117647058823529
         ],
         "yaxis": "y"
        },
        {
         "hoverinfo": "none",
         "line": {
          "color": "rgba(36,116,182,0.5)",
          "width": 0.5
         },
         "mode": "lines",
         "type": "scatter",
         "x": [
          0,
          0.6153846153846154,
          0.6923076923076923,
          0.7692307692307693,
          0.8461538461538461,
          1
         ],
         "xaxis": "x",
         "y": [
          0.3670520231213873,
          0.3670520231213873,
          0.3670520231213873,
          0.7391304347826086,
          0.7391304347826086,
          0.7391304347826086
         ],
         "yaxis": "y"
        },
        {
         "hoverinfo": "none",
         "line": {
          "color": "#FEDC00",
          "width": 4.5
         },
         "mode": "lines",
         "type": "scatter",
         "x": [
          0,
          0.6153846153846154,
          0.6923076923076923,
          0.7692307692307693,
          0.8461538461538461,
          1
         ],
         "xaxis": "x",
         "y": [
          0.3436109090010824,
          0.3122484483623059,
          0.31422083495007713,
          0.428326954318197,
          0.4555068491451507,
          0.47728154880446577
         ],
         "yaxis": "y"
        },
        {
         "hoverinfo": "none",
         "line": {
          "color": "#E75438",
          "dash": "dash",
          "width": 1.5
         },
         "mode": "lines",
         "type": "scatter",
         "x": [
          0,
          0.6153846153846154,
          0.6923076923076923,
          0.7692307692307693,
          0.8461538461538461,
          1
         ],
         "xaxis": "x",
         "y": [
          0,
          0,
          0,
          0,
          0,
          0
         ],
         "yaxis": "y"
        },
        {
         "hovertemplate": "%{y}",
         "line": {
          "color": "rgba(8,48,107,1.0)",
          "width": 1.5
         },
         "marker": {
          "color": "rgba(8,48,107,1.0)",
          "size": 5
         },
         "mode": "lines+markers",
         "name": "pdp",
         "type": "scatter",
         "x": [
          0,
          0.6153846153846154,
          0.6923076923076923,
          0.7692307692307693,
          0.8461538461538461,
          1
         ],
         "xaxis": "x",
         "y": [
          0.3436109090010824,
          0.3122484483623059,
          0.31422083495007713,
          0.428326954318197,
          0.4555068491451507,
          0.47728154880446577
         ],
         "yaxis": "y"
        },
        {
         "hoverinfo": "none",
         "mode": "text",
         "name": "dist",
         "showlegend": false,
         "text": [
          "|",
          "|",
          "|",
          "|",
          "|",
          "|",
          "|",
          "|",
          "|",
          "|",
          "|",
          "|",
          "|",
          "|",
          "|",
          "|",
          "|",
          "|",
          "|",
          "|",
          "|",
          "|",
          "|",
          "|",
          "|",
          "|",
          "|",
          "|",
          "|",
          "|",
          "|",
          "|",
          "|",
          "|",
          "|",
          "|",
          "|",
          "|",
          "|",
          "|",
          "|",
          "|",
          "|",
          "|",
          "|",
          "|",
          "|",
          "|",
          "|",
          "|",
          "|",
          "|",
          "|",
          "|",
          "|",
          "|",
          "|",
          "|",
          "|",
          "|",
          "|",
          "|",
          "|",
          "|",
          "|",
          "|",
          "|",
          "|",
          "|",
          "|",
          "|",
          "|",
          "|",
          "|",
          "|",
          "|",
          "|",
          "|",
          "|",
          "|",
          "|",
          "|",
          "|",
          "|",
          "|",
          "|",
          "|",
          "|",
          "|",
          "|",
          "|",
          "|",
          "|",
          "|",
          "|",
          "|",
          "|",
          "|",
          "|",
          "|",
          "|",
          "|",
          "|",
          "|",
          "|",
          "|",
          "|",
          "|",
          "|",
          "|",
          "|",
          "|",
          "|",
          "|",
          "|",
          "|",
          "|",
          "|",
          "|",
          "|",
          "|",
          "|",
          "|",
          "|",
          "|",
          "|",
          "|",
          "|",
          "|",
          "|",
          "|",
          "|",
          "|",
          "|",
          "|",
          "|",
          "|",
          "|",
          "|",
          "|",
          "|",
          "|",
          "|",
          "|",
          "|",
          "|",
          "|",
          "|",
          "|",
          "|",
          "|",
          "|",
          "|",
          "|",
          "|",
          "|",
          "|",
          "|",
          "|",
          "|",
          "|",
          "|",
          "|",
          "|",
          "|",
          "|",
          "|",
          "|",
          "|",
          "|",
          "|",
          "|",
          "|",
          "|",
          "|",
          "|",
          "|",
          "|",
          "|",
          "|",
          "|",
          "|",
          "|",
          "|",
          "|",
          "|",
          "|",
          "|",
          "|",
          "|",
          "|",
          "|",
          "|",
          "|",
          "|",
          "|",
          "|",
          "|",
          "|",
          "|",
          "|",
          "|",
          "|",
          "|",
          "|",
          "|",
          "|",
          "|",
          "|",
          "|",
          "|",
          "|",
          "|",
          "|",
          "|",
          "|",
          "|",
          "|",
          "|",
          "|",
          "|",
          "|",
          "|",
          "|",
          "|",
          "|",
          "|",
          "|",
          "|",
          "|",
          "|",
          "|",
          "|",
          "|",
          "|",
          "|",
          "|",
          "|",
          "|",
          "|",
          "|",
          "|",
          "|",
          "|",
          "|",
          "|",
          "|",
          "|",
          "|",
          "|",
          "|",
          "|",
          "|",
          "|",
          "|",
          "|",
          "|",
          "|",
          "|",
          "|",
          "|",
          "|",
          "|",
          "|",
          "|",
          "|",
          "|",
          "|",
          "|",
          "|",
          "|",
          "|",
          "|",
          "|",
          "|",
          "|",
          "|",
          "|",
          "|",
          "|",
          "|",
          "|",
          "|",
          "|",
          "|",
          "|",
          "|",
          "|",
          "|",
          "|",
          "|",
          "|",
          "|",
          "|",
          "|",
          "|",
          "|",
          "|",
          "|",
          "|",
          "|",
          "|",
          "|",
          "|",
          "|",
          "|",
          "|",
          "|",
          "|",
          "|",
          "|",
          "|"
         ],
         "textfont": {
          "color": "rgba(8,48,107,1.0)",
          "size": 20
         },
         "textposition": "middle center",
         "type": "scatter",
         "x": [
          0.6923076923076923,
          0.6923076923076923,
          0.9230769230769231,
          0.6923076923076923,
          0.6153846153846154,
          0.6923076923076923,
          0.7692307692307693,
          0.8461538461538461,
          0.6153846153846154,
          0.6923076923076923,
          0.6923076923076923,
          0.7692307692307693,
          0.6923076923076923,
          0.46153846153846156,
          0.6923076923076923,
          0.6923076923076923,
          0.6923076923076923,
          0.9230769230769231,
          0.7692307692307693,
          0.6923076923076923,
          0.7692307692307693,
          0.46153846153846156,
          0.7692307692307693,
          0.7692307692307693,
          0.8461538461538461,
          0.8461538461538461,
          0.6923076923076923,
          0.6923076923076923,
          0.6923076923076923,
          0.6923076923076923,
          0.7692307692307693,
          0.5384615384615384,
          0.6923076923076923,
          0.6923076923076923,
          0.9230769230769231,
          0.6923076923076923,
          0.6153846153846154,
          0.7692307692307693,
          0.6153846153846154,
          0.7692307692307693,
          0.7692307692307693,
          0.7692307692307693,
          0.7692307692307693,
          0.6153846153846154,
          0.6153846153846154,
          0.7692307692307693,
          0.6153846153846154,
          0.8461538461538461,
          0.6923076923076923,
          0.9230769230769231,
          0.8461538461538461,
          0.7692307692307693,
          0.7692307692307693,
          0.6153846153846154,
          0.5384615384615384,
          0.8461538461538461,
          0.6923076923076923,
          0.7692307692307693,
          0.5384615384615384,
          0.6153846153846154,
          0.6153846153846154,
          0.6923076923076923,
          0.6153846153846154,
          0.7692307692307693,
          0.6923076923076923,
          0.6153846153846154,
          0.7692307692307693,
          0.46153846153846156,
          0.8461538461538461,
          0.6153846153846154,
          0.8461538461538461,
          0.8461538461538461,
          0.6153846153846154,
          0.6153846153846154,
          0.6923076923076923,
          0.7692307692307693,
          0.6153846153846154,
          0.6923076923076923,
          0.6923076923076923,
          0.6153846153846154,
          0.7692307692307693,
          0.6923076923076923,
          0.6923076923076923,
          0.9230769230769231,
          0.6923076923076923,
          0.6153846153846154,
          0.6153846153846154,
          0.8461538461538461,
          0.7692307692307693,
          0.9230769230769231,
          0.7692307692307693,
          0.15384615384615385,
          0.7692307692307693,
          0.7692307692307693,
          1,
          0.7692307692307693,
          0.5384615384615384,
          0.6923076923076923,
          0.7692307692307693,
          0.5384615384615384,
          0.7692307692307693,
          0.6153846153846154,
          0.8461538461538461,
          0.6923076923076923,
          0.9230769230769231,
          0.7692307692307693,
          0.8461538461538461,
          0.6923076923076923,
          0.7692307692307693,
          0.6153846153846154,
          0.7692307692307693,
          0.8461538461538461,
          0.6153846153846154,
          0.5384615384615384,
          0.8461538461538461,
          0.5384615384615384,
          0.6923076923076923,
          0.7692307692307693,
          0.7692307692307693,
          0.7692307692307693,
          0.6923076923076923,
          0.7692307692307693,
          0.5384615384615384,
          0.9230769230769231,
          0.7692307692307693,
          0.6923076923076923,
          0.8461538461538461,
          0.8461538461538461,
          0.7692307692307693,
          0.8461538461538461,
          0.9230769230769231,
          0.7692307692307693,
          0.7692307692307693,
          0.6153846153846154,
          0.5384615384615384,
          0.8461538461538461,
          0.6923076923076923,
          0.6923076923076923,
          0.7692307692307693,
          0.6153846153846154,
          0.46153846153846156,
          0.5384615384615384,
          0.6923076923076923,
          0.8461538461538461,
          0.7692307692307693,
          0.46153846153846156,
          0.6923076923076923,
          0.6923076923076923,
          0.6153846153846154,
          0.7692307692307693,
          0.7692307692307693,
          0.6923076923076923,
          0.23076923076923078,
          0.6923076923076923,
          0.7692307692307693,
          0.6923076923076923,
          0.7692307692307693,
          0.7692307692307693,
          0.6153846153846154,
          0.8461538461538461,
          0.6923076923076923,
          0.6923076923076923,
          0.6153846153846154,
          0.6923076923076923,
          0.6153846153846154,
          0.6923076923076923,
          0.6923076923076923,
          0.6923076923076923,
          0.8461538461538461,
          0.7692307692307693,
          0.6153846153846154,
          0.7692307692307693,
          0.8461538461538461,
          0.5384615384615384,
          0.7692307692307693,
          0.7692307692307693,
          0.6153846153846154,
          0.6923076923076923,
          0.46153846153846156,
          0.46153846153846156,
          0.6923076923076923,
          0.8461538461538461,
          0.9230769230769231,
          0.6153846153846154,
          0.6153846153846154,
          0.6923076923076923,
          0.6153846153846154,
          0.8461538461538461,
          0.6923076923076923,
          0.9230769230769231,
          0.6153846153846154,
          0.46153846153846156,
          0.9230769230769231,
          0.7692307692307693,
          0.7692307692307693,
          0.7692307692307693,
          0.7692307692307693,
          0.5384615384615384,
          0.8461538461538461,
          0.6153846153846154,
          0.7692307692307693,
          0.8461538461538461,
          0.8461538461538461,
          0.7692307692307693,
          0.7692307692307693,
          0.9230769230769231,
          0.7692307692307693,
          0.6923076923076923,
          0.6923076923076923,
          0.6923076923076923,
          0.8461538461538461,
          0.6923076923076923,
          0.6923076923076923,
          0.6923076923076923,
          0.6923076923076923,
          0.6153846153846154,
          0.7692307692307693,
          0.7692307692307693,
          0.46153846153846156,
          0.46153846153846156,
          0.7692307692307693,
          0.6153846153846154,
          0.6153846153846154,
          0.7692307692307693,
          0.38461538461538464,
          0.6923076923076923,
          0.7692307692307693,
          0.7692307692307693,
          0.6153846153846154,
          0.7692307692307693,
          0.8461538461538461,
          0.6153846153846154,
          0.7692307692307693,
          0.7692307692307693,
          0.6923076923076923,
          0.8461538461538461,
          0.7692307692307693,
          0.6923076923076923,
          0.8461538461538461,
          0.6153846153846154,
          0.7692307692307693,
          0.8461538461538461,
          0.7692307692307693,
          0.9230769230769231,
          0.6153846153846154,
          0.8461538461538461,
          0.6153846153846154,
          0.6923076923076923,
          0.6153846153846154,
          0.23076923076923078,
          0.7692307692307693,
          0.9230769230769231,
          0.7692307692307693,
          0.7692307692307693,
          0.7692307692307693,
          0.6923076923076923,
          0.6923076923076923,
          0.8461538461538461,
          0.5384615384615384,
          0.6923076923076923,
          0.7692307692307693,
          0.7692307692307693,
          0.7692307692307693,
          0.9230769230769231,
          0.6923076923076923,
          0.7692307692307693,
          0.8461538461538461,
          0.7692307692307693,
          0.7692307692307693,
          0.7692307692307693,
          0.6923076923076923,
          0.8461538461538461,
          0.7692307692307693,
          0.6923076923076923,
          0.6923076923076923,
          0.8461538461538461,
          0.6923076923076923,
          0.8461538461538461,
          0.7692307692307693,
          0.7692307692307693,
          0.7692307692307693,
          0.5384615384615384,
          0.6923076923076923,
          0.9230769230769231,
          0.7692307692307693,
          0.8461538461538461,
          0.6153846153846154,
          0.6153846153846154,
          0.6153846153846154,
          0.6923076923076923,
          0,
          0.8461538461538461,
          0.6923076923076923,
          0.6923076923076923,
          0.7692307692307693,
          0.6923076923076923,
          0.7692307692307693,
          0.5384615384615384,
          0.6153846153846154,
          0.6923076923076923,
          0.6923076923076923,
          0.6153846153846154,
          0.6153846153846154,
          0.7692307692307693,
          0.8461538461538461,
          0.7692307692307693,
          0.7692307692307693,
          0.5384615384615384,
          0.7692307692307693,
          0.7692307692307693,
          0.9230769230769231,
          0.6923076923076923
         ],
         "xaxis": "x2",
         "y": [
          1,
          1,
          1,
          1,
          1,
          1,
          1,
          1,
          1,
          1,
          1,
          1,
          1,
          1,
          1,
          1,
          1,
          1,
          1,
          1,
          1,
          1,
          1,
          1,
          1,
          1,
          1,
          1,
          1,
          1,
          1,
          1,
          1,
          1,
          1,
          1,
          1,
          1,
          1,
          1,
          1,
          1,
          1,
          1,
          1,
          1,
          1,
          1,
          1,
          1,
          1,
          1,
          1,
          1,
          1,
          1,
          1,
          1,
          1,
          1,
          1,
          1,
          1,
          1,
          1,
          1,
          1,
          1,
          1,
          1,
          1,
          1,
          1,
          1,
          1,
          1,
          1,
          1,
          1,
          1,
          1,
          1,
          1,
          1,
          1,
          1,
          1,
          1,
          1,
          1,
          1,
          1,
          1,
          1,
          1,
          1,
          1,
          1,
          1,
          1,
          1,
          1,
          1,
          1,
          1,
          1,
          1,
          1,
          1,
          1,
          1,
          1,
          1,
          1,
          1,
          1,
          1,
          1,
          1,
          1,
          1,
          1,
          1,
          1,
          1,
          1,
          1,
          1,
          1,
          1,
          1,
          1,
          1,
          1,
          1,
          1,
          1,
          1,
          1,
          1,
          1,
          1,
          1,
          1,
          1,
          1,
          1,
          1,
          1,
          1,
          1,
          1,
          1,
          1,
          1,
          1,
          1,
          1,
          1,
          1,
          1,
          1,
          1,
          1,
          1,
          1,
          1,
          1,
          1,
          1,
          1,
          1,
          1,
          1,
          1,
          1,
          1,
          1,
          1,
          1,
          1,
          1,
          1,
          1,
          1,
          1,
          1,
          1,
          1,
          1,
          1,
          1,
          1,
          1,
          1,
          1,
          1,
          1,
          1,
          1,
          1,
          1,
          1,
          1,
          1,
          1,
          1,
          1,
          1,
          1,
          1,
          1,
          1,
          1,
          1,
          1,
          1,
          1,
          1,
          1,
          1,
          1,
          1,
          1,
          1,
          1,
          1,
          1,
          1,
          1,
          1,
          1,
          1,
          1,
          1,
          1,
          1,
          1,
          1,
          1,
          1,
          1,
          1,
          1,
          1,
          1,
          1,
          1,
          1,
          1,
          1,
          1,
          1,
          1,
          1,
          1,
          1,
          1,
          1,
          1,
          1,
          1,
          1,
          1,
          1,
          1,
          1,
          1,
          1,
          1,
          1,
          1,
          1,
          1,
          1,
          1,
          1,
          1,
          1,
          1,
          1,
          1,
          1,
          1,
          1,
          1,
          1,
          1,
          1,
          1,
          1,
          1,
          1,
          1,
          1,
          1,
          1,
          1,
          1,
          1,
          1,
          1,
          1,
          1,
          1,
          1,
          1,
          1,
          1,
          1,
          1,
          1
         ],
         "yaxis": "y2"
        }
       ],
       "layout": {
        "height": 600,
        "showlegend": false,
        "template": {
         "data": {
          "bar": [
           {
            "error_x": {
             "color": "#2a3f5f"
            },
            "error_y": {
             "color": "#2a3f5f"
            },
            "marker": {
             "line": {
              "color": "white",
              "width": 0.5
             },
             "pattern": {
              "fillmode": "overlay",
              "size": 10,
              "solidity": 0.2
             }
            },
            "type": "bar"
           }
          ],
          "barpolar": [
           {
            "marker": {
             "line": {
              "color": "white",
              "width": 0.5
             },
             "pattern": {
              "fillmode": "overlay",
              "size": 10,
              "solidity": 0.2
             }
            },
            "type": "barpolar"
           }
          ],
          "carpet": [
           {
            "aaxis": {
             "endlinecolor": "#2a3f5f",
             "gridcolor": "#C8D4E3",
             "linecolor": "#C8D4E3",
             "minorgridcolor": "#C8D4E3",
             "startlinecolor": "#2a3f5f"
            },
            "baxis": {
             "endlinecolor": "#2a3f5f",
             "gridcolor": "#C8D4E3",
             "linecolor": "#C8D4E3",
             "minorgridcolor": "#C8D4E3",
             "startlinecolor": "#2a3f5f"
            },
            "type": "carpet"
           }
          ],
          "choropleth": [
           {
            "colorbar": {
             "outlinewidth": 0,
             "ticks": ""
            },
            "type": "choropleth"
           }
          ],
          "contour": [
           {
            "colorbar": {
             "outlinewidth": 0,
             "ticks": ""
            },
            "colorscale": [
             [
              0,
              "#0d0887"
             ],
             [
              0.1111111111111111,
              "#46039f"
             ],
             [
              0.2222222222222222,
              "#7201a8"
             ],
             [
              0.3333333333333333,
              "#9c179e"
             ],
             [
              0.4444444444444444,
              "#bd3786"
             ],
             [
              0.5555555555555556,
              "#d8576b"
             ],
             [
              0.6666666666666666,
              "#ed7953"
             ],
             [
              0.7777777777777778,
              "#fb9f3a"
             ],
             [
              0.8888888888888888,
              "#fdca26"
             ],
             [
              1,
              "#f0f921"
             ]
            ],
            "type": "contour"
           }
          ],
          "contourcarpet": [
           {
            "colorbar": {
             "outlinewidth": 0,
             "ticks": ""
            },
            "type": "contourcarpet"
           }
          ],
          "heatmap": [
           {
            "colorbar": {
             "outlinewidth": 0,
             "ticks": ""
            },
            "colorscale": [
             [
              0,
              "#0d0887"
             ],
             [
              0.1111111111111111,
              "#46039f"
             ],
             [
              0.2222222222222222,
              "#7201a8"
             ],
             [
              0.3333333333333333,
              "#9c179e"
             ],
             [
              0.4444444444444444,
              "#bd3786"
             ],
             [
              0.5555555555555556,
              "#d8576b"
             ],
             [
              0.6666666666666666,
              "#ed7953"
             ],
             [
              0.7777777777777778,
              "#fb9f3a"
             ],
             [
              0.8888888888888888,
              "#fdca26"
             ],
             [
              1,
              "#f0f921"
             ]
            ],
            "type": "heatmap"
           }
          ],
          "heatmapgl": [
           {
            "colorbar": {
             "outlinewidth": 0,
             "ticks": ""
            },
            "colorscale": [
             [
              0,
              "#0d0887"
             ],
             [
              0.1111111111111111,
              "#46039f"
             ],
             [
              0.2222222222222222,
              "#7201a8"
             ],
             [
              0.3333333333333333,
              "#9c179e"
             ],
             [
              0.4444444444444444,
              "#bd3786"
             ],
             [
              0.5555555555555556,
              "#d8576b"
             ],
             [
              0.6666666666666666,
              "#ed7953"
             ],
             [
              0.7777777777777778,
              "#fb9f3a"
             ],
             [
              0.8888888888888888,
              "#fdca26"
             ],
             [
              1,
              "#f0f921"
             ]
            ],
            "type": "heatmapgl"
           }
          ],
          "histogram": [
           {
            "marker": {
             "pattern": {
              "fillmode": "overlay",
              "size": 10,
              "solidity": 0.2
             }
            },
            "type": "histogram"
           }
          ],
          "histogram2d": [
           {
            "colorbar": {
             "outlinewidth": 0,
             "ticks": ""
            },
            "colorscale": [
             [
              0,
              "#0d0887"
             ],
             [
              0.1111111111111111,
              "#46039f"
             ],
             [
              0.2222222222222222,
              "#7201a8"
             ],
             [
              0.3333333333333333,
              "#9c179e"
             ],
             [
              0.4444444444444444,
              "#bd3786"
             ],
             [
              0.5555555555555556,
              "#d8576b"
             ],
             [
              0.6666666666666666,
              "#ed7953"
             ],
             [
              0.7777777777777778,
              "#fb9f3a"
             ],
             [
              0.8888888888888888,
              "#fdca26"
             ],
             [
              1,
              "#f0f921"
             ]
            ],
            "type": "histogram2d"
           }
          ],
          "histogram2dcontour": [
           {
            "colorbar": {
             "outlinewidth": 0,
             "ticks": ""
            },
            "colorscale": [
             [
              0,
              "#0d0887"
             ],
             [
              0.1111111111111111,
              "#46039f"
             ],
             [
              0.2222222222222222,
              "#7201a8"
             ],
             [
              0.3333333333333333,
              "#9c179e"
             ],
             [
              0.4444444444444444,
              "#bd3786"
             ],
             [
              0.5555555555555556,
              "#d8576b"
             ],
             [
              0.6666666666666666,
              "#ed7953"
             ],
             [
              0.7777777777777778,
              "#fb9f3a"
             ],
             [
              0.8888888888888888,
              "#fdca26"
             ],
             [
              1,
              "#f0f921"
             ]
            ],
            "type": "histogram2dcontour"
           }
          ],
          "mesh3d": [
           {
            "colorbar": {
             "outlinewidth": 0,
             "ticks": ""
            },
            "type": "mesh3d"
           }
          ],
          "parcoords": [
           {
            "line": {
             "colorbar": {
              "outlinewidth": 0,
              "ticks": ""
             }
            },
            "type": "parcoords"
           }
          ],
          "pie": [
           {
            "automargin": true,
            "type": "pie"
           }
          ],
          "scatter": [
           {
            "fillpattern": {
             "fillmode": "overlay",
             "size": 10,
             "solidity": 0.2
            },
            "type": "scatter"
           }
          ],
          "scatter3d": [
           {
            "line": {
             "colorbar": {
              "outlinewidth": 0,
              "ticks": ""
             }
            },
            "marker": {
             "colorbar": {
              "outlinewidth": 0,
              "ticks": ""
             }
            },
            "type": "scatter3d"
           }
          ],
          "scattercarpet": [
           {
            "marker": {
             "colorbar": {
              "outlinewidth": 0,
              "ticks": ""
             }
            },
            "type": "scattercarpet"
           }
          ],
          "scattergeo": [
           {
            "marker": {
             "colorbar": {
              "outlinewidth": 0,
              "ticks": ""
             }
            },
            "type": "scattergeo"
           }
          ],
          "scattergl": [
           {
            "marker": {
             "colorbar": {
              "outlinewidth": 0,
              "ticks": ""
             }
            },
            "type": "scattergl"
           }
          ],
          "scattermapbox": [
           {
            "marker": {
             "colorbar": {
              "outlinewidth": 0,
              "ticks": ""
             }
            },
            "type": "scattermapbox"
           }
          ],
          "scatterpolar": [
           {
            "marker": {
             "colorbar": {
              "outlinewidth": 0,
              "ticks": ""
             }
            },
            "type": "scatterpolar"
           }
          ],
          "scatterpolargl": [
           {
            "marker": {
             "colorbar": {
              "outlinewidth": 0,
              "ticks": ""
             }
            },
            "type": "scatterpolargl"
           }
          ],
          "scatterternary": [
           {
            "marker": {
             "colorbar": {
              "outlinewidth": 0,
              "ticks": ""
             }
            },
            "type": "scatterternary"
           }
          ],
          "surface": [
           {
            "colorbar": {
             "outlinewidth": 0,
             "ticks": ""
            },
            "colorscale": [
             [
              0,
              "#0d0887"
             ],
             [
              0.1111111111111111,
              "#46039f"
             ],
             [
              0.2222222222222222,
              "#7201a8"
             ],
             [
              0.3333333333333333,
              "#9c179e"
             ],
             [
              0.4444444444444444,
              "#bd3786"
             ],
             [
              0.5555555555555556,
              "#d8576b"
             ],
             [
              0.6666666666666666,
              "#ed7953"
             ],
             [
              0.7777777777777778,
              "#fb9f3a"
             ],
             [
              0.8888888888888888,
              "#fdca26"
             ],
             [
              1,
              "#f0f921"
             ]
            ],
            "type": "surface"
           }
          ],
          "table": [
           {
            "cells": {
             "fill": {
              "color": "#EBF0F8"
             },
             "line": {
              "color": "white"
             }
            },
            "header": {
             "fill": {
              "color": "#C8D4E3"
             },
             "line": {
              "color": "white"
             }
            },
            "type": "table"
           }
          ]
         },
         "layout": {
          "annotationdefaults": {
           "arrowcolor": "#2a3f5f",
           "arrowhead": 0,
           "arrowwidth": 1
          },
          "autotypenumbers": "strict",
          "coloraxis": {
           "colorbar": {
            "outlinewidth": 0,
            "ticks": ""
           }
          },
          "colorscale": {
           "diverging": [
            [
             0,
             "#8e0152"
            ],
            [
             0.1,
             "#c51b7d"
            ],
            [
             0.2,
             "#de77ae"
            ],
            [
             0.3,
             "#f1b6da"
            ],
            [
             0.4,
             "#fde0ef"
            ],
            [
             0.5,
             "#f7f7f7"
            ],
            [
             0.6,
             "#e6f5d0"
            ],
            [
             0.7,
             "#b8e186"
            ],
            [
             0.8,
             "#7fbc41"
            ],
            [
             0.9,
             "#4d9221"
            ],
            [
             1,
             "#276419"
            ]
           ],
           "sequential": [
            [
             0,
             "#0d0887"
            ],
            [
             0.1111111111111111,
             "#46039f"
            ],
            [
             0.2222222222222222,
             "#7201a8"
            ],
            [
             0.3333333333333333,
             "#9c179e"
            ],
            [
             0.4444444444444444,
             "#bd3786"
            ],
            [
             0.5555555555555556,
             "#d8576b"
            ],
            [
             0.6666666666666666,
             "#ed7953"
            ],
            [
             0.7777777777777778,
             "#fb9f3a"
            ],
            [
             0.8888888888888888,
             "#fdca26"
            ],
            [
             1,
             "#f0f921"
            ]
           ],
           "sequentialminus": [
            [
             0,
             "#0d0887"
            ],
            [
             0.1111111111111111,
             "#46039f"
            ],
            [
             0.2222222222222222,
             "#7201a8"
            ],
            [
             0.3333333333333333,
             "#9c179e"
            ],
            [
             0.4444444444444444,
             "#bd3786"
            ],
            [
             0.5555555555555556,
             "#d8576b"
            ],
            [
             0.6666666666666666,
             "#ed7953"
            ],
            [
             0.7777777777777778,
             "#fb9f3a"
            ],
            [
             0.8888888888888888,
             "#fdca26"
            ],
            [
             1,
             "#f0f921"
            ]
           ]
          },
          "colorway": [
           "#636efa",
           "#EF553B",
           "#00cc96",
           "#ab63fa",
           "#FFA15A",
           "#19d3f3",
           "#FF6692",
           "#B6E880",
           "#FF97FF",
           "#FECB52"
          ],
          "font": {
           "color": "#2a3f5f"
          },
          "geo": {
           "bgcolor": "white",
           "lakecolor": "white",
           "landcolor": "white",
           "showlakes": true,
           "showland": true,
           "subunitcolor": "#C8D4E3"
          },
          "hoverlabel": {
           "align": "left"
          },
          "hovermode": "closest",
          "mapbox": {
           "style": "light"
          },
          "paper_bgcolor": "white",
          "plot_bgcolor": "white",
          "polar": {
           "angularaxis": {
            "gridcolor": "#EBF0F8",
            "linecolor": "#EBF0F8",
            "ticks": ""
           },
           "bgcolor": "white",
           "radialaxis": {
            "gridcolor": "#EBF0F8",
            "linecolor": "#EBF0F8",
            "ticks": ""
           }
          },
          "scene": {
           "xaxis": {
            "backgroundcolor": "white",
            "gridcolor": "#DFE8F3",
            "gridwidth": 2,
            "linecolor": "#EBF0F8",
            "showbackground": true,
            "ticks": "",
            "zerolinecolor": "#EBF0F8"
           },
           "yaxis": {
            "backgroundcolor": "white",
            "gridcolor": "#DFE8F3",
            "gridwidth": 2,
            "linecolor": "#EBF0F8",
            "showbackground": true,
            "ticks": "",
            "zerolinecolor": "#EBF0F8"
           },
           "zaxis": {
            "backgroundcolor": "white",
            "gridcolor": "#DFE8F3",
            "gridwidth": 2,
            "linecolor": "#EBF0F8",
            "showbackground": true,
            "ticks": "",
            "zerolinecolor": "#EBF0F8"
           }
          },
          "shapedefaults": {
           "line": {
            "color": "#2a3f5f"
           }
          },
          "ternary": {
           "aaxis": {
            "gridcolor": "#DFE8F3",
            "linecolor": "#A2B1C6",
            "ticks": ""
           },
           "baxis": {
            "gridcolor": "#DFE8F3",
            "linecolor": "#A2B1C6",
            "ticks": ""
           },
           "bgcolor": "white",
           "caxis": {
            "gridcolor": "#DFE8F3",
            "linecolor": "#A2B1C6",
            "ticks": ""
           }
          },
          "title": {
           "x": 0.05
          },
          "xaxis": {
           "automargin": true,
           "gridcolor": "#EBF0F8",
           "linecolor": "#EBF0F8",
           "ticks": "",
           "title": {
            "standoff": 15
           },
           "zerolinecolor": "#EBF0F8",
           "zerolinewidth": 2
          },
          "yaxis": {
           "automargin": true,
           "gridcolor": "#EBF0F8",
           "linecolor": "#EBF0F8",
           "ticks": "",
           "title": {
            "standoff": 15
           },
           "zerolinecolor": "#EBF0F8",
           "zerolinewidth": 2
          }
         }
        },
        "title": {
         "text": "PDP for feature <b>rating</b> <br><sup>Number of unique grid points: 6</sup>",
         "x": 0,
         "xref": "paper"
        },
        "width": 1200,
        "xaxis": {
         "anchor": "y",
         "domain": [
          0,
          1
         ]
        },
        "xaxis2": {
         "anchor": "y2",
         "domain": [
          0,
          1
         ],
         "showgrid": false,
         "showticklabels": false,
         "title": {
          "text": "<b>rating</b> (value)"
         }
        },
        "yaxis": {
         "anchor": "x",
         "domain": [
          0.11266666666666669,
          0.99
         ],
         "title": {
          "text": "raw"
         }
        },
        "yaxis2": {
         "anchor": "x2",
         "domain": [
          0,
          0.06266666666666665
         ],
         "showgrid": false,
         "showticklabels": false
        }
       }
      }
     },
     "metadata": {},
     "output_type": "display_data"
    }
   ],
   "source": [
    "# Plot PDP\n",
    "# Create the pdp data to be plotted\n",
    "pdp_goals = pdp.PDPIsolate(model=tree_model, df=val_x, model_features=feature_names, feature='rating', feature_name='rating')\n",
    "\n",
    "# plot the PDP for feature 'Goal Scored'\n",
    "fig, axes = pdp_goals.plot(\n",
    "    center=False,\n",
    "    plot_lines=True,\n",
    "    frac_to_plot=100,\n",
    "    cluster=False,\n",
    "    n_cluster_centers=None,\n",
    "    cluster_method='accurate',\n",
    "    plot_pts_dist=True,\n",
    "    to_bins=False,\n",
    "    show_percentile=False,\n",
    "    which_classes=None,\n",
    "    figsize=None,\n",
    "    dpi=300,\n",
    "    ncols=2,\n",
    "    plot_params={\"pdp_hl\": True},\n",
    "    engine='plotly',\n",
    "    template='plotly_white')\n",
    "\n",
    "fig.show()"
   ]
  },
  {
   "cell_type": "markdown",
   "metadata": {},
   "source": [
    "Looking at this graph you can see that it seems more likely that when the rating >=94 that it is from ethoipia."
   ]
  },
  {
   "cell_type": "code",
   "execution_count": 73,
   "metadata": {},
   "outputs": [
    {
     "name": "stdout",
     "output_type": "stream",
     "text": [
      "obtain pred_func from the provided model.\n"
     ]
    },
    {
     "name": "stderr",
     "output_type": "stream",
     "text": [
      "100%|██████████| 10/10 [00:00<00:00, 1151.90it/s]\n"
     ]
    },
    {
     "data": {
      "application/vnd.plotly.v1+json": {
       "config": {
        "plotlyServerURL": "https://plot.ly"
       },
       "data": [
        {
         "hoverinfo": "none",
         "line": {
          "color": "rgba(193,217,237,0.5)",
          "width": 0.5
         },
         "mode": "lines",
         "type": "scatter",
         "x": [
          0.008704867156157748,
          0.03209446673226856,
          0.036425874061177976,
          0.04042086140337597,
          0.04310381079739947,
          0.04857904608112767,
          0.05740166023263438,
          0.07879797138748013,
          0.15297857845734614,
          0.9666187268185602
         ],
         "xaxis": "x",
         "y": [
          0.3333333333333333,
          0.7391304347826086,
          0.7391304347826086,
          0.7391304347826086,
          0.59375,
          0.4117647058823529,
          0.4117647058823529,
          0.07692307692307693,
          0.1111111111111111,
          0
         ],
         "yaxis": "y"
        },
        {
         "hoverinfo": "none",
         "line": {
          "color": "rgba(177,210,231,0.5)",
          "width": 0.5
         },
         "mode": "lines",
         "type": "scatter",
         "x": [
          0.008704867156157748,
          0.03209446673226856,
          0.036425874061177976,
          0.04042086140337597,
          0.04310381079739947,
          0.04857904608112767,
          0.05740166023263438,
          0.07879797138748013,
          0.15297857845734614,
          0.9666187268185602
         ],
         "xaxis": "x",
         "y": [
          0.3333333333333333,
          0.7391304347826086,
          0.7391304347826086,
          0.7391304347826086,
          0.59375,
          0.4117647058823529,
          0.4117647058823529,
          0.07692307692307693,
          0.1111111111111111,
          0
         ],
         "yaxis": "y"
        },
        {
         "hoverinfo": "none",
         "line": {
          "color": "rgba(160,202,225,0.5)",
          "width": 0.5
         },
         "mode": "lines",
         "type": "scatter",
         "x": [
          0.008704867156157748,
          0.03209446673226856,
          0.036425874061177976,
          0.04042086140337597,
          0.04310381079739947,
          0.04857904608112767,
          0.05740166023263438,
          0.07879797138748013,
          0.15297857845734614,
          0.9666187268185602
         ],
         "xaxis": "x",
         "y": [
          0.3333333333333333,
          0.7391304347826086,
          0.7391304347826086,
          0.7391304347826086,
          0.59375,
          0.3108108108108108,
          0.3108108108108108,
          0.07692307692307693,
          0.1111111111111111,
          0
         ],
         "yaxis": "y"
        },
        {
         "hoverinfo": "none",
         "line": {
          "color": "rgba(139,192,221,0.5)",
          "width": 0.5
         },
         "mode": "lines",
         "type": "scatter",
         "x": [
          0.008704867156157748,
          0.03209446673226856,
          0.036425874061177976,
          0.04042086140337597,
          0.04310381079739947,
          0.04857904608112767,
          0.05740166023263438,
          0.07879797138748013,
          0.15297857845734614,
          0.9666187268185602
         ],
         "xaxis": "x",
         "y": [
          0.08333333333333333,
          0.3670520231213873,
          0.3670520231213873,
          0.3670520231213873,
          0.3670520231213873,
          0.3670520231213873,
          0.3670520231213873,
          0,
          0.1111111111111111,
          1
         ],
         "yaxis": "y"
        },
        {
         "hoverinfo": "none",
         "line": {
          "color": "rgba(117,179,216,0.5)",
          "width": 0.5
         },
         "mode": "lines",
         "type": "scatter",
         "x": [
          0.008704867156157748,
          0.03209446673226856,
          0.036425874061177976,
          0.04042086140337597,
          0.04310381079739947,
          0.04857904608112767,
          0.05740166023263438,
          0.07879797138748013,
          0.15297857845734614,
          0.9666187268185602
         ],
         "xaxis": "x",
         "y": [
          0.08333333333333333,
          0.3670520231213873,
          0.3670520231213873,
          0.3670520231213873,
          0.3670520231213873,
          0.3670520231213873,
          0.3670520231213873,
          0,
          0.25,
          1
         ],
         "yaxis": "y"
        },
        {
         "hoverinfo": "none",
         "line": {
          "color": "rgba(98,168,210,0.5)",
          "width": 0.5
         },
         "mode": "lines",
         "type": "scatter",
         "x": [
          0.008704867156157748,
          0.03209446673226856,
          0.036425874061177976,
          0.04042086140337597,
          0.04310381079739947,
          0.04857904608112767,
          0.05740166023263438,
          0.07879797138748013,
          0.15297857845734614,
          0.9666187268185602
         ],
         "xaxis": "x",
         "y": [
          0.08333333333333333,
          0.3670520231213873,
          0.3670520231213873,
          0.3670520231213873,
          0.3670520231213873,
          0.3670520231213873,
          0.3670520231213873,
          0,
          0.1111111111111111,
          1
         ],
         "yaxis": "y"
        },
        {
         "hoverinfo": "none",
         "line": {
          "color": "rgba(80,155,203,0.5)",
          "width": 0.5
         },
         "mode": "lines",
         "type": "scatter",
         "x": [
          0.008704867156157748,
          0.03209446673226856,
          0.036425874061177976,
          0.04042086140337597,
          0.04310381079739947,
          0.04857904608112767,
          0.05740166023263438,
          0.07879797138748013,
          0.15297857845734614,
          0.9666187268185602
         ],
         "xaxis": "x",
         "y": [
          0.08333333333333333,
          0.3670520231213873,
          0.3670520231213873,
          0.3670520231213873,
          0.3670520231213873,
          0.3670520231213873,
          0.3670520231213873,
          0.07692307692307693,
          0.1111111111111111,
          1
         ],
         "yaxis": "y"
        },
        {
         "hoverinfo": "none",
         "line": {
          "color": "rgba(64,144,197,0.5)",
          "width": 0.5
         },
         "mode": "lines",
         "type": "scatter",
         "x": [
          0.008704867156157748,
          0.03209446673226856,
          0.036425874061177976,
          0.04042086140337597,
          0.04310381079739947,
          0.04857904608112767,
          0.05740166023263438,
          0.07879797138748013,
          0.15297857845734614,
          0.9666187268185602
         ],
         "xaxis": "x",
         "y": [
          0.08333333333333333,
          0.3670520231213873,
          0.3670520231213873,
          0.3670520231213873,
          0.3670520231213873,
          0.3670520231213873,
          0.3670520231213873,
          0,
          0.25,
          1
         ],
         "yaxis": "y"
        },
        {
         "hoverinfo": "none",
         "line": {
          "color": "rgba(49,129,189,0.5)",
          "width": 0.5
         },
         "mode": "lines",
         "type": "scatter",
         "x": [
          0.008704867156157748,
          0.03209446673226856,
          0.036425874061177976,
          0.04042086140337597,
          0.04310381079739947,
          0.04857904608112767,
          0.05740166023263438,
          0.07879797138748013,
          0.15297857845734614,
          0.9666187268185602
         ],
         "xaxis": "x",
         "y": [
          0.08333333333333333,
          0.3670520231213873,
          0.3670520231213873,
          0.3670520231213873,
          0.3670520231213873,
          0.3670520231213873,
          0.3670520231213873,
          0.07692307692307693,
          0.1111111111111111,
          1
         ],
         "yaxis": "y"
        },
        {
         "hoverinfo": "none",
         "line": {
          "color": "rgba(36,116,182,0.5)",
          "width": 0.5
         },
         "mode": "lines",
         "type": "scatter",
         "x": [
          0.008704867156157748,
          0.03209446673226856,
          0.036425874061177976,
          0.04042086140337597,
          0.04310381079739947,
          0.04857904608112767,
          0.05740166023263438,
          0.07879797138748013,
          0.15297857845734614,
          0.9666187268185602
         ],
         "xaxis": "x",
         "y": [
          0.08333333333333333,
          0.3670520231213873,
          0.3670520231213873,
          0.3670520231213873,
          0.3670520231213873,
          0.3670520231213873,
          0.3670520231213873,
          0.07692307692307693,
          0.1111111111111111,
          1
         ],
         "yaxis": "y"
        },
        {
         "hoverinfo": "none",
         "line": {
          "color": "rgba(193,217,237,0.5)",
          "width": 0.5
         },
         "mode": "lines",
         "type": "scatter",
         "x": [
          0.008704867156157748,
          0.03209446673226856,
          0.036425874061177976,
          0.04042086140337597,
          0.04310381079739947,
          0.04857904608112767,
          0.05740166023263438,
          0.07879797138748013,
          0.15297857845734614,
          0.9666187268185602
         ],
         "xaxis": "x",
         "y": [
          0.08333333333333333,
          0.3670520231213873,
          0.3670520231213873,
          0.3670520231213873,
          0.3670520231213873,
          0.3670520231213873,
          0.3670520231213873,
          0,
          0.1111111111111111,
          1
         ],
         "yaxis": "y"
        },
        {
         "hoverinfo": "none",
         "line": {
          "color": "rgba(177,210,231,0.5)",
          "width": 0.5
         },
         "mode": "lines",
         "type": "scatter",
         "x": [
          0.008704867156157748,
          0.03209446673226856,
          0.036425874061177976,
          0.04042086140337597,
          0.04310381079739947,
          0.04857904608112767,
          0.05740166023263438,
          0.07879797138748013,
          0.15297857845734614,
          0.9666187268185602
         ],
         "xaxis": "x",
         "y": [
          0.3333333333333333,
          0.7391304347826086,
          0.7391304347826086,
          0.7391304347826086,
          0.59375,
          0.3108108108108108,
          0.3108108108108108,
          0.07692307692307693,
          0.1111111111111111,
          0
         ],
         "yaxis": "y"
        },
        {
         "hoverinfo": "none",
         "line": {
          "color": "rgba(160,202,225,0.5)",
          "width": 0.5
         },
         "mode": "lines",
         "type": "scatter",
         "x": [
          0.008704867156157748,
          0.03209446673226856,
          0.036425874061177976,
          0.04042086140337597,
          0.04310381079739947,
          0.04857904608112767,
          0.05740166023263438,
          0.07879797138748013,
          0.15297857845734614,
          0.9666187268185602
         ],
         "xaxis": "x",
         "y": [
          0.3333333333333333,
          0.7391304347826086,
          0.7391304347826086,
          0.7391304347826086,
          0.59375,
          0.4117647058823529,
          0.4117647058823529,
          0.5,
          0.1111111111111111,
          0
         ],
         "yaxis": "y"
        },
        {
         "hoverinfo": "none",
         "line": {
          "color": "rgba(139,192,221,0.5)",
          "width": 0.5
         },
         "mode": "lines",
         "type": "scatter",
         "x": [
          0.008704867156157748,
          0.03209446673226856,
          0.036425874061177976,
          0.04042086140337597,
          0.04310381079739947,
          0.04857904608112767,
          0.05740166023263438,
          0.07879797138748013,
          0.15297857845734614,
          0.9666187268185602
         ],
         "xaxis": "x",
         "y": [
          0.3333333333333333,
          0.7391304347826086,
          0.7391304347826086,
          0.7391304347826086,
          0.59375,
          0.4117647058823529,
          0.4117647058823529,
          0.07692307692307693,
          0.1111111111111111,
          0
         ],
         "yaxis": "y"
        },
        {
         "hoverinfo": "none",
         "line": {
          "color": "rgba(117,179,216,0.5)",
          "width": 0.5
         },
         "mode": "lines",
         "type": "scatter",
         "x": [
          0.008704867156157748,
          0.03209446673226856,
          0.036425874061177976,
          0.04042086140337597,
          0.04310381079739947,
          0.04857904608112767,
          0.05740166023263438,
          0.07879797138748013,
          0.15297857845734614,
          0.9666187268185602
         ],
         "xaxis": "x",
         "y": [
          0.3333333333333333,
          0.7391304347826086,
          0.7391304347826086,
          0.7391304347826086,
          0.59375,
          0.3108108108108108,
          0.3108108108108108,
          0.07692307692307693,
          0.1111111111111111,
          0
         ],
         "yaxis": "y"
        },
        {
         "hoverinfo": "none",
         "line": {
          "color": "rgba(98,168,210,0.5)",
          "width": 0.5
         },
         "mode": "lines",
         "type": "scatter",
         "x": [
          0.008704867156157748,
          0.03209446673226856,
          0.036425874061177976,
          0.04042086140337597,
          0.04310381079739947,
          0.04857904608112767,
          0.05740166023263438,
          0.07879797138748013,
          0.15297857845734614,
          0.9666187268185602
         ],
         "xaxis": "x",
         "y": [
          0.08333333333333333,
          0.3670520231213873,
          0.3670520231213873,
          0.3670520231213873,
          0.3670520231213873,
          0.3670520231213873,
          0.3670520231213873,
          0.07692307692307693,
          0.1111111111111111,
          1
         ],
         "yaxis": "y"
        },
        {
         "hoverinfo": "none",
         "line": {
          "color": "rgba(80,155,203,0.5)",
          "width": 0.5
         },
         "mode": "lines",
         "type": "scatter",
         "x": [
          0.008704867156157748,
          0.03209446673226856,
          0.036425874061177976,
          0.04042086140337597,
          0.04310381079739947,
          0.04857904608112767,
          0.05740166023263438,
          0.07879797138748013,
          0.15297857845734614,
          0.9666187268185602
         ],
         "xaxis": "x",
         "y": [
          0.08333333333333333,
          0.3670520231213873,
          0.3670520231213873,
          0.3670520231213873,
          0.3670520231213873,
          0.3670520231213873,
          0.3670520231213873,
          0.07692307692307693,
          0.1111111111111111,
          1
         ],
         "yaxis": "y"
        },
        {
         "hoverinfo": "none",
         "line": {
          "color": "rgba(64,144,197,0.5)",
          "width": 0.5
         },
         "mode": "lines",
         "type": "scatter",
         "x": [
          0.008704867156157748,
          0.03209446673226856,
          0.036425874061177976,
          0.04042086140337597,
          0.04310381079739947,
          0.04857904608112767,
          0.05740166023263438,
          0.07879797138748013,
          0.15297857845734614,
          0.9666187268185602
         ],
         "xaxis": "x",
         "y": [
          0.08333333333333333,
          0.3670520231213873,
          0.3670520231213873,
          0.3670520231213873,
          0.3670520231213873,
          0.3670520231213873,
          0.3670520231213873,
          0,
          0.25,
          1
         ],
         "yaxis": "y"
        },
        {
         "hoverinfo": "none",
         "line": {
          "color": "rgba(49,129,189,0.5)",
          "width": 0.5
         },
         "mode": "lines",
         "type": "scatter",
         "x": [
          0.008704867156157748,
          0.03209446673226856,
          0.036425874061177976,
          0.04042086140337597,
          0.04310381079739947,
          0.04857904608112767,
          0.05740166023263438,
          0.07879797138748013,
          0.15297857845734614,
          0.9666187268185602
         ],
         "xaxis": "x",
         "y": [
          0.08333333333333333,
          0.3670520231213873,
          0.3670520231213873,
          0.3670520231213873,
          0.3670520231213873,
          0.3670520231213873,
          0.3670520231213873,
          0.07692307692307693,
          0.1111111111111111,
          1
         ],
         "yaxis": "y"
        },
        {
         "hoverinfo": "none",
         "line": {
          "color": "rgba(36,116,182,0.5)",
          "width": 0.5
         },
         "mode": "lines",
         "type": "scatter",
         "x": [
          0.008704867156157748,
          0.03209446673226856,
          0.036425874061177976,
          0.04042086140337597,
          0.04310381079739947,
          0.04857904608112767,
          0.05740166023263438,
          0.07879797138748013,
          0.15297857845734614,
          0.9666187268185602
         ],
         "xaxis": "x",
         "y": [
          0.3333333333333333,
          0.7391304347826086,
          0.7391304347826086,
          0.7391304347826086,
          0.59375,
          0.4117647058823529,
          0.4117647058823529,
          0.5,
          0.1111111111111111,
          0
         ],
         "yaxis": "y"
        },
        {
         "hoverinfo": "none",
         "line": {
          "color": "rgba(193,217,237,0.5)",
          "width": 0.5
         },
         "mode": "lines",
         "type": "scatter",
         "x": [
          0.008704867156157748,
          0.03209446673226856,
          0.036425874061177976,
          0.04042086140337597,
          0.04310381079739947,
          0.04857904608112767,
          0.05740166023263438,
          0.07879797138748013,
          0.15297857845734614,
          0.9666187268185602
         ],
         "xaxis": "x",
         "y": [
          0.08333333333333333,
          0.3670520231213873,
          0.3670520231213873,
          0.3670520231213873,
          0.3670520231213873,
          0.3670520231213873,
          0.3670520231213873,
          0.07692307692307693,
          0.1111111111111111,
          1
         ],
         "yaxis": "y"
        },
        {
         "hoverinfo": "none",
         "line": {
          "color": "rgba(177,210,231,0.5)",
          "width": 0.5
         },
         "mode": "lines",
         "type": "scatter",
         "x": [
          0.008704867156157748,
          0.03209446673226856,
          0.036425874061177976,
          0.04042086140337597,
          0.04310381079739947,
          0.04857904608112767,
          0.05740166023263438,
          0.07879797138748013,
          0.15297857845734614,
          0.9666187268185602
         ],
         "xaxis": "x",
         "y": [
          0.08333333333333333,
          0.3670520231213873,
          0.3670520231213873,
          0.3670520231213873,
          0.3670520231213873,
          0.3670520231213873,
          0.3670520231213873,
          0,
          0.25,
          1
         ],
         "yaxis": "y"
        },
        {
         "hoverinfo": "none",
         "line": {
          "color": "rgba(160,202,225,0.5)",
          "width": 0.5
         },
         "mode": "lines",
         "type": "scatter",
         "x": [
          0.008704867156157748,
          0.03209446673226856,
          0.036425874061177976,
          0.04042086140337597,
          0.04310381079739947,
          0.04857904608112767,
          0.05740166023263438,
          0.07879797138748013,
          0.15297857845734614,
          0.9666187268185602
         ],
         "xaxis": "x",
         "y": [
          0.3333333333333333,
          0.7391304347826086,
          0.7391304347826086,
          0.7391304347826086,
          0.59375,
          0.4117647058823529,
          0.4117647058823529,
          0.07692307692307693,
          0.1111111111111111,
          0
         ],
         "yaxis": "y"
        },
        {
         "hoverinfo": "none",
         "line": {
          "color": "rgba(139,192,221,0.5)",
          "width": 0.5
         },
         "mode": "lines",
         "type": "scatter",
         "x": [
          0.008704867156157748,
          0.03209446673226856,
          0.036425874061177976,
          0.04042086140337597,
          0.04310381079739947,
          0.04857904608112767,
          0.05740166023263438,
          0.07879797138748013,
          0.15297857845734614,
          0.9666187268185602
         ],
         "xaxis": "x",
         "y": [
          0.08333333333333333,
          0.3670520231213873,
          0.3670520231213873,
          0.3670520231213873,
          0.3670520231213873,
          0.3670520231213873,
          0.3670520231213873,
          0.07692307692307693,
          0.1111111111111111,
          1
         ],
         "yaxis": "y"
        },
        {
         "hoverinfo": "none",
         "line": {
          "color": "rgba(117,179,216,0.5)",
          "width": 0.5
         },
         "mode": "lines",
         "type": "scatter",
         "x": [
          0.008704867156157748,
          0.03209446673226856,
          0.036425874061177976,
          0.04042086140337597,
          0.04310381079739947,
          0.04857904608112767,
          0.05740166023263438,
          0.07879797138748013,
          0.15297857845734614,
          0.9666187268185602
         ],
         "xaxis": "x",
         "y": [
          0.08333333333333333,
          0.3670520231213873,
          0.3670520231213873,
          0.3670520231213873,
          0.3670520231213873,
          0.3670520231213873,
          0.3670520231213873,
          0.07692307692307693,
          0.1111111111111111,
          1
         ],
         "yaxis": "y"
        },
        {
         "hoverinfo": "none",
         "line": {
          "color": "rgba(98,168,210,0.5)",
          "width": 0.5
         },
         "mode": "lines",
         "type": "scatter",
         "x": [
          0.008704867156157748,
          0.03209446673226856,
          0.036425874061177976,
          0.04042086140337597,
          0.04310381079739947,
          0.04857904608112767,
          0.05740166023263438,
          0.07879797138748013,
          0.15297857845734614,
          0.9666187268185602
         ],
         "xaxis": "x",
         "y": [
          0.08333333333333333,
          0.3670520231213873,
          0.3670520231213873,
          0.3670520231213873,
          0.3670520231213873,
          0.3670520231213873,
          0.3670520231213873,
          0,
          0.1111111111111111,
          1
         ],
         "yaxis": "y"
        },
        {
         "hoverinfo": "none",
         "line": {
          "color": "rgba(80,155,203,0.5)",
          "width": 0.5
         },
         "mode": "lines",
         "type": "scatter",
         "x": [
          0.008704867156157748,
          0.03209446673226856,
          0.036425874061177976,
          0.04042086140337597,
          0.04310381079739947,
          0.04857904608112767,
          0.05740166023263438,
          0.07879797138748013,
          0.15297857845734614,
          0.9666187268185602
         ],
         "xaxis": "x",
         "y": [
          0.08333333333333333,
          0.3670520231213873,
          0.3670520231213873,
          0.3670520231213873,
          0.3670520231213873,
          0.3670520231213873,
          0.3670520231213873,
          0,
          0.25,
          1
         ],
         "yaxis": "y"
        },
        {
         "hoverinfo": "none",
         "line": {
          "color": "rgba(64,144,197,0.5)",
          "width": 0.5
         },
         "mode": "lines",
         "type": "scatter",
         "x": [
          0.008704867156157748,
          0.03209446673226856,
          0.036425874061177976,
          0.04042086140337597,
          0.04310381079739947,
          0.04857904608112767,
          0.05740166023263438,
          0.07879797138748013,
          0.15297857845734614,
          0.9666187268185602
         ],
         "xaxis": "x",
         "y": [
          0.08333333333333333,
          0.3670520231213873,
          0.3670520231213873,
          0.3670520231213873,
          0.3670520231213873,
          0.3670520231213873,
          0.3670520231213873,
          0,
          0.1111111111111111,
          1
         ],
         "yaxis": "y"
        },
        {
         "hoverinfo": "none",
         "line": {
          "color": "rgba(49,129,189,0.5)",
          "width": 0.5
         },
         "mode": "lines",
         "type": "scatter",
         "x": [
          0.008704867156157748,
          0.03209446673226856,
          0.036425874061177976,
          0.04042086140337597,
          0.04310381079739947,
          0.04857904608112767,
          0.05740166023263438,
          0.07879797138748013,
          0.15297857845734614,
          0.9666187268185602
         ],
         "xaxis": "x",
         "y": [
          0.3333333333333333,
          0.7391304347826086,
          0.7391304347826086,
          0.7391304347826086,
          0.59375,
          0.4117647058823529,
          0.4117647058823529,
          0.5,
          0.1111111111111111,
          0
         ],
         "yaxis": "y"
        },
        {
         "hoverinfo": "none",
         "line": {
          "color": "rgba(36,116,182,0.5)",
          "width": 0.5
         },
         "mode": "lines",
         "type": "scatter",
         "x": [
          0.008704867156157748,
          0.03209446673226856,
          0.036425874061177976,
          0.04042086140337597,
          0.04310381079739947,
          0.04857904608112767,
          0.05740166023263438,
          0.07879797138748013,
          0.15297857845734614,
          0.9666187268185602
         ],
         "xaxis": "x",
         "y": [
          0.08333333333333333,
          0.3670520231213873,
          0.3670520231213873,
          0.3670520231213873,
          0.3670520231213873,
          0.3670520231213873,
          0.3670520231213873,
          0.07692307692307693,
          0.1111111111111111,
          1
         ],
         "yaxis": "y"
        },
        {
         "hoverinfo": "none",
         "line": {
          "color": "rgba(193,217,237,0.5)",
          "width": 0.5
         },
         "mode": "lines",
         "type": "scatter",
         "x": [
          0.008704867156157748,
          0.03209446673226856,
          0.036425874061177976,
          0.04042086140337597,
          0.04310381079739947,
          0.04857904608112767,
          0.05740166023263438,
          0.07879797138748013,
          0.15297857845734614,
          0.9666187268185602
         ],
         "xaxis": "x",
         "y": [
          0.3333333333333333,
          0.7391304347826086,
          0.7391304347826086,
          0.7391304347826086,
          0.59375,
          0.4117647058823529,
          0.4117647058823529,
          0.5,
          0.1111111111111111,
          0
         ],
         "yaxis": "y"
        },
        {
         "hoverinfo": "none",
         "line": {
          "color": "rgba(177,210,231,0.5)",
          "width": 0.5
         },
         "mode": "lines",
         "type": "scatter",
         "x": [
          0.008704867156157748,
          0.03209446673226856,
          0.036425874061177976,
          0.04042086140337597,
          0.04310381079739947,
          0.04857904608112767,
          0.05740166023263438,
          0.07879797138748013,
          0.15297857845734614,
          0.9666187268185602
         ],
         "xaxis": "x",
         "y": [
          0.3333333333333333,
          0.7391304347826086,
          0.7391304347826086,
          0.7391304347826086,
          0.59375,
          0.3108108108108108,
          0.3108108108108108,
          0.07692307692307693,
          0.1111111111111111,
          0
         ],
         "yaxis": "y"
        },
        {
         "hoverinfo": "none",
         "line": {
          "color": "rgba(160,202,225,0.5)",
          "width": 0.5
         },
         "mode": "lines",
         "type": "scatter",
         "x": [
          0.008704867156157748,
          0.03209446673226856,
          0.036425874061177976,
          0.04042086140337597,
          0.04310381079739947,
          0.04857904608112767,
          0.05740166023263438,
          0.07879797138748013,
          0.15297857845734614,
          0.9666187268185602
         ],
         "xaxis": "x",
         "y": [
          0.3333333333333333,
          0.7391304347826086,
          0.7391304347826086,
          0.7391304347826086,
          0.59375,
          0.3108108108108108,
          0.3108108108108108,
          0.07692307692307693,
          0.1111111111111111,
          0
         ],
         "yaxis": "y"
        },
        {
         "hoverinfo": "none",
         "line": {
          "color": "rgba(139,192,221,0.5)",
          "width": 0.5
         },
         "mode": "lines",
         "type": "scatter",
         "x": [
          0.008704867156157748,
          0.03209446673226856,
          0.036425874061177976,
          0.04042086140337597,
          0.04310381079739947,
          0.04857904608112767,
          0.05740166023263438,
          0.07879797138748013,
          0.15297857845734614,
          0.9666187268185602
         ],
         "xaxis": "x",
         "y": [
          0.3333333333333333,
          0.7391304347826086,
          0.7391304347826086,
          0.7391304347826086,
          0.59375,
          0.3108108108108108,
          0.3108108108108108,
          0.07692307692307693,
          0.1111111111111111,
          0
         ],
         "yaxis": "y"
        },
        {
         "hoverinfo": "none",
         "line": {
          "color": "rgba(117,179,216,0.5)",
          "width": 0.5
         },
         "mode": "lines",
         "type": "scatter",
         "x": [
          0.008704867156157748,
          0.03209446673226856,
          0.036425874061177976,
          0.04042086140337597,
          0.04310381079739947,
          0.04857904608112767,
          0.05740166023263438,
          0.07879797138748013,
          0.15297857845734614,
          0.9666187268185602
         ],
         "xaxis": "x",
         "y": [
          0.08333333333333333,
          0.3670520231213873,
          0.3670520231213873,
          0.3670520231213873,
          0.3670520231213873,
          0.3670520231213873,
          0.3670520231213873,
          0,
          0.1111111111111111,
          1
         ],
         "yaxis": "y"
        },
        {
         "hoverinfo": "none",
         "line": {
          "color": "rgba(98,168,210,0.5)",
          "width": 0.5
         },
         "mode": "lines",
         "type": "scatter",
         "x": [
          0.008704867156157748,
          0.03209446673226856,
          0.036425874061177976,
          0.04042086140337597,
          0.04310381079739947,
          0.04857904608112767,
          0.05740166023263438,
          0.07879797138748013,
          0.15297857845734614,
          0.9666187268185602
         ],
         "xaxis": "x",
         "y": [
          0.3333333333333333,
          0.7391304347826086,
          0.7391304347826086,
          0.7391304347826086,
          0.59375,
          0.4117647058823529,
          0.4117647058823529,
          0.07692307692307693,
          0.1111111111111111,
          0
         ],
         "yaxis": "y"
        },
        {
         "hoverinfo": "none",
         "line": {
          "color": "rgba(80,155,203,0.5)",
          "width": 0.5
         },
         "mode": "lines",
         "type": "scatter",
         "x": [
          0.008704867156157748,
          0.03209446673226856,
          0.036425874061177976,
          0.04042086140337597,
          0.04310381079739947,
          0.04857904608112767,
          0.05740166023263438,
          0.07879797138748013,
          0.15297857845734614,
          0.9666187268185602
         ],
         "xaxis": "x",
         "y": [
          0.08333333333333333,
          0.3670520231213873,
          0.3670520231213873,
          0.3670520231213873,
          0.3670520231213873,
          0.3670520231213873,
          0.3670520231213873,
          0.07692307692307693,
          0.1111111111111111,
          1
         ],
         "yaxis": "y"
        },
        {
         "hoverinfo": "none",
         "line": {
          "color": "rgba(64,144,197,0.5)",
          "width": 0.5
         },
         "mode": "lines",
         "type": "scatter",
         "x": [
          0.008704867156157748,
          0.03209446673226856,
          0.036425874061177976,
          0.04042086140337597,
          0.04310381079739947,
          0.04857904608112767,
          0.05740166023263438,
          0.07879797138748013,
          0.15297857845734614,
          0.9666187268185602
         ],
         "xaxis": "x",
         "y": [
          0.08333333333333333,
          0.3670520231213873,
          0.3670520231213873,
          0.3670520231213873,
          0.3670520231213873,
          0.3670520231213873,
          0.3670520231213873,
          0,
          0.1111111111111111,
          1
         ],
         "yaxis": "y"
        },
        {
         "hoverinfo": "none",
         "line": {
          "color": "rgba(49,129,189,0.5)",
          "width": 0.5
         },
         "mode": "lines",
         "type": "scatter",
         "x": [
          0.008704867156157748,
          0.03209446673226856,
          0.036425874061177976,
          0.04042086140337597,
          0.04310381079739947,
          0.04857904608112767,
          0.05740166023263438,
          0.07879797138748013,
          0.15297857845734614,
          0.9666187268185602
         ],
         "xaxis": "x",
         "y": [
          0.3333333333333333,
          0.7391304347826086,
          0.7391304347826086,
          0.7391304347826086,
          0.59375,
          0.4117647058823529,
          0.4117647058823529,
          0.07692307692307693,
          0.1111111111111111,
          0
         ],
         "yaxis": "y"
        },
        {
         "hoverinfo": "none",
         "line": {
          "color": "rgba(36,116,182,0.5)",
          "width": 0.5
         },
         "mode": "lines",
         "type": "scatter",
         "x": [
          0.008704867156157748,
          0.03209446673226856,
          0.036425874061177976,
          0.04042086140337597,
          0.04310381079739947,
          0.04857904608112767,
          0.05740166023263438,
          0.07879797138748013,
          0.15297857845734614,
          0.9666187268185602
         ],
         "xaxis": "x",
         "y": [
          0.3333333333333333,
          0.7391304347826086,
          0.7391304347826086,
          0.7391304347826086,
          0.59375,
          0.4117647058823529,
          0.4117647058823529,
          0.07692307692307693,
          0.1111111111111111,
          0
         ],
         "yaxis": "y"
        },
        {
         "hoverinfo": "none",
         "line": {
          "color": "rgba(193,217,237,0.5)",
          "width": 0.5
         },
         "mode": "lines",
         "type": "scatter",
         "x": [
          0.008704867156157748,
          0.03209446673226856,
          0.036425874061177976,
          0.04042086140337597,
          0.04310381079739947,
          0.04857904608112767,
          0.05740166023263438,
          0.07879797138748013,
          0.15297857845734614,
          0.9666187268185602
         ],
         "xaxis": "x",
         "y": [
          0.3333333333333333,
          0.7391304347826086,
          0.7391304347826086,
          0.7391304347826086,
          0.59375,
          0.4117647058823529,
          0.4117647058823529,
          0.07692307692307693,
          0.1111111111111111,
          0
         ],
         "yaxis": "y"
        },
        {
         "hoverinfo": "none",
         "line": {
          "color": "rgba(177,210,231,0.5)",
          "width": 0.5
         },
         "mode": "lines",
         "type": "scatter",
         "x": [
          0.008704867156157748,
          0.03209446673226856,
          0.036425874061177976,
          0.04042086140337597,
          0.04310381079739947,
          0.04857904608112767,
          0.05740166023263438,
          0.07879797138748013,
          0.15297857845734614,
          0.9666187268185602
         ],
         "xaxis": "x",
         "y": [
          0.3333333333333333,
          0.7391304347826086,
          0.7391304347826086,
          0.7391304347826086,
          0.59375,
          0.3108108108108108,
          0.3108108108108108,
          0.07692307692307693,
          0.1111111111111111,
          0
         ],
         "yaxis": "y"
        },
        {
         "hoverinfo": "none",
         "line": {
          "color": "rgba(160,202,225,0.5)",
          "width": 0.5
         },
         "mode": "lines",
         "type": "scatter",
         "x": [
          0.008704867156157748,
          0.03209446673226856,
          0.036425874061177976,
          0.04042086140337597,
          0.04310381079739947,
          0.04857904608112767,
          0.05740166023263438,
          0.07879797138748013,
          0.15297857845734614,
          0.9666187268185602
         ],
         "xaxis": "x",
         "y": [
          0.3333333333333333,
          0.7391304347826086,
          0.7391304347826086,
          0.7391304347826086,
          0.59375,
          0.4117647058823529,
          0.4117647058823529,
          0.5,
          0.1111111111111111,
          0
         ],
         "yaxis": "y"
        },
        {
         "hoverinfo": "none",
         "line": {
          "color": "rgba(139,192,221,0.5)",
          "width": 0.5
         },
         "mode": "lines",
         "type": "scatter",
         "x": [
          0.008704867156157748,
          0.03209446673226856,
          0.036425874061177976,
          0.04042086140337597,
          0.04310381079739947,
          0.04857904608112767,
          0.05740166023263438,
          0.07879797138748013,
          0.15297857845734614,
          0.9666187268185602
         ],
         "xaxis": "x",
         "y": [
          0.3333333333333333,
          0.7391304347826086,
          0.7391304347826086,
          0.7391304347826086,
          0.59375,
          0.3108108108108108,
          0.3108108108108108,
          0.07692307692307693,
          0.1111111111111111,
          0
         ],
         "yaxis": "y"
        },
        {
         "hoverinfo": "none",
         "line": {
          "color": "rgba(117,179,216,0.5)",
          "width": 0.5
         },
         "mode": "lines",
         "type": "scatter",
         "x": [
          0.008704867156157748,
          0.03209446673226856,
          0.036425874061177976,
          0.04042086140337597,
          0.04310381079739947,
          0.04857904608112767,
          0.05740166023263438,
          0.07879797138748013,
          0.15297857845734614,
          0.9666187268185602
         ],
         "xaxis": "x",
         "y": [
          0.08333333333333333,
          0.3670520231213873,
          0.3670520231213873,
          0.3670520231213873,
          0.3670520231213873,
          0.3670520231213873,
          0.3670520231213873,
          0,
          0.1111111111111111,
          1
         ],
         "yaxis": "y"
        },
        {
         "hoverinfo": "none",
         "line": {
          "color": "rgba(98,168,210,0.5)",
          "width": 0.5
         },
         "mode": "lines",
         "type": "scatter",
         "x": [
          0.008704867156157748,
          0.03209446673226856,
          0.036425874061177976,
          0.04042086140337597,
          0.04310381079739947,
          0.04857904608112767,
          0.05740166023263438,
          0.07879797138748013,
          0.15297857845734614,
          0.9666187268185602
         ],
         "xaxis": "x",
         "y": [
          0.3333333333333333,
          0.7391304347826086,
          0.7391304347826086,
          0.7391304347826086,
          0.59375,
          0.4117647058823529,
          0.4117647058823529,
          0.07692307692307693,
          0.1111111111111111,
          0
         ],
         "yaxis": "y"
        },
        {
         "hoverinfo": "none",
         "line": {
          "color": "rgba(80,155,203,0.5)",
          "width": 0.5
         },
         "mode": "lines",
         "type": "scatter",
         "x": [
          0.008704867156157748,
          0.03209446673226856,
          0.036425874061177976,
          0.04042086140337597,
          0.04310381079739947,
          0.04857904608112767,
          0.05740166023263438,
          0.07879797138748013,
          0.15297857845734614,
          0.9666187268185602
         ],
         "xaxis": "x",
         "y": [
          0.3333333333333333,
          0.7391304347826086,
          0.7391304347826086,
          0.7391304347826086,
          0.59375,
          0.3108108108108108,
          0.3108108108108108,
          0.07692307692307693,
          0.1111111111111111,
          0
         ],
         "yaxis": "y"
        },
        {
         "hoverinfo": "none",
         "line": {
          "color": "rgba(64,144,197,0.5)",
          "width": 0.5
         },
         "mode": "lines",
         "type": "scatter",
         "x": [
          0.008704867156157748,
          0.03209446673226856,
          0.036425874061177976,
          0.04042086140337597,
          0.04310381079739947,
          0.04857904608112767,
          0.05740166023263438,
          0.07879797138748013,
          0.15297857845734614,
          0.9666187268185602
         ],
         "xaxis": "x",
         "y": [
          0.08333333333333333,
          0.3670520231213873,
          0.3670520231213873,
          0.3670520231213873,
          0.3670520231213873,
          0.3670520231213873,
          0.3670520231213873,
          0,
          0.25,
          1
         ],
         "yaxis": "y"
        },
        {
         "hoverinfo": "none",
         "line": {
          "color": "rgba(49,129,189,0.5)",
          "width": 0.5
         },
         "mode": "lines",
         "type": "scatter",
         "x": [
          0.008704867156157748,
          0.03209446673226856,
          0.036425874061177976,
          0.04042086140337597,
          0.04310381079739947,
          0.04857904608112767,
          0.05740166023263438,
          0.07879797138748013,
          0.15297857845734614,
          0.9666187268185602
         ],
         "xaxis": "x",
         "y": [
          0.08333333333333333,
          0.3670520231213873,
          0.3670520231213873,
          0.3670520231213873,
          0.3670520231213873,
          0.3670520231213873,
          0.3670520231213873,
          0,
          0.1111111111111111,
          1
         ],
         "yaxis": "y"
        },
        {
         "hoverinfo": "none",
         "line": {
          "color": "rgba(36,116,182,0.5)",
          "width": 0.5
         },
         "mode": "lines",
         "type": "scatter",
         "x": [
          0.008704867156157748,
          0.03209446673226856,
          0.036425874061177976,
          0.04042086140337597,
          0.04310381079739947,
          0.04857904608112767,
          0.05740166023263438,
          0.07879797138748013,
          0.15297857845734614,
          0.9666187268185602
         ],
         "xaxis": "x",
         "y": [
          0.08333333333333333,
          0.3670520231213873,
          0.3670520231213873,
          0.3670520231213873,
          0.3670520231213873,
          0.3670520231213873,
          0.3670520231213873,
          0,
          0.1111111111111111,
          1
         ],
         "yaxis": "y"
        },
        {
         "hoverinfo": "none",
         "line": {
          "color": "rgba(193,217,237,0.5)",
          "width": 0.5
         },
         "mode": "lines",
         "type": "scatter",
         "x": [
          0.008704867156157748,
          0.03209446673226856,
          0.036425874061177976,
          0.04042086140337597,
          0.04310381079739947,
          0.04857904608112767,
          0.05740166023263438,
          0.07879797138748013,
          0.15297857845734614,
          0.9666187268185602
         ],
         "xaxis": "x",
         "y": [
          0.08333333333333333,
          0.3670520231213873,
          0.3670520231213873,
          0.3670520231213873,
          0.3670520231213873,
          0.3670520231213873,
          0.3670520231213873,
          0,
          0.1111111111111111,
          1
         ],
         "yaxis": "y"
        },
        {
         "hoverinfo": "none",
         "line": {
          "color": "rgba(177,210,231,0.5)",
          "width": 0.5
         },
         "mode": "lines",
         "type": "scatter",
         "x": [
          0.008704867156157748,
          0.03209446673226856,
          0.036425874061177976,
          0.04042086140337597,
          0.04310381079739947,
          0.04857904608112767,
          0.05740166023263438,
          0.07879797138748013,
          0.15297857845734614,
          0.9666187268185602
         ],
         "xaxis": "x",
         "y": [
          0.08333333333333333,
          0.3670520231213873,
          0.3670520231213873,
          0.3670520231213873,
          0.3670520231213873,
          0.3670520231213873,
          0.3670520231213873,
          0.07692307692307693,
          0.1111111111111111,
          1
         ],
         "yaxis": "y"
        },
        {
         "hoverinfo": "none",
         "line": {
          "color": "rgba(160,202,225,0.5)",
          "width": 0.5
         },
         "mode": "lines",
         "type": "scatter",
         "x": [
          0.008704867156157748,
          0.03209446673226856,
          0.036425874061177976,
          0.04042086140337597,
          0.04310381079739947,
          0.04857904608112767,
          0.05740166023263438,
          0.07879797138748013,
          0.15297857845734614,
          0.9666187268185602
         ],
         "xaxis": "x",
         "y": [
          0.08333333333333333,
          0.3670520231213873,
          0.3670520231213873,
          0.3670520231213873,
          0.3670520231213873,
          0.3670520231213873,
          0.3670520231213873,
          0.07692307692307693,
          0.1111111111111111,
          1
         ],
         "yaxis": "y"
        },
        {
         "hoverinfo": "none",
         "line": {
          "color": "rgba(139,192,221,0.5)",
          "width": 0.5
         },
         "mode": "lines",
         "type": "scatter",
         "x": [
          0.008704867156157748,
          0.03209446673226856,
          0.036425874061177976,
          0.04042086140337597,
          0.04310381079739947,
          0.04857904608112767,
          0.05740166023263438,
          0.07879797138748013,
          0.15297857845734614,
          0.9666187268185602
         ],
         "xaxis": "x",
         "y": [
          0.3333333333333333,
          0.7391304347826086,
          0.7391304347826086,
          0.7391304347826086,
          0.59375,
          0.4117647058823529,
          0.4117647058823529,
          0.07692307692307693,
          0.1111111111111111,
          0
         ],
         "yaxis": "y"
        },
        {
         "hoverinfo": "none",
         "line": {
          "color": "rgba(117,179,216,0.5)",
          "width": 0.5
         },
         "mode": "lines",
         "type": "scatter",
         "x": [
          0.008704867156157748,
          0.03209446673226856,
          0.036425874061177976,
          0.04042086140337597,
          0.04310381079739947,
          0.04857904608112767,
          0.05740166023263438,
          0.07879797138748013,
          0.15297857845734614,
          0.9666187268185602
         ],
         "xaxis": "x",
         "y": [
          0.08333333333333333,
          0.3670520231213873,
          0.3670520231213873,
          0.3670520231213873,
          0.3670520231213873,
          0.3670520231213873,
          0.3670520231213873,
          0,
          0.1111111111111111,
          1
         ],
         "yaxis": "y"
        },
        {
         "hoverinfo": "none",
         "line": {
          "color": "rgba(98,168,210,0.5)",
          "width": 0.5
         },
         "mode": "lines",
         "type": "scatter",
         "x": [
          0.008704867156157748,
          0.03209446673226856,
          0.036425874061177976,
          0.04042086140337597,
          0.04310381079739947,
          0.04857904608112767,
          0.05740166023263438,
          0.07879797138748013,
          0.15297857845734614,
          0.9666187268185602
         ],
         "xaxis": "x",
         "y": [
          0.3333333333333333,
          0.7391304347826086,
          0.7391304347826086,
          0.7391304347826086,
          0.59375,
          0.4117647058823529,
          0.4117647058823529,
          0.5,
          0.1111111111111111,
          0
         ],
         "yaxis": "y"
        },
        {
         "hoverinfo": "none",
         "line": {
          "color": "rgba(80,155,203,0.5)",
          "width": 0.5
         },
         "mode": "lines",
         "type": "scatter",
         "x": [
          0.008704867156157748,
          0.03209446673226856,
          0.036425874061177976,
          0.04042086140337597,
          0.04310381079739947,
          0.04857904608112767,
          0.05740166023263438,
          0.07879797138748013,
          0.15297857845734614,
          0.9666187268185602
         ],
         "xaxis": "x",
         "y": [
          0.08333333333333333,
          0.3670520231213873,
          0.3670520231213873,
          0.3670520231213873,
          0.3670520231213873,
          0.3670520231213873,
          0.3670520231213873,
          0.07692307692307693,
          0.1111111111111111,
          1
         ],
         "yaxis": "y"
        },
        {
         "hoverinfo": "none",
         "line": {
          "color": "rgba(64,144,197,0.5)",
          "width": 0.5
         },
         "mode": "lines",
         "type": "scatter",
         "x": [
          0.008704867156157748,
          0.03209446673226856,
          0.036425874061177976,
          0.04042086140337597,
          0.04310381079739947,
          0.04857904608112767,
          0.05740166023263438,
          0.07879797138748013,
          0.15297857845734614,
          0.9666187268185602
         ],
         "xaxis": "x",
         "y": [
          0.3333333333333333,
          0.7391304347826086,
          0.7391304347826086,
          0.7391304347826086,
          0.59375,
          0.4117647058823529,
          0.4117647058823529,
          0.07692307692307693,
          0.1111111111111111,
          0
         ],
         "yaxis": "y"
        },
        {
         "hoverinfo": "none",
         "line": {
          "color": "rgba(49,129,189,0.5)",
          "width": 0.5
         },
         "mode": "lines",
         "type": "scatter",
         "x": [
          0.008704867156157748,
          0.03209446673226856,
          0.036425874061177976,
          0.04042086140337597,
          0.04310381079739947,
          0.04857904608112767,
          0.05740166023263438,
          0.07879797138748013,
          0.15297857845734614,
          0.9666187268185602
         ],
         "xaxis": "x",
         "y": [
          0.3333333333333333,
          0.7391304347826086,
          0.7391304347826086,
          0.7391304347826086,
          0.59375,
          0.3108108108108108,
          0.3108108108108108,
          0.07692307692307693,
          0.1111111111111111,
          0
         ],
         "yaxis": "y"
        },
        {
         "hoverinfo": "none",
         "line": {
          "color": "rgba(36,116,182,0.5)",
          "width": 0.5
         },
         "mode": "lines",
         "type": "scatter",
         "x": [
          0.008704867156157748,
          0.03209446673226856,
          0.036425874061177976,
          0.04042086140337597,
          0.04310381079739947,
          0.04857904608112767,
          0.05740166023263438,
          0.07879797138748013,
          0.15297857845734614,
          0.9666187268185602
         ],
         "xaxis": "x",
         "y": [
          0.08333333333333333,
          0.3670520231213873,
          0.3670520231213873,
          0.3670520231213873,
          0.3670520231213873,
          0.3670520231213873,
          0.3670520231213873,
          0,
          0.25,
          1
         ],
         "yaxis": "y"
        },
        {
         "hoverinfo": "none",
         "line": {
          "color": "rgba(193,217,237,0.5)",
          "width": 0.5
         },
         "mode": "lines",
         "type": "scatter",
         "x": [
          0.008704867156157748,
          0.03209446673226856,
          0.036425874061177976,
          0.04042086140337597,
          0.04310381079739947,
          0.04857904608112767,
          0.05740166023263438,
          0.07879797138748013,
          0.15297857845734614,
          0.9666187268185602
         ],
         "xaxis": "x",
         "y": [
          0.08333333333333333,
          0.3670520231213873,
          0.3670520231213873,
          0.3670520231213873,
          0.3670520231213873,
          0.3670520231213873,
          0.3670520231213873,
          0.07692307692307693,
          0.1111111111111111,
          1
         ],
         "yaxis": "y"
        },
        {
         "hoverinfo": "none",
         "line": {
          "color": "rgba(177,210,231,0.5)",
          "width": 0.5
         },
         "mode": "lines",
         "type": "scatter",
         "x": [
          0.008704867156157748,
          0.03209446673226856,
          0.036425874061177976,
          0.04042086140337597,
          0.04310381079739947,
          0.04857904608112767,
          0.05740166023263438,
          0.07879797138748013,
          0.15297857845734614,
          0.9666187268185602
         ],
         "xaxis": "x",
         "y": [
          0.3333333333333333,
          0.7391304347826086,
          0.7391304347826086,
          0.7391304347826086,
          0.59375,
          0.3108108108108108,
          0.3108108108108108,
          0.07692307692307693,
          0.1111111111111111,
          0
         ],
         "yaxis": "y"
        },
        {
         "hoverinfo": "none",
         "line": {
          "color": "rgba(160,202,225,0.5)",
          "width": 0.5
         },
         "mode": "lines",
         "type": "scatter",
         "x": [
          0.008704867156157748,
          0.03209446673226856,
          0.036425874061177976,
          0.04042086140337597,
          0.04310381079739947,
          0.04857904608112767,
          0.05740166023263438,
          0.07879797138748013,
          0.15297857845734614,
          0.9666187268185602
         ],
         "xaxis": "x",
         "y": [
          0.3333333333333333,
          0.7391304347826086,
          0.7391304347826086,
          0.7391304347826086,
          0.59375,
          0.3108108108108108,
          0.3108108108108108,
          0.07692307692307693,
          0.1111111111111111,
          0
         ],
         "yaxis": "y"
        },
        {
         "hoverinfo": "none",
         "line": {
          "color": "rgba(139,192,221,0.5)",
          "width": 0.5
         },
         "mode": "lines",
         "type": "scatter",
         "x": [
          0.008704867156157748,
          0.03209446673226856,
          0.036425874061177976,
          0.04042086140337597,
          0.04310381079739947,
          0.04857904608112767,
          0.05740166023263438,
          0.07879797138748013,
          0.15297857845734614,
          0.9666187268185602
         ],
         "xaxis": "x",
         "y": [
          0.08333333333333333,
          0.3670520231213873,
          0.3670520231213873,
          0.3670520231213873,
          0.3670520231213873,
          0.3670520231213873,
          0.3670520231213873,
          0.07692307692307693,
          0.1111111111111111,
          1
         ],
         "yaxis": "y"
        },
        {
         "hoverinfo": "none",
         "line": {
          "color": "rgba(117,179,216,0.5)",
          "width": 0.5
         },
         "mode": "lines",
         "type": "scatter",
         "x": [
          0.008704867156157748,
          0.03209446673226856,
          0.036425874061177976,
          0.04042086140337597,
          0.04310381079739947,
          0.04857904608112767,
          0.05740166023263438,
          0.07879797138748013,
          0.15297857845734614,
          0.9666187268185602
         ],
         "xaxis": "x",
         "y": [
          0.3333333333333333,
          0.7391304347826086,
          0.7391304347826086,
          0.7391304347826086,
          0.59375,
          0.4117647058823529,
          0.4117647058823529,
          0.07692307692307693,
          0.1111111111111111,
          0
         ],
         "yaxis": "y"
        },
        {
         "hoverinfo": "none",
         "line": {
          "color": "rgba(98,168,210,0.5)",
          "width": 0.5
         },
         "mode": "lines",
         "type": "scatter",
         "x": [
          0.008704867156157748,
          0.03209446673226856,
          0.036425874061177976,
          0.04042086140337597,
          0.04310381079739947,
          0.04857904608112767,
          0.05740166023263438,
          0.07879797138748013,
          0.15297857845734614,
          0.9666187268185602
         ],
         "xaxis": "x",
         "y": [
          0.08333333333333333,
          0.3670520231213873,
          0.3670520231213873,
          0.3670520231213873,
          0.3670520231213873,
          0.3670520231213873,
          0.3670520231213873,
          0,
          0.25,
          1
         ],
         "yaxis": "y"
        },
        {
         "hoverinfo": "none",
         "line": {
          "color": "rgba(80,155,203,0.5)",
          "width": 0.5
         },
         "mode": "lines",
         "type": "scatter",
         "x": [
          0.008704867156157748,
          0.03209446673226856,
          0.036425874061177976,
          0.04042086140337597,
          0.04310381079739947,
          0.04857904608112767,
          0.05740166023263438,
          0.07879797138748013,
          0.15297857845734614,
          0.9666187268185602
         ],
         "xaxis": "x",
         "y": [
          0.08333333333333333,
          0.3670520231213873,
          0.3670520231213873,
          0.3670520231213873,
          0.3670520231213873,
          0.3670520231213873,
          0.3670520231213873,
          0,
          0.25,
          1
         ],
         "yaxis": "y"
        },
        {
         "hoverinfo": "none",
         "line": {
          "color": "rgba(64,144,197,0.5)",
          "width": 0.5
         },
         "mode": "lines",
         "type": "scatter",
         "x": [
          0.008704867156157748,
          0.03209446673226856,
          0.036425874061177976,
          0.04042086140337597,
          0.04310381079739947,
          0.04857904608112767,
          0.05740166023263438,
          0.07879797138748013,
          0.15297857845734614,
          0.9666187268185602
         ],
         "xaxis": "x",
         "y": [
          0.08333333333333333,
          0.3670520231213873,
          0.3670520231213873,
          0.3670520231213873,
          0.3670520231213873,
          0.3670520231213873,
          0.3670520231213873,
          0,
          0.1111111111111111,
          1
         ],
         "yaxis": "y"
        },
        {
         "hoverinfo": "none",
         "line": {
          "color": "rgba(49,129,189,0.5)",
          "width": 0.5
         },
         "mode": "lines",
         "type": "scatter",
         "x": [
          0.008704867156157748,
          0.03209446673226856,
          0.036425874061177976,
          0.04042086140337597,
          0.04310381079739947,
          0.04857904608112767,
          0.05740166023263438,
          0.07879797138748013,
          0.15297857845734614,
          0.9666187268185602
         ],
         "xaxis": "x",
         "y": [
          0.08333333333333333,
          0.3670520231213873,
          0.3670520231213873,
          0.3670520231213873,
          0.3670520231213873,
          0.3670520231213873,
          0.3670520231213873,
          0,
          0.1111111111111111,
          1
         ],
         "yaxis": "y"
        },
        {
         "hoverinfo": "none",
         "line": {
          "color": "rgba(36,116,182,0.5)",
          "width": 0.5
         },
         "mode": "lines",
         "type": "scatter",
         "x": [
          0.008704867156157748,
          0.03209446673226856,
          0.036425874061177976,
          0.04042086140337597,
          0.04310381079739947,
          0.04857904608112767,
          0.05740166023263438,
          0.07879797138748013,
          0.15297857845734614,
          0.9666187268185602
         ],
         "xaxis": "x",
         "y": [
          0.3333333333333333,
          0.7391304347826086,
          0.7391304347826086,
          0.7391304347826086,
          0.59375,
          0.3108108108108108,
          0.3108108108108108,
          0.07692307692307693,
          0.1111111111111111,
          0
         ],
         "yaxis": "y"
        },
        {
         "hoverinfo": "none",
         "line": {
          "color": "rgba(193,217,237,0.5)",
          "width": 0.5
         },
         "mode": "lines",
         "type": "scatter",
         "x": [
          0.008704867156157748,
          0.03209446673226856,
          0.036425874061177976,
          0.04042086140337597,
          0.04310381079739947,
          0.04857904608112767,
          0.05740166023263438,
          0.07879797138748013,
          0.15297857845734614,
          0.9666187268185602
         ],
         "xaxis": "x",
         "y": [
          0.3333333333333333,
          0.7391304347826086,
          0.7391304347826086,
          0.7391304347826086,
          0.59375,
          0.3108108108108108,
          0.3108108108108108,
          0.07692307692307693,
          0.1111111111111111,
          0
         ],
         "yaxis": "y"
        },
        {
         "hoverinfo": "none",
         "line": {
          "color": "rgba(177,210,231,0.5)",
          "width": 0.5
         },
         "mode": "lines",
         "type": "scatter",
         "x": [
          0.008704867156157748,
          0.03209446673226856,
          0.036425874061177976,
          0.04042086140337597,
          0.04310381079739947,
          0.04857904608112767,
          0.05740166023263438,
          0.07879797138748013,
          0.15297857845734614,
          0.9666187268185602
         ],
         "xaxis": "x",
         "y": [
          0.08333333333333333,
          0.3670520231213873,
          0.3670520231213873,
          0.3670520231213873,
          0.3670520231213873,
          0.3670520231213873,
          0.3670520231213873,
          0.07692307692307693,
          0.1111111111111111,
          1
         ],
         "yaxis": "y"
        },
        {
         "hoverinfo": "none",
         "line": {
          "color": "rgba(160,202,225,0.5)",
          "width": 0.5
         },
         "mode": "lines",
         "type": "scatter",
         "x": [
          0.008704867156157748,
          0.03209446673226856,
          0.036425874061177976,
          0.04042086140337597,
          0.04310381079739947,
          0.04857904608112767,
          0.05740166023263438,
          0.07879797138748013,
          0.15297857845734614,
          0.9666187268185602
         ],
         "xaxis": "x",
         "y": [
          0.3333333333333333,
          0.7391304347826086,
          0.7391304347826086,
          0.7391304347826086,
          0.59375,
          0.3108108108108108,
          0.3108108108108108,
          0.07692307692307693,
          0.1111111111111111,
          0
         ],
         "yaxis": "y"
        },
        {
         "hoverinfo": "none",
         "line": {
          "color": "rgba(139,192,221,0.5)",
          "width": 0.5
         },
         "mode": "lines",
         "type": "scatter",
         "x": [
          0.008704867156157748,
          0.03209446673226856,
          0.036425874061177976,
          0.04042086140337597,
          0.04310381079739947,
          0.04857904608112767,
          0.05740166023263438,
          0.07879797138748013,
          0.15297857845734614,
          0.9666187268185602
         ],
         "xaxis": "x",
         "y": [
          0.08333333333333333,
          0.3670520231213873,
          0.3670520231213873,
          0.3670520231213873,
          0.3670520231213873,
          0.3670520231213873,
          0.3670520231213873,
          0.07692307692307693,
          0.1111111111111111,
          1
         ],
         "yaxis": "y"
        },
        {
         "hoverinfo": "none",
         "line": {
          "color": "rgba(117,179,216,0.5)",
          "width": 0.5
         },
         "mode": "lines",
         "type": "scatter",
         "x": [
          0.008704867156157748,
          0.03209446673226856,
          0.036425874061177976,
          0.04042086140337597,
          0.04310381079739947,
          0.04857904608112767,
          0.05740166023263438,
          0.07879797138748013,
          0.15297857845734614,
          0.9666187268185602
         ],
         "xaxis": "x",
         "y": [
          0.3333333333333333,
          0.7391304347826086,
          0.7391304347826086,
          0.7391304347826086,
          0.59375,
          0.4117647058823529,
          0.4117647058823529,
          0.07692307692307693,
          0.1111111111111111,
          0
         ],
         "yaxis": "y"
        },
        {
         "hoverinfo": "none",
         "line": {
          "color": "rgba(98,168,210,0.5)",
          "width": 0.5
         },
         "mode": "lines",
         "type": "scatter",
         "x": [
          0.008704867156157748,
          0.03209446673226856,
          0.036425874061177976,
          0.04042086140337597,
          0.04310381079739947,
          0.04857904608112767,
          0.05740166023263438,
          0.07879797138748013,
          0.15297857845734614,
          0.9666187268185602
         ],
         "xaxis": "x",
         "y": [
          0.08333333333333333,
          0.3670520231213873,
          0.3670520231213873,
          0.3670520231213873,
          0.3670520231213873,
          0.3670520231213873,
          0.3670520231213873,
          0,
          0.1111111111111111,
          1
         ],
         "yaxis": "y"
        },
        {
         "hoverinfo": "none",
         "line": {
          "color": "rgba(80,155,203,0.5)",
          "width": 0.5
         },
         "mode": "lines",
         "type": "scatter",
         "x": [
          0.008704867156157748,
          0.03209446673226856,
          0.036425874061177976,
          0.04042086140337597,
          0.04310381079739947,
          0.04857904608112767,
          0.05740166023263438,
          0.07879797138748013,
          0.15297857845734614,
          0.9666187268185602
         ],
         "xaxis": "x",
         "y": [
          0.3333333333333333,
          0.7391304347826086,
          0.7391304347826086,
          0.7391304347826086,
          0.59375,
          0.3108108108108108,
          0.3108108108108108,
          0.07692307692307693,
          0.1111111111111111,
          0
         ],
         "yaxis": "y"
        },
        {
         "hoverinfo": "none",
         "line": {
          "color": "rgba(64,144,197,0.5)",
          "width": 0.5
         },
         "mode": "lines",
         "type": "scatter",
         "x": [
          0.008704867156157748,
          0.03209446673226856,
          0.036425874061177976,
          0.04042086140337597,
          0.04310381079739947,
          0.04857904608112767,
          0.05740166023263438,
          0.07879797138748013,
          0.15297857845734614,
          0.9666187268185602
         ],
         "xaxis": "x",
         "y": [
          0.08333333333333333,
          0.3670520231213873,
          0.3670520231213873,
          0.3670520231213873,
          0.3670520231213873,
          0.3670520231213873,
          0.3670520231213873,
          0.07692307692307693,
          0.1111111111111111,
          1
         ],
         "yaxis": "y"
        },
        {
         "hoverinfo": "none",
         "line": {
          "color": "rgba(49,129,189,0.5)",
          "width": 0.5
         },
         "mode": "lines",
         "type": "scatter",
         "x": [
          0.008704867156157748,
          0.03209446673226856,
          0.036425874061177976,
          0.04042086140337597,
          0.04310381079739947,
          0.04857904608112767,
          0.05740166023263438,
          0.07879797138748013,
          0.15297857845734614,
          0.9666187268185602
         ],
         "xaxis": "x",
         "y": [
          0.3333333333333333,
          0.7391304347826086,
          0.7391304347826086,
          0.7391304347826086,
          0.59375,
          0.3108108108108108,
          0.3108108108108108,
          0.07692307692307693,
          0.1111111111111111,
          0
         ],
         "yaxis": "y"
        },
        {
         "hoverinfo": "none",
         "line": {
          "color": "rgba(36,116,182,0.5)",
          "width": 0.5
         },
         "mode": "lines",
         "type": "scatter",
         "x": [
          0.008704867156157748,
          0.03209446673226856,
          0.036425874061177976,
          0.04042086140337597,
          0.04310381079739947,
          0.04857904608112767,
          0.05740166023263438,
          0.07879797138748013,
          0.15297857845734614,
          0.9666187268185602
         ],
         "xaxis": "x",
         "y": [
          0.08333333333333333,
          0.3670520231213873,
          0.3670520231213873,
          0.3670520231213873,
          0.3670520231213873,
          0.3670520231213873,
          0.3670520231213873,
          0,
          0.1111111111111111,
          1
         ],
         "yaxis": "y"
        },
        {
         "hoverinfo": "none",
         "line": {
          "color": "rgba(193,217,237,0.5)",
          "width": 0.5
         },
         "mode": "lines",
         "type": "scatter",
         "x": [
          0.008704867156157748,
          0.03209446673226856,
          0.036425874061177976,
          0.04042086140337597,
          0.04310381079739947,
          0.04857904608112767,
          0.05740166023263438,
          0.07879797138748013,
          0.15297857845734614,
          0.9666187268185602
         ],
         "xaxis": "x",
         "y": [
          0.3333333333333333,
          0.7391304347826086,
          0.7391304347826086,
          0.7391304347826086,
          0.59375,
          0.3108108108108108,
          0.3108108108108108,
          0.07692307692307693,
          0.1111111111111111,
          0
         ],
         "yaxis": "y"
        },
        {
         "hoverinfo": "none",
         "line": {
          "color": "rgba(177,210,231,0.5)",
          "width": 0.5
         },
         "mode": "lines",
         "type": "scatter",
         "x": [
          0.008704867156157748,
          0.03209446673226856,
          0.036425874061177976,
          0.04042086140337597,
          0.04310381079739947,
          0.04857904608112767,
          0.05740166023263438,
          0.07879797138748013,
          0.15297857845734614,
          0.9666187268185602
         ],
         "xaxis": "x",
         "y": [
          0.3333333333333333,
          0.7391304347826086,
          0.7391304347826086,
          0.7391304347826086,
          0.59375,
          0.3108108108108108,
          0.3108108108108108,
          0.07692307692307693,
          0.1111111111111111,
          0
         ],
         "yaxis": "y"
        },
        {
         "hoverinfo": "none",
         "line": {
          "color": "rgba(160,202,225,0.5)",
          "width": 0.5
         },
         "mode": "lines",
         "type": "scatter",
         "x": [
          0.008704867156157748,
          0.03209446673226856,
          0.036425874061177976,
          0.04042086140337597,
          0.04310381079739947,
          0.04857904608112767,
          0.05740166023263438,
          0.07879797138748013,
          0.15297857845734614,
          0.9666187268185602
         ],
         "xaxis": "x",
         "y": [
          0.3333333333333333,
          0.7391304347826086,
          0.7391304347826086,
          0.7391304347826086,
          0.59375,
          0.3108108108108108,
          0.3108108108108108,
          0.07692307692307693,
          0.1111111111111111,
          0
         ],
         "yaxis": "y"
        },
        {
         "hoverinfo": "none",
         "line": {
          "color": "rgba(139,192,221,0.5)",
          "width": 0.5
         },
         "mode": "lines",
         "type": "scatter",
         "x": [
          0.008704867156157748,
          0.03209446673226856,
          0.036425874061177976,
          0.04042086140337597,
          0.04310381079739947,
          0.04857904608112767,
          0.05740166023263438,
          0.07879797138748013,
          0.15297857845734614,
          0.9666187268185602
         ],
         "xaxis": "x",
         "y": [
          0.3333333333333333,
          0.7391304347826086,
          0.7391304347826086,
          0.7391304347826086,
          0.59375,
          0.3108108108108108,
          0.3108108108108108,
          0.07692307692307693,
          0.1111111111111111,
          0
         ],
         "yaxis": "y"
        },
        {
         "hoverinfo": "none",
         "line": {
          "color": "rgba(117,179,216,0.5)",
          "width": 0.5
         },
         "mode": "lines",
         "type": "scatter",
         "x": [
          0.008704867156157748,
          0.03209446673226856,
          0.036425874061177976,
          0.04042086140337597,
          0.04310381079739947,
          0.04857904608112767,
          0.05740166023263438,
          0.07879797138748013,
          0.15297857845734614,
          0.9666187268185602
         ],
         "xaxis": "x",
         "y": [
          0.3333333333333333,
          0.7391304347826086,
          0.7391304347826086,
          0.7391304347826086,
          0.59375,
          0.3108108108108108,
          0.3108108108108108,
          0.07692307692307693,
          0.1111111111111111,
          0
         ],
         "yaxis": "y"
        },
        {
         "hoverinfo": "none",
         "line": {
          "color": "rgba(98,168,210,0.5)",
          "width": 0.5
         },
         "mode": "lines",
         "type": "scatter",
         "x": [
          0.008704867156157748,
          0.03209446673226856,
          0.036425874061177976,
          0.04042086140337597,
          0.04310381079739947,
          0.04857904608112767,
          0.05740166023263438,
          0.07879797138748013,
          0.15297857845734614,
          0.9666187268185602
         ],
         "xaxis": "x",
         "y": [
          0.08333333333333333,
          0.3670520231213873,
          0.3670520231213873,
          0.3670520231213873,
          0.3670520231213873,
          0.3670520231213873,
          0.3670520231213873,
          0,
          0.1111111111111111,
          1
         ],
         "yaxis": "y"
        },
        {
         "hoverinfo": "none",
         "line": {
          "color": "rgba(80,155,203,0.5)",
          "width": 0.5
         },
         "mode": "lines",
         "type": "scatter",
         "x": [
          0.008704867156157748,
          0.03209446673226856,
          0.036425874061177976,
          0.04042086140337597,
          0.04310381079739947,
          0.04857904608112767,
          0.05740166023263438,
          0.07879797138748013,
          0.15297857845734614,
          0.9666187268185602
         ],
         "xaxis": "x",
         "y": [
          0.3333333333333333,
          0.7391304347826086,
          0.7391304347826086,
          0.7391304347826086,
          0.59375,
          0.3108108108108108,
          0.3108108108108108,
          0.07692307692307693,
          0.1111111111111111,
          0
         ],
         "yaxis": "y"
        },
        {
         "hoverinfo": "none",
         "line": {
          "color": "rgba(64,144,197,0.5)",
          "width": 0.5
         },
         "mode": "lines",
         "type": "scatter",
         "x": [
          0.008704867156157748,
          0.03209446673226856,
          0.036425874061177976,
          0.04042086140337597,
          0.04310381079739947,
          0.04857904608112767,
          0.05740166023263438,
          0.07879797138748013,
          0.15297857845734614,
          0.9666187268185602
         ],
         "xaxis": "x",
         "y": [
          0.08333333333333333,
          0.3670520231213873,
          0.3670520231213873,
          0.3670520231213873,
          0.3670520231213873,
          0.3670520231213873,
          0.3670520231213873,
          0,
          0.1111111111111111,
          1
         ],
         "yaxis": "y"
        },
        {
         "hoverinfo": "none",
         "line": {
          "color": "rgba(49,129,189,0.5)",
          "width": 0.5
         },
         "mode": "lines",
         "type": "scatter",
         "x": [
          0.008704867156157748,
          0.03209446673226856,
          0.036425874061177976,
          0.04042086140337597,
          0.04310381079739947,
          0.04857904608112767,
          0.05740166023263438,
          0.07879797138748013,
          0.15297857845734614,
          0.9666187268185602
         ],
         "xaxis": "x",
         "y": [
          0.3333333333333333,
          0.7391304347826086,
          0.7391304347826086,
          0.7391304347826086,
          0.59375,
          0.4117647058823529,
          0.4117647058823529,
          0.07692307692307693,
          0.1111111111111111,
          0
         ],
         "yaxis": "y"
        },
        {
         "hoverinfo": "none",
         "line": {
          "color": "rgba(36,116,182,0.5)",
          "width": 0.5
         },
         "mode": "lines",
         "type": "scatter",
         "x": [
          0.008704867156157748,
          0.03209446673226856,
          0.036425874061177976,
          0.04042086140337597,
          0.04310381079739947,
          0.04857904608112767,
          0.05740166023263438,
          0.07879797138748013,
          0.15297857845734614,
          0.9666187268185602
         ],
         "xaxis": "x",
         "y": [
          0.08333333333333333,
          0.3670520231213873,
          0.3670520231213873,
          0.3670520231213873,
          0.3670520231213873,
          0.3670520231213873,
          0.3670520231213873,
          0.07692307692307693,
          0.1111111111111111,
          1
         ],
         "yaxis": "y"
        },
        {
         "hoverinfo": "none",
         "line": {
          "color": "rgba(193,217,237,0.5)",
          "width": 0.5
         },
         "mode": "lines",
         "type": "scatter",
         "x": [
          0.008704867156157748,
          0.03209446673226856,
          0.036425874061177976,
          0.04042086140337597,
          0.04310381079739947,
          0.04857904608112767,
          0.05740166023263438,
          0.07879797138748013,
          0.15297857845734614,
          0.9666187268185602
         ],
         "xaxis": "x",
         "y": [
          0.3333333333333333,
          0.7391304347826086,
          0.7391304347826086,
          0.7391304347826086,
          0.59375,
          0.3108108108108108,
          0.3108108108108108,
          0.07692307692307693,
          0.1111111111111111,
          0
         ],
         "yaxis": "y"
        },
        {
         "hoverinfo": "none",
         "line": {
          "color": "rgba(177,210,231,0.5)",
          "width": 0.5
         },
         "mode": "lines",
         "type": "scatter",
         "x": [
          0.008704867156157748,
          0.03209446673226856,
          0.036425874061177976,
          0.04042086140337597,
          0.04310381079739947,
          0.04857904608112767,
          0.05740166023263438,
          0.07879797138748013,
          0.15297857845734614,
          0.9666187268185602
         ],
         "xaxis": "x",
         "y": [
          0.3333333333333333,
          0.7391304347826086,
          0.7391304347826086,
          0.7391304347826086,
          0.59375,
          0.3108108108108108,
          0.3108108108108108,
          0.07692307692307693,
          0.1111111111111111,
          0
         ],
         "yaxis": "y"
        },
        {
         "hoverinfo": "none",
         "line": {
          "color": "rgba(160,202,225,0.5)",
          "width": 0.5
         },
         "mode": "lines",
         "type": "scatter",
         "x": [
          0.008704867156157748,
          0.03209446673226856,
          0.036425874061177976,
          0.04042086140337597,
          0.04310381079739947,
          0.04857904608112767,
          0.05740166023263438,
          0.07879797138748013,
          0.15297857845734614,
          0.9666187268185602
         ],
         "xaxis": "x",
         "y": [
          0.3333333333333333,
          0.7391304347826086,
          0.7391304347826086,
          0.7391304347826086,
          0.59375,
          0.3108108108108108,
          0.3108108108108108,
          0.07692307692307693,
          0.1111111111111111,
          0
         ],
         "yaxis": "y"
        },
        {
         "hoverinfo": "none",
         "line": {
          "color": "rgba(139,192,221,0.5)",
          "width": 0.5
         },
         "mode": "lines",
         "type": "scatter",
         "x": [
          0.008704867156157748,
          0.03209446673226856,
          0.036425874061177976,
          0.04042086140337597,
          0.04310381079739947,
          0.04857904608112767,
          0.05740166023263438,
          0.07879797138748013,
          0.15297857845734614,
          0.9666187268185602
         ],
         "xaxis": "x",
         "y": [
          0.3333333333333333,
          0.7391304347826086,
          0.7391304347826086,
          0.7391304347826086,
          0.59375,
          0.4117647058823529,
          0.4117647058823529,
          0.07692307692307693,
          0.1111111111111111,
          0
         ],
         "yaxis": "y"
        },
        {
         "hoverinfo": "none",
         "line": {
          "color": "rgba(117,179,216,0.5)",
          "width": 0.5
         },
         "mode": "lines",
         "type": "scatter",
         "x": [
          0.008704867156157748,
          0.03209446673226856,
          0.036425874061177976,
          0.04042086140337597,
          0.04310381079739947,
          0.04857904608112767,
          0.05740166023263438,
          0.07879797138748013,
          0.15297857845734614,
          0.9666187268185602
         ],
         "xaxis": "x",
         "y": [
          0.3333333333333333,
          0.7391304347826086,
          0.7391304347826086,
          0.7391304347826086,
          0.59375,
          0.3108108108108108,
          0.3108108108108108,
          0.07692307692307693,
          0.1111111111111111,
          0
         ],
         "yaxis": "y"
        },
        {
         "hoverinfo": "none",
         "line": {
          "color": "rgba(98,168,210,0.5)",
          "width": 0.5
         },
         "mode": "lines",
         "type": "scatter",
         "x": [
          0.008704867156157748,
          0.03209446673226856,
          0.036425874061177976,
          0.04042086140337597,
          0.04310381079739947,
          0.04857904608112767,
          0.05740166023263438,
          0.07879797138748013,
          0.15297857845734614,
          0.9666187268185602
         ],
         "xaxis": "x",
         "y": [
          0.08333333333333333,
          0.3670520231213873,
          0.3670520231213873,
          0.3670520231213873,
          0.3670520231213873,
          0.3670520231213873,
          0.3670520231213873,
          0,
          0.1111111111111111,
          1
         ],
         "yaxis": "y"
        },
        {
         "hoverinfo": "none",
         "line": {
          "color": "rgba(80,155,203,0.5)",
          "width": 0.5
         },
         "mode": "lines",
         "type": "scatter",
         "x": [
          0.008704867156157748,
          0.03209446673226856,
          0.036425874061177976,
          0.04042086140337597,
          0.04310381079739947,
          0.04857904608112767,
          0.05740166023263438,
          0.07879797138748013,
          0.15297857845734614,
          0.9666187268185602
         ],
         "xaxis": "x",
         "y": [
          0.3333333333333333,
          0.7391304347826086,
          0.7391304347826086,
          0.7391304347826086,
          0.59375,
          0.3108108108108108,
          0.3108108108108108,
          0.07692307692307693,
          0.1111111111111111,
          0
         ],
         "yaxis": "y"
        },
        {
         "hoverinfo": "none",
         "line": {
          "color": "rgba(64,144,197,0.5)",
          "width": 0.5
         },
         "mode": "lines",
         "type": "scatter",
         "x": [
          0.008704867156157748,
          0.03209446673226856,
          0.036425874061177976,
          0.04042086140337597,
          0.04310381079739947,
          0.04857904608112767,
          0.05740166023263438,
          0.07879797138748013,
          0.15297857845734614,
          0.9666187268185602
         ],
         "xaxis": "x",
         "y": [
          0.08333333333333333,
          0.3670520231213873,
          0.3670520231213873,
          0.3670520231213873,
          0.3670520231213873,
          0.3670520231213873,
          0.3670520231213873,
          0.07692307692307693,
          0.1111111111111111,
          1
         ],
         "yaxis": "y"
        },
        {
         "hoverinfo": "none",
         "line": {
          "color": "rgba(49,129,189,0.5)",
          "width": 0.5
         },
         "mode": "lines",
         "type": "scatter",
         "x": [
          0.008704867156157748,
          0.03209446673226856,
          0.036425874061177976,
          0.04042086140337597,
          0.04310381079739947,
          0.04857904608112767,
          0.05740166023263438,
          0.07879797138748013,
          0.15297857845734614,
          0.9666187268185602
         ],
         "xaxis": "x",
         "y": [
          0.08333333333333333,
          0.3670520231213873,
          0.3670520231213873,
          0.3670520231213873,
          0.3670520231213873,
          0.3670520231213873,
          0.3670520231213873,
          0,
          0.1111111111111111,
          1
         ],
         "yaxis": "y"
        },
        {
         "hoverinfo": "none",
         "line": {
          "color": "rgba(36,116,182,0.5)",
          "width": 0.5
         },
         "mode": "lines",
         "type": "scatter",
         "x": [
          0.008704867156157748,
          0.03209446673226856,
          0.036425874061177976,
          0.04042086140337597,
          0.04310381079739947,
          0.04857904608112767,
          0.05740166023263438,
          0.07879797138748013,
          0.15297857845734614,
          0.9666187268185602
         ],
         "xaxis": "x",
         "y": [
          0.08333333333333333,
          0.3670520231213873,
          0.3670520231213873,
          0.3670520231213873,
          0.3670520231213873,
          0.3670520231213873,
          0.3670520231213873,
          0,
          0.1111111111111111,
          1
         ],
         "yaxis": "y"
        },
        {
         "hoverinfo": "none",
         "line": {
          "color": "#FEDC00",
          "width": 4.5
         },
         "mode": "lines",
         "type": "scatter",
         "x": [
          0.008704867156157748,
          0.03209446673226856,
          0.036425874061177976,
          0.04042086140337597,
          0.04310381079739947,
          0.04857904608112767,
          0.05740166023263438,
          0.07879797138748013,
          0.15297857845734614,
          0.9666187268185602
         ],
         "xaxis": "x",
         "y": [
          0.2051282051282051,
          0.5483209929050593,
          0.5483209929050593,
          0.5483209929050593,
          0.4774946272417371,
          0.3590666687402492,
          0.3590666687402492,
          0.08271696252465482,
          0.11778846153846154,
          0.5128205128205128
         ],
         "yaxis": "y"
        },
        {
         "hoverinfo": "none",
         "line": {
          "color": "#E75438",
          "dash": "dash",
          "width": 1.5
         },
         "mode": "lines",
         "type": "scatter",
         "x": [
          0.008704867156157748,
          0.03209446673226856,
          0.036425874061177976,
          0.04042086140337597,
          0.04310381079739947,
          0.04857904608112767,
          0.05740166023263438,
          0.07879797138748013,
          0.15297857845734614,
          0.9666187268185602
         ],
         "xaxis": "x",
         "y": [
          0,
          0,
          0,
          0,
          0,
          0,
          0,
          0,
          0,
          0
         ],
         "yaxis": "y"
        },
        {
         "hovertemplate": "%{y}",
         "line": {
          "color": "rgba(8,48,107,1.0)",
          "width": 1.5
         },
         "marker": {
          "color": "rgba(8,48,107,1.0)",
          "size": 5
         },
         "mode": "lines+markers",
         "name": "pdp",
         "type": "scatter",
         "x": [
          0.008704867156157748,
          0.03209446673226856,
          0.036425874061177976,
          0.04042086140337597,
          0.04310381079739947,
          0.04857904608112767,
          0.05740166023263438,
          0.07879797138748013,
          0.15297857845734614,
          0.9666187268185602
         ],
         "xaxis": "x",
         "y": [
          0.2051282051282051,
          0.5483209929050593,
          0.5483209929050593,
          0.5483209929050593,
          0.4774946272417371,
          0.3590666687402492,
          0.3590666687402492,
          0.08271696252465482,
          0.11778846153846154,
          0.5128205128205128
         ],
         "yaxis": "y"
        },
        {
         "hoverinfo": "none",
         "mode": "text",
         "name": "dist",
         "showlegend": false,
         "text": [
          "|",
          "|",
          "|",
          "|",
          "|",
          "|",
          "|",
          "|",
          "|",
          "|",
          "|",
          "|",
          "|",
          "|",
          "|",
          "|",
          "|",
          "|",
          "|",
          "|",
          "|",
          "|",
          "|",
          "|",
          "|",
          "|",
          "|",
          "|",
          "|",
          "|",
          "|",
          "|",
          "|",
          "|",
          "|",
          "|",
          "|",
          "|",
          "|",
          "|",
          "|",
          "|",
          "|",
          "|",
          "|",
          "|",
          "|",
          "|",
          "|",
          "|",
          "|",
          "|",
          "|",
          "|",
          "|",
          "|",
          "|",
          "|",
          "|",
          "|",
          "|",
          "|",
          "|",
          "|",
          "|",
          "|",
          "|",
          "|",
          "|",
          "|",
          "|",
          "|",
          "|",
          "|",
          "|",
          "|",
          "|",
          "|",
          "|",
          "|",
          "|",
          "|",
          "|",
          "|",
          "|",
          "|",
          "|",
          "|",
          "|",
          "|",
          "|",
          "|",
          "|",
          "|",
          "|",
          "|",
          "|",
          "|",
          "|",
          "|",
          "|",
          "|",
          "|",
          "|",
          "|",
          "|",
          "|",
          "|",
          "|",
          "|",
          "|",
          "|",
          "|",
          "|",
          "|",
          "|",
          "|",
          "|",
          "|",
          "|",
          "|",
          "|",
          "|",
          "|",
          "|",
          "|",
          "|",
          "|",
          "|",
          "|",
          "|",
          "|",
          "|",
          "|",
          "|",
          "|",
          "|",
          "|",
          "|",
          "|",
          "|",
          "|",
          "|",
          "|",
          "|",
          "|",
          "|",
          "|",
          "|",
          "|",
          "|",
          "|",
          "|",
          "|",
          "|",
          "|",
          "|",
          "|",
          "|",
          "|",
          "|",
          "|",
          "|",
          "|",
          "|",
          "|",
          "|",
          "|",
          "|",
          "|",
          "|",
          "|",
          "|",
          "|",
          "|",
          "|",
          "|",
          "|",
          "|",
          "|",
          "|",
          "|",
          "|",
          "|",
          "|",
          "|",
          "|",
          "|",
          "|",
          "|",
          "|",
          "|",
          "|",
          "|",
          "|",
          "|",
          "|",
          "|",
          "|",
          "|",
          "|",
          "|",
          "|",
          "|",
          "|",
          "|",
          "|",
          "|",
          "|",
          "|",
          "|",
          "|",
          "|",
          "|",
          "|",
          "|",
          "|",
          "|",
          "|",
          "|",
          "|",
          "|",
          "|",
          "|",
          "|",
          "|",
          "|",
          "|",
          "|",
          "|",
          "|",
          "|",
          "|",
          "|",
          "|",
          "|",
          "|",
          "|",
          "|",
          "|",
          "|",
          "|",
          "|",
          "|",
          "|",
          "|",
          "|",
          "|",
          "|",
          "|",
          "|",
          "|",
          "|",
          "|",
          "|",
          "|",
          "|",
          "|",
          "|",
          "|",
          "|",
          "|",
          "|",
          "|",
          "|",
          "|",
          "|",
          "|",
          "|",
          "|",
          "|",
          "|",
          "|",
          "|",
          "|",
          "|",
          "|",
          "|",
          "|",
          "|",
          "|",
          "|",
          "|",
          "|",
          "|",
          "|",
          "|",
          "|",
          "|",
          "|",
          "|",
          "|",
          "|",
          "|",
          "|",
          "|",
          "|",
          "|",
          "|",
          "|",
          "|",
          "|",
          "|",
          "|",
          "|",
          "|",
          "|",
          "|",
          "|",
          "|",
          "|",
          "|"
         ],
         "textfont": {
          "color": "rgba(8,48,107,1.0)",
          "size": 20
         },
         "textposition": "middle center",
         "type": "scatter",
         "x": [
          0.036030580576792065,
          0.0832639467110741,
          0.04541669820604042,
          0.020134736204677917,
          0.02868821436681553,
          0.034289607145560515,
          0.20884111725077584,
          0.0630535160093861,
          0.04988267352963439,
          0.06320490500340624,
          0.04155627885852698,
          0.03209446673226856,
          0.07879797138748013,
          0.07137991068049351,
          0.04087502838543638,
          0.07137991068049351,
          0.0610097645901143,
          0.04042086140337597,
          0.03875558246915449,
          0.0630535160093861,
          0.05419725985920823,
          0.0538187873741579,
          0.06540004541669821,
          0.04140488986450684,
          0.05654378926652032,
          0.07047157671637272,
          0.03890697146317462,
          0.0252819620013625,
          0.0364090530618424,
          0.05230489743395655,
          0.040950722882446444,
          0.03875558246915449,
          0.13185981379153733,
          0.04087502838543638,
          0.2990689576867761,
          0.030202104307016878,
          0.0364090530618424,
          0.0364090530618424,
          0.05434864885322836,
          0.09885701309514798,
          0.0630535160093861,
          0.04087502838543638,
          0.04269169631367799,
          0.036030580576792065,
          0.036560442055862535,
          0.22117932026341683,
          0.07879797138748013,
          0.05926879115888274,
          0.05207781394292634,
          0.9666187268185602,
          0.040950722882446444,
          0.11664521989251381,
          0.0510180909847854,
          0.015820149875104078,
          0.026493073953523575,
          0.1238361971084702,
          0.07243963363863447,
          0.05434864885322836,
          0.03406252365453031,
          0.0510180909847854,
          0.025357656498372565,
          0.03822572099008401,
          0.043221557792748465,
          0.12550147604269168,
          0.04307016879872833,
          0.06804935281205056,
          0.13201120278555745,
          0.07879797138748013,
          0.044281280750889405,
          0.04670350465521156,
          0.046552115661191426,
          0.16895011732647033,
          0.043221557792748465,
          0.059420180152902874,
          0.03928544394822496,
          0.03542502460071152,
          0.05434864885322836,
          0.03875558246915449,
          0.6862463098932706,
          0.12073272273105745,
          0.034289607145560515,
          0.04927711755355385,
          0.03822572099008401,
          0.15873136023011125,
          0.04307016879872833,
          0.27908561047611835,
          0.04768753311634243,
          0.12731814397093327,
          0.02815835288774506,
          0.19862236015441675,
          0.043221557792748465,
          0.009840284611308757,
          0.02119445916281886,
          0.036030580576792065,
          0.24888350616910146,
          0.3099689652562258,
          0.05714934524260085,
          0.03875558246915449,
          0.04768753311634243,
          0.1345091211868897,
          0.04087502838543638,
          0.03474377412762092,
          0.05419725985920823,
          0.034289607145560515,
          0.2490348951631216,
          0.036257664067822264,
          0.13201120278555745,
          0.04768753311634243,
          0.2409355839830444,
          0.05207781394292634,
          0.026568768450533645,
          0.04269169631367799,
          0.07380213458481567,
          0.026493073953523575,
          0.15411399591249714,
          0.029823631821966543,
          0.03875558246915449,
          0.04541669820604042,
          0.033759745666490044,
          0.16524108697297704,
          0.04208614033759746,
          0.043221557792748465,
          0.08545908712436606,
          0.03890697146317462,
          0.04874725607448338,
          0.02270834910302021,
          0.19900083263946708,
          0.06259934902732571,
          0.04988267352963439,
          0.040193777912345775,
          0.12111119521610778,
          0.1488910756188025,
          0.040950722882446444,
          0.04208614033759746,
          0.04435697524789948,
          0.07372644008780561,
          0.040950722882446444,
          0.008704867156157748,
          0.05207781394292634,
          0.05434864885322836,
          0.038528498978124284,
          0.02989932631897661,
          0.03421391264855045,
          0.06547573991370827,
          0.15207024449322532,
          0.0364090530618424,
          0.04889864506850351,
          0.16524108697297704,
          0.039890999924305504,
          0.060101430625993484,
          0.09514798274165467,
          0.037620165014003476,
          0.022027098629929603,
          0.043221557792748465,
          0.06540004541669821,
          0.13223828627658768,
          0.27908561047611835,
          0.04670350465521156,
          0.043221557792748465,
          0.13185981379153733,
          0.08212852925592308,
          0.03875558246915449,
          0.04980697903262432,
          0.0255090454923927,
          0.036560442055862535,
          0.03512224661267125,
          0.060858375596094166,
          0.03542502460071152,
          0.036560442055862535,
          0.03875558246915449,
          0.043221557792748465,
          0.03875558246915449,
          0.036257664067822264,
          0.030277798804026944,
          0.008856256150177882,
          0.11884036030580575,
          0.03209446673226856,
          0.05926879115888274,
          0.04208614033759746,
          0.03474377412762092,
          0.04988267352963439,
          0.0364090530618424,
          0.04155627885852698,
          0.04768753311634243,
          0.14404662781015817,
          0.03875558246915449,
          0.03209446673226856,
          0.48262811293618946,
          0.03875558246915449,
          0.2559230943910377,
          0.043221557792748465,
          0.06509726742865793,
          0.03875558246915449,
          0.0510180909847854,
          0.0364090530618424,
          0.06320490500340624,
          0.16524108697297704,
          0.04140488986450684,
          0.02119445916281886,
          0.03209446673226856,
          0.040950722882446444,
          0.02815835288774506,
          0.17561123306335627,
          0.040950722882446444,
          0.043221557792748465,
          0.04049655590038603,
          0.19862236015441675,
          0.03875558246915449,
          0.04087502838543638,
          0.0364090530618424,
          0.02293543259405041,
          0.2939217318900915,
          0.05926879115888274,
          0.0510180909847854,
          0.05419725985920823,
          0.043221557792748465,
          0.06517296192566799,
          0.04768753311634243,
          0.029823631821966543,
          0.15888274922413137,
          0.05631670577549012,
          0.13223828627658768,
          0.04155627885852698,
          0.05207781394292634,
          0.02096737567178866,
          0.04042086140337597,
          0.0364090530618424,
          0.1155098024373628,
          0.0686549087881311,
          0.03875558246915449,
          0.05434864885322836,
          0.04208614033759746,
          0.10884868670047687,
          0.047990311104382705,
          0.038679887972144424,
          0.04768753311634243,
          0.04087502838543638,
          0.03875558246915449,
          0.03353266217545984,
          0.040950722882446444,
          0.04541669820604042,
          0.14873968662478235,
          0.034289607145560515,
          0.18560290666868517,
          0.03875558246915449,
          0.06895768677617137,
          0.043221557792748465,
          0.043221557792748465,
          0.018015290288396033,
          0.027628491408674585,
          0.04042086140337597,
          0.19900083263946708,
          0.06547573991370827,
          0.09219589735826204,
          0.2656876845053364,
          0.0364090530618424,
          0.15638483082279914,
          0.03353266217545984,
          0.03209446673226856,
          0.05654378926652032,
          0.05419725985920823,
          0.037317387025963204,
          0.16561955945802737,
          0.13185981379153733,
          0.06532435091968813,
          0.022859738097040342,
          0.19900083263946708,
          0.09885701309514798,
          0.030883354780107484,
          0.04307016879872833,
          0.034289607145560515,
          0.05207781394292634,
          0.05207781394292634,
          0.04768753311634243,
          0.04670350465521156,
          0.14873968662478235,
          0.03406252365453031,
          0.19900083263946708,
          0.036257664067822264,
          0.03890697146317462,
          0.04208614033759746,
          0.07380213458481567,
          0.11664521989251381,
          0.04155627885852698,
          0.043221557792748465,
          0.057906290212701536,
          0.038679887972144424,
          0.03542502460071152,
          0.04140488986450684,
          0.07032018772235259,
          0.08212852925592308,
          0.04768753311634243,
          0.020134736204677917,
          0.04768753311634243,
          0.03875558246915449,
          0.09885701309514798,
          0.17061539626069183,
          0.13201120278555745,
          0.027628491408674585,
          0.04465975323593974,
          0.040950722882446444,
          0.043221557792748465,
          0.053213231398077356,
          0.04208614033759746,
          0.19900083263946708,
          0.05434864885322836,
          0.030883354780107484,
          0.05071531299674513,
          0.07137991068049351,
          0.03353266217545984,
          0.3057300734236621,
          0.03875558246915449
         ],
         "xaxis": "x2",
         "y": [
          1,
          1,
          1,
          1,
          1,
          1,
          1,
          1,
          1,
          1,
          1,
          1,
          1,
          1,
          1,
          1,
          1,
          1,
          1,
          1,
          1,
          1,
          1,
          1,
          1,
          1,
          1,
          1,
          1,
          1,
          1,
          1,
          1,
          1,
          1,
          1,
          1,
          1,
          1,
          1,
          1,
          1,
          1,
          1,
          1,
          1,
          1,
          1,
          1,
          1,
          1,
          1,
          1,
          1,
          1,
          1,
          1,
          1,
          1,
          1,
          1,
          1,
          1,
          1,
          1,
          1,
          1,
          1,
          1,
          1,
          1,
          1,
          1,
          1,
          1,
          1,
          1,
          1,
          1,
          1,
          1,
          1,
          1,
          1,
          1,
          1,
          1,
          1,
          1,
          1,
          1,
          1,
          1,
          1,
          1,
          1,
          1,
          1,
          1,
          1,
          1,
          1,
          1,
          1,
          1,
          1,
          1,
          1,
          1,
          1,
          1,
          1,
          1,
          1,
          1,
          1,
          1,
          1,
          1,
          1,
          1,
          1,
          1,
          1,
          1,
          1,
          1,
          1,
          1,
          1,
          1,
          1,
          1,
          1,
          1,
          1,
          1,
          1,
          1,
          1,
          1,
          1,
          1,
          1,
          1,
          1,
          1,
          1,
          1,
          1,
          1,
          1,
          1,
          1,
          1,
          1,
          1,
          1,
          1,
          1,
          1,
          1,
          1,
          1,
          1,
          1,
          1,
          1,
          1,
          1,
          1,
          1,
          1,
          1,
          1,
          1,
          1,
          1,
          1,
          1,
          1,
          1,
          1,
          1,
          1,
          1,
          1,
          1,
          1,
          1,
          1,
          1,
          1,
          1,
          1,
          1,
          1,
          1,
          1,
          1,
          1,
          1,
          1,
          1,
          1,
          1,
          1,
          1,
          1,
          1,
          1,
          1,
          1,
          1,
          1,
          1,
          1,
          1,
          1,
          1,
          1,
          1,
          1,
          1,
          1,
          1,
          1,
          1,
          1,
          1,
          1,
          1,
          1,
          1,
          1,
          1,
          1,
          1,
          1,
          1,
          1,
          1,
          1,
          1,
          1,
          1,
          1,
          1,
          1,
          1,
          1,
          1,
          1,
          1,
          1,
          1,
          1,
          1,
          1,
          1,
          1,
          1,
          1,
          1,
          1,
          1,
          1,
          1,
          1,
          1,
          1,
          1,
          1,
          1,
          1,
          1,
          1,
          1,
          1,
          1,
          1,
          1,
          1,
          1,
          1,
          1,
          1,
          1,
          1,
          1,
          1,
          1,
          1,
          1,
          1,
          1,
          1,
          1,
          1,
          1,
          1,
          1,
          1,
          1,
          1,
          1,
          1,
          1,
          1,
          1,
          1,
          1
         ],
         "yaxis": "y2"
        }
       ],
       "layout": {
        "height": 600,
        "showlegend": false,
        "template": {
         "data": {
          "bar": [
           {
            "error_x": {
             "color": "#2a3f5f"
            },
            "error_y": {
             "color": "#2a3f5f"
            },
            "marker": {
             "line": {
              "color": "white",
              "width": 0.5
             },
             "pattern": {
              "fillmode": "overlay",
              "size": 10,
              "solidity": 0.2
             }
            },
            "type": "bar"
           }
          ],
          "barpolar": [
           {
            "marker": {
             "line": {
              "color": "white",
              "width": 0.5
             },
             "pattern": {
              "fillmode": "overlay",
              "size": 10,
              "solidity": 0.2
             }
            },
            "type": "barpolar"
           }
          ],
          "carpet": [
           {
            "aaxis": {
             "endlinecolor": "#2a3f5f",
             "gridcolor": "#C8D4E3",
             "linecolor": "#C8D4E3",
             "minorgridcolor": "#C8D4E3",
             "startlinecolor": "#2a3f5f"
            },
            "baxis": {
             "endlinecolor": "#2a3f5f",
             "gridcolor": "#C8D4E3",
             "linecolor": "#C8D4E3",
             "minorgridcolor": "#C8D4E3",
             "startlinecolor": "#2a3f5f"
            },
            "type": "carpet"
           }
          ],
          "choropleth": [
           {
            "colorbar": {
             "outlinewidth": 0,
             "ticks": ""
            },
            "type": "choropleth"
           }
          ],
          "contour": [
           {
            "colorbar": {
             "outlinewidth": 0,
             "ticks": ""
            },
            "colorscale": [
             [
              0,
              "#0d0887"
             ],
             [
              0.1111111111111111,
              "#46039f"
             ],
             [
              0.2222222222222222,
              "#7201a8"
             ],
             [
              0.3333333333333333,
              "#9c179e"
             ],
             [
              0.4444444444444444,
              "#bd3786"
             ],
             [
              0.5555555555555556,
              "#d8576b"
             ],
             [
              0.6666666666666666,
              "#ed7953"
             ],
             [
              0.7777777777777778,
              "#fb9f3a"
             ],
             [
              0.8888888888888888,
              "#fdca26"
             ],
             [
              1,
              "#f0f921"
             ]
            ],
            "type": "contour"
           }
          ],
          "contourcarpet": [
           {
            "colorbar": {
             "outlinewidth": 0,
             "ticks": ""
            },
            "type": "contourcarpet"
           }
          ],
          "heatmap": [
           {
            "colorbar": {
             "outlinewidth": 0,
             "ticks": ""
            },
            "colorscale": [
             [
              0,
              "#0d0887"
             ],
             [
              0.1111111111111111,
              "#46039f"
             ],
             [
              0.2222222222222222,
              "#7201a8"
             ],
             [
              0.3333333333333333,
              "#9c179e"
             ],
             [
              0.4444444444444444,
              "#bd3786"
             ],
             [
              0.5555555555555556,
              "#d8576b"
             ],
             [
              0.6666666666666666,
              "#ed7953"
             ],
             [
              0.7777777777777778,
              "#fb9f3a"
             ],
             [
              0.8888888888888888,
              "#fdca26"
             ],
             [
              1,
              "#f0f921"
             ]
            ],
            "type": "heatmap"
           }
          ],
          "heatmapgl": [
           {
            "colorbar": {
             "outlinewidth": 0,
             "ticks": ""
            },
            "colorscale": [
             [
              0,
              "#0d0887"
             ],
             [
              0.1111111111111111,
              "#46039f"
             ],
             [
              0.2222222222222222,
              "#7201a8"
             ],
             [
              0.3333333333333333,
              "#9c179e"
             ],
             [
              0.4444444444444444,
              "#bd3786"
             ],
             [
              0.5555555555555556,
              "#d8576b"
             ],
             [
              0.6666666666666666,
              "#ed7953"
             ],
             [
              0.7777777777777778,
              "#fb9f3a"
             ],
             [
              0.8888888888888888,
              "#fdca26"
             ],
             [
              1,
              "#f0f921"
             ]
            ],
            "type": "heatmapgl"
           }
          ],
          "histogram": [
           {
            "marker": {
             "pattern": {
              "fillmode": "overlay",
              "size": 10,
              "solidity": 0.2
             }
            },
            "type": "histogram"
           }
          ],
          "histogram2d": [
           {
            "colorbar": {
             "outlinewidth": 0,
             "ticks": ""
            },
            "colorscale": [
             [
              0,
              "#0d0887"
             ],
             [
              0.1111111111111111,
              "#46039f"
             ],
             [
              0.2222222222222222,
              "#7201a8"
             ],
             [
              0.3333333333333333,
              "#9c179e"
             ],
             [
              0.4444444444444444,
              "#bd3786"
             ],
             [
              0.5555555555555556,
              "#d8576b"
             ],
             [
              0.6666666666666666,
              "#ed7953"
             ],
             [
              0.7777777777777778,
              "#fb9f3a"
             ],
             [
              0.8888888888888888,
              "#fdca26"
             ],
             [
              1,
              "#f0f921"
             ]
            ],
            "type": "histogram2d"
           }
          ],
          "histogram2dcontour": [
           {
            "colorbar": {
             "outlinewidth": 0,
             "ticks": ""
            },
            "colorscale": [
             [
              0,
              "#0d0887"
             ],
             [
              0.1111111111111111,
              "#46039f"
             ],
             [
              0.2222222222222222,
              "#7201a8"
             ],
             [
              0.3333333333333333,
              "#9c179e"
             ],
             [
              0.4444444444444444,
              "#bd3786"
             ],
             [
              0.5555555555555556,
              "#d8576b"
             ],
             [
              0.6666666666666666,
              "#ed7953"
             ],
             [
              0.7777777777777778,
              "#fb9f3a"
             ],
             [
              0.8888888888888888,
              "#fdca26"
             ],
             [
              1,
              "#f0f921"
             ]
            ],
            "type": "histogram2dcontour"
           }
          ],
          "mesh3d": [
           {
            "colorbar": {
             "outlinewidth": 0,
             "ticks": ""
            },
            "type": "mesh3d"
           }
          ],
          "parcoords": [
           {
            "line": {
             "colorbar": {
              "outlinewidth": 0,
              "ticks": ""
             }
            },
            "type": "parcoords"
           }
          ],
          "pie": [
           {
            "automargin": true,
            "type": "pie"
           }
          ],
          "scatter": [
           {
            "fillpattern": {
             "fillmode": "overlay",
             "size": 10,
             "solidity": 0.2
            },
            "type": "scatter"
           }
          ],
          "scatter3d": [
           {
            "line": {
             "colorbar": {
              "outlinewidth": 0,
              "ticks": ""
             }
            },
            "marker": {
             "colorbar": {
              "outlinewidth": 0,
              "ticks": ""
             }
            },
            "type": "scatter3d"
           }
          ],
          "scattercarpet": [
           {
            "marker": {
             "colorbar": {
              "outlinewidth": 0,
              "ticks": ""
             }
            },
            "type": "scattercarpet"
           }
          ],
          "scattergeo": [
           {
            "marker": {
             "colorbar": {
              "outlinewidth": 0,
              "ticks": ""
             }
            },
            "type": "scattergeo"
           }
          ],
          "scattergl": [
           {
            "marker": {
             "colorbar": {
              "outlinewidth": 0,
              "ticks": ""
             }
            },
            "type": "scattergl"
           }
          ],
          "scattermapbox": [
           {
            "marker": {
             "colorbar": {
              "outlinewidth": 0,
              "ticks": ""
             }
            },
            "type": "scattermapbox"
           }
          ],
          "scatterpolar": [
           {
            "marker": {
             "colorbar": {
              "outlinewidth": 0,
              "ticks": ""
             }
            },
            "type": "scatterpolar"
           }
          ],
          "scatterpolargl": [
           {
            "marker": {
             "colorbar": {
              "outlinewidth": 0,
              "ticks": ""
             }
            },
            "type": "scatterpolargl"
           }
          ],
          "scatterternary": [
           {
            "marker": {
             "colorbar": {
              "outlinewidth": 0,
              "ticks": ""
             }
            },
            "type": "scatterternary"
           }
          ],
          "surface": [
           {
            "colorbar": {
             "outlinewidth": 0,
             "ticks": ""
            },
            "colorscale": [
             [
              0,
              "#0d0887"
             ],
             [
              0.1111111111111111,
              "#46039f"
             ],
             [
              0.2222222222222222,
              "#7201a8"
             ],
             [
              0.3333333333333333,
              "#9c179e"
             ],
             [
              0.4444444444444444,
              "#bd3786"
             ],
             [
              0.5555555555555556,
              "#d8576b"
             ],
             [
              0.6666666666666666,
              "#ed7953"
             ],
             [
              0.7777777777777778,
              "#fb9f3a"
             ],
             [
              0.8888888888888888,
              "#fdca26"
             ],
             [
              1,
              "#f0f921"
             ]
            ],
            "type": "surface"
           }
          ],
          "table": [
           {
            "cells": {
             "fill": {
              "color": "#EBF0F8"
             },
             "line": {
              "color": "white"
             }
            },
            "header": {
             "fill": {
              "color": "#C8D4E3"
             },
             "line": {
              "color": "white"
             }
            },
            "type": "table"
           }
          ]
         },
         "layout": {
          "annotationdefaults": {
           "arrowcolor": "#2a3f5f",
           "arrowhead": 0,
           "arrowwidth": 1
          },
          "autotypenumbers": "strict",
          "coloraxis": {
           "colorbar": {
            "outlinewidth": 0,
            "ticks": ""
           }
          },
          "colorscale": {
           "diverging": [
            [
             0,
             "#8e0152"
            ],
            [
             0.1,
             "#c51b7d"
            ],
            [
             0.2,
             "#de77ae"
            ],
            [
             0.3,
             "#f1b6da"
            ],
            [
             0.4,
             "#fde0ef"
            ],
            [
             0.5,
             "#f7f7f7"
            ],
            [
             0.6,
             "#e6f5d0"
            ],
            [
             0.7,
             "#b8e186"
            ],
            [
             0.8,
             "#7fbc41"
            ],
            [
             0.9,
             "#4d9221"
            ],
            [
             1,
             "#276419"
            ]
           ],
           "sequential": [
            [
             0,
             "#0d0887"
            ],
            [
             0.1111111111111111,
             "#46039f"
            ],
            [
             0.2222222222222222,
             "#7201a8"
            ],
            [
             0.3333333333333333,
             "#9c179e"
            ],
            [
             0.4444444444444444,
             "#bd3786"
            ],
            [
             0.5555555555555556,
             "#d8576b"
            ],
            [
             0.6666666666666666,
             "#ed7953"
            ],
            [
             0.7777777777777778,
             "#fb9f3a"
            ],
            [
             0.8888888888888888,
             "#fdca26"
            ],
            [
             1,
             "#f0f921"
            ]
           ],
           "sequentialminus": [
            [
             0,
             "#0d0887"
            ],
            [
             0.1111111111111111,
             "#46039f"
            ],
            [
             0.2222222222222222,
             "#7201a8"
            ],
            [
             0.3333333333333333,
             "#9c179e"
            ],
            [
             0.4444444444444444,
             "#bd3786"
            ],
            [
             0.5555555555555556,
             "#d8576b"
            ],
            [
             0.6666666666666666,
             "#ed7953"
            ],
            [
             0.7777777777777778,
             "#fb9f3a"
            ],
            [
             0.8888888888888888,
             "#fdca26"
            ],
            [
             1,
             "#f0f921"
            ]
           ]
          },
          "colorway": [
           "#636efa",
           "#EF553B",
           "#00cc96",
           "#ab63fa",
           "#FFA15A",
           "#19d3f3",
           "#FF6692",
           "#B6E880",
           "#FF97FF",
           "#FECB52"
          ],
          "font": {
           "color": "#2a3f5f"
          },
          "geo": {
           "bgcolor": "white",
           "lakecolor": "white",
           "landcolor": "white",
           "showlakes": true,
           "showland": true,
           "subunitcolor": "#C8D4E3"
          },
          "hoverlabel": {
           "align": "left"
          },
          "hovermode": "closest",
          "mapbox": {
           "style": "light"
          },
          "paper_bgcolor": "white",
          "plot_bgcolor": "white",
          "polar": {
           "angularaxis": {
            "gridcolor": "#EBF0F8",
            "linecolor": "#EBF0F8",
            "ticks": ""
           },
           "bgcolor": "white",
           "radialaxis": {
            "gridcolor": "#EBF0F8",
            "linecolor": "#EBF0F8",
            "ticks": ""
           }
          },
          "scene": {
           "xaxis": {
            "backgroundcolor": "white",
            "gridcolor": "#DFE8F3",
            "gridwidth": 2,
            "linecolor": "#EBF0F8",
            "showbackground": true,
            "ticks": "",
            "zerolinecolor": "#EBF0F8"
           },
           "yaxis": {
            "backgroundcolor": "white",
            "gridcolor": "#DFE8F3",
            "gridwidth": 2,
            "linecolor": "#EBF0F8",
            "showbackground": true,
            "ticks": "",
            "zerolinecolor": "#EBF0F8"
           },
           "zaxis": {
            "backgroundcolor": "white",
            "gridcolor": "#DFE8F3",
            "gridwidth": 2,
            "linecolor": "#EBF0F8",
            "showbackground": true,
            "ticks": "",
            "zerolinecolor": "#EBF0F8"
           }
          },
          "shapedefaults": {
           "line": {
            "color": "#2a3f5f"
           }
          },
          "ternary": {
           "aaxis": {
            "gridcolor": "#DFE8F3",
            "linecolor": "#A2B1C6",
            "ticks": ""
           },
           "baxis": {
            "gridcolor": "#DFE8F3",
            "linecolor": "#A2B1C6",
            "ticks": ""
           },
           "bgcolor": "white",
           "caxis": {
            "gridcolor": "#DFE8F3",
            "linecolor": "#A2B1C6",
            "ticks": ""
           }
          },
          "title": {
           "x": 0.05
          },
          "xaxis": {
           "automargin": true,
           "gridcolor": "#EBF0F8",
           "linecolor": "#EBF0F8",
           "ticks": "",
           "title": {
            "standoff": 15
           },
           "zerolinecolor": "#EBF0F8",
           "zerolinewidth": 2
          },
          "yaxis": {
           "automargin": true,
           "gridcolor": "#EBF0F8",
           "linecolor": "#EBF0F8",
           "ticks": "",
           "title": {
            "standoff": 15
           },
           "zerolinecolor": "#EBF0F8",
           "zerolinewidth": 2
          }
         }
        },
        "title": {
         "text": "PDP for feature <b>Price per 100g</b> <br><sup>Number of unique grid points: 10</sup>",
         "x": 0,
         "xref": "paper"
        },
        "width": 1200,
        "xaxis": {
         "anchor": "y",
         "domain": [
          0,
          1
         ]
        },
        "xaxis2": {
         "anchor": "y2",
         "domain": [
          0,
          1
         ],
         "showgrid": false,
         "showticklabels": false,
         "title": {
          "text": "<b>Price per 100g</b> (value)"
         }
        },
        "yaxis": {
         "anchor": "x",
         "domain": [
          0.11266666666666669,
          0.99
         ],
         "title": {
          "text": "raw"
         }
        },
        "yaxis2": {
         "anchor": "x2",
         "domain": [
          0,
          0.06266666666666665
         ],
         "showgrid": false,
         "showticklabels": false
        }
       }
      }
     },
     "metadata": {},
     "output_type": "display_data"
    }
   ],
   "source": [
    "# Plot PDP\n",
    "# Create the pdp data to be plotted\n",
    "pdp_goals = pdp.PDPIsolate(model=tree_model, df=val_x, model_features=feature_names, feature='100g_USD', feature_name='Price per 100g')\n",
    "\n",
    "# plot the PDP for feature 'Goal Scored'\n",
    "fig, axes = pdp_goals.plot(\n",
    "    center=False,\n",
    "    plot_lines=True,\n",
    "    frac_to_plot=100,\n",
    "    cluster=False,\n",
    "    n_cluster_centers=None,\n",
    "    cluster_method='accurate',\n",
    "    plot_pts_dist=True,\n",
    "    to_bins=False,\n",
    "    show_percentile=False,\n",
    "    which_classes=None,\n",
    "    figsize=None,\n",
    "    dpi=300,\n",
    "    ncols=2,\n",
    "    plot_params={\"pdp_hl\": True},\n",
    "    engine='plotly',\n",
    "    template='plotly_white')\n",
    "\n",
    "fig.show()"
   ]
  },
  {
   "cell_type": "markdown",
   "metadata": {},
   "source": [
    "Seems like the model is not very good at predicting the country of origin based on the price. Since the data distribution is very skewed towards the lower end of the price range, the model is not able to learn much from the higher end of the price range.\n",
    "\n",
    "We try with another model to see if we can achieve better results."
   ]
  },
  {
   "cell_type": "code",
   "execution_count": 74,
   "metadata": {},
   "outputs": [],
   "source": [
    "# Build a new model: Random Forest classifier\n",
    "rf_model = RandomForestClassifier(random_state=0).fit(train_x, train_y)"
   ]
  },
  {
   "cell_type": "code",
   "execution_count": 75,
   "metadata": {},
   "outputs": [
    {
     "name": "stdout",
     "output_type": "stream",
     "text": [
      "obtain pred_func from the provided model.\n"
     ]
    },
    {
     "name": "stderr",
     "output_type": "stream",
     "text": [
      "100%|██████████| 6/6 [00:00<00:00, 190.54it/s]\n"
     ]
    },
    {
     "data": {
      "application/vnd.plotly.v1+json": {
       "config": {
        "plotlyServerURL": "https://plot.ly"
       },
       "data": [
        {
         "hoverinfo": "none",
         "line": {
          "color": "rgba(193,217,237,0.5)",
          "width": 0.5
         },
         "mode": "lines",
         "type": "scatter",
         "x": [
          0,
          0.6153846153846154,
          0.6923076923076923,
          0.7692307692307693,
          0.8461538461538461,
          1
         ],
         "xaxis": "x",
         "y": [
          0.33,
          0.02,
          0,
          0,
          0,
          0.08
         ],
         "yaxis": "y"
        },
        {
         "hoverinfo": "none",
         "line": {
          "color": "rgba(177,210,231,0.5)",
          "width": 0.5
         },
         "mode": "lines",
         "type": "scatter",
         "x": [
          0,
          0.6153846153846154,
          0.6923076923076923,
          0.7692307692307693,
          0.8461538461538461,
          1
         ],
         "xaxis": "x",
         "y": [
          0.2225,
          0.27525,
          0.4059166666666667,
          0.006666666666666666,
          0.6160238095238095,
          0.6666666666666667
         ],
         "yaxis": "y"
        },
        {
         "hoverinfo": "none",
         "line": {
          "color": "rgba(160,202,225,0.5)",
          "width": 0.5
         },
         "mode": "lines",
         "type": "scatter",
         "x": [
          0,
          0.6153846153846154,
          0.6923076923076923,
          0.7692307692307693,
          0.8461538461538461,
          1
         ],
         "xaxis": "x",
         "y": [
          0.3016666666666667,
          0.4461190476190476,
          0.2688730158730158,
          0,
          0.5613333333333334,
          0.13416666666666666
         ],
         "yaxis": "y"
        },
        {
         "hoverinfo": "none",
         "line": {
          "color": "rgba(139,192,221,0.5)",
          "width": 0.5
         },
         "mode": "lines",
         "type": "scatter",
         "x": [
          0,
          0.6153846153846154,
          0.6923076923076923,
          0.7692307692307693,
          0.8461538461538461,
          1
         ],
         "xaxis": "x",
         "y": [
          0.24666666666666667,
          0.23080952380952371,
          0,
          0.4033072483072484,
          0.3233133949383947,
          0.2
         ],
         "yaxis": "y"
        },
        {
         "hoverinfo": "none",
         "line": {
          "color": "rgba(117,179,216,0.5)",
          "width": 0.5
         },
         "mode": "lines",
         "type": "scatter",
         "x": [
          0,
          0.6153846153846154,
          0.6923076923076923,
          0.7692307692307693,
          0.8461538461538461,
          1
         ],
         "xaxis": "x",
         "y": [
          0.19,
          0.84,
          0.7603333333333334,
          0.95,
          0.9218333333333333,
          0.46
         ],
         "yaxis": "y"
        },
        {
         "hoverinfo": "none",
         "line": {
          "color": "rgba(98,168,210,0.5)",
          "width": 0.5
         },
         "mode": "lines",
         "type": "scatter",
         "x": [
          0,
          0.6153846153846154,
          0.6923076923076923,
          0.7692307692307693,
          0.8461538461538461,
          1
         ],
         "xaxis": "x",
         "y": [
          0.1991666666666667,
          0.07,
          0.43279004119076814,
          0.7965325091575086,
          0.5297976190476191,
          0.6254166666666667
         ],
         "yaxis": "y"
        },
        {
         "hoverinfo": "none",
         "line": {
          "color": "rgba(80,155,203,0.5)",
          "width": 0.5
         },
         "mode": "lines",
         "type": "scatter",
         "x": [
          0,
          0.6153846153846154,
          0.6923076923076923,
          0.7692307692307693,
          0.8461538461538461,
          1
         ],
         "xaxis": "x",
         "y": [
          0.05,
          0.68,
          0.9490000000000001,
          0.7551984126984128,
          0.9366666666666665,
          0.47
         ],
         "yaxis": "y"
        },
        {
         "hoverinfo": "none",
         "line": {
          "color": "rgba(64,144,197,0.5)",
          "width": 0.5
         },
         "mode": "lines",
         "type": "scatter",
         "x": [
          0,
          0.6153846153846154,
          0.6923076923076923,
          0.7692307692307693,
          0.8461538461538461,
          1
         ],
         "xaxis": "x",
         "y": [
          0.39,
          0.07,
          0.01,
          0,
          0,
          0.18
         ],
         "yaxis": "y"
        },
        {
         "hoverinfo": "none",
         "line": {
          "color": "rgba(49,129,189,0.5)",
          "width": 0.5
         },
         "mode": "lines",
         "type": "scatter",
         "x": [
          0,
          0.6153846153846154,
          0.6923076923076923,
          0.7692307692307693,
          0.8461538461538461,
          1
         ],
         "xaxis": "x",
         "y": [
          0.47,
          0.665,
          0.6933333333333332,
          0.29033333333333333,
          0.6825,
          0.5
         ],
         "yaxis": "y"
        },
        {
         "hoverinfo": "none",
         "line": {
          "color": "rgba(36,116,182,0.5)",
          "width": 0.5
         },
         "mode": "lines",
         "type": "scatter",
         "x": [
          0,
          0.6153846153846154,
          0.6923076923076923,
          0.7692307692307693,
          0.8461538461538461,
          1
         ],
         "xaxis": "x",
         "y": [
          0.12,
          0.7,
          0.7913333333333332,
          0.065,
          0.08,
          0.19
         ],
         "yaxis": "y"
        },
        {
         "hoverinfo": "none",
         "line": {
          "color": "rgba(193,217,237,0.5)",
          "width": 0.5
         },
         "mode": "lines",
         "type": "scatter",
         "x": [
          0,
          0.6153846153846154,
          0.6923076923076923,
          0.7692307692307693,
          0.8461538461538461,
          1
         ],
         "xaxis": "x",
         "y": [
          0.26599999999999996,
          0.3125151515151515,
          0.2558751413275406,
          0.5942994227994227,
          0.1741626984126984,
          0.13233333333333333
         ],
         "yaxis": "y"
        },
        {
         "hoverinfo": "none",
         "line": {
          "color": "rgba(177,210,231,0.5)",
          "width": 0.5
         },
         "mode": "lines",
         "type": "scatter",
         "x": [
          0,
          0.6153846153846154,
          0.6923076923076923,
          0.7692307692307693,
          0.8461538461538461,
          1
         ],
         "xaxis": "x",
         "y": [
          0,
          0.55,
          0.4772120657120658,
          0.5579761904761905,
          0.5164444444444444,
          0.3733333333333333
         ],
         "yaxis": "y"
        },
        {
         "hoverinfo": "none",
         "line": {
          "color": "rgba(160,202,225,0.5)",
          "width": 0.5
         },
         "mode": "lines",
         "type": "scatter",
         "x": [
          0,
          0.6153846153846154,
          0.6923076923076923,
          0.7692307692307693,
          0.8461538461538461,
          1
         ],
         "xaxis": "x",
         "y": [
          0.31,
          0.27066666666666667,
          0.02,
          0.37890476190476186,
          0.9,
          0.2033333333333333
         ],
         "yaxis": "y"
        },
        {
         "hoverinfo": "none",
         "line": {
          "color": "rgba(139,192,221,0.5)",
          "width": 0.5
         },
         "mode": "lines",
         "type": "scatter",
         "x": [
          0,
          0.6153846153846154,
          0.6923076923076923,
          0.7692307692307693,
          0.8461538461538461,
          1
         ],
         "xaxis": "x",
         "y": [
          0.0575,
          0.0075,
          0.0175,
          0.4201666666666666,
          0.0315,
          0.6975
         ],
         "yaxis": "y"
        },
        {
         "hoverinfo": "none",
         "line": {
          "color": "rgba(117,179,216,0.5)",
          "width": 0.5
         },
         "mode": "lines",
         "type": "scatter",
         "x": [
          0,
          0.6153846153846154,
          0.6923076923076923,
          0.7692307692307693,
          0.8461538461538461,
          1
         ],
         "xaxis": "x",
         "y": [
          0.01,
          0.17397041847041847,
          0.011944444444444445,
          0.32095238095238093,
          0.8521064213564213,
          0.3936507936507937
         ],
         "yaxis": "y"
        },
        {
         "hoverinfo": "none",
         "line": {
          "color": "rgba(98,168,210,0.5)",
          "width": 0.5
         },
         "mode": "lines",
         "type": "scatter",
         "x": [
          0,
          0.6153846153846154,
          0.6923076923076923,
          0.7692307692307693,
          0.8461538461538461,
          1
         ],
         "xaxis": "x",
         "y": [
          0.43714285714285717,
          0.6346428571428572,
          0.5312857142857144,
          0.32733333333333314,
          0.884,
          0.5589999999999999
         ],
         "yaxis": "y"
        },
        {
         "hoverinfo": "none",
         "line": {
          "color": "rgba(80,155,203,0.5)",
          "width": 0.5
         },
         "mode": "lines",
         "type": "scatter",
         "x": [
          0,
          0.6153846153846154,
          0.6923076923076923,
          0.7692307692307693,
          0.8461538461538461,
          1
         ],
         "xaxis": "x",
         "y": [
          0.19,
          0.1366468253968254,
          0.045935737436511435,
          0.36962734062463154,
          0.7217460317460318,
          0.697388888888889
         ],
         "yaxis": "y"
        },
        {
         "hoverinfo": "none",
         "line": {
          "color": "rgba(64,144,197,0.5)",
          "width": 0.5
         },
         "mode": "lines",
         "type": "scatter",
         "x": [
          0,
          0.6153846153846154,
          0.6923076923076923,
          0.7692307692307693,
          0.8461538461538461,
          1
         ],
         "xaxis": "x",
         "y": [
          0,
          0.44749999999999995,
          0.4671289372392313,
          0.35,
          0.99,
          0.39
         ],
         "yaxis": "y"
        },
        {
         "hoverinfo": "none",
         "line": {
          "color": "rgba(49,129,189,0.5)",
          "width": 0.5
         },
         "mode": "lines",
         "type": "scatter",
         "x": [
          0,
          0.6153846153846154,
          0.6923076923076923,
          0.7692307692307693,
          0.8461538461538461,
          1
         ],
         "xaxis": "x",
         "y": [
          0.19,
          0.1366468253968254,
          0.045935737436511435,
          0.36962734062463154,
          0.7217460317460318,
          0.697388888888889
         ],
         "yaxis": "y"
        },
        {
         "hoverinfo": "none",
         "line": {
          "color": "rgba(36,116,182,0.5)",
          "width": 0.5
         },
         "mode": "lines",
         "type": "scatter",
         "x": [
          0,
          0.6153846153846154,
          0.6923076923076923,
          0.7692307692307693,
          0.8461538461538461,
          1
         ],
         "xaxis": "x",
         "y": [
          0,
          0,
          0.11,
          0.3627460317460317,
          0.22852380952380952,
          0.86
         ],
         "yaxis": "y"
        },
        {
         "hoverinfo": "none",
         "line": {
          "color": "rgba(193,217,237,0.5)",
          "width": 0.5
         },
         "mode": "lines",
         "type": "scatter",
         "x": [
          0,
          0.6153846153846154,
          0.6923076923076923,
          0.7692307692307693,
          0.8461538461538461,
          1
         ],
         "xaxis": "x",
         "y": [
          0.04,
          0.1,
          0.01,
          0.03,
          0.04,
          0.15
         ],
         "yaxis": "y"
        },
        {
         "hoverinfo": "none",
         "line": {
          "color": "rgba(177,210,231,0.5)",
          "width": 0.5
         },
         "mode": "lines",
         "type": "scatter",
         "x": [
          0,
          0.6153846153846154,
          0.6923076923076923,
          0.7692307692307693,
          0.8461538461538461,
          1
         ],
         "xaxis": "x",
         "y": [
          0.1925,
          0.307761544011544,
          0.14616748522089065,
          0.8183743993140614,
          0.7467460317460318,
          0.722388888888889
         ],
         "yaxis": "y"
        },
        {
         "hoverinfo": "none",
         "line": {
          "color": "rgba(160,202,225,0.5)",
          "width": 0.5
         },
         "mode": "lines",
         "type": "scatter",
         "x": [
          0,
          0.6153846153846154,
          0.6923076923076923,
          0.7692307692307693,
          0.8461538461538461,
          1
         ],
         "xaxis": "x",
         "y": [
          0.24666666666666667,
          0.23080952380952371,
          0,
          0.4033072483072484,
          0.3233133949383947,
          0.2
         ],
         "yaxis": "y"
        },
        {
         "hoverinfo": "none",
         "line": {
          "color": "rgba(139,192,221,0.5)",
          "width": 0.5
         },
         "mode": "lines",
         "type": "scatter",
         "x": [
          0,
          0.6153846153846154,
          0.6923076923076923,
          0.7692307692307693,
          0.8461538461538461,
          1
         ],
         "xaxis": "x",
         "y": [
          0.29,
          0.6391666666666667,
          0,
          0.22,
          0.2994523809523809,
          0.10866666666666668
         ],
         "yaxis": "y"
        },
        {
         "hoverinfo": "none",
         "line": {
          "color": "rgba(117,179,216,0.5)",
          "width": 0.5
         },
         "mode": "lines",
         "type": "scatter",
         "x": [
          0,
          0.6153846153846154,
          0.6923076923076923,
          0.7692307692307693,
          0.8461538461538461,
          1
         ],
         "xaxis": "x",
         "y": [
          0.01,
          0.075,
          0.323595238095238,
          0.73,
          0.995,
          0.39
         ],
         "yaxis": "y"
        },
        {
         "hoverinfo": "none",
         "line": {
          "color": "rgba(98,168,210,0.5)",
          "width": 0.5
         },
         "mode": "lines",
         "type": "scatter",
         "x": [
          0,
          0.6153846153846154,
          0.6923076923076923,
          0.7692307692307693,
          0.8461538461538461,
          1
         ],
         "xaxis": "x",
         "y": [
          0.03,
          0.4369400876900879,
          0.5999561107811492,
          0.8044264501838029,
          0.9988888888888888,
          0.3688888888888889
         ],
         "yaxis": "y"
        },
        {
         "hoverinfo": "none",
         "line": {
          "color": "rgba(80,155,203,0.5)",
          "width": 0.5
         },
         "mode": "lines",
         "type": "scatter",
         "x": [
          0,
          0.6153846153846154,
          0.6923076923076923,
          0.7692307692307693,
          0.8461538461538461,
          1
         ],
         "xaxis": "x",
         "y": [
          0.19,
          0.03296031746031746,
          0.6415384615384616,
          0.936923076923077,
          0.9671666666666667,
          0.72
         ],
         "yaxis": "y"
        },
        {
         "hoverinfo": "none",
         "line": {
          "color": "rgba(64,144,197,0.5)",
          "width": 0.5
         },
         "mode": "lines",
         "type": "scatter",
         "x": [
          0,
          0.6153846153846154,
          0.6923076923076923,
          0.7692307692307693,
          0.8461538461538461,
          1
         ],
         "xaxis": "x",
         "y": [
          0,
          0.55,
          0.4772120657120658,
          0.5579761904761905,
          0.5164444444444444,
          0.3733333333333333
         ],
         "yaxis": "y"
        },
        {
         "hoverinfo": "none",
         "line": {
          "color": "rgba(49,129,189,0.5)",
          "width": 0.5
         },
         "mode": "lines",
         "type": "scatter",
         "x": [
          0,
          0.6153846153846154,
          0.6923076923076923,
          0.7692307692307693,
          0.8461538461538461,
          1
         ],
         "xaxis": "x",
         "y": [
          0.2833333333333333,
          0.9145,
          0.996,
          0.18336080586080583,
          0.8630357142857141,
          0.18
         ],
         "yaxis": "y"
        },
        {
         "hoverinfo": "none",
         "line": {
          "color": "rgba(36,116,182,0.5)",
          "width": 0.5
         },
         "mode": "lines",
         "type": "scatter",
         "x": [
          0,
          0.6153846153846154,
          0.6923076923076923,
          0.7692307692307693,
          0.8461538461538461,
          1
         ],
         "xaxis": "x",
         "y": [
          0.03,
          0.4369400876900879,
          0.5999561107811492,
          0.8044264501838029,
          0.9988888888888888,
          0.3688888888888889
         ],
         "yaxis": "y"
        },
        {
         "hoverinfo": "none",
         "line": {
          "color": "rgba(193,217,237,0.5)",
          "width": 0.5
         },
         "mode": "lines",
         "type": "scatter",
         "x": [
          0,
          0.6153846153846154,
          0.6923076923076923,
          0.7692307692307693,
          0.8461538461538461,
          1
         ],
         "xaxis": "x",
         "y": [
          0.3016666666666667,
          0.4461190476190476,
          0.2815396825396825,
          0.59,
          0.5713333333333334,
          0.13416666666666666
         ],
         "yaxis": "y"
        },
        {
         "hoverinfo": "none",
         "line": {
          "color": "rgba(177,210,231,0.5)",
          "width": 0.5
         },
         "mode": "lines",
         "type": "scatter",
         "x": [
          0,
          0.6153846153846154,
          0.6923076923076923,
          0.7692307692307693,
          0.8461538461538461,
          1
         ],
         "xaxis": "x",
         "y": [
          0.03,
          0.4369400876900879,
          0.5999561107811492,
          0.8044264501838029,
          0.9988888888888888,
          0.3688888888888889
         ],
         "yaxis": "y"
        },
        {
         "hoverinfo": "none",
         "line": {
          "color": "rgba(160,202,225,0.5)",
          "width": 0.5
         },
         "mode": "lines",
         "type": "scatter",
         "x": [
          0,
          0.6153846153846154,
          0.6923076923076923,
          0.7692307692307693,
          0.8461538461538461,
          1
         ],
         "xaxis": "x",
         "y": [
          0.03,
          0.4369400876900879,
          0.5999561107811492,
          0.8044264501838029,
          0.9988888888888888,
          0.3688888888888889
         ],
         "yaxis": "y"
        },
        {
         "hoverinfo": "none",
         "line": {
          "color": "rgba(139,192,221,0.5)",
          "width": 0.5
         },
         "mode": "lines",
         "type": "scatter",
         "x": [
          0,
          0.6153846153846154,
          0.6923076923076923,
          0.7692307692307693,
          0.8461538461538461,
          1
         ],
         "xaxis": "x",
         "y": [
          0.19,
          0.1366468253968254,
          0.045935737436511435,
          0.36962734062463154,
          0.7217460317460318,
          0.697388888888889
         ],
         "yaxis": "y"
        },
        {
         "hoverinfo": "none",
         "line": {
          "color": "rgba(117,179,216,0.5)",
          "width": 0.5
         },
         "mode": "lines",
         "type": "scatter",
         "x": [
          0,
          0.6153846153846154,
          0.6923076923076923,
          0.7692307692307693,
          0.8461538461538461,
          1
         ],
         "xaxis": "x",
         "y": [
          0.34,
          0.11,
          0.7,
          0.03,
          0,
          0.33
         ],
         "yaxis": "y"
        },
        {
         "hoverinfo": "none",
         "line": {
          "color": "rgba(98,168,210,0.5)",
          "width": 0.5
         },
         "mode": "lines",
         "type": "scatter",
         "x": [
          0,
          0.6153846153846154,
          0.6923076923076923,
          0.7692307692307693,
          0.8461538461538461,
          1
         ],
         "xaxis": "x",
         "y": [
          0.23,
          0.7046666666666667,
          0.8554999999999999,
          0.6923571428571428,
          0.5988095238095238,
          0.7166666666666667
         ],
         "yaxis": "y"
        },
        {
         "hoverinfo": "none",
         "line": {
          "color": "rgba(80,155,203,0.5)",
          "width": 0.5
         },
         "mode": "lines",
         "type": "scatter",
         "x": [
          0,
          0.6153846153846154,
          0.6923076923076923,
          0.7692307692307693,
          0.8461538461538461,
          1
         ],
         "xaxis": "x",
         "y": [
          0.03,
          0.4369400876900879,
          0.5999561107811492,
          0.8044264501838029,
          0.9988888888888888,
          0.3688888888888889
         ],
         "yaxis": "y"
        },
        {
         "hoverinfo": "none",
         "line": {
          "color": "rgba(64,144,197,0.5)",
          "width": 0.5
         },
         "mode": "lines",
         "type": "scatter",
         "x": [
          0,
          0.6153846153846154,
          0.6923076923076923,
          0.7692307692307693,
          0.8461538461538461,
          1
         ],
         "xaxis": "x",
         "y": [
          0.30625,
          0.6209761904761902,
          0.6161666666666666,
          0.4425781163281165,
          0.8714166666666665,
          0.16125
         ],
         "yaxis": "y"
        },
        {
         "hoverinfo": "none",
         "line": {
          "color": "rgba(49,129,189,0.5)",
          "width": 0.5
         },
         "mode": "lines",
         "type": "scatter",
         "x": [
          0,
          0.6153846153846154,
          0.6923076923076923,
          0.7692307692307693,
          0.8461538461538461,
          1
         ],
         "xaxis": "x",
         "y": [
          0,
          0,
          0.008333333333333333,
          0,
          0,
          0.67
         ],
         "yaxis": "y"
        },
        {
         "hoverinfo": "none",
         "line": {
          "color": "rgba(36,116,182,0.5)",
          "width": 0.5
         },
         "mode": "lines",
         "type": "scatter",
         "x": [
          0,
          0.6153846153846154,
          0.6923076923076923,
          0.7692307692307693,
          0.8461538461538461,
          1
         ],
         "xaxis": "x",
         "y": [
          0.11,
          0,
          0,
          0,
          0,
          0.08
         ],
         "yaxis": "y"
        },
        {
         "hoverinfo": "none",
         "line": {
          "color": "rgba(193,217,237,0.5)",
          "width": 0.5
         },
         "mode": "lines",
         "type": "scatter",
         "x": [
          0,
          0.6153846153846154,
          0.6923076923076923,
          0.7692307692307693,
          0.8461538461538461,
          1
         ],
         "xaxis": "x",
         "y": [
          0.08,
          0.1,
          0.63,
          0.133,
          0.07,
          0.59
         ],
         "yaxis": "y"
        },
        {
         "hoverinfo": "none",
         "line": {
          "color": "rgba(177,210,231,0.5)",
          "width": 0.5
         },
         "mode": "lines",
         "type": "scatter",
         "x": [
          0,
          0.6153846153846154,
          0.6923076923076923,
          0.7692307692307693,
          0.8461538461538461,
          1
         ],
         "xaxis": "x",
         "y": [
          0.1991666666666667,
          0.07,
          0.43279004119076814,
          0.7965325091575086,
          0.5297976190476191,
          0.6254166666666667
         ],
         "yaxis": "y"
        },
        {
         "hoverinfo": "none",
         "line": {
          "color": "rgba(160,202,225,0.5)",
          "width": 0.5
         },
         "mode": "lines",
         "type": "scatter",
         "x": [
          0,
          0.6153846153846154,
          0.6923076923076923,
          0.7692307692307693,
          0.8461538461538461,
          1
         ],
         "xaxis": "x",
         "y": [
          0.36,
          0.1,
          0.57,
          0.33,
          0.3025,
          0.41
         ],
         "yaxis": "y"
        },
        {
         "hoverinfo": "none",
         "line": {
          "color": "rgba(139,192,221,0.5)",
          "width": 0.5
         },
         "mode": "lines",
         "type": "scatter",
         "x": [
          0,
          0.6153846153846154,
          0.6923076923076923,
          0.7692307692307693,
          0.8461538461538461,
          1
         ],
         "xaxis": "x",
         "y": [
          0.06,
          0.07,
          0.65,
          0.013333333333333332,
          0.62,
          0.9
         ],
         "yaxis": "y"
        },
        {
         "hoverinfo": "none",
         "line": {
          "color": "rgba(117,179,216,0.5)",
          "width": 0.5
         },
         "mode": "lines",
         "type": "scatter",
         "x": [
          0,
          0.6153846153846154,
          0.6923076923076923,
          0.7692307692307693,
          0.8461538461538461,
          1
         ],
         "xaxis": "x",
         "y": [
          0,
          0.03225901875901876,
          0.2356190476190476,
          0.5211071428571428,
          0.4433333333333333,
          0.3
         ],
         "yaxis": "y"
        },
        {
         "hoverinfo": "none",
         "line": {
          "color": "rgba(98,168,210,0.5)",
          "width": 0.5
         },
         "mode": "lines",
         "type": "scatter",
         "x": [
          0,
          0.6153846153846154,
          0.6923076923076923,
          0.7692307692307693,
          0.8461538461538461,
          1
         ],
         "xaxis": "x",
         "y": [
          0.01,
          0,
          0.17,
          0.9277777777777777,
          0.88,
          0.46
         ],
         "yaxis": "y"
        },
        {
         "hoverinfo": "none",
         "line": {
          "color": "rgba(80,155,203,0.5)",
          "width": 0.5
         },
         "mode": "lines",
         "type": "scatter",
         "x": [
          0,
          0.6153846153846154,
          0.6923076923076923,
          0.7692307692307693,
          0.8461538461538461,
          1
         ],
         "xaxis": "x",
         "y": [
          0.01,
          0,
          0,
          0,
          0.02,
          0.61
         ],
         "yaxis": "y"
        },
        {
         "hoverinfo": "none",
         "line": {
          "color": "rgba(64,144,197,0.5)",
          "width": 0.5
         },
         "mode": "lines",
         "type": "scatter",
         "x": [
          0,
          0.6153846153846154,
          0.6923076923076923,
          0.7692307692307693,
          0.8461538461538461,
          1
         ],
         "xaxis": "x",
         "y": [
          0.2,
          0.2,
          0.011538461538461537,
          1,
          1,
          0.39
         ],
         "yaxis": "y"
        },
        {
         "hoverinfo": "none",
         "line": {
          "color": "rgba(49,129,189,0.5)",
          "width": 0.5
         },
         "mode": "lines",
         "type": "scatter",
         "x": [
          0,
          0.6153846153846154,
          0.6923076923076923,
          0.7692307692307693,
          0.8461538461538461,
          1
         ],
         "xaxis": "x",
         "y": [
          0.19,
          0.1366468253968254,
          0.045935737436511435,
          0.36962734062463154,
          0.7217460317460318,
          0.697388888888889
         ],
         "yaxis": "y"
        },
        {
         "hoverinfo": "none",
         "line": {
          "color": "rgba(36,116,182,0.5)",
          "width": 0.5
         },
         "mode": "lines",
         "type": "scatter",
         "x": [
          0,
          0.6153846153846154,
          0.6923076923076923,
          0.7692307692307693,
          0.8461538461538461,
          1
         ],
         "xaxis": "x",
         "y": [
          0.19583333333333333,
          0.055,
          0.3416410533910535,
          0.3114999999999999,
          0.5092499999999999,
          0.63375
         ],
         "yaxis": "y"
        },
        {
         "hoverinfo": "none",
         "line": {
          "color": "rgba(193,217,237,0.5)",
          "width": 0.5
         },
         "mode": "lines",
         "type": "scatter",
         "x": [
          0,
          0.6153846153846154,
          0.6923076923076923,
          0.7692307692307693,
          0.8461538461538461,
          1
         ],
         "xaxis": "x",
         "y": [
          0.29,
          0.6391666666666667,
          0,
          0.22,
          0.2994523809523809,
          0.10866666666666668
         ],
         "yaxis": "y"
        },
        {
         "hoverinfo": "none",
         "line": {
          "color": "rgba(177,210,231,0.5)",
          "width": 0.5
         },
         "mode": "lines",
         "type": "scatter",
         "x": [
          0,
          0.6153846153846154,
          0.6923076923076923,
          0.7692307692307693,
          0.8461538461538461,
          1
         ],
         "xaxis": "x",
         "y": [
          0.1991666666666667,
          0.07,
          0.43279004119076814,
          0.7965325091575086,
          0.5297976190476191,
          0.6254166666666667
         ],
         "yaxis": "y"
        },
        {
         "hoverinfo": "none",
         "line": {
          "color": "rgba(160,202,225,0.5)",
          "width": 0.5
         },
         "mode": "lines",
         "type": "scatter",
         "x": [
          0,
          0.6153846153846154,
          0.6923076923076923,
          0.7692307692307693,
          0.8461538461538461,
          1
         ],
         "xaxis": "x",
         "y": [
          0.30625,
          0.6034761904761903,
          0.3164285714285714,
          0.2938928571428572,
          0.7535,
          0.15
         ],
         "yaxis": "y"
        },
        {
         "hoverinfo": "none",
         "line": {
          "color": "rgba(139,192,221,0.5)",
          "width": 0.5
         },
         "mode": "lines",
         "type": "scatter",
         "x": [
          0,
          0.6153846153846154,
          0.6923076923076923,
          0.7692307692307693,
          0.8461538461538461,
          1
         ],
         "xaxis": "x",
         "y": [
          0.05,
          0,
          0.07,
          0.01,
          0,
          0.47
         ],
         "yaxis": "y"
        },
        {
         "hoverinfo": "none",
         "line": {
          "color": "rgba(117,179,216,0.5)",
          "width": 0.5
         },
         "mode": "lines",
         "type": "scatter",
         "x": [
          0,
          0.6153846153846154,
          0.6923076923076923,
          0.7692307692307693,
          0.8461538461538461,
          1
         ],
         "xaxis": "x",
         "y": [
          0.1991666666666667,
          0.07,
          0.43279004119076814,
          0.7965325091575086,
          0.5297976190476191,
          0.6254166666666667
         ],
         "yaxis": "y"
        },
        {
         "hoverinfo": "none",
         "line": {
          "color": "rgba(98,168,210,0.5)",
          "width": 0.5
         },
         "mode": "lines",
         "type": "scatter",
         "x": [
          0,
          0.6153846153846154,
          0.6923076923076923,
          0.7692307692307693,
          0.8461538461538461,
          1
         ],
         "xaxis": "x",
         "y": [
          0.07,
          0.9091666666666667,
          0.12,
          0.9757142857142859,
          0.8558333333333333,
          0.45
         ],
         "yaxis": "y"
        },
        {
         "hoverinfo": "none",
         "line": {
          "color": "rgba(80,155,203,0.5)",
          "width": 0.5
         },
         "mode": "lines",
         "type": "scatter",
         "x": [
          0,
          0.6153846153846154,
          0.6923076923076923,
          0.7692307692307693,
          0.8461538461538461,
          1
         ],
         "xaxis": "x",
         "y": [
          0.01,
          0,
          0.17,
          0.9277777777777777,
          0.88,
          0.46
         ],
         "yaxis": "y"
        },
        {
         "hoverinfo": "none",
         "line": {
          "color": "rgba(64,144,197,0.5)",
          "width": 0.5
         },
         "mode": "lines",
         "type": "scatter",
         "x": [
          0,
          0.6153846153846154,
          0.6923076923076923,
          0.7692307692307693,
          0.8461538461538461,
          1
         ],
         "xaxis": "x",
         "y": [
          0.42714285714285716,
          0.6021428571428572,
          0.2281190476190476,
          0.13433333333333336,
          0.855,
          0.54
         ],
         "yaxis": "y"
        },
        {
         "hoverinfo": "none",
         "line": {
          "color": "rgba(49,129,189,0.5)",
          "width": 0.5
         },
         "mode": "lines",
         "type": "scatter",
         "x": [
          0,
          0.6153846153846154,
          0.6923076923076923,
          0.7692307692307693,
          0.8461538461538461,
          1
         ],
         "xaxis": "x",
         "y": [
          0.11,
          0.35,
          0.7913333333333332,
          0.065,
          0.08,
          0.19
         ],
         "yaxis": "y"
        },
        {
         "hoverinfo": "none",
         "line": {
          "color": "rgba(36,116,182,0.5)",
          "width": 0.5
         },
         "mode": "lines",
         "type": "scatter",
         "x": [
          0,
          0.6153846153846154,
          0.6923076923076923,
          0.7692307692307693,
          0.8461538461538461,
          1
         ],
         "xaxis": "x",
         "y": [
          0.19,
          0.5216428571428571,
          0.5775000000000001,
          0.6095620490620489,
          0.5776666666666667,
          0.6735
         ],
         "yaxis": "y"
        },
        {
         "hoverinfo": "none",
         "line": {
          "color": "rgba(193,217,237,0.5)",
          "width": 0.5
         },
         "mode": "lines",
         "type": "scatter",
         "x": [
          0,
          0.6153846153846154,
          0.6923076923076923,
          0.7692307692307693,
          0.8461538461538461,
          1
         ],
         "xaxis": "x",
         "y": [
          0.03,
          0.4369400876900879,
          0.5999561107811492,
          0.8044264501838029,
          0.9988888888888888,
          0.3688888888888889
         ],
         "yaxis": "y"
        },
        {
         "hoverinfo": "none",
         "line": {
          "color": "rgba(177,210,231,0.5)",
          "width": 0.5
         },
         "mode": "lines",
         "type": "scatter",
         "x": [
          0,
          0.6153846153846154,
          0.6923076923076923,
          0.7692307692307693,
          0.8461538461538461,
          1
         ],
         "xaxis": "x",
         "y": [
          0,
          0.2403506493506492,
          0.5082094572094572,
          0.69,
          0.99,
          0.39
         ],
         "yaxis": "y"
        },
        {
         "hoverinfo": "none",
         "line": {
          "color": "rgba(160,202,225,0.5)",
          "width": 0.5
         },
         "mode": "lines",
         "type": "scatter",
         "x": [
          0,
          0.6153846153846154,
          0.6923076923076923,
          0.7692307692307693,
          0.8461538461538461,
          1
         ],
         "xaxis": "x",
         "y": [
          0.14666666666666667,
          0.06,
          0.20666666666666664,
          0.17783333333333334,
          0.049166666666666664,
          0.43
         ],
         "yaxis": "y"
        },
        {
         "hoverinfo": "none",
         "line": {
          "color": "rgba(139,192,221,0.5)",
          "width": 0.5
         },
         "mode": "lines",
         "type": "scatter",
         "x": [
          0,
          0.6153846153846154,
          0.6923076923076923,
          0.7692307692307693,
          0.8461538461538461,
          1
         ],
         "xaxis": "x",
         "y": [
          0.2833333333333333,
          0.9145,
          0.996,
          0.19186080586080587,
          0.8585714285714287,
          0.18
         ],
         "yaxis": "y"
        },
        {
         "hoverinfo": "none",
         "line": {
          "color": "rgba(117,179,216,0.5)",
          "width": 0.5
         },
         "mode": "lines",
         "type": "scatter",
         "x": [
          0,
          0.6153846153846154,
          0.6923076923076923,
          0.7692307692307693,
          0.8461538461538461,
          1
         ],
         "xaxis": "x",
         "y": [
          0,
          0.2403506493506492,
          0.5082094572094572,
          0.69,
          0.99,
          0.39
         ],
         "yaxis": "y"
        },
        {
         "hoverinfo": "none",
         "line": {
          "color": "rgba(98,168,210,0.5)",
          "width": 0.5
         },
         "mode": "lines",
         "type": "scatter",
         "x": [
          0,
          0.6153846153846154,
          0.6923076923076923,
          0.7692307692307693,
          0.8461538461538461,
          1
         ],
         "xaxis": "x",
         "y": [
          0.07,
          0.22,
          0.28,
          0.2,
          0.45,
          0.25
         ],
         "yaxis": "y"
        },
        {
         "hoverinfo": "none",
         "line": {
          "color": "rgba(80,155,203,0.5)",
          "width": 0.5
         },
         "mode": "lines",
         "type": "scatter",
         "x": [
          0,
          0.6153846153846154,
          0.6923076923076923,
          0.7692307692307693,
          0.8461538461538461,
          1
         ],
         "xaxis": "x",
         "y": [
          0,
          0.09,
          0.48,
          0.54,
          0.06,
          0.19
         ],
         "yaxis": "y"
        },
        {
         "hoverinfo": "none",
         "line": {
          "color": "rgba(64,144,197,0.5)",
          "width": 0.5
         },
         "mode": "lines",
         "type": "scatter",
         "x": [
          0,
          0.6153846153846154,
          0.6923076923076923,
          0.7692307692307693,
          0.8461538461538461,
          1
         ],
         "xaxis": "x",
         "y": [
          0.027999999999999997,
          0.45032115107115095,
          0.8014574314574315,
          0.6066666666666667,
          0.8554397546897547,
          0.38698412698412704
         ],
         "yaxis": "y"
        },
        {
         "hoverinfo": "none",
         "line": {
          "color": "rgba(49,129,189,0.5)",
          "width": 0.5
         },
         "mode": "lines",
         "type": "scatter",
         "x": [
          0,
          0.6153846153846154,
          0.6923076923076923,
          0.7692307692307693,
          0.8461538461538461,
          1
         ],
         "xaxis": "x",
         "y": [
          0.11,
          0,
          0,
          0,
          0,
          0.08
         ],
         "yaxis": "y"
        },
        {
         "hoverinfo": "none",
         "line": {
          "color": "rgba(36,116,182,0.5)",
          "width": 0.5
         },
         "mode": "lines",
         "type": "scatter",
         "x": [
          0,
          0.6153846153846154,
          0.6923076923076923,
          0.7692307692307693,
          0.8461538461538461,
          1
         ],
         "xaxis": "x",
         "y": [
          0.34,
          0.01,
          0,
          0,
          0,
          0.19
         ],
         "yaxis": "y"
        },
        {
         "hoverinfo": "none",
         "line": {
          "color": "rgba(193,217,237,0.5)",
          "width": 0.5
         },
         "mode": "lines",
         "type": "scatter",
         "x": [
          0,
          0.6153846153846154,
          0.6923076923076923,
          0.7692307692307693,
          0.8461538461538461,
          1
         ],
         "xaxis": "x",
         "y": [
          0.35,
          0.02,
          0.3669761904761904,
          0.028333333333333332,
          0.5937954545454545,
          0.489
         ],
         "yaxis": "y"
        },
        {
         "hoverinfo": "none",
         "line": {
          "color": "rgba(177,210,231,0.5)",
          "width": 0.5
         },
         "mode": "lines",
         "type": "scatter",
         "x": [
          0,
          0.6153846153846154,
          0.6923076923076923,
          0.7692307692307693,
          0.8461538461538461,
          1
         ],
         "xaxis": "x",
         "y": [
          0,
          0,
          0.065,
          0.01,
          0.02,
          0.78
         ],
         "yaxis": "y"
        },
        {
         "hoverinfo": "none",
         "line": {
          "color": "rgba(160,202,225,0.5)",
          "width": 0.5
         },
         "mode": "lines",
         "type": "scatter",
         "x": [
          0,
          0.6153846153846154,
          0.6923076923076923,
          0.7692307692307693,
          0.8461538461538461,
          1
         ],
         "xaxis": "x",
         "y": [
          0.4,
          0.89,
          0.19,
          0.58,
          0.04,
          0.32
         ],
         "yaxis": "y"
        },
        {
         "hoverinfo": "none",
         "line": {
          "color": "rgba(139,192,221,0.5)",
          "width": 0.5
         },
         "mode": "lines",
         "type": "scatter",
         "x": [
          0,
          0.6153846153846154,
          0.6923076923076923,
          0.7692307692307693,
          0.8461538461538461,
          1
         ],
         "xaxis": "x",
         "y": [
          0.33,
          0.02,
          0,
          0,
          0,
          0.08
         ],
         "yaxis": "y"
        },
        {
         "hoverinfo": "none",
         "line": {
          "color": "rgba(117,179,216,0.5)",
          "width": 0.5
         },
         "mode": "lines",
         "type": "scatter",
         "x": [
          0,
          0.6153846153846154,
          0.6923076923076923,
          0.7692307692307693,
          0.8461538461538461,
          1
         ],
         "xaxis": "x",
         "y": [
          0.05,
          0.68,
          0.9490000000000001,
          0.7551984126984128,
          0.9366666666666665,
          0.47
         ],
         "yaxis": "y"
        },
        {
         "hoverinfo": "none",
         "line": {
          "color": "rgba(98,168,210,0.5)",
          "width": 0.5
         },
         "mode": "lines",
         "type": "scatter",
         "x": [
          0,
          0.6153846153846154,
          0.6923076923076923,
          0.7692307692307693,
          0.8461538461538461,
          1
         ],
         "xaxis": "x",
         "y": [
          0.29,
          0.6391666666666667,
          0,
          0.22,
          0.2994523809523809,
          0.10866666666666668
         ],
         "yaxis": "y"
        },
        {
         "hoverinfo": "none",
         "line": {
          "color": "rgba(80,155,203,0.5)",
          "width": 0.5
         },
         "mode": "lines",
         "type": "scatter",
         "x": [
          0,
          0.6153846153846154,
          0.6923076923076923,
          0.7692307692307693,
          0.8461538461538461,
          1
         ],
         "xaxis": "x",
         "y": [
          0.22214285714285714,
          0.19214285714285714,
          0.1846428571428571,
          0.20699999999999996,
          0.71,
          0.54
         ],
         "yaxis": "y"
        },
        {
         "hoverinfo": "none",
         "line": {
          "color": "rgba(64,144,197,0.5)",
          "width": 0.5
         },
         "mode": "lines",
         "type": "scatter",
         "x": [
          0,
          0.6153846153846154,
          0.6923076923076923,
          0.7692307692307693,
          0.8461538461538461,
          1
         ],
         "xaxis": "x",
         "y": [
          0.19,
          0.20761904761904762,
          0.07153846153846154,
          0.9969230769230769,
          0.9916666666666666,
          0.72
         ],
         "yaxis": "y"
        },
        {
         "hoverinfo": "none",
         "line": {
          "color": "rgba(49,129,189,0.5)",
          "width": 0.5
         },
         "mode": "lines",
         "type": "scatter",
         "x": [
          0,
          0.6153846153846154,
          0.6923076923076923,
          0.7692307692307693,
          0.8461538461538461,
          1
         ],
         "xaxis": "x",
         "y": [
          0.31,
          0.1503387445887446,
          0.9293333333333332,
          0.12776190476190477,
          0.3607857142857144,
          0.10333333333333332
         ],
         "yaxis": "y"
        },
        {
         "hoverinfo": "none",
         "line": {
          "color": "rgba(36,116,182,0.5)",
          "width": 0.5
         },
         "mode": "lines",
         "type": "scatter",
         "x": [
          0,
          0.6153846153846154,
          0.6923076923076923,
          0.7692307692307693,
          0.8461538461538461,
          1
         ],
         "xaxis": "x",
         "y": [
          0.37714285714285717,
          0.41964285714285715,
          0.542952380952381,
          0.39583333333333326,
          0.82,
          0.58
         ],
         "yaxis": "y"
        },
        {
         "hoverinfo": "none",
         "line": {
          "color": "rgba(193,217,237,0.5)",
          "width": 0.5
         },
         "mode": "lines",
         "type": "scatter",
         "x": [
          0,
          0.6153846153846154,
          0.6923076923076923,
          0.7692307692307693,
          0.8461538461538461,
          1
         ],
         "xaxis": "x",
         "y": [
          0.43714285714285717,
          0.6346428571428572,
          0.5312857142857144,
          0.32733333333333314,
          0.884,
          0.5589999999999999
         ],
         "yaxis": "y"
        },
        {
         "hoverinfo": "none",
         "line": {
          "color": "rgba(177,210,231,0.5)",
          "width": 0.5
         },
         "mode": "lines",
         "type": "scatter",
         "x": [
          0,
          0.6153846153846154,
          0.6923076923076923,
          0.7692307692307693,
          0.8461538461538461,
          1
         ],
         "xaxis": "x",
         "y": [
          0.38,
          0.885,
          0.02,
          0.28,
          0.54,
          0.32
         ],
         "yaxis": "y"
        },
        {
         "hoverinfo": "none",
         "line": {
          "color": "rgba(160,202,225,0.5)",
          "width": 0.5
         },
         "mode": "lines",
         "type": "scatter",
         "x": [
          0,
          0.6153846153846154,
          0.6923076923076923,
          0.7692307692307693,
          0.8461538461538461,
          1
         ],
         "xaxis": "x",
         "y": [
          0.30625,
          0.6034761904761903,
          0.3164285714285714,
          0.2938928571428572,
          0.7535,
          0.15
         ],
         "yaxis": "y"
        },
        {
         "hoverinfo": "none",
         "line": {
          "color": "rgba(139,192,221,0.5)",
          "width": 0.5
         },
         "mode": "lines",
         "type": "scatter",
         "x": [
          0,
          0.6153846153846154,
          0.6923076923076923,
          0.7692307692307693,
          0.8461538461538461,
          1
         ],
         "xaxis": "x",
         "y": [
          0.28,
          0.2581760461760461,
          0.222,
          0.27739682539682525,
          0.30528571428571427,
          0.10866666666666668
         ],
         "yaxis": "y"
        },
        {
         "hoverinfo": "none",
         "line": {
          "color": "rgba(117,179,216,0.5)",
          "width": 0.5
         },
         "mode": "lines",
         "type": "scatter",
         "x": [
          0,
          0.6153846153846154,
          0.6923076923076923,
          0.7692307692307693,
          0.8461538461538461,
          1
         ],
         "xaxis": "x",
         "y": [
          0,
          0.58,
          0.65,
          0.6901190476190477,
          0.6620378787878789,
          0.37255050505050513
         ],
         "yaxis": "y"
        },
        {
         "hoverinfo": "none",
         "line": {
          "color": "rgba(98,168,210,0.5)",
          "width": 0.5
         },
         "mode": "lines",
         "type": "scatter",
         "x": [
          0,
          0.6153846153846154,
          0.6923076923076923,
          0.7692307692307693,
          0.8461538461538461,
          1
         ],
         "xaxis": "x",
         "y": [
          0.1925,
          0.307761544011544,
          0.14616748522089065,
          0.8183743993140614,
          0.7467460317460318,
          0.722388888888889
         ],
         "yaxis": "y"
        },
        {
         "hoverinfo": "none",
         "line": {
          "color": "rgba(80,155,203,0.5)",
          "width": 0.5
         },
         "mode": "lines",
         "type": "scatter",
         "x": [
          0,
          0.6153846153846154,
          0.6923076923076923,
          0.7692307692307693,
          0.8461538461538461,
          1
         ],
         "xaxis": "x",
         "y": [
          0.14,
          0.04,
          0.12,
          0.64,
          0.06,
          0.09
         ],
         "yaxis": "y"
        },
        {
         "hoverinfo": "none",
         "line": {
          "color": "rgba(64,144,197,0.5)",
          "width": 0.5
         },
         "mode": "lines",
         "type": "scatter",
         "x": [
          0,
          0.6153846153846154,
          0.6923076923076923,
          0.7692307692307693,
          0.8461538461538461,
          1
         ],
         "xaxis": "x",
         "y": [
          0.30625,
          0.6034761904761903,
          0.3114285714285714,
          0.11776190476190478,
          0.7237857142857144,
          0.12
         ],
         "yaxis": "y"
        },
        {
         "hoverinfo": "none",
         "line": {
          "color": "rgba(49,129,189,0.5)",
          "width": 0.5
         },
         "mode": "lines",
         "type": "scatter",
         "x": [
          0,
          0.6153846153846154,
          0.6923076923076923,
          0.7692307692307693,
          0.8461538461538461,
          1
         ],
         "xaxis": "x",
         "y": [
          0.13,
          0.03,
          0.1,
          0.61,
          0.03,
          0.08
         ],
         "yaxis": "y"
        },
        {
         "hoverinfo": "none",
         "line": {
          "color": "rgba(36,116,182,0.5)",
          "width": 0.5
         },
         "mode": "lines",
         "type": "scatter",
         "x": [
          0,
          0.6153846153846154,
          0.6923076923076923,
          0.7692307692307693,
          0.8461538461538461,
          1
         ],
         "xaxis": "x",
         "y": [
          0,
          0,
          0.07,
          0,
          0.1,
          0.76
         ],
         "yaxis": "y"
        },
        {
         "hoverinfo": "none",
         "line": {
          "color": "rgba(193,217,237,0.5)",
          "width": 0.5
         },
         "mode": "lines",
         "type": "scatter",
         "x": [
          0,
          0.6153846153846154,
          0.6923076923076923,
          0.7692307692307693,
          0.8461538461538461,
          1
         ],
         "xaxis": "x",
         "y": [
          0.19,
          0.03296031746031746,
          0.6415384615384616,
          0.936923076923077,
          0.9671666666666667,
          0.72
         ],
         "yaxis": "y"
        },
        {
         "hoverinfo": "none",
         "line": {
          "color": "rgba(177,210,231,0.5)",
          "width": 0.5
         },
         "mode": "lines",
         "type": "scatter",
         "x": [
          0,
          0.6153846153846154,
          0.6923076923076923,
          0.7692307692307693,
          0.8461538461538461,
          1
         ],
         "xaxis": "x",
         "y": [
          0.027999999999999997,
          0.45032115107115095,
          0.8014574314574315,
          0.6066666666666667,
          0.8554397546897547,
          0.38698412698412704
         ],
         "yaxis": "y"
        },
        {
         "hoverinfo": "none",
         "line": {
          "color": "rgba(160,202,225,0.5)",
          "width": 0.5
         },
         "mode": "lines",
         "type": "scatter",
         "x": [
          0,
          0.6153846153846154,
          0.6923076923076923,
          0.7692307692307693,
          0.8461538461538461,
          1
         ],
         "xaxis": "x",
         "y": [
          0.19,
          0.12,
          0.29,
          0.73,
          0.66,
          0.45
         ],
         "yaxis": "y"
        },
        {
         "hoverinfo": "none",
         "line": {
          "color": "rgba(139,192,221,0.5)",
          "width": 0.5
         },
         "mode": "lines",
         "type": "scatter",
         "x": [
          0,
          0.6153846153846154,
          0.6923076923076923,
          0.7692307692307693,
          0.8461538461538461,
          1
         ],
         "xaxis": "x",
         "y": [
          0.13,
          0.03,
          0.1,
          0.61,
          0.03,
          0.08
         ],
         "yaxis": "y"
        },
        {
         "hoverinfo": "none",
         "line": {
          "color": "rgba(117,179,216,0.5)",
          "width": 0.5
         },
         "mode": "lines",
         "type": "scatter",
         "x": [
          0,
          0.6153846153846154,
          0.6923076923076923,
          0.7692307692307693,
          0.8461538461538461,
          1
         ],
         "xaxis": "x",
         "y": [
          0.16,
          0.6786666666666668,
          0.5586249999999998,
          0.5620778388278388,
          0.17705934343434343,
          0.25
         ],
         "yaxis": "y"
        },
        {
         "hoverinfo": "none",
         "line": {
          "color": "rgba(98,168,210,0.5)",
          "width": 0.5
         },
         "mode": "lines",
         "type": "scatter",
         "x": [
          0,
          0.6153846153846154,
          0.6923076923076923,
          0.7692307692307693,
          0.8461538461538461,
          1
         ],
         "xaxis": "x",
         "y": [
          0.28,
          0.2581760461760461,
          0.222,
          0.27739682539682525,
          0.30528571428571427,
          0.10866666666666668
         ],
         "yaxis": "y"
        },
        {
         "hoverinfo": "none",
         "line": {
          "color": "rgba(80,155,203,0.5)",
          "width": 0.5
         },
         "mode": "lines",
         "type": "scatter",
         "x": [
          0,
          0.6153846153846154,
          0.6923076923076923,
          0.7692307692307693,
          0.8461538461538461,
          1
         ],
         "xaxis": "x",
         "y": [
          0.23,
          0.7046666666666667,
          0.8554999999999999,
          0.6923571428571428,
          0.5988095238095238,
          0.7166666666666667
         ],
         "yaxis": "y"
        },
        {
         "hoverinfo": "none",
         "line": {
          "color": "rgba(64,144,197,0.5)",
          "width": 0.5
         },
         "mode": "lines",
         "type": "scatter",
         "x": [
          0,
          0.6153846153846154,
          0.6923076923076923,
          0.7692307692307693,
          0.8461538461538461,
          1
         ],
         "xaxis": "x",
         "y": [
          0.30625,
          0.6034761904761903,
          0.3164285714285714,
          0.2938928571428572,
          0.7535,
          0.15
         ],
         "yaxis": "y"
        },
        {
         "hoverinfo": "none",
         "line": {
          "color": "rgba(49,129,189,0.5)",
          "width": 0.5
         },
         "mode": "lines",
         "type": "scatter",
         "x": [
          0,
          0.6153846153846154,
          0.6923076923076923,
          0.7692307692307693,
          0.8461538461538461,
          1
         ],
         "xaxis": "x",
         "y": [
          0.26599999999999996,
          0.3125151515151515,
          0.2558751413275406,
          0.5942994227994227,
          0.1741626984126984,
          0.13233333333333333
         ],
         "yaxis": "y"
        },
        {
         "hoverinfo": "none",
         "line": {
          "color": "rgba(36,116,182,0.5)",
          "width": 0.5
         },
         "mode": "lines",
         "type": "scatter",
         "x": [
          0,
          0.6153846153846154,
          0.6923076923076923,
          0.7692307692307693,
          0.8461538461538461,
          1
         ],
         "xaxis": "x",
         "y": [
          0,
          0.03225901875901876,
          0.2456190476190476,
          0.5411071428571429,
          0.78,
          0.36
         ],
         "yaxis": "y"
        },
        {
         "hoverinfo": "none",
         "line": {
          "color": "#FEDC00",
          "width": 4.5
         },
         "mode": "lines",
         "type": "scatter",
         "x": [
          0,
          0.6153846153846154,
          0.6923076923076923,
          0.7692307692307693,
          0.8461538461538461,
          1
         ],
         "xaxis": "x",
         "y": [
          0.15896592643467644,
          0.2791659545938392,
          0.3566194645461566,
          0.4194366015403709,
          0.5223309400713247,
          0.38967289770414776
         ],
         "yaxis": "y"
        },
        {
         "hoverinfo": "none",
         "line": {
          "color": "#E75438",
          "dash": "dash",
          "width": 1.5
         },
         "mode": "lines",
         "type": "scatter",
         "x": [
          0,
          0.6153846153846154,
          0.6923076923076923,
          0.7692307692307693,
          0.8461538461538461,
          1
         ],
         "xaxis": "x",
         "y": [
          0,
          0,
          0,
          0,
          0,
          0
         ],
         "yaxis": "y"
        },
        {
         "hovertemplate": "%{y}",
         "line": {
          "color": "rgba(8,48,107,1.0)",
          "width": 1.5
         },
         "marker": {
          "color": "rgba(8,48,107,1.0)",
          "size": 5
         },
         "mode": "lines+markers",
         "name": "pdp",
         "type": "scatter",
         "x": [
          0,
          0.6153846153846154,
          0.6923076923076923,
          0.7692307692307693,
          0.8461538461538461,
          1
         ],
         "xaxis": "x",
         "y": [
          0.15896592643467644,
          0.2791659545938392,
          0.3566194645461566,
          0.4194366015403709,
          0.5223309400713247,
          0.38967289770414776
         ],
         "yaxis": "y"
        },
        {
         "hoverinfo": "none",
         "mode": "text",
         "name": "dist",
         "showlegend": false,
         "text": [
          "|",
          "|",
          "|",
          "|",
          "|",
          "|",
          "|",
          "|",
          "|",
          "|",
          "|",
          "|",
          "|",
          "|",
          "|",
          "|",
          "|",
          "|",
          "|",
          "|",
          "|",
          "|",
          "|",
          "|",
          "|",
          "|",
          "|",
          "|",
          "|",
          "|",
          "|",
          "|",
          "|",
          "|",
          "|",
          "|",
          "|",
          "|",
          "|",
          "|",
          "|",
          "|",
          "|",
          "|",
          "|",
          "|",
          "|",
          "|",
          "|",
          "|",
          "|",
          "|",
          "|",
          "|",
          "|",
          "|",
          "|",
          "|",
          "|",
          "|",
          "|",
          "|",
          "|",
          "|",
          "|",
          "|",
          "|",
          "|",
          "|",
          "|",
          "|",
          "|",
          "|",
          "|",
          "|",
          "|",
          "|",
          "|",
          "|",
          "|",
          "|",
          "|",
          "|",
          "|",
          "|",
          "|",
          "|",
          "|",
          "|",
          "|",
          "|",
          "|",
          "|",
          "|",
          "|",
          "|",
          "|",
          "|",
          "|",
          "|",
          "|",
          "|",
          "|",
          "|",
          "|",
          "|",
          "|",
          "|",
          "|",
          "|",
          "|",
          "|",
          "|",
          "|",
          "|",
          "|",
          "|",
          "|",
          "|",
          "|",
          "|",
          "|",
          "|",
          "|",
          "|",
          "|",
          "|",
          "|",
          "|",
          "|",
          "|",
          "|",
          "|",
          "|",
          "|",
          "|",
          "|",
          "|",
          "|",
          "|",
          "|",
          "|",
          "|",
          "|",
          "|",
          "|",
          "|",
          "|",
          "|",
          "|",
          "|",
          "|",
          "|",
          "|",
          "|",
          "|",
          "|",
          "|",
          "|",
          "|",
          "|",
          "|",
          "|",
          "|",
          "|",
          "|",
          "|",
          "|",
          "|",
          "|",
          "|",
          "|",
          "|",
          "|",
          "|",
          "|",
          "|",
          "|",
          "|",
          "|",
          "|",
          "|",
          "|",
          "|",
          "|",
          "|",
          "|",
          "|",
          "|",
          "|",
          "|",
          "|",
          "|",
          "|",
          "|",
          "|",
          "|",
          "|",
          "|",
          "|",
          "|",
          "|",
          "|",
          "|",
          "|",
          "|",
          "|",
          "|",
          "|",
          "|",
          "|",
          "|",
          "|",
          "|",
          "|",
          "|",
          "|",
          "|",
          "|",
          "|",
          "|",
          "|",
          "|",
          "|",
          "|",
          "|",
          "|",
          "|",
          "|",
          "|",
          "|",
          "|",
          "|",
          "|",
          "|",
          "|",
          "|",
          "|",
          "|",
          "|",
          "|",
          "|",
          "|",
          "|",
          "|",
          "|",
          "|",
          "|",
          "|",
          "|",
          "|",
          "|",
          "|",
          "|",
          "|",
          "|",
          "|",
          "|",
          "|",
          "|",
          "|",
          "|",
          "|",
          "|",
          "|",
          "|",
          "|",
          "|",
          "|",
          "|",
          "|",
          "|",
          "|",
          "|",
          "|",
          "|",
          "|",
          "|",
          "|",
          "|",
          "|",
          "|",
          "|",
          "|",
          "|",
          "|",
          "|",
          "|",
          "|",
          "|",
          "|",
          "|",
          "|",
          "|",
          "|",
          "|",
          "|",
          "|",
          "|",
          "|",
          "|",
          "|",
          "|",
          "|",
          "|",
          "|",
          "|",
          "|",
          "|",
          "|",
          "|",
          "|"
         ],
         "textfont": {
          "color": "rgba(8,48,107,1.0)",
          "size": 20
         },
         "textposition": "middle center",
         "type": "scatter",
         "x": [
          0.6923076923076923,
          0.6923076923076923,
          0.9230769230769231,
          0.6923076923076923,
          0.6153846153846154,
          0.6923076923076923,
          0.7692307692307693,
          0.8461538461538461,
          0.6153846153846154,
          0.6923076923076923,
          0.6923076923076923,
          0.7692307692307693,
          0.6923076923076923,
          0.46153846153846156,
          0.6923076923076923,
          0.6923076923076923,
          0.6923076923076923,
          0.9230769230769231,
          0.7692307692307693,
          0.6923076923076923,
          0.7692307692307693,
          0.46153846153846156,
          0.7692307692307693,
          0.7692307692307693,
          0.8461538461538461,
          0.8461538461538461,
          0.6923076923076923,
          0.6923076923076923,
          0.6923076923076923,
          0.6923076923076923,
          0.7692307692307693,
          0.5384615384615384,
          0.6923076923076923,
          0.6923076923076923,
          0.9230769230769231,
          0.6923076923076923,
          0.6153846153846154,
          0.7692307692307693,
          0.6153846153846154,
          0.7692307692307693,
          0.7692307692307693,
          0.7692307692307693,
          0.7692307692307693,
          0.6153846153846154,
          0.6153846153846154,
          0.7692307692307693,
          0.6153846153846154,
          0.8461538461538461,
          0.6923076923076923,
          0.9230769230769231,
          0.8461538461538461,
          0.7692307692307693,
          0.7692307692307693,
          0.6153846153846154,
          0.5384615384615384,
          0.8461538461538461,
          0.6923076923076923,
          0.7692307692307693,
          0.5384615384615384,
          0.6153846153846154,
          0.6153846153846154,
          0.6923076923076923,
          0.6153846153846154,
          0.7692307692307693,
          0.6923076923076923,
          0.6153846153846154,
          0.7692307692307693,
          0.46153846153846156,
          0.8461538461538461,
          0.6153846153846154,
          0.8461538461538461,
          0.8461538461538461,
          0.6153846153846154,
          0.6153846153846154,
          0.6923076923076923,
          0.7692307692307693,
          0.6153846153846154,
          0.6923076923076923,
          0.6923076923076923,
          0.6153846153846154,
          0.7692307692307693,
          0.6923076923076923,
          0.6923076923076923,
          0.9230769230769231,
          0.6923076923076923,
          0.6153846153846154,
          0.6153846153846154,
          0.8461538461538461,
          0.7692307692307693,
          0.9230769230769231,
          0.7692307692307693,
          0.15384615384615385,
          0.7692307692307693,
          0.7692307692307693,
          1,
          0.7692307692307693,
          0.5384615384615384,
          0.6923076923076923,
          0.7692307692307693,
          0.5384615384615384,
          0.7692307692307693,
          0.6153846153846154,
          0.8461538461538461,
          0.6923076923076923,
          0.9230769230769231,
          0.7692307692307693,
          0.8461538461538461,
          0.6923076923076923,
          0.7692307692307693,
          0.6153846153846154,
          0.7692307692307693,
          0.8461538461538461,
          0.6153846153846154,
          0.5384615384615384,
          0.8461538461538461,
          0.5384615384615384,
          0.6923076923076923,
          0.7692307692307693,
          0.7692307692307693,
          0.7692307692307693,
          0.6923076923076923,
          0.7692307692307693,
          0.5384615384615384,
          0.9230769230769231,
          0.7692307692307693,
          0.6923076923076923,
          0.8461538461538461,
          0.8461538461538461,
          0.7692307692307693,
          0.8461538461538461,
          0.9230769230769231,
          0.7692307692307693,
          0.7692307692307693,
          0.6153846153846154,
          0.5384615384615384,
          0.8461538461538461,
          0.6923076923076923,
          0.6923076923076923,
          0.7692307692307693,
          0.6153846153846154,
          0.46153846153846156,
          0.5384615384615384,
          0.6923076923076923,
          0.8461538461538461,
          0.7692307692307693,
          0.46153846153846156,
          0.6923076923076923,
          0.6923076923076923,
          0.6153846153846154,
          0.7692307692307693,
          0.7692307692307693,
          0.6923076923076923,
          0.23076923076923078,
          0.6923076923076923,
          0.7692307692307693,
          0.6923076923076923,
          0.7692307692307693,
          0.7692307692307693,
          0.6153846153846154,
          0.8461538461538461,
          0.6923076923076923,
          0.6923076923076923,
          0.6153846153846154,
          0.6923076923076923,
          0.6153846153846154,
          0.6923076923076923,
          0.6923076923076923,
          0.6923076923076923,
          0.8461538461538461,
          0.7692307692307693,
          0.6153846153846154,
          0.7692307692307693,
          0.8461538461538461,
          0.5384615384615384,
          0.7692307692307693,
          0.7692307692307693,
          0.6153846153846154,
          0.6923076923076923,
          0.46153846153846156,
          0.46153846153846156,
          0.6923076923076923,
          0.8461538461538461,
          0.9230769230769231,
          0.6153846153846154,
          0.6153846153846154,
          0.6923076923076923,
          0.6153846153846154,
          0.8461538461538461,
          0.6923076923076923,
          0.9230769230769231,
          0.6153846153846154,
          0.46153846153846156,
          0.9230769230769231,
          0.7692307692307693,
          0.7692307692307693,
          0.7692307692307693,
          0.7692307692307693,
          0.5384615384615384,
          0.8461538461538461,
          0.6153846153846154,
          0.7692307692307693,
          0.8461538461538461,
          0.8461538461538461,
          0.7692307692307693,
          0.7692307692307693,
          0.9230769230769231,
          0.7692307692307693,
          0.6923076923076923,
          0.6923076923076923,
          0.6923076923076923,
          0.8461538461538461,
          0.6923076923076923,
          0.6923076923076923,
          0.6923076923076923,
          0.6923076923076923,
          0.6153846153846154,
          0.7692307692307693,
          0.7692307692307693,
          0.46153846153846156,
          0.46153846153846156,
          0.7692307692307693,
          0.6153846153846154,
          0.6153846153846154,
          0.7692307692307693,
          0.38461538461538464,
          0.6923076923076923,
          0.7692307692307693,
          0.7692307692307693,
          0.6153846153846154,
          0.7692307692307693,
          0.8461538461538461,
          0.6153846153846154,
          0.7692307692307693,
          0.7692307692307693,
          0.6923076923076923,
          0.8461538461538461,
          0.7692307692307693,
          0.6923076923076923,
          0.8461538461538461,
          0.6153846153846154,
          0.7692307692307693,
          0.8461538461538461,
          0.7692307692307693,
          0.9230769230769231,
          0.6153846153846154,
          0.8461538461538461,
          0.6153846153846154,
          0.6923076923076923,
          0.6153846153846154,
          0.23076923076923078,
          0.7692307692307693,
          0.9230769230769231,
          0.7692307692307693,
          0.7692307692307693,
          0.7692307692307693,
          0.6923076923076923,
          0.6923076923076923,
          0.8461538461538461,
          0.5384615384615384,
          0.6923076923076923,
          0.7692307692307693,
          0.7692307692307693,
          0.7692307692307693,
          0.9230769230769231,
          0.6923076923076923,
          0.7692307692307693,
          0.8461538461538461,
          0.7692307692307693,
          0.7692307692307693,
          0.7692307692307693,
          0.6923076923076923,
          0.8461538461538461,
          0.7692307692307693,
          0.6923076923076923,
          0.6923076923076923,
          0.8461538461538461,
          0.6923076923076923,
          0.8461538461538461,
          0.7692307692307693,
          0.7692307692307693,
          0.7692307692307693,
          0.5384615384615384,
          0.6923076923076923,
          0.9230769230769231,
          0.7692307692307693,
          0.8461538461538461,
          0.6153846153846154,
          0.6153846153846154,
          0.6153846153846154,
          0.6923076923076923,
          0,
          0.8461538461538461,
          0.6923076923076923,
          0.6923076923076923,
          0.7692307692307693,
          0.6923076923076923,
          0.7692307692307693,
          0.5384615384615384,
          0.6153846153846154,
          0.6923076923076923,
          0.6923076923076923,
          0.6153846153846154,
          0.6153846153846154,
          0.7692307692307693,
          0.8461538461538461,
          0.7692307692307693,
          0.7692307692307693,
          0.5384615384615384,
          0.7692307692307693,
          0.7692307692307693,
          0.9230769230769231,
          0.6923076923076923
         ],
         "xaxis": "x2",
         "y": [
          1,
          1,
          1,
          1,
          1,
          1,
          1,
          1,
          1,
          1,
          1,
          1,
          1,
          1,
          1,
          1,
          1,
          1,
          1,
          1,
          1,
          1,
          1,
          1,
          1,
          1,
          1,
          1,
          1,
          1,
          1,
          1,
          1,
          1,
          1,
          1,
          1,
          1,
          1,
          1,
          1,
          1,
          1,
          1,
          1,
          1,
          1,
          1,
          1,
          1,
          1,
          1,
          1,
          1,
          1,
          1,
          1,
          1,
          1,
          1,
          1,
          1,
          1,
          1,
          1,
          1,
          1,
          1,
          1,
          1,
          1,
          1,
          1,
          1,
          1,
          1,
          1,
          1,
          1,
          1,
          1,
          1,
          1,
          1,
          1,
          1,
          1,
          1,
          1,
          1,
          1,
          1,
          1,
          1,
          1,
          1,
          1,
          1,
          1,
          1,
          1,
          1,
          1,
          1,
          1,
          1,
          1,
          1,
          1,
          1,
          1,
          1,
          1,
          1,
          1,
          1,
          1,
          1,
          1,
          1,
          1,
          1,
          1,
          1,
          1,
          1,
          1,
          1,
          1,
          1,
          1,
          1,
          1,
          1,
          1,
          1,
          1,
          1,
          1,
          1,
          1,
          1,
          1,
          1,
          1,
          1,
          1,
          1,
          1,
          1,
          1,
          1,
          1,
          1,
          1,
          1,
          1,
          1,
          1,
          1,
          1,
          1,
          1,
          1,
          1,
          1,
          1,
          1,
          1,
          1,
          1,
          1,
          1,
          1,
          1,
          1,
          1,
          1,
          1,
          1,
          1,
          1,
          1,
          1,
          1,
          1,
          1,
          1,
          1,
          1,
          1,
          1,
          1,
          1,
          1,
          1,
          1,
          1,
          1,
          1,
          1,
          1,
          1,
          1,
          1,
          1,
          1,
          1,
          1,
          1,
          1,
          1,
          1,
          1,
          1,
          1,
          1,
          1,
          1,
          1,
          1,
          1,
          1,
          1,
          1,
          1,
          1,
          1,
          1,
          1,
          1,
          1,
          1,
          1,
          1,
          1,
          1,
          1,
          1,
          1,
          1,
          1,
          1,
          1,
          1,
          1,
          1,
          1,
          1,
          1,
          1,
          1,
          1,
          1,
          1,
          1,
          1,
          1,
          1,
          1,
          1,
          1,
          1,
          1,
          1,
          1,
          1,
          1,
          1,
          1,
          1,
          1,
          1,
          1,
          1,
          1,
          1,
          1,
          1,
          1,
          1,
          1,
          1,
          1,
          1,
          1,
          1,
          1,
          1,
          1,
          1,
          1,
          1,
          1,
          1,
          1,
          1,
          1,
          1,
          1,
          1,
          1,
          1,
          1,
          1,
          1,
          1,
          1,
          1,
          1,
          1,
          1
         ],
         "yaxis": "y2"
        }
       ],
       "layout": {
        "height": 600,
        "showlegend": false,
        "template": {
         "data": {
          "bar": [
           {
            "error_x": {
             "color": "#2a3f5f"
            },
            "error_y": {
             "color": "#2a3f5f"
            },
            "marker": {
             "line": {
              "color": "white",
              "width": 0.5
             },
             "pattern": {
              "fillmode": "overlay",
              "size": 10,
              "solidity": 0.2
             }
            },
            "type": "bar"
           }
          ],
          "barpolar": [
           {
            "marker": {
             "line": {
              "color": "white",
              "width": 0.5
             },
             "pattern": {
              "fillmode": "overlay",
              "size": 10,
              "solidity": 0.2
             }
            },
            "type": "barpolar"
           }
          ],
          "carpet": [
           {
            "aaxis": {
             "endlinecolor": "#2a3f5f",
             "gridcolor": "#C8D4E3",
             "linecolor": "#C8D4E3",
             "minorgridcolor": "#C8D4E3",
             "startlinecolor": "#2a3f5f"
            },
            "baxis": {
             "endlinecolor": "#2a3f5f",
             "gridcolor": "#C8D4E3",
             "linecolor": "#C8D4E3",
             "minorgridcolor": "#C8D4E3",
             "startlinecolor": "#2a3f5f"
            },
            "type": "carpet"
           }
          ],
          "choropleth": [
           {
            "colorbar": {
             "outlinewidth": 0,
             "ticks": ""
            },
            "type": "choropleth"
           }
          ],
          "contour": [
           {
            "colorbar": {
             "outlinewidth": 0,
             "ticks": ""
            },
            "colorscale": [
             [
              0,
              "#0d0887"
             ],
             [
              0.1111111111111111,
              "#46039f"
             ],
             [
              0.2222222222222222,
              "#7201a8"
             ],
             [
              0.3333333333333333,
              "#9c179e"
             ],
             [
              0.4444444444444444,
              "#bd3786"
             ],
             [
              0.5555555555555556,
              "#d8576b"
             ],
             [
              0.6666666666666666,
              "#ed7953"
             ],
             [
              0.7777777777777778,
              "#fb9f3a"
             ],
             [
              0.8888888888888888,
              "#fdca26"
             ],
             [
              1,
              "#f0f921"
             ]
            ],
            "type": "contour"
           }
          ],
          "contourcarpet": [
           {
            "colorbar": {
             "outlinewidth": 0,
             "ticks": ""
            },
            "type": "contourcarpet"
           }
          ],
          "heatmap": [
           {
            "colorbar": {
             "outlinewidth": 0,
             "ticks": ""
            },
            "colorscale": [
             [
              0,
              "#0d0887"
             ],
             [
              0.1111111111111111,
              "#46039f"
             ],
             [
              0.2222222222222222,
              "#7201a8"
             ],
             [
              0.3333333333333333,
              "#9c179e"
             ],
             [
              0.4444444444444444,
              "#bd3786"
             ],
             [
              0.5555555555555556,
              "#d8576b"
             ],
             [
              0.6666666666666666,
              "#ed7953"
             ],
             [
              0.7777777777777778,
              "#fb9f3a"
             ],
             [
              0.8888888888888888,
              "#fdca26"
             ],
             [
              1,
              "#f0f921"
             ]
            ],
            "type": "heatmap"
           }
          ],
          "heatmapgl": [
           {
            "colorbar": {
             "outlinewidth": 0,
             "ticks": ""
            },
            "colorscale": [
             [
              0,
              "#0d0887"
             ],
             [
              0.1111111111111111,
              "#46039f"
             ],
             [
              0.2222222222222222,
              "#7201a8"
             ],
             [
              0.3333333333333333,
              "#9c179e"
             ],
             [
              0.4444444444444444,
              "#bd3786"
             ],
             [
              0.5555555555555556,
              "#d8576b"
             ],
             [
              0.6666666666666666,
              "#ed7953"
             ],
             [
              0.7777777777777778,
              "#fb9f3a"
             ],
             [
              0.8888888888888888,
              "#fdca26"
             ],
             [
              1,
              "#f0f921"
             ]
            ],
            "type": "heatmapgl"
           }
          ],
          "histogram": [
           {
            "marker": {
             "pattern": {
              "fillmode": "overlay",
              "size": 10,
              "solidity": 0.2
             }
            },
            "type": "histogram"
           }
          ],
          "histogram2d": [
           {
            "colorbar": {
             "outlinewidth": 0,
             "ticks": ""
            },
            "colorscale": [
             [
              0,
              "#0d0887"
             ],
             [
              0.1111111111111111,
              "#46039f"
             ],
             [
              0.2222222222222222,
              "#7201a8"
             ],
             [
              0.3333333333333333,
              "#9c179e"
             ],
             [
              0.4444444444444444,
              "#bd3786"
             ],
             [
              0.5555555555555556,
              "#d8576b"
             ],
             [
              0.6666666666666666,
              "#ed7953"
             ],
             [
              0.7777777777777778,
              "#fb9f3a"
             ],
             [
              0.8888888888888888,
              "#fdca26"
             ],
             [
              1,
              "#f0f921"
             ]
            ],
            "type": "histogram2d"
           }
          ],
          "histogram2dcontour": [
           {
            "colorbar": {
             "outlinewidth": 0,
             "ticks": ""
            },
            "colorscale": [
             [
              0,
              "#0d0887"
             ],
             [
              0.1111111111111111,
              "#46039f"
             ],
             [
              0.2222222222222222,
              "#7201a8"
             ],
             [
              0.3333333333333333,
              "#9c179e"
             ],
             [
              0.4444444444444444,
              "#bd3786"
             ],
             [
              0.5555555555555556,
              "#d8576b"
             ],
             [
              0.6666666666666666,
              "#ed7953"
             ],
             [
              0.7777777777777778,
              "#fb9f3a"
             ],
             [
              0.8888888888888888,
              "#fdca26"
             ],
             [
              1,
              "#f0f921"
             ]
            ],
            "type": "histogram2dcontour"
           }
          ],
          "mesh3d": [
           {
            "colorbar": {
             "outlinewidth": 0,
             "ticks": ""
            },
            "type": "mesh3d"
           }
          ],
          "parcoords": [
           {
            "line": {
             "colorbar": {
              "outlinewidth": 0,
              "ticks": ""
             }
            },
            "type": "parcoords"
           }
          ],
          "pie": [
           {
            "automargin": true,
            "type": "pie"
           }
          ],
          "scatter": [
           {
            "fillpattern": {
             "fillmode": "overlay",
             "size": 10,
             "solidity": 0.2
            },
            "type": "scatter"
           }
          ],
          "scatter3d": [
           {
            "line": {
             "colorbar": {
              "outlinewidth": 0,
              "ticks": ""
             }
            },
            "marker": {
             "colorbar": {
              "outlinewidth": 0,
              "ticks": ""
             }
            },
            "type": "scatter3d"
           }
          ],
          "scattercarpet": [
           {
            "marker": {
             "colorbar": {
              "outlinewidth": 0,
              "ticks": ""
             }
            },
            "type": "scattercarpet"
           }
          ],
          "scattergeo": [
           {
            "marker": {
             "colorbar": {
              "outlinewidth": 0,
              "ticks": ""
             }
            },
            "type": "scattergeo"
           }
          ],
          "scattergl": [
           {
            "marker": {
             "colorbar": {
              "outlinewidth": 0,
              "ticks": ""
             }
            },
            "type": "scattergl"
           }
          ],
          "scattermapbox": [
           {
            "marker": {
             "colorbar": {
              "outlinewidth": 0,
              "ticks": ""
             }
            },
            "type": "scattermapbox"
           }
          ],
          "scatterpolar": [
           {
            "marker": {
             "colorbar": {
              "outlinewidth": 0,
              "ticks": ""
             }
            },
            "type": "scatterpolar"
           }
          ],
          "scatterpolargl": [
           {
            "marker": {
             "colorbar": {
              "outlinewidth": 0,
              "ticks": ""
             }
            },
            "type": "scatterpolargl"
           }
          ],
          "scatterternary": [
           {
            "marker": {
             "colorbar": {
              "outlinewidth": 0,
              "ticks": ""
             }
            },
            "type": "scatterternary"
           }
          ],
          "surface": [
           {
            "colorbar": {
             "outlinewidth": 0,
             "ticks": ""
            },
            "colorscale": [
             [
              0,
              "#0d0887"
             ],
             [
              0.1111111111111111,
              "#46039f"
             ],
             [
              0.2222222222222222,
              "#7201a8"
             ],
             [
              0.3333333333333333,
              "#9c179e"
             ],
             [
              0.4444444444444444,
              "#bd3786"
             ],
             [
              0.5555555555555556,
              "#d8576b"
             ],
             [
              0.6666666666666666,
              "#ed7953"
             ],
             [
              0.7777777777777778,
              "#fb9f3a"
             ],
             [
              0.8888888888888888,
              "#fdca26"
             ],
             [
              1,
              "#f0f921"
             ]
            ],
            "type": "surface"
           }
          ],
          "table": [
           {
            "cells": {
             "fill": {
              "color": "#EBF0F8"
             },
             "line": {
              "color": "white"
             }
            },
            "header": {
             "fill": {
              "color": "#C8D4E3"
             },
             "line": {
              "color": "white"
             }
            },
            "type": "table"
           }
          ]
         },
         "layout": {
          "annotationdefaults": {
           "arrowcolor": "#2a3f5f",
           "arrowhead": 0,
           "arrowwidth": 1
          },
          "autotypenumbers": "strict",
          "coloraxis": {
           "colorbar": {
            "outlinewidth": 0,
            "ticks": ""
           }
          },
          "colorscale": {
           "diverging": [
            [
             0,
             "#8e0152"
            ],
            [
             0.1,
             "#c51b7d"
            ],
            [
             0.2,
             "#de77ae"
            ],
            [
             0.3,
             "#f1b6da"
            ],
            [
             0.4,
             "#fde0ef"
            ],
            [
             0.5,
             "#f7f7f7"
            ],
            [
             0.6,
             "#e6f5d0"
            ],
            [
             0.7,
             "#b8e186"
            ],
            [
             0.8,
             "#7fbc41"
            ],
            [
             0.9,
             "#4d9221"
            ],
            [
             1,
             "#276419"
            ]
           ],
           "sequential": [
            [
             0,
             "#0d0887"
            ],
            [
             0.1111111111111111,
             "#46039f"
            ],
            [
             0.2222222222222222,
             "#7201a8"
            ],
            [
             0.3333333333333333,
             "#9c179e"
            ],
            [
             0.4444444444444444,
             "#bd3786"
            ],
            [
             0.5555555555555556,
             "#d8576b"
            ],
            [
             0.6666666666666666,
             "#ed7953"
            ],
            [
             0.7777777777777778,
             "#fb9f3a"
            ],
            [
             0.8888888888888888,
             "#fdca26"
            ],
            [
             1,
             "#f0f921"
            ]
           ],
           "sequentialminus": [
            [
             0,
             "#0d0887"
            ],
            [
             0.1111111111111111,
             "#46039f"
            ],
            [
             0.2222222222222222,
             "#7201a8"
            ],
            [
             0.3333333333333333,
             "#9c179e"
            ],
            [
             0.4444444444444444,
             "#bd3786"
            ],
            [
             0.5555555555555556,
             "#d8576b"
            ],
            [
             0.6666666666666666,
             "#ed7953"
            ],
            [
             0.7777777777777778,
             "#fb9f3a"
            ],
            [
             0.8888888888888888,
             "#fdca26"
            ],
            [
             1,
             "#f0f921"
            ]
           ]
          },
          "colorway": [
           "#636efa",
           "#EF553B",
           "#00cc96",
           "#ab63fa",
           "#FFA15A",
           "#19d3f3",
           "#FF6692",
           "#B6E880",
           "#FF97FF",
           "#FECB52"
          ],
          "font": {
           "color": "#2a3f5f"
          },
          "geo": {
           "bgcolor": "white",
           "lakecolor": "white",
           "landcolor": "white",
           "showlakes": true,
           "showland": true,
           "subunitcolor": "#C8D4E3"
          },
          "hoverlabel": {
           "align": "left"
          },
          "hovermode": "closest",
          "mapbox": {
           "style": "light"
          },
          "paper_bgcolor": "white",
          "plot_bgcolor": "white",
          "polar": {
           "angularaxis": {
            "gridcolor": "#EBF0F8",
            "linecolor": "#EBF0F8",
            "ticks": ""
           },
           "bgcolor": "white",
           "radialaxis": {
            "gridcolor": "#EBF0F8",
            "linecolor": "#EBF0F8",
            "ticks": ""
           }
          },
          "scene": {
           "xaxis": {
            "backgroundcolor": "white",
            "gridcolor": "#DFE8F3",
            "gridwidth": 2,
            "linecolor": "#EBF0F8",
            "showbackground": true,
            "ticks": "",
            "zerolinecolor": "#EBF0F8"
           },
           "yaxis": {
            "backgroundcolor": "white",
            "gridcolor": "#DFE8F3",
            "gridwidth": 2,
            "linecolor": "#EBF0F8",
            "showbackground": true,
            "ticks": "",
            "zerolinecolor": "#EBF0F8"
           },
           "zaxis": {
            "backgroundcolor": "white",
            "gridcolor": "#DFE8F3",
            "gridwidth": 2,
            "linecolor": "#EBF0F8",
            "showbackground": true,
            "ticks": "",
            "zerolinecolor": "#EBF0F8"
           }
          },
          "shapedefaults": {
           "line": {
            "color": "#2a3f5f"
           }
          },
          "ternary": {
           "aaxis": {
            "gridcolor": "#DFE8F3",
            "linecolor": "#A2B1C6",
            "ticks": ""
           },
           "baxis": {
            "gridcolor": "#DFE8F3",
            "linecolor": "#A2B1C6",
            "ticks": ""
           },
           "bgcolor": "white",
           "caxis": {
            "gridcolor": "#DFE8F3",
            "linecolor": "#A2B1C6",
            "ticks": ""
           }
          },
          "title": {
           "x": 0.05
          },
          "xaxis": {
           "automargin": true,
           "gridcolor": "#EBF0F8",
           "linecolor": "#EBF0F8",
           "ticks": "",
           "title": {
            "standoff": 15
           },
           "zerolinecolor": "#EBF0F8",
           "zerolinewidth": 2
          },
          "yaxis": {
           "automargin": true,
           "gridcolor": "#EBF0F8",
           "linecolor": "#EBF0F8",
           "ticks": "",
           "title": {
            "standoff": 15
           },
           "zerolinecolor": "#EBF0F8",
           "zerolinewidth": 2
          }
         }
        },
        "title": {
         "text": "PDP for feature <b>rating</b> <br><sup>Number of unique grid points: 6</sup>",
         "x": 0,
         "xref": "paper"
        },
        "width": 1200,
        "xaxis": {
         "anchor": "y",
         "domain": [
          0,
          1
         ]
        },
        "xaxis2": {
         "anchor": "y2",
         "domain": [
          0,
          1
         ],
         "showgrid": false,
         "showticklabels": false,
         "title": {
          "text": "<b>rating</b> (value)"
         }
        },
        "yaxis": {
         "anchor": "x",
         "domain": [
          0.11266666666666669,
          0.99
         ],
         "title": {
          "text": "raw"
         }
        },
        "yaxis2": {
         "anchor": "x2",
         "domain": [
          0,
          0.06266666666666665
         ],
         "showgrid": false,
         "showticklabels": false
        }
       }
      }
     },
     "metadata": {},
     "output_type": "display_data"
    }
   ],
   "source": [
    "# Plot PDP\n",
    "# Create the pdp data to be plotted\n",
    "pdp_goals = pdp.PDPIsolate(model=rf_model, df=val_x, model_features=feature_names, feature='rating', feature_name='rating')\n",
    "\n",
    "# plot the PDP for feature 'Goal Scored'\n",
    "fig, axes = pdp_goals.plot(\n",
    "    center=False,\n",
    "    plot_lines=True,\n",
    "    frac_to_plot=100,\n",
    "    cluster=False,\n",
    "    n_cluster_centers=None,\n",
    "    cluster_method='accurate',\n",
    "    plot_pts_dist=True,\n",
    "    to_bins=False,\n",
    "    show_percentile=False,\n",
    "    which_classes=None,\n",
    "    figsize=None,\n",
    "    dpi=300,\n",
    "    ncols=2,\n",
    "    plot_params={\"pdp_hl\": True},\n",
    "    engine='plotly',\n",
    "    template='plotly_white')\n",
    "\n",
    "fig.show()"
   ]
  },
  {
   "cell_type": "markdown",
   "metadata": {},
   "source": [
    "This model has similar results to the previous model. It seems like ethiopia is a  likely country of origin for the highest rated coffee beans."
   ]
  },
  {
   "cell_type": "code",
   "execution_count": 76,
   "metadata": {},
   "outputs": [
    {
     "name": "stdout",
     "output_type": "stream",
     "text": [
      "obtain pred_func from the provided model.\n"
     ]
    },
    {
     "name": "stderr",
     "output_type": "stream",
     "text": [
      "100%|██████████| 10/10 [00:00<00:00, 234.40it/s]\n"
     ]
    },
    {
     "data": {
      "application/vnd.plotly.v1+json": {
       "config": {
        "plotlyServerURL": "https://plot.ly"
       },
       "data": [
        {
         "hoverinfo": "none",
         "line": {
          "color": "rgba(193,217,237,0.5)",
          "width": 0.5
         },
         "mode": "lines",
         "type": "scatter",
         "x": [
          0.008704867156157748,
          0.03209446673226856,
          0.036425874061177976,
          0.04042086140337597,
          0.04310381079739947,
          0.04857904608112767,
          0.05740166023263438,
          0.07879797138748013,
          0.15297857845734614,
          0.9666187268185602
         ],
         "xaxis": "x",
         "y": [
          0.06,
          0.5164444444444444,
          1,
          0.9671666666666667,
          0.5092499999999999,
          0.6570357142857142,
          0.365,
          0,
          0.049166666666666664,
          0
         ],
         "yaxis": "y"
        },
        {
         "hoverinfo": "none",
         "line": {
          "color": "rgba(177,210,231,0.5)",
          "width": 0.5
         },
         "mode": "lines",
         "type": "scatter",
         "x": [
          0.008704867156157748,
          0.03209446673226856,
          0.036425874061177976,
          0.04042086140337597,
          0.04310381079739947,
          0.04857904608112767,
          0.05740166023263438,
          0.07879797138748013,
          0.15297857845734614,
          0.9666187268185602
         ],
         "xaxis": "x",
         "y": [
          0.06,
          0.5164444444444444,
          1,
          0.9671666666666667,
          0.5092499999999999,
          0.6570357142857142,
          0.365,
          0,
          0.049166666666666664,
          0
         ],
         "yaxis": "y"
        },
        {
         "hoverinfo": "none",
         "line": {
          "color": "rgba(160,202,225,0.5)",
          "width": 0.5
         },
         "mode": "lines",
         "type": "scatter",
         "x": [
          0.008704867156157748,
          0.03209446673226856,
          0.036425874061177976,
          0.04042086140337597,
          0.04310381079739947,
          0.04857904608112767,
          0.05740166023263438,
          0.07879797138748013,
          0.15297857845734614,
          0.9666187268185602
         ],
         "xaxis": "x",
         "y": [
          0.54,
          0.5579761904761905,
          0.86,
          0.936923076923077,
          0.3114999999999999,
          0.2826666666666665,
          0.3375,
          0.01,
          0.17783333333333334,
          0
         ],
         "yaxis": "y"
        },
        {
         "hoverinfo": "none",
         "line": {
          "color": "rgba(139,192,221,0.5)",
          "width": 0.5
         },
         "mode": "lines",
         "type": "scatter",
         "x": [
          0.008704867156157748,
          0.03209446673226856,
          0.036425874061177976,
          0.04042086140337597,
          0.04310381079739947,
          0.04857904608112767,
          0.05740166023263438,
          0.07879797138748013,
          0.15297857845734614,
          0.9666187268185602
         ],
         "xaxis": "x",
         "y": [
          0.36,
          0.7809999999999999,
          0.93,
          0.8633333333333333,
          0.6560833333333334,
          0.18,
          0.12,
          0.23,
          0.02,
          0
         ],
         "yaxis": "y"
        },
        {
         "hoverinfo": "none",
         "line": {
          "color": "rgba(117,179,216,0.5)",
          "width": 0.5
         },
         "mode": "lines",
         "type": "scatter",
         "x": [
          0.008704867156157748,
          0.03209446673226856,
          0.036425874061177976,
          0.04042086140337597,
          0.04310381079739947,
          0.04857904608112767,
          0.05740166023263438,
          0.07879797138748013,
          0.15297857845734614,
          0.9666187268185602
         ],
         "xaxis": "x",
         "y": [
          0.54,
          0.5579761904761905,
          0.86,
          0.936923076923077,
          0.3114999999999999,
          0.2826666666666665,
          0.3375,
          0.01,
          0.17783333333333334,
          0
         ],
         "yaxis": "y"
        },
        {
         "hoverinfo": "none",
         "line": {
          "color": "rgba(98,168,210,0.5)",
          "width": 0.5
         },
         "mode": "lines",
         "type": "scatter",
         "x": [
          0.008704867156157748,
          0.03209446673226856,
          0.036425874061177976,
          0.04042086140337597,
          0.04310381079739947,
          0.04857904608112767,
          0.05740166023263438,
          0.07879797138748013,
          0.15297857845734614,
          0.9666187268185602
         ],
         "xaxis": "x",
         "y": [
          0.54,
          0.5579761904761905,
          0.86,
          0.936923076923077,
          0.3114999999999999,
          0.2826666666666665,
          0.3375,
          0.01,
          0.17783333333333334,
          0
         ],
         "yaxis": "y"
        },
        {
         "hoverinfo": "none",
         "line": {
          "color": "rgba(80,155,203,0.5)",
          "width": 0.5
         },
         "mode": "lines",
         "type": "scatter",
         "x": [
          0.008704867156157748,
          0.03209446673226856,
          0.036425874061177976,
          0.04042086140337597,
          0.04310381079739947,
          0.04857904608112767,
          0.05740166023263438,
          0.07879797138748013,
          0.15297857845734614,
          0.9666187268185602
         ],
         "xaxis": "x",
         "y": [
          0.48,
          0.4772120657120658,
          0.5082094572094572,
          0.6415384615384616,
          0.3416410533910535,
          0.016430242272347535,
          0.02,
          0.07,
          0.20666666666666664,
          0.83
         ],
         "yaxis": "y"
        },
        {
         "hoverinfo": "none",
         "line": {
          "color": "rgba(64,144,197,0.5)",
          "width": 0.5
         },
         "mode": "lines",
         "type": "scatter",
         "x": [
          0.008704867156157748,
          0.03209446673226856,
          0.036425874061177976,
          0.04042086140337597,
          0.04310381079739947,
          0.04857904608112767,
          0.05740166023263438,
          0.07879797138748013,
          0.15297857845734614,
          0.9666187268185602
         ],
         "xaxis": "x",
         "y": [
          0.54,
          0.5579761904761905,
          0.86,
          0.936923076923077,
          0.3114999999999999,
          0.2826666666666665,
          0.3375,
          0.01,
          0.17783333333333334,
          0
         ],
         "yaxis": "y"
        },
        {
         "hoverinfo": "none",
         "line": {
          "color": "rgba(49,129,189,0.5)",
          "width": 0.5
         },
         "mode": "lines",
         "type": "scatter",
         "x": [
          0.008704867156157748,
          0.03209446673226856,
          0.036425874061177976,
          0.04042086140337597,
          0.04310381079739947,
          0.04857904608112767,
          0.05740166023263438,
          0.07879797138748013,
          0.15297857845734614,
          0.9666187268185602
         ],
         "xaxis": "x",
         "y": [
          0.09,
          0.55,
          0.2403506493506492,
          0.03296031746031746,
          0.055,
          0.13083333333333333,
          0.35233333333333333,
          0,
          0.06,
          0.22
         ],
         "yaxis": "y"
        },
        {
         "hoverinfo": "none",
         "line": {
          "color": "rgba(36,116,182,0.5)",
          "width": 0.5
         },
         "mode": "lines",
         "type": "scatter",
         "x": [
          0.008704867156157748,
          0.03209446673226856,
          0.036425874061177976,
          0.04042086140337597,
          0.04310381079739947,
          0.04857904608112767,
          0.05740166023263438,
          0.07879797138748013,
          0.15297857845734614,
          0.9666187268185602
         ],
         "xaxis": "x",
         "y": [
          0.09,
          0.55,
          0.2403506493506492,
          0.03296031746031746,
          0.055,
          0.13083333333333333,
          0.35233333333333333,
          0,
          0.06,
          0.22
         ],
         "yaxis": "y"
        },
        {
         "hoverinfo": "none",
         "line": {
          "color": "rgba(193,217,237,0.5)",
          "width": 0.5
         },
         "mode": "lines",
         "type": "scatter",
         "x": [
          0.008704867156157748,
          0.03209446673226856,
          0.036425874061177976,
          0.04042086140337597,
          0.04310381079739947,
          0.04857904608112767,
          0.05740166023263438,
          0.07879797138748013,
          0.15297857845734614,
          0.9666187268185602
         ],
         "xaxis": "x",
         "y": [
          0.54,
          0.5579761904761905,
          0.86,
          0.936923076923077,
          0.3114999999999999,
          0.2826666666666665,
          0.3375,
          0.01,
          0.17783333333333334,
          0
         ],
         "yaxis": "y"
        },
        {
         "hoverinfo": "none",
         "line": {
          "color": "rgba(177,210,231,0.5)",
          "width": 0.5
         },
         "mode": "lines",
         "type": "scatter",
         "x": [
          0.008704867156157748,
          0.03209446673226856,
          0.036425874061177976,
          0.04042086140337597,
          0.04310381079739947,
          0.04857904608112767,
          0.05740166023263438,
          0.07879797138748013,
          0.15297857845734614,
          0.9666187268185602
         ],
         "xaxis": "x",
         "y": [
          0.48,
          0.4772120657120658,
          0.5082094572094572,
          0.6415384615384616,
          0.3416410533910535,
          0.016430242272347535,
          0.02,
          0.07,
          0.20666666666666664,
          0.83
         ],
         "yaxis": "y"
        },
        {
         "hoverinfo": "none",
         "line": {
          "color": "rgba(160,202,225,0.5)",
          "width": 0.5
         },
         "mode": "lines",
         "type": "scatter",
         "x": [
          0.008704867156157748,
          0.03209446673226856,
          0.036425874061177976,
          0.04042086140337597,
          0.04310381079739947,
          0.04857904608112767,
          0.05740166023263438,
          0.07879797138748013,
          0.15297857845734614,
          0.9666187268185602
         ],
         "xaxis": "x",
         "y": [
          0.48,
          0.4772120657120658,
          0.5082094572094572,
          0.6415384615384616,
          0.3416410533910535,
          0.016430242272347535,
          0.02,
          0.07,
          0.20666666666666664,
          0.83
         ],
         "yaxis": "y"
        },
        {
         "hoverinfo": "none",
         "line": {
          "color": "rgba(139,192,221,0.5)",
          "width": 0.5
         },
         "mode": "lines",
         "type": "scatter",
         "x": [
          0.008704867156157748,
          0.03209446673226856,
          0.036425874061177976,
          0.04042086140337597,
          0.04310381079739947,
          0.04857904608112767,
          0.05740166023263438,
          0.07879797138748013,
          0.15297857845734614,
          0.9666187268185602
         ],
         "xaxis": "x",
         "y": [
          0.48,
          0.4772120657120658,
          0.5082094572094572,
          0.6415384615384616,
          0.3416410533910535,
          0.016430242272347535,
          0.02,
          0.07,
          0.20666666666666664,
          0.83
         ],
         "yaxis": "y"
        },
        {
         "hoverinfo": "none",
         "line": {
          "color": "rgba(117,179,216,0.5)",
          "width": 0.5
         },
         "mode": "lines",
         "type": "scatter",
         "x": [
          0.008704867156157748,
          0.03209446673226856,
          0.036425874061177976,
          0.04042086140337597,
          0.04310381079739947,
          0.04857904608112767,
          0.05740166023263438,
          0.07879797138748013,
          0.15297857845734614,
          0.9666187268185602
         ],
         "xaxis": "x",
         "y": [
          0.09,
          0.55,
          0.2403506493506492,
          0.03296031746031746,
          0.055,
          0.13083333333333333,
          0.35233333333333333,
          0,
          0.06,
          0.22
         ],
         "yaxis": "y"
        },
        {
         "hoverinfo": "none",
         "line": {
          "color": "rgba(98,168,210,0.5)",
          "width": 0.5
         },
         "mode": "lines",
         "type": "scatter",
         "x": [
          0.008704867156157748,
          0.03209446673226856,
          0.036425874061177976,
          0.04042086140337597,
          0.04310381079739947,
          0.04857904608112767,
          0.05740166023263438,
          0.07879797138748013,
          0.15297857845734614,
          0.9666187268185602
         ],
         "xaxis": "x",
         "y": [
          0.54,
          0.5579761904761905,
          0.86,
          0.936923076923077,
          0.3114999999999999,
          0.2826666666666665,
          0.3375,
          0.01,
          0.17783333333333334,
          0
         ],
         "yaxis": "y"
        },
        {
         "hoverinfo": "none",
         "line": {
          "color": "rgba(80,155,203,0.5)",
          "width": 0.5
         },
         "mode": "lines",
         "type": "scatter",
         "x": [
          0.008704867156157748,
          0.03209446673226856,
          0.036425874061177976,
          0.04042086140337597,
          0.04310381079739947,
          0.04857904608112767,
          0.05740166023263438,
          0.07879797138748013,
          0.15297857845734614,
          0.9666187268185602
         ],
         "xaxis": "x",
         "y": [
          0.06,
          0.5164444444444444,
          1,
          0.9671666666666667,
          0.5092499999999999,
          0.6570357142857142,
          0.365,
          0,
          0.049166666666666664,
          0
         ],
         "yaxis": "y"
        },
        {
         "hoverinfo": "none",
         "line": {
          "color": "rgba(64,144,197,0.5)",
          "width": 0.5
         },
         "mode": "lines",
         "type": "scatter",
         "x": [
          0.008704867156157748,
          0.03209446673226856,
          0.036425874061177976,
          0.04042086140337597,
          0.04310381079739947,
          0.04857904608112767,
          0.05740166023263438,
          0.07879797138748013,
          0.15297857845734614,
          0.9666187268185602
         ],
         "xaxis": "x",
         "y": [
          0.54,
          0.5579761904761905,
          0.86,
          0.936923076923077,
          0.3114999999999999,
          0.2826666666666665,
          0.3375,
          0.01,
          0.17783333333333334,
          0
         ],
         "yaxis": "y"
        },
        {
         "hoverinfo": "none",
         "line": {
          "color": "rgba(49,129,189,0.5)",
          "width": 0.5
         },
         "mode": "lines",
         "type": "scatter",
         "x": [
          0.008704867156157748,
          0.03209446673226856,
          0.036425874061177976,
          0.04042086140337597,
          0.04310381079739947,
          0.04857904608112767,
          0.05740166023263438,
          0.07879797138748013,
          0.15297857845734614,
          0.9666187268185602
         ],
         "xaxis": "x",
         "y": [
          0.06,
          0.5164444444444444,
          1,
          0.9671666666666667,
          0.5092499999999999,
          0.6570357142857142,
          0.365,
          0,
          0.049166666666666664,
          0
         ],
         "yaxis": "y"
        },
        {
         "hoverinfo": "none",
         "line": {
          "color": "rgba(36,116,182,0.5)",
          "width": 0.5
         },
         "mode": "lines",
         "type": "scatter",
         "x": [
          0.008704867156157748,
          0.03209446673226856,
          0.036425874061177976,
          0.04042086140337597,
          0.04310381079739947,
          0.04857904608112767,
          0.05740166023263438,
          0.07879797138748013,
          0.15297857845734614,
          0.9666187268185602
         ],
         "xaxis": "x",
         "y": [
          0.54,
          0.5579761904761905,
          0.86,
          0.936923076923077,
          0.3114999999999999,
          0.2826666666666665,
          0.3375,
          0.01,
          0.17783333333333334,
          0
         ],
         "yaxis": "y"
        },
        {
         "hoverinfo": "none",
         "line": {
          "color": "rgba(193,217,237,0.5)",
          "width": 0.5
         },
         "mode": "lines",
         "type": "scatter",
         "x": [
          0.008704867156157748,
          0.03209446673226856,
          0.036425874061177976,
          0.04042086140337597,
          0.04310381079739947,
          0.04857904608112767,
          0.05740166023263438,
          0.07879797138748013,
          0.15297857845734614,
          0.9666187268185602
         ],
         "xaxis": "x",
         "y": [
          0.48,
          0.4772120657120658,
          0.5082094572094572,
          0.6415384615384616,
          0.3416410533910535,
          0.016430242272347535,
          0.02,
          0.07,
          0.20666666666666664,
          0.83
         ],
         "yaxis": "y"
        },
        {
         "hoverinfo": "none",
         "line": {
          "color": "rgba(177,210,231,0.5)",
          "width": 0.5
         },
         "mode": "lines",
         "type": "scatter",
         "x": [
          0.008704867156157748,
          0.03209446673226856,
          0.036425874061177976,
          0.04042086140337597,
          0.04310381079739947,
          0.04857904608112767,
          0.05740166023263438,
          0.07879797138748013,
          0.15297857845734614,
          0.9666187268185602
         ],
         "xaxis": "x",
         "y": [
          0.1,
          0.01,
          0.0345,
          0.9094761904761904,
          0.1768502886002886,
          0.26666666666666666,
          0.04,
          0.05,
          0.04666666666666666,
          0.22
         ],
         "yaxis": "y"
        },
        {
         "hoverinfo": "none",
         "line": {
          "color": "rgba(160,202,225,0.5)",
          "width": 0.5
         },
         "mode": "lines",
         "type": "scatter",
         "x": [
          0.008704867156157748,
          0.03209446673226856,
          0.036425874061177976,
          0.04042086140337597,
          0.04310381079739947,
          0.04857904608112767,
          0.05740166023263438,
          0.07879797138748013,
          0.15297857845734614,
          0.9666187268185602
         ],
         "xaxis": "x",
         "y": [
          0.48,
          0.4772120657120658,
          0.5082094572094572,
          0.6415384615384616,
          0.3416410533910535,
          0.016430242272347535,
          0.02,
          0.07,
          0.20666666666666664,
          0.83
         ],
         "yaxis": "y"
        },
        {
         "hoverinfo": "none",
         "line": {
          "color": "rgba(139,192,221,0.5)",
          "width": 0.5
         },
         "mode": "lines",
         "type": "scatter",
         "x": [
          0.008704867156157748,
          0.03209446673226856,
          0.036425874061177976,
          0.04042086140337597,
          0.04310381079739947,
          0.04857904608112767,
          0.05740166023263438,
          0.07879797138748013,
          0.15297857845734614,
          0.9666187268185602
         ],
         "xaxis": "x",
         "y": [
          0.54,
          0.5579761904761905,
          0.86,
          0.936923076923077,
          0.3114999999999999,
          0.2826666666666665,
          0.3375,
          0.01,
          0.17783333333333334,
          0
         ],
         "yaxis": "y"
        },
        {
         "hoverinfo": "none",
         "line": {
          "color": "rgba(117,179,216,0.5)",
          "width": 0.5
         },
         "mode": "lines",
         "type": "scatter",
         "x": [
          0.008704867156157748,
          0.03209446673226856,
          0.036425874061177976,
          0.04042086140337597,
          0.04310381079739947,
          0.04857904608112767,
          0.05740166023263438,
          0.07879797138748013,
          0.15297857845734614,
          0.9666187268185602
         ],
         "xaxis": "x",
         "y": [
          0.06,
          0.5164444444444444,
          1,
          0.9671666666666667,
          0.5092499999999999,
          0.6570357142857142,
          0.365,
          0,
          0.049166666666666664,
          0
         ],
         "yaxis": "y"
        },
        {
         "hoverinfo": "none",
         "line": {
          "color": "rgba(98,168,210,0.5)",
          "width": 0.5
         },
         "mode": "lines",
         "type": "scatter",
         "x": [
          0.008704867156157748,
          0.03209446673226856,
          0.036425874061177976,
          0.04042086140337597,
          0.04310381079739947,
          0.04857904608112767,
          0.05740166023263438,
          0.07879797138748013,
          0.15297857845734614,
          0.9666187268185602
         ],
         "xaxis": "x",
         "y": [
          0.48,
          0.4772120657120658,
          0.5082094572094572,
          0.6415384615384616,
          0.3416410533910535,
          0.016430242272347535,
          0.02,
          0.07,
          0.20666666666666664,
          0.83
         ],
         "yaxis": "y"
        },
        {
         "hoverinfo": "none",
         "line": {
          "color": "rgba(80,155,203,0.5)",
          "width": 0.5
         },
         "mode": "lines",
         "type": "scatter",
         "x": [
          0.008704867156157748,
          0.03209446673226856,
          0.036425874061177976,
          0.04042086140337597,
          0.04310381079739947,
          0.04857904608112767,
          0.05740166023263438,
          0.07879797138748013,
          0.15297857845734614,
          0.9666187268185602
         ],
         "xaxis": "x",
         "y": [
          0.19,
          0.3733333333333333,
          0.39,
          0.72,
          0.63375,
          0.14,
          0.16,
          0.47,
          0.43,
          0.03
         ],
         "yaxis": "y"
        },
        {
         "hoverinfo": "none",
         "line": {
          "color": "rgba(64,144,197,0.5)",
          "width": 0.5
         },
         "mode": "lines",
         "type": "scatter",
         "x": [
          0.008704867156157748,
          0.03209446673226856,
          0.036425874061177976,
          0.04042086140337597,
          0.04310381079739947,
          0.04857904608112767,
          0.05740166023263438,
          0.07879797138748013,
          0.15297857845734614,
          0.9666187268185602
         ],
         "xaxis": "x",
         "y": [
          0.54,
          0.5579761904761905,
          0.86,
          0.936923076923077,
          0.3114999999999999,
          0.2826666666666665,
          0.3375,
          0.01,
          0.17783333333333334,
          0
         ],
         "yaxis": "y"
        },
        {
         "hoverinfo": "none",
         "line": {
          "color": "rgba(49,129,189,0.5)",
          "width": 0.5
         },
         "mode": "lines",
         "type": "scatter",
         "x": [
          0.008704867156157748,
          0.03209446673226856,
          0.036425874061177976,
          0.04042086140337597,
          0.04310381079739947,
          0.04857904608112767,
          0.05740166023263438,
          0.07879797138748013,
          0.15297857845734614,
          0.9666187268185602
         ],
         "xaxis": "x",
         "y": [
          0.06,
          0.5164444444444444,
          1,
          0.9671666666666667,
          0.5092499999999999,
          0.6570357142857142,
          0.365,
          0,
          0.049166666666666664,
          0
         ],
         "yaxis": "y"
        },
        {
         "hoverinfo": "none",
         "line": {
          "color": "rgba(36,116,182,0.5)",
          "width": 0.5
         },
         "mode": "lines",
         "type": "scatter",
         "x": [
          0.008704867156157748,
          0.03209446673226856,
          0.036425874061177976,
          0.04042086140337597,
          0.04310381079739947,
          0.04857904608112767,
          0.05740166023263438,
          0.07879797138748013,
          0.15297857845734614,
          0.9666187268185602
         ],
         "xaxis": "x",
         "y": [
          0.06,
          0.5164444444444444,
          1,
          0.9671666666666667,
          0.5092499999999999,
          0.6570357142857142,
          0.365,
          0,
          0.049166666666666664,
          0
         ],
         "yaxis": "y"
        },
        {
         "hoverinfo": "none",
         "line": {
          "color": "rgba(193,217,237,0.5)",
          "width": 0.5
         },
         "mode": "lines",
         "type": "scatter",
         "x": [
          0.008704867156157748,
          0.03209446673226856,
          0.036425874061177976,
          0.04042086140337597,
          0.04310381079739947,
          0.04857904608112767,
          0.05740166023263438,
          0.07879797138748013,
          0.15297857845734614,
          0.9666187268185602
         ],
         "xaxis": "x",
         "y": [
          0.54,
          0.5579761904761905,
          0.86,
          0.936923076923077,
          0.3114999999999999,
          0.2826666666666665,
          0.3375,
          0.01,
          0.17783333333333334,
          0
         ],
         "yaxis": "y"
        },
        {
         "hoverinfo": "none",
         "line": {
          "color": "rgba(177,210,231,0.5)",
          "width": 0.5
         },
         "mode": "lines",
         "type": "scatter",
         "x": [
          0.008704867156157748,
          0.03209446673226856,
          0.036425874061177976,
          0.04042086140337597,
          0.04310381079739947,
          0.04857904608112767,
          0.05740166023263438,
          0.07879797138748013,
          0.15297857845734614,
          0.9666187268185602
         ],
         "xaxis": "x",
         "y": [
          0.48,
          0.4772120657120658,
          0.5082094572094572,
          0.6415384615384616,
          0.3416410533910535,
          0.016430242272347535,
          0.02,
          0.07,
          0.20666666666666664,
          0.83
         ],
         "yaxis": "y"
        },
        {
         "hoverinfo": "none",
         "line": {
          "color": "rgba(160,202,225,0.5)",
          "width": 0.5
         },
         "mode": "lines",
         "type": "scatter",
         "x": [
          0.008704867156157748,
          0.03209446673226856,
          0.036425874061177976,
          0.04042086140337597,
          0.04310381079739947,
          0.04857904608112767,
          0.05740166023263438,
          0.07879797138748013,
          0.15297857845734614,
          0.9666187268185602
         ],
         "xaxis": "x",
         "y": [
          0.54,
          0.5579761904761905,
          0.86,
          0.936923076923077,
          0.3114999999999999,
          0.2826666666666665,
          0.3375,
          0.01,
          0.17783333333333334,
          0
         ],
         "yaxis": "y"
        },
        {
         "hoverinfo": "none",
         "line": {
          "color": "rgba(139,192,221,0.5)",
          "width": 0.5
         },
         "mode": "lines",
         "type": "scatter",
         "x": [
          0.008704867156157748,
          0.03209446673226856,
          0.036425874061177976,
          0.04042086140337597,
          0.04310381079739947,
          0.04857904608112767,
          0.05740166023263438,
          0.07879797138748013,
          0.15297857845734614,
          0.9666187268185602
         ],
         "xaxis": "x",
         "y": [
          0.54,
          0.5579761904761905,
          0.86,
          0.936923076923077,
          0.3114999999999999,
          0.2826666666666665,
          0.3375,
          0.01,
          0.17783333333333334,
          0
         ],
         "yaxis": "y"
        },
        {
         "hoverinfo": "none",
         "line": {
          "color": "rgba(117,179,216,0.5)",
          "width": 0.5
         },
         "mode": "lines",
         "type": "scatter",
         "x": [
          0.008704867156157748,
          0.03209446673226856,
          0.036425874061177976,
          0.04042086140337597,
          0.04310381079739947,
          0.04857904608112767,
          0.05740166023263438,
          0.07879797138748013,
          0.15297857845734614,
          0.9666187268185602
         ],
         "xaxis": "x",
         "y": [
          0.06,
          0.5164444444444444,
          1,
          0.9671666666666667,
          0.5092499999999999,
          0.6570357142857142,
          0.365,
          0,
          0.049166666666666664,
          0
         ],
         "yaxis": "y"
        },
        {
         "hoverinfo": "none",
         "line": {
          "color": "rgba(98,168,210,0.5)",
          "width": 0.5
         },
         "mode": "lines",
         "type": "scatter",
         "x": [
          0.008704867156157748,
          0.03209446673226856,
          0.036425874061177976,
          0.04042086140337597,
          0.04310381079739947,
          0.04857904608112767,
          0.05740166023263438,
          0.07879797138748013,
          0.15297857845734614,
          0.9666187268185602
         ],
         "xaxis": "x",
         "y": [
          0.54,
          0.5579761904761905,
          0.86,
          0.936923076923077,
          0.3114999999999999,
          0.2826666666666665,
          0.3375,
          0.01,
          0.17783333333333334,
          0
         ],
         "yaxis": "y"
        },
        {
         "hoverinfo": "none",
         "line": {
          "color": "rgba(80,155,203,0.5)",
          "width": 0.5
         },
         "mode": "lines",
         "type": "scatter",
         "x": [
          0.008704867156157748,
          0.03209446673226856,
          0.036425874061177976,
          0.04042086140337597,
          0.04310381079739947,
          0.04857904608112767,
          0.05740166023263438,
          0.07879797138748013,
          0.15297857845734614,
          0.9666187268185602
         ],
         "xaxis": "x",
         "y": [
          0.54,
          0.5579761904761905,
          0.86,
          0.936923076923077,
          0.3114999999999999,
          0.2826666666666665,
          0.3375,
          0.01,
          0.17783333333333334,
          0
         ],
         "yaxis": "y"
        },
        {
         "hoverinfo": "none",
         "line": {
          "color": "rgba(64,144,197,0.5)",
          "width": 0.5
         },
         "mode": "lines",
         "type": "scatter",
         "x": [
          0.008704867156157748,
          0.03209446673226856,
          0.036425874061177976,
          0.04042086140337597,
          0.04310381079739947,
          0.04857904608112767,
          0.05740166023263438,
          0.07879797138748013,
          0.15297857845734614,
          0.9666187268185602
         ],
         "xaxis": "x",
         "y": [
          0.06,
          0.5164444444444444,
          1,
          0.9671666666666667,
          0.5092499999999999,
          0.6570357142857142,
          0.365,
          0,
          0.049166666666666664,
          0
         ],
         "yaxis": "y"
        },
        {
         "hoverinfo": "none",
         "line": {
          "color": "rgba(49,129,189,0.5)",
          "width": 0.5
         },
         "mode": "lines",
         "type": "scatter",
         "x": [
          0.008704867156157748,
          0.03209446673226856,
          0.036425874061177976,
          0.04042086140337597,
          0.04310381079739947,
          0.04857904608112767,
          0.05740166023263438,
          0.07879797138748013,
          0.15297857845734614,
          0.9666187268185602
         ],
         "xaxis": "x",
         "y": [
          0.48,
          0.4772120657120658,
          0.5082094572094572,
          0.6415384615384616,
          0.3416410533910535,
          0.016430242272347535,
          0.02,
          0.07,
          0.20666666666666664,
          0.83
         ],
         "yaxis": "y"
        },
        {
         "hoverinfo": "none",
         "line": {
          "color": "rgba(36,116,182,0.5)",
          "width": 0.5
         },
         "mode": "lines",
         "type": "scatter",
         "x": [
          0.008704867156157748,
          0.03209446673226856,
          0.036425874061177976,
          0.04042086140337597,
          0.04310381079739947,
          0.04857904608112767,
          0.05740166023263438,
          0.07879797138748013,
          0.15297857845734614,
          0.9666187268185602
         ],
         "xaxis": "x",
         "y": [
          0.41,
          0.05,
          0,
          0.62,
          0.7458333333333332,
          0.73,
          0.78,
          0.09,
          0.23666666666666664,
          0.34
         ],
         "yaxis": "y"
        },
        {
         "hoverinfo": "none",
         "line": {
          "color": "rgba(193,217,237,0.5)",
          "width": 0.5
         },
         "mode": "lines",
         "type": "scatter",
         "x": [
          0.008704867156157748,
          0.03209446673226856,
          0.036425874061177976,
          0.04042086140337597,
          0.04310381079739947,
          0.04857904608112767,
          0.05740166023263438,
          0.07879797138748013,
          0.15297857845734614,
          0.9666187268185602
         ],
         "xaxis": "x",
         "y": [
          0.09,
          0.55,
          0.2403506493506492,
          0.03296031746031746,
          0.055,
          0.13083333333333333,
          0.35233333333333333,
          0,
          0.06,
          0.22
         ],
         "yaxis": "y"
        },
        {
         "hoverinfo": "none",
         "line": {
          "color": "rgba(177,210,231,0.5)",
          "width": 0.5
         },
         "mode": "lines",
         "type": "scatter",
         "x": [
          0.008704867156157748,
          0.03209446673226856,
          0.036425874061177976,
          0.04042086140337597,
          0.04310381079739947,
          0.04857904608112767,
          0.05740166023263438,
          0.07879797138748013,
          0.15297857845734614,
          0.9666187268185602
         ],
         "xaxis": "x",
         "y": [
          0.54,
          0.5579761904761905,
          0.86,
          0.936923076923077,
          0.3114999999999999,
          0.2826666666666665,
          0.3375,
          0.01,
          0.17783333333333334,
          0
         ],
         "yaxis": "y"
        },
        {
         "hoverinfo": "none",
         "line": {
          "color": "rgba(160,202,225,0.5)",
          "width": 0.5
         },
         "mode": "lines",
         "type": "scatter",
         "x": [
          0.008704867156157748,
          0.03209446673226856,
          0.036425874061177976,
          0.04042086140337597,
          0.04310381079739947,
          0.04857904608112767,
          0.05740166023263438,
          0.07879797138748013,
          0.15297857845734614,
          0.9666187268185602
         ],
         "xaxis": "x",
         "y": [
          0.06,
          0.5164444444444444,
          1,
          0.9671666666666667,
          0.5092499999999999,
          0.6570357142857142,
          0.365,
          0,
          0.049166666666666664,
          0
         ],
         "yaxis": "y"
        },
        {
         "hoverinfo": "none",
         "line": {
          "color": "rgba(139,192,221,0.5)",
          "width": 0.5
         },
         "mode": "lines",
         "type": "scatter",
         "x": [
          0.008704867156157748,
          0.03209446673226856,
          0.036425874061177976,
          0.04042086140337597,
          0.04310381079739947,
          0.04857904608112767,
          0.05740166023263438,
          0.07879797138748013,
          0.15297857845734614,
          0.9666187268185602
         ],
         "xaxis": "x",
         "y": [
          0.09,
          0.55,
          0.2403506493506492,
          0.03296031746031746,
          0.055,
          0.13083333333333333,
          0.35233333333333333,
          0,
          0.06,
          0.22
         ],
         "yaxis": "y"
        },
        {
         "hoverinfo": "none",
         "line": {
          "color": "rgba(117,179,216,0.5)",
          "width": 0.5
         },
         "mode": "lines",
         "type": "scatter",
         "x": [
          0.008704867156157748,
          0.03209446673226856,
          0.036425874061177976,
          0.04042086140337597,
          0.04310381079739947,
          0.04857904608112767,
          0.05740166023263438,
          0.07879797138748013,
          0.15297857845734614,
          0.9666187268185602
         ],
         "xaxis": "x",
         "y": [
          0.48,
          0.4772120657120658,
          0.5082094572094572,
          0.6415384615384616,
          0.3416410533910535,
          0.016430242272347535,
          0.02,
          0.07,
          0.20666666666666664,
          0.83
         ],
         "yaxis": "y"
        },
        {
         "hoverinfo": "none",
         "line": {
          "color": "rgba(98,168,210,0.5)",
          "width": 0.5
         },
         "mode": "lines",
         "type": "scatter",
         "x": [
          0.008704867156157748,
          0.03209446673226856,
          0.036425874061177976,
          0.04042086140337597,
          0.04310381079739947,
          0.04857904608112767,
          0.05740166023263438,
          0.07879797138748013,
          0.15297857845734614,
          0.9666187268185602
         ],
         "xaxis": "x",
         "y": [
          0.09,
          0.55,
          0.2403506493506492,
          0.03296031746031746,
          0.055,
          0.13083333333333333,
          0.35233333333333333,
          0,
          0.06,
          0.22
         ],
         "yaxis": "y"
        },
        {
         "hoverinfo": "none",
         "line": {
          "color": "rgba(80,155,203,0.5)",
          "width": 0.5
         },
         "mode": "lines",
         "type": "scatter",
         "x": [
          0.008704867156157748,
          0.03209446673226856,
          0.036425874061177976,
          0.04042086140337597,
          0.04310381079739947,
          0.04857904608112767,
          0.05740166023263438,
          0.07879797138748013,
          0.15297857845734614,
          0.9666187268185602
         ],
         "xaxis": "x",
         "y": [
          0,
          0,
          0,
          0.19,
          0.19583333333333333,
          0.29,
          0.32,
          0.05,
          0.14666666666666667,
          0.26
         ],
         "yaxis": "y"
        },
        {
         "hoverinfo": "none",
         "line": {
          "color": "rgba(64,144,197,0.5)",
          "width": 0.5
         },
         "mode": "lines",
         "type": "scatter",
         "x": [
          0.008704867156157748,
          0.03209446673226856,
          0.036425874061177976,
          0.04042086140337597,
          0.04310381079739947,
          0.04857904608112767,
          0.05740166023263438,
          0.07879797138748013,
          0.15297857845734614,
          0.9666187268185602
         ],
         "xaxis": "x",
         "y": [
          0.09,
          0.55,
          0.2403506493506492,
          0.03296031746031746,
          0.055,
          0.13083333333333333,
          0.35233333333333333,
          0,
          0.06,
          0.22
         ],
         "yaxis": "y"
        },
        {
         "hoverinfo": "none",
         "line": {
          "color": "rgba(49,129,189,0.5)",
          "width": 0.5
         },
         "mode": "lines",
         "type": "scatter",
         "x": [
          0.008704867156157748,
          0.03209446673226856,
          0.036425874061177976,
          0.04042086140337597,
          0.04310381079739947,
          0.04857904608112767,
          0.05740166023263438,
          0.07879797138748013,
          0.15297857845734614,
          0.9666187268185602
         ],
         "xaxis": "x",
         "y": [
          0.09,
          0.55,
          0.2403506493506492,
          0.03296031746031746,
          0.055,
          0.13083333333333333,
          0.35233333333333333,
          0,
          0.06,
          0.22
         ],
         "yaxis": "y"
        },
        {
         "hoverinfo": "none",
         "line": {
          "color": "rgba(36,116,182,0.5)",
          "width": 0.5
         },
         "mode": "lines",
         "type": "scatter",
         "x": [
          0.008704867156157748,
          0.03209446673226856,
          0.036425874061177976,
          0.04042086140337597,
          0.04310381079739947,
          0.04857904608112767,
          0.05740166023263438,
          0.07879797138748013,
          0.15297857845734614,
          0.9666187268185602
         ],
         "xaxis": "x",
         "y": [
          0.48,
          0.4772120657120658,
          0.5082094572094572,
          0.6415384615384616,
          0.3416410533910535,
          0.016430242272347535,
          0.02,
          0.07,
          0.20666666666666664,
          0.83
         ],
         "yaxis": "y"
        },
        {
         "hoverinfo": "none",
         "line": {
          "color": "rgba(193,217,237,0.5)",
          "width": 0.5
         },
         "mode": "lines",
         "type": "scatter",
         "x": [
          0.008704867156157748,
          0.03209446673226856,
          0.036425874061177976,
          0.04042086140337597,
          0.04310381079739947,
          0.04857904608112767,
          0.05740166023263438,
          0.07879797138748013,
          0.15297857845734614,
          0.9666187268185602
         ],
         "xaxis": "x",
         "y": [
          0.54,
          0.5579761904761905,
          0.86,
          0.936923076923077,
          0.3114999999999999,
          0.2826666666666665,
          0.3375,
          0.01,
          0.17783333333333334,
          0
         ],
         "yaxis": "y"
        },
        {
         "hoverinfo": "none",
         "line": {
          "color": "rgba(177,210,231,0.5)",
          "width": 0.5
         },
         "mode": "lines",
         "type": "scatter",
         "x": [
          0.008704867156157748,
          0.03209446673226856,
          0.036425874061177976,
          0.04042086140337597,
          0.04310381079739947,
          0.04857904608112767,
          0.05740166023263438,
          0.07879797138748013,
          0.15297857845734614,
          0.9666187268185602
         ],
         "xaxis": "x",
         "y": [
          0.36,
          0.7809999999999999,
          0.93,
          0.8633333333333333,
          0.6560833333333334,
          0.18,
          0.12,
          0.23,
          0.02,
          0
         ],
         "yaxis": "y"
        },
        {
         "hoverinfo": "none",
         "line": {
          "color": "rgba(160,202,225,0.5)",
          "width": 0.5
         },
         "mode": "lines",
         "type": "scatter",
         "x": [
          0.008704867156157748,
          0.03209446673226856,
          0.036425874061177976,
          0.04042086140337597,
          0.04310381079739947,
          0.04857904608112767,
          0.05740166023263438,
          0.07879797138748013,
          0.15297857845734614,
          0.9666187268185602
         ],
         "xaxis": "x",
         "y": [
          0.06,
          0.5164444444444444,
          1,
          0.9671666666666667,
          0.5092499999999999,
          0.6570357142857142,
          0.365,
          0,
          0.049166666666666664,
          0
         ],
         "yaxis": "y"
        },
        {
         "hoverinfo": "none",
         "line": {
          "color": "rgba(139,192,221,0.5)",
          "width": 0.5
         },
         "mode": "lines",
         "type": "scatter",
         "x": [
          0.008704867156157748,
          0.03209446673226856,
          0.036425874061177976,
          0.04042086140337597,
          0.04310381079739947,
          0.04857904608112767,
          0.05740166023263438,
          0.07879797138748013,
          0.15297857845734614,
          0.9666187268185602
         ],
         "xaxis": "x",
         "y": [
          0.36,
          0.7809999999999999,
          0.93,
          0.8633333333333333,
          0.6560833333333334,
          0.18,
          0.12,
          0.23,
          0.02,
          0
         ],
         "yaxis": "y"
        },
        {
         "hoverinfo": "none",
         "line": {
          "color": "rgba(117,179,216,0.5)",
          "width": 0.5
         },
         "mode": "lines",
         "type": "scatter",
         "x": [
          0.008704867156157748,
          0.03209446673226856,
          0.036425874061177976,
          0.04042086140337597,
          0.04310381079739947,
          0.04857904608112767,
          0.05740166023263438,
          0.07879797138748013,
          0.15297857845734614,
          0.9666187268185602
         ],
         "xaxis": "x",
         "y": [
          0.54,
          0.5579761904761905,
          0.86,
          0.936923076923077,
          0.3114999999999999,
          0.2826666666666665,
          0.3375,
          0.01,
          0.17783333333333334,
          0
         ],
         "yaxis": "y"
        },
        {
         "hoverinfo": "none",
         "line": {
          "color": "rgba(98,168,210,0.5)",
          "width": 0.5
         },
         "mode": "lines",
         "type": "scatter",
         "x": [
          0.008704867156157748,
          0.03209446673226856,
          0.036425874061177976,
          0.04042086140337597,
          0.04310381079739947,
          0.04857904608112767,
          0.05740166023263438,
          0.07879797138748013,
          0.15297857845734614,
          0.9666187268185602
         ],
         "xaxis": "x",
         "y": [
          0.48,
          0.4772120657120658,
          0.5082094572094572,
          0.6415384615384616,
          0.3416410533910535,
          0.016430242272347535,
          0.02,
          0.07,
          0.20666666666666664,
          0.83
         ],
         "yaxis": "y"
        },
        {
         "hoverinfo": "none",
         "line": {
          "color": "rgba(80,155,203,0.5)",
          "width": 0.5
         },
         "mode": "lines",
         "type": "scatter",
         "x": [
          0.008704867156157748,
          0.03209446673226856,
          0.036425874061177976,
          0.04042086140337597,
          0.04310381079739947,
          0.04857904608112767,
          0.05740166023263438,
          0.07879797138748013,
          0.15297857845734614,
          0.9666187268185602
         ],
         "xaxis": "x",
         "y": [
          0.54,
          0.5579761904761905,
          0.86,
          0.936923076923077,
          0.3114999999999999,
          0.2826666666666665,
          0.3375,
          0.01,
          0.17783333333333334,
          0
         ],
         "yaxis": "y"
        },
        {
         "hoverinfo": "none",
         "line": {
          "color": "rgba(64,144,197,0.5)",
          "width": 0.5
         },
         "mode": "lines",
         "type": "scatter",
         "x": [
          0.008704867156157748,
          0.03209446673226856,
          0.036425874061177976,
          0.04042086140337597,
          0.04310381079739947,
          0.04857904608112767,
          0.05740166023263438,
          0.07879797138748013,
          0.15297857845734614,
          0.9666187268185602
         ],
         "xaxis": "x",
         "y": [
          0.09,
          0.55,
          0.2403506493506492,
          0.03296031746031746,
          0.055,
          0.13083333333333333,
          0.35233333333333333,
          0,
          0.06,
          0.22
         ],
         "yaxis": "y"
        },
        {
         "hoverinfo": "none",
         "line": {
          "color": "rgba(49,129,189,0.5)",
          "width": 0.5
         },
         "mode": "lines",
         "type": "scatter",
         "x": [
          0.008704867156157748,
          0.03209446673226856,
          0.036425874061177976,
          0.04042086140337597,
          0.04310381079739947,
          0.04857904608112767,
          0.05740166023263438,
          0.07879797138748013,
          0.15297857845734614,
          0.9666187268185602
         ],
         "xaxis": "x",
         "y": [
          0.48,
          0.4772120657120658,
          0.5082094572094572,
          0.6415384615384616,
          0.3416410533910535,
          0.016430242272347535,
          0.02,
          0.07,
          0.20666666666666664,
          0.83
         ],
         "yaxis": "y"
        },
        {
         "hoverinfo": "none",
         "line": {
          "color": "rgba(36,116,182,0.5)",
          "width": 0.5
         },
         "mode": "lines",
         "type": "scatter",
         "x": [
          0.008704867156157748,
          0.03209446673226856,
          0.036425874061177976,
          0.04042086140337597,
          0.04310381079739947,
          0.04857904608112767,
          0.05740166023263438,
          0.07879797138748013,
          0.15297857845734614,
          0.9666187268185602
         ],
         "xaxis": "x",
         "y": [
          0.36,
          0.7809999999999999,
          0.93,
          0.8633333333333333,
          0.6560833333333334,
          0.18,
          0.12,
          0.23,
          0.02,
          0
         ],
         "yaxis": "y"
        },
        {
         "hoverinfo": "none",
         "line": {
          "color": "rgba(193,217,237,0.5)",
          "width": 0.5
         },
         "mode": "lines",
         "type": "scatter",
         "x": [
          0.008704867156157748,
          0.03209446673226856,
          0.036425874061177976,
          0.04042086140337597,
          0.04310381079739947,
          0.04857904608112767,
          0.05740166023263438,
          0.07879797138748013,
          0.15297857845734614,
          0.9666187268185602
         ],
         "xaxis": "x",
         "y": [
          0.36,
          0.7809999999999999,
          0.93,
          0.8633333333333333,
          0.6560833333333334,
          0.18,
          0.12,
          0.23,
          0.02,
          0
         ],
         "yaxis": "y"
        },
        {
         "hoverinfo": "none",
         "line": {
          "color": "rgba(177,210,231,0.5)",
          "width": 0.5
         },
         "mode": "lines",
         "type": "scatter",
         "x": [
          0.008704867156157748,
          0.03209446673226856,
          0.036425874061177976,
          0.04042086140337597,
          0.04310381079739947,
          0.04857904608112767,
          0.05740166023263438,
          0.07879797138748013,
          0.15297857845734614,
          0.9666187268185602
         ],
         "xaxis": "x",
         "y": [
          0.54,
          0.5579761904761905,
          0.86,
          0.936923076923077,
          0.3114999999999999,
          0.2826666666666665,
          0.3375,
          0.01,
          0.17783333333333334,
          0
         ],
         "yaxis": "y"
        },
        {
         "hoverinfo": "none",
         "line": {
          "color": "rgba(160,202,225,0.5)",
          "width": 0.5
         },
         "mode": "lines",
         "type": "scatter",
         "x": [
          0.008704867156157748,
          0.03209446673226856,
          0.036425874061177976,
          0.04042086140337597,
          0.04310381079739947,
          0.04857904608112767,
          0.05740166023263438,
          0.07879797138748013,
          0.15297857845734614,
          0.9666187268185602
         ],
         "xaxis": "x",
         "y": [
          0.06,
          0.5164444444444444,
          1,
          0.9671666666666667,
          0.5092499999999999,
          0.6570357142857142,
          0.365,
          0,
          0.049166666666666664,
          0
         ],
         "yaxis": "y"
        },
        {
         "hoverinfo": "none",
         "line": {
          "color": "rgba(139,192,221,0.5)",
          "width": 0.5
         },
         "mode": "lines",
         "type": "scatter",
         "x": [
          0.008704867156157748,
          0.03209446673226856,
          0.036425874061177976,
          0.04042086140337597,
          0.04310381079739947,
          0.04857904608112767,
          0.05740166023263438,
          0.07879797138748013,
          0.15297857845734614,
          0.9666187268185602
         ],
         "xaxis": "x",
         "y": [
          0.54,
          0.5579761904761905,
          0.86,
          0.936923076923077,
          0.3114999999999999,
          0.2826666666666665,
          0.3375,
          0.01,
          0.17783333333333334,
          0
         ],
         "yaxis": "y"
        },
        {
         "hoverinfo": "none",
         "line": {
          "color": "rgba(117,179,216,0.5)",
          "width": 0.5
         },
         "mode": "lines",
         "type": "scatter",
         "x": [
          0.008704867156157748,
          0.03209446673226856,
          0.036425874061177976,
          0.04042086140337597,
          0.04310381079739947,
          0.04857904608112767,
          0.05740166023263438,
          0.07879797138748013,
          0.15297857845734614,
          0.9666187268185602
         ],
         "xaxis": "x",
         "y": [
          0.54,
          0.5579761904761905,
          0.86,
          0.936923076923077,
          0.3114999999999999,
          0.2826666666666665,
          0.3375,
          0.01,
          0.17783333333333334,
          0
         ],
         "yaxis": "y"
        },
        {
         "hoverinfo": "none",
         "line": {
          "color": "rgba(98,168,210,0.5)",
          "width": 0.5
         },
         "mode": "lines",
         "type": "scatter",
         "x": [
          0.008704867156157748,
          0.03209446673226856,
          0.036425874061177976,
          0.04042086140337597,
          0.04310381079739947,
          0.04857904608112767,
          0.05740166023263438,
          0.07879797138748013,
          0.15297857845734614,
          0.9666187268185602
         ],
         "xaxis": "x",
         "y": [
          0.06,
          0.5164444444444444,
          1,
          0.9671666666666667,
          0.5092499999999999,
          0.6570357142857142,
          0.365,
          0,
          0.049166666666666664,
          0
         ],
         "yaxis": "y"
        },
        {
         "hoverinfo": "none",
         "line": {
          "color": "rgba(80,155,203,0.5)",
          "width": 0.5
         },
         "mode": "lines",
         "type": "scatter",
         "x": [
          0.008704867156157748,
          0.03209446673226856,
          0.036425874061177976,
          0.04042086140337597,
          0.04310381079739947,
          0.04857904608112767,
          0.05740166023263438,
          0.07879797138748013,
          0.15297857845734614,
          0.9666187268185602
         ],
         "xaxis": "x",
         "y": [
          0.1,
          0.01,
          0.0345,
          0.9094761904761904,
          0.1768502886002886,
          0.26666666666666666,
          0.04,
          0.05,
          0.04666666666666666,
          0.22
         ],
         "yaxis": "y"
        },
        {
         "hoverinfo": "none",
         "line": {
          "color": "rgba(64,144,197,0.5)",
          "width": 0.5
         },
         "mode": "lines",
         "type": "scatter",
         "x": [
          0.008704867156157748,
          0.03209446673226856,
          0.036425874061177976,
          0.04042086140337597,
          0.04310381079739947,
          0.04857904608112767,
          0.05740166023263438,
          0.07879797138748013,
          0.15297857845734614,
          0.9666187268185602
         ],
         "xaxis": "x",
         "y": [
          0.06,
          0.5164444444444444,
          1,
          0.9671666666666667,
          0.5092499999999999,
          0.6570357142857142,
          0.365,
          0,
          0.049166666666666664,
          0
         ],
         "yaxis": "y"
        },
        {
         "hoverinfo": "none",
         "line": {
          "color": "rgba(49,129,189,0.5)",
          "width": 0.5
         },
         "mode": "lines",
         "type": "scatter",
         "x": [
          0.008704867156157748,
          0.03209446673226856,
          0.036425874061177976,
          0.04042086140337597,
          0.04310381079739947,
          0.04857904608112767,
          0.05740166023263438,
          0.07879797138748013,
          0.15297857845734614,
          0.9666187268185602
         ],
         "xaxis": "x",
         "y": [
          0.48,
          0.4772120657120658,
          0.5082094572094572,
          0.6415384615384616,
          0.3416410533910535,
          0.016430242272347535,
          0.02,
          0.07,
          0.20666666666666664,
          0.83
         ],
         "yaxis": "y"
        },
        {
         "hoverinfo": "none",
         "line": {
          "color": "rgba(36,116,182,0.5)",
          "width": 0.5
         },
         "mode": "lines",
         "type": "scatter",
         "x": [
          0.008704867156157748,
          0.03209446673226856,
          0.036425874061177976,
          0.04042086140337597,
          0.04310381079739947,
          0.04857904608112767,
          0.05740166023263438,
          0.07879797138748013,
          0.15297857845734614,
          0.9666187268185602
         ],
         "xaxis": "x",
         "y": [
          0.48,
          0.4772120657120658,
          0.5082094572094572,
          0.6415384615384616,
          0.3416410533910535,
          0.016430242272347535,
          0.02,
          0.07,
          0.20666666666666664,
          0.83
         ],
         "yaxis": "y"
        },
        {
         "hoverinfo": "none",
         "line": {
          "color": "rgba(193,217,237,0.5)",
          "width": 0.5
         },
         "mode": "lines",
         "type": "scatter",
         "x": [
          0.008704867156157748,
          0.03209446673226856,
          0.036425874061177976,
          0.04042086140337597,
          0.04310381079739947,
          0.04857904608112767,
          0.05740166023263438,
          0.07879797138748013,
          0.15297857845734614,
          0.9666187268185602
         ],
         "xaxis": "x",
         "y": [
          0.54,
          0.5579761904761905,
          0.86,
          0.936923076923077,
          0.3114999999999999,
          0.2826666666666665,
          0.3375,
          0.01,
          0.17783333333333334,
          0
         ],
         "yaxis": "y"
        },
        {
         "hoverinfo": "none",
         "line": {
          "color": "rgba(177,210,231,0.5)",
          "width": 0.5
         },
         "mode": "lines",
         "type": "scatter",
         "x": [
          0.008704867156157748,
          0.03209446673226856,
          0.036425874061177976,
          0.04042086140337597,
          0.04310381079739947,
          0.04857904608112767,
          0.05740166023263438,
          0.07879797138748013,
          0.15297857845734614,
          0.9666187268185602
         ],
         "xaxis": "x",
         "y": [
          0.54,
          0.5579761904761905,
          0.86,
          0.936923076923077,
          0.3114999999999999,
          0.2826666666666665,
          0.3375,
          0.01,
          0.17783333333333334,
          0
         ],
         "yaxis": "y"
        },
        {
         "hoverinfo": "none",
         "line": {
          "color": "rgba(160,202,225,0.5)",
          "width": 0.5
         },
         "mode": "lines",
         "type": "scatter",
         "x": [
          0.008704867156157748,
          0.03209446673226856,
          0.036425874061177976,
          0.04042086140337597,
          0.04310381079739947,
          0.04857904608112767,
          0.05740166023263438,
          0.07879797138748013,
          0.15297857845734614,
          0.9666187268185602
         ],
         "xaxis": "x",
         "y": [
          0.09,
          0.55,
          0.2403506493506492,
          0.03296031746031746,
          0.055,
          0.13083333333333333,
          0.35233333333333333,
          0,
          0.06,
          0.22
         ],
         "yaxis": "y"
        },
        {
         "hoverinfo": "none",
         "line": {
          "color": "rgba(139,192,221,0.5)",
          "width": 0.5
         },
         "mode": "lines",
         "type": "scatter",
         "x": [
          0.008704867156157748,
          0.03209446673226856,
          0.036425874061177976,
          0.04042086140337597,
          0.04310381079739947,
          0.04857904608112767,
          0.05740166023263438,
          0.07879797138748013,
          0.15297857845734614,
          0.9666187268185602
         ],
         "xaxis": "x",
         "y": [
          0.06,
          0.5164444444444444,
          1,
          0.9671666666666667,
          0.5092499999999999,
          0.6570357142857142,
          0.365,
          0,
          0.049166666666666664,
          0
         ],
         "yaxis": "y"
        },
        {
         "hoverinfo": "none",
         "line": {
          "color": "rgba(117,179,216,0.5)",
          "width": 0.5
         },
         "mode": "lines",
         "type": "scatter",
         "x": [
          0.008704867156157748,
          0.03209446673226856,
          0.036425874061177976,
          0.04042086140337597,
          0.04310381079739947,
          0.04857904608112767,
          0.05740166023263438,
          0.07879797138748013,
          0.15297857845734614,
          0.9666187268185602
         ],
         "xaxis": "x",
         "y": [
          0.54,
          0.5579761904761905,
          0.86,
          0.936923076923077,
          0.3114999999999999,
          0.2826666666666665,
          0.3375,
          0.01,
          0.17783333333333334,
          0
         ],
         "yaxis": "y"
        },
        {
         "hoverinfo": "none",
         "line": {
          "color": "rgba(98,168,210,0.5)",
          "width": 0.5
         },
         "mode": "lines",
         "type": "scatter",
         "x": [
          0.008704867156157748,
          0.03209446673226856,
          0.036425874061177976,
          0.04042086140337597,
          0.04310381079739947,
          0.04857904608112767,
          0.05740166023263438,
          0.07879797138748013,
          0.15297857845734614,
          0.9666187268185602
         ],
         "xaxis": "x",
         "y": [
          0.48,
          0.4772120657120658,
          0.5082094572094572,
          0.6415384615384616,
          0.3416410533910535,
          0.016430242272347535,
          0.02,
          0.07,
          0.20666666666666664,
          0.83
         ],
         "yaxis": "y"
        },
        {
         "hoverinfo": "none",
         "line": {
          "color": "rgba(80,155,203,0.5)",
          "width": 0.5
         },
         "mode": "lines",
         "type": "scatter",
         "x": [
          0.008704867156157748,
          0.03209446673226856,
          0.036425874061177976,
          0.04042086140337597,
          0.04310381079739947,
          0.04857904608112767,
          0.05740166023263438,
          0.07879797138748013,
          0.15297857845734614,
          0.9666187268185602
         ],
         "xaxis": "x",
         "y": [
          0.54,
          0.5579761904761905,
          0.86,
          0.936923076923077,
          0.3114999999999999,
          0.2826666666666665,
          0.3375,
          0.01,
          0.17783333333333334,
          0
         ],
         "yaxis": "y"
        },
        {
         "hoverinfo": "none",
         "line": {
          "color": "rgba(64,144,197,0.5)",
          "width": 0.5
         },
         "mode": "lines",
         "type": "scatter",
         "x": [
          0.008704867156157748,
          0.03209446673226856,
          0.036425874061177976,
          0.04042086140337597,
          0.04310381079739947,
          0.04857904608112767,
          0.05740166023263438,
          0.07879797138748013,
          0.15297857845734614,
          0.9666187268185602
         ],
         "xaxis": "x",
         "y": [
          0.48,
          0.4772120657120658,
          0.5082094572094572,
          0.6415384615384616,
          0.3416410533910535,
          0.016430242272347535,
          0.02,
          0.07,
          0.20666666666666664,
          0.83
         ],
         "yaxis": "y"
        },
        {
         "hoverinfo": "none",
         "line": {
          "color": "rgba(49,129,189,0.5)",
          "width": 0.5
         },
         "mode": "lines",
         "type": "scatter",
         "x": [
          0.008704867156157748,
          0.03209446673226856,
          0.036425874061177976,
          0.04042086140337597,
          0.04310381079739947,
          0.04857904608112767,
          0.05740166023263438,
          0.07879797138748013,
          0.15297857845734614,
          0.9666187268185602
         ],
         "xaxis": "x",
         "y": [
          0.1,
          0.01,
          0.0345,
          0.9094761904761904,
          0.1768502886002886,
          0.26666666666666666,
          0.04,
          0.05,
          0.04666666666666666,
          0.22
         ],
         "yaxis": "y"
        },
        {
         "hoverinfo": "none",
         "line": {
          "color": "rgba(36,116,182,0.5)",
          "width": 0.5
         },
         "mode": "lines",
         "type": "scatter",
         "x": [
          0.008704867156157748,
          0.03209446673226856,
          0.036425874061177976,
          0.04042086140337597,
          0.04310381079739947,
          0.04857904608112767,
          0.05740166023263438,
          0.07879797138748013,
          0.15297857845734614,
          0.9666187268185602
         ],
         "xaxis": "x",
         "y": [
          0.54,
          0.5579761904761905,
          0.86,
          0.936923076923077,
          0.3114999999999999,
          0.2826666666666665,
          0.3375,
          0.01,
          0.17783333333333334,
          0
         ],
         "yaxis": "y"
        },
        {
         "hoverinfo": "none",
         "line": {
          "color": "rgba(193,217,237,0.5)",
          "width": 0.5
         },
         "mode": "lines",
         "type": "scatter",
         "x": [
          0.008704867156157748,
          0.03209446673226856,
          0.036425874061177976,
          0.04042086140337597,
          0.04310381079739947,
          0.04857904608112767,
          0.05740166023263438,
          0.07879797138748013,
          0.15297857845734614,
          0.9666187268185602
         ],
         "xaxis": "x",
         "y": [
          0.48,
          0.4772120657120658,
          0.5082094572094572,
          0.6415384615384616,
          0.3416410533910535,
          0.016430242272347535,
          0.02,
          0.07,
          0.20666666666666664,
          0.83
         ],
         "yaxis": "y"
        },
        {
         "hoverinfo": "none",
         "line": {
          "color": "rgba(177,210,231,0.5)",
          "width": 0.5
         },
         "mode": "lines",
         "type": "scatter",
         "x": [
          0.008704867156157748,
          0.03209446673226856,
          0.036425874061177976,
          0.04042086140337597,
          0.04310381079739947,
          0.04857904608112767,
          0.05740166023263438,
          0.07879797138748013,
          0.15297857845734614,
          0.9666187268185602
         ],
         "xaxis": "x",
         "y": [
          0.09,
          0.55,
          0.2403506493506492,
          0.03296031746031746,
          0.055,
          0.13083333333333333,
          0.35233333333333333,
          0,
          0.06,
          0.22
         ],
         "yaxis": "y"
        },
        {
         "hoverinfo": "none",
         "line": {
          "color": "rgba(160,202,225,0.5)",
          "width": 0.5
         },
         "mode": "lines",
         "type": "scatter",
         "x": [
          0.008704867156157748,
          0.03209446673226856,
          0.036425874061177976,
          0.04042086140337597,
          0.04310381079739947,
          0.04857904608112767,
          0.05740166023263438,
          0.07879797138748013,
          0.15297857845734614,
          0.9666187268185602
         ],
         "xaxis": "x",
         "y": [
          0.48,
          0.4772120657120658,
          0.5082094572094572,
          0.6415384615384616,
          0.3416410533910535,
          0.016430242272347535,
          0.02,
          0.07,
          0.20666666666666664,
          0.83
         ],
         "yaxis": "y"
        },
        {
         "hoverinfo": "none",
         "line": {
          "color": "rgba(139,192,221,0.5)",
          "width": 0.5
         },
         "mode": "lines",
         "type": "scatter",
         "x": [
          0.008704867156157748,
          0.03209446673226856,
          0.036425874061177976,
          0.04042086140337597,
          0.04310381079739947,
          0.04857904608112767,
          0.05740166023263438,
          0.07879797138748013,
          0.15297857845734614,
          0.9666187268185602
         ],
         "xaxis": "x",
         "y": [
          0.54,
          0.5579761904761905,
          0.86,
          0.936923076923077,
          0.3114999999999999,
          0.2826666666666665,
          0.3375,
          0.01,
          0.17783333333333334,
          0
         ],
         "yaxis": "y"
        },
        {
         "hoverinfo": "none",
         "line": {
          "color": "rgba(117,179,216,0.5)",
          "width": 0.5
         },
         "mode": "lines",
         "type": "scatter",
         "x": [
          0.008704867156157748,
          0.03209446673226856,
          0.036425874061177976,
          0.04042086140337597,
          0.04310381079739947,
          0.04857904608112767,
          0.05740166023263438,
          0.07879797138748013,
          0.15297857845734614,
          0.9666187268185602
         ],
         "xaxis": "x",
         "y": [
          0.09,
          0.55,
          0.2403506493506492,
          0.03296031746031746,
          0.055,
          0.13083333333333333,
          0.35233333333333333,
          0,
          0.06,
          0.22
         ],
         "yaxis": "y"
        },
        {
         "hoverinfo": "none",
         "line": {
          "color": "rgba(98,168,210,0.5)",
          "width": 0.5
         },
         "mode": "lines",
         "type": "scatter",
         "x": [
          0.008704867156157748,
          0.03209446673226856,
          0.036425874061177976,
          0.04042086140337597,
          0.04310381079739947,
          0.04857904608112767,
          0.05740166023263438,
          0.07879797138748013,
          0.15297857845734614,
          0.9666187268185602
         ],
         "xaxis": "x",
         "y": [
          0.06,
          0.5164444444444444,
          1,
          0.9671666666666667,
          0.5092499999999999,
          0.6570357142857142,
          0.365,
          0,
          0.049166666666666664,
          0
         ],
         "yaxis": "y"
        },
        {
         "hoverinfo": "none",
         "line": {
          "color": "rgba(80,155,203,0.5)",
          "width": 0.5
         },
         "mode": "lines",
         "type": "scatter",
         "x": [
          0.008704867156157748,
          0.03209446673226856,
          0.036425874061177976,
          0.04042086140337597,
          0.04310381079739947,
          0.04857904608112767,
          0.05740166023263438,
          0.07879797138748013,
          0.15297857845734614,
          0.9666187268185602
         ],
         "xaxis": "x",
         "y": [
          0.54,
          0.5579761904761905,
          0.86,
          0.936923076923077,
          0.3114999999999999,
          0.2826666666666665,
          0.3375,
          0.01,
          0.17783333333333334,
          0
         ],
         "yaxis": "y"
        },
        {
         "hoverinfo": "none",
         "line": {
          "color": "rgba(64,144,197,0.5)",
          "width": 0.5
         },
         "mode": "lines",
         "type": "scatter",
         "x": [
          0.008704867156157748,
          0.03209446673226856,
          0.036425874061177976,
          0.04042086140337597,
          0.04310381079739947,
          0.04857904608112767,
          0.05740166023263438,
          0.07879797138748013,
          0.15297857845734614,
          0.9666187268185602
         ],
         "xaxis": "x",
         "y": [
          0.54,
          0.5579761904761905,
          0.86,
          0.936923076923077,
          0.3114999999999999,
          0.2826666666666665,
          0.3375,
          0.01,
          0.17783333333333334,
          0
         ],
         "yaxis": "y"
        },
        {
         "hoverinfo": "none",
         "line": {
          "color": "rgba(49,129,189,0.5)",
          "width": 0.5
         },
         "mode": "lines",
         "type": "scatter",
         "x": [
          0.008704867156157748,
          0.03209446673226856,
          0.036425874061177976,
          0.04042086140337597,
          0.04310381079739947,
          0.04857904608112767,
          0.05740166023263438,
          0.07879797138748013,
          0.15297857845734614,
          0.9666187268185602
         ],
         "xaxis": "x",
         "y": [
          0.41,
          0.05,
          0,
          0.62,
          0.7458333333333332,
          0.73,
          0.78,
          0.09,
          0.23666666666666664,
          0.34
         ],
         "yaxis": "y"
        },
        {
         "hoverinfo": "none",
         "line": {
          "color": "rgba(36,116,182,0.5)",
          "width": 0.5
         },
         "mode": "lines",
         "type": "scatter",
         "x": [
          0.008704867156157748,
          0.03209446673226856,
          0.036425874061177976,
          0.04042086140337597,
          0.04310381079739947,
          0.04857904608112767,
          0.05740166023263438,
          0.07879797138748013,
          0.15297857845734614,
          0.9666187268185602
         ],
         "xaxis": "x",
         "y": [
          0.54,
          0.5579761904761905,
          0.86,
          0.936923076923077,
          0.3114999999999999,
          0.2826666666666665,
          0.3375,
          0.01,
          0.17783333333333334,
          0
         ],
         "yaxis": "y"
        },
        {
         "hoverinfo": "none",
         "line": {
          "color": "rgba(193,217,237,0.5)",
          "width": 0.5
         },
         "mode": "lines",
         "type": "scatter",
         "x": [
          0.008704867156157748,
          0.03209446673226856,
          0.036425874061177976,
          0.04042086140337597,
          0.04310381079739947,
          0.04857904608112767,
          0.05740166023263438,
          0.07879797138748013,
          0.15297857845734614,
          0.9666187268185602
         ],
         "xaxis": "x",
         "y": [
          0.54,
          0.5579761904761905,
          0.86,
          0.936923076923077,
          0.3114999999999999,
          0.2826666666666665,
          0.3375,
          0.01,
          0.17783333333333334,
          0
         ],
         "yaxis": "y"
        },
        {
         "hoverinfo": "none",
         "line": {
          "color": "rgba(177,210,231,0.5)",
          "width": 0.5
         },
         "mode": "lines",
         "type": "scatter",
         "x": [
          0.008704867156157748,
          0.03209446673226856,
          0.036425874061177976,
          0.04042086140337597,
          0.04310381079739947,
          0.04857904608112767,
          0.05740166023263438,
          0.07879797138748013,
          0.15297857845734614,
          0.9666187268185602
         ],
         "xaxis": "x",
         "y": [
          0.48,
          0.4772120657120658,
          0.5082094572094572,
          0.6415384615384616,
          0.3416410533910535,
          0.016430242272347535,
          0.02,
          0.07,
          0.20666666666666664,
          0.83
         ],
         "yaxis": "y"
        },
        {
         "hoverinfo": "none",
         "line": {
          "color": "rgba(160,202,225,0.5)",
          "width": 0.5
         },
         "mode": "lines",
         "type": "scatter",
         "x": [
          0.008704867156157748,
          0.03209446673226856,
          0.036425874061177976,
          0.04042086140337597,
          0.04310381079739947,
          0.04857904608112767,
          0.05740166023263438,
          0.07879797138748013,
          0.15297857845734614,
          0.9666187268185602
         ],
         "xaxis": "x",
         "y": [
          0.06,
          0.5164444444444444,
          1,
          0.9671666666666667,
          0.5092499999999999,
          0.6570357142857142,
          0.365,
          0,
          0.049166666666666664,
          0
         ],
         "yaxis": "y"
        },
        {
         "hoverinfo": "none",
         "line": {
          "color": "rgba(139,192,221,0.5)",
          "width": 0.5
         },
         "mode": "lines",
         "type": "scatter",
         "x": [
          0.008704867156157748,
          0.03209446673226856,
          0.036425874061177976,
          0.04042086140337597,
          0.04310381079739947,
          0.04857904608112767,
          0.05740166023263438,
          0.07879797138748013,
          0.15297857845734614,
          0.9666187268185602
         ],
         "xaxis": "x",
         "y": [
          0.09,
          0.55,
          0.2403506493506492,
          0.03296031746031746,
          0.055,
          0.13083333333333333,
          0.35233333333333333,
          0,
          0.06,
          0.22
         ],
         "yaxis": "y"
        },
        {
         "hoverinfo": "none",
         "line": {
          "color": "rgba(117,179,216,0.5)",
          "width": 0.5
         },
         "mode": "lines",
         "type": "scatter",
         "x": [
          0.008704867156157748,
          0.03209446673226856,
          0.036425874061177976,
          0.04042086140337597,
          0.04310381079739947,
          0.04857904608112767,
          0.05740166023263438,
          0.07879797138748013,
          0.15297857845734614,
          0.9666187268185602
         ],
         "xaxis": "x",
         "y": [
          0.54,
          0.5579761904761905,
          0.86,
          0.936923076923077,
          0.3114999999999999,
          0.2826666666666665,
          0.3375,
          0.01,
          0.17783333333333334,
          0
         ],
         "yaxis": "y"
        },
        {
         "hoverinfo": "none",
         "line": {
          "color": "rgba(98,168,210,0.5)",
          "width": 0.5
         },
         "mode": "lines",
         "type": "scatter",
         "x": [
          0.008704867156157748,
          0.03209446673226856,
          0.036425874061177976,
          0.04042086140337597,
          0.04310381079739947,
          0.04857904608112767,
          0.05740166023263438,
          0.07879797138748013,
          0.15297857845734614,
          0.9666187268185602
         ],
         "xaxis": "x",
         "y": [
          0.48,
          0.4772120657120658,
          0.5082094572094572,
          0.6415384615384616,
          0.3416410533910535,
          0.016430242272347535,
          0.02,
          0.07,
          0.20666666666666664,
          0.83
         ],
         "yaxis": "y"
        },
        {
         "hoverinfo": "none",
         "line": {
          "color": "rgba(80,155,203,0.5)",
          "width": 0.5
         },
         "mode": "lines",
         "type": "scatter",
         "x": [
          0.008704867156157748,
          0.03209446673226856,
          0.036425874061177976,
          0.04042086140337597,
          0.04310381079739947,
          0.04857904608112767,
          0.05740166023263438,
          0.07879797138748013,
          0.15297857845734614,
          0.9666187268185602
         ],
         "xaxis": "x",
         "y": [
          0.06,
          0.5164444444444444,
          1,
          0.9671666666666667,
          0.5092499999999999,
          0.6570357142857142,
          0.365,
          0,
          0.049166666666666664,
          0
         ],
         "yaxis": "y"
        },
        {
         "hoverinfo": "none",
         "line": {
          "color": "rgba(64,144,197,0.5)",
          "width": 0.5
         },
         "mode": "lines",
         "type": "scatter",
         "x": [
          0.008704867156157748,
          0.03209446673226856,
          0.036425874061177976,
          0.04042086140337597,
          0.04310381079739947,
          0.04857904608112767,
          0.05740166023263438,
          0.07879797138748013,
          0.15297857845734614,
          0.9666187268185602
         ],
         "xaxis": "x",
         "y": [
          0.06,
          0.5164444444444444,
          1,
          0.9671666666666667,
          0.5092499999999999,
          0.6570357142857142,
          0.365,
          0,
          0.049166666666666664,
          0
         ],
         "yaxis": "y"
        },
        {
         "hoverinfo": "none",
         "line": {
          "color": "rgba(49,129,189,0.5)",
          "width": 0.5
         },
         "mode": "lines",
         "type": "scatter",
         "x": [
          0.008704867156157748,
          0.03209446673226856,
          0.036425874061177976,
          0.04042086140337597,
          0.04310381079739947,
          0.04857904608112767,
          0.05740166023263438,
          0.07879797138748013,
          0.15297857845734614,
          0.9666187268185602
         ],
         "xaxis": "x",
         "y": [
          0.06,
          0.5164444444444444,
          1,
          0.9671666666666667,
          0.5092499999999999,
          0.6570357142857142,
          0.365,
          0,
          0.049166666666666664,
          0
         ],
         "yaxis": "y"
        },
        {
         "hoverinfo": "none",
         "line": {
          "color": "rgba(36,116,182,0.5)",
          "width": 0.5
         },
         "mode": "lines",
         "type": "scatter",
         "x": [
          0.008704867156157748,
          0.03209446673226856,
          0.036425874061177976,
          0.04042086140337597,
          0.04310381079739947,
          0.04857904608112767,
          0.05740166023263438,
          0.07879797138748013,
          0.15297857845734614,
          0.9666187268185602
         ],
         "xaxis": "x",
         "y": [
          0.09,
          0.55,
          0.2403506493506492,
          0.03296031746031746,
          0.055,
          0.13083333333333333,
          0.35233333333333333,
          0,
          0.06,
          0.22
         ],
         "yaxis": "y"
        },
        {
         "hoverinfo": "none",
         "line": {
          "color": "#FEDC00",
          "width": 4.5
         },
         "mode": "lines",
         "type": "scatter",
         "x": [
          0.008704867156157748,
          0.03209446673226856,
          0.036425874061177976,
          0.04042086140337597,
          0.04310381079739947,
          0.04857904608112767,
          0.05740166023263438,
          0.07879797138748013,
          0.15297857845734614,
          0.9666187268185602
         ],
         "xaxis": "x",
         "y": [
          0.34275641025641024,
          0.48974076368787917,
          0.6088720499585883,
          0.6929228518988134,
          0.33031169178044173,
          0.24746833362787304,
          0.24872329059829057,
          0.041698717948717955,
          0.135704594017094,
          0.2718589743589744
         ],
         "yaxis": "y"
        },
        {
         "hoverinfo": "none",
         "line": {
          "color": "#E75438",
          "dash": "dash",
          "width": 1.5
         },
         "mode": "lines",
         "type": "scatter",
         "x": [
          0.008704867156157748,
          0.03209446673226856,
          0.036425874061177976,
          0.04042086140337597,
          0.04310381079739947,
          0.04857904608112767,
          0.05740166023263438,
          0.07879797138748013,
          0.15297857845734614,
          0.9666187268185602
         ],
         "xaxis": "x",
         "y": [
          0,
          0,
          0,
          0,
          0,
          0,
          0,
          0,
          0,
          0
         ],
         "yaxis": "y"
        },
        {
         "hovertemplate": "%{y}",
         "line": {
          "color": "rgba(8,48,107,1.0)",
          "width": 1.5
         },
         "marker": {
          "color": "rgba(8,48,107,1.0)",
          "size": 5
         },
         "mode": "lines+markers",
         "name": "pdp",
         "type": "scatter",
         "x": [
          0.008704867156157748,
          0.03209446673226856,
          0.036425874061177976,
          0.04042086140337597,
          0.04310381079739947,
          0.04857904608112767,
          0.05740166023263438,
          0.07879797138748013,
          0.15297857845734614,
          0.9666187268185602
         ],
         "xaxis": "x",
         "y": [
          0.34275641025641024,
          0.48974076368787917,
          0.6088720499585883,
          0.6929228518988134,
          0.33031169178044173,
          0.24746833362787304,
          0.24872329059829057,
          0.041698717948717955,
          0.135704594017094,
          0.2718589743589744
         ],
         "yaxis": "y"
        },
        {
         "hoverinfo": "none",
         "mode": "text",
         "name": "dist",
         "showlegend": false,
         "text": [
          "|",
          "|",
          "|",
          "|",
          "|",
          "|",
          "|",
          "|",
          "|",
          "|",
          "|",
          "|",
          "|",
          "|",
          "|",
          "|",
          "|",
          "|",
          "|",
          "|",
          "|",
          "|",
          "|",
          "|",
          "|",
          "|",
          "|",
          "|",
          "|",
          "|",
          "|",
          "|",
          "|",
          "|",
          "|",
          "|",
          "|",
          "|",
          "|",
          "|",
          "|",
          "|",
          "|",
          "|",
          "|",
          "|",
          "|",
          "|",
          "|",
          "|",
          "|",
          "|",
          "|",
          "|",
          "|",
          "|",
          "|",
          "|",
          "|",
          "|",
          "|",
          "|",
          "|",
          "|",
          "|",
          "|",
          "|",
          "|",
          "|",
          "|",
          "|",
          "|",
          "|",
          "|",
          "|",
          "|",
          "|",
          "|",
          "|",
          "|",
          "|",
          "|",
          "|",
          "|",
          "|",
          "|",
          "|",
          "|",
          "|",
          "|",
          "|",
          "|",
          "|",
          "|",
          "|",
          "|",
          "|",
          "|",
          "|",
          "|",
          "|",
          "|",
          "|",
          "|",
          "|",
          "|",
          "|",
          "|",
          "|",
          "|",
          "|",
          "|",
          "|",
          "|",
          "|",
          "|",
          "|",
          "|",
          "|",
          "|",
          "|",
          "|",
          "|",
          "|",
          "|",
          "|",
          "|",
          "|",
          "|",
          "|",
          "|",
          "|",
          "|",
          "|",
          "|",
          "|",
          "|",
          "|",
          "|",
          "|",
          "|",
          "|",
          "|",
          "|",
          "|",
          "|",
          "|",
          "|",
          "|",
          "|",
          "|",
          "|",
          "|",
          "|",
          "|",
          "|",
          "|",
          "|",
          "|",
          "|",
          "|",
          "|",
          "|",
          "|",
          "|",
          "|",
          "|",
          "|",
          "|",
          "|",
          "|",
          "|",
          "|",
          "|",
          "|",
          "|",
          "|",
          "|",
          "|",
          "|",
          "|",
          "|",
          "|",
          "|",
          "|",
          "|",
          "|",
          "|",
          "|",
          "|",
          "|",
          "|",
          "|",
          "|",
          "|",
          "|",
          "|",
          "|",
          "|",
          "|",
          "|",
          "|",
          "|",
          "|",
          "|",
          "|",
          "|",
          "|",
          "|",
          "|",
          "|",
          "|",
          "|",
          "|",
          "|",
          "|",
          "|",
          "|",
          "|",
          "|",
          "|",
          "|",
          "|",
          "|",
          "|",
          "|",
          "|",
          "|",
          "|",
          "|",
          "|",
          "|",
          "|",
          "|",
          "|",
          "|",
          "|",
          "|",
          "|",
          "|",
          "|",
          "|",
          "|",
          "|",
          "|",
          "|",
          "|",
          "|",
          "|",
          "|",
          "|",
          "|",
          "|",
          "|",
          "|",
          "|",
          "|",
          "|",
          "|",
          "|",
          "|",
          "|",
          "|",
          "|",
          "|",
          "|",
          "|",
          "|",
          "|",
          "|",
          "|",
          "|",
          "|",
          "|",
          "|",
          "|",
          "|",
          "|",
          "|",
          "|",
          "|",
          "|",
          "|",
          "|",
          "|",
          "|",
          "|",
          "|",
          "|",
          "|",
          "|",
          "|",
          "|",
          "|",
          "|",
          "|",
          "|",
          "|",
          "|",
          "|",
          "|",
          "|",
          "|",
          "|",
          "|",
          "|",
          "|",
          "|",
          "|",
          "|",
          "|",
          "|"
         ],
         "textfont": {
          "color": "rgba(8,48,107,1.0)",
          "size": 20
         },
         "textposition": "middle center",
         "type": "scatter",
         "x": [
          0.036030580576792065,
          0.0832639467110741,
          0.04541669820604042,
          0.020134736204677917,
          0.02868821436681553,
          0.034289607145560515,
          0.20884111725077584,
          0.0630535160093861,
          0.04988267352963439,
          0.06320490500340624,
          0.04155627885852698,
          0.03209446673226856,
          0.07879797138748013,
          0.07137991068049351,
          0.04087502838543638,
          0.07137991068049351,
          0.0610097645901143,
          0.04042086140337597,
          0.03875558246915449,
          0.0630535160093861,
          0.05419725985920823,
          0.0538187873741579,
          0.06540004541669821,
          0.04140488986450684,
          0.05654378926652032,
          0.07047157671637272,
          0.03890697146317462,
          0.0252819620013625,
          0.0364090530618424,
          0.05230489743395655,
          0.040950722882446444,
          0.03875558246915449,
          0.13185981379153733,
          0.04087502838543638,
          0.2990689576867761,
          0.030202104307016878,
          0.0364090530618424,
          0.0364090530618424,
          0.05434864885322836,
          0.09885701309514798,
          0.0630535160093861,
          0.04087502838543638,
          0.04269169631367799,
          0.036030580576792065,
          0.036560442055862535,
          0.22117932026341683,
          0.07879797138748013,
          0.05926879115888274,
          0.05207781394292634,
          0.9666187268185602,
          0.040950722882446444,
          0.11664521989251381,
          0.0510180909847854,
          0.015820149875104078,
          0.026493073953523575,
          0.1238361971084702,
          0.07243963363863447,
          0.05434864885322836,
          0.03406252365453031,
          0.0510180909847854,
          0.025357656498372565,
          0.03822572099008401,
          0.043221557792748465,
          0.12550147604269168,
          0.04307016879872833,
          0.06804935281205056,
          0.13201120278555745,
          0.07879797138748013,
          0.044281280750889405,
          0.04670350465521156,
          0.046552115661191426,
          0.16895011732647033,
          0.043221557792748465,
          0.059420180152902874,
          0.03928544394822496,
          0.03542502460071152,
          0.05434864885322836,
          0.03875558246915449,
          0.6862463098932706,
          0.12073272273105745,
          0.034289607145560515,
          0.04927711755355385,
          0.03822572099008401,
          0.15873136023011125,
          0.04307016879872833,
          0.27908561047611835,
          0.04768753311634243,
          0.12731814397093327,
          0.02815835288774506,
          0.19862236015441675,
          0.043221557792748465,
          0.009840284611308757,
          0.02119445916281886,
          0.036030580576792065,
          0.24888350616910146,
          0.3099689652562258,
          0.05714934524260085,
          0.03875558246915449,
          0.04768753311634243,
          0.1345091211868897,
          0.04087502838543638,
          0.03474377412762092,
          0.05419725985920823,
          0.034289607145560515,
          0.2490348951631216,
          0.036257664067822264,
          0.13201120278555745,
          0.04768753311634243,
          0.2409355839830444,
          0.05207781394292634,
          0.026568768450533645,
          0.04269169631367799,
          0.07380213458481567,
          0.026493073953523575,
          0.15411399591249714,
          0.029823631821966543,
          0.03875558246915449,
          0.04541669820604042,
          0.033759745666490044,
          0.16524108697297704,
          0.04208614033759746,
          0.043221557792748465,
          0.08545908712436606,
          0.03890697146317462,
          0.04874725607448338,
          0.02270834910302021,
          0.19900083263946708,
          0.06259934902732571,
          0.04988267352963439,
          0.040193777912345775,
          0.12111119521610778,
          0.1488910756188025,
          0.040950722882446444,
          0.04208614033759746,
          0.04435697524789948,
          0.07372644008780561,
          0.040950722882446444,
          0.008704867156157748,
          0.05207781394292634,
          0.05434864885322836,
          0.038528498978124284,
          0.02989932631897661,
          0.03421391264855045,
          0.06547573991370827,
          0.15207024449322532,
          0.0364090530618424,
          0.04889864506850351,
          0.16524108697297704,
          0.039890999924305504,
          0.060101430625993484,
          0.09514798274165467,
          0.037620165014003476,
          0.022027098629929603,
          0.043221557792748465,
          0.06540004541669821,
          0.13223828627658768,
          0.27908561047611835,
          0.04670350465521156,
          0.043221557792748465,
          0.13185981379153733,
          0.08212852925592308,
          0.03875558246915449,
          0.04980697903262432,
          0.0255090454923927,
          0.036560442055862535,
          0.03512224661267125,
          0.060858375596094166,
          0.03542502460071152,
          0.036560442055862535,
          0.03875558246915449,
          0.043221557792748465,
          0.03875558246915449,
          0.036257664067822264,
          0.030277798804026944,
          0.008856256150177882,
          0.11884036030580575,
          0.03209446673226856,
          0.05926879115888274,
          0.04208614033759746,
          0.03474377412762092,
          0.04988267352963439,
          0.0364090530618424,
          0.04155627885852698,
          0.04768753311634243,
          0.14404662781015817,
          0.03875558246915449,
          0.03209446673226856,
          0.48262811293618946,
          0.03875558246915449,
          0.2559230943910377,
          0.043221557792748465,
          0.06509726742865793,
          0.03875558246915449,
          0.0510180909847854,
          0.0364090530618424,
          0.06320490500340624,
          0.16524108697297704,
          0.04140488986450684,
          0.02119445916281886,
          0.03209446673226856,
          0.040950722882446444,
          0.02815835288774506,
          0.17561123306335627,
          0.040950722882446444,
          0.043221557792748465,
          0.04049655590038603,
          0.19862236015441675,
          0.03875558246915449,
          0.04087502838543638,
          0.0364090530618424,
          0.02293543259405041,
          0.2939217318900915,
          0.05926879115888274,
          0.0510180909847854,
          0.05419725985920823,
          0.043221557792748465,
          0.06517296192566799,
          0.04768753311634243,
          0.029823631821966543,
          0.15888274922413137,
          0.05631670577549012,
          0.13223828627658768,
          0.04155627885852698,
          0.05207781394292634,
          0.02096737567178866,
          0.04042086140337597,
          0.0364090530618424,
          0.1155098024373628,
          0.0686549087881311,
          0.03875558246915449,
          0.05434864885322836,
          0.04208614033759746,
          0.10884868670047687,
          0.047990311104382705,
          0.038679887972144424,
          0.04768753311634243,
          0.04087502838543638,
          0.03875558246915449,
          0.03353266217545984,
          0.040950722882446444,
          0.04541669820604042,
          0.14873968662478235,
          0.034289607145560515,
          0.18560290666868517,
          0.03875558246915449,
          0.06895768677617137,
          0.043221557792748465,
          0.043221557792748465,
          0.018015290288396033,
          0.027628491408674585,
          0.04042086140337597,
          0.19900083263946708,
          0.06547573991370827,
          0.09219589735826204,
          0.2656876845053364,
          0.0364090530618424,
          0.15638483082279914,
          0.03353266217545984,
          0.03209446673226856,
          0.05654378926652032,
          0.05419725985920823,
          0.037317387025963204,
          0.16561955945802737,
          0.13185981379153733,
          0.06532435091968813,
          0.022859738097040342,
          0.19900083263946708,
          0.09885701309514798,
          0.030883354780107484,
          0.04307016879872833,
          0.034289607145560515,
          0.05207781394292634,
          0.05207781394292634,
          0.04768753311634243,
          0.04670350465521156,
          0.14873968662478235,
          0.03406252365453031,
          0.19900083263946708,
          0.036257664067822264,
          0.03890697146317462,
          0.04208614033759746,
          0.07380213458481567,
          0.11664521989251381,
          0.04155627885852698,
          0.043221557792748465,
          0.057906290212701536,
          0.038679887972144424,
          0.03542502460071152,
          0.04140488986450684,
          0.07032018772235259,
          0.08212852925592308,
          0.04768753311634243,
          0.020134736204677917,
          0.04768753311634243,
          0.03875558246915449,
          0.09885701309514798,
          0.17061539626069183,
          0.13201120278555745,
          0.027628491408674585,
          0.04465975323593974,
          0.040950722882446444,
          0.043221557792748465,
          0.053213231398077356,
          0.04208614033759746,
          0.19900083263946708,
          0.05434864885322836,
          0.030883354780107484,
          0.05071531299674513,
          0.07137991068049351,
          0.03353266217545984,
          0.3057300734236621,
          0.03875558246915449
         ],
         "xaxis": "x2",
         "y": [
          1,
          1,
          1,
          1,
          1,
          1,
          1,
          1,
          1,
          1,
          1,
          1,
          1,
          1,
          1,
          1,
          1,
          1,
          1,
          1,
          1,
          1,
          1,
          1,
          1,
          1,
          1,
          1,
          1,
          1,
          1,
          1,
          1,
          1,
          1,
          1,
          1,
          1,
          1,
          1,
          1,
          1,
          1,
          1,
          1,
          1,
          1,
          1,
          1,
          1,
          1,
          1,
          1,
          1,
          1,
          1,
          1,
          1,
          1,
          1,
          1,
          1,
          1,
          1,
          1,
          1,
          1,
          1,
          1,
          1,
          1,
          1,
          1,
          1,
          1,
          1,
          1,
          1,
          1,
          1,
          1,
          1,
          1,
          1,
          1,
          1,
          1,
          1,
          1,
          1,
          1,
          1,
          1,
          1,
          1,
          1,
          1,
          1,
          1,
          1,
          1,
          1,
          1,
          1,
          1,
          1,
          1,
          1,
          1,
          1,
          1,
          1,
          1,
          1,
          1,
          1,
          1,
          1,
          1,
          1,
          1,
          1,
          1,
          1,
          1,
          1,
          1,
          1,
          1,
          1,
          1,
          1,
          1,
          1,
          1,
          1,
          1,
          1,
          1,
          1,
          1,
          1,
          1,
          1,
          1,
          1,
          1,
          1,
          1,
          1,
          1,
          1,
          1,
          1,
          1,
          1,
          1,
          1,
          1,
          1,
          1,
          1,
          1,
          1,
          1,
          1,
          1,
          1,
          1,
          1,
          1,
          1,
          1,
          1,
          1,
          1,
          1,
          1,
          1,
          1,
          1,
          1,
          1,
          1,
          1,
          1,
          1,
          1,
          1,
          1,
          1,
          1,
          1,
          1,
          1,
          1,
          1,
          1,
          1,
          1,
          1,
          1,
          1,
          1,
          1,
          1,
          1,
          1,
          1,
          1,
          1,
          1,
          1,
          1,
          1,
          1,
          1,
          1,
          1,
          1,
          1,
          1,
          1,
          1,
          1,
          1,
          1,
          1,
          1,
          1,
          1,
          1,
          1,
          1,
          1,
          1,
          1,
          1,
          1,
          1,
          1,
          1,
          1,
          1,
          1,
          1,
          1,
          1,
          1,
          1,
          1,
          1,
          1,
          1,
          1,
          1,
          1,
          1,
          1,
          1,
          1,
          1,
          1,
          1,
          1,
          1,
          1,
          1,
          1,
          1,
          1,
          1,
          1,
          1,
          1,
          1,
          1,
          1,
          1,
          1,
          1,
          1,
          1,
          1,
          1,
          1,
          1,
          1,
          1,
          1,
          1,
          1,
          1,
          1,
          1,
          1,
          1,
          1,
          1,
          1,
          1,
          1,
          1,
          1,
          1,
          1,
          1,
          1,
          1,
          1,
          1,
          1
         ],
         "yaxis": "y2"
        }
       ],
       "layout": {
        "height": 600,
        "showlegend": false,
        "template": {
         "data": {
          "bar": [
           {
            "error_x": {
             "color": "#2a3f5f"
            },
            "error_y": {
             "color": "#2a3f5f"
            },
            "marker": {
             "line": {
              "color": "white",
              "width": 0.5
             },
             "pattern": {
              "fillmode": "overlay",
              "size": 10,
              "solidity": 0.2
             }
            },
            "type": "bar"
           }
          ],
          "barpolar": [
           {
            "marker": {
             "line": {
              "color": "white",
              "width": 0.5
             },
             "pattern": {
              "fillmode": "overlay",
              "size": 10,
              "solidity": 0.2
             }
            },
            "type": "barpolar"
           }
          ],
          "carpet": [
           {
            "aaxis": {
             "endlinecolor": "#2a3f5f",
             "gridcolor": "#C8D4E3",
             "linecolor": "#C8D4E3",
             "minorgridcolor": "#C8D4E3",
             "startlinecolor": "#2a3f5f"
            },
            "baxis": {
             "endlinecolor": "#2a3f5f",
             "gridcolor": "#C8D4E3",
             "linecolor": "#C8D4E3",
             "minorgridcolor": "#C8D4E3",
             "startlinecolor": "#2a3f5f"
            },
            "type": "carpet"
           }
          ],
          "choropleth": [
           {
            "colorbar": {
             "outlinewidth": 0,
             "ticks": ""
            },
            "type": "choropleth"
           }
          ],
          "contour": [
           {
            "colorbar": {
             "outlinewidth": 0,
             "ticks": ""
            },
            "colorscale": [
             [
              0,
              "#0d0887"
             ],
             [
              0.1111111111111111,
              "#46039f"
             ],
             [
              0.2222222222222222,
              "#7201a8"
             ],
             [
              0.3333333333333333,
              "#9c179e"
             ],
             [
              0.4444444444444444,
              "#bd3786"
             ],
             [
              0.5555555555555556,
              "#d8576b"
             ],
             [
              0.6666666666666666,
              "#ed7953"
             ],
             [
              0.7777777777777778,
              "#fb9f3a"
             ],
             [
              0.8888888888888888,
              "#fdca26"
             ],
             [
              1,
              "#f0f921"
             ]
            ],
            "type": "contour"
           }
          ],
          "contourcarpet": [
           {
            "colorbar": {
             "outlinewidth": 0,
             "ticks": ""
            },
            "type": "contourcarpet"
           }
          ],
          "heatmap": [
           {
            "colorbar": {
             "outlinewidth": 0,
             "ticks": ""
            },
            "colorscale": [
             [
              0,
              "#0d0887"
             ],
             [
              0.1111111111111111,
              "#46039f"
             ],
             [
              0.2222222222222222,
              "#7201a8"
             ],
             [
              0.3333333333333333,
              "#9c179e"
             ],
             [
              0.4444444444444444,
              "#bd3786"
             ],
             [
              0.5555555555555556,
              "#d8576b"
             ],
             [
              0.6666666666666666,
              "#ed7953"
             ],
             [
              0.7777777777777778,
              "#fb9f3a"
             ],
             [
              0.8888888888888888,
              "#fdca26"
             ],
             [
              1,
              "#f0f921"
             ]
            ],
            "type": "heatmap"
           }
          ],
          "heatmapgl": [
           {
            "colorbar": {
             "outlinewidth": 0,
             "ticks": ""
            },
            "colorscale": [
             [
              0,
              "#0d0887"
             ],
             [
              0.1111111111111111,
              "#46039f"
             ],
             [
              0.2222222222222222,
              "#7201a8"
             ],
             [
              0.3333333333333333,
              "#9c179e"
             ],
             [
              0.4444444444444444,
              "#bd3786"
             ],
             [
              0.5555555555555556,
              "#d8576b"
             ],
             [
              0.6666666666666666,
              "#ed7953"
             ],
             [
              0.7777777777777778,
              "#fb9f3a"
             ],
             [
              0.8888888888888888,
              "#fdca26"
             ],
             [
              1,
              "#f0f921"
             ]
            ],
            "type": "heatmapgl"
           }
          ],
          "histogram": [
           {
            "marker": {
             "pattern": {
              "fillmode": "overlay",
              "size": 10,
              "solidity": 0.2
             }
            },
            "type": "histogram"
           }
          ],
          "histogram2d": [
           {
            "colorbar": {
             "outlinewidth": 0,
             "ticks": ""
            },
            "colorscale": [
             [
              0,
              "#0d0887"
             ],
             [
              0.1111111111111111,
              "#46039f"
             ],
             [
              0.2222222222222222,
              "#7201a8"
             ],
             [
              0.3333333333333333,
              "#9c179e"
             ],
             [
              0.4444444444444444,
              "#bd3786"
             ],
             [
              0.5555555555555556,
              "#d8576b"
             ],
             [
              0.6666666666666666,
              "#ed7953"
             ],
             [
              0.7777777777777778,
              "#fb9f3a"
             ],
             [
              0.8888888888888888,
              "#fdca26"
             ],
             [
              1,
              "#f0f921"
             ]
            ],
            "type": "histogram2d"
           }
          ],
          "histogram2dcontour": [
           {
            "colorbar": {
             "outlinewidth": 0,
             "ticks": ""
            },
            "colorscale": [
             [
              0,
              "#0d0887"
             ],
             [
              0.1111111111111111,
              "#46039f"
             ],
             [
              0.2222222222222222,
              "#7201a8"
             ],
             [
              0.3333333333333333,
              "#9c179e"
             ],
             [
              0.4444444444444444,
              "#bd3786"
             ],
             [
              0.5555555555555556,
              "#d8576b"
             ],
             [
              0.6666666666666666,
              "#ed7953"
             ],
             [
              0.7777777777777778,
              "#fb9f3a"
             ],
             [
              0.8888888888888888,
              "#fdca26"
             ],
             [
              1,
              "#f0f921"
             ]
            ],
            "type": "histogram2dcontour"
           }
          ],
          "mesh3d": [
           {
            "colorbar": {
             "outlinewidth": 0,
             "ticks": ""
            },
            "type": "mesh3d"
           }
          ],
          "parcoords": [
           {
            "line": {
             "colorbar": {
              "outlinewidth": 0,
              "ticks": ""
             }
            },
            "type": "parcoords"
           }
          ],
          "pie": [
           {
            "automargin": true,
            "type": "pie"
           }
          ],
          "scatter": [
           {
            "fillpattern": {
             "fillmode": "overlay",
             "size": 10,
             "solidity": 0.2
            },
            "type": "scatter"
           }
          ],
          "scatter3d": [
           {
            "line": {
             "colorbar": {
              "outlinewidth": 0,
              "ticks": ""
             }
            },
            "marker": {
             "colorbar": {
              "outlinewidth": 0,
              "ticks": ""
             }
            },
            "type": "scatter3d"
           }
          ],
          "scattercarpet": [
           {
            "marker": {
             "colorbar": {
              "outlinewidth": 0,
              "ticks": ""
             }
            },
            "type": "scattercarpet"
           }
          ],
          "scattergeo": [
           {
            "marker": {
             "colorbar": {
              "outlinewidth": 0,
              "ticks": ""
             }
            },
            "type": "scattergeo"
           }
          ],
          "scattergl": [
           {
            "marker": {
             "colorbar": {
              "outlinewidth": 0,
              "ticks": ""
             }
            },
            "type": "scattergl"
           }
          ],
          "scattermapbox": [
           {
            "marker": {
             "colorbar": {
              "outlinewidth": 0,
              "ticks": ""
             }
            },
            "type": "scattermapbox"
           }
          ],
          "scatterpolar": [
           {
            "marker": {
             "colorbar": {
              "outlinewidth": 0,
              "ticks": ""
             }
            },
            "type": "scatterpolar"
           }
          ],
          "scatterpolargl": [
           {
            "marker": {
             "colorbar": {
              "outlinewidth": 0,
              "ticks": ""
             }
            },
            "type": "scatterpolargl"
           }
          ],
          "scatterternary": [
           {
            "marker": {
             "colorbar": {
              "outlinewidth": 0,
              "ticks": ""
             }
            },
            "type": "scatterternary"
           }
          ],
          "surface": [
           {
            "colorbar": {
             "outlinewidth": 0,
             "ticks": ""
            },
            "colorscale": [
             [
              0,
              "#0d0887"
             ],
             [
              0.1111111111111111,
              "#46039f"
             ],
             [
              0.2222222222222222,
              "#7201a8"
             ],
             [
              0.3333333333333333,
              "#9c179e"
             ],
             [
              0.4444444444444444,
              "#bd3786"
             ],
             [
              0.5555555555555556,
              "#d8576b"
             ],
             [
              0.6666666666666666,
              "#ed7953"
             ],
             [
              0.7777777777777778,
              "#fb9f3a"
             ],
             [
              0.8888888888888888,
              "#fdca26"
             ],
             [
              1,
              "#f0f921"
             ]
            ],
            "type": "surface"
           }
          ],
          "table": [
           {
            "cells": {
             "fill": {
              "color": "#EBF0F8"
             },
             "line": {
              "color": "white"
             }
            },
            "header": {
             "fill": {
              "color": "#C8D4E3"
             },
             "line": {
              "color": "white"
             }
            },
            "type": "table"
           }
          ]
         },
         "layout": {
          "annotationdefaults": {
           "arrowcolor": "#2a3f5f",
           "arrowhead": 0,
           "arrowwidth": 1
          },
          "autotypenumbers": "strict",
          "coloraxis": {
           "colorbar": {
            "outlinewidth": 0,
            "ticks": ""
           }
          },
          "colorscale": {
           "diverging": [
            [
             0,
             "#8e0152"
            ],
            [
             0.1,
             "#c51b7d"
            ],
            [
             0.2,
             "#de77ae"
            ],
            [
             0.3,
             "#f1b6da"
            ],
            [
             0.4,
             "#fde0ef"
            ],
            [
             0.5,
             "#f7f7f7"
            ],
            [
             0.6,
             "#e6f5d0"
            ],
            [
             0.7,
             "#b8e186"
            ],
            [
             0.8,
             "#7fbc41"
            ],
            [
             0.9,
             "#4d9221"
            ],
            [
             1,
             "#276419"
            ]
           ],
           "sequential": [
            [
             0,
             "#0d0887"
            ],
            [
             0.1111111111111111,
             "#46039f"
            ],
            [
             0.2222222222222222,
             "#7201a8"
            ],
            [
             0.3333333333333333,
             "#9c179e"
            ],
            [
             0.4444444444444444,
             "#bd3786"
            ],
            [
             0.5555555555555556,
             "#d8576b"
            ],
            [
             0.6666666666666666,
             "#ed7953"
            ],
            [
             0.7777777777777778,
             "#fb9f3a"
            ],
            [
             0.8888888888888888,
             "#fdca26"
            ],
            [
             1,
             "#f0f921"
            ]
           ],
           "sequentialminus": [
            [
             0,
             "#0d0887"
            ],
            [
             0.1111111111111111,
             "#46039f"
            ],
            [
             0.2222222222222222,
             "#7201a8"
            ],
            [
             0.3333333333333333,
             "#9c179e"
            ],
            [
             0.4444444444444444,
             "#bd3786"
            ],
            [
             0.5555555555555556,
             "#d8576b"
            ],
            [
             0.6666666666666666,
             "#ed7953"
            ],
            [
             0.7777777777777778,
             "#fb9f3a"
            ],
            [
             0.8888888888888888,
             "#fdca26"
            ],
            [
             1,
             "#f0f921"
            ]
           ]
          },
          "colorway": [
           "#636efa",
           "#EF553B",
           "#00cc96",
           "#ab63fa",
           "#FFA15A",
           "#19d3f3",
           "#FF6692",
           "#B6E880",
           "#FF97FF",
           "#FECB52"
          ],
          "font": {
           "color": "#2a3f5f"
          },
          "geo": {
           "bgcolor": "white",
           "lakecolor": "white",
           "landcolor": "white",
           "showlakes": true,
           "showland": true,
           "subunitcolor": "#C8D4E3"
          },
          "hoverlabel": {
           "align": "left"
          },
          "hovermode": "closest",
          "mapbox": {
           "style": "light"
          },
          "paper_bgcolor": "white",
          "plot_bgcolor": "white",
          "polar": {
           "angularaxis": {
            "gridcolor": "#EBF0F8",
            "linecolor": "#EBF0F8",
            "ticks": ""
           },
           "bgcolor": "white",
           "radialaxis": {
            "gridcolor": "#EBF0F8",
            "linecolor": "#EBF0F8",
            "ticks": ""
           }
          },
          "scene": {
           "xaxis": {
            "backgroundcolor": "white",
            "gridcolor": "#DFE8F3",
            "gridwidth": 2,
            "linecolor": "#EBF0F8",
            "showbackground": true,
            "ticks": "",
            "zerolinecolor": "#EBF0F8"
           },
           "yaxis": {
            "backgroundcolor": "white",
            "gridcolor": "#DFE8F3",
            "gridwidth": 2,
            "linecolor": "#EBF0F8",
            "showbackground": true,
            "ticks": "",
            "zerolinecolor": "#EBF0F8"
           },
           "zaxis": {
            "backgroundcolor": "white",
            "gridcolor": "#DFE8F3",
            "gridwidth": 2,
            "linecolor": "#EBF0F8",
            "showbackground": true,
            "ticks": "",
            "zerolinecolor": "#EBF0F8"
           }
          },
          "shapedefaults": {
           "line": {
            "color": "#2a3f5f"
           }
          },
          "ternary": {
           "aaxis": {
            "gridcolor": "#DFE8F3",
            "linecolor": "#A2B1C6",
            "ticks": ""
           },
           "baxis": {
            "gridcolor": "#DFE8F3",
            "linecolor": "#A2B1C6",
            "ticks": ""
           },
           "bgcolor": "white",
           "caxis": {
            "gridcolor": "#DFE8F3",
            "linecolor": "#A2B1C6",
            "ticks": ""
           }
          },
          "title": {
           "x": 0.05
          },
          "xaxis": {
           "automargin": true,
           "gridcolor": "#EBF0F8",
           "linecolor": "#EBF0F8",
           "ticks": "",
           "title": {
            "standoff": 15
           },
           "zerolinecolor": "#EBF0F8",
           "zerolinewidth": 2
          },
          "yaxis": {
           "automargin": true,
           "gridcolor": "#EBF0F8",
           "linecolor": "#EBF0F8",
           "ticks": "",
           "title": {
            "standoff": 15
           },
           "zerolinecolor": "#EBF0F8",
           "zerolinewidth": 2
          }
         }
        },
        "title": {
         "text": "PDP for feature <b>Price per 100g</b> <br><sup>Number of unique grid points: 10</sup>",
         "x": 0,
         "xref": "paper"
        },
        "width": 1200,
        "xaxis": {
         "anchor": "y",
         "domain": [
          0,
          1
         ]
        },
        "xaxis2": {
         "anchor": "y2",
         "domain": [
          0,
          1
         ],
         "showgrid": false,
         "showticklabels": false,
         "title": {
          "text": "<b>Price per 100g</b> (value)"
         }
        },
        "yaxis": {
         "anchor": "x",
         "domain": [
          0.11266666666666669,
          0.99
         ],
         "title": {
          "text": "raw"
         }
        },
        "yaxis2": {
         "anchor": "x2",
         "domain": [
          0,
          0.06266666666666665
         ],
         "showgrid": false,
         "showticklabels": false
        }
       }
      }
     },
     "metadata": {},
     "output_type": "display_data"
    }
   ],
   "source": [
    "# Plot PDP\n",
    "# Create the pdp data to be plotted\n",
    "pdp_goals = pdp.PDPIsolate(model=rf_model, df=val_x, model_features=feature_names, feature='100g_USD', feature_name='Price per 100g')\n",
    "\n",
    "# plot the PDP for feature 'Goal Scored'\n",
    "fig, axes = pdp_goals.plot(\n",
    "    center=False,\n",
    "    plot_lines=True,\n",
    "    frac_to_plot=100,\n",
    "    cluster=False,\n",
    "    n_cluster_centers=None,\n",
    "    cluster_method='accurate',\n",
    "    plot_pts_dist=True,\n",
    "    to_bins=False,\n",
    "    show_percentile=False,\n",
    "    which_classes=None,\n",
    "    figsize=None,\n",
    "    dpi=300,\n",
    "    ncols=2,\n",
    "    plot_params={\"pdp_hl\": True},\n",
    "    engine='plotly',\n",
    "    template='plotly_white')\n",
    "\n",
    "fig.show()"
   ]
  },
  {
   "cell_type": "code",
   "execution_count": 77,
   "metadata": {},
   "outputs": [
    {
     "name": "stdout",
     "output_type": "stream",
     "text": [
      "obtain pred_func from the provided model.\n"
     ]
    },
    {
     "name": "stderr",
     "output_type": "stream",
     "text": [
      "100%|██████████| 6/6 [00:00<00:00, 226.21it/s]\n"
     ]
    },
    {
     "name": "stdout",
     "output_type": "stream",
     "text": [
      "obtain pred_func from the provided model.\n"
     ]
    },
    {
     "name": "stderr",
     "output_type": "stream",
     "text": [
      "100%|██████████| 10/10 [00:00<00:00, 246.15it/s]\n"
     ]
    },
    {
     "name": "stdout",
     "output_type": "stream",
     "text": [
      "obtain pred_func from the provided model.\n"
     ]
    },
    {
     "name": "stderr",
     "output_type": "stream",
     "text": [
      "100%|██████████| 60/60 [00:00<00:00, 304.74it/s]\n"
     ]
    },
    {
     "data": {
      "application/vnd.plotly.v1+json": {
       "config": {
        "plotlyServerURL": "https://plot.ly"
       },
       "data": [
        {
         "colorbar": {
          "len": 0.8399999999999999,
          "x": 1.0099999999999998,
          "xanchor": "left",
          "y": 2.220446049250313e-16,
          "yanchor": "bottom"
         },
         "colorscale": [
          [
           0,
           "rgb(247,251,255)"
          ],
          [
           0.125,
           "rgb(222,235,247)"
          ],
          [
           0.25,
           "rgb(198,219,239)"
          ],
          [
           0.375,
           "rgb(158,202,225)"
          ],
          [
           0.5,
           "rgb(107,174,214)"
          ],
          [
           0.625,
           "rgb(66,146,198)"
          ],
          [
           0.75,
           "rgb(33,113,181)"
          ],
          [
           0.875,
           "rgb(8,81,156)"
          ],
          [
           1,
           "rgb(8,48,107)"
          ]
         ],
         "name": "pdp interact",
         "opacity": 0.8,
         "showscale": true,
         "text": [
          [
           "0.000",
           "0.090",
           "0.480",
           "0.540",
           "0.060",
           "0.190"
          ],
          [
           "0.000",
           "0.550",
           "0.477",
           "0.558",
           "0.516",
           "0.373"
          ],
          [
           "0.000",
           "0.240",
           "0.508",
           "0.860",
           "1.000",
           "0.390"
          ],
          [
           "0.190",
           "0.033",
           "0.642",
           "0.937",
           "0.967",
           "0.720"
          ],
          [
           "0.196",
           "0.055",
           "0.342",
           "0.311",
           "0.509",
           "0.634"
          ],
          [
           "0.290",
           "0.131",
           "0.016",
           "0.283",
           "0.657",
           "0.140"
          ],
          [
           "0.320",
           "0.352",
           "0.020",
           "0.337",
           "0.365",
           "0.160"
          ],
          [
           "0.050",
           "0.000",
           "0.070",
           "0.010",
           "0.000",
           "0.470"
          ],
          [
           "0.147",
           "0.060",
           "0.207",
           "0.178",
           "0.049",
           "0.430"
          ],
          [
           "0.260",
           "0.220",
           "0.830",
           "0.000",
           "0.000",
           "0.030"
          ]
         ],
         "texttemplate": "%{text}",
         "type": "heatmap",
         "x": [
          0,
          1,
          2,
          3,
          4,
          5
         ],
         "xaxis": "x4",
         "y": [
          0,
          1,
          2,
          3,
          4,
          5,
          6,
          7,
          8,
          9
         ],
         "yaxis": "y4",
         "z": [
          [
           0,
           0.08999999999999997,
           0.48000000000000004,
           0.54,
           0.060000000000000005,
           0.18999999999999995
          ],
          [
           0,
           0.5499999999999999,
           0.4772120657120659,
           0.5579761904761904,
           0.5164444444444445,
           0.37333333333333324
          ],
          [
           0,
           0.24035064935064915,
           0.5082094572094571,
           0.8600000000000002,
           1,
           0.3900000000000001
          ],
          [
           0.18999999999999995,
           0.03296031746031746,
           0.6415384615384614,
           0.9369230769230767,
           0.9671666666666666,
           0.7199999999999998
          ],
          [
           0.1958333333333333,
           0.055,
           0.3416410533910535,
           0.3114999999999999,
           0.5092499999999999,
           0.63375
          ],
          [
           0.29,
           0.13083333333333333,
           0.016430242272347535,
           0.2826666666666666,
           0.6570357142857142,
           0.14
          ],
          [
           0.32,
           0.3523333333333332,
           0.02,
           0.33749999999999997,
           0.36500000000000005,
           0.16
          ],
          [
           0.049999999999999996,
           0,
           0.07,
           0.01,
           0,
           0.46999999999999975
          ],
          [
           0.1466666666666667,
           0.060000000000000005,
           0.20666666666666658,
           0.17783333333333332,
           0.049166666666666664,
           0.4300000000000001
          ],
          [
           0.25999999999999995,
           0.22,
           0.83,
           0,
           0,
           0.030000000000000002
          ]
         ],
         "zmax": 1,
         "zmin": 0
        },
        {
         "colorscale": [
          [
           0,
           "rgb(247,251,255)"
          ],
          [
           0.125,
           "rgb(222,235,247)"
          ],
          [
           0.25,
           "rgb(198,219,239)"
          ],
          [
           0.375,
           "rgb(158,202,225)"
          ],
          [
           0.5,
           "rgb(107,174,214)"
          ],
          [
           0.625,
           "rgb(66,146,198)"
          ],
          [
           0.75,
           "rgb(33,113,181)"
          ],
          [
           0.875,
           "rgb(8,81,156)"
          ],
          [
           1,
           "rgb(8,48,107)"
          ]
         ],
         "hovertemplate": "%{text}",
         "name": "pdp isolate",
         "opacity": 0.8,
         "showscale": false,
         "text": [
          [
           "0.159",
           "0.279",
           "0.357",
           "0.419",
           "0.522",
           "0.390"
          ]
         ],
         "texttemplate": "%{text}",
         "type": "heatmap",
         "x": [
          0,
          1,
          2,
          3,
          4,
          5
         ],
         "xaxis": "x2",
         "y": [
          0
         ],
         "yaxis": "y2",
         "z": [
          [
           0.15896592643467644,
           0.2791659545938392,
           0.3566194645461566,
           0.4194366015403709,
           0.5223309400713247,
           0.38967289770414776
          ]
         ],
         "zmax": 1,
         "zmin": 0
        },
        {
         "colorscale": [
          [
           0,
           "rgb(247,251,255)"
          ],
          [
           0.125,
           "rgb(222,235,247)"
          ],
          [
           0.25,
           "rgb(198,219,239)"
          ],
          [
           0.375,
           "rgb(158,202,225)"
          ],
          [
           0.5,
           "rgb(107,174,214)"
          ],
          [
           0.625,
           "rgb(66,146,198)"
          ],
          [
           0.75,
           "rgb(33,113,181)"
          ],
          [
           0.875,
           "rgb(8,81,156)"
          ],
          [
           1,
           "rgb(8,48,107)"
          ]
         ],
         "hovertemplate": "%{text}",
         "name": "pdp isolate",
         "opacity": 0.8,
         "showscale": false,
         "text": [
          [
           "0.343"
          ],
          [
           "0.490"
          ],
          [
           "0.609"
          ],
          [
           "0.693"
          ],
          [
           "0.330"
          ],
          [
           "0.247"
          ],
          [
           "0.249"
          ],
          [
           "0.042"
          ],
          [
           "0.136"
          ],
          [
           "0.272"
          ]
         ],
         "texttemplate": "%{text}",
         "type": "heatmap",
         "x": [
          0
         ],
         "xaxis": "x3",
         "y": [
          0,
          1,
          2,
          3,
          4,
          5,
          6,
          7,
          8,
          9
         ],
         "yaxis": "y3",
         "z": [
          [
           0.34275641025641024
          ],
          [
           0.48974076368787917
          ],
          [
           0.6088720499585883
          ],
          [
           0.6929228518988134
          ],
          [
           0.33031169178044173
          ],
          [
           0.24746833362787304
          ],
          [
           0.24872329059829057
          ],
          [
           0.041698717948717955
          ],
          [
           0.135704594017094
          ],
          [
           0.2718589743589744
          ]
         ],
         "zmax": 1,
         "zmin": 0
        }
       ],
       "layout": {
        "height": 600,
        "showlegend": false,
        "template": {
         "data": {
          "bar": [
           {
            "error_x": {
             "color": "#2a3f5f"
            },
            "error_y": {
             "color": "#2a3f5f"
            },
            "marker": {
             "line": {
              "color": "white",
              "width": 0.5
             },
             "pattern": {
              "fillmode": "overlay",
              "size": 10,
              "solidity": 0.2
             }
            },
            "type": "bar"
           }
          ],
          "barpolar": [
           {
            "marker": {
             "line": {
              "color": "white",
              "width": 0.5
             },
             "pattern": {
              "fillmode": "overlay",
              "size": 10,
              "solidity": 0.2
             }
            },
            "type": "barpolar"
           }
          ],
          "carpet": [
           {
            "aaxis": {
             "endlinecolor": "#2a3f5f",
             "gridcolor": "#C8D4E3",
             "linecolor": "#C8D4E3",
             "minorgridcolor": "#C8D4E3",
             "startlinecolor": "#2a3f5f"
            },
            "baxis": {
             "endlinecolor": "#2a3f5f",
             "gridcolor": "#C8D4E3",
             "linecolor": "#C8D4E3",
             "minorgridcolor": "#C8D4E3",
             "startlinecolor": "#2a3f5f"
            },
            "type": "carpet"
           }
          ],
          "choropleth": [
           {
            "colorbar": {
             "outlinewidth": 0,
             "ticks": ""
            },
            "type": "choropleth"
           }
          ],
          "contour": [
           {
            "colorbar": {
             "outlinewidth": 0,
             "ticks": ""
            },
            "colorscale": [
             [
              0,
              "#0d0887"
             ],
             [
              0.1111111111111111,
              "#46039f"
             ],
             [
              0.2222222222222222,
              "#7201a8"
             ],
             [
              0.3333333333333333,
              "#9c179e"
             ],
             [
              0.4444444444444444,
              "#bd3786"
             ],
             [
              0.5555555555555556,
              "#d8576b"
             ],
             [
              0.6666666666666666,
              "#ed7953"
             ],
             [
              0.7777777777777778,
              "#fb9f3a"
             ],
             [
              0.8888888888888888,
              "#fdca26"
             ],
             [
              1,
              "#f0f921"
             ]
            ],
            "type": "contour"
           }
          ],
          "contourcarpet": [
           {
            "colorbar": {
             "outlinewidth": 0,
             "ticks": ""
            },
            "type": "contourcarpet"
           }
          ],
          "heatmap": [
           {
            "colorbar": {
             "outlinewidth": 0,
             "ticks": ""
            },
            "colorscale": [
             [
              0,
              "#0d0887"
             ],
             [
              0.1111111111111111,
              "#46039f"
             ],
             [
              0.2222222222222222,
              "#7201a8"
             ],
             [
              0.3333333333333333,
              "#9c179e"
             ],
             [
              0.4444444444444444,
              "#bd3786"
             ],
             [
              0.5555555555555556,
              "#d8576b"
             ],
             [
              0.6666666666666666,
              "#ed7953"
             ],
             [
              0.7777777777777778,
              "#fb9f3a"
             ],
             [
              0.8888888888888888,
              "#fdca26"
             ],
             [
              1,
              "#f0f921"
             ]
            ],
            "type": "heatmap"
           }
          ],
          "heatmapgl": [
           {
            "colorbar": {
             "outlinewidth": 0,
             "ticks": ""
            },
            "colorscale": [
             [
              0,
              "#0d0887"
             ],
             [
              0.1111111111111111,
              "#46039f"
             ],
             [
              0.2222222222222222,
              "#7201a8"
             ],
             [
              0.3333333333333333,
              "#9c179e"
             ],
             [
              0.4444444444444444,
              "#bd3786"
             ],
             [
              0.5555555555555556,
              "#d8576b"
             ],
             [
              0.6666666666666666,
              "#ed7953"
             ],
             [
              0.7777777777777778,
              "#fb9f3a"
             ],
             [
              0.8888888888888888,
              "#fdca26"
             ],
             [
              1,
              "#f0f921"
             ]
            ],
            "type": "heatmapgl"
           }
          ],
          "histogram": [
           {
            "marker": {
             "pattern": {
              "fillmode": "overlay",
              "size": 10,
              "solidity": 0.2
             }
            },
            "type": "histogram"
           }
          ],
          "histogram2d": [
           {
            "colorbar": {
             "outlinewidth": 0,
             "ticks": ""
            },
            "colorscale": [
             [
              0,
              "#0d0887"
             ],
             [
              0.1111111111111111,
              "#46039f"
             ],
             [
              0.2222222222222222,
              "#7201a8"
             ],
             [
              0.3333333333333333,
              "#9c179e"
             ],
             [
              0.4444444444444444,
              "#bd3786"
             ],
             [
              0.5555555555555556,
              "#d8576b"
             ],
             [
              0.6666666666666666,
              "#ed7953"
             ],
             [
              0.7777777777777778,
              "#fb9f3a"
             ],
             [
              0.8888888888888888,
              "#fdca26"
             ],
             [
              1,
              "#f0f921"
             ]
            ],
            "type": "histogram2d"
           }
          ],
          "histogram2dcontour": [
           {
            "colorbar": {
             "outlinewidth": 0,
             "ticks": ""
            },
            "colorscale": [
             [
              0,
              "#0d0887"
             ],
             [
              0.1111111111111111,
              "#46039f"
             ],
             [
              0.2222222222222222,
              "#7201a8"
             ],
             [
              0.3333333333333333,
              "#9c179e"
             ],
             [
              0.4444444444444444,
              "#bd3786"
             ],
             [
              0.5555555555555556,
              "#d8576b"
             ],
             [
              0.6666666666666666,
              "#ed7953"
             ],
             [
              0.7777777777777778,
              "#fb9f3a"
             ],
             [
              0.8888888888888888,
              "#fdca26"
             ],
             [
              1,
              "#f0f921"
             ]
            ],
            "type": "histogram2dcontour"
           }
          ],
          "mesh3d": [
           {
            "colorbar": {
             "outlinewidth": 0,
             "ticks": ""
            },
            "type": "mesh3d"
           }
          ],
          "parcoords": [
           {
            "line": {
             "colorbar": {
              "outlinewidth": 0,
              "ticks": ""
             }
            },
            "type": "parcoords"
           }
          ],
          "pie": [
           {
            "automargin": true,
            "type": "pie"
           }
          ],
          "scatter": [
           {
            "fillpattern": {
             "fillmode": "overlay",
             "size": 10,
             "solidity": 0.2
            },
            "type": "scatter"
           }
          ],
          "scatter3d": [
           {
            "line": {
             "colorbar": {
              "outlinewidth": 0,
              "ticks": ""
             }
            },
            "marker": {
             "colorbar": {
              "outlinewidth": 0,
              "ticks": ""
             }
            },
            "type": "scatter3d"
           }
          ],
          "scattercarpet": [
           {
            "marker": {
             "colorbar": {
              "outlinewidth": 0,
              "ticks": ""
             }
            },
            "type": "scattercarpet"
           }
          ],
          "scattergeo": [
           {
            "marker": {
             "colorbar": {
              "outlinewidth": 0,
              "ticks": ""
             }
            },
            "type": "scattergeo"
           }
          ],
          "scattergl": [
           {
            "marker": {
             "colorbar": {
              "outlinewidth": 0,
              "ticks": ""
             }
            },
            "type": "scattergl"
           }
          ],
          "scattermapbox": [
           {
            "marker": {
             "colorbar": {
              "outlinewidth": 0,
              "ticks": ""
             }
            },
            "type": "scattermapbox"
           }
          ],
          "scatterpolar": [
           {
            "marker": {
             "colorbar": {
              "outlinewidth": 0,
              "ticks": ""
             }
            },
            "type": "scatterpolar"
           }
          ],
          "scatterpolargl": [
           {
            "marker": {
             "colorbar": {
              "outlinewidth": 0,
              "ticks": ""
             }
            },
            "type": "scatterpolargl"
           }
          ],
          "scatterternary": [
           {
            "marker": {
             "colorbar": {
              "outlinewidth": 0,
              "ticks": ""
             }
            },
            "type": "scatterternary"
           }
          ],
          "surface": [
           {
            "colorbar": {
             "outlinewidth": 0,
             "ticks": ""
            },
            "colorscale": [
             [
              0,
              "#0d0887"
             ],
             [
              0.1111111111111111,
              "#46039f"
             ],
             [
              0.2222222222222222,
              "#7201a8"
             ],
             [
              0.3333333333333333,
              "#9c179e"
             ],
             [
              0.4444444444444444,
              "#bd3786"
             ],
             [
              0.5555555555555556,
              "#d8576b"
             ],
             [
              0.6666666666666666,
              "#ed7953"
             ],
             [
              0.7777777777777778,
              "#fb9f3a"
             ],
             [
              0.8888888888888888,
              "#fdca26"
             ],
             [
              1,
              "#f0f921"
             ]
            ],
            "type": "surface"
           }
          ],
          "table": [
           {
            "cells": {
             "fill": {
              "color": "#EBF0F8"
             },
             "line": {
              "color": "white"
             }
            },
            "header": {
             "fill": {
              "color": "#C8D4E3"
             },
             "line": {
              "color": "white"
             }
            },
            "type": "table"
           }
          ]
         },
         "layout": {
          "annotationdefaults": {
           "arrowcolor": "#2a3f5f",
           "arrowhead": 0,
           "arrowwidth": 1
          },
          "autotypenumbers": "strict",
          "coloraxis": {
           "colorbar": {
            "outlinewidth": 0,
            "ticks": ""
           }
          },
          "colorscale": {
           "diverging": [
            [
             0,
             "#8e0152"
            ],
            [
             0.1,
             "#c51b7d"
            ],
            [
             0.2,
             "#de77ae"
            ],
            [
             0.3,
             "#f1b6da"
            ],
            [
             0.4,
             "#fde0ef"
            ],
            [
             0.5,
             "#f7f7f7"
            ],
            [
             0.6,
             "#e6f5d0"
            ],
            [
             0.7,
             "#b8e186"
            ],
            [
             0.8,
             "#7fbc41"
            ],
            [
             0.9,
             "#4d9221"
            ],
            [
             1,
             "#276419"
            ]
           ],
           "sequential": [
            [
             0,
             "#0d0887"
            ],
            [
             0.1111111111111111,
             "#46039f"
            ],
            [
             0.2222222222222222,
             "#7201a8"
            ],
            [
             0.3333333333333333,
             "#9c179e"
            ],
            [
             0.4444444444444444,
             "#bd3786"
            ],
            [
             0.5555555555555556,
             "#d8576b"
            ],
            [
             0.6666666666666666,
             "#ed7953"
            ],
            [
             0.7777777777777778,
             "#fb9f3a"
            ],
            [
             0.8888888888888888,
             "#fdca26"
            ],
            [
             1,
             "#f0f921"
            ]
           ],
           "sequentialminus": [
            [
             0,
             "#0d0887"
            ],
            [
             0.1111111111111111,
             "#46039f"
            ],
            [
             0.2222222222222222,
             "#7201a8"
            ],
            [
             0.3333333333333333,
             "#9c179e"
            ],
            [
             0.4444444444444444,
             "#bd3786"
            ],
            [
             0.5555555555555556,
             "#d8576b"
            ],
            [
             0.6666666666666666,
             "#ed7953"
            ],
            [
             0.7777777777777778,
             "#fb9f3a"
            ],
            [
             0.8888888888888888,
             "#fdca26"
            ],
            [
             1,
             "#f0f921"
            ]
           ]
          },
          "colorway": [
           "#636efa",
           "#EF553B",
           "#00cc96",
           "#ab63fa",
           "#FFA15A",
           "#19d3f3",
           "#FF6692",
           "#B6E880",
           "#FF97FF",
           "#FECB52"
          ],
          "font": {
           "color": "#2a3f5f"
          },
          "geo": {
           "bgcolor": "white",
           "lakecolor": "white",
           "landcolor": "white",
           "showlakes": true,
           "showland": true,
           "subunitcolor": "#C8D4E3"
          },
          "hoverlabel": {
           "align": "left"
          },
          "hovermode": "closest",
          "mapbox": {
           "style": "light"
          },
          "paper_bgcolor": "white",
          "plot_bgcolor": "white",
          "polar": {
           "angularaxis": {
            "gridcolor": "#EBF0F8",
            "linecolor": "#EBF0F8",
            "ticks": ""
           },
           "bgcolor": "white",
           "radialaxis": {
            "gridcolor": "#EBF0F8",
            "linecolor": "#EBF0F8",
            "ticks": ""
           }
          },
          "scene": {
           "xaxis": {
            "backgroundcolor": "white",
            "gridcolor": "#DFE8F3",
            "gridwidth": 2,
            "linecolor": "#EBF0F8",
            "showbackground": true,
            "ticks": "",
            "zerolinecolor": "#EBF0F8"
           },
           "yaxis": {
            "backgroundcolor": "white",
            "gridcolor": "#DFE8F3",
            "gridwidth": 2,
            "linecolor": "#EBF0F8",
            "showbackground": true,
            "ticks": "",
            "zerolinecolor": "#EBF0F8"
           },
           "zaxis": {
            "backgroundcolor": "white",
            "gridcolor": "#DFE8F3",
            "gridwidth": 2,
            "linecolor": "#EBF0F8",
            "showbackground": true,
            "ticks": "",
            "zerolinecolor": "#EBF0F8"
           }
          },
          "shapedefaults": {
           "line": {
            "color": "#2a3f5f"
           }
          },
          "ternary": {
           "aaxis": {
            "gridcolor": "#DFE8F3",
            "linecolor": "#A2B1C6",
            "ticks": ""
           },
           "baxis": {
            "gridcolor": "#DFE8F3",
            "linecolor": "#A2B1C6",
            "ticks": ""
           },
           "bgcolor": "white",
           "caxis": {
            "gridcolor": "#DFE8F3",
            "linecolor": "#A2B1C6",
            "ticks": ""
           }
          },
          "title": {
           "x": 0.05
          },
          "xaxis": {
           "automargin": true,
           "gridcolor": "#EBF0F8",
           "linecolor": "#EBF0F8",
           "ticks": "",
           "title": {
            "standoff": 15
           },
           "zerolinecolor": "#EBF0F8",
           "zerolinewidth": 2
          },
          "yaxis": {
           "automargin": true,
           "gridcolor": "#EBF0F8",
           "linecolor": "#EBF0F8",
           "ticks": "",
           "title": {
            "standoff": 15
           },
           "zerolinecolor": "#EBF0F8",
           "zerolinewidth": 2
          }
         }
        },
        "title": {
         "text": "PDP interact for features <b>Rating</b> and <b>Price per 100g</b> <br><sup>Number of unique grid points: (<b>Rating</b>: 6, <b>Price per 100g</b>: 10)</sup>",
         "x": 0,
         "xref": "paper"
        },
        "width": 1200,
        "xaxis": {
         "anchor": "y",
         "domain": [
          0,
          0.5
         ]
        },
        "xaxis2": {
         "anchor": "y2",
         "domain": [
          0.08533333333333333,
          0.9999999999999999
         ],
         "side": "top",
         "ticktext": [
          "0<br><sup><b>[0.0]</b></sup>",
          "0.62<br><sup><b>[11.11, 22.22]</b></sup>",
          "0.69<br><sup><b>[33.33, 44.44]</b></sup>",
          "0.77<br><sup><b>[55.56, 66.67, 77.78]</b></sup>",
          "0.85<br><sup><b>[88.89]</b></sup>",
          "1<br><sup><b>[100.0]</b></sup>"
         ],
         "tickvals": [
          0,
          1,
          2,
          3,
          4,
          5
         ],
         "title": {
          "standoff": 0,
          "text": "<b>Rating</b> (value+percentile)"
         }
        },
        "xaxis3": {
         "anchor": "y3",
         "domain": [
          0,
          0.06533333333333333
         ],
         "showgrid": false,
         "showticklabels": false
        },
        "xaxis4": {
         "anchor": "y4",
         "domain": [
          0.08533333333333333,
          0.9999999999999999
         ],
         "showgrid": false,
         "showticklabels": false
        },
        "yaxis": {
         "anchor": "x",
         "domain": [
          0.5,
          1
         ]
        },
        "yaxis2": {
         "anchor": "x2",
         "domain": [
          0.89,
          0.95
         ],
         "showgrid": false,
         "showticklabels": false
        },
        "yaxis3": {
         "anchor": "x3",
         "domain": [
          2.220446049250313e-16,
          0.8400000000000001
         ],
         "ticktext": [
          "0.01<br><sup><b>[0.0]</b></sup>",
          "0.03<br><sup><b>[11.11]</b></sup>",
          "0.04<br><sup><b>[22.22]</b></sup>",
          "0.04<br><sup><b>[33.33]</b></sup>",
          "0.04<br><sup><b>[44.44]</b></sup>",
          "0.05<br><sup><b>[55.56]</b></sup>",
          "0.06<br><sup><b>[66.67]</b></sup>",
          "0.08<br><sup><b>[77.78]</b></sup>",
          "0.15<br><sup><b>[88.89]</b></sup>",
          "0.97<br><sup><b>[100.0]</b></sup>"
         ],
         "tickvals": [
          0,
          1,
          2,
          3,
          4,
          5,
          6,
          7,
          8,
          9
         ],
         "title": {
          "standoff": 0,
          "text": "<b>Price per 100g</b> (value+percentile)"
         }
        },
        "yaxis4": {
         "anchor": "x4",
         "domain": [
          2.220446049250313e-16,
          0.8400000000000001
         ],
         "showgrid": false,
         "showticklabels": false
        }
       }
      }
     },
     "metadata": {},
     "output_type": "display_data"
    }
   ],
   "source": [
    "# Similar to previous PDP plot.\n",
    "# However, use pdp_interact instead of pdp_isolate and pdp_interact_plot instead of pdp_isolate_plot\n",
    "\n",
    "# plot PDP for the two features\n",
    "features_to_plot = ['rating', '100g_USD']\n",
    "\n",
    "pdp_goal_distance = pdp.PDPInteract(model=rf_model, df=val_x, model_features=feature_names, features=features_to_plot, feature_names=[\"Rating\", \"Price per 100g\"])\n",
    "\n",
    "fig, axes = pdp_goal_distance.plot(\n",
    "    plot_type=\"grid\",\n",
    "    plot_pdp=True,\n",
    "    to_bins=True,\n",
    "    show_percentile=True,\n",
    "    which_classes=None,\n",
    "    figsize=None,\n",
    "    dpi=300,\n",
    "    ncols=2,\n",
    "    plot_params=None,\n",
    "    engine='plotly',\n",
    "    template='plotly_white'\n",
    ")\n",
    "fig.show()"
   ]
  },
  {
   "cell_type": "markdown",
   "metadata": {},
   "source": [
    "Looking at the 2D plot the most likely combination for an coffee bean to be from ethiopia is a rating of 95 and a mid ranged  price. Furthermore it seems very unliekly that a coffee is from ethiopia if the rating is below 90.\n",
    "We can say that rating is a good indicator for classification of ethopian coffee."
   ]
  },
  {
   "cell_type": "markdown",
   "metadata": {},
   "source": [
    "# <font color=\"ce33ff\">PART II (Individual Conditional Expectation)</font>"
   ]
  },
  {
   "cell_type": "code",
   "execution_count": 78,
   "metadata": {},
   "outputs": [
    {
     "name": "stdout",
     "output_type": "stream",
     "text": [
      "      100g_USD    rating\n",
      "0     0.034290  0.615385\n",
      "1     0.030429  0.615385\n",
      "2     0.035425  0.769231\n",
      "3     0.037620  0.692308\n",
      "4     0.028764  0.692308\n",
      "...        ...       ...\n",
      "1241  0.034290  0.615385\n",
      "1242  0.020967  0.692308\n",
      "1243  0.020967  0.692308\n",
      "1244  0.034290  0.692308\n",
      "1245  0.043222  0.769231\n",
      "\n",
      "[1246 rows x 2 columns]\n"
     ]
    },
    {
     "data": {
      "text/plain": [
       "<sklearn.inspection._plot.partial_dependence.PartialDependenceDisplay at 0x2b5c29a00>"
      ]
     },
     "execution_count": 78,
     "metadata": {},
     "output_type": "execute_result"
    },
    {
     "data": {
      "image/png": "[encoded data removed]",
      "text/plain": [
       "<Figure size 640x480 with 3 Axes>"
      ]
     },
     "metadata": {},
     "output_type": "display_data"
    }
   ],
   "source": [
    "import numpy as np\n",
    "import pandas as pd\n",
    "\n",
    "from sklearn.datasets import make_hastie_10_2\n",
    "from sklearn.ensemble import GradientBoostingClassifier\n",
    "\n",
    "# make sure you have installed scikit-learn of version > 1.0 \n",
    "# since the method from_estimator() is not available in previous versions\n",
    "from sklearn.inspection import PartialDependenceDisplay\n",
    "\n",
    "print(x)\n",
    "\n",
    "clf = GradientBoostingClassifier(n_estimators=100, learning_rate=1.0, max_depth=1, random_state=0).fit(x, y)\n",
    "features = [0, 1] #features x and y\n",
    "\n",
    "PartialDependenceDisplay.from_estimator(clf, x, features, kind='both')"
   ]
  },
  {
   "cell_type": "markdown",
   "metadata": {},
   "source": [
    "It seems like we do not have many samples for the higher end of the price range. This is why the model is not able to learn much from the higher end of the price range.\n",
    "Looking at the rating feature we have no samples for <90.\n",
    "\n",
    "Still we can see that the model is able to learn that the higher the rating the more likely it is that the coffee is from ethiopia.\n",
    "The curves are very similar to one another showing no significant difference between the individual samples."
   ]
  }
 ],
 "metadata": {
  "colab": {
   "collapsed_sections": [],
   "name": "lime_image.ipynb",
   "provenance": []
  },
  "kernelspec": {
   "display_name": "Python 3 (ipykernel)",
   "language": "python",
   "name": "python3"
  },
  "language_info": {
   "codemirror_mode": {
    "name": "ipython",
    "version": 3
   },
   "file_extension": ".py",
   "mimetype": "text/x-python",
   "name": "python",
   "nbconvert_exporter": "python",
   "pygments_lexer": "ipython3",
   "version": "3.9.6"
  }
 },
 "nbformat": 4,
 "nbformat_minor": 4
}
